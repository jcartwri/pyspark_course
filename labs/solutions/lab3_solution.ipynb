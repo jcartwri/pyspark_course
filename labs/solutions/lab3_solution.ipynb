{
 "cells": [
  {
   "cell_type": "code",
   "execution_count": 1,
   "metadata": {},
   "outputs": [
    {
     "name": "stdout",
     "output_type": "stream",
     "text": [
      "Welcome to\n",
      "      ____              __\n",
      "     / __/__  ___ _____/ /__\n",
      "    _\\ \\/ _ \\/ _ `/ __/  '_/\n",
      "   /__ / .__/\\_,_/_/ /_/\\_\\   version 2.4.5\n",
      "      /_/\n",
      "\n",
      "Using Python version 3.6.5 (default, Apr 29 2018 16:14:56)\n",
      "SparkSession available as 'spark'.\n"
     ]
    }
   ],
   "source": [
    "import os\n",
    "import sys\n",
    "os.environ[\"PYSPARK_SUBMIT_ARGS\"]='--num-executors 5 --executor-memory 5g pyspark-shell'\n",
    "#os.environ[\"PYSPARK_SUBMIT_ARGS\"]='pyspark-shell'\n",
    "os.environ[\"PYSPARK_PYTHON\"]='/opt/anaconda/envs/bd9/bin/python'\n",
    "os.environ[\"SPARK_HOME\"]='/usr/hdp/current/spark2-client'\n",
    "\n",
    "spark_home = os.environ.get('SPARK_HOME', None)\n",
    "if not spark_home:\n",
    "    raise ValueError('SPARK_HOME environment variable is not set')\n",
    "sys.path.insert(0, os.path.join(spark_home, 'python'))\n",
    "sys.path.insert(0, os.path.join(spark_home, 'python/lib/py4j-0.10.7-src.zip'))\n",
    "exec(open(os.path.join(spark_home, 'python/pyspark/shell.py')).read())"
   ]
  },
  {
   "cell_type": "code",
   "execution_count": 2,
   "metadata": {},
   "outputs": [],
   "source": [
    "import pandas as pd\n",
    "import numpy as np"
   ]
  },
  {
   "cell_type": "code",
   "execution_count": 3,
   "metadata": {},
   "outputs": [],
   "source": [
    "from pyspark.sql.types import StructType, StructField, IntegerType, DoubleType"
   ]
  },
  {
   "cell_type": "markdown",
   "metadata": {},
   "source": [
    "# Исследуем данные"
   ]
  },
  {
   "cell_type": "code",
   "execution_count": 4,
   "metadata": {},
   "outputs": [],
   "source": [
    "# USERS PURCHASES\n",
    "\n",
    "schema = StructType([StructField(\"user_id\", IntegerType()),\n",
    "                    StructField(\"item_id\", IntegerType()),\n",
    "                    StructField(\"purchase\", DoubleType())])\n",
    "\n",
    "df_train = spark.read.csv('/labs/laba03/lab10_train.csv', header= True, schema=schema)\n",
    "test = spark.read.csv('/labs/laba03/lab10_test.csv', header= True, schema=schema)\n",
    "\n",
    "df_views = spark.read.csv('/labs/laba03/lab10_views_programmes.csv', header= True)\n",
    "df_items = spark.read.csv('/labs/laba03/lab10_items.csv', header= True, sep= '\\t')"
   ]
  },
  {
   "cell_type": "code",
   "execution_count": 5,
   "metadata": {},
   "outputs": [
    {
     "name": "stdout",
     "output_type": "stream",
     "text": [
      "Num partitions  5\n",
      "Row count  5032624\n",
      "+-------+-------+--------+\n",
      "|user_id|item_id|purchase|\n",
      "+-------+-------+--------+\n",
      "|   1654|  74107|     0.0|\n",
      "|   1654|  89249|     0.0|\n",
      "|   1654|  99982|     0.0|\n",
      "|   1654|  89901|     0.0|\n",
      "|   1654| 100504|     0.0|\n",
      "+-------+-------+--------+\n",
      "only showing top 5 rows\n",
      "\n"
     ]
    }
   ],
   "source": [
    "print('Num partitions ',df_train.rdd.getNumPartitions())\n",
    "print('Row count ', df_train.count())\n",
    "df_train.show(5)"
   ]
  },
  {
   "cell_type": "code",
   "execution_count": 9,
   "metadata": {},
   "outputs": [
    {
     "name": "stdout",
     "output_type": "stream",
     "text": [
      "Num partitions  5\n",
      "Row count  2156840\n",
      "+-------+-------+--------+\n",
      "|user_id|item_id|purchase|\n",
      "+-------+-------+--------+\n",
      "|   1654|  94814|    null|\n",
      "|   1654|  93629|    null|\n",
      "+-------+-------+--------+\n",
      "only showing top 2 rows\n",
      "\n"
     ]
    }
   ],
   "source": [
    "print('Num partitions ', test.rdd.getNumPartitions())\n",
    "print('Row count ', test.count())\n",
    "test.show(2)"
   ]
  },
  {
   "cell_type": "code",
   "execution_count": 10,
   "metadata": {},
   "outputs": [
    {
     "name": "stdout",
     "output_type": "stream",
     "text": [
      "Num partitions  7\n",
      "Row count  20845607\n",
      "+-------+-------+----------+----------+---------+\n",
      "|user_id|item_id|  ts_start|    ts_end|item_type|\n",
      "+-------+-------+----------+----------+---------+\n",
      "|      0|7101053|1491409931|1491411600|     live|\n",
      "|      0|7101054|1491412481|1491451571|     live|\n",
      "+-------+-------+----------+----------+---------+\n",
      "only showing top 2 rows\n",
      "\n"
     ]
    }
   ],
   "source": [
    "print('Num partitions ', df_views.rdd.getNumPartitions())\n",
    "print('Row count ', df_views.count())\n",
    "df_views.show(2)"
   ]
  },
  {
   "cell_type": "code",
   "execution_count": 11,
   "metadata": {},
   "outputs": [
    {
     "name": "stdout",
     "output_type": "stream",
     "text": [
      "Num partitions  5\n",
      "Row count  635568\n",
      "-RECORD 0--------------------------------------------------------------------\n",
      " item_id                     | 65667                                         \n",
      " channel_id                  | null                                          \n",
      " datetime_availability_start | 1970-01-01T00:00:00Z                          \n",
      " datetime_availability_stop  | 2018-01-01T00:00:00Z                          \n",
      " datetime_show_start         | null                                          \n",
      " datetime_show_stop          | null                                          \n",
      " content_type                | 1                                             \n",
      " title                       | на пробах только девушки (all girl auditions) \n",
      " year                        | 2013.0                                        \n",
      " genres                      | Эротика                                       \n",
      " region_id                   | null                                          \n",
      "only showing top 1 row\n",
      "\n"
     ]
    }
   ],
   "source": [
    "print('Num partitions ', df_items.rdd.getNumPartitions())\n",
    "print('Row count ', df_items.count())\n",
    "df_items.show(1, vertical=True, truncate=False)"
   ]
  },
  {
   "cell_type": "code",
   "execution_count": 12,
   "metadata": {},
   "outputs": [],
   "source": [
    "spark.conf.set(\"spark.sql.shuffle.partitions\", 200)"
   ]
  },
  {
   "cell_type": "markdown",
   "metadata": {},
   "source": [
    "# Посмотрим какое кол-во человек из обучающей выборки делали покупки"
   ]
  },
  {
   "cell_type": "code",
   "execution_count": 13,
   "metadata": {},
   "outputs": [
    {
     "data": {
      "text/plain": [
       "1941"
      ]
     },
     "execution_count": 13,
     "metadata": {},
     "output_type": "execute_result"
    }
   ],
   "source": [
    "df_train.select('user_id').distinct().count()"
   ]
  },
  {
   "cell_type": "code",
   "execution_count": 14,
   "metadata": {},
   "outputs": [
    {
     "data": {
      "text/plain": [
       "1675"
      ]
     },
     "execution_count": 14,
     "metadata": {},
     "output_type": "execute_result"
    }
   ],
   "source": [
    "df_train[df_train['purchase'] == 1].select('user_id').distinct().count()"
   ]
  },
  {
   "cell_type": "markdown",
   "metadata": {},
   "source": [
    "### Посмотрим покупки одного пользователя"
   ]
  },
  {
   "cell_type": "code",
   "execution_count": 15,
   "metadata": {},
   "outputs": [
    {
     "name": "stdout",
     "output_type": "stream",
     "text": [
      "+-------+-------+--------+\n",
      "|user_id|item_id|purchase|\n",
      "+-------+-------+--------+\n",
      "|   1654|   9897|     1.0|\n",
      "|   1654|   7394|     1.0|\n",
      "|   1654|   9064|     1.0|\n",
      "|   1654|  73216|     1.0|\n",
      "|   1654|  88816|     1.0|\n",
      "+-------+-------+--------+\n",
      "\n"
     ]
    }
   ],
   "source": [
    "df_train[(df_train['user_id'] == 1654) & \n",
    "         (df_train['purchase'] == 1)].show(5)"
   ]
  },
  {
   "cell_type": "code",
   "execution_count": 16,
   "metadata": {},
   "outputs": [
    {
     "name": "stdout",
     "output_type": "stream",
     "text": [
      "-RECORD 0--------------------------------------------------------------------\n",
      " item_id                     | 7394                                          \n",
      " channel_id                  | null                                          \n",
      " datetime_availability_start | 1970-01-01T00:00:00Z                          \n",
      " datetime_availability_stop  | 2099-12-31T21:00:00Z                          \n",
      " datetime_show_start         | null                                          \n",
      " datetime_show_stop          | null                                          \n",
      " content_type                | 1                                             \n",
      " title                       | лиса и заяц                                   \n",
      " year                        | 1973.0                                        \n",
      " genres                      | Мультфильмы,Союзмультфильм,Наши               \n",
      " region_id                   | null                                          \n",
      "-RECORD 1--------------------------------------------------------------------\n",
      " item_id                     | 9064                                          \n",
      " channel_id                  | null                                          \n",
      " datetime_availability_start | 1970-01-01T00:00:00Z                          \n",
      " datetime_availability_stop  | 2018-01-01T00:00:00Z                          \n",
      " datetime_show_start         | null                                          \n",
      " datetime_show_stop          | null                                          \n",
      " content_type                | 1                                             \n",
      " title                       | настоящий детектив                            \n",
      " year                        | 2014.0                                        \n",
      " genres                      | null                                          \n",
      " region_id                   | null                                          \n",
      "-RECORD 2--------------------------------------------------------------------\n",
      " item_id                     | 9897                                          \n",
      " channel_id                  | null                                          \n",
      " datetime_availability_start | 1970-01-01T00:00:00Z                          \n",
      " datetime_availability_stop  | 2017-08-21T00:00:00Z                          \n",
      " datetime_show_start         | null                                          \n",
      " datetime_show_stop          | null                                          \n",
      " content_type                | 1                                             \n",
      " title                       | вместе                                        \n",
      " year                        | 2015.0                                        \n",
      " genres                      | null                                          \n",
      " region_id                   | null                                          \n",
      "-RECORD 3--------------------------------------------------------------------\n",
      " item_id                     | 73216                                         \n",
      " channel_id                  | null                                          \n",
      " datetime_availability_start | 1970-01-01T00:00:00Z                          \n",
      " datetime_availability_stop  | 2099-12-31T21:00:00Z                          \n",
      " datetime_show_start         | null                                          \n",
      " datetime_show_stop          | null                                          \n",
      " content_type                | 1                                             \n",
      " title                       | грузовичок лева                               \n",
      " year                        | 2014.0                                        \n",
      " genres                      | Наши,Для самых маленьких                      \n",
      " region_id                   | null                                          \n",
      "-RECORD 4--------------------------------------------------------------------\n",
      " item_id                     | 88816                                         \n",
      " channel_id                  | null                                          \n",
      " datetime_availability_start | 1970-01-01T00:00:00Z                          \n",
      " datetime_availability_stop  | 2099-12-31T21:00:00Z                          \n",
      " datetime_show_start         | null                                          \n",
      " datetime_show_stop          | null                                          \n",
      " content_type                | 1                                             \n",
      " title                       | альдабра. путешествие к таинственному острову \n",
      " year                        | 2016.0                                        \n",
      " genres                      | Приключения,Документальные,Зарубежные         \n",
      " region_id                   | null                                          \n",
      "\n"
     ]
    }
   ],
   "source": [
    "df_items[df_items['item_id'].isin([9897, 7394, 9064, 73216, 88816])]\\\n",
    "        .show(5, vertical=True, truncate=False)"
   ]
  },
  {
   "cell_type": "markdown",
   "metadata": {},
   "source": [
    "# Посмотрим, как распределены между собой метки классов"
   ]
  },
  {
   "cell_type": "code",
   "execution_count": 17,
   "metadata": {},
   "outputs": [
    {
     "data": {
      "text/plain": [
       "[Row(purchase=0.0, count=5021720), Row(purchase=1.0, count=10904)]"
      ]
     },
     "execution_count": 17,
     "metadata": {},
     "output_type": "execute_result"
    }
   ],
   "source": [
    "df_train.groupBy(\"purchase\").count().collect()"
   ]
  },
  {
   "cell_type": "markdown",
   "metadata": {},
   "source": [
    "## Train-Validation Split"
   ]
  },
  {
   "cell_type": "code",
   "execution_count": 18,
   "metadata": {},
   "outputs": [],
   "source": [
    "train = df_train.sampleBy(\"purchase\", fractions={0: 0.8, 1: 0.8}, seed=5757)\n",
    "\n",
    "valid = df_train.join(train, on=[\"user_id\", \"item_id\"], how=\"leftanti\")\n",
    "\n",
    "test = spark.read.csv('/labs/laba03/lab10_test.csv', header= True, schema=schema)"
   ]
  },
  {
   "cell_type": "code",
   "execution_count": 19,
   "metadata": {},
   "outputs": [
    {
     "name": "stdout",
     "output_type": "stream",
     "text": [
      "+-------+-------+--------+\n",
      "|user_id|item_id|purchase|\n",
      "+-------+-------+--------+\n",
      "|   1654|  74107|     0.0|\n",
      "|   1654|  89249|     0.0|\n",
      "|   1654|  99982|     0.0|\n",
      "|   1654|  89901|     0.0|\n",
      "|   1654|  84350|     0.0|\n",
      "+-------+-------+--------+\n",
      "only showing top 5 rows\n",
      "\n"
     ]
    }
   ],
   "source": [
    "train.show(5)"
   ]
  },
  {
   "cell_type": "code",
   "execution_count": 20,
   "metadata": {},
   "outputs": [
    {
     "data": {
      "text/plain": [
       "4026087"
      ]
     },
     "execution_count": 20,
     "metadata": {},
     "output_type": "execute_result"
    }
   ],
   "source": [
    "train.count()"
   ]
  },
  {
   "cell_type": "code",
   "execution_count": 21,
   "metadata": {},
   "outputs": [
    {
     "name": "stdout",
     "output_type": "stream",
     "text": [
      "+-------+-------+--------+\n",
      "|user_id|item_id|purchase|\n",
      "+-------+-------+--------+\n",
      "|   1654|   7679|     0.0|\n",
      "|   1654|  11060|     0.0|\n",
      "|   1654|  67318|     0.0|\n",
      "|   1654|  72891|     0.0|\n",
      "|   1654|  87940|     0.0|\n",
      "+-------+-------+--------+\n",
      "only showing top 5 rows\n",
      "\n"
     ]
    }
   ],
   "source": [
    "valid.show(5)"
   ]
  },
  {
   "cell_type": "markdown",
   "metadata": {},
   "source": [
    "# Создадим фичи, которые отражают склонность к покупке пользователя и \"покупаемость\"  item'а"
   ]
  },
  {
   "cell_type": "code",
   "execution_count": 22,
   "metadata": {},
   "outputs": [
    {
     "name": "stdout",
     "output_type": "stream",
     "text": [
      "+--------------+-------+\n",
      "|user_purchases|user_id|\n",
      "+--------------+-------+\n",
      "|           1.0| 875232|\n",
      "|           3.0| 878742|\n",
      "+--------------+-------+\n",
      "only showing top 2 rows\n",
      "\n"
     ]
    }
   ],
   "source": [
    "from pyspark.sql.functions import col\n",
    "\n",
    "train_purchases = train.groupBy('user_id')\\\n",
    "                .sum().select(col(\"sum(purchase)\").alias(\"user_purchases\"), col(\"user_id\")).cache()\n",
    "\n",
    "train_purchases.show(2)"
   ]
  },
  {
   "cell_type": "code",
   "execution_count": 23,
   "metadata": {},
   "outputs": [
    {
     "name": "stdout",
     "output_type": "stream",
     "text": [
      "+--------------+-------+\n",
      "|item_purchases|item_id|\n",
      "+--------------+-------+\n",
      "|           1.0| 100483|\n",
      "|           1.0|  88930|\n",
      "+--------------+-------+\n",
      "only showing top 2 rows\n",
      "\n"
     ]
    }
   ],
   "source": [
    "item_purchases = train.groupBy('item_id')\\\n",
    "                        .sum().select(col(\"sum(purchase)\").alias(\"item_purchases\"), col(\"item_id\")).cache()\n",
    "\n",
    "item_purchases.show(2)"
   ]
  },
  {
   "cell_type": "code",
   "execution_count": 24,
   "metadata": {},
   "outputs": [],
   "source": [
    "# Сколько было покупок у пользователя и сколько раз покупали item?\n",
    "train = train.join(train_purchases, on='user_id', how='left')\n",
    "valid = valid.join(train_purchases, on='user_id', how='left')\n",
    "test = test.join(train_purchases, on='user_id', how='left')\n",
    "\n",
    "train = train.join(item_purchases, on='item_id', how='left')\n",
    "valid = valid.join(item_purchases, on='item_id', how='left')\n",
    "test = test.join(item_purchases, on='item_id', how='left')"
   ]
  },
  {
   "cell_type": "code",
   "execution_count": 25,
   "metadata": {},
   "outputs": [
    {
     "name": "stdout",
     "output_type": "stream",
     "text": [
      "+-------------+-------+\n",
      "|user_attempts|user_id|\n",
      "+-------------+-------+\n",
      "|         2128| 875232|\n",
      "|         2030| 878742|\n",
      "+-------------+-------+\n",
      "only showing top 2 rows\n",
      "\n"
     ]
    }
   ],
   "source": [
    "train_user_attempts = train.groupBy('user_id').count().select(col(\"count\").alias(\"user_attempts\"), col(\"user_id\"))\\\n",
    "                            .cache()\n",
    "\n",
    "train_item_attempts = train.groupBy('item_id').count().select(col(\"count\").alias(\"item_attempts\"), col(\"item_id\"))\\\n",
    "                            .cache()\n",
    "\n",
    "train_user_attempts.show(2)"
   ]
  },
  {
   "cell_type": "code",
   "execution_count": 26,
   "metadata": {},
   "outputs": [
    {
     "name": "stdout",
     "output_type": "stream",
     "text": [
      "+-------------+-------+\n",
      "|item_attempts|item_id|\n",
      "+-------------+-------+\n",
      "|         1074| 100191|\n",
      "|         1079|  81863|\n",
      "+-------------+-------+\n",
      "only showing top 2 rows\n",
      "\n"
     ]
    }
   ],
   "source": [
    "train_item_attempts.show(2)"
   ]
  },
  {
   "cell_type": "code",
   "execution_count": 27,
   "metadata": {},
   "outputs": [],
   "source": [
    "train = train.join(train_user_attempts, on='user_id', how='left')\n",
    "valid = valid.join(train_user_attempts, on='user_id', how='left')\n",
    "test = test.join(train_user_attempts, on='user_id', how='left')\n",
    "\n",
    "train = train.join(train_item_attempts, on='item_id', how='left')\n",
    "valid = valid.join(train_item_attempts, on='item_id', how='left')\n",
    "test = test.join(train_item_attempts, on='item_id', how='left')"
   ]
  },
  {
   "cell_type": "code",
   "execution_count": 28,
   "metadata": {},
   "outputs": [
    {
     "name": "stdout",
     "output_type": "stream",
     "text": [
      "+-------+-------+--------+--------------+--------------+-------------+-------------+\n",
      "|item_id|user_id|purchase|user_purchases|item_purchases|user_attempts|item_attempts|\n",
      "+-------+-------+--------+--------------+--------------+-------------+-------------+\n",
      "|  94814|   1654|    null|           4.0|           1.0|         2014|         1096|\n",
      "|  93629|   1654|    null|           4.0|           4.0|         2014|         1098|\n",
      "+-------+-------+--------+--------------+--------------+-------------+-------------+\n",
      "only showing top 2 rows\n",
      "\n"
     ]
    }
   ],
   "source": [
    "test.show(2)"
   ]
  },
  {
   "cell_type": "code",
   "execution_count": 29,
   "metadata": {},
   "outputs": [],
   "source": [
    "train = train.withColumn('user_addict', col('user_purchases') / col('user_attempts'))\n",
    "valid = valid.withColumn('user_addict', col('user_purchases') / col('user_attempts'))\n",
    "test = test.withColumn('user_addict', col('user_purchases') / col('user_attempts'))"
   ]
  },
  {
   "cell_type": "code",
   "execution_count": 30,
   "metadata": {},
   "outputs": [],
   "source": [
    "train = train.withColumn('item_addict', col('item_purchases') / col('item_attempts'))\n",
    "valid = valid.withColumn('item_addict', col('item_purchases') / col('item_attempts'))\n",
    "test = test.withColumn('item_addict', col('item_purchases') / col('item_attempts'))"
   ]
  },
  {
   "cell_type": "code",
   "execution_count": 31,
   "metadata": {},
   "outputs": [
    {
     "name": "stdout",
     "output_type": "stream",
     "text": [
      "+-------+-------+--------+--------------+--------------+-------------+-------------+--------------------+--------------------+\n",
      "|item_id|user_id|purchase|user_purchases|item_purchases|user_attempts|item_attempts|         user_addict|         item_addict|\n",
      "+-------+-------+--------+--------------+--------------+-------------+-------------+--------------------+--------------------+\n",
      "|  74107|   1654|     0.0|           4.0|           1.0|         2014|         1073|0.001986097318768...|9.319664492078285E-4|\n",
      "|  89249|   1654|     0.0|           4.0|           1.0|         2014|         1087|0.001986097318768...|9.199632014719411E-4|\n",
      "+-------+-------+--------+--------------+--------------+-------------+-------------+--------------------+--------------------+\n",
      "only showing top 2 rows\n",
      "\n"
     ]
    }
   ],
   "source": [
    "train.show(2)"
   ]
  },
  {
   "cell_type": "code",
   "execution_count": 32,
   "metadata": {},
   "outputs": [],
   "source": [
    "# На всякий случай заполняем пропуски\n",
    "test = test.na.fill(0)\n",
    "train = train.na.fill(0)\n",
    "valid = valid.na.fill(0)"
   ]
  },
  {
   "cell_type": "code",
   "execution_count": 33,
   "metadata": {},
   "outputs": [
    {
     "data": {
      "text/plain": [
       "DataFrame[item_attempts: bigint, item_id: int]"
      ]
     },
     "execution_count": 33,
     "metadata": {},
     "output_type": "execute_result"
    }
   ],
   "source": [
    "train_purchases.unpersist()\n",
    "item_purchases.unpersist()\n",
    "train_user_attempts.unpersist()\n",
    "train_item_attempts.unpersist()"
   ]
  },
  {
   "cell_type": "code",
   "execution_count": 35,
   "metadata": {},
   "outputs": [],
   "source": [
    "from pyspark.ml.feature import VectorAssembler\n",
    "# Выбираю колонки, которые войдут в features для GBT\n",
    "cols = ['item_purchases', 'user_purchases', 'user_addict', 'item_addict']\n",
    "assembler = VectorAssembler(inputCols=cols, outputCol=\"features\")\n",
    "\n",
    "train_data = assembler.transform(train).cache()\n",
    "valid_data = assembler.transform(valid)\n",
    "test_data = assembler.transform(test)"
   ]
  },
  {
   "cell_type": "code",
   "execution_count": 40,
   "metadata": {},
   "outputs": [],
   "source": [
    "from pyspark.ml import Pipeline\n",
    "from pyspark.ml.classification import GBTClassifier\n",
    "\n",
    "gbt = GBTClassifier(labelCol=\"purchase\")\n",
    "\n",
    "pipeline = Pipeline(stages=[\n",
    "    gbt\n",
    "])"
   ]
  },
  {
   "cell_type": "code",
   "execution_count": null,
   "metadata": {},
   "outputs": [],
   "source": [
    "from pyspark.ml.evaluation import BinaryClassificationEvaluator\n",
    "\n",
    "evaluator = BinaryClassificationEvaluator(labelCol=\"purchase\", metricName='areaUnderROC')\n",
    "# score = evaluator.evaluate(predictions_valid)\n",
    "# score"
   ]
  },
  {
   "cell_type": "code",
   "execution_count": 41,
   "metadata": {},
   "outputs": [],
   "source": [
    "from pyspark.ml.tuning import CrossValidator, ParamGridBuilder"
   ]
  },
  {
   "cell_type": "code",
   "execution_count": 42,
   "metadata": {},
   "outputs": [],
   "source": [
    "paramGrid = ParamGridBuilder().addGrid(gbt.maxDepth, [3, 4])\\\n",
    "                              .addGrid(gbt.minInstancesPerNode, [2, 3])\\\n",
    "                              .addGrid(gbt.maxBins, [50, 55])\\\n",
    "                              .build()"
   ]
  },
  {
   "cell_type": "code",
   "execution_count": 43,
   "metadata": {},
   "outputs": [],
   "source": [
    "crossval = CrossValidator(estimator=pipeline, estimatorParamMaps=paramGrid,\n",
    "                              evaluator=evaluator, numFolds=3, parallelism=3)"
   ]
  },
  {
   "cell_type": "code",
   "execution_count": 45,
   "metadata": {},
   "outputs": [],
   "source": [
    "cv_model = crossval.fit(train_data)"
   ]
  },
  {
   "cell_type": "code",
   "execution_count": 46,
   "metadata": {},
   "outputs": [
    {
     "data": {
      "text/plain": [
       "[0.9192005117571451,\n",
       " 0.9180166903128033,\n",
       " 0.9192005117571451,\n",
       " 0.9180166903128033,\n",
       " 0.9335605971624095,\n",
       " 0.932569587591231,\n",
       " 0.9335605971624097,\n",
       " 0.9324850247708811]"
      ]
     },
     "execution_count": 46,
     "metadata": {},
     "output_type": "execute_result"
    }
   ],
   "source": [
    "cv_model.avgMetrics"
   ]
  },
  {
   "cell_type": "code",
   "execution_count": 57,
   "metadata": {},
   "outputs": [
    {
     "data": {
      "text/plain": [
       "{Param(parent='GBTClassifier_577b570e32d7', name='maxDepth', doc='Maximum depth of the tree. (>= 0) E.g., depth 0 means 1 leaf node; depth 1 means 1 internal node + 2 leaf nodes.'): 4,\n",
       " Param(parent='GBTClassifier_577b570e32d7', name='minInstancesPerNode', doc='Minimum number of instances each child must have after split. If a split causes the left or right child to have fewer than minInstancesPerNode, the split will be discarded as invalid. Should be >= 1.'): 3,\n",
       " Param(parent='GBTClassifier_577b570e32d7', name='maxBins', doc='Max number of bins for discretizing continuous features.  Must be >=2 and >= number of categories for any categorical feature.'): 50}"
      ]
     },
     "execution_count": 57,
     "metadata": {},
     "output_type": "execute_result"
    }
   ],
   "source": [
    "cv_model.getEstimatorParamMaps()[np.argmax(cv_model.avgMetrics)]"
   ]
  },
  {
   "cell_type": "code",
   "execution_count": 50,
   "metadata": {},
   "outputs": [],
   "source": [
    "predictions_valid = cv_model.transform(valid_data)"
   ]
  },
  {
   "cell_type": "code",
   "execution_count": 51,
   "metadata": {},
   "outputs": [
    {
     "data": {
      "text/plain": [
       "0.8863325492598007"
      ]
     },
     "execution_count": 51,
     "metadata": {},
     "output_type": "execute_result"
    }
   ],
   "source": [
    "evaluator.evaluate(predictions_valid)"
   ]
  },
  {
   "cell_type": "code",
   "execution_count": 58,
   "metadata": {},
   "outputs": [
    {
     "data": {
      "text/plain": [
       "DataFrame[item_id: int, user_id: int, purchase: double, user_purchases: double, item_purchases: double, user_attempts: bigint, item_attempts: bigint, user_addict: double, item_addict: double, features: vector]"
      ]
     },
     "execution_count": 58,
     "metadata": {},
     "output_type": "execute_result"
    }
   ],
   "source": [
    "train_data.unpersist()"
   ]
  },
  {
   "cell_type": "code",
   "execution_count": 59,
   "metadata": {},
   "outputs": [],
   "source": [
    "from pyspark.ml.classification import GBTClassifier\n",
    "\n",
    "gbt = GBTClassifier(labelCol=\"purchase\", maxDepth=4, minInstancesPerNode=3, maxBins=50)\n",
    "\n",
    "gbt_model = gbt.fit(train_data)\n",
    "predictions_valid = gbt_model.transform(valid_data)"
   ]
  },
  {
   "cell_type": "code",
   "execution_count": 60,
   "metadata": {},
   "outputs": [
    {
     "data": {
      "text/plain": [
       "SparseVector(4, {0: 0.3831, 1: 0.3993, 2: 0.0922, 3: 0.1253})"
      ]
     },
     "execution_count": 60,
     "metadata": {},
     "output_type": "execute_result"
    }
   ],
   "source": [
    "gbt_model.featureImportances"
   ]
  },
  {
   "cell_type": "code",
   "execution_count": 61,
   "metadata": {},
   "outputs": [
    {
     "data": {
      "text/plain": [
       "0.8865449000585436"
      ]
     },
     "execution_count": 61,
     "metadata": {},
     "output_type": "execute_result"
    }
   ],
   "source": [
    "from pyspark.ml.evaluation import BinaryClassificationEvaluator\n",
    "\n",
    "evaluator = BinaryClassificationEvaluator(labelCol=\"purchase\", metricName='areaUnderROC')\n",
    "score = evaluator.evaluate(predictions_valid)\n",
    "score"
   ]
  },
  {
   "cell_type": "markdown",
   "metadata": {},
   "source": [
    "## Создадим фичу, используя жанры"
   ]
  },
  {
   "cell_type": "code",
   "execution_count": 62,
   "metadata": {},
   "outputs": [
    {
     "name": "stdout",
     "output_type": "stream",
     "text": [
      "-RECORD 0-------------------------------------------------------------------------------------------------------------\n",
      " item_id                     | 65667                                                                                  \n",
      " channel_id                  | null                                                                                   \n",
      " datetime_availability_start | 1970-01-01T00:00:00Z                                                                   \n",
      " datetime_availability_stop  | 2018-01-01T00:00:00Z                                                                   \n",
      " datetime_show_start         | null                                                                                   \n",
      " datetime_show_stop          | null                                                                                   \n",
      " content_type                | 1                                                                                      \n",
      " title                       | на пробах только девушки (all girl auditions)                                          \n",
      " year                        | 2013.0                                                                                 \n",
      " genres                      | Эротика                                                                                \n",
      " region_id                   | null                                                                                   \n",
      "-RECORD 1-------------------------------------------------------------------------------------------------------------\n",
      " item_id                     | 65669                                                                                  \n",
      " channel_id                  | null                                                                                   \n",
      " datetime_availability_start | 1970-01-01T00:00:00Z                                                                   \n",
      " datetime_availability_stop  | 2018-01-01T00:00:00Z                                                                   \n",
      " datetime_show_start         | null                                                                                   \n",
      " datetime_show_stop          | null                                                                                   \n",
      " content_type                | 1                                                                                      \n",
      " title                       | скуби ду: эротическая пародия (scooby doo: a xxx parody)                               \n",
      " year                        | 2011.0                                                                                 \n",
      " genres                      | Эротика                                                                                \n",
      " region_id                   | null                                                                                   \n",
      "-RECORD 2-------------------------------------------------------------------------------------------------------------\n",
      " item_id                     | 65668                                                                                  \n",
      " channel_id                  | null                                                                                   \n",
      " datetime_availability_start | 1970-01-01T00:00:00Z                                                                   \n",
      " datetime_availability_stop  | 2018-01-01T00:00:00Z                                                                   \n",
      " datetime_show_start         | null                                                                                   \n",
      " datetime_show_stop          | null                                                                                   \n",
      " content_type                | 1                                                                                      \n",
      " title                       | горячие девочки для горячих девочек (hot babes 4 hot babes)                            \n",
      " year                        | 2011.0                                                                                 \n",
      " genres                      | Эротика                                                                                \n",
      " region_id                   | null                                                                                   \n",
      "-RECORD 3-------------------------------------------------------------------------------------------------------------\n",
      " item_id                     | 65671                                                                                  \n",
      " channel_id                  | null                                                                                   \n",
      " datetime_availability_start | 1970-01-01T00:00:00Z                                                                   \n",
      " datetime_availability_stop  | 2018-01-01T00:00:00Z                                                                   \n",
      " datetime_show_start         | null                                                                                   \n",
      " datetime_show_stop          | null                                                                                   \n",
      " content_type                | 1                                                                                      \n",
      " title                       | соблазнительницы женатых мужчин (top heavy homewreckers)                               \n",
      " year                        | 2011.0                                                                                 \n",
      " genres                      | Эротика                                                                                \n",
      " region_id                   | null                                                                                   \n",
      "-RECORD 4-------------------------------------------------------------------------------------------------------------\n",
      " item_id                     | 65670                                                                                  \n",
      " channel_id                  | null                                                                                   \n",
      " datetime_availability_start | 1970-01-01T00:00:00Z                                                                   \n",
      " datetime_availability_stop  | 2018-01-01T00:00:00Z                                                                   \n",
      " datetime_show_start         | null                                                                                   \n",
      " datetime_show_stop          | null                                                                                   \n",
      " content_type                | 1                                                                                      \n",
      " title                       | секретные секс-материалы ii: темная секс пародия (the sex files ii: a dark xxx parody) \n",
      " year                        | 2010.0                                                                                 \n",
      " genres                      | Эротика                                                                                \n",
      " region_id                   | null                                                                                   \n",
      "-RECORD 5-------------------------------------------------------------------------------------------------------------\n",
      " item_id                     | 65809                                                                                  \n",
      " channel_id                  | null                                                                                   \n",
      " datetime_availability_start | 1970-01-01T00:00:00Z                                                                   \n",
      " datetime_availability_stop  | 2099-12-31T21:00:00Z                                                                   \n",
      " datetime_show_start         | null                                                                                   \n",
      " datetime_show_stop          | null                                                                                   \n",
      " content_type                | 1                                                                                      \n",
      " title                       | все о мужчинах                                                                         \n",
      " year                        | 2016.0                                                                                 \n",
      " genres                      | Комедии                                                                                \n",
      " region_id                   | null                                                                                   \n",
      "-RECORD 6-------------------------------------------------------------------------------------------------------------\n",
      " item_id                     | 65810                                                                                  \n",
      " channel_id                  | null                                                                                   \n",
      " datetime_availability_start | 1970-01-01T00:00:00Z                                                                   \n",
      " datetime_availability_stop  | 2099-12-31T21:00:00Z                                                                   \n",
      " datetime_show_start         | null                                                                                   \n",
      " datetime_show_stop          | null                                                                                   \n",
      " content_type                | 1                                                                                      \n",
      " title                       | 8 лучших свиданий (сурдоперевод)                                                       \n",
      " year                        | 2016.0                                                                                 \n",
      " genres                      | Комедии,Мелодрамы                                                                      \n",
      " region_id                   | null                                                                                   \n",
      "-RECORD 7-------------------------------------------------------------------------------------------------------------\n",
      " item_id                     | 326                                                                                    \n",
      " channel_id                  | null                                                                                   \n",
      " datetime_availability_start | 1970-01-01T00:00:00Z                                                                   \n",
      " datetime_availability_stop  | 2099-12-31T21:00:00Z                                                                   \n",
      " datetime_show_start         | null                                                                                   \n",
      " datetime_show_stop          | null                                                                                   \n",
      " content_type                | 1                                                                                      \n",
      " title                       | византия                                                                               \n",
      " year                        | 2012.0                                                                                 \n",
      " genres                      | Ужасы,Триллеры,Драмы,Фантастика,Зарубежные                                             \n",
      " region_id                   | null                                                                                   \n",
      "-RECORD 8-------------------------------------------------------------------------------------------------------------\n",
      " item_id                     | 336                                                                                    \n",
      " channel_id                  | null                                                                                   \n",
      " datetime_availability_start | 1970-01-01T00:00:00Z                                                                   \n",
      " datetime_availability_stop  | 2099-12-31T21:00:00Z                                                                   \n",
      " datetime_show_start         | null                                                                                   \n",
      " datetime_show_stop          | null                                                                                   \n",
      " content_type                | 1                                                                                      \n",
      " title                       | девственники, берегитесь!                                                              \n",
      " year                        | 2012.0                                                                                 \n",
      " genres                      | Ужасы,Комедии,Фантастика,Зарубежные                                                    \n",
      " region_id                   | null                                                                                   \n",
      "-RECORD 9-------------------------------------------------------------------------------------------------------------\n",
      " item_id                     | 357                                                                                    \n",
      " channel_id                  | null                                                                                   \n",
      " datetime_availability_start | 1970-01-01T00:00:00Z                                                                   \n",
      " datetime_availability_stop  | 2099-12-31T21:00:00Z                                                                   \n",
      " datetime_show_start         | null                                                                                   \n",
      " datetime_show_stop          | null                                                                                   \n",
      " content_type                | 1                                                                                      \n",
      " title                       | 8 первых свиданий                                                                      \n",
      " year                        | 2012.0                                                                                 \n",
      " genres                      | Комедии,Мелодрамы,Наши                                                                 \n",
      " region_id                   | null                                                                                   \n",
      "-RECORD 10------------------------------------------------------------------------------------------------------------\n",
      " item_id                     | 396                                                                                    \n",
      " channel_id                  | null                                                                                   \n",
      " datetime_availability_start | 1970-01-01T00:00:00Z                                                                   \n",
      " datetime_availability_stop  | 2099-12-31T21:00:00Z                                                                   \n",
      " datetime_show_start         | null                                                                                   \n",
      " datetime_show_stop          | null                                                                                   \n",
      " content_type                | 1                                                                                      \n",
      " title                       | предчувствие                                                                           \n",
      " year                        | 2007.0                                                                                 \n",
      " genres                      | Детективы,Триллеры,Драмы,Фантастика,Зарубежные                                         \n",
      " region_id                   | null                                                                                   \n",
      "-RECORD 11------------------------------------------------------------------------------------------------------------\n",
      " item_id                     | 400                                                                                    \n",
      " channel_id                  | null                                                                                   \n",
      " datetime_availability_start | 1970-01-01T00:00:00Z                                                                   \n",
      " datetime_availability_stop  | 2099-12-31T21:00:00Z                                                                   \n",
      " datetime_show_start         | null                                                                                   \n",
      " datetime_show_stop          | null                                                                                   \n",
      " content_type                | 1                                                                                      \n",
      " title                       | путь воина                                                                             \n",
      " year                        | 2010.0                                                                                 \n",
      " genres                      | Фантастика,Боевики,Зарубежные                                                          \n",
      " region_id                   | null                                                                                   \n",
      "-RECORD 12------------------------------------------------------------------------------------------------------------\n",
      " item_id                     | 423                                                                                    \n",
      " channel_id                  | null                                                                                   \n",
      " datetime_availability_start | 1970-01-01T00:00:00Z                                                                   \n",
      " datetime_availability_stop  | 2099-12-31T21:00:00Z                                                                   \n",
      " datetime_show_start         | null                                                                                   \n",
      " datetime_show_stop          | null                                                                                   \n",
      " content_type                | 1                                                                                      \n",
      " title                       | список контактов                                                                       \n",
      " year                        | 2008.0                                                                                 \n",
      " genres                      | Детективы,Триллеры,Драмы,Криминал,Зарубежные                                           \n",
      " region_id                   | null                                                                                   \n",
      "-RECORD 13------------------------------------------------------------------------------------------------------------\n",
      " item_id                     | 430                                                                                    \n",
      " channel_id                  | null                                                                                   \n",
      " datetime_availability_start | 1970-01-01T00:00:00Z                                                                   \n",
      " datetime_availability_stop  | 2099-12-31T21:00:00Z                                                                   \n",
      " datetime_show_start         | null                                                                                   \n",
      " datetime_show_stop          | null                                                                                   \n",
      " content_type                | 1                                                                                      \n",
      " title                       | сыщик                                                                                  \n",
      " year                        | 2007.0                                                                                 \n",
      " genres                      | Детективы,Триллеры,Драмы,Зарубежные                                                    \n",
      " region_id                   | null                                                                                   \n",
      "-RECORD 14------------------------------------------------------------------------------------------------------------\n",
      " item_id                     | 449                                                                                    \n",
      " channel_id                  | null                                                                                   \n",
      " datetime_availability_start | 1970-01-01T00:00:00Z                                                                   \n",
      " datetime_availability_stop  | 2099-12-31T21:00:00Z                                                                   \n",
      " datetime_show_start         | null                                                                                   \n",
      " datetime_show_stop          | null                                                                                   \n",
      " content_type                | 1                                                                                      \n",
      " title                       | туристы                                                                                \n",
      " year                        | 2006.0                                                                                 \n",
      " genres                      | Ужасы,Детективы,Триллеры,Зарубежные                                                    \n",
      " region_id                   | null                                                                                   \n",
      "-RECORD 15------------------------------------------------------------------------------------------------------------\n",
      " item_id                     | 453                                                                                    \n",
      " channel_id                  | null                                                                                   \n",
      " datetime_availability_start | 1970-01-01T00:00:00Z                                                                   \n",
      " datetime_availability_stop  | 2099-12-31T21:00:00Z                                                                   \n",
      " datetime_show_start         | null                                                                                   \n",
      " datetime_show_stop          | null                                                                                   \n",
      " content_type                | 1                                                                                      \n",
      " title                       | уроки вождения                                                                         \n",
      " year                        | 2006.0                                                                                 \n",
      " genres                      | Комедии,Драмы,Зарубежные                                                               \n",
      " region_id                   | null                                                                                   \n",
      "-RECORD 16------------------------------------------------------------------------------------------------------------\n",
      " item_id                     | 478                                                                                    \n",
      " channel_id                  | null                                                                                   \n",
      " datetime_availability_start | 1970-01-01T00:00:00Z                                                                   \n",
      " datetime_availability_stop  | 2099-12-31T21:00:00Z                                                                   \n",
      " datetime_show_start         | null                                                                                   \n",
      " datetime_show_stop          | null                                                                                   \n",
      " content_type                | 1                                                                                      \n",
      " title                       | апостол                                                                                \n",
      " year                        | 2008.0                                                                                 \n",
      " genres                      | Военные,Боевики,Наши                                                                   \n",
      " region_id                   | null                                                                                   \n",
      "-RECORD 17------------------------------------------------------------------------------------------------------------\n",
      " item_id                     | 495                                                                                    \n",
      " channel_id                  | null                                                                                   \n",
      " datetime_availability_start | 1970-01-01T00:00:00Z                                                                   \n",
      " datetime_availability_stop  | 2099-12-31T21:00:00Z                                                                   \n",
      " datetime_show_start         | null                                                                                   \n",
      " datetime_show_stop          | null                                                                                   \n",
      " content_type                | 1                                                                                      \n",
      " title                       | железный рыцарь                                                                        \n",
      " year                        | 2010.0                                                                                 \n",
      " genres                      | Приключения,Исторические,Мелодрамы,Боевики,Зарубежные                                  \n",
      " region_id                   | null                                                                                   \n",
      "-RECORD 18------------------------------------------------------------------------------------------------------------\n",
      " item_id                     | 505                                                                                    \n",
      " channel_id                  | null                                                                                   \n",
      " datetime_availability_start | 1970-01-01T00:00:00Z                                                                   \n",
      " datetime_availability_stop  | 2099-12-31T21:00:00Z                                                                   \n",
      " datetime_show_start         | null                                                                                   \n",
      " datetime_show_stop          | null                                                                                   \n",
      " content_type                | 1                                                                                      \n",
      " title                       | че: часть первая. аргентинец                                                           \n",
      " year                        | 2008.0                                                                                 \n",
      " genres                      | Военные,Драмы,Исторические,Зарубежные                                                  \n",
      " region_id                   | null                                                                                   \n",
      "-RECORD 19------------------------------------------------------------------------------------------------------------\n",
      " item_id                     | 540                                                                                    \n",
      " channel_id                  | null                                                                                   \n",
      " datetime_availability_start | 1970-01-01T00:00:00Z                                                                   \n",
      " datetime_availability_stop  | 2099-12-31T21:00:00Z                                                                   \n",
      " datetime_show_start         | null                                                                                   \n",
      " datetime_show_stop          | null                                                                                   \n",
      " content_type                | 1                                                                                      \n",
      " title                       | мой парень – псих                                                                      \n",
      " year                        | 2012.0                                                                                 \n",
      " genres                      | Комедии,Драмы,Мелодрамы,Зарубежные                                                     \n",
      " region_id                   | null                                                                                   \n",
      "only showing top 20 rows\n",
      "\n"
     ]
    }
   ],
   "source": [
    "df_items.show(vertical=True, truncate=False)"
   ]
  },
  {
   "cell_type": "code",
   "execution_count": 63,
   "metadata": {},
   "outputs": [],
   "source": [
    "from pyspark.ml.feature import RegexTokenizer\n",
    "\n",
    "items_genres_years = df_items.select('item_id', 'genres', 'year')\n",
    "items_genres_years = items_genres_years.na.fill({'genres': u'_'})\n",
    "items_genres_years = items_genres_years.na.fill({'year': u'1899'})\n",
    "items_genres_years = items_genres_years.withColumn('year', items_genres_years.year.cast(IntegerType()))\n",
    "\n",
    "tokenizer = RegexTokenizer(inputCol=\"genres\", outputCol=\"genre_tokens\", gaps=False, pattern=u\"[_А-Яа-яёЁ]+\", toLowercase=False)\n",
    "\n",
    "items_genres_years_tk = tokenizer.transform(items_genres_years)"
   ]
  },
  {
   "cell_type": "code",
   "execution_count": 64,
   "metadata": {},
   "outputs": [],
   "source": [
    "from pyspark.ml.feature import CountVectorizer\n",
    "\n",
    "cv = CountVectorizer(inputCol=\"genre_tokens\", outputCol=\"genre_vector\")\n",
    "cv_model = cv.fit(items_genres_years_tk)\n",
    "items_features_vec = cv_model.transform(items_genres_years_tk)"
   ]
  },
  {
   "cell_type": "code",
   "execution_count": 65,
   "metadata": {},
   "outputs": [
    {
     "name": "stdout",
     "output_type": "stream",
     "text": [
      "+-------+-------+----+------------+---------------+\n",
      "|item_id| genres|year|genre_tokens|   genre_vector|\n",
      "+-------+-------+----+------------+---------------+\n",
      "|  65667|Эротика|2013|   [Эротика]|(96,[22],[1.0])|\n",
      "|  65669|Эротика|2011|   [Эротика]|(96,[22],[1.0])|\n",
      "|  65668|Эротика|2011|   [Эротика]|(96,[22],[1.0])|\n",
      "|  65671|Эротика|2011|   [Эротика]|(96,[22],[1.0])|\n",
      "|  65670|Эротика|2010|   [Эротика]|(96,[22],[1.0])|\n",
      "+-------+-------+----+------------+---------------+\n",
      "only showing top 5 rows\n",
      "\n"
     ]
    }
   ],
   "source": [
    "items_features_vec.show(5)"
   ]
  },
  {
   "cell_type": "code",
   "execution_count": 66,
   "metadata": {},
   "outputs": [],
   "source": [
    "train_genres = train.join(items_features_vec, on='item_id', how='left')\n",
    "valid_genres = valid.join(items_features_vec, on='item_id', how='left')\n",
    "test_genres = test.join(items_features_vec, on='item_id', how='left')"
   ]
  },
  {
   "cell_type": "code",
   "execution_count": 67,
   "metadata": {},
   "outputs": [],
   "source": [
    "# Выбираю колонки, которые войдут в features для GBT\n",
    "cols = ['item_purchases', 'user_purchases', 'user_addict', 'item_addict', 'year', 'genre_vector']\n",
    "assembler = VectorAssembler(inputCols=cols, outputCol=\"features\")\n",
    "\n",
    "train_data = assembler.transform(train_genres).cache()\n",
    "valid_data = assembler.transform(valid_genres)\n",
    "test_data = assembler.transform(test_genres)"
   ]
  },
  {
   "cell_type": "code",
   "execution_count": 68,
   "metadata": {},
   "outputs": [],
   "source": [
    "from pyspark.ml.classification import GBTClassifier\n",
    "\n",
    "gbt = GBTClassifier(labelCol=\"purchase\", maxDepth=4, minInstancesPerNode=3, maxBins=50)\n",
    "\n",
    "gbt_model = gbt.fit(train_data)\n",
    "predictions_valid = gbt_model.transform(valid_data)"
   ]
  },
  {
   "cell_type": "code",
   "execution_count": 69,
   "metadata": {},
   "outputs": [
    {
     "data": {
      "text/plain": [
       "SparseVector(101, {0: 0.3567, 1: 0.3587, 2: 0.111, 3: 0.1339, 5: 0.0011, 12: 0.0013, 21: 0.0072, 27: 0.0035, 41: 0.0004, 49: 0.0189, 61: 0.0049, 75: 0.0024})"
      ]
     },
     "execution_count": 69,
     "metadata": {},
     "output_type": "execute_result"
    }
   ],
   "source": [
    "gbt_model.featureImportances"
   ]
  },
  {
   "cell_type": "code",
   "execution_count": 70,
   "metadata": {},
   "outputs": [
    {
     "data": {
      "text/plain": [
       "0.8898306281434082"
      ]
     },
     "execution_count": 70,
     "metadata": {},
     "output_type": "execute_result"
    }
   ],
   "source": [
    "evaluator = BinaryClassificationEvaluator(labelCol=\"purchase\", metricName='areaUnderROC')\n",
    "score = evaluator.evaluate(predictions_valid)\n",
    "score"
   ]
  },
  {
   "cell_type": "code",
   "execution_count": 71,
   "metadata": {},
   "outputs": [
    {
     "data": {
      "text/plain": [
       "DataFrame[item_id: int, user_id: int, purchase: double, user_purchases: double, item_purchases: double, user_attempts: bigint, item_attempts: bigint, user_addict: double, item_addict: double, genres: string, year: int, genre_tokens: array<string>, genre_vector: vector, features: vector]"
      ]
     },
     "execution_count": 71,
     "metadata": {},
     "output_type": "execute_result"
    }
   ],
   "source": [
    "train_data.unpersist()"
   ]
  },
  {
   "cell_type": "markdown",
   "metadata": {},
   "source": [
    "# Добавим вектор пользовательской истории"
   ]
  },
  {
   "cell_type": "code",
   "execution_count": 72,
   "metadata": {},
   "outputs": [
    {
     "data": {
      "text/plain": [
       "DataFrame[item_id: int, item_count: bigint, item_row_id: bigint]"
      ]
     },
     "execution_count": 72,
     "metadata": {},
     "output_type": "execute_result"
    }
   ],
   "source": [
    "# Добавим вектор пользовательской истории\n",
    "from pyspark.sql.functions import monotonically_increasing_id\n",
    "\n",
    "items_count = train.groupBy('item_id').count().withColumnRenamed('count', 'item_count')\n",
    "items_desc_count = items_count.orderBy(items_count.item_count.desc()).limit(500) \n",
    "items_desc_count = items_desc_count.coalesce(1)\n",
    "items_desc_count = items_desc_count.withColumn(\"item_row_id\", monotonically_increasing_id())\n",
    "\n",
    "items_desc_count.cache()"
   ]
  },
  {
   "cell_type": "code",
   "execution_count": 73,
   "metadata": {},
   "outputs": [
    {
     "name": "stdout",
     "output_type": "stream",
     "text": [
      "+-------+----------+-----------+\n",
      "|item_id|item_count|item_row_id|\n",
      "+-------+----------+-----------+\n",
      "|  66185|      1172|          0|\n",
      "|  94158|      1172|          1|\n",
      "+-------+----------+-----------+\n",
      "only showing top 2 rows\n",
      "\n"
     ]
    }
   ],
   "source": [
    "items_desc_count.show(2)"
   ]
  },
  {
   "cell_type": "code",
   "execution_count": 74,
   "metadata": {},
   "outputs": [
    {
     "name": "stdout",
     "output_type": "stream",
     "text": [
      "+-------+-----------+--------+\n",
      "|user_id|item_row_id|purchase|\n",
      "+-------+-----------+--------+\n",
      "| 793430|        266|     0.0|\n",
      "| 795620|        266|     0.0|\n",
      "+-------+-----------+--------+\n",
      "only showing top 2 rows\n",
      "\n"
     ]
    }
   ],
   "source": [
    "train_truncated = train.join(items_desc_count, on='item_id', how='inner')\\\n",
    "                    .select('user_id', 'item_row_id', 'purchase').cache()\n",
    "\n",
    "train_truncated.show(2)"
   ]
  },
  {
   "cell_type": "code",
   "execution_count": 75,
   "metadata": {},
   "outputs": [],
   "source": [
    "from pyspark.mllib.linalg.distributed import CoordinateMatrix, MatrixEntry\n",
    "from pyspark.ml.linalg import VectorUDT\n",
    "\n",
    "from pyspark.sql.functions import udf"
   ]
  },
  {
   "cell_type": "code",
   "execution_count": 76,
   "metadata": {},
   "outputs": [],
   "source": [
    "# Now we build up a history vector\n",
    "\n",
    "as_ml = udf(lambda v: v.asML(), VectorUDT())\n",
    "\n",
    "train_matrix = train_truncated.rdd.map(lambda r: MatrixEntry(r[0], r[1], r[2]))\n",
    "train_matrix = CoordinateMatrix(train_matrix)\n",
    "\n",
    "train_row_mat_i = train_matrix.toIndexedRowMatrix()\n",
    "\n",
    "train_mat_df = train_row_mat_i.rows.toDF().withColumnRenamed('index', 'user_id') \\\n",
    "                                    .withColumn(\"history_vec\", as_ml(\"vector\"))    "
   ]
  },
  {
   "cell_type": "code",
   "execution_count": 77,
   "metadata": {},
   "outputs": [
    {
     "name": "stdout",
     "output_type": "stream",
     "text": [
      "+-------+--------------------+--------------------+\n",
      "|user_id|              vector|         history_vec|\n",
      "+-------+--------------------+--------------------+\n",
      "| 918750|(500,[3,6,7,8,9,1...|(500,[3,6,7,8,9,1...|\n",
      "| 922400|(500,[2,3,4,5,7,8...|(500,[2,3,4,5,7,8...|\n",
      "| 932650|(500,[1,2,3,4,5,8...|(500,[1,2,3,4,5,8...|\n",
      "| 892100|(500,[0,1,2,3,5,7...|(500,[0,1,2,3,5,7...|\n",
      "| 940600|(500,[1,3,9,11,15...|(500,[1,3,9,11,15...|\n",
      "| 891250|(500,[0,1,2,3,4,5...|(500,[0,1,2,3,4,5...|\n",
      "| 857500|(500,[0,3,4,5,6,8...|(500,[0,3,4,5,6,8...|\n",
      "| 836300|(500,[0,1,2,3,7,9...|(500,[0,1,2,3,7,9...|\n",
      "| 906250|(500,[0,2,4,8,12,...|(500,[0,2,4,8,12,...|\n",
      "| 893850|(500,[3,4,5,6,7,8...|(500,[3,4,5,6,7,8...|\n",
      "+-------+--------------------+--------------------+\n",
      "only showing top 10 rows\n",
      "\n"
     ]
    }
   ],
   "source": [
    "train_mat_df.show(10)"
   ]
  },
  {
   "cell_type": "code",
   "execution_count": 78,
   "metadata": {},
   "outputs": [
    {
     "data": {
      "text/plain": [
       "DataFrame[user_id: int, item_row_id: bigint, purchase: double]"
      ]
     },
     "execution_count": 78,
     "metadata": {},
     "output_type": "execute_result"
    }
   ],
   "source": [
    "train_truncated.unpersist()"
   ]
  },
  {
   "cell_type": "code",
   "execution_count": 79,
   "metadata": {},
   "outputs": [],
   "source": [
    "# Joining everything together\n",
    "\n",
    "train_hist = train.join(train_mat_df, 'user_id', 'left') \\\n",
    "                    .join(items_features_vec, on='item_id', how='left') \n",
    "\n",
    "valid_hist = valid.join(train_mat_df, 'user_id', 'left') \\\n",
    "                    .join(items_features_vec, on='item_id', how='left') \n",
    "\n",
    "test_hist = test.join(train_mat_df, 'user_id', 'left') \\\n",
    "                    .join(items_features_vec, on='item_id', how='left')         "
   ]
  },
  {
   "cell_type": "code",
   "execution_count": 80,
   "metadata": {},
   "outputs": [
    {
     "name": "stdout",
     "output_type": "stream",
     "text": [
      "+-------+-------+--------+--------------+--------------+-------------+-------------+--------------------+--------------------+--------------------+--------------------+--------------------+----+--------------------+--------------------+\n",
      "|item_id|user_id|purchase|user_purchases|item_purchases|user_attempts|item_attempts|         user_addict|         item_addict|              vector|         history_vec|              genres|year|        genre_tokens|        genre_vector|\n",
      "+-------+-------+--------+--------------+--------------+-------------+-------------+--------------------+--------------------+--------------------+--------------------+--------------------+----+--------------------+--------------------+\n",
      "|    326| 749587|     0.0|          34.0|           1.0|         2062|         1076|0.016488845780795344|9.293680297397769E-4|(500,[1,4,5,6,7,8...|(500,[1,4,5,6,7,8...|Ужасы,Триллеры,Др...|2012|[Ужасы, Триллеры,...|(96,[0,1,5,11,13]...|\n",
      "|    326| 767447|     0.0|           1.0|           1.0|         2104|         1076|4.752851711026616E-4|9.293680297397769E-4|(500,[0,1,3,5,6,7...|(500,[0,1,3,5,6,7...|Ужасы,Триллеры,Др...|2012|[Ужасы, Триллеры,...|(96,[0,1,5,11,13]...|\n",
      "+-------+-------+--------+--------------+--------------+-------------+-------------+--------------------+--------------------+--------------------+--------------------+--------------------+----+--------------------+--------------------+\n",
      "only showing top 2 rows\n",
      "\n"
     ]
    }
   ],
   "source": [
    "train_hist.show(2)"
   ]
  },
  {
   "cell_type": "code",
   "execution_count": 81,
   "metadata": {},
   "outputs": [],
   "source": [
    "assembler = VectorAssembler(inputCols=['item_purchases', 'user_purchases', 'user_addict', 'item_addict', 'history_vec'],\n",
    "                                outputCol=\"features\")\n",
    "\n",
    "train_data = assembler.transform(train_hist).cache()\n",
    "valid_data = assembler.transform(valid_hist)\n",
    "test_data = assembler.transform(test_hist)"
   ]
  },
  {
   "cell_type": "code",
   "execution_count": 82,
   "metadata": {},
   "outputs": [
    {
     "data": {
      "text/plain": [
       "0"
      ]
     },
     "execution_count": 82,
     "metadata": {},
     "output_type": "execute_result"
    }
   ],
   "source": [
    "train_data.where(train_data.features.isNull()).count()"
   ]
  },
  {
   "cell_type": "code",
   "execution_count": 85,
   "metadata": {},
   "outputs": [],
   "source": [
    "gbt = GBTClassifier(labelCol=\"purchase\", maxDepth=4, minInstancesPerNode=3, maxBins=50)\n",
    "\n",
    "gbt_model = gbt.fit(train_data)\n",
    "predictions_valid = gbt_model.transform(valid_data)"
   ]
  },
  {
   "cell_type": "code",
   "execution_count": 86,
   "metadata": {},
   "outputs": [
    {
     "data": {
      "text/plain": [
       "0.8926062410810246"
      ]
     },
     "execution_count": 86,
     "metadata": {},
     "output_type": "execute_result"
    }
   ],
   "source": [
    "evaluator = BinaryClassificationEvaluator(labelCol=\"purchase\", metricName='areaUnderROC')\n",
    "score = evaluator.evaluate(predictions_valid)\n",
    "score"
   ]
  },
  {
   "cell_type": "code",
   "execution_count": null,
   "metadata": {},
   "outputs": [],
   "source": [
    "train_data.unpersist()"
   ]
  },
  {
   "cell_type": "code",
   "execution_count": 87,
   "metadata": {},
   "outputs": [],
   "source": [
    "test_predictions = gbt_model.transform(test_data)"
   ]
  },
  {
   "cell_type": "code",
   "execution_count": 89,
   "metadata": {},
   "outputs": [
    {
     "name": "stdout",
     "output_type": "stream",
     "text": [
      "-RECORD 0------------------------------------------------------------------------------------------------------------------------------------------------------------------------------------------------------------------------------------------------------------------------------------------------------------------------------------------------------------------------------------------------------------------------------------------------------------------------------------------------------------------------------------------------------------------------------------------------------------------------------------------------------------------------------------------------------------------------------------------------------------------------------------------------------------------------------------------------------------------------------------------------------------------------------------------------------------------------------------------------------------------------------------------------------------------------------------------------------------------------------------------------------------------------------------------------------------------------------------------------------------------------------------------------------------------------------------------------------------------------------------------------------------------------------------------------------------------------------------------------------------------------------------------------------------------------------------------------------------------------------------------------------------------------------------------------------------------------------------------------------------------------------------------------------------------------------------------------------------------------------------------------------------------------------------------------------------------------------------------------------------------------------------------------------------------------------------------------------------------------------------------------------------------------------------------------------------------------------------------------------------------------------------------------------------------------------------\n",
      " item_id        | 8389                                                                                                                                                                                                                                                                                                                                                                                                                                                                                                                                                                                                                                                                                                                                                                                                                                                                                                                                                                                                                                                                                                                                                                                                                                                                                                                                                                                                                                                                                                                                                                                                                                                                                                                                                                                                                                                                                                                                                                                                                                                                                                                                                                                                                                                                                                                       \n",
      " user_id        | 825037                                                                                                                                                                                                                                                                                                                                                                                                                                                                                                                                                                                                                                                                                                                                                                                                                                                                                                                                                                                                                                                                                                                                                                                                                                                                                                                                                                                                                                                                                                                                                                                                                                                                                                                                                                                                                                                                                                                                                                                                                                                                                                                                                                                                                                                                                                                     \n",
      " purchase       | 0.0                                                                                                                                                                                                                                                                                                                                                                                                                                                                                                                                                                                                                                                                                                                                                                                                                                                                                                                                                                                                                                                                                                                                                                                                                                                                                                                                                                                                                                                                                                                                                                                                                                                                                                                                                                                                                                                                                                                                                                                                                                                                                                                                                                                                                                                                                                                        \n",
      " user_purchases | 1.0                                                                                                                                                                                                                                                                                                                                                                                                                                                                                                                                                                                                                                                                                                                                                                                                                                                                                                                                                                                                                                                                                                                                                                                                                                                                                                                                                                                                                                                                                                                                                                                                                                                                                                                                                                                                                                                                                                                                                                                                                                                                                                                                                                                                                                                                                                                        \n",
      " item_purchases | 7.0                                                                                                                                                                                                                                                                                                                                                                                                                                                                                                                                                                                                                                                                                                                                                                                                                                                                                                                                                                                                                                                                                                                                                                                                                                                                                                                                                                                                                                                                                                                                                                                                                                                                                                                                                                                                                                                                                                                                                                                                                                                                                                                                                                                                                                                                                                                        \n",
      " user_attempts  | 2044                                                                                                                                                                                                                                                                                                                                                                                                                                                                                                                                                                                                                                                                                                                                                                                                                                                                                                                                                                                                                                                                                                                                                                                                                                                                                                                                                                                                                                                                                                                                                                                                                                                                                                                                                                                                                                                                                                                                                                                                                                                                                                                                                                                                                                                                                                                       \n",
      " item_attempts  | 1074                                                                                                                                                                                                                                                                                                                                                                                                                                                                                                                                                                                                                                                                                                                                                                                                                                                                                                                                                                                                                                                                                                                                                                                                                                                                                                                                                                                                                                                                                                                                                                                                                                                                                                                                                                                                                                                                                                                                                                                                                                                                                                                                                                                                                                                                                                                       \n",
      " user_addict    | 4.892367906066536E-4                                                                                                                                                                                                                                                                                                                                                                                                                                                                                                                                                                                                                                                                                                                                                                                                                                                                                                                                                                                                                                                                                                                                                                                                                                                                                                                                                                                                                                                                                                                                                                                                                                                                                                                                                                                                                                                                                                                                                                                                                                                                                                                                                                                                                                                                                                       \n",
      " item_addict    | 0.006517690875232775                                                                                                                                                                                                                                                                                                                                                                                                                                                                                                                                                                                                                                                                                                                                                                                                                                                                                                                                                                                                                                                                                                                                                                                                                                                                                                                                                                                                                                                                                                                                                                                                                                                                                                                                                                                                                                                                                                                                                                                                                                                                                                                                                                                                                                                                                                       \n",
      " vector         | (500,[1,3,6,7,8,11,13,14,15,16,18,19,25,28,35,36,45,49,50,51,52,53,55,58,59,60,62,64,65,66,67,68,69,71,72,73,74,75,76,78,80,82,83,84,88,90,92,93,94,96,101,102,104,105,108,110,111,114,117,119,123,125,126,130,131,132,134,137,138,140,141,142,143,147,149,151,152,154,155,156,158,159,161,162,164,166,168,169,170,171,172,173,176,177,178,182,184,187,188,190,191,192,193,196,198,200,201,202,206,209,210,211,212,213,214,215,217,218,219,223,224,226,228,230,231,232,233,234,235,239,240,243,247,248,249,251,252,254,255,256,259,260,261,263,264,265,267,268,269,270,271,272,273,275,276,279,281,283,284,285,288,289,291,294,295,297,298,301,304,305,306,307,308,315,316,317,318,319,320,322,324,325,326,329,331,332,334,339,340,341,344,345,346,347,349,352,353,354,357,358,359,360,361,362,365,366,367,368,369,375,376,378,379,380,381,383,384,385,386,389,390,391,392,393,394,396,397,398,399,400,405,406,407,409,410,411,412,413,414,415,416,418,419,420,423,425,426,427,428,431,432,435,436,438,439,440,441,446,449,450,453,454,458,459,460,461,464,465,466,467,470,471,474,476,478,479,480,482,486,488,489,491,492,496,498],[0.0,0.0,0.0,0.0,0.0,0.0,0.0,0.0,0.0,0.0,0.0,0.0,0.0,0.0,0.0,0.0,0.0,0.0,0.0,0.0,0.0,0.0,0.0,0.0,0.0,0.0,0.0,0.0,0.0,0.0,0.0,0.0,0.0,0.0,0.0,0.0,0.0,0.0,0.0,0.0,0.0,0.0,0.0,0.0,0.0,0.0,0.0,0.0,0.0,0.0,0.0,0.0,0.0,0.0,0.0,0.0,0.0,0.0,0.0,0.0,0.0,0.0,0.0,0.0,0.0,0.0,0.0,0.0,0.0,0.0,0.0,0.0,0.0,0.0,0.0,0.0,0.0,0.0,0.0,0.0,0.0,0.0,0.0,0.0,0.0,0.0,0.0,0.0,0.0,0.0,0.0,0.0,0.0,0.0,0.0,0.0,0.0,0.0,0.0,0.0,0.0,0.0,0.0,0.0,0.0,0.0,0.0,0.0,0.0,0.0,0.0,0.0,0.0,0.0,0.0,0.0,0.0,0.0,0.0,0.0,0.0,0.0,0.0,0.0,0.0,0.0,0.0,0.0,0.0,0.0,0.0,0.0,0.0,0.0,0.0,0.0,0.0,0.0,0.0,0.0,0.0,0.0,0.0,0.0,0.0,0.0,0.0,0.0,0.0,0.0,0.0,0.0,0.0,0.0,0.0,0.0,0.0,0.0,0.0,0.0,0.0,0.0,0.0,0.0,0.0,0.0,0.0,0.0,0.0,0.0,0.0,0.0,0.0,0.0,0.0,0.0,0.0,0.0,0.0,0.0,0.0,0.0,0.0,0.0,0.0,0.0,0.0,0.0,0.0,0.0,0.0,0.0,0.0,0.0,0.0,0.0,0.0,0.0,0.0,0.0,0.0,0.0,0.0,0.0,0.0,0.0,0.0,0.0,0.0,0.0,0.0,0.0,0.0,0.0,0.0,0.0,0.0,0.0,0.0,0.0,0.0,0.0,0.0,0.0,0.0,0.0,0.0,0.0,0.0,0.0,0.0,0.0,0.0,0.0,0.0,0.0,0.0,0.0,0.0,0.0,0.0,0.0,0.0,0.0,0.0,0.0,0.0,0.0,0.0,0.0,0.0,0.0,0.0,0.0,0.0,0.0,0.0,0.0,0.0,0.0,0.0,0.0,0.0,0.0,0.0,0.0,0.0,0.0,0.0,0.0,0.0,0.0,0.0,0.0,0.0,0.0,0.0,0.0,0.0,0.0,0.0,0.0,0.0,0.0,0.0]) \n",
      " history_vec    | (500,[1,3,6,7,8,11,13,14,15,16,18,19,25,28,35,36,45,49,50,51,52,53,55,58,59,60,62,64,65,66,67,68,69,71,72,73,74,75,76,78,80,82,83,84,88,90,92,93,94,96,101,102,104,105,108,110,111,114,117,119,123,125,126,130,131,132,134,137,138,140,141,142,143,147,149,151,152,154,155,156,158,159,161,162,164,166,168,169,170,171,172,173,176,177,178,182,184,187,188,190,191,192,193,196,198,200,201,202,206,209,210,211,212,213,214,215,217,218,219,223,224,226,228,230,231,232,233,234,235,239,240,243,247,248,249,251,252,254,255,256,259,260,261,263,264,265,267,268,269,270,271,272,273,275,276,279,281,283,284,285,288,289,291,294,295,297,298,301,304,305,306,307,308,315,316,317,318,319,320,322,324,325,326,329,331,332,334,339,340,341,344,345,346,347,349,352,353,354,357,358,359,360,361,362,365,366,367,368,369,375,376,378,379,380,381,383,384,385,386,389,390,391,392,393,394,396,397,398,399,400,405,406,407,409,410,411,412,413,414,415,416,418,419,420,423,425,426,427,428,431,432,435,436,438,439,440,441,446,449,450,453,454,458,459,460,461,464,465,466,467,470,471,474,476,478,479,480,482,486,488,489,491,492,496,498],[0.0,0.0,0.0,0.0,0.0,0.0,0.0,0.0,0.0,0.0,0.0,0.0,0.0,0.0,0.0,0.0,0.0,0.0,0.0,0.0,0.0,0.0,0.0,0.0,0.0,0.0,0.0,0.0,0.0,0.0,0.0,0.0,0.0,0.0,0.0,0.0,0.0,0.0,0.0,0.0,0.0,0.0,0.0,0.0,0.0,0.0,0.0,0.0,0.0,0.0,0.0,0.0,0.0,0.0,0.0,0.0,0.0,0.0,0.0,0.0,0.0,0.0,0.0,0.0,0.0,0.0,0.0,0.0,0.0,0.0,0.0,0.0,0.0,0.0,0.0,0.0,0.0,0.0,0.0,0.0,0.0,0.0,0.0,0.0,0.0,0.0,0.0,0.0,0.0,0.0,0.0,0.0,0.0,0.0,0.0,0.0,0.0,0.0,0.0,0.0,0.0,0.0,0.0,0.0,0.0,0.0,0.0,0.0,0.0,0.0,0.0,0.0,0.0,0.0,0.0,0.0,0.0,0.0,0.0,0.0,0.0,0.0,0.0,0.0,0.0,0.0,0.0,0.0,0.0,0.0,0.0,0.0,0.0,0.0,0.0,0.0,0.0,0.0,0.0,0.0,0.0,0.0,0.0,0.0,0.0,0.0,0.0,0.0,0.0,0.0,0.0,0.0,0.0,0.0,0.0,0.0,0.0,0.0,0.0,0.0,0.0,0.0,0.0,0.0,0.0,0.0,0.0,0.0,0.0,0.0,0.0,0.0,0.0,0.0,0.0,0.0,0.0,0.0,0.0,0.0,0.0,0.0,0.0,0.0,0.0,0.0,0.0,0.0,0.0,0.0,0.0,0.0,0.0,0.0,0.0,0.0,0.0,0.0,0.0,0.0,0.0,0.0,0.0,0.0,0.0,0.0,0.0,0.0,0.0,0.0,0.0,0.0,0.0,0.0,0.0,0.0,0.0,0.0,0.0,0.0,0.0,0.0,0.0,0.0,0.0,0.0,0.0,0.0,0.0,0.0,0.0,0.0,0.0,0.0,0.0,0.0,0.0,0.0,0.0,0.0,0.0,0.0,0.0,0.0,0.0,0.0,0.0,0.0,0.0,0.0,0.0,0.0,0.0,0.0,0.0,0.0,0.0,0.0,0.0,0.0,0.0,0.0,0.0,0.0,0.0,0.0,0.0,0.0,0.0,0.0,0.0,0.0,0.0,0.0,0.0,0.0,0.0,0.0,0.0,0.0,0.0,0.0,0.0,0.0,0.0]) \n",
      " genres         | Мультфильмы,Детские,Союзмультфильм,Наши                                                                                                                                                                                                                                                                                                                                                                                                                                                                                                                                                                                                                                                                                                                                                                                                                                                                                                                                                                                                                                                                                                                                                                                                                                                                                                                                                                                                                                                                                                                                                                                                                                                                                                                                                                                                                                                                                                                                                                                                                                                                                                                                                                                                                                                                                    \n",
      " year           | 1981                                                                                                                                                                                                                                                                                                                                                                                                                                                                                                                                                                                                                                                                                                                                                                                                                                                                                                                                                                                                                                                                                                                                                                                                                                                                                                                                                                                                                                                                                                                                                                                                                                                                                                                                                                                                                                                                                                                                                                                                                                                                                                                                                                                                                                                                                                                       \n",
      " genre_tokens   | [Мультфильмы, Детские, Союзмультфильм, Наши]                                                                                                                                                                                                                                                                                                                                                                                                                                                                                                                                                                                                                                                                                                                                                                                                                                                                                                                                                                                                                                                                                                                                                                                                                                                                                                                                                                                                                                                                                                                                                                                                                                                                                                                                                                                                                                                                                                                                                                                                                                                                                                                                                                                                                                                                               \n",
      " genre_vector   | (96,[7,16,21,25],[1.0,1.0,1.0,1.0])                                                                                                                                                                                                                                                                                                                                                                                                                                                                                                                                                                                                                                                                                                                                                                                                                                                                                                                                                                                                                                                                                                                                                                                                                                                                                                                                                                                                                                                                                                                                                                                                                                                                                                                                                                                                                                                                                                                                                                                                                                                                                                                                                                                                                                                                                        \n",
      " features       | (504,[0,1,2,3],[7.0,1.0,4.892367906066536E-4,0.006517690875232775])                                                                                                                                                                                                                                                                                                                                                                                                                                                                                                                                                                                                                                                                                                                                                                                                                                                                                                                                                                                                                                                                                                                                                                                                                                                                                                                                                                                                                                                                                                                                                                                                                                                                                                                                                                                                                                                                                                                                                                                                                                                                                                                                                                                                                                                        \n",
      " rawPrediction  | [1.5315478301950227,-1.5315478301950227]                                                                                                                                                                                                                                                                                                                                                                                                                                                                                                                                                                                                                                                                                                                                                                                                                                                                                                                                                                                                                                                                                                                                                                                                                                                                                                                                                                                                                                                                                                                                                                                                                                                                                                                                                                                                                                                                                                                                                                                                                                                                                                                                                                                                                                                                                   \n",
      " probability    | [0.9553445482927119,0.04465545170728813]                                                                                                                                                                                                                                                                                                                                                                                                                                                                                                                                                                                                                                                                                                                                                                                                                                                                                                                                                                                                                                                                                                                                                                                                                                                                                                                                                                                                                                                                                                                                                                                                                                                                                                                                                                                                                                                                                                                                                                                                                                                                                                                                                                                                                                                                                   \n",
      " prediction     | 0.0                                                                                                                                                                                                                                                                                                                                                                                                                                                                                                                                                                                                                                                                                                                                                                                                                                                                                                                                                                                                                                                                                                                                                                                                                                                                                                                                                                                                                                                                                                                                                                                                                                                                                                                                                                                                                                                                                                                                                                                                                                                                                                                                                                                                                                                                                                                        \n",
      "only showing top 1 row\n",
      "\n"
     ]
    }
   ],
   "source": [
    "test_predictions.show(1, truncate=False, vertical=True)"
   ]
  },
  {
   "cell_type": "code",
   "execution_count": 94,
   "metadata": {},
   "outputs": [
    {
     "name": "stderr",
     "output_type": "stream",
     "text": [
      "/usr/hdp/current/spark2-client/python/pyspark/sql/dataframe.py:2110: UserWarning: toPandas attempted Arrow optimization because 'spark.sql.execution.arrow.enabled' is set to true; however, failed by the reason below:\n",
      "  Unsupported type in conversion to Arrow: VectorUDT\n",
      "Attempting non-optimization as 'spark.sql.execution.arrow.fallback.enabled' is set to true.\n",
      "  warnings.warn(msg)\n"
     ]
    }
   ],
   "source": [
    "predictions_pd = test_predictions.select(\"user_id\", \"item_id\", col(\"probability\").alias(\"purchase\")).toPandas()\n",
    "predictions_pd = predictions_pd.sort_values(by=['user_id', 'item_id'])\n",
    "predictions_pd['purchase'] = predictions_pd['purchase'].apply(lambda x: x[1])\n",
    "predictions_pd.to_csv('lab03.csv', index=False)"
   ]
  },
  {
   "cell_type": "code",
   "execution_count": 95,
   "metadata": {},
   "outputs": [],
   "source": [
    "sc.stop()"
   ]
  },
  {
   "cell_type": "code",
   "execution_count": null,
   "metadata": {},
   "outputs": [],
   "source": []
  }
 ],
 "metadata": {
  "kernelspec": {
   "display_name": "Python 3",
   "language": "python",
   "name": "python3"
  },
  "language_info": {
   "codemirror_mode": {
    "name": "ipython",
    "version": 3
   },
   "file_extension": ".py",
   "mimetype": "text/x-python",
   "name": "python",
   "nbconvert_exporter": "python",
   "pygments_lexer": "ipython3",
   "version": "3.6.5"
  }
 },
 "nbformat": 4,
 "nbformat_minor": 2
}
