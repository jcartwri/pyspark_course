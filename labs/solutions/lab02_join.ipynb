{
 "cells": [
  {
   "cell_type": "code",
   "execution_count": 1,
   "metadata": {},
   "outputs": [
    {
     "name": "stdout",
     "output_type": "stream",
     "text": [
      "Welcome to\n",
      "      ____              __\n",
      "     / __/__  ___ _____/ /__\n",
      "    _\\ \\/ _ \\/ _ `/ __/  '_/\n",
      "   /__ / .__/\\_,_/_/ /_/\\_\\   version 2.4.5\n",
      "      /_/\n",
      "\n",
      "Using Python version 3.6.5 (default, Apr 29 2018 16:14:56)\n",
      "SparkSession available as 'spark'.\n"
     ]
    }
   ],
   "source": [
    "# Получаем контекст Spark\n",
    "import os\n",
    "import sys\n",
    "os.environ[\"PYSPARK_SUBMIT_ARGS\"]='--num-executors 3 pyspark-shell'\n",
    "os.environ[\"PYSPARK_PYTHON\"]='/opt/anaconda/envs/bd9/bin/python'\n",
    "os.environ[\"SPARK_HOME\"]='/usr/hdp/current/spark2-client'\n",
    "\n",
    "spark_home = os.environ.get('SPARK_HOME', None)\n",
    "if not spark_home:\n",
    "    raise ValueError('SPARK_HOME environment variable is not set')\n",
    "sys.path.insert(0, os.path.join(spark_home, 'python'))\n",
    "sys.path.insert(0, os.path.join(spark_home, 'python/lib/py4j-0.10.7-src.zip'))\n",
    "exec(open(os.path.join(spark_home, 'python/pyspark/shell.py')).read())"
   ]
  },
  {
   "cell_type": "code",
   "execution_count": 2,
   "metadata": {},
   "outputs": [
    {
     "data": {
      "text/html": [
       "\n",
       "            <div>\n",
       "                <p><b>SparkSession - in-memory</b></p>\n",
       "                \n",
       "        <div>\n",
       "            <p><b>SparkContext</b></p>\n",
       "\n",
       "            <p><a href=\"http://spark-ds-master1.newprolab.com:4067\">Spark UI</a></p>\n",
       "\n",
       "            <dl>\n",
       "              <dt>Version</dt>\n",
       "                <dd><code>v2.4.5</code></dd>\n",
       "              <dt>Master</dt>\n",
       "                <dd><code>yarn</code></dd>\n",
       "              <dt>AppName</dt>\n",
       "                <dd><code>pyspark-shell</code></dd>\n",
       "            </dl>\n",
       "        </div>\n",
       "        \n",
       "            </div>\n",
       "        "
      ],
      "text/plain": [
       "<pyspark.sql.session.SparkSession at 0x7ff318c1f6a0>"
      ]
     },
     "execution_count": 2,
     "metadata": {},
     "output_type": "execute_result"
    }
   ],
   "source": [
    "spark"
   ]
  },
  {
   "cell_type": "code",
   "execution_count": 3,
   "metadata": {},
   "outputs": [],
   "source": [
    "from pyspark.ml.feature import HashingTF, IDF, Tokenizer, StopWordsRemover\n",
    "from pyspark.ml import Pipeline\n",
    "from pyspark.sql.functions import udf, col, isnan, isnull, broadcast, desc, lower\n",
    "from pyspark.sql.types import FloatType, ArrayType, StringType\n",
    "import json\n",
    "import re"
   ]
  },
  {
   "cell_type": "code",
   "execution_count": 4,
   "metadata": {},
   "outputs": [],
   "source": [
    "# Курсы для поиска рекомендаций (вариант #10)\n",
    "search_courses = [[158, u'en', u'C++ For C Programmers'], [11286, u'en', u'The YouTube OneChannel Blueprint by Paul Colligan'], [12157, u'es', u'Word 2013. Nivel medio.'], [13396, u'es', u'Aprende a programar en PHP y desarrolla tu propio CMS by Eduardo Rodriguez Pati\\xf1o'], [1078, u'ru', u'\\u0422\\u0435\\u043e\\u0440\\u0438\\u044f \\u0438\\u043d\\u0444\\u043e\\u0440\\u043c\\u0430\\u0446\\u0438\\u043e\\u043d\\u043d\\u044b\\u0445 \\u0441\\u0438\\u0441\\u0442\\u0435\\u043c'], [17128, u'ru', u'\\u041f\\u043e\\u0436\\u0438\\u043b\\u043e\\u0439 \\u0447\\u0435\\u043b\\u043e\\u0432\\u0435\\u043a \\u0432 \\u0441\\u043e\\u0432\\u0440\\u0435\\u043c\\u0435\\u043d\\u043d\\u043e\\u043c \\u043e\\u0431\\u0449\\u0435\\u0441\\u0442\\u0432\\u0435']]"
   ]
  },
  {
   "cell_type": "code",
   "execution_count": 5,
   "metadata": {},
   "outputs": [
    {
     "data": {
      "text/plain": [
       "[[158, 'en', 'C++ For C Programmers'],\n",
       " [11286, 'en', 'The YouTube OneChannel Blueprint by Paul Colligan'],\n",
       " [12157, 'es', 'Word 2013. Nivel medio.'],\n",
       " [13396,\n",
       "  'es',\n",
       "  'Aprende a programar en PHP y desarrolla tu propio CMS by Eduardo Rodriguez Patiño'],\n",
       " [1078, 'ru', 'Теория информационных систем'],\n",
       " [17128, 'ru', 'Пожилой человек в современном обществе']]"
      ]
     },
     "execution_count": 5,
     "metadata": {},
     "output_type": "execute_result"
    }
   ],
   "source": [
    "search_courses"
   ]
  },
  {
   "cell_type": "code",
   "execution_count": 6,
   "metadata": {},
   "outputs": [],
   "source": [
    "#  Список id курсов\n",
    "search_courses_ids = sorted([row[0] for row in search_courses])"
   ]
  },
  {
   "cell_type": "code",
   "execution_count": 7,
   "metadata": {},
   "outputs": [
    {
     "data": {
      "text/plain": [
       "[158, 1078, 11286, 12157, 13396, 17128]"
      ]
     },
     "execution_count": 7,
     "metadata": {},
     "output_type": "execute_result"
    }
   ],
   "source": [
    "search_courses_ids "
   ]
  },
  {
   "cell_type": "code",
   "execution_count": 8,
   "metadata": {},
   "outputs": [],
   "source": [
    "# Читаем дата-файл с курсами\n",
    "data = spark.read.json(\"/labs/laba02/DO_record_per_line.json\")"
   ]
  },
  {
   "cell_type": "code",
   "execution_count": 9,
   "metadata": {},
   "outputs": [],
   "source": [
    "data = data.withColumn(\"desc\", lower(col(\"desc\")))"
   ]
  },
  {
   "cell_type": "code",
   "execution_count": 10,
   "metadata": {},
   "outputs": [
    {
     "name": "stdout",
     "output_type": "stream",
     "text": [
      "+--------------------+--------------------+---+----+--------------------+--------------+\n",
      "|                 cat|                desc| id|lang|                name|      provider|\n",
      "+--------------------+--------------------+---+----+--------------------+--------------+\n",
      "|3/business_manage...|this course intro...|  4|  en|Accounting Cycle:...|Canvas Network|\n",
      "|              11/law|this online cours...|  5|  en|American Counter ...|Canvas Network|\n",
      "|5/computer_scienc...|this course is ta...|  6|  fr|Arithmétique: en ...|Canvas Network|\n",
      "|  14/social_sciences|we live in a digi...|  7|  en|Becoming a Dynami...|Canvas Network|\n",
      "|2/biology_life_sc...|this self-paced c...|  8|  en|           Bioethics|Canvas Network|\n",
      "|9/humanities|15/m...|this game-based c...|  9|  en|College Foundatio...|Canvas Network|\n",
      "|  14/social_sciences|what’s in your di...| 10|  en|Digital Literacies I|Canvas Network|\n",
      "|  14/social_sciences|the goal of the d...| 11|  en|Digital Literacie...|Canvas Network|\n",
      "|  14/social_sciences|ready to explore ...| 12|  en|Digital Tools for...|Canvas Network|\n",
      "|  14/social_sciences|this self-paced c...| 13|  en|Discover Your Val...|Canvas Network|\n",
      "+--------------------+--------------------+---+----+--------------------+--------------+\n",
      "only showing top 10 rows\n",
      "\n"
     ]
    }
   ],
   "source": [
    "data.show(10)"
   ]
  },
  {
   "cell_type": "code",
   "execution_count": 11,
   "metadata": {},
   "outputs": [],
   "source": [
    "# Токенизатор\n",
    "tokenizer = Tokenizer(inputCol=\"desc\", outputCol=\"desc_words\")"
   ]
  },
  {
   "cell_type": "code",
   "execution_count": 12,
   "metadata": {},
   "outputs": [],
   "source": [
    "# Стоп-слова \n",
    "eng_stop_words = StopWordsRemover.loadDefaultStopWords(\"english\")"
   ]
  },
  {
   "cell_type": "code",
   "execution_count": 13,
   "metadata": {},
   "outputs": [],
   "source": [
    "swr = StopWordsRemover(inputCol=\"desc_words\", outputCol=\"words_filtered\", stopWords=eng_stop_words)"
   ]
  },
  {
   "cell_type": "code",
   "execution_count": 14,
   "metadata": {},
   "outputs": [],
   "source": [
    "# Hashing trick\n",
    "hashingTF = HashingTF(inputCol=\"words_filtered\", outputCol=\"rawFeatures\", numFeatures=10000, binary=False)"
   ]
  },
  {
   "cell_type": "code",
   "execution_count": 15,
   "metadata": {},
   "outputs": [],
   "source": [
    "# IDF\n",
    "idf = IDF(inputCol=\"rawFeatures\", outputCol=\"features\", minDocFreq=5)"
   ]
  },
  {
   "cell_type": "code",
   "execution_count": 16,
   "metadata": {},
   "outputs": [],
   "source": [
    "# Собираем pipeline\n",
    "pipeline = Pipeline(stages=[tokenizer, swr, hashingTF, idf])"
   ]
  },
  {
   "cell_type": "code",
   "execution_count": 17,
   "metadata": {},
   "outputs": [],
   "source": [
    "data_idf = pipeline.fit(data).transform(data)"
   ]
  },
  {
   "cell_type": "code",
   "execution_count": 18,
   "metadata": {},
   "outputs": [],
   "source": [
    "data_idf = data_idf.select(\"id\", \"lang\", \"name\", \"words_filtered\", \"features\")"
   ]
  },
  {
   "cell_type": "code",
   "execution_count": 19,
   "metadata": {},
   "outputs": [
    {
     "name": "stdout",
     "output_type": "stream",
     "text": [
      "+---+----+--------------------+--------------------+--------------------+\n",
      "| id|lang|                name|      words_filtered|            features|\n",
      "+---+----+--------------------+--------------------+--------------------+\n",
      "|  4|  en|Accounting Cycle:...|[course, introduc...|(10000,[36,42,63,...|\n",
      "|  5|  en|American Counter ...|[online, course, ...|(10000,[32,222,29...|\n",
      "|  6|  fr|Arithmétique: en ...|[course, taught, ...|(10000,[30,41,246...|\n",
      "|  7|  en|Becoming a Dynami...|[live, digitally,...|(10000,[493,721,8...|\n",
      "|  8|  en|           Bioethics|[self-paced, cour...|(10000,[32,65,115...|\n",
      "+---+----+--------------------+--------------------+--------------------+\n",
      "only showing top 5 rows\n",
      "\n"
     ]
    }
   ],
   "source": [
    "data_idf.show(5, True)"
   ]
  },
  {
   "cell_type": "code",
   "execution_count": 20,
   "metadata": {},
   "outputs": [
    {
     "name": "stdout",
     "output_type": "stream",
     "text": [
      "CPU times: user 28 ms, sys: 12 ms, total: 40 ms\n",
      "Wall time: 15.2 s\n"
     ]
    }
   ],
   "source": [
    "%%time\n",
    "# Выбираем вектора IDF по курсам для поиска рекомендаций\n",
    "search_courses_df = data_idf.where(col(\"id\").isin(search_courses_ids))\n",
    "\n",
    "# Переименовымваем поля для джойна, чтобы не повторялись\n",
    "search_courses_idf = search_courses_df.select(\"id\", \"lang\", \"name\", \"features\") \\\n",
    "    .withColumnRenamed(\"id\", \"search_id\") \\\n",
    "    .withColumnRenamed(\"lang\", \"search_lang\") \\\n",
    "    .withColumnRenamed(\"name\", \"search_name\") \\\n",
    "    .withColumnRenamed(\"features\", \"search_features\") \\\n",
    "\n",
    "# Перемножаем (cross-join) список всех курсов со списком поиска, чтобы просчитать все в один заход\n",
    "joined_data = data_idf.join(broadcast(search_courses_idf), data_idf.lang == search_courses_idf.search_lang) \\\n",
    "    .filter(\"lang = search_lang\") \\\n",
    "    .filter(\"id != search_id\")  \n",
    "\n",
    "# Создаем и регистриуем UDF для косинуса угла (cosine simularity )\n",
    "def cos_sim(a,b):\n",
    "    return float(a.dot(b) / (a.norm(2) * b.norm(2)))\n",
    "\n",
    "cos_sim_udf = udf(cos_sim, FloatType())\n",
    "\n",
    "# Считаем меру похожести для каждой пары - cosine simularity\n",
    "joined_data = joined_data.withColumn(\"cos_sim\", cos_sim_udf(col(\"features\"), col(\"search_features\"))) \\\n",
    "                .filter((isnan(col(\"cos_sim\")) == False) & (isnull(col(\"cos_sim\")) == False))\n",
    "\n",
    "joined_data.cache()\n",
    "\n",
    "# Собираем все рекомендации в dict\n",
    "result = dict()\n",
    "for course_id in search_courses_ids:\n",
    "    res = joined_data.filter(col(\"search_id\") == course_id).orderBy(desc(\"cos_sim\"), \"name\", \"id\").limit(10).select(\"id\").collect()\n",
    "    ids = [row[0] for row in res]\n",
    "    result[str(course_id)] = ids"
   ]
  },
  {
   "cell_type": "code",
   "execution_count": 21,
   "metadata": {},
   "outputs": [
    {
     "data": {
      "text/plain": [
       "{'158': [18170, 27094, 19278, 20260, 17802, 24967, 13398, 3041, 23129, 12666],\n",
       " '1078': [909, 20100, 933, 21403, 1080, 887, 1056, 1058, 869, 20329],\n",
       " '11286': [25819, 7760, 25820, 25818, 25816, 16906, 11469, 4638, 4139, 5199],\n",
       " '12157': [26336, 26670, 16859, 10640, 21337, 18030, 22284, 12486, 6730, 387],\n",
       " '13396': [13365, 4096, 9470, 18823, 10035, 25399, 17750, 20157, 4743, 20070],\n",
       " '17128': [17012, 20417, 17014, 17009, 7630, 17016, 8832, 17127, 18943, 17215]}"
      ]
     },
     "execution_count": 21,
     "metadata": {},
     "output_type": "execute_result"
    }
   ],
   "source": [
    "result"
   ]
  },
  {
   "cell_type": "code",
   "execution_count": 22,
   "metadata": {},
   "outputs": [],
   "source": [
    "# Пишем в JSON\n",
    "with open('lab02.json', 'w', encoding='utf-8') as f:\n",
    "    json.dump(result, f, indent=4)"
   ]
  },
  {
   "cell_type": "code",
   "execution_count": 23,
   "metadata": {},
   "outputs": [
    {
     "name": "stdout",
     "output_type": "stream",
     "text": [
      "{\r\n",
      "    \"158\": [\r\n",
      "        18170,\r\n",
      "        27094,\r\n",
      "        19278,\r\n",
      "        20260,\r\n",
      "        17802,\r\n",
      "        24967,\r\n",
      "        13398,\r\n",
      "        3041,\r\n",
      "        23129,\r\n",
      "        12666\r\n",
      "    ],\r\n",
      "    \"1078\": [\r\n",
      "        909,\r\n",
      "        20100,\r\n",
      "        933,\r\n",
      "        21403,\r\n",
      "        1080,\r\n",
      "        887,\r\n",
      "        1056,\r\n",
      "        1058,\r\n",
      "        869,\r\n",
      "        20329\r\n",
      "    ],\r\n",
      "    \"11286\": [\r\n",
      "        25819,\r\n",
      "        7760,\r\n",
      "        25820,\r\n",
      "        25818,\r\n",
      "        25816,\r\n",
      "        16906,\r\n",
      "        11469,\r\n",
      "        4638,\r\n",
      "        4139,\r\n",
      "        5199\r\n",
      "    ],\r\n",
      "    \"12157\": [\r\n",
      "        26336,\r\n",
      "        26670,\r\n",
      "        16859,\r\n",
      "        10640,\r\n",
      "        21337,\r\n",
      "        18030,\r\n",
      "        22284,\r\n",
      "        12486,\r\n",
      "        6730,\r\n",
      "        387\r\n",
      "    ],\r\n",
      "    \"13396\": [\r\n",
      "        13365,\r\n",
      "        4096,\r\n",
      "        9470,\r\n",
      "        18823,\r\n",
      "        10035,\r\n",
      "        25399,\r\n",
      "        17750,\r\n",
      "        20157,\r\n",
      "        4743,\r\n",
      "        20070\r\n",
      "    ],\r\n",
      "    \"17128\": [\r\n",
      "        17012,\r\n",
      "        20417,\r\n",
      "        17014,\r\n",
      "        17009,\r\n",
      "        7630,\r\n",
      "        17016,\r\n",
      "        8832,\r\n",
      "        17127,\r\n",
      "        18943,\r\n",
      "        17215\r\n",
      "    ]\r\n",
      "}"
     ]
    }
   ],
   "source": [
    "# Проверка файла\n",
    "!cat lab02.json"
   ]
  },
  {
   "cell_type": "code",
   "execution_count": 24,
   "metadata": {},
   "outputs": [],
   "source": [
    "# Стопим контекст\n",
    "sc.stop()"
   ]
  },
  {
   "cell_type": "code",
   "execution_count": null,
   "metadata": {},
   "outputs": [],
   "source": []
  }
 ],
 "metadata": {
  "kernelspec": {
   "display_name": "Python 3",
   "language": "python",
   "name": "python3"
  },
  "language_info": {
   "codemirror_mode": {
    "name": "ipython",
    "version": 3
   },
   "file_extension": ".py",
   "mimetype": "text/x-python",
   "name": "python",
   "nbconvert_exporter": "python",
   "pygments_lexer": "ipython3",
   "version": "3.6.5"
  }
 },
 "nbformat": 4,
 "nbformat_minor": 2
}
