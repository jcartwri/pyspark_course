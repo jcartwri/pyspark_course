{
 "cells": [
  {
   "cell_type": "code",
   "execution_count": 1,
   "metadata": {},
   "outputs": [],
   "source": [
    "import org.apache.spark.sql.SparkSession"
   ]
  },
  {
   "cell_type": "code",
   "execution_count": 2,
   "metadata": {},
   "outputs": [
    {
     "data": {
      "text/plain": [
       "spark = org.apache.spark.sql.SparkSession@4f429c56\n"
      ]
     },
     "metadata": {},
     "output_type": "display_data"
    },
    {
     "data": {
      "text/plain": [
       "org.apache.spark.sql.SparkSession@4f429c56"
      ]
     },
     "execution_count": 2,
     "metadata": {},
     "output_type": "execute_result"
    }
   ],
   "source": [
    "val spark = SparkSession\n",
    "  .builder()\n",
    "  .appName(\"lab5_scala\")\n",
    "  .config(\"spark.executor.instances\", \"3\")\n",
    "  .getOrCreate()"
   ]
  },
  {
   "cell_type": "code",
   "execution_count": 3,
   "metadata": {},
   "outputs": [],
   "source": [
    "import org.apache.spark.sql.types._\n",
    "import org.apache.spark.sql._\n",
    "import org.apache.spark.sql.functions._\n",
    "import org.apache.spark._"
   ]
  },
  {
   "cell_type": "code",
   "execution_count": 4,
   "metadata": {},
   "outputs": [],
   "source": [
    "import spark.implicits._"
   ]
  },
  {
   "cell_type": "code",
   "execution_count": 5,
   "metadata": {},
   "outputs": [
    {
     "data": {
      "text/plain": [
       "train_data = [_c0: int, ID: int ... 115 more fields]\n",
       "test_data = [_c0: int, ID: int ... 114 more fields]\n"
      ]
     },
     "metadata": {},
     "output_type": "display_data"
    },
    {
     "data": {
      "text/plain": [
       "[_c0: int, ID: int ... 114 more fields]"
      ]
     },
     "execution_count": 5,
     "metadata": {},
     "output_type": "execute_result"
    }
   ],
   "source": [
    "val train_data = spark.read.format(\"csv\").option(\"header\", \"true\").option(\"inferSchema\", \"true\").load(\"lab05_train.csv\").repartition(9)\n",
    "val test_data = spark.read.format(\"csv\").option(\"header\", \"true\").option(\"inferSchema\", \"true\").load(\"lab05_test.csv\").repartition(9)"
   ]
  },
  {
   "cell_type": "code",
   "execution_count": 6,
   "metadata": {
    "collapsed": true
   },
   "outputs": [
    {
     "name": "stdout",
     "output_type": "stream",
     "text": [
      "root\n",
      " |-- _c0: integer (nullable = true)\n",
      " |-- ID: integer (nullable = true)\n",
      " |-- CR_PROD_CNT_IL: integer (nullable = true)\n",
      " |-- AMOUNT_RUB_CLO_PRC: double (nullable = true)\n",
      " |-- PRC_ACCEPTS_A_EMAIL_LINK: double (nullable = true)\n",
      " |-- APP_REGISTR_RGN_CODE: double (nullable = true)\n",
      " |-- PRC_ACCEPTS_A_POS: double (nullable = true)\n",
      " |-- PRC_ACCEPTS_A_TK: double (nullable = true)\n",
      " |-- TURNOVER_DYNAMIC_IL_1M: double (nullable = true)\n",
      " |-- CNT_TRAN_AUT_TENDENCY1M: double (nullable = true)\n",
      " |-- SUM_TRAN_AUT_TENDENCY1M: double (nullable = true)\n",
      " |-- AMOUNT_RUB_SUP_PRC: double (nullable = true)\n",
      " |-- PRC_ACCEPTS_A_AMOBILE: double (nullable = true)\n",
      " |-- SUM_TRAN_AUT_TENDENCY3M: double (nullable = true)\n",
      " |-- CLNT_TRUST_RELATION: string (nullable = true)\n",
      " |-- PRC_ACCEPTS_TK: double (nullable = true)\n",
      " |-- PRC_ACCEPTS_A_MTP: double (nullable = true)\n",
      " |-- REST_DYNAMIC_FDEP_1M: double (nullable = true)\n",
      " |-- CNT_TRAN_AUT_TENDENCY3M: double (nullable = true)\n",
      " |-- CNT_ACCEPTS_TK: double (nullable = true)\n",
      " |-- APP_MARITAL_STATUS: string (nullable = true)\n",
      " |-- REST_DYNAMIC_SAVE_3M: double (nullable = true)\n",
      " |-- CR_PROD_CNT_VCU: integer (nullable = true)\n",
      " |-- REST_AVG_CUR: double (nullable = true)\n",
      " |-- CNT_TRAN_MED_TENDENCY1M: double (nullable = true)\n",
      " |-- APP_KIND_OF_PROP_HABITATION: string (nullable = true)\n",
      " |-- CLNT_JOB_POSITION_TYPE: string (nullable = true)\n",
      " |-- AMOUNT_RUB_NAS_PRC: double (nullable = true)\n",
      " |-- CLNT_JOB_POSITION: string (nullable = true)\n",
      " |-- APP_DRIVING_LICENSE: string (nullable = true)\n",
      " |-- TRANS_COUNT_SUP_PRC: double (nullable = true)\n",
      " |-- APP_EDUCATION: string (nullable = true)\n",
      " |-- CNT_TRAN_CLO_TENDENCY1M: double (nullable = true)\n",
      " |-- SUM_TRAN_MED_TENDENCY1M: double (nullable = true)\n",
      " |-- PRC_ACCEPTS_A_ATM: double (nullable = true)\n",
      " |-- PRC_ACCEPTS_MTP: double (nullable = true)\n",
      " |-- TRANS_COUNT_NAS_PRC: double (nullable = true)\n",
      " |-- APP_TRAVEL_PASS: string (nullable = true)\n",
      " |-- CNT_ACCEPTS_MTP: double (nullable = true)\n",
      " |-- CR_PROD_CNT_TOVR: integer (nullable = true)\n",
      " |-- APP_CAR: string (nullable = true)\n",
      " |-- CR_PROD_CNT_PIL: integer (nullable = true)\n",
      " |-- SUM_TRAN_CLO_TENDENCY1M: double (nullable = true)\n",
      " |-- APP_POSITION_TYPE: string (nullable = true)\n",
      " |-- TURNOVER_CC: double (nullable = true)\n",
      " |-- TRANS_COUNT_ATM_PRC: double (nullable = true)\n",
      " |-- AMOUNT_RUB_ATM_PRC: double (nullable = true)\n",
      " |-- TURNOVER_PAYM: double (nullable = true)\n",
      " |-- AGE: integer (nullable = true)\n",
      " |-- CNT_TRAN_MED_TENDENCY3M: double (nullable = true)\n",
      " |-- CR_PROD_CNT_CC: integer (nullable = true)\n",
      " |-- SUM_TRAN_MED_TENDENCY3M: double (nullable = true)\n",
      " |-- REST_DYNAMIC_FDEP_3M: double (nullable = true)\n",
      " |-- REST_DYNAMIC_IL_1M: double (nullable = true)\n",
      " |-- APP_EMP_TYPE: string (nullable = true)\n",
      " |-- SUM_TRAN_CLO_TENDENCY3M: double (nullable = true)\n",
      " |-- LDEAL_TENOR_MAX: double (nullable = true)\n",
      " |-- LDEAL_YQZ_CHRG: double (nullable = true)\n",
      " |-- CR_PROD_CNT_CCFP: integer (nullable = true)\n",
      " |-- DEAL_YQZ_IR_MAX: double (nullable = true)\n",
      " |-- LDEAL_YQZ_COM: double (nullable = true)\n",
      " |-- DEAL_YQZ_IR_MIN: double (nullable = true)\n",
      " |-- CNT_TRAN_CLO_TENDENCY3M: double (nullable = true)\n",
      " |-- REST_DYNAMIC_CUR_1M: double (nullable = true)\n",
      " |-- REST_AVG_PAYM: double (nullable = true)\n",
      " |-- LDEAL_TENOR_MIN: double (nullable = true)\n",
      " |-- LDEAL_AMT_MONTH: double (nullable = true)\n",
      " |-- APP_COMP_TYPE: string (nullable = true)\n",
      " |-- LDEAL_GRACE_DAYS_PCT_MED: double (nullable = true)\n",
      " |-- REST_DYNAMIC_CUR_3M: double (nullable = true)\n",
      " |-- CNT_TRAN_SUP_TENDENCY3M: double (nullable = true)\n",
      " |-- TURNOVER_DYNAMIC_CUR_1M: double (nullable = true)\n",
      " |-- REST_DYNAMIC_PAYM_3M: double (nullable = true)\n",
      " |-- SUM_TRAN_SUP_TENDENCY3M: double (nullable = true)\n",
      " |-- REST_DYNAMIC_IL_3M: double (nullable = true)\n",
      " |-- CNT_TRAN_ATM_TENDENCY3M: double (nullable = true)\n",
      " |-- CNT_TRAN_ATM_TENDENCY1M: double (nullable = true)\n",
      " |-- TURNOVER_DYNAMIC_IL_3M: double (nullable = true)\n",
      " |-- SUM_TRAN_ATM_TENDENCY3M: double (nullable = true)\n",
      " |-- DEAL_GRACE_DAYS_ACC_S1X1: double (nullable = true)\n",
      " |-- AVG_PCT_MONTH_TO_PCLOSE: double (nullable = true)\n",
      " |-- DEAL_YWZ_IR_MIN: double (nullable = true)\n",
      " |-- SUM_TRAN_SUP_TENDENCY1M: double (nullable = true)\n",
      " |-- DEAL_YWZ_IR_MAX: double (nullable = true)\n",
      " |-- SUM_TRAN_ATM_TENDENCY1M: double (nullable = true)\n",
      " |-- REST_DYNAMIC_PAYM_1M: double (nullable = true)\n",
      " |-- CNT_TRAN_SUP_TENDENCY1M: double (nullable = true)\n",
      " |-- DEAL_GRACE_DAYS_ACC_AVG: double (nullable = true)\n",
      " |-- TURNOVER_DYNAMIC_CUR_3M: double (nullable = true)\n",
      " |-- PACK: string (nullable = true)\n",
      " |-- MAX_PCLOSE_DATE: double (nullable = true)\n",
      " |-- LDEAL_YQZ_PC: double (nullable = true)\n",
      " |-- CLNT_SETUP_TENOR: double (nullable = true)\n",
      " |-- DEAL_GRACE_DAYS_ACC_MAX: double (nullable = true)\n",
      " |-- TURNOVER_DYNAMIC_PAYM_3M: double (nullable = true)\n",
      " |-- LDEAL_DELINQ_PER_MAXYQZ: double (nullable = true)\n",
      " |-- TURNOVER_DYNAMIC_PAYM_1M: double (nullable = true)\n",
      " |-- CLNT_SALARY_VALUE: double (nullable = true)\n",
      " |-- TRANS_AMOUNT_TENDENCY3M: double (nullable = true)\n",
      " |-- MED_DEBT_PRC_YQZ: double (nullable = true)\n",
      " |-- TRANS_CNT_TENDENCY3M: double (nullable = true)\n",
      " |-- LDEAL_USED_AMT_AVG_YQZ: double (nullable = true)\n",
      " |-- REST_DYNAMIC_CC_1M: double (nullable = true)\n",
      " |-- LDEAL_USED_AMT_AVG_YWZ: double (nullable = true)\n",
      " |-- TURNOVER_DYNAMIC_CC_1M: double (nullable = true)\n",
      " |-- AVG_PCT_DEBT_TO_DEAL_AMT: double (nullable = true)\n",
      " |-- LDEAL_ACT_DAYS_ACC_PCT_AVG: double (nullable = true)\n",
      " |-- REST_DYNAMIC_CC_3M: double (nullable = true)\n",
      " |-- MED_DEBT_PRC_YWZ: double (nullable = true)\n",
      " |-- LDEAL_ACT_DAYS_PCT_TR3: double (nullable = true)\n",
      " |-- LDEAL_ACT_DAYS_PCT_AAVG: double (nullable = true)\n",
      " |-- LDEAL_DELINQ_PER_MAXYWZ: double (nullable = true)\n",
      " |-- TURNOVER_DYNAMIC_CC_3M: double (nullable = true)\n",
      " |-- LDEAL_ACT_DAYS_PCT_TR: double (nullable = true)\n",
      " |-- LDEAL_ACT_DAYS_PCT_TR4: double (nullable = true)\n",
      " |-- LDEAL_ACT_DAYS_PCT_CURR: double (nullable = true)\n",
      " |-- TARGET: integer (nullable = true)\n",
      "\n"
     ]
    }
   ],
   "source": [
    "train_data.printSchema"
   ]
  },
  {
   "cell_type": "code",
   "execution_count": 7,
   "metadata": {
    "collapsed": true
   },
   "outputs": [
    {
     "data": {
      "text/plain": [
       "null_thresh = 160382.0\n",
       "to_drop = Array(PRC_ACCEPTS_A_EMAIL_LINK, APP_REGISTR_RGN_CODE, PRC_ACCEPTS_A_POS, PRC_ACCEPTS_A_TK, CNT_TRAN_AUT_TENDENCY1M, SUM_TRAN_AUT_TENDENCY1M, PRC_ACCEPTS_A_AMOBILE, SUM_TRAN_AUT_TENDENCY3M, CLNT_TRUST_RELATION, PRC_ACCEPTS_TK, PRC_ACCEPTS_A_MTP, CNT_TRAN_AUT_TENDENCY3M, CNT_ACCEPTS_TK, APP_MARITAL_STATUS, CNT_TRAN_MED_TENDENCY1M, APP_KIND_OF_PROP_HABITATION, CLNT_JOB_POSITION_TYPE, APP_DRIVING_LICENSE, APP_EDUCATION, CNT_TRAN_CLO_TENDENCY1M, SUM_TRAN_MED_TENDENCY1M, PRC_ACCEPTS_A_ATM, PRC_ACCEPTS_MTP, APP_TRAVEL_PASS, CNT_ACCEPTS_MTP, APP_CAR, SUM_TRAN_CLO_TENDENCY1M, APP_POSITION_TYPE, CNT_TRAN_MED_TENDENCY3M, SUM_TRAN_MED_TENDENCY3M, APP_EMP_TYPE, SUM_TRAN_CLO_TENDENCY3M, LDEAL_TENOR_MAX, LDEAL_YQZ_CHRG, DEAL_YQZ_IR_MAX, LDEAL_YQZ...\n"
      ]
     },
     "metadata": {},
     "output_type": "display_data"
    },
    {
     "data": {
      "text/plain": [
       "Array(PRC_ACCEPTS_A_EMAIL_LINK, APP_REGISTR_RGN_CODE, PRC_ACCEPTS_A_POS, PRC_ACCEPTS_A_TK, CNT_TRAN_AUT_TENDENCY1M, SUM_TRAN_AUT_TENDENCY1M, PRC_ACCEPTS_A_AMOBILE, SUM_TRAN_AUT_TENDENCY3M, CLNT_TRUST_RELATION, PRC_ACCEPTS_TK, PRC_ACCEPTS_A_MTP, CNT_TRAN_AUT_TENDENCY3M, CNT_ACCEPTS_TK, APP_MARITAL_STATUS, CNT_TRAN_MED_TENDENCY1M, APP_KIND_OF_PROP_HABITATION, CLNT_JOB_POSITION_TYPE, APP_DRIVING_LICENSE, APP_EDUCATION, CNT_TRAN_CLO_TENDENCY1M, SUM_TRAN_MED_TENDENCY1M, PRC_ACCEPTS_A_ATM, PRC_ACCEPTS_MTP, APP_TRAVEL_PASS, CNT_ACCEPTS_MTP, APP_CAR, SUM_TRAN_CLO_TENDENCY1M, APP_POSITION_TYPE, CNT_TRAN_MED_TENDENCY3M, SUM_TRAN_MED_TENDENCY3M, APP_EMP_TYPE, SUM_TRAN_CLO_TENDENCY3M, LDEAL_TENOR_MAX, LDEAL_YQZ_CHRG, DEAL_YQZ_IR_MAX, LDEAL_YQZ..."
      ]
     },
     "execution_count": 7,
     "metadata": {},
     "output_type": "execute_result"
    }
   ],
   "source": [
    "val null_thresh = 320764*0.5               \n",
    "\n",
    "val to_drop = train_data.columns.filter(\n",
    "    c => train_data.agg(\n",
    "        sum(when(train_data(c).isNull, 1).otherwise(0)).alias(c)\n",
    "    ).first().getLong(0) > null_thresh\n",
    ")"
   ]
  },
  {
   "cell_type": "code",
   "execution_count": 15,
   "metadata": {},
   "outputs": [
    {
     "data": {
      "text/plain": [
       "train_cleaned = [ID: int, CR_PROD_CNT_IL: int ... 49 more fields]\n",
       "test_cleaned = [ID: int, CR_PROD_CNT_IL: int ... 48 more fields]\n"
      ]
     },
     "metadata": {},
     "output_type": "display_data"
    },
    {
     "data": {
      "text/plain": [
       "[ID: int, CR_PROD_CNT_IL: int ... 48 more fields]"
      ]
     },
     "execution_count": 15,
     "metadata": {},
     "output_type": "execute_result"
    }
   ],
   "source": [
    "val train_cleaned = train_data.drop(to_drop : _*).drop(\"_c0\").where(col(\"TARGET\").isNotNull)\n",
    "val test_cleaned = test_data.drop(to_drop : _*).drop(\"_c0\")"
   ]
  },
  {
   "cell_type": "code",
   "execution_count": 20,
   "metadata": {},
   "outputs": [
    {
     "data": {
      "text/plain": [
       "numeric_columns = Array(AMOUNT_RUB_CLO_PRC, TURNOVER_DYNAMIC_IL_1M, AMOUNT_RUB_SUP_PRC, REST_DYNAMIC_FDEP_1M, REST_DYNAMIC_SAVE_3M, REST_AVG_CUR, AMOUNT_RUB_NAS_PRC, TRANS_COUNT_SUP_PRC, TRANS_COUNT_NAS_PRC, TURNOVER_CC, TRANS_COUNT_ATM_PRC, AMOUNT_RUB_ATM_PRC, TURNOVER_PAYM, REST_DYNAMIC_FDEP_3M, REST_DYNAMIC_IL_1M, REST_DYNAMIC_CUR_1M, REST_AVG_PAYM, LDEAL_GRACE_DAYS_PCT_MED, REST_DYNAMIC_CUR_3M, CNT_TRAN_SUP_TENDENCY3M, TURNOVER_DYNAMIC_CUR_1M, REST_DYNAMIC_PAYM_3M, SUM_TRAN_SUP_TENDENCY3M, REST_DYNAMIC_IL_3M, CNT_TRAN_ATM_TENDENCY3M, CNT_TRAN_ATM_TENDENCY1M, TURNOVER_DYNAMIC_IL_3M, SUM_TRAN_ATM_TENDENCY3M, SUM_TRAN_ATM_TENDENCY1M, REST_DYNAMIC_PAYM_1M, TURNOVER_DYNAMIC_CUR_3M, CLNT_SETUP_TENOR, TURNOVER_DYNAMIC_PAYM_3M, TURNOVER_DYNAMIC_PAYM_1M, TRANS_AMOUNT_TENDENCY3...\n"
      ]
     },
     "metadata": {},
     "output_type": "display_data"
    },
    {
     "data": {
      "text/plain": [
       "Array(AMOUNT_RUB_CLO_PRC, TURNOVER_DYNAMIC_IL_1M, AMOUNT_RUB_SUP_PRC, REST_DYNAMIC_FDEP_1M, REST_DYNAMIC_SAVE_3M, REST_AVG_CUR, AMOUNT_RUB_NAS_PRC, TRANS_COUNT_SUP_PRC, TRANS_COUNT_NAS_PRC, TURNOVER_CC, TRANS_COUNT_ATM_PRC, AMOUNT_RUB_ATM_PRC, TURNOVER_PAYM, REST_DYNAMIC_FDEP_3M, REST_DYNAMIC_IL_1M, REST_DYNAMIC_CUR_1M, REST_AVG_PAYM, LDEAL_GRACE_DAYS_PCT_MED, REST_DYNAMIC_CUR_3M, CNT_TRAN_SUP_TENDENCY3M, TURNOVER_DYNAMIC_CUR_1M, REST_DYNAMIC_PAYM_3M, SUM_TRAN_SUP_TENDENCY3M, REST_DYNAMIC_IL_3M, CNT_TRAN_ATM_TENDENCY3M, CNT_TRAN_ATM_TENDENCY1M, TURNOVER_DYNAMIC_IL_3M, SUM_TRAN_ATM_TENDENCY3M, SUM_TRAN_ATM_TENDENCY1M, REST_DYNAMIC_PAYM_1M, TURNOVER_DYNAMIC_CUR_3M, CLNT_SETUP_TENOR, TURNOVER_DYNAMIC_PAYM_3M, TURNOVER_DYNAMIC_PAYM_1M, TRANS_AMOUNT_TENDENCY3..."
      ]
     },
     "execution_count": 20,
     "metadata": {},
     "output_type": "execute_result"
    }
   ],
   "source": [
    "val numeric_columns = train_cleaned.schema.fields.filter(x => x.dataType == DoubleType).map(x => x.name)"
   ]
  },
  {
   "cell_type": "code",
   "execution_count": 21,
   "metadata": {
    "collapsed": true
   },
   "outputs": [
    {
     "data": {
      "text/plain": [
       "imputer_output = Array(AMOUNT_RUB_CLO_PRC_imputed, TURNOVER_DYNAMIC_IL_1M_imputed, AMOUNT_RUB_SUP_PRC_imputed, REST_DYNAMIC_FDEP_1M_imputed, REST_DYNAMIC_SAVE_3M_imputed, REST_AVG_CUR_imputed, AMOUNT_RUB_NAS_PRC_imputed, TRANS_COUNT_SUP_PRC_imputed, TRANS_COUNT_NAS_PRC_imputed, TURNOVER_CC_imputed, TRANS_COUNT_ATM_PRC_imputed, AMOUNT_RUB_ATM_PRC_imputed, TURNOVER_PAYM_imputed, REST_DYNAMIC_FDEP_3M_imputed, REST_DYNAMIC_IL_1M_imputed, REST_DYNAMIC_CUR_1M_imputed, REST_AVG_PAYM_imputed, LDEAL_GRACE_DAYS_PCT_MED_imputed, REST_DYNAMIC_CUR_3M_imputed, CNT_TRAN_SUP_TENDENCY3M_imputed, TURNOVER_DYNAMIC_CUR_1M_imputed, REST_DYNAMIC_PAYM_3M_imputed, SUM_TRAN_SUP_TENDENCY3M_imputed, REST_DYNAMIC_IL_3M_imputed, CNT_TRAN_ATM_TENDENCY3M_imputed, CNT_TRAN_ATM_TENDENCY1M_imputed, TURNOV...\n"
      ]
     },
     "metadata": {},
     "output_type": "display_data"
    },
    {
     "data": {
      "text/plain": [
       "Array(AMOUNT_RUB_CLO_PRC_imputed, TURNOVER_DYNAMIC_IL_1M_imputed, AMOUNT_RUB_SUP_PRC_imputed, REST_DYNAMIC_FDEP_1M_imputed, REST_DYNAMIC_SAVE_3M_imputed, REST_AVG_CUR_imputed, AMOUNT_RUB_NAS_PRC_imputed, TRANS_COUNT_SUP_PRC_imputed, TRANS_COUNT_NAS_PRC_imputed, TURNOVER_CC_imputed, TRANS_COUNT_ATM_PRC_imputed, AMOUNT_RUB_ATM_PRC_imputed, TURNOVER_PAYM_imputed, REST_DYNAMIC_FDEP_3M_imputed, REST_DYNAMIC_IL_1M_imputed, REST_DYNAMIC_CUR_1M_imputed, REST_AVG_PAYM_imputed, LDEAL_GRACE_DAYS_PCT_MED_imputed, REST_DYNAMIC_CUR_3M_imputed, CNT_TRAN_SUP_TENDENCY3M_imputed, TURNOVER_DYNAMIC_CUR_1M_imputed, REST_DYNAMIC_PAYM_3M_imputed, SUM_TRAN_SUP_TENDENCY3M_imputed, REST_DYNAMIC_IL_3M_imputed, CNT_TRAN_ATM_TENDENCY3M_imputed, CNT_TRAN_ATM_TENDENCY1M_imputed, TURNOV..."
      ]
     },
     "execution_count": 21,
     "metadata": {},
     "output_type": "execute_result"
    }
   ],
   "source": [
    "val imputer_output = numeric_columns.map(x => x.concat(\"_imputed\"))"
   ]
  },
  {
   "cell_type": "code",
   "execution_count": 24,
   "metadata": {},
   "outputs": [],
   "source": [
    "import org.apache.spark.ml.feature.{Imputer, VectorAssembler}\n",
    "import org.apache.spark.ml.Pipeline"
   ]
  },
  {
   "cell_type": "code",
   "execution_count": 27,
   "metadata": {},
   "outputs": [
    {
     "data": {
      "text/plain": [
       "imputer = imputer_3a86f38b38e3\n",
       "assembler = vecAssembler_15502a61d80c\n",
       "pipeline = pipeline_274d07bef531\n",
       "fitted_pipeline = pipeline_274d07bef531\n"
      ]
     },
     "metadata": {},
     "output_type": "display_data"
    },
    {
     "data": {
      "text/plain": [
       "pipeline_274d07bef531"
      ]
     },
     "execution_count": 27,
     "metadata": {},
     "output_type": "execute_result"
    }
   ],
   "source": [
    "val imputer = new Imputer().setInputCols(numeric_columns).setOutputCols(imputer_output)\n",
    "val assembler = new VectorAssembler().setInputCols(imputer.getOutputCols).setOutputCol(\"features\")\n",
    "val pipeline = new Pipeline().setStages(Array(imputer, assembler))\n",
    "val fitted_pipeline = pipeline.fit(train_cleaned)"
   ]
  },
  {
   "cell_type": "code",
   "execution_count": 28,
   "metadata": {},
   "outputs": [
    {
     "data": {
      "text/plain": [
       "train_features = [ID: int, features: vector ... 1 more field]\n",
       "test_features = [ID: int, features: vector]\n"
      ]
     },
     "metadata": {},
     "output_type": "display_data"
    },
    {
     "data": {
      "text/plain": [
       "[ID: int, features: vector]"
      ]
     },
     "execution_count": 28,
     "metadata": {},
     "output_type": "execute_result"
    }
   ],
   "source": [
    "val train_features = fitted_pipeline.transform(train_cleaned).select(\"ID\", \"features\", \"TARGET\")\n",
    "val test_features = fitted_pipeline.transform(test_cleaned).select(\"ID\", \"features\")"
   ]
  },
  {
   "cell_type": "code",
   "execution_count": 29,
   "metadata": {},
   "outputs": [],
   "source": [
    "import org.apache.spark.ml.regression.GBTRegressor"
   ]
  },
  {
   "cell_type": "code",
   "execution_count": 30,
   "metadata": {},
   "outputs": [
    {
     "data": {
      "text/plain": [
       "gbt = gbtr_ad73429638ed\n"
      ]
     },
     "metadata": {},
     "output_type": "display_data"
    },
    {
     "data": {
      "text/plain": [
       "gbtr_ad73429638ed"
      ]
     },
     "execution_count": 30,
     "metadata": {},
     "output_type": "execute_result"
    }
   ],
   "source": [
    "val gbt = new GBTRegressor()\n",
    "  .setLabelCol(\"TARGET\")\n",
    "  .setFeaturesCol(\"features\")\n",
    "  .setMaxIter(10)"
   ]
  },
  {
   "cell_type": "code",
   "execution_count": 31,
   "metadata": {},
   "outputs": [
    {
     "data": {
      "text/plain": [
       "gbtModel = GBTRegressionModel (uid=gbtr_ad73429638ed) with 10 trees\n"
      ]
     },
     "metadata": {},
     "output_type": "display_data"
    },
    {
     "data": {
      "text/plain": [
       "GBTRegressionModel (uid=gbtr_ad73429638ed) with 10 trees"
      ]
     },
     "execution_count": 31,
     "metadata": {},
     "output_type": "execute_result"
    }
   ],
   "source": [
    "val gbtModel = gbt.fit(train_features)"
   ]
  },
  {
   "cell_type": "code",
   "execution_count": 32,
   "metadata": {},
   "outputs": [
    {
     "data": {
      "text/plain": [
       "predictions = [ID: int, features: vector ... 1 more field]\n"
      ]
     },
     "metadata": {},
     "output_type": "display_data"
    },
    {
     "data": {
      "text/plain": [
       "[ID: int, features: vector ... 1 more field]"
      ]
     },
     "execution_count": 32,
     "metadata": {},
     "output_type": "execute_result"
    }
   ],
   "source": [
    "val predictions = gbtModel.transform(test_features)"
   ]
  },
  {
   "cell_type": "code",
   "execution_count": 33,
   "metadata": {},
   "outputs": [
    {
     "name": "stdout",
     "output_type": "stream",
     "text": [
      "root\n",
      " |-- ID: integer (nullable = true)\n",
      " |-- features: vector (nullable = true)\n",
      " |-- prediction: double (nullable = false)\n",
      "\n"
     ]
    }
   ],
   "source": [
    "predictions.printSchema"
   ]
  },
  {
   "cell_type": "code",
   "execution_count": 35,
   "metadata": {},
   "outputs": [
    {
     "data": {
      "text/plain": [
       "formatted_predictions = [id: int, target: double]\n"
      ]
     },
     "metadata": {},
     "output_type": "display_data"
    },
    {
     "data": {
      "text/plain": [
       "[id: int, target: double]"
      ]
     },
     "execution_count": 35,
     "metadata": {},
     "output_type": "execute_result"
    }
   ],
   "source": [
    "val formatted_predictions = predictions.select(col(\"ID\").alias(\"id\"), col(\"prediction\").alias(\"target\"))"
   ]
  },
  {
   "cell_type": "code",
   "execution_count": 36,
   "metadata": {
    "collapsed": true
   },
   "outputs": [
    {
     "name": "stdout",
     "output_type": "stream",
     "text": [
      "+------+--------------------+\n",
      "|    id|              target|\n",
      "+------+--------------------+\n",
      "|412526|   0.062531579825321|\n",
      "|287795| 0.05801986839747308|\n",
      "|168477| 0.14907131236934534|\n",
      "|164955| 0.08395443833268922|\n",
      "|506312|0.026725001717987983|\n",
      "|168433| 0.08012326979662696|\n",
      "|432893| 0.00418002077730148|\n",
      "|558248|   0.026419577050117|\n",
      "|303459|0.013296422312620557|\n",
      "|369168| 0.23351626196083528|\n",
      "|408332| 0.15204690822343314|\n",
      "|433082| 0.11494041973074494|\n",
      "|422373| 0.08809626087407926|\n",
      "|513560| 0.41764320315357634|\n",
      "|299674|0.002980147483337211|\n",
      "|523888|0.004077939595414096|\n",
      "|444091|-0.00153809600934...|\n",
      "|262653| 0.04103512650894509|\n",
      "|553431| 0.09115685947485448|\n",
      "|484155| 0.07388045294636353|\n",
      "+------+--------------------+\n",
      "only showing top 20 rows\n",
      "\n"
     ]
    }
   ],
   "source": [
    "formatted_predictions.show"
   ]
  },
  {
   "cell_type": "code",
   "execution_count": 37,
   "metadata": {},
   "outputs": [],
   "source": [
    "formatted_predictions.coalesce(1).write.mode(SaveMode.Overwrite).option(\"delimiter\", \"\\t\").option(\"header\", \"true\").csv(\"lab05.csv\")"
   ]
  },
  {
   "cell_type": "code",
   "execution_count": 38,
   "metadata": {},
   "outputs": [],
   "source": [
    "sc.stop"
   ]
  },
  {
   "cell_type": "code",
   "execution_count": null,
   "metadata": {},
   "outputs": [],
   "source": []
  }
 ],
 "metadata": {
  "kernelspec": {
   "display_name": "Apache Toree - Scala",
   "language": "scala",
   "name": "apache_toree_scala"
  },
  "language_info": {
   "codemirror_mode": "text/x-scala",
   "file_extension": ".scala",
   "mimetype": "text/x-scala",
   "name": "scala",
   "pygments_lexer": "scala",
   "version": "2.11.12"
  }
 },
 "nbformat": 4,
 "nbformat_minor": 2
}
