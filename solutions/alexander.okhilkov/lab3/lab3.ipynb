{
 "cells": [
  {
   "cell_type": "code",
   "execution_count": 1,
   "metadata": {},
   "outputs": [],
   "source": [
    "import os\n",
    "import sys\n",
    "os.environ[\"PYSPARK_SUBMIT_ARGS\"]='--num-executors 8 pyspark-shell'\n",
    "os.environ[\"PYSPARK_PYTHON\"]='/opt/anaconda/envs/bd9/bin/python'\n",
    "os.environ[\"SPARK_HOME\"]='/usr/hdp/current/spark2-client'\n",
    "\n",
    "spark_home = os.environ.get('SPARK_HOME', None)\n",
    "if not spark_home:\n",
    "    raise ValueError('SPARK_HOME environment variable is not set')\n",
    "sys.path.insert(0, os.path.join(spark_home, 'python'))\n",
    "sys.path.insert(0, os.path.join(spark_home, 'python/lib/py4j-0.10.7-src.zip'))"
   ]
  },
  {
   "cell_type": "code",
   "execution_count": 2,
   "metadata": {},
   "outputs": [],
   "source": [
    "from pyspark import SparkConf\n",
    "from pyspark.sql import SparkSession\n",
    "\n",
    "conf = SparkConf()\n",
    "conf.set(\"spark.app.name\", \"lab3 lr ALS app\") \n",
    "\n",
    "spark = SparkSession.builder.config(conf=conf).getOrCreate()"
   ]
  },
  {
   "cell_type": "code",
   "execution_count": 3,
   "metadata": {},
   "outputs": [
    {
     "data": {
      "text/html": [
       "\n",
       "            <div>\n",
       "                <p><b>SparkSession - in-memory</b></p>\n",
       "                \n",
       "        <div>\n",
       "            <p><b>SparkContext</b></p>\n",
       "\n",
       "            <p><a href=\"http://spark-de-master-3.newprolab.com:4054\">Spark UI</a></p>\n",
       "\n",
       "            <dl>\n",
       "              <dt>Version</dt>\n",
       "                <dd><code>v2.4.7</code></dd>\n",
       "              <dt>Master</dt>\n",
       "                <dd><code>yarn</code></dd>\n",
       "              <dt>AppName</dt>\n",
       "                <dd><code>lab3 lr ALS app</code></dd>\n",
       "            </dl>\n",
       "        </div>\n",
       "        \n",
       "            </div>\n",
       "        "
      ],
      "text/plain": [
       "<pyspark.sql.session.SparkSession at 0x7ff883657d30>"
      ]
     },
     "execution_count": 3,
     "metadata": {},
     "output_type": "execute_result"
    }
   ],
   "source": [
    "spark"
   ]
  },
  {
   "cell_type": "markdown",
   "metadata": {},
   "source": [
    "![ALS](pics/mf.png)"
   ]
  },
  {
   "cell_type": "code",
   "execution_count": 4,
   "metadata": {},
   "outputs": [],
   "source": [
    "from pyspark.sql.types import StructType, StructField, IntegerType, LongType , StringType"
   ]
  },
  {
   "cell_type": "markdown",
   "metadata": {},
   "source": [
    "# DATA"
   ]
  },
  {
   "cell_type": "code",
   "execution_count": 5,
   "metadata": {},
   "outputs": [
    {
     "name": "stdout",
     "output_type": "stream",
     "text": [
      "Found 4 items\r\n",
      "-rw-r--r--   3 hdfs hdfs   91066524 2021-02-27 22:12 /labs/slaba03/laba03_items.csv\r\n",
      "-rw-r--r--   3 hdfs hdfs   29965581 2021-02-27 22:12 /labs/slaba03/laba03_test.csv\r\n",
      "-rw-r--r--   3 hdfs hdfs   74949368 2021-02-27 22:12 /labs/slaba03/laba03_train.csv\r\n",
      "-rw-r--r--   3 hdfs hdfs  871302535 2021-02-27 22:12 /labs/slaba03/laba03_views_programmes.csv\r\n"
     ]
    }
   ],
   "source": [
    "! hdfs dfs -ls /labs/slaba03/"
   ]
  },
  {
   "cell_type": "markdown",
   "metadata": {},
   "source": [
    "## items"
   ]
  },
  {
   "cell_type": "code",
   "execution_count": 6,
   "metadata": {},
   "outputs": [],
   "source": [
    "items = spark.read.csv(\"/labs/slaba03/laba03_items.csv\", sep=\"\\t\" , header=True).repartition(20).cache()\n",
    "\n",
    "items = items.select(['item_id' , 'content_type' , 'title' , 'year' , 'genres' ])\n",
    "\n",
    "items = items.select(\n",
    "        items.item_id.cast(IntegerType()),\n",
    "        items.content_type.cast(IntegerType()), \n",
    "        items.title.cast(StringType()), \n",
    "        items.year.cast(IntegerType()),\n",
    "        items.genres.cast(StringType())\n",
    "    )"
   ]
  },
  {
   "cell_type": "markdown",
   "metadata": {},
   "source": [
    "## train"
   ]
  },
  {
   "cell_type": "code",
   "execution_count": 7,
   "metadata": {},
   "outputs": [],
   "source": [
    "train = spark.read.csv(\"/labs/slaba03/laba03_train.csv\", sep=\",\" , header=True).repartition(20).cache()\n",
    "\n",
    "train = train.select(\n",
    "        train.user_id.cast(IntegerType()),\n",
    "        train.item_id.cast(IntegerType()),\n",
    "        train.purchase.cast(IntegerType())\n",
    "    )"
   ]
  },
  {
   "cell_type": "code",
   "execution_count": 8,
   "metadata": {},
   "outputs": [
    {
     "name": "stdout",
     "output_type": "stream",
     "text": [
      "+-------+-------+--------+\n",
      "|user_id|item_id|purchase|\n",
      "+-------+-------+--------+\n",
      "| 908726|  90428|       0|\n",
      "| 907172|  90013|       0|\n",
      "| 900784|  74711|       0|\n",
      "| 902100|  94992|       0|\n",
      "| 902812|  10099|       0|\n",
      "| 913192|  72902|       0|\n",
      "| 910553|  74864|       0|\n",
      "| 903276|  80891|       0|\n",
      "| 902597|  10354|       0|\n",
      "| 906738|  99743|       0|\n",
      "| 908172|  93586|       0|\n",
      "| 911781|  92357|       0|\n",
      "| 909478|  86740|       0|\n",
      "| 914327|  71588|       0|\n",
      "| 910449|  94853|       0|\n",
      "| 911435|  11194|       0|\n",
      "| 910702|  88974|       0|\n",
      "| 911072|  71673|       0|\n",
      "| 906109|  98670|       0|\n",
      "| 906250|  91206|       0|\n",
      "+-------+-------+--------+\n",
      "only showing top 20 rows\n",
      "\n"
     ]
    }
   ],
   "source": [
    "train.show()"
   ]
  },
  {
   "cell_type": "code",
   "execution_count": 9,
   "metadata": {},
   "outputs": [
    {
     "data": {
      "text/plain": [
       "5032624"
      ]
     },
     "execution_count": 9,
     "metadata": {},
     "output_type": "execute_result"
    }
   ],
   "source": [
    "train.count()"
   ]
  },
  {
   "cell_type": "markdown",
   "metadata": {},
   "source": [
    "## test"
   ]
  },
  {
   "cell_type": "code",
   "execution_count": 10,
   "metadata": {},
   "outputs": [],
   "source": [
    "test = spark.read.csv(\"/labs/slaba03/laba03_test.csv\", sep=\",\" , header=True).drop('purchase').repartition(20).cache()\n",
    "\n",
    "test = test.select(\n",
    "        test.user_id.cast(IntegerType()),\n",
    "        test.item_id.cast(IntegerType())\n",
    "    )"
   ]
  },
  {
   "cell_type": "code",
   "execution_count": 11,
   "metadata": {},
   "outputs": [
    {
     "name": "stdout",
     "output_type": "stream",
     "text": [
      "+-------+-------+\n",
      "|user_id|item_id|\n",
      "+-------+-------+\n",
      "| 851090|  10936|\n",
      "| 852464|  94846|\n",
      "| 847696|  74282|\n",
      "| 830022|   5451|\n",
      "| 826835|  74287|\n",
      "| 830022|   3066|\n",
      "| 838366| 100759|\n",
      "| 836137|  85981|\n",
      "| 842105|  94864|\n",
      "| 846644|  99698|\n",
      "| 833086|  83024|\n",
      "| 812764|  83484|\n",
      "| 822559|  88808|\n",
      "| 814235|   9855|\n",
      "| 845644|  88636|\n",
      "| 836300|  95141|\n",
      "| 839066|  72625|\n",
      "| 816774|  10016|\n",
      "| 812764|  89257|\n",
      "| 824685|  94668|\n",
      "+-------+-------+\n",
      "only showing top 20 rows\n",
      "\n"
     ]
    }
   ],
   "source": [
    "test.show()"
   ]
  },
  {
   "cell_type": "code",
   "execution_count": 12,
   "metadata": {},
   "outputs": [
    {
     "data": {
      "text/plain": [
       "2156840"
      ]
     },
     "execution_count": 12,
     "metadata": {},
     "output_type": "execute_result"
    }
   ],
   "source": [
    "test.count()"
   ]
  },
  {
   "cell_type": "markdown",
   "metadata": {},
   "source": [
    "# Data Analysis"
   ]
  },
  {
   "cell_type": "code",
   "execution_count": 13,
   "metadata": {},
   "outputs": [
    {
     "name": "stdout",
     "output_type": "stream",
     "text": [
      "+------------+------+\n",
      "|content_type| count|\n",
      "+------------+------+\n",
      "|           1|  3704|\n",
      "|           0|631864|\n",
      "+------------+------+\n",
      "\n"
     ]
    }
   ],
   "source": [
    "items.groupBy('content_type').count().show()"
   ]
  },
  {
   "cell_type": "code",
   "execution_count": 14,
   "metadata": {},
   "outputs": [
    {
     "name": "stdout",
     "output_type": "stream",
     "text": [
      "+------------+-------+\n",
      "|content_type|  count|\n",
      "+------------+-------+\n",
      "|           1|5032624|\n",
      "+------------+-------+\n",
      "\n"
     ]
    }
   ],
   "source": [
    "qq = train.join(items , on = 'item_id', how = 'left')\n",
    "qq.groupBy('content_type').count().show()"
   ]
  },
  {
   "cell_type": "code",
   "execution_count": 15,
   "metadata": {},
   "outputs": [
    {
     "name": "stdout",
     "output_type": "stream",
     "text": [
      "+------------+-------+\n",
      "|content_type|  count|\n",
      "+------------+-------+\n",
      "|           1|2156840|\n",
      "+------------+-------+\n",
      "\n"
     ]
    }
   ],
   "source": [
    "qq = test.join(items , on = 'item_id', how = 'left')\n",
    "qq.groupBy('content_type').count().show()"
   ]
  },
  {
   "cell_type": "code",
   "execution_count": 16,
   "metadata": {},
   "outputs": [
    {
     "name": "stdout",
     "output_type": "stream",
     "text": [
      "+-------+-------+\n",
      "|user_id|item_id|\n",
      "+-------+-------+\n",
      "+-------+-------+\n",
      "\n"
     ]
    }
   ],
   "source": [
    "qq = test.join(train , on = ['user_id'], how = 'left_anti')\n",
    "qq.show()"
   ]
  },
  {
   "cell_type": "code",
   "execution_count": 17,
   "metadata": {},
   "outputs": [
    {
     "name": "stdout",
     "output_type": "stream",
     "text": [
      "+-------+-------+--------+\n",
      "|user_id|item_id|purchase|\n",
      "+-------+-------+--------+\n",
      "+-------+-------+--------+\n",
      "\n"
     ]
    }
   ],
   "source": [
    "qq = train.join(test , on = ['user_id'], how = 'left_anti')\n",
    "qq.show()"
   ]
  },
  {
   "cell_type": "code",
   "execution_count": 18,
   "metadata": {},
   "outputs": [
    {
     "name": "stdout",
     "output_type": "stream",
     "text": [
      "1941\n",
      "1941\n"
     ]
    }
   ],
   "source": [
    "print( train.select(['user_id']).distinct().count() )\n",
    "print( test.select(['user_id']).distinct().count() )"
   ]
  },
  {
   "cell_type": "markdown",
   "metadata": {},
   "source": [
    "# Data prep"
   ]
  },
  {
   "cell_type": "code",
   "execution_count": 19,
   "metadata": {},
   "outputs": [],
   "source": [
    "# train = train.filter(train['user_id'].isNotNull())\n",
    "\n",
    "# test = test.filter(test['user_id'].isNotNull())"
   ]
  },
  {
   "cell_type": "markdown",
   "metadata": {},
   "source": [
    "# MODEL"
   ]
  },
  {
   "cell_type": "code",
   "execution_count": 20,
   "metadata": {},
   "outputs": [],
   "source": [
    "from pyspark.ml.recommendation import ALS\n",
    "import pyspark.sql.functions as f"
   ]
  },
  {
   "cell_type": "code",
   "execution_count": 21,
   "metadata": {},
   "outputs": [
    {
     "name": "stdout",
     "output_type": "stream",
     "text": [
      "10\n"
     ]
    }
   ],
   "source": [
    "als = ALS(rank=10, maxIter=5, seed=5757, userCol ='user_id', itemCol = 'item_id' , ratingCol = 'purchase',regParam = 0.01)\n",
    "model = als.fit(train)\n",
    "print(model.rank)"
   ]
  },
  {
   "cell_type": "code",
   "execution_count": 22,
   "metadata": {},
   "outputs": [],
   "source": [
    "predictions = model.transform(test)"
   ]
  },
  {
   "cell_type": "code",
   "execution_count": 23,
   "metadata": {},
   "outputs": [
    {
     "name": "stdout",
     "output_type": "stream",
     "text": [
      "+-------+-------+--------------+\n",
      "|user_id|item_id|    prediction|\n",
      "+-------+-------+--------------+\n",
      "| 761341|   8389|  1.5657317E-6|\n",
      "| 776188|   8389|  1.0929426E-5|\n",
      "| 846231|   8389|  8.4143896E-5|\n",
      "| 822709|   8389|-2.0951666E-17|\n",
      "| 824008|   8389|   3.307014E-7|\n",
      "+-------+-------+--------------+\n",
      "only showing top 5 rows\n",
      "\n"
     ]
    }
   ],
   "source": [
    "predictions.show(5)"
   ]
  },
  {
   "cell_type": "code",
   "execution_count": 24,
   "metadata": {},
   "outputs": [],
   "source": [
    "predictions = predictions.withColumnRenamed('prediction' , 'purchase')\n",
    "predictions = predictions.orderBy( f.col(\"user_id\").asc(),f.col(\"item_id\").asc() )\n",
    "predictions_local = predictions.toPandas()\n",
    "\n",
    "# predictions_local.to_csv(\"lab03.csv\" , sep = ',')\n",
    "# predictions_local.to_csv(\"../../../lab03.csv\" , sep = ',')\n",
    "\n",
    "# рок аук 0.740602362923 для модели ALS(rank=100, maxIter=5, seed=5757, userCol ='user_id', itemCol = 'item_id' , ratingCol = 'purchase')\n",
    "\n",
    "# рок аук 0.74226086714  для модели \n",
    "# ALS(rank=10, maxIter=5, seed=5757, userCol ='user_id', itemCol = 'item_id' , ratingCol = 'purchase',regParam = 0.01)"
   ]
  },
  {
   "cell_type": "code",
   "execution_count": 25,
   "metadata": {},
   "outputs": [
    {
     "name": "stdout",
     "output_type": "stream",
     "text": [
      "+-------+-------+------------+\n",
      "|user_id|item_id|    purchase|\n",
      "+-------+-------+------------+\n",
      "|   1654|    336|         0.0|\n",
      "|   1654|    678|         0.0|\n",
      "|   1654|    691|         0.0|\n",
      "|   1654|    696| 9.717579E-6|\n",
      "|   1654|    763|1.3223355E-6|\n",
      "|   1654|    795|2.2608542E-4|\n",
      "|   1654|    861| 1.897685E-5|\n",
      "|   1654|   1137| 5.246289E-5|\n",
      "|   1654|   1159|6.5571094E-6|\n",
      "|   1654|   1428|1.8262921E-4|\n",
      "|   1654|   1685|1.8207046E-4|\n",
      "|   1654|   1686|2.1551454E-5|\n",
      "|   1654|   1704|3.4678287E-5|\n",
      "|   1654|   2093|         0.0|\n",
      "|   1654|   2343|1.8626827E-6|\n",
      "|   1654|   2451|         0.0|\n",
      "|   1654|   2469| 7.666614E-5|\n",
      "|   1654|   2603| 9.716289E-7|\n",
      "|   1654|   2609|         0.0|\n",
      "|   1654|   2621|2.3607981E-5|\n",
      "+-------+-------+------------+\n",
      "only showing top 20 rows\n",
      "\n"
     ]
    }
   ],
   "source": [
    "predictions.show()"
   ]
  },
  {
   "cell_type": "code",
   "execution_count": null,
   "metadata": {},
   "outputs": [],
   "source": []
  },
  {
   "cell_type": "code",
   "execution_count": null,
   "metadata": {},
   "outputs": [],
   "source": []
  },
  {
   "cell_type": "code",
   "execution_count": 26,
   "metadata": {},
   "outputs": [],
   "source": [
    "matrix_u = model.userFactors.cache()\n",
    "matrix_v = model.itemFactors.cache()"
   ]
  },
  {
   "cell_type": "code",
   "execution_count": 27,
   "metadata": {},
   "outputs": [
    {
     "name": "stdout",
     "output_type": "stream",
     "text": [
      "+------+--------------------+\n",
      "|    id|            features|\n",
      "+------+--------------------+\n",
      "|523860|[-6.827328E-4, 8....|\n",
      "|728960|[-8.58977E-5, 1.0...|\n",
      "|731490|[0.0, 0.0, 0.0, 0...|\n",
      "|736010|[-9.690348E-5, 1....|\n",
      "|739230|[-8.503938E-5, 1....|\n",
      "|741210|[-4.174811E-6, 3....|\n",
      "|747780|[0.0, 0.0, 0.0, 0...|\n",
      "|748500|[-1.094802E-6, 1....|\n",
      "|752360|[-1.4963507E-4, 1...|\n",
      "|752570|[-1.1249864E-6, 8...|\n",
      "|754230|[-0.0022404697, 0...|\n",
      "|765780|[-3.0246412E-4, 4...|\n",
      "|768480|[-1.8377606E-4, 1...|\n",
      "|768510|[-3.900799E-4, 3....|\n",
      "|769240|[-2.7155953E-16, ...|\n",
      "|780610|[-1.2636714E-6, 2...|\n",
      "|781080|[0.0, 0.0, 0.0, 0...|\n",
      "|781430|[-1.9749602E-4, 3...|\n",
      "|785860|[-1.6113782E-4, 2...|\n",
      "|793430|[-2.7821903E-7, -...|\n",
      "+------+--------------------+\n",
      "only showing top 20 rows\n",
      "\n"
     ]
    }
   ],
   "source": [
    "matrix_u.show()"
   ]
  },
  {
   "cell_type": "code",
   "execution_count": 28,
   "metadata": {},
   "outputs": [
    {
     "name": "stdout",
     "output_type": "stream",
     "text": [
      "+----+--------------------+\n",
      "|  id|            features|\n",
      "+----+--------------------+\n",
      "| 400|[-4.6870817E-5, 5...|\n",
      "| 430|[-1.4768392E-5, 1...|\n",
      "| 540|[-9.280533E-6, 9....|\n",
      "|1320|[0.0, 0.0, 0.0, 0...|\n",
      "|1870|[-1.6594844E-5, -...|\n",
      "|2360|[0.0, 0.0, 0.0, 0...|\n",
      "|2830|[-2.550362E-5, 2....|\n",
      "|2990|[-4.126096E-5, 4....|\n",
      "|3110|[-4.623342E-5, 5....|\n",
      "|3250|[-0.0017411183, 0...|\n",
      "|3470|[0.0, 0.0, 0.0, 0...|\n",
      "|3630|[-3.5064313E-5, 4...|\n",
      "|3750|[-6.91573E-6, 1.5...|\n",
      "|4120|[-0.0020157015, 0...|\n",
      "|5170|[-0.0017182988, 0...|\n",
      "|5340|[-4.953657E-5, 5....|\n",
      "|5510|[-0.0036376354, 0...|\n",
      "|5530|[-1.9856334E-4, 1...|\n",
      "|5550|[-1.9855585E-4, 1...|\n",
      "|5660|[-4.0021852E-5, 2...|\n",
      "+----+--------------------+\n",
      "only showing top 20 rows\n",
      "\n"
     ]
    }
   ],
   "source": [
    "matrix_v.show()"
   ]
  },
  {
   "cell_type": "code",
   "execution_count": 29,
   "metadata": {},
   "outputs": [
    {
     "data": {
      "text/plain": [
       "DataFrame[id: int, features: array<float>]"
      ]
     },
     "execution_count": 29,
     "metadata": {},
     "output_type": "execute_result"
    }
   ],
   "source": [
    "matrix_v"
   ]
  },
  {
   "cell_type": "code",
   "execution_count": null,
   "metadata": {},
   "outputs": [],
   "source": []
  },
  {
   "cell_type": "code",
   "execution_count": null,
   "metadata": {},
   "outputs": [],
   "source": []
  },
  {
   "cell_type": "markdown",
   "metadata": {},
   "source": [
    "# ПОПРОБУЕМ НА ГИПЕРПАРАМЕТРАХ ВЫЕХАТЬ"
   ]
  },
  {
   "cell_type": "code",
   "execution_count": 69,
   "metadata": {},
   "outputs": [],
   "source": [
    "from pyspark.ml.param.shared import HasInputCol, HasOutputCol\n",
    "from pyspark import keyword_only\n",
    "from pyspark.ml import Transformer"
   ]
  },
  {
   "cell_type": "code",
   "execution_count": 72,
   "metadata": {},
   "outputs": [],
   "source": [
    "class DoubleTransformer(Transformer, HasInputCol, HasOutputCol):\n",
    "    @keyword_only\n",
    "    def __init__(self, inputCol=None, outputCol=None):\n",
    "        super(DoubleTransformer, self).__init__()\n",
    "        if inputCol is not None:\n",
    "            self.setInputCol(inputCol)\n",
    "        if outputCol is not None:\n",
    "            self.setOutputCol(outputCol)\n",
    "            \n",
    "    def _transform(self, dataset):\n",
    "        return dataset.withColumn(self.getOutputCol(), f.col(self.getInputCol()).cast(\"double\"))"
   ]
  },
  {
   "cell_type": "code",
   "execution_count": 73,
   "metadata": {},
   "outputs": [],
   "source": [
    "dt = DoubleTransformer(inputCol = \"prediction\" , outputCol=\"prediction\")"
   ]
  },
  {
   "cell_type": "code",
   "execution_count": 74,
   "metadata": {},
   "outputs": [],
   "source": [
    "from pyspark.ml.tuning import ParamGridBuilder, CrossValidator\n",
    "from pyspark.ml.evaluation import BinaryClassificationEvaluator"
   ]
  },
  {
   "cell_type": "code",
   "execution_count": 75,
   "metadata": {},
   "outputs": [],
   "source": [
    "from pyspark.ml import Pipeline"
   ]
  },
  {
   "cell_type": "code",
   "execution_count": 76,
   "metadata": {},
   "outputs": [],
   "source": [
    "als = ALS(seed=5757, userCol ='user_id', itemCol = 'item_id' , ratingCol = 'purchase')"
   ]
  },
  {
   "cell_type": "code",
   "execution_count": 77,
   "metadata": {},
   "outputs": [],
   "source": [
    "pipeline = Pipeline(stages=[\n",
    "    als,\n",
    "    dt\n",
    "])"
   ]
  },
  {
   "cell_type": "code",
   "execution_count": 78,
   "metadata": {},
   "outputs": [],
   "source": [
    "param_grid = ParamGridBuilder() \\\n",
    "            .addGrid(als.rank, [10, 50, 100, 150]) \\\n",
    "            .addGrid(als.regParam, [.01, .05, .1, .15]) \\\n",
    "            .build()"
   ]
  },
  {
   "cell_type": "code",
   "execution_count": 79,
   "metadata": {},
   "outputs": [
    {
     "name": "stdout",
     "output_type": "stream",
     "text": [
      "Num models to be tested:  16\n"
     ]
    }
   ],
   "source": [
    "evaluator = BinaryClassificationEvaluator(\n",
    "           metricName=\"areaUnderROC\", \n",
    "           labelCol=\"purchase\", \n",
    "           rawPredictionCol=\"prediction\") \n",
    "print (\"Num models to be tested: \", len(param_grid))"
   ]
  },
  {
   "cell_type": "code",
   "execution_count": 83,
   "metadata": {},
   "outputs": [],
   "source": [
    "cv = CrossValidator(estimator=pipeline, estimatorParamMaps=param_grid, evaluator=evaluator, numFolds=5 , parallelism=4)"
   ]
  },
  {
   "cell_type": "code",
   "execution_count": null,
   "metadata": {},
   "outputs": [],
   "source": []
  },
  {
   "cell_type": "code",
   "execution_count": null,
   "metadata": {},
   "outputs": [],
   "source": [
    "model = cv.fit(train)"
   ]
  },
  {
   "cell_type": "code",
   "execution_count": null,
   "metadata": {},
   "outputs": [],
   "source": [
    "best_model = model.bestModel"
   ]
  },
  {
   "cell_type": "code",
   "execution_count": null,
   "metadata": {},
   "outputs": [],
   "source": [
    "model.bestModel"
   ]
  },
  {
   "cell_type": "code",
   "execution_count": null,
   "metadata": {},
   "outputs": [],
   "source": [
    "model = cv.fit(train)\n",
    "best_model = model.bestModel\n",
    "test_predictions = best_model.transform(test)\n",
    "roc_auc = evaluator.evaluate(test_predictions)\n",
    "print(roc_auc)"
   ]
  },
  {
   "cell_type": "code",
   "execution_count": null,
   "metadata": {},
   "outputs": [],
   "source": []
  },
  {
   "cell_type": "code",
   "execution_count": null,
   "metadata": {},
   "outputs": [],
   "source": [
    "print(\"**Best Model**\")\n",
    "# Print \"Rank\"\n",
    "print(\"  Rank:\", best_model._java_obj.parent().getRank())\n",
    "# Print \"MaxIter\"\n",
    "print(\"  MaxIter:\", best_model._java_obj.parent().getMaxIter())\n",
    "# Print \"RegParam\"\n",
    "print(\"  RegParam:\", best_model._java_obj.parent().getRegParam())"
   ]
  },
  {
   "cell_type": "code",
   "execution_count": 28,
   "metadata": {},
   "outputs": [],
   "source": [
    "# Бесконечно долго строим бустинг"
   ]
  },
  {
   "cell_type": "code",
   "execution_count": 34,
   "metadata": {},
   "outputs": [],
   "source": [
    "# досчиталось "
   ]
  },
  {
   "cell_type": "code",
   "execution_count": null,
   "metadata": {},
   "outputs": [],
   "source": [
    "model.getEstimatorParamMaps()"
   ]
  },
  {
   "cell_type": "raw",
   "metadata": {},
   "source": [
    "[{Param(parent='ALS_3db5f8ca28c9', name='rank', doc='rank of the factorization'): 10,\n",
    "  Param(parent='ALS_3db5f8ca28c9', name='regParam', doc='regularization parameter (>= 0).'): 0.01},\n",
    " {Param(parent='ALS_3db5f8ca28c9', name='rank', doc='rank of the factorization'): 10,\n",
    "  Param(parent='ALS_3db5f8ca28c9', name='regParam', doc='regularization parameter (>= 0).'): 0.05},\n",
    " {Param(parent='ALS_3db5f8ca28c9', name='rank', doc='rank of the factorization'): 10,\n",
    "  Param(parent='ALS_3db5f8ca28c9', name='regParam', doc='regularization parameter (>= 0).'): 0.1},\n",
    " {Param(parent='ALS_3db5f8ca28c9', name='rank', doc='rank of the factorization'): 10,\n",
    "  Param(parent='ALS_3db5f8ca28c9', name='regParam', doc='regularization parameter (>= 0).'): 0.15},\n",
    " {Param(parent='ALS_3db5f8ca28c9', name='rank', doc='rank of the factorization'): 50,\n",
    "  Param(parent='ALS_3db5f8ca28c9', name='regParam', doc='regularization parameter (>= 0).'): 0.01},\n",
    " {Param(parent='ALS_3db5f8ca28c9', name='rank', doc='rank of the factorization'): 50,\n",
    "  Param(parent='ALS_3db5f8ca28c9', name='regParam', doc='regularization parameter (>= 0).'): 0.05},\n",
    " {Param(parent='ALS_3db5f8ca28c9', name='rank', doc='rank of the factorization'): 50,\n",
    "  Param(parent='ALS_3db5f8ca28c9', name='regParam', doc='regularization parameter (>= 0).'): 0.1},\n",
    " {Param(parent='ALS_3db5f8ca28c9', name='rank', doc='rank of the factorization'): 50,\n",
    "  Param(parent='ALS_3db5f8ca28c9', name='regParam', doc='regularization parameter (>= 0).'): 0.15},\n",
    " {Param(parent='ALS_3db5f8ca28c9', name='rank', doc='rank of the factorization'): 100,\n",
    "  Param(parent='ALS_3db5f8ca28c9', name='regParam', doc='regularization parameter (>= 0).'): 0.01},\n",
    " {Param(parent='ALS_3db5f8ca28c9', name='rank', doc='rank of the factorization'): 100,\n",
    "  Param(parent='ALS_3db5f8ca28c9', name='regParam', doc='regularization parameter (>= 0).'): 0.05},\n",
    " {Param(parent='ALS_3db5f8ca28c9', name='rank', doc='rank of the factorization'): 100,\n",
    "  Param(parent='ALS_3db5f8ca28c9', name='regParam', doc='regularization parameter (>= 0).'): 0.1},\n",
    " {Param(parent='ALS_3db5f8ca28c9', name='rank', doc='rank of the factorization'): 100,\n",
    "  Param(parent='ALS_3db5f8ca28c9', name='regParam', doc='regularization parameter (>= 0).'): 0.15},\n",
    " {Param(parent='ALS_3db5f8ca28c9', name='rank', doc='rank of the factorization'): 150,\n",
    "  Param(parent='ALS_3db5f8ca28c9', name='regParam', doc='regularization parameter (>= 0).'): 0.01},\n",
    " {Param(parent='ALS_3db5f8ca28c9', name='rank', doc='rank of the factorization'): 150,\n",
    "  Param(parent='ALS_3db5f8ca28c9', name='regParam', doc='regularization parameter (>= 0).'): 0.05},\n",
    " {Param(parent='ALS_3db5f8ca28c9', name='rank', doc='rank of the factorization'): 150,\n",
    "  Param(parent='ALS_3db5f8ca28c9', name='regParam', doc='regularization parameter (>= 0).'): 0.1},\n",
    " {Param(parent='ALS_3db5f8ca28c9', name='rank', doc='rank of the factorization'): 150,\n",
    "  Param(parent='ALS_3db5f8ca28c9', name='regParam', doc='regularization parameter (>= 0).'): 0.15}]"
   ]
  },
  {
   "cell_type": "code",
   "execution_count": null,
   "metadata": {},
   "outputs": [],
   "source": [
    "model.avgMetrics"
   ]
  },
  {
   "cell_type": "raw",
   "metadata": {},
   "source": [
    "[0.7408693471624476,\n",
    " 0.7380340585061266,\n",
    " 0.7382151321231245,\n",
    " 0.6920321032659469,\n",
    " 0.740713698199106,\n",
    " 0.7382258950097849,\n",
    " 0.7382236936025859,\n",
    " 0.676681979391938,\n",
    " 0.7395244681561015,\n",
    " 0.7379268744724389,\n",
    " 0.7382204116585935,\n",
    " 0.6766044944177245,\n",
    " 0.7403093348368688,\n",
    " 0.738355852829487,\n",
    " 0.7382207237646499,\n",
    " 0.6592944367009284]"
   ]
  },
  {
   "cell_type": "code",
   "execution_count": null,
   "metadata": {},
   "outputs": [],
   "source": [
    "import numpy as np\n",
    "print(model.getEstimatorParamMaps()[np.argmax(model.avgMetrics)])"
   ]
  },
  {
   "cell_type": "raw",
   "metadata": {},
   "source": [
    "{Param(parent='ALS_3db5f8ca28c9', name='rank', doc='rank of the factorization'): 10, Param(parent='ALS_3db5f8ca28c9', name='regParam', doc='regularization parameter (>= 0).'): 0.01}"
   ]
  },
  {
   "cell_type": "code",
   "execution_count": null,
   "metadata": {},
   "outputs": [],
   "source": []
  },
  {
   "cell_type": "code",
   "execution_count": null,
   "metadata": {},
   "outputs": [],
   "source": []
  },
  {
   "cell_type": "code",
   "execution_count": null,
   "metadata": {},
   "outputs": [],
   "source": []
  },
  {
   "cell_type": "code",
   "execution_count": null,
   "metadata": {},
   "outputs": [],
   "source": []
  },
  {
   "cell_type": "code",
   "execution_count": null,
   "metadata": {},
   "outputs": [],
   "source": []
  },
  {
   "cell_type": "code",
   "execution_count": null,
   "metadata": {},
   "outputs": [],
   "source": []
  },
  {
   "cell_type": "code",
   "execution_count": null,
   "metadata": {},
   "outputs": [],
   "source": []
  },
  {
   "cell_type": "markdown",
   "metadata": {},
   "source": [
    "# Строим Бустинг"
   ]
  },
  {
   "cell_type": "markdown",
   "metadata": {},
   "source": [
    "## Частота покупок user и покупаемость item"
   ]
  },
  {
   "cell_type": "code",
   "execution_count": 30,
   "metadata": {},
   "outputs": [],
   "source": [
    "sdf_user_agg = train.select(['user_id', 'purchase']).groupBy(['user_id'])\\\n",
    "                    .agg(f.sum('purchase').alias('user_purchase_sum'),\n",
    "                         f.mean('purchase').alias('user_purchase_mean'))\n",
    "\n",
    "X_train = train.join(sdf_user_agg, on = ['user_id'], how = 'inner')\n",
    "X_test = test.join(sdf_user_agg, on = ['user_id'], how = 'inner')"
   ]
  },
  {
   "cell_type": "code",
   "execution_count": 31,
   "metadata": {},
   "outputs": [],
   "source": [
    "sdf_item_agg = train.select(['item_id', 'purchase']).groupBy(['item_id'])\\\n",
    "                    .agg(f.sum('purchase').alias('item_purchase_sum'),\n",
    "                         f.mean('purchase').alias('item_purchase_mean'))\n",
    "\n",
    "X_train = X_train.join(sdf_item_agg, on = ['item_id'], how = 'inner')\n",
    "X_test = X_test.join(sdf_item_agg, on = ['item_id'], how = 'inner')"
   ]
  },
  {
   "cell_type": "markdown",
   "metadata": {},
   "source": [
    "## CountVectorizer для жанров"
   ]
  },
  {
   "cell_type": "code",
   "execution_count": 32,
   "metadata": {},
   "outputs": [],
   "source": [
    "from pyspark.ml.feature import CountVectorizer"
   ]
  },
  {
   "cell_type": "code",
   "execution_count": 33,
   "metadata": {},
   "outputs": [],
   "source": [
    "items = items.na.fill({ 'genres': 'unknown'})"
   ]
  },
  {
   "cell_type": "code",
   "execution_count": 34,
   "metadata": {},
   "outputs": [],
   "source": [
    "X_train = X_train.join(items, on='item_id', how='left')\n",
    "X_test = X_test.join(items, on='item_id', how='left')"
   ]
  },
  {
   "cell_type": "code",
   "execution_count": 142,
   "metadata": {},
   "outputs": [],
   "source": [
    "# X_train.show()"
   ]
  },
  {
   "cell_type": "code",
   "execution_count": 143,
   "metadata": {},
   "outputs": [],
   "source": [
    "# X_test.show()"
   ]
  },
  {
   "cell_type": "code",
   "execution_count": 37,
   "metadata": {},
   "outputs": [],
   "source": [
    "X_train = X_train.withColumn(\"genres_list\", f.split(f.col(\"genres\"), ','))"
   ]
  },
  {
   "cell_type": "code",
   "execution_count": 144,
   "metadata": {
    "scrolled": true
   },
   "outputs": [],
   "source": [
    "# X_train.show()"
   ]
  },
  {
   "cell_type": "code",
   "execution_count": 39,
   "metadata": {
    "scrolled": true
   },
   "outputs": [],
   "source": [
    "cv_train = CountVectorizer(inputCol=\"genres_list\", outputCol=\"genres_cv\")\n",
    "\n",
    "cv_model = cv_train.fit(X_train)\n",
    "\n",
    "X_train = cv_model.transform(X_train)"
   ]
  },
  {
   "cell_type": "code",
   "execution_count": 145,
   "metadata": {},
   "outputs": [],
   "source": [
    "# X_train.show()"
   ]
  },
  {
   "cell_type": "code",
   "execution_count": null,
   "metadata": {},
   "outputs": [],
   "source": []
  },
  {
   "cell_type": "code",
   "execution_count": 44,
   "metadata": {},
   "outputs": [],
   "source": [
    "X_test = X_test.withColumn(\"genres_list\", f.split(f.col(\"genres\"), ','))"
   ]
  },
  {
   "cell_type": "code",
   "execution_count": 146,
   "metadata": {},
   "outputs": [],
   "source": [
    "# X_test.show()"
   ]
  },
  {
   "cell_type": "code",
   "execution_count": 46,
   "metadata": {},
   "outputs": [],
   "source": [
    "X_test = cv_model.transform(X_test)"
   ]
  },
  {
   "cell_type": "code",
   "execution_count": 48,
   "metadata": {},
   "outputs": [
    {
     "name": "stdout",
     "output_type": "stream",
     "text": [
      "+-------+-------+-----------------+--------------------+-----------------+--------------------+------------+--------------------+----+--------------------+--------------------+--------------------+\n",
      "|item_id|user_id|user_purchase_sum|  user_purchase_mean|item_purchase_sum|  item_purchase_mean|content_type|               title|year|              genres|         genres_list|           genres_cv|\n",
      "+-------+-------+-----------------+--------------------+-----------------+--------------------+------------+--------------------+----+--------------------+--------------------+--------------------+\n",
      "|   8389| 901323|                1|3.846153846153846E-4|                8|0.005979073243647235|           1|пес в сапогах (су...|1981|Мультфильмы,Детск...|[Мультфильмы, Дет...|(84,[6,14,19,22],...|\n",
      "|   8389| 928231|                2|7.584376185058779E-4|                8|0.005979073243647235|           1|пес в сапогах (су...|1981|Мультфильмы,Детск...|[Мультфильмы, Дет...|(84,[6,14,19,22],...|\n",
      "|   8389| 849754|                1|3.944773175542406E-4|                8|0.005979073243647235|           1|пес в сапогах (су...|1981|Мультфильмы,Детск...|[Мультфильмы, Дет...|(84,[6,14,19,22],...|\n",
      "|   8389| 860986|                2|7.659900421294523E-4|                8|0.005979073243647235|           1|пес в сапогах (су...|1981|Мультфильмы,Детск...|[Мультфильмы, Дет...|(84,[6,14,19,22],...|\n",
      "|   8389| 814235|                2| 7.78816199376947E-4|                8|0.005979073243647235|           1|пес в сапогах (су...|1981|Мультфильмы,Детск...|[Мультфильмы, Дет...|(84,[6,14,19,22],...|\n",
      "|   8389| 887904|                1|3.815337657382678...|                8|0.005979073243647235|           1|пес в сапогах (су...|1981|Мультфильмы,Детск...|[Мультфильмы, Дет...|(84,[6,14,19,22],...|\n",
      "|   8389| 927261|                5| 0.00195160031225605|                8|0.005979073243647235|           1|пес в сапогах (су...|1981|Мультфильмы,Детск...|[Мультфильмы, Дет...|(84,[6,14,19,22],...|\n",
      "|   8389| 869294|                2|7.619047619047619E-4|                8|0.005979073243647235|           1|пес в сапогах (су...|1981|Мультфильмы,Детск...|[Мультфильмы, Дет...|(84,[6,14,19,22],...|\n",
      "|   8389| 894833|                2|7.782101167315176E-4|                8|0.005979073243647235|           1|пес в сапогах (су...|1981|Мультфильмы,Детск...|[Мультфильмы, Дет...|(84,[6,14,19,22],...|\n",
      "|   8389| 833749|                1|3.859513701273639...|                8|0.005979073243647235|           1|пес в сапогах (су...|1981|Мультфильмы,Детск...|[Мультфильмы, Дет...|(84,[6,14,19,22],...|\n",
      "|   8389| 903014|               38| 0.01450381679389313|                8|0.005979073243647235|           1|пес в сапогах (су...|1981|Мультфильмы,Детск...|[Мультфильмы, Дет...|(84,[6,14,19,22],...|\n",
      "|   8389| 910897|                1|3.835826620636747E-4|                8|0.005979073243647235|           1|пес в сапогах (су...|1981|Мультфильмы,Детск...|[Мультфильмы, Дет...|(84,[6,14,19,22],...|\n",
      "|   8389| 935644|                3|0.001166407465007...|                8|0.005979073243647235|           1|пес в сапогах (су...|1981|Мультфильмы,Детск...|[Мультфильмы, Дет...|(84,[6,14,19,22],...|\n",
      "|   8389| 866647|                2|7.654037504783774E-4|                8|0.005979073243647235|           1|пес в сапогах (су...|1981|Мультфильмы,Детск...|[Мультфильмы, Дет...|(84,[6,14,19,22],...|\n",
      "|   8389| 854520|                2| 7.77000777000777E-4|                8|0.005979073243647235|           1|пес в сапогах (су...|1981|Мультфильмы,Детск...|[Мультфильмы, Дет...|(84,[6,14,19,22],...|\n",
      "|   8389| 871348|                3|0.001156069364161...|                8|0.005979073243647235|           1|пес в сапогах (су...|1981|Мультфильмы,Детск...|[Мультфильмы, Дет...|(84,[6,14,19,22],...|\n",
      "|   8389| 871154|                0|                 0.0|                8|0.005979073243647235|           1|пес в сапогах (су...|1981|Мультфильмы,Детск...|[Мультфильмы, Дет...|(84,[6,14,19,22],...|\n",
      "|   8389| 898782|                1|3.889537145079735...|                8|0.005979073243647235|           1|пес в сапогах (су...|1981|Мультфильмы,Детск...|[Мультфильмы, Дет...|(84,[6,14,19,22],...|\n",
      "|   8389| 921039|               34|0.013444049031237644|                8|0.005979073243647235|           1|пес в сапогах (су...|1981|Мультфильмы,Детск...|[Мультфильмы, Дет...|(84,[6,14,19,22],...|\n",
      "|   8389| 788843|                6|0.002320185614849188|                8|0.005979073243647235|           1|пес в сапогах (су...|1981|Мультфильмы,Детск...|[Мультфильмы, Дет...|(84,[6,14,19,22],...|\n",
      "+-------+-------+-----------------+--------------------+-----------------+--------------------+------------+--------------------+----+--------------------+--------------------+--------------------+\n",
      "only showing top 20 rows\n",
      "\n"
     ]
    }
   ],
   "source": [
    "# X_test.show()"
   ]
  },
  {
   "cell_type": "code",
   "execution_count": null,
   "metadata": {},
   "outputs": [],
   "source": []
  },
  {
   "cell_type": "markdown",
   "metadata": {},
   "source": [
    "## Эмбеддинги из ALS "
   ]
  },
  {
   "cell_type": "code",
   "execution_count": 49,
   "metadata": {},
   "outputs": [
    {
     "name": "stdout",
     "output_type": "stream",
     "text": [
      "+------+--------------------+\n",
      "|    id|            features|\n",
      "+------+--------------------+\n",
      "|523860|[-6.827328E-4, 8....|\n",
      "|728960|[-8.58977E-5, 1.0...|\n",
      "|731490|[0.0, 0.0, 0.0, 0...|\n",
      "|736010|[-9.690348E-5, 1....|\n",
      "|739230|[-8.503938E-5, 1....|\n",
      "|741210|[-4.174811E-6, 3....|\n",
      "|747780|[0.0, 0.0, 0.0, 0...|\n",
      "|748500|[-1.094802E-6, 1....|\n",
      "|752360|[-1.4963507E-4, 1...|\n",
      "|752570|[-1.1249864E-6, 8...|\n",
      "|754230|[-0.0022404697, 0...|\n",
      "|765780|[-3.0246412E-4, 4...|\n",
      "|768480|[-1.8377606E-4, 1...|\n",
      "|768510|[-3.900799E-4, 3....|\n",
      "|769240|[-2.7155953E-16, ...|\n",
      "|780610|[-1.2636714E-6, 2...|\n",
      "|781080|[0.0, 0.0, 0.0, 0...|\n",
      "|781430|[-1.9749602E-4, 3...|\n",
      "|785860|[-1.6113782E-4, 2...|\n",
      "|793430|[-2.7821903E-7, -...|\n",
      "+------+--------------------+\n",
      "only showing top 20 rows\n",
      "\n"
     ]
    }
   ],
   "source": [
    "matrix_u.show()"
   ]
  },
  {
   "cell_type": "code",
   "execution_count": 50,
   "metadata": {},
   "outputs": [
    {
     "name": "stdout",
     "output_type": "stream",
     "text": [
      "+----+--------------------+\n",
      "|  id|            features|\n",
      "+----+--------------------+\n",
      "| 400|[-4.6870817E-5, 5...|\n",
      "| 430|[-1.4768392E-5, 1...|\n",
      "| 540|[-9.280533E-6, 9....|\n",
      "|1320|[0.0, 0.0, 0.0, 0...|\n",
      "|1870|[-1.6594844E-5, -...|\n",
      "|2360|[0.0, 0.0, 0.0, 0...|\n",
      "|2830|[-2.550362E-5, 2....|\n",
      "|2990|[-4.126096E-5, 4....|\n",
      "|3110|[-4.623342E-5, 5....|\n",
      "|3250|[-0.0017411183, 0...|\n",
      "|3470|[0.0, 0.0, 0.0, 0...|\n",
      "|3630|[-3.5064313E-5, 4...|\n",
      "|3750|[-6.91573E-6, 1.5...|\n",
      "|4120|[-0.0020157015, 0...|\n",
      "|5170|[-0.0017182988, 0...|\n",
      "|5340|[-4.953657E-5, 5....|\n",
      "|5510|[-0.0036376354, 0...|\n",
      "|5530|[-1.9856334E-4, 1...|\n",
      "|5550|[-1.9855585E-4, 1...|\n",
      "|5660|[-4.0021852E-5, 2...|\n",
      "+----+--------------------+\n",
      "only showing top 20 rows\n",
      "\n"
     ]
    }
   ],
   "source": [
    "matrix_v.show()"
   ]
  },
  {
   "cell_type": "code",
   "execution_count": 51,
   "metadata": {},
   "outputs": [],
   "source": [
    "matrix_u = matrix_u.withColumnRenamed('id', 'user_id')\n",
    "matrix_v = matrix_v.withColumnRenamed('id', 'item_id')\n",
    "\n",
    "matrix_u = matrix_u.withColumnRenamed('features', 'features_u')\n",
    "matrix_v = matrix_v.withColumnRenamed('features', 'features_v')\n",
    "\n",
    "matrix_u = matrix_u.withColumnRenamed('features', 'features_u')\n",
    "matrix_v = matrix_v.withColumnRenamed('features', 'features_v')"
   ]
  },
  {
   "cell_type": "code",
   "execution_count": 52,
   "metadata": {},
   "outputs": [],
   "source": [
    "X_train = X_train.join(matrix_u , on = ['user_id'] , how = 'left')\n",
    "X_train = X_train.join(matrix_v , on = ['item_id'] , how = 'left')"
   ]
  },
  {
   "cell_type": "code",
   "execution_count": 53,
   "metadata": {},
   "outputs": [],
   "source": [
    "X_test = X_test.join(matrix_u , on = ['user_id'] , how = 'left')\n",
    "X_test = X_test.join(matrix_v , on = ['item_id'] , how = 'left')"
   ]
  },
  {
   "cell_type": "markdown",
   "metadata": {},
   "source": [
    "#  БУСТИНГ"
   ]
  },
  {
   "cell_type": "code",
   "execution_count": 56,
   "metadata": {},
   "outputs": [],
   "source": [
    "from pyspark.ml.feature import VectorAssembler , StandardScaler\n",
    "from pyspark.ml import Pipeline\n",
    "from pyspark.ml.classification import GBTClassifier , LogisticRegression"
   ]
  },
  {
   "cell_type": "code",
   "execution_count": 126,
   "metadata": {},
   "outputs": [],
   "source": [
    "X_train_exploded = X_train.select(\n",
    "    X_train[\"item_id\"],\n",
    "    X_train[\"user_id\"],\n",
    "    X_train[\"purchase\"],\n",
    "    X_train[\"user_purchase_sum\"], \n",
    "    X_train[\"user_purchase_mean\"], \n",
    "    X_train[\"item_purchase_sum\"], \n",
    "    X_train[\"item_purchase_mean\"], \n",
    "    X_train[\"genres_cv\"], \n",
    "    *[X_train[\"features_u\"][i] for i in range(10)],\n",
    "    *[X_train[\"features_v\"][i] for i in range(10)]\n",
    ")"
   ]
  },
  {
   "cell_type": "code",
   "execution_count": 127,
   "metadata": {},
   "outputs": [],
   "source": [
    "X_test_exploded = X_test.select(\n",
    "    # X_test[\"purchase\"],\n",
    "    X_test[\"item_id\"],\n",
    "    X_test[\"user_id\"],\n",
    "    X_test[\"user_purchase_sum\"], \n",
    "    X_test[\"user_purchase_mean\"], \n",
    "    X_test[\"item_purchase_sum\"], \n",
    "    X_test[\"item_purchase_mean\"], \n",
    "    X_test[\"genres_cv\"], \n",
    "    *[X_test[\"features_u\"][i] for i in range(10)],\n",
    "    *[X_test[\"features_v\"][i] for i in range(10)]\n",
    ")"
   ]
  },
  {
   "cell_type": "code",
   "execution_count": 147,
   "metadata": {},
   "outputs": [],
   "source": [
    "# X_train_exploded.columns"
   ]
  },
  {
   "cell_type": "code",
   "execution_count": 130,
   "metadata": {},
   "outputs": [],
   "source": [
    "features_list = [# 'purchase',\n",
    " 'user_purchase_sum',\n",
    " 'user_purchase_mean',\n",
    " 'item_purchase_sum',\n",
    " 'item_purchase_mean',\n",
    " 'genres_cv',\n",
    " 'features_u[0]',\n",
    " 'features_u[1]',\n",
    " 'features_u[2]',\n",
    " 'features_u[3]',\n",
    " 'features_u[4]',\n",
    " 'features_u[5]',\n",
    " 'features_u[6]',\n",
    " 'features_u[7]',\n",
    " 'features_u[8]',\n",
    " 'features_u[9]',\n",
    " 'features_v[0]',\n",
    " 'features_v[1]',\n",
    " 'features_v[2]',\n",
    " 'features_v[3]',\n",
    " 'features_v[4]',\n",
    " 'features_v[5]',\n",
    " 'features_v[6]',\n",
    " 'features_v[7]',\n",
    " 'features_v[8]',\n",
    " 'features_v[9]']"
   ]
  },
  {
   "cell_type": "code",
   "execution_count": 131,
   "metadata": {},
   "outputs": [],
   "source": [
    "va = VectorAssembler(inputCols = features_list, outputCol = \"features\")"
   ]
  },
  {
   "cell_type": "code",
   "execution_count": 132,
   "metadata": {},
   "outputs": [],
   "source": [
    "ss = StandardScaler(withMean = True, withStd = True , inputCol=\"features\", outputCol=\"features_scaled\")"
   ]
  },
  {
   "cell_type": "code",
   "execution_count": 133,
   "metadata": {},
   "outputs": [],
   "source": [
    "lr = LogisticRegression( featuresCol = 'features', labelCol = 'purchase', maxIter = 15,\n",
    "                       regParam=0.1)"
   ]
  },
  {
   "cell_type": "code",
   "execution_count": 134,
   "metadata": {},
   "outputs": [],
   "source": [
    "pipe = Pipeline(stages = [va, ss, lr])"
   ]
  },
  {
   "cell_type": "code",
   "execution_count": 136,
   "metadata": {
    "scrolled": false
   },
   "outputs": [],
   "source": [
    "model_lr = pipe.fit(X_train_exploded)"
   ]
  },
  {
   "cell_type": "code",
   "execution_count": 137,
   "metadata": {},
   "outputs": [],
   "source": [
    "predictions = model_lr.transform(X_test_exploded)"
   ]
  },
  {
   "cell_type": "code",
   "execution_count": 138,
   "metadata": {},
   "outputs": [
    {
     "name": "stderr",
     "output_type": "stream",
     "text": [
      "/usr/hdp/current/spark2-client/python/pyspark/sql/dataframe.py:2111: UserWarning: toPandas attempted Arrow optimization because 'spark.sql.execution.arrow.enabled' is set to true; however, failed by the reason below:\n",
      "  Unsupported type in conversion to Arrow: VectorUDT\n",
      "Attempting non-optimization as 'spark.sql.execution.arrow.fallback.enabled' is set to true.\n",
      "  warnings.warn(msg)\n"
     ]
    }
   ],
   "source": [
    "res_predictions = predictions.select(['user_id','item_id','probability'])\n",
    "res_predictions = res_predictions.orderBy( f.col(\"user_id\").asc(),f.col(\"item_id\").asc() )\n",
    "res_predictions_local = res_predictions.toPandas()\n",
    "res_predictions_local['purchase'] = res_predictions_local['probability'].apply(lambda x: x[1])\n",
    "res_predictions_local = res_predictions_local.drop('probability', axis=1)\n",
    "\n",
    "\n",
    "res_predictions_local.to_csv(\"lab03_lr.csv\" , sep = ',')\n",
    "res_predictions_local.to_csv(\"../../../lab03.csv\" , sep = ',')\n",
    "# рок аук получился 0.846554609141"
   ]
  },
  {
   "cell_type": "code",
   "execution_count": 141,
   "metadata": {},
   "outputs": [
    {
     "data": {
      "text/html": [
       "<div>\n",
       "<style scoped>\n",
       "    .dataframe tbody tr th:only-of-type {\n",
       "        vertical-align: middle;\n",
       "    }\n",
       "\n",
       "    .dataframe tbody tr th {\n",
       "        vertical-align: top;\n",
       "    }\n",
       "\n",
       "    .dataframe thead th {\n",
       "        text-align: right;\n",
       "    }\n",
       "</style>\n",
       "<table border=\"1\" class=\"dataframe\">\n",
       "  <thead>\n",
       "    <tr style=\"text-align: right;\">\n",
       "      <th></th>\n",
       "      <th>user_id</th>\n",
       "      <th>item_id</th>\n",
       "      <th>purchase</th>\n",
       "    </tr>\n",
       "  </thead>\n",
       "  <tbody>\n",
       "    <tr>\n",
       "      <th>0</th>\n",
       "      <td>1654</td>\n",
       "      <td>336</td>\n",
       "      <td>0.001707</td>\n",
       "    </tr>\n",
       "    <tr>\n",
       "      <th>1</th>\n",
       "      <td>1654</td>\n",
       "      <td>678</td>\n",
       "      <td>0.001702</td>\n",
       "    </tr>\n",
       "    <tr>\n",
       "      <th>2</th>\n",
       "      <td>1654</td>\n",
       "      <td>691</td>\n",
       "      <td>0.001787</td>\n",
       "    </tr>\n",
       "    <tr>\n",
       "      <th>3</th>\n",
       "      <td>1654</td>\n",
       "      <td>696</td>\n",
       "      <td>0.001800</td>\n",
       "    </tr>\n",
       "    <tr>\n",
       "      <th>4</th>\n",
       "      <td>1654</td>\n",
       "      <td>763</td>\n",
       "      <td>0.001797</td>\n",
       "    </tr>\n",
       "    <tr>\n",
       "      <th>5</th>\n",
       "      <td>1654</td>\n",
       "      <td>795</td>\n",
       "      <td>0.003303</td>\n",
       "    </tr>\n",
       "    <tr>\n",
       "      <th>6</th>\n",
       "      <td>1654</td>\n",
       "      <td>861</td>\n",
       "      <td>0.001835</td>\n",
       "    </tr>\n",
       "    <tr>\n",
       "      <th>7</th>\n",
       "      <td>1654</td>\n",
       "      <td>1137</td>\n",
       "      <td>0.002096</td>\n",
       "    </tr>\n",
       "    <tr>\n",
       "      <th>8</th>\n",
       "      <td>1654</td>\n",
       "      <td>1159</td>\n",
       "      <td>0.001787</td>\n",
       "    </tr>\n",
       "    <tr>\n",
       "      <th>9</th>\n",
       "      <td>1654</td>\n",
       "      <td>1428</td>\n",
       "      <td>0.002624</td>\n",
       "    </tr>\n",
       "    <tr>\n",
       "      <th>10</th>\n",
       "      <td>1654</td>\n",
       "      <td>1685</td>\n",
       "      <td>0.002624</td>\n",
       "    </tr>\n",
       "    <tr>\n",
       "      <th>11</th>\n",
       "      <td>1654</td>\n",
       "      <td>1686</td>\n",
       "      <td>0.001813</td>\n",
       "    </tr>\n",
       "    <tr>\n",
       "      <th>12</th>\n",
       "      <td>1654</td>\n",
       "      <td>1704</td>\n",
       "      <td>0.001963</td>\n",
       "    </tr>\n",
       "    <tr>\n",
       "      <th>13</th>\n",
       "      <td>1654</td>\n",
       "      <td>2093</td>\n",
       "      <td>0.001705</td>\n",
       "    </tr>\n",
       "    <tr>\n",
       "      <th>14</th>\n",
       "      <td>1654</td>\n",
       "      <td>2343</td>\n",
       "      <td>0.001713</td>\n",
       "    </tr>\n",
       "    <tr>\n",
       "      <th>15</th>\n",
       "      <td>1654</td>\n",
       "      <td>2451</td>\n",
       "      <td>0.001718</td>\n",
       "    </tr>\n",
       "    <tr>\n",
       "      <th>16</th>\n",
       "      <td>1654</td>\n",
       "      <td>2469</td>\n",
       "      <td>0.002511</td>\n",
       "    </tr>\n",
       "    <tr>\n",
       "      <th>17</th>\n",
       "      <td>1654</td>\n",
       "      <td>2603</td>\n",
       "      <td>0.001741</td>\n",
       "    </tr>\n",
       "    <tr>\n",
       "      <th>18</th>\n",
       "      <td>1654</td>\n",
       "      <td>2609</td>\n",
       "      <td>0.001711</td>\n",
       "    </tr>\n",
       "    <tr>\n",
       "      <th>19</th>\n",
       "      <td>1654</td>\n",
       "      <td>2621</td>\n",
       "      <td>0.001865</td>\n",
       "    </tr>\n",
       "    <tr>\n",
       "      <th>20</th>\n",
       "      <td>1654</td>\n",
       "      <td>2683</td>\n",
       "      <td>0.001952</td>\n",
       "    </tr>\n",
       "    <tr>\n",
       "      <th>21</th>\n",
       "      <td>1654</td>\n",
       "      <td>2695</td>\n",
       "      <td>0.001837</td>\n",
       "    </tr>\n",
       "    <tr>\n",
       "      <th>22</th>\n",
       "      <td>1654</td>\n",
       "      <td>2696</td>\n",
       "      <td>0.001740</td>\n",
       "    </tr>\n",
       "    <tr>\n",
       "      <th>23</th>\n",
       "      <td>1654</td>\n",
       "      <td>2773</td>\n",
       "      <td>0.002763</td>\n",
       "    </tr>\n",
       "    <tr>\n",
       "      <th>24</th>\n",
       "      <td>1654</td>\n",
       "      <td>2855</td>\n",
       "      <td>0.001811</td>\n",
       "    </tr>\n",
       "    <tr>\n",
       "      <th>25</th>\n",
       "      <td>1654</td>\n",
       "      <td>2990</td>\n",
       "      <td>0.001751</td>\n",
       "    </tr>\n",
       "    <tr>\n",
       "      <th>26</th>\n",
       "      <td>1654</td>\n",
       "      <td>3055</td>\n",
       "      <td>0.001756</td>\n",
       "    </tr>\n",
       "    <tr>\n",
       "      <th>27</th>\n",
       "      <td>1654</td>\n",
       "      <td>3066</td>\n",
       "      <td>0.002329</td>\n",
       "    </tr>\n",
       "    <tr>\n",
       "      <th>28</th>\n",
       "      <td>1654</td>\n",
       "      <td>3110</td>\n",
       "      <td>0.001749</td>\n",
       "    </tr>\n",
       "    <tr>\n",
       "      <th>29</th>\n",
       "      <td>1654</td>\n",
       "      <td>3147</td>\n",
       "      <td>0.001796</td>\n",
       "    </tr>\n",
       "    <tr>\n",
       "      <th>...</th>\n",
       "      <td>...</td>\n",
       "      <td>...</td>\n",
       "      <td>...</td>\n",
       "    </tr>\n",
       "    <tr>\n",
       "      <th>2156810</th>\n",
       "      <td>941450</td>\n",
       "      <td>100453</td>\n",
       "      <td>0.001890</td>\n",
       "    </tr>\n",
       "    <tr>\n",
       "      <th>2156811</th>\n",
       "      <td>941450</td>\n",
       "      <td>100459</td>\n",
       "      <td>0.001690</td>\n",
       "    </tr>\n",
       "    <tr>\n",
       "      <th>2156812</th>\n",
       "      <td>941450</td>\n",
       "      <td>100478</td>\n",
       "      <td>0.001816</td>\n",
       "    </tr>\n",
       "    <tr>\n",
       "      <th>2156813</th>\n",
       "      <td>941450</td>\n",
       "      <td>100480</td>\n",
       "      <td>0.001844</td>\n",
       "    </tr>\n",
       "    <tr>\n",
       "      <th>2156814</th>\n",
       "      <td>941450</td>\n",
       "      <td>100483</td>\n",
       "      <td>0.001719</td>\n",
       "    </tr>\n",
       "    <tr>\n",
       "      <th>2156815</th>\n",
       "      <td>941450</td>\n",
       "      <td>100492</td>\n",
       "      <td>0.001719</td>\n",
       "    </tr>\n",
       "    <tr>\n",
       "      <th>2156816</th>\n",
       "      <td>941450</td>\n",
       "      <td>100500</td>\n",
       "      <td>0.002852</td>\n",
       "    </tr>\n",
       "    <tr>\n",
       "      <th>2156817</th>\n",
       "      <td>941450</td>\n",
       "      <td>100571</td>\n",
       "      <td>0.001787</td>\n",
       "    </tr>\n",
       "    <tr>\n",
       "      <th>2156818</th>\n",
       "      <td>941450</td>\n",
       "      <td>100667</td>\n",
       "      <td>0.001741</td>\n",
       "    </tr>\n",
       "    <tr>\n",
       "      <th>2156819</th>\n",
       "      <td>941450</td>\n",
       "      <td>100759</td>\n",
       "      <td>0.001730</td>\n",
       "    </tr>\n",
       "    <tr>\n",
       "      <th>2156820</th>\n",
       "      <td>941450</td>\n",
       "      <td>101103</td>\n",
       "      <td>0.001672</td>\n",
       "    </tr>\n",
       "    <tr>\n",
       "      <th>2156821</th>\n",
       "      <td>941450</td>\n",
       "      <td>101352</td>\n",
       "      <td>0.001717</td>\n",
       "    </tr>\n",
       "    <tr>\n",
       "      <th>2156822</th>\n",
       "      <td>941450</td>\n",
       "      <td>101528</td>\n",
       "      <td>0.001712</td>\n",
       "    </tr>\n",
       "    <tr>\n",
       "      <th>2156823</th>\n",
       "      <td>941450</td>\n",
       "      <td>101529</td>\n",
       "      <td>0.001680</td>\n",
       "    </tr>\n",
       "    <tr>\n",
       "      <th>2156824</th>\n",
       "      <td>941450</td>\n",
       "      <td>101822</td>\n",
       "      <td>0.001666</td>\n",
       "    </tr>\n",
       "    <tr>\n",
       "      <th>2156825</th>\n",
       "      <td>941450</td>\n",
       "      <td>101832</td>\n",
       "      <td>0.001677</td>\n",
       "    </tr>\n",
       "    <tr>\n",
       "      <th>2156826</th>\n",
       "      <td>941450</td>\n",
       "      <td>101870</td>\n",
       "      <td>0.001673</td>\n",
       "    </tr>\n",
       "    <tr>\n",
       "      <th>2156827</th>\n",
       "      <td>941450</td>\n",
       "      <td>101958</td>\n",
       "      <td>0.001690</td>\n",
       "    </tr>\n",
       "    <tr>\n",
       "      <th>2156828</th>\n",
       "      <td>941450</td>\n",
       "      <td>102088</td>\n",
       "      <td>0.001663</td>\n",
       "    </tr>\n",
       "    <tr>\n",
       "      <th>2156829</th>\n",
       "      <td>941450</td>\n",
       "      <td>102279</td>\n",
       "      <td>0.001715</td>\n",
       "    </tr>\n",
       "    <tr>\n",
       "      <th>2156830</th>\n",
       "      <td>941450</td>\n",
       "      <td>102431</td>\n",
       "      <td>0.001735</td>\n",
       "    </tr>\n",
       "    <tr>\n",
       "      <th>2156831</th>\n",
       "      <td>941450</td>\n",
       "      <td>102603</td>\n",
       "      <td>0.001722</td>\n",
       "    </tr>\n",
       "    <tr>\n",
       "      <th>2156832</th>\n",
       "      <td>941450</td>\n",
       "      <td>102640</td>\n",
       "      <td>0.001713</td>\n",
       "    </tr>\n",
       "    <tr>\n",
       "      <th>2156833</th>\n",
       "      <td>941450</td>\n",
       "      <td>102641</td>\n",
       "      <td>0.001676</td>\n",
       "    </tr>\n",
       "    <tr>\n",
       "      <th>2156834</th>\n",
       "      <td>941450</td>\n",
       "      <td>102651</td>\n",
       "      <td>0.001761</td>\n",
       "    </tr>\n",
       "    <tr>\n",
       "      <th>2156835</th>\n",
       "      <td>941450</td>\n",
       "      <td>102966</td>\n",
       "      <td>0.001754</td>\n",
       "    </tr>\n",
       "    <tr>\n",
       "      <th>2156836</th>\n",
       "      <td>941450</td>\n",
       "      <td>103589</td>\n",
       "      <td>0.001720</td>\n",
       "    </tr>\n",
       "    <tr>\n",
       "      <th>2156837</th>\n",
       "      <td>941450</td>\n",
       "      <td>103762</td>\n",
       "      <td>0.001684</td>\n",
       "    </tr>\n",
       "    <tr>\n",
       "      <th>2156838</th>\n",
       "      <td>941450</td>\n",
       "      <td>103876</td>\n",
       "      <td>0.001728</td>\n",
       "    </tr>\n",
       "    <tr>\n",
       "      <th>2156839</th>\n",
       "      <td>941450</td>\n",
       "      <td>104016</td>\n",
       "      <td>0.001694</td>\n",
       "    </tr>\n",
       "  </tbody>\n",
       "</table>\n",
       "<p>2156840 rows × 3 columns</p>\n",
       "</div>"
      ],
      "text/plain": [
       "         user_id  item_id  purchase\n",
       "0           1654      336  0.001707\n",
       "1           1654      678  0.001702\n",
       "2           1654      691  0.001787\n",
       "3           1654      696  0.001800\n",
       "4           1654      763  0.001797\n",
       "5           1654      795  0.003303\n",
       "6           1654      861  0.001835\n",
       "7           1654     1137  0.002096\n",
       "8           1654     1159  0.001787\n",
       "9           1654     1428  0.002624\n",
       "10          1654     1685  0.002624\n",
       "11          1654     1686  0.001813\n",
       "12          1654     1704  0.001963\n",
       "13          1654     2093  0.001705\n",
       "14          1654     2343  0.001713\n",
       "15          1654     2451  0.001718\n",
       "16          1654     2469  0.002511\n",
       "17          1654     2603  0.001741\n",
       "18          1654     2609  0.001711\n",
       "19          1654     2621  0.001865\n",
       "20          1654     2683  0.001952\n",
       "21          1654     2695  0.001837\n",
       "22          1654     2696  0.001740\n",
       "23          1654     2773  0.002763\n",
       "24          1654     2855  0.001811\n",
       "25          1654     2990  0.001751\n",
       "26          1654     3055  0.001756\n",
       "27          1654     3066  0.002329\n",
       "28          1654     3110  0.001749\n",
       "29          1654     3147  0.001796\n",
       "...          ...      ...       ...\n",
       "2156810   941450   100453  0.001890\n",
       "2156811   941450   100459  0.001690\n",
       "2156812   941450   100478  0.001816\n",
       "2156813   941450   100480  0.001844\n",
       "2156814   941450   100483  0.001719\n",
       "2156815   941450   100492  0.001719\n",
       "2156816   941450   100500  0.002852\n",
       "2156817   941450   100571  0.001787\n",
       "2156818   941450   100667  0.001741\n",
       "2156819   941450   100759  0.001730\n",
       "2156820   941450   101103  0.001672\n",
       "2156821   941450   101352  0.001717\n",
       "2156822   941450   101528  0.001712\n",
       "2156823   941450   101529  0.001680\n",
       "2156824   941450   101822  0.001666\n",
       "2156825   941450   101832  0.001677\n",
       "2156826   941450   101870  0.001673\n",
       "2156827   941450   101958  0.001690\n",
       "2156828   941450   102088  0.001663\n",
       "2156829   941450   102279  0.001715\n",
       "2156830   941450   102431  0.001735\n",
       "2156831   941450   102603  0.001722\n",
       "2156832   941450   102640  0.001713\n",
       "2156833   941450   102641  0.001676\n",
       "2156834   941450   102651  0.001761\n",
       "2156835   941450   102966  0.001754\n",
       "2156836   941450   103589  0.001720\n",
       "2156837   941450   103762  0.001684\n",
       "2156838   941450   103876  0.001728\n",
       "2156839   941450   104016  0.001694\n",
       "\n",
       "[2156840 rows x 3 columns]"
      ]
     },
     "execution_count": 141,
     "metadata": {},
     "output_type": "execute_result"
    }
   ],
   "source": [
    "res_predictions_local"
   ]
  },
  {
   "cell_type": "code",
   "execution_count": null,
   "metadata": {},
   "outputs": [],
   "source": []
  },
  {
   "cell_type": "code",
   "execution_count": null,
   "metadata": {},
   "outputs": [],
   "source": []
  },
  {
   "cell_type": "code",
   "execution_count": null,
   "metadata": {},
   "outputs": [],
   "source": []
  },
  {
   "cell_type": "code",
   "execution_count": null,
   "metadata": {},
   "outputs": [],
   "source": []
  },
  {
   "cell_type": "code",
   "execution_count": null,
   "metadata": {},
   "outputs": [],
   "source": []
  },
  {
   "cell_type": "code",
   "execution_count": null,
   "metadata": {},
   "outputs": [],
   "source": []
  },
  {
   "cell_type": "code",
   "execution_count": null,
   "metadata": {},
   "outputs": [],
   "source": []
  },
  {
   "cell_type": "code",
   "execution_count": null,
   "metadata": {},
   "outputs": [],
   "source": []
  },
  {
   "cell_type": "code",
   "execution_count": null,
   "metadata": {},
   "outputs": [],
   "source": []
  },
  {
   "cell_type": "code",
   "execution_count": null,
   "metadata": {},
   "outputs": [],
   "source": []
  },
  {
   "cell_type": "markdown",
   "metadata": {},
   "source": [
    "# бесконечный бустинг"
   ]
  },
  {
   "cell_type": "code",
   "execution_count": 201,
   "metadata": {},
   "outputs": [],
   "source": [
    "va = VectorAssembler(inputCols = features_list, outputCol = \"features\")"
   ]
  },
  {
   "cell_type": "code",
   "execution_count": 202,
   "metadata": {},
   "outputs": [],
   "source": [
    "gbt = GBTClassifier(featuresCol = \"features\",\n",
    "                    labelCol = 'purchase' ,\n",
    "                    seed = 42,\n",
    "                    maxIter = 50,\n",
    "                    maxDepth = 3,\n",
    "                    minInstancesPerNode = 1)"
   ]
  },
  {
   "cell_type": "code",
   "execution_count": 203,
   "metadata": {},
   "outputs": [],
   "source": [
    "pipe = Pipeline(stages = [va, gbt])"
   ]
  },
  {
   "cell_type": "code",
   "execution_count": null,
   "metadata": {},
   "outputs": [],
   "source": [
    "model_gbt = pipe.fit(X_train_exploded)"
   ]
  },
  {
   "cell_type": "code",
   "execution_count": null,
   "metadata": {},
   "outputs": [],
   "source": [
    "predictions = model.transform(X_test_exploded)"
   ]
  },
  {
   "cell_type": "code",
   "execution_count": null,
   "metadata": {},
   "outputs": [],
   "source": [
    "predictions.show()"
   ]
  },
  {
   "cell_type": "code",
   "execution_count": null,
   "metadata": {},
   "outputs": [],
   "source": [
    "model.save"
   ]
  },
  {
   "cell_type": "code",
   "execution_count": null,
   "metadata": {},
   "outputs": [],
   "source": []
  },
  {
   "cell_type": "code",
   "execution_count": null,
   "metadata": {},
   "outputs": [],
   "source": []
  },
  {
   "cell_type": "code",
   "execution_count": null,
   "metadata": {},
   "outputs": [],
   "source": []
  },
  {
   "cell_type": "code",
   "execution_count": null,
   "metadata": {},
   "outputs": [],
   "source": []
  },
  {
   "cell_type": "code",
   "execution_count": null,
   "metadata": {},
   "outputs": [],
   "source": []
  },
  {
   "cell_type": "code",
   "execution_count": null,
   "metadata": {},
   "outputs": [],
   "source": []
  },
  {
   "cell_type": "code",
   "execution_count": null,
   "metadata": {},
   "outputs": [],
   "source": []
  },
  {
   "cell_type": "code",
   "execution_count": null,
   "metadata": {},
   "outputs": [],
   "source": []
  }
 ],
 "metadata": {
  "kernelspec": {
   "display_name": "Python 3",
   "language": "python",
   "name": "python3"
  },
  "language_info": {
   "codemirror_mode": {
    "name": "ipython",
    "version": 3
   },
   "file_extension": ".py",
   "mimetype": "text/x-python",
   "name": "python",
   "nbconvert_exporter": "python",
   "pygments_lexer": "ipython3",
   "version": "3.6.5"
  }
 },
 "nbformat": 4,
 "nbformat_minor": 2
}
