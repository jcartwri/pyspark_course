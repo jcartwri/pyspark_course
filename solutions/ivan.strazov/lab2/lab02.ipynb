{
 "cells": [
  {
   "cell_type": "markdown",
   "metadata": {},
   "source": [
    "# 1. Библиотеки и настройки сессии"
   ]
  },
  {
   "cell_type": "code",
   "execution_count": 1,
   "metadata": {},
   "outputs": [],
   "source": [
    "DATA_FILE = \"/labs/slaba02/DO_record_per_line.json\""
   ]
  },
  {
   "cell_type": "code",
   "execution_count": 2,
   "metadata": {},
   "outputs": [],
   "source": [
    "import os\n",
    "import sys\n",
    "os.environ[\"PYSPARK_PYTHON\"]='/opt/anaconda/envs/bd9/bin/python'\n",
    "os.environ[\"SPARK_HOME\"]='/usr/hdp/current/spark2-client'\n",
    "os.environ[\"PYSPARK_SUBMIT_ARGS\"]='--num-executors 3 pyspark-shell'\n",
    "spark_home = os.environ.get('SPARK_HOME', None)\n",
    "sys.path.insert(0, os.path.join(spark_home, 'python'))\n",
    "sys.path.insert(0, os.path.join(spark_home, 'python/lib/py4j-0.10.7-src.zip'))"
   ]
  },
  {
   "cell_type": "code",
   "execution_count": 3,
   "metadata": {},
   "outputs": [],
   "source": [
    "from pyspark import SparkConf\n",
    "from pyspark.sql import SparkSession\n",
    "\n",
    "conf = SparkConf()\n",
    "conf.set(\"spark.app.name\", \"ivan.strazov - lab02\")\n",
    "\n",
    "spark = SparkSession.builder.config(conf=conf).appName(\"ivan.strazov - lab02\").getOrCreate()"
   ]
  },
  {
   "cell_type": "code",
   "execution_count": 4,
   "metadata": {},
   "outputs": [],
   "source": [
    "import pyspark.sql.functions as f\n",
    "from pyspark.sql.types import StructType, StructField, IntegerType, StringType, LongType, DoubleType\n",
    "from pyspark.ml.feature import HashingTF, IDF, Normalizer\n",
    "from pyspark.sql.window import Window\n",
    "import re"
   ]
  },
  {
   "cell_type": "markdown",
   "metadata": {},
   "source": [
    " "
   ]
  },
  {
   "cell_type": "markdown",
   "metadata": {},
   "source": [
    " "
   ]
  },
  {
   "cell_type": "markdown",
   "metadata": {},
   "source": [
    " "
   ]
  },
  {
   "cell_type": "markdown",
   "metadata": {},
   "source": [
    " "
   ]
  },
  {
   "cell_type": "markdown",
   "metadata": {},
   "source": [
    " "
   ]
  },
  {
   "cell_type": "markdown",
   "metadata": {},
   "source": [
    "# 2. Загрузка датасета"
   ]
  },
  {
   "cell_type": "code",
   "execution_count": 5,
   "metadata": {},
   "outputs": [
    {
     "name": "stdout",
     "output_type": "stream",
     "text": [
      "root\n",
      " |-- cat: string (nullable = true)\n",
      " |-- desc: string (nullable = true)\n",
      " |-- id: long (nullable = true)\n",
      " |-- lang: string (nullable = true)\n",
      " |-- name: string (nullable = true)\n",
      " |-- provider: string (nullable = true)\n",
      "\n"
     ]
    }
   ],
   "source": [
    "df = spark.read \\\n",
    "        .format(\"json\") \\\n",
    "        .load(DATA_FILE)\n",
    "df.printSchema()"
   ]
  },
  {
   "cell_type": "code",
   "execution_count": 6,
   "metadata": {},
   "outputs": [
    {
     "name": "stdout",
     "output_type": "stream",
     "text": [
      "+--------------------+--------------------+---+----+--------------------+--------------+\n",
      "|                 cat|                desc| id|lang|                name|      provider|\n",
      "+--------------------+--------------------+---+----+--------------------+--------------+\n",
      "|3/business_manage...|This course intro...|  4|  en|Accounting Cycle:...|Canvas Network|\n",
      "|              11/law|This online cours...|  5|  en|American Counter ...|Canvas Network|\n",
      "+--------------------+--------------------+---+----+--------------------+--------------+\n",
      "only showing top 2 rows\n",
      "\n"
     ]
    }
   ],
   "source": [
    "df.show(2)"
   ]
  },
  {
   "cell_type": "code",
   "execution_count": 12,
   "metadata": {},
   "outputs": [
    {
     "name": "stdout",
     "output_type": "stream",
     "text": [
      "+---+----+--------------------+--------------------+---+\n",
      "| id|lang|                desc|                name|rec|\n",
      "+---+----+--------------------+--------------------+---+\n",
      "|  4|  en|This course intro...|Accounting Cycle:...|  0|\n",
      "|  5|  en|This online cours...|American Counter ...|  0|\n",
      "+---+----+--------------------+--------------------+---+\n",
      "only showing top 2 rows\n",
      "\n"
     ]
    }
   ],
   "source": [
    "base_id = (23126, 21617, 16627, 11556, 16704, 13702)\n",
    "\n",
    "@f.udf\n",
    "def rec(course_id):\n",
    "    if course_id in base_id:\n",
    "        return 1\n",
    "    return 0\n",
    "\n",
    "df_full = df.select(\"id\", \"lang\", \"desc\", \"name\").withColumn(\"rec\", rec(\"id\"))\n",
    "df_full.show(2)"
   ]
  },
  {
   "cell_type": "markdown",
   "metadata": {},
   "source": [
    " "
   ]
  },
  {
   "cell_type": "markdown",
   "metadata": {},
   "source": [
    " "
   ]
  },
  {
   "cell_type": "markdown",
   "metadata": {},
   "source": [
    "# 3. Расчёт TF-IDF"
   ]
  },
  {
   "cell_type": "code",
   "execution_count": 13,
   "metadata": {},
   "outputs": [],
   "source": [
    "@f.udf(\"string\")\n",
    "def extract_text(text):\n",
    "    \"\"\"\n",
    "    Extract clear text.\n",
    "    \n",
    "    Parameters:\n",
    "        text (str) - text.\n",
    "    \n",
    "    Returns:\n",
    "        text (str) - clear text.\n",
    "    \"\"\"\n",
    "    \n",
    "    try:\n",
    "        text = re.sub(r\"[^А-яA-z\\d]\", \" \", text).strip().lower()\n",
    "        text = re.sub(r\"\\s+\", \" \", text)\n",
    "        return text\n",
    "    except TypeError:\n",
    "        return None"
   ]
  },
  {
   "cell_type": "code",
   "execution_count": 14,
   "metadata": {},
   "outputs": [
    {
     "name": "stdout",
     "output_type": "stream",
     "text": [
      "+---+----+--------------------+--------------------+---+--------------------+\n",
      "| id|lang|                desc|                name|rec|                docs|\n",
      "+---+----+--------------------+--------------------+---+--------------------+\n",
      "|  4|  en|This course intro...|Accounting Cycle:...|  0|[this, course, in...|\n",
      "|  5|  en|This online cours...|American Counter ...|  0|[this, online, co...|\n",
      "|  6|  fr|This course is ta...|Arithmétique: en ...|  0|[this, course, is...|\n",
      "|  7|  en|We live in a digi...|Becoming a Dynami...|  0|[we, live, in, a,...|\n",
      "|  8|  en|This self-paced c...|           Bioethics|  0|[this, self, pace...|\n",
      "+---+----+--------------------+--------------------+---+--------------------+\n",
      "only showing top 5 rows\n",
      "\n"
     ]
    }
   ],
   "source": [
    "courses = df_full.withColumn(\"docs\", f.split(extract_text(\"desc\"), \" \"))\n",
    "courses.show(5)"
   ]
  },
  {
   "cell_type": "code",
   "execution_count": 15,
   "metadata": {},
   "outputs": [
    {
     "name": "stdout",
     "output_type": "stream",
     "text": [
      "+---+----+--------------------+--------------------+\n",
      "| id|lang|                name|             normVec|\n",
      "+---+----+--------------------+--------------------+\n",
      "|  4|  en|Accounting Cycle:...|(10000,[36,63,138...|\n",
      "|  5|  en|American Counter ...|(10000,[32,222,36...|\n",
      "|  6|  fr|Arithmétique: en ...|(10000,[30,118,24...|\n",
      "|  7|  en|Becoming a Dynami...|(10000,[493,572,7...|\n",
      "|  8|  en|           Bioethics|(10000,[32,115,13...|\n",
      "+---+----+--------------------+--------------------+\n",
      "only showing top 5 rows\n",
      "\n"
     ]
    }
   ],
   "source": [
    "hashingTF = HashingTF(inputCol=\"docs\",\n",
    "                      outputCol=\"tf\",\n",
    "                      numFeatures=10000)\n",
    "tf = hashingTF.transform(courses)\n",
    "\n",
    "idf = IDF(inputCol=\"tf\", outputCol=\"tfidf\").fit(tf)\n",
    "tfidf = idf.transform(tf)\n",
    "\n",
    "normalizer = Normalizer(inputCol=\"tfidf\",\n",
    "                        outputCol=\"normVec\",\n",
    "                        p=2)\n",
    "vectors = normalizer \\\n",
    "                .transform(tfidf) \\\n",
    "                .select(\"id\", \"lang\", \"name\", \"normVec\")\n",
    "\n",
    "vectors.show(5)"
   ]
  },
  {
   "cell_type": "markdown",
   "metadata": {},
   "source": [
    " "
   ]
  },
  {
   "cell_type": "markdown",
   "metadata": {},
   "source": [
    " "
   ]
  },
  {
   "cell_type": "markdown",
   "metadata": {},
   "source": [
    "# 4. Поиск рекомендаций"
   ]
  },
  {
   "cell_type": "code",
   "execution_count": 25,
   "metadata": {},
   "outputs": [
    {
     "name": "stdout",
     "output_type": "stream",
     "text": [
      "+----+-------+--------------------+------+--------------------+--------------------+\n",
      "|lang|base_id|        base_normVec|rec_id|         rec_normVec|                name|\n",
      "+----+-------+--------------------+------+--------------------+--------------------+\n",
      "|  en|  21617|(10000,[17,128,16...|  9852|(10000,[18,69,291...|How to Make Easy ...|\n",
      "|  en|  21617|(10000,[17,128,16...|  9853|(10000,[15,62,128...|How To Get Starte...|\n",
      "|  en|  21617|(10000,[17,128,16...|  9854|(10000,[32,157,28...|How to Get That R...|\n",
      "|  en|  21617|(10000,[17,128,16...|  9855|(10000,[87,128,15...|Escape Email Over...|\n",
      "|  en|  21617|(10000,[17,128,16...|  9856|(10000,[169,173,2...|How to Get New Cu...|\n",
      "+----+-------+--------------------+------+--------------------+--------------------+\n",
      "only showing top 5 rows\n",
      "\n"
     ]
    }
   ],
   "source": [
    "base_set = vectors \\\n",
    "                .filter(courses.rec == 1) \\\n",
    "                .select(f.col(\"id\").alias(\"base_id\"),\n",
    "                        f.col(\"normVec\").alias(\"base_normVec\"),\n",
    "                        \"lang\")\n",
    "rec_set = vectors \\\n",
    "                .filter(courses.rec == 0) \\\n",
    "                .select(f.col(\"id\").alias(\"rec_id\"),\n",
    "                        f.col(\"normVec\").alias(\"rec_normVec\"),\n",
    "                        f.col(\"name\").alias(\"name\"),\n",
    "                        \"lang\")\n",
    "\n",
    "data = base_set.join(rec_set, on=\"lang\", how=\"left\")\n",
    "data.show(5)"
   ]
  },
  {
   "cell_type": "code",
   "execution_count": 26,
   "metadata": {},
   "outputs": [],
   "source": [
    "@f.udf(DoubleType())\n",
    "def tfidf_cos(x, y):\n",
    "    return float(x.dot(y))"
   ]
  },
  {
   "cell_type": "code",
   "execution_count": 27,
   "metadata": {},
   "outputs": [
    {
     "name": "stdout",
     "output_type": "stream",
     "text": [
      "+----+-------+--------------------+------+--------------------+--------------------+--------------------+\n",
      "|lang|base_id|        base_normVec|rec_id|         rec_normVec|                name|                 cos|\n",
      "+----+-------+--------------------+------+--------------------+--------------------+--------------------+\n",
      "|  en|  21617|(10000,[17,128,16...|  9852|(10000,[18,69,291...|How to Make Easy ...|  0.0687399943676534|\n",
      "|  en|  21617|(10000,[17,128,16...|  9853|(10000,[15,62,128...|How To Get Starte...|0.030242484408690068|\n",
      "|  en|  21617|(10000,[17,128,16...|  9854|(10000,[32,157,28...|How to Get That R...|  0.0316790665944085|\n",
      "|  en|  21617|(10000,[17,128,16...|  9855|(10000,[87,128,15...|Escape Email Over...| 0.03280009908657444|\n",
      "|  en|  21617|(10000,[17,128,16...|  9856|(10000,[169,173,2...|How to Get New Cu...| 0.04256926626683566|\n",
      "+----+-------+--------------------+------+--------------------+--------------------+--------------------+\n",
      "only showing top 5 rows\n",
      "\n"
     ]
    }
   ],
   "source": [
    "data = data.withColumn(\"cos\", tfidf_cos(\"base_normVec\", \"rec_normVec\"))\n",
    "data.show(5)"
   ]
  },
  {
   "cell_type": "code",
   "execution_count": 28,
   "metadata": {},
   "outputs": [
    {
     "name": "stdout",
     "output_type": "stream",
     "text": [
      "+----+-------+--------------------+------+--------------------+--------------------+------------------+----+\n",
      "|lang|base_id|        base_normVec|rec_id|         rec_normVec|                name|               cos|rank|\n",
      "+----+-------+--------------------+------+--------------------+--------------------+------------------+----+\n",
      "|  en|  23126|(10000,[87,91,128...| 14760|(10000,[957,1263,...|Foundation 4: Inc...|0.6253172468854246|   1|\n",
      "|  en|  23126|(10000,[87,91,128...| 13665|(10000,[51,93,128...|The Next Step wit...|0.6220896374764014|   2|\n",
      "|  en|  23126|(10000,[87,91,128...| 13782|(10000,[1263,1470...|Assembling Sass P...|0.5561861139671257|   3|\n",
      "|  en|  23126|(10000,[87,91,128...| 20638|(10000,[3775,4343...|Introduction to P...|0.4532950084720502|   4|\n",
      "|  en|  23126|(10000,[87,91,128...| 24419|(10000,[1,50,77,8...|Learn the 7 Minds...|0.4386267864400899|   5|\n",
      "+----+-------+--------------------+------+--------------------+--------------------+------------------+----+\n",
      "only showing top 5 rows\n",
      "\n"
     ]
    }
   ],
   "source": [
    "data = data.withColumn(\"rank\",\n",
    "                       f.dense_rank().over(Window.partitionBy(\"base_id\").orderBy(f.desc(\"cos\"), f.col(\"name\"), f.col(\"rec_id\"))))\n",
    "data.show(5)"
   ]
  },
  {
   "cell_type": "code",
   "execution_count": 29,
   "metadata": {},
   "outputs": [
    {
     "name": "stdout",
     "output_type": "stream",
     "text": [
      "+----+-------+--------------------+------+--------------------+--------------------+------------------+----+\n",
      "|lang|base_id|        base_normVec|rec_id|         rec_normVec|                name|               cos|rank|\n",
      "+----+-------+--------------------+------+--------------------+--------------------+------------------+----+\n",
      "|  ru|  13702|(10000,[310,942,2...|   864|(10000,[310,942,2...|Математическая эк...|               1.0|   1|\n",
      "|  en|  21617|(10000,[17,128,16...| 21609|(10000,[17,128,16...|Preparing for the...|0.9998692556930249|   1|\n",
      "|  es|  16627|(10000,[55,76,86,...| 11431|(10000,[48,55,70,...|Excel Básico by A...|0.7158166824422696|   1|\n",
      "|  en|  23126|(10000,[87,91,128...| 14760|(10000,[957,1263,...|Foundation 4: Inc...|0.6253172468854247|   1|\n",
      "|  en|  23126|(10000,[87,91,128...| 13665|(10000,[51,93,128...|The Next Step wit...|0.6220896374764014|   2|\n",
      "+----+-------+--------------------+------+--------------------+--------------------+------------------+----+\n",
      "only showing top 5 rows\n",
      "\n"
     ]
    }
   ],
   "source": [
    "data.orderBy(f.desc(\"cos\")).show(5)"
   ]
  },
  {
   "cell_type": "code",
   "execution_count": 30,
   "metadata": {},
   "outputs": [
    {
     "data": {
      "text/plain": [
       "Row(base_id=23126, rec_id=14760, rank=1)"
      ]
     },
     "execution_count": 30,
     "metadata": {},
     "output_type": "execute_result"
    }
   ],
   "source": [
    "array2json = data \\\n",
    "                .filter(f.col(\"rank\") <= 10) \\\n",
    "                .select(\"base_id\", \"rec_id\", \"rank\") \\\n",
    "                .collect()\n",
    "array2json[0]"
   ]
  },
  {
   "cell_type": "markdown",
   "metadata": {},
   "source": [
    " "
   ]
  },
  {
   "cell_type": "markdown",
   "metadata": {},
   "source": [
    " "
   ]
  },
  {
   "cell_type": "markdown",
   "metadata": {},
   "source": [
    "# 5. Запись ответа"
   ]
  },
  {
   "cell_type": "code",
   "execution_count": 31,
   "metadata": {},
   "outputs": [],
   "source": [
    "dct = {}\n",
    "\n",
    "for (base, rec, _) in sorted(array2json, key=lambda x: x[2], reverse=False):\n",
    "    base, rec = str(base), rec\n",
    "    if base in dct:\n",
    "        dct[base].append(rec)\n",
    "    else:\n",
    "        dct[base] = [rec]"
   ]
  },
  {
   "cell_type": "code",
   "execution_count": 32,
   "metadata": {},
   "outputs": [],
   "source": [
    "import json\n",
    "\n",
    "with open(\"lab02.json\", \"w\") as file:\n",
    "    json.dump(dct, file)"
   ]
  },
  {
   "cell_type": "code",
   "execution_count": 33,
   "metadata": {},
   "outputs": [],
   "source": [
    "spark.stop()"
   ]
  }
 ],
 "metadata": {
  "kernelspec": {
   "display_name": "Python 3",
   "language": "python",
   "name": "python3"
  },
  "language_info": {
   "codemirror_mode": {
    "name": "ipython",
    "version": 3
   },
   "file_extension": ".py",
   "mimetype": "text/x-python",
   "name": "python",
   "nbconvert_exporter": "python",
   "pygments_lexer": "ipython3",
   "version": "3.6.5"
  }
 },
 "nbformat": 4,
 "nbformat_minor": 2
}
