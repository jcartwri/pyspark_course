{
 "cells": [
  {
   "cell_type": "code",
   "execution_count": 1,
   "metadata": {},
   "outputs": [
    {
     "name": "stdout",
     "output_type": "stream",
     "text": [
      "Welcome to\n",
      "      ____              __\n",
      "     / __/__  ___ _____/ /__\n",
      "    _\\ \\/ _ \\/ _ `/ __/  '_/\n",
      "   /__ / .__/\\_,_/_/ /_/\\_\\   version 2.4.7\n",
      "      /_/\n",
      "\n",
      "Using Python version 3.6.5 (default, Apr 29 2018 16:14:56)\n",
      "SparkSession available as 'spark'.\n"
     ]
    }
   ],
   "source": [
    "import os\n",
    "import sys\n",
    "os.environ[\"PYSPARK_PYTHON\"]='/opt/anaconda/envs/bd9/bin/python'\n",
    "os.environ[\"SPARK_HOME\"]='/usr/hdp/current/spark2-client'\n",
    "os.environ[\"PYSPARK_SUBMIT_ARGS\"]='--num-executors 2 pyspark-shell'\n",
    "\n",
    "spark_home = os.environ.get('SPARK_HOME', None)\n",
    "\n",
    "sys.path.insert(0, os.path.join(spark_home, 'python'))\n",
    "sys.path.insert(0, os.path.join(spark_home, 'python/lib/py4j-0.10.7-src.zip'))\n",
    "exec(open(os.path.join(spark_home, 'python/pyspark/shell.py')).read())"
   ]
  },
  {
   "cell_type": "code",
   "execution_count": 2,
   "metadata": {},
   "outputs": [],
   "source": [
    "from pyspark.ml.feature import HashingTF, IDF, Tokenizer,StopWordsRemover\n",
    "from pyspark.sql.functions import udf, col, lower, regexp_replace"
   ]
  },
  {
   "cell_type": "code",
   "execution_count": 3,
   "metadata": {},
   "outputs": [
    {
     "name": "stdout",
     "output_type": "stream",
     "text": [
      "root\n",
      " |-- cat: string (nullable = true)\n",
      " |-- desc: string (nullable = true)\n",
      " |-- id: long (nullable = true)\n",
      " |-- lang: string (nullable = true)\n",
      " |-- name: string (nullable = true)\n",
      " |-- provider: string (nullable = true)\n",
      "\n"
     ]
    }
   ],
   "source": [
    "path = \"/labs/slaba02/DO_record_per_line.json\"\n",
    "df = spark.read.json(path)\n",
    "df.printSchema()"
   ]
  },
  {
   "cell_type": "code",
   "execution_count": 4,
   "metadata": {},
   "outputs": [],
   "source": [
    "tokenizer = Tokenizer(inputCol=\"desc\", outputCol=\"vectorized_words\")"
   ]
  },
  {
   "cell_type": "code",
   "execution_count": 5,
   "metadata": {},
   "outputs": [],
   "source": [
    "stop_words = StopWordsRemover.loadDefaultStopWords(\"russian\")"
   ]
  },
  {
   "cell_type": "code",
   "execution_count": 6,
   "metadata": {},
   "outputs": [],
   "source": [
    "stop_words_remover = StopWordsRemover(inputCol=tokenizer.getOutputCol(), outputCol=\"filtered_words\", stopWords=stop_words)"
   ]
  },
  {
   "cell_type": "code",
   "execution_count": 7,
   "metadata": {},
   "outputs": [],
   "source": [
    "tokenizer_df = tokenizer.transform(df)"
   ]
  },
  {
   "cell_type": "code",
   "execution_count": 8,
   "metadata": {},
   "outputs": [],
   "source": [
    "tokenizer_filtered_df = stop_words_remover.transform(tokenizer_df)"
   ]
  },
  {
   "cell_type": "code",
   "execution_count": 9,
   "metadata": {},
   "outputs": [],
   "source": [
    "hashing_df = HashingTF(inputCol='filtered_words', outputCol=\"raw_features\", numFeatures=10000)"
   ]
  },
  {
   "cell_type": "code",
   "execution_count": 14,
   "metadata": {},
   "outputs": [],
   "source": [
    "featurized_df = hashing_df.transform(tokenizer_filtered_df)\n",
    "# альтернатива, CountVectorizer можно использовать для получения векторов частоты слов(term frequency vectors)"
   ]
  },
  {
   "cell_type": "code",
   "execution_count": 15,
   "metadata": {},
   "outputs": [],
   "source": [
    "idf = IDF(minDocFreq = 1,inputCol=\"raw_features\", outputCol=\"features\")\n",
    "idf_model = idf.fit(featurized_df)\n",
    "rescaled_df = idf_model.transform(featurized_df)"
   ]
  },
  {
   "cell_type": "code",
   "execution_count": 18,
   "metadata": {},
   "outputs": [
    {
     "name": "stdout",
     "output_type": "stream",
     "text": [
      "+---+--------------------+--------------------+--------------------+----+\n",
      "| id|            features|               words|      filtered_words|lang|\n",
      "+---+--------------------+--------------------+--------------------+----+\n",
      "|  4|(10000,[36,42,63,...|[this, course, in...|[this, course, in...|  en|\n",
      "|  5|(10000,[32,222,29...|[this, online, co...|[this, online, co...|  en|\n",
      "|  6|(10000,[30,41,246...|[this, course, is...|[this, course, is...|  fr|\n",
      "|  7|(10000,[493,572,7...|[we, live, in, a,...|[we, live, in, a,...|  en|\n",
      "|  8|(10000,[32,65,115...|[this, self-paced...|[this, self-paced...|  en|\n",
      "|  9|(10000,[56,91,268...|[this, game-based...|[this, game-based...|  en|\n",
      "| 10|(10000,[1045,1263...|[what’s, in, your...|[what’s, in, your...|  en|\n",
      "| 11|(10000,[87,157,57...|[the, goal, of, t...|[the, goal, of, t...|  en|\n",
      "| 12|(10000,[161,164,4...|[ready, to, explo...|[ready, to, explo...|  en|\n",
      "| 13|(10000,[26,1072,1...|[this, self-paced...|[this, self-paced...|  en|\n",
      "| 14|(10000,[63,145,23...|[what, is, “inter...|[what, is, “inter...|  en|\n",
      "| 15|(10000,[32,65,77,...|[this, course, pr...|[this, course, pr...|  en|\n",
      "| 16|(10000,[32,273,30...|[chemistry, is, a...|[chemistry, is, a...|  en|\n",
      "| 17|(10000,[695,1420,...|[are, you, consid...|[are, you, consid...|  en|\n",
      "| 18|(10000,[307,316,3...|[princess, storie...|[princess, storie...|  en|\n",
      "| 19|(10000,[572,768,8...|[this, first, ins...|[this, first, ins...|  en|\n",
      "| 20|(10000,[91,273,31...|[this, course, ex...|[this, course, ex...|  en|\n",
      "| 21|(10000,[148,157,1...|[this, course, wi...|[this, course, wi...|  en|\n",
      "| 22|(10000,[128,177,2...|[the, field, of, ...|[the, field, of, ...|  en|\n",
      "| 23|(10000,[91,332,52...|[are, you, a, hig...|[are, you, a, hig...|  en|\n",
      "+---+--------------------+--------------------+--------------------+----+\n",
      "only showing top 20 rows\n",
      "\n"
     ]
    }
   ],
   "source": [
    "rescaled_df.select(\"id\", \"features\",'words','filtered_words','lang').show()"
   ]
  },
  {
   "cell_type": "code",
   "execution_count": 22,
   "metadata": {},
   "outputs": [],
   "source": [
    "id_s = ['23126','21617','16627','11556','16704','13702']"
   ]
  },
  {
   "cell_type": "code",
   "execution_count": 20,
   "metadata": {},
   "outputs": [],
   "source": [
    "import numpy as np\n",
    "rescaled_array_df = rescaled_df.select(['id',\"features\",'lang']).collect()"
   ]
  },
  {
   "cell_type": "code",
   "execution_count": 23,
   "metadata": {},
   "outputs": [
    {
     "name": "stderr",
     "output_type": "stream",
     "text": [
      "/opt/anaconda/envs/bd9/lib/python3.6/site-packages/ipykernel_launcher.py:4: RuntimeWarning: invalid value encountered in double_scalars\n",
      "  after removing the cwd from sys.path.\n"
     ]
    }
   ],
   "source": [
    "def cosine_sim(a,vector):\n",
    "    return a.dot(vector)/(a.norm(2)*vector.norm(2))\n",
    "\n",
    "dict_ids = {}\n",
    "for i in id_s:\n",
    "    list_distance = {}\n",
    "    a = rescaled_df.select([\"id\",'features','lang']).where(\"id == \"+i).take(1)[0]\n",
    "    for j in range(len(rescaled_array_df)):\n",
    "        if a.lang == array[j].lang:\n",
    "            list_distance[array[j].id] = cosine_sim(a.features,array[j].features)\n",
    "    dict_ids[i] = list_distance    "
   ]
  },
  {
   "cell_type": "code",
   "execution_count": 24,
   "metadata": {},
   "outputs": [],
   "source": [
    "result = {}\n",
    "for i in id_s:\n",
    "    result[i] = [sorted(dict_ids[i].items(), key=lambda x: x[1])[::-1][1:11][j][0] for j in range(10)]"
   ]
  },
  {
   "cell_type": "code",
   "execution_count": 26,
   "metadata": {},
   "outputs": [],
   "source": [
    "import json\n",
    "with open('lab02.json', 'w') as outfile:\n",
    "    json.dump(result, outfile)"
   ]
  },
  {
   "cell_type": "code",
   "execution_count": null,
   "metadata": {},
   "outputs": [],
   "source": []
  }
 ],
 "metadata": {
  "kernelspec": {
   "display_name": "Python 3",
   "language": "python",
   "name": "python3"
  },
  "language_info": {
   "codemirror_mode": {
    "name": "ipython",
    "version": 3
   },
   "file_extension": ".py",
   "mimetype": "text/x-python",
   "name": "python",
   "nbconvert_exporter": "python",
   "pygments_lexer": "ipython3",
   "version": "3.6.5"
  }
 },
 "nbformat": 4,
 "nbformat_minor": 2
}
