{
 "cells": [
  {
   "cell_type": "code",
   "execution_count": 1,
   "metadata": {},
   "outputs": [
    {
     "name": "stdout",
     "output_type": "stream",
     "text": [
      "Welcome to\n",
      "      ____              __\n",
      "     / __/__  ___ _____/ /__\n",
      "    _\\ \\/ _ \\/ _ `/ __/  '_/\n",
      "   /__ / .__/\\_,_/_/ /_/\\_\\   version 2.4.7\n",
      "      /_/\n",
      "\n",
      "Using Python version 3.6.5 (default, Apr 29 2018 16:14:56)\n",
      "SparkSession available as 'spark'.\n"
     ]
    }
   ],
   "source": [
    "import os\n",
    "import sys\n",
    "os.environ[\"PYSPARK_SUBMIT_ARGS\"]='--num-executors 3 pyspark-shell'\n",
    "os.environ[\"PYSPARK_PYTHON\"]='/opt/anaconda/envs/bd9/bin/python'\n",
    "os.environ[\"SPARK_HOME\"]='/usr/hdp/current/spark2-client'\n",
    "\n",
    "spark_home = os.environ.get('SPARK_HOME', None)\n",
    "if not spark_home:\n",
    "    raise ValueError('SPARK_HOME environment variable is not set')\n",
    "sys.path.insert(0, os.path.join(spark_home, 'python'))\n",
    "sys.path.insert(0, os.path.join(spark_home, 'python/lib/py4j-0.10.7-src.zip'))\n",
    "exec(open(os.path.join(spark_home, 'python/pyspark/shell.py')).read())"
   ]
  },
  {
   "cell_type": "code",
   "execution_count": 2,
   "metadata": {},
   "outputs": [],
   "source": [
    "from pyspark.sql.functions import from_json, col, explode, expr, \\\n",
    "collect_list, to_json, struct\n",
    "\n",
    "from pyspark.sql.types import StructField, StructType, StringType, ArrayType, LongType\n",
    "from pyspark.ml.feature import HashingTF, StringIndexer, IndexToString\n",
    "from pyspark.ml import Pipeline, PipelineModel\n",
    "from pyspark.ml.classification import RandomForestClassifier\n",
    "from pyspark.ml.evaluation import MulticlassClassificationEvaluator"
   ]
  },
  {
   "cell_type": "code",
   "execution_count": 4,
   "metadata": {},
   "outputs": [],
   "source": [
    "train_df = spark.read.csv(\"/labs/slaba04/gender_age_dataset.txt\", header=True, inferSchema=True, sep='\\t')"
   ]
  },
  {
   "cell_type": "code",
   "execution_count": 6,
   "metadata": {},
   "outputs": [],
   "source": [
    "v_type = StructType([\n",
    "    StructField(\"visits\", ArrayType(\n",
    "        StructType([\n",
    "            StructField(\"url\", StringType(), True),\n",
    "            StructField(\"timestamp\", LongType(), True) \n",
    "            ])\n",
    "        ))\n",
    "    ])"
   ]
  },
  {
   "cell_type": "code",
   "execution_count": 7,
   "metadata": {},
   "outputs": [],
   "source": [
    "pre_train = train_df \\\n",
    "    .withColumn(\"visits\", from_json(col(\"user_json\"), v_type)) \\\n",
    "    .withColumn(\"visit\", explode(\"visits.visits\").alias(\"visit\")) \\\n",
    "    .withColumn(\"host\", expr(\"parse_url(visit.url, 'HOST')\").alias(\"host\")) \\\n",
    "    .drop(\"visits\", \"visit\",\"user_json\")"
   ]
  },
  {
   "cell_type": "code",
   "execution_count": 8,
   "metadata": {},
   "outputs": [],
   "source": [
    "final_train = pre_train \\\n",
    "    .groupBy(\"gender\", \"age\", \"uid\") \\\n",
    "    .agg(collect_list(\"host\") \\\n",
    "    .alias(\"hosts\"))"
   ]
  },
  {
   "cell_type": "code",
   "execution_count": 9,
   "metadata": {},
   "outputs": [
    {
     "data": {
      "text/plain": [
       "DataFrame[gender: string, age: string, uid: string, hosts: array<string>]"
      ]
     },
     "execution_count": 9,
     "metadata": {},
     "output_type": "execute_result"
    }
   ],
   "source": [
    "final_train.cache()"
   ]
  },
  {
   "cell_type": "code",
   "execution_count": 10,
   "metadata": {},
   "outputs": [],
   "source": [
    "x_train, x_test = final_train.randomSplit([0.8, 0.2], seed=12345)"
   ]
  },
  {
   "cell_type": "code",
   "execution_count": 11,
   "metadata": {},
   "outputs": [],
   "source": [
    "hashing_TF = HashingTF(inputCol=\"hosts\", outputCol=\"raw_features\", numFeatures=10000, binary=False)"
   ]
  },
  {
   "cell_type": "code",
   "execution_count": 12,
   "metadata": {},
   "outputs": [],
   "source": [
    "indexer_age = StringIndexer(inputCol=\"age\", outputCol=\"age_index\").fit(final_train)"
   ]
  },
  {
   "cell_type": "code",
   "execution_count": 13,
   "metadata": {},
   "outputs": [],
   "source": [
    "indexer_gender = StringIndexer(inputCol=\"gender\", outputCol=\"gender_index\").fit(final_train)"
   ]
  },
  {
   "cell_type": "code",
   "execution_count": 14,
   "metadata": {},
   "outputs": [],
   "source": [
    "rf_age = RandomForestClassifier(featuresCol = 'raw_features', labelCol = 'age_index', \n",
    "                           predictionCol=\"age_index_prediction\", rawPredictionCol=\"age_index_raw_prediction\",\n",
    "                           probabilityCol = \"age_probability\")"
   ]
  },
  {
   "cell_type": "code",
   "execution_count": 15,
   "metadata": {},
   "outputs": [],
   "source": [
    "rf_gender = RandomForestClassifier(featuresCol = 'raw_features', labelCol = 'gender_index',\n",
    "                              predictionCol=\"gender_index_prediction\", rawPredictionCol=\"gender_index_raw_prediction\",\n",
    "                              probabilityCol = \"gender_probability\")"
   ]
  },
  {
   "cell_type": "code",
   "execution_count": 16,
   "metadata": {},
   "outputs": [],
   "source": [
    "converter_age = IndexToString(inputCol=\"age_index_prediction\", outputCol=\"predicted_age\", labels=indexer_age.labels)"
   ]
  },
  {
   "cell_type": "code",
   "execution_count": 17,
   "metadata": {},
   "outputs": [],
   "source": [
    "converter_gender = IndexToString(inputCol=\"gender_index_prediction\", outputCol=\"predicted_gender\", labels=indexer_gender.labels)"
   ]
  },
  {
   "cell_type": "code",
   "execution_count": 18,
   "metadata": {},
   "outputs": [],
   "source": [
    "pipeline = Pipeline(stages=[hashing_TF, indexer_age, indexer_gender, rf_age, rf_gender, \n",
    "                            converter_age, converter_gender])"
   ]
  },
  {
   "cell_type": "code",
   "execution_count": 19,
   "metadata": {},
   "outputs": [],
   "source": [
    "model = pipeline.fit(x_train)"
   ]
  },
  {
   "cell_type": "code",
   "execution_count": 20,
   "metadata": {},
   "outputs": [],
   "source": [
    "predictions = model.transform(x_test)"
   ]
  },
  {
   "cell_type": "code",
   "execution_count": 21,
   "metadata": {},
   "outputs": [
    {
     "name": "stdout",
     "output_type": "stream",
     "text": [
      "+------+---+------------+---------------+\n",
      "|gender|age|PredictedAge|PredictedGender|\n",
      "+------+---+------------+---------------+\n",
      "|     -|  -|       25-34|              M|\n",
      "|     -|  -|       25-34|              M|\n",
      "|     -|  -|       25-34|              M|\n",
      "|     -|  -|       25-34|              M|\n",
      "|     -|  -|       25-34|              M|\n",
      "+------+---+------------+---------------+\n",
      "only showing top 5 rows\n",
      "\n"
     ]
    }
   ],
   "source": [
    "predictions.select(\"gender\", \"age\", \"predicted_age\", \"predicted_gender\").show(5)"
   ]
  },
  {
   "cell_type": "code",
   "execution_count": 22,
   "metadata": {},
   "outputs": [
    {
     "name": "stdout",
     "output_type": "stream",
     "text": [
      "Accuracy for age: 0.3780164092664093\n",
      "Accuracy for gender: 0.48359073359073357\n"
     ]
    }
   ],
   "source": [
    "evaluator_age = MulticlassClassificationEvaluator(\n",
    "    labelCol=\"age_index\", predictionCol=\"age_index_prediction\", metricName=\"accuracy\")\n",
    "accuracy_age = evaluator_age.evaluate(predictions)\n",
    "evaluator_gender = MulticlassClassificationEvaluator(\n",
    "    labelCol=\"gender_index\", predictionCol=\"gender_index_prediction\", metricName=\"accuracy\")\n",
    "accuracy_gender = evaluator_gender.evaluate(predictions)\n",
    "\n",
    "print(\"Accuracy for age: \" + str(accuracy_age))\n",
    "print(\"Accuracy for gender: \" + str(accuracy_gender))"
   ]
  },
  {
   "cell_type": "code",
   "execution_count": 23,
   "metadata": {},
   "outputs": [],
   "source": [
    "model.write().overwrite().save(\"/user/andrey.kachetov/lab04_model\")"
   ]
  },
  {
   "cell_type": "code",
   "execution_count": 24,
   "metadata": {},
   "outputs": [
    {
     "name": "stdout",
     "output_type": "stream",
     "text": [
      "395    1185    /user/andrey.kachetov/lab04_model/metadata\n",
      "86841  260523  /user/andrey.kachetov/lab04_model/stages\n"
     ]
    }
   ],
   "source": [
    "!hdfs dfs -du /user/andrey.kachetov/lab04_model"
   ]
  },
  {
   "cell_type": "code",
   "execution_count": 25,
   "metadata": {},
   "outputs": [],
   "source": [
    "inf_model = PipelineModel.load(\"/user/andrey.kachetov/lab04_model\")"
   ]
  },
  {
   "cell_type": "code",
   "execution_count": 26,
   "metadata": {},
   "outputs": [],
   "source": [
    "read_kafka_params = {\n",
    "    \"kafka.bootstrap.servers\": 'spark-master-1.newprolab.com:6667',\n",
    "    \"subscribe\": \"input_andrey.kachetov\",\n",
    "    \"startingOffsets\": \"latest\"\n",
    "}"
   ]
  },
  {
   "cell_type": "code",
   "execution_count": 27,
   "metadata": {},
   "outputs": [],
   "source": [
    "write_kafka_params = {\n",
    "   \"kafka.bootstrap.servers\": 'spark-master-1.newprolab.com:6667',\n",
    "   \"topic\": \"andrey.kachetov\"\n",
    "}"
   ]
  },
  {
   "cell_type": "code",
   "execution_count": 28,
   "metadata": {},
   "outputs": [],
   "source": [
    "event_type  = StructType([\n",
    "    StructField(\"uid\", StringType(), True),\n",
    "    StructField(\"visits\", StringType(), True),\n",
    "    ])\n",
    "\n",
    "visit_type = ArrayType(\n",
    "    StructType([\n",
    "        StructField(\"url\", StringType(), True),\n",
    "        StructField(\"timestamp\", LongType(), True) \n",
    "    ])\n",
    ")"
   ]
  },
  {
   "cell_type": "code",
   "execution_count": 29,
   "metadata": {},
   "outputs": [],
   "source": [
    "def process_batch(batch_df):\n",
    "    clean_df = batch_df \\\n",
    "        .select(col(\"value\").cast(\"string\").alias(\"value\")) \\\n",
    "        .select(from_json(col(\"value\"), event_type).alias(\"data\")) \\\n",
    "        .select(\"data.*\") \\\n",
    "        .select(\"uid\", from_json(col(\"visits\"), visit_type).alias(\"visits\"))\n",
    "    \n",
    "    proc_df = clean_df \\\n",
    "        .withColumn(\"visit\", explode(\"visits\").alias(\"visit\")) \\\n",
    "        .withColumn(\"host\", expr(\"parse_url(visit.url, 'HOST')\").alias(\"host\")) \\\n",
    "        .drop(\"visits\", \"visit\") \\\n",
    "        .groupBy(\"uid\") \\\n",
    "        .agg(collect_list(\"host\").alias(\"hosts\"))\n",
    "    \n",
    "    predictions_df = inf_model.transform(proc_df) \\\n",
    "        .select(\"uid\", \"predicted_gender\", \"predicted_age\") \\\n",
    "        .withColumnRenamed(\"predicted_age\",\"age\") \\\n",
    "        .withColumnRenamed(\"predicted_gender\",\"gender\")\n",
    "\n",
    "    kafka_df = predictions_df \\\n",
    "        .select(to_json(struct(*predictions_df.columns)).alias(\"value\"))\n",
    "    \n",
    "    kafka_df \\\n",
    "        .write \\\n",
    "        .format(\"kafka\") \\\n",
    "        .options(**write_kafka_params)\\\n",
    "        .mode(\"append\") \\\n",
    "        .save()"
   ]
  },
  {
   "cell_type": "code",
   "execution_count": 8,
   "metadata": {},
   "outputs": [],
   "source": [
    "kafka_test_df = spark \\\n",
    "    .readStream \\\n",
    "    .format(\"kafka\") \\\n",
    "    .option(\"failOnDataLoss\", 'False') \\\n",
    "    .options(**read_kafka_params) \\\n",
    "    .load()"
   ]
  },
  {
   "cell_type": "code",
   "execution_count": 10,
   "metadata": {},
   "outputs": [],
   "source": [
    "sq = kafka_test_df \\\n",
    "    .writeStream \\\n",
    "    .foreachBatch(process_batch) \\\n",
    "    .option(\"checkpointLocation\", \"streaming/chk/andrey_kachetov_chk_kafka\")\\\n",
    "    .start()"
   ]
  },
  {
   "cell_type": "code",
   "execution_count": 59,
   "metadata": {},
   "outputs": [],
   "source": [
    "# Stop streaming\n",
    "sq.stop()"
   ]
  },
  {
   "cell_type": "code",
   "execution_count": null,
   "metadata": {},
   "outputs": [],
   "source": [
    "spark.stop()"
   ]
  },
  {
   "cell_type": "code",
   "execution_count": 9,
   "metadata": {},
   "outputs": [
    {
     "name": "stdout",
     "output_type": "stream",
     "text": [
      "21/03/22 13:46:05 INFO fs.TrashPolicyDefault: Moved: 'hdfs://spark-de-master-1.newprolab.com:8020/user/andrey.kachetov/streaming/chk' to trash at: hdfs://spark-de-master-1.newprolab.com:8020/user/andrey.kachetov/.Trash/Current/user/andrey.kachetov/streaming/chk1616409965278\n"
     ]
    }
   ],
   "source": [
    "!hdfs dfs -rm -r -f streaming/chk/"
   ]
  },
  {
   "cell_type": "code",
   "execution_count": 76,
   "metadata": {},
   "outputs": [
    {
     "name": "stdout",
     "output_type": "stream",
     "text": [
      "ls: `streaming/chk/': No such file or directory\n"
     ]
    }
   ],
   "source": [
    "!hdfs dfs -ls streaming/chk/"
   ]
  },
  {
   "cell_type": "code",
   "execution_count": null,
   "metadata": {},
   "outputs": [],
   "source": []
  }
 ],
 "metadata": {
  "kernelspec": {
   "display_name": "Python 3",
   "language": "python",
   "name": "python3"
  },
  "language_info": {
   "codemirror_mode": {
    "name": "ipython",
    "version": 3
   },
   "file_extension": ".py",
   "mimetype": "text/x-python",
   "name": "python",
   "nbconvert_exporter": "python",
   "pygments_lexer": "ipython3",
   "version": "3.7.4"
  },
  "pycharm": {
   "stem_cell": {
    "cell_type": "raw",
    "source": [],
    "metadata": {
     "collapsed": false
    }
   }
  }
 },
 "nbformat": 4,
 "nbformat_minor": 4
}