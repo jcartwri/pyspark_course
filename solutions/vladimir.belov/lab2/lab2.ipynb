{
 "cells": [
  {
   "cell_type": "code",
   "execution_count": 1,
   "metadata": {},
   "outputs": [
    {
     "name": "stdout",
     "output_type": "stream",
     "text": [
      "Found 1 items\r\n",
      "-rw-r--r--   3 hdfs hdfs   69519728 2021-02-27 21:58 /labs/slaba02/DO_record_per_line.json\r\n"
     ]
    }
   ],
   "source": [
    "!hdfs dfs -ls /labs/slaba02/"
   ]
  },
  {
   "cell_type": "code",
   "execution_count": 2,
   "metadata": {},
   "outputs": [],
   "source": [
    "import os\n",
    "import sys\n",
    "\n",
    "\n",
    "os.environ[\"PYSPARK_PYTHON\"]='/opt/anaconda/envs/bd9/bin/python'\n",
    "os.environ[\"SPARK_HOME\"]='/usr/hdp/current/spark2-client'\n",
    "os.environ[\"PYSPARK_SUBMIT_ARGS\"]='--num-executors 3 pyspark-shell'\n",
    "\n",
    "spark_home = os.environ.get('SPARK_HOME', None)\n",
    "\n",
    "sys.path.insert(0, os.path.join(spark_home, 'python'))\n",
    "sys.path.insert(0, os.path.join(spark_home, 'python/lib/py4j-0.10.7-src.zip'))"
   ]
  },
  {
   "cell_type": "code",
   "execution_count": 3,
   "metadata": {},
   "outputs": [],
   "source": [
    "from pyspark import SparkContext, SparkConf\n",
    "\n",
    "conf = SparkConf()\n",
    "conf.set(\"spark.app.name\", \"lab2\") \n",
    "\n",
    "sc = SparkContext(conf=conf)"
   ]
  },
  {
   "cell_type": "code",
   "execution_count": 4,
   "metadata": {},
   "outputs": [],
   "source": [
    "from pyspark.sql import SparkSession\n",
    "\n",
    "spark = SparkSession.builder.config(conf=conf).appName(\"natasha pritykovskaya Spark Dataframe app\").getOrCreate()"
   ]
  },
  {
   "cell_type": "code",
   "execution_count": 5,
   "metadata": {},
   "outputs": [],
   "source": [
    "df = spark.read\\\n",
    "          .format(\"json\")\\\n",
    "          .load(\"/labs/slaba02/DO_record_per_line.json\")"
   ]
  },
  {
   "cell_type": "code",
   "execution_count": 6,
   "metadata": {},
   "outputs": [
    {
     "name": "stdout",
     "output_type": "stream",
     "text": [
      "+--------------------+--------------------+---+----+--------------------+--------------+\n",
      "|                 cat|                desc| id|lang|                name|      provider|\n",
      "+--------------------+--------------------+---+----+--------------------+--------------+\n",
      "|3/business_manage...|This course intro...|  4|  en|Accounting Cycle:...|Canvas Network|\n",
      "|              11/law|This online cours...|  5|  en|American Counter ...|Canvas Network|\n",
      "|5/computer_scienc...|This course is ta...|  6|  fr|Arithmétique: en ...|Canvas Network|\n",
      "|  14/social_sciences|We live in a digi...|  7|  en|Becoming a Dynami...|Canvas Network|\n",
      "|2/biology_life_sc...|This self-paced c...|  8|  en|           Bioethics|Canvas Network|\n",
      "|9/humanities|15/m...|This game-based c...|  9|  en|College Foundatio...|Canvas Network|\n",
      "|  14/social_sciences|What’s in your di...| 10|  en|Digital Literacies I|Canvas Network|\n",
      "|  14/social_sciences|The goal of the D...| 11|  en|Digital Literacie...|Canvas Network|\n",
      "|  14/social_sciences|Ready to explore ...| 12|  en|Digital Tools for...|Canvas Network|\n",
      "|  14/social_sciences|This self-paced c...| 13|  en|Discover Your Val...|Canvas Network|\n",
      "+--------------------+--------------------+---+----+--------------------+--------------+\n",
      "only showing top 10 rows\n",
      "\n"
     ]
    }
   ],
   "source": [
    "df.show(10)"
   ]
  },
  {
   "cell_type": "code",
   "execution_count": 18,
   "metadata": {},
   "outputs": [],
   "source": [
    "task_arr = [23126, 21617, 16627, 11556, 16704, 13702]"
   ]
  },
  {
   "cell_type": "code",
   "execution_count": 8,
   "metadata": {},
   "outputs": [
    {
     "name": "stdout",
     "output_type": "stream",
     "text": [
      "root\n",
      " |-- cat: string (nullable = true)\n",
      " |-- desc: string (nullable = true)\n",
      " |-- id: long (nullable = true)\n",
      " |-- lang: string (nullable = true)\n",
      " |-- name: string (nullable = true)\n",
      " |-- provider: string (nullable = true)\n",
      "\n"
     ]
    }
   ],
   "source": [
    "df.printSchema()"
   ]
  },
  {
   "cell_type": "code",
   "execution_count": 9,
   "metadata": {},
   "outputs": [],
   "source": [
    "import re\n",
    "\n",
    "regex = re.compile(u'[\\w\\d]{2,}', re.U)\n",
    "\n",
    "df2 = df\\\n",
    "        .rdd\\\n",
    "        .map(lambda x : (x.id, x.lang, x.name, regex.findall(x.desc.lower())))\\\n",
    "        .toDF()\\\n",
    "        .withColumnRenamed(\"_1\",\"id\")\\\n",
    "        .withColumnRenamed(\"_2\",\"lang\")\\\n",
    "        .withColumnRenamed(\"_3\",\"name\")\\\n",
    "        .withColumnRenamed(\"_4\",\"desc\")"
   ]
  },
  {
   "cell_type": "code",
   "execution_count": 10,
   "metadata": {},
   "outputs": [
    {
     "name": "stdout",
     "output_type": "stream",
     "text": [
      "+---+----+--------------------+--------------------+\n",
      "| id|lang|                name|                desc|\n",
      "+---+----+--------------------+--------------------+\n",
      "|  4|  en|Accounting Cycle:...|[this, course, in...|\n",
      "|  5|  en|American Counter ...|[this, online, co...|\n",
      "|  6|  fr|Arithmétique: en ...|[this, course, is...|\n",
      "|  7|  en|Becoming a Dynami...|[we, live, in, di...|\n",
      "|  8|  en|           Bioethics|[this, self, pace...|\n",
      "|  9|  en|College Foundatio...|[this, game, base...|\n",
      "| 10|  en|Digital Literacies I|[what, in, your, ...|\n",
      "| 11|  en|Digital Literacie...|[the, goal, of, t...|\n",
      "| 12|  en|Digital Tools for...|[ready, to, explo...|\n",
      "| 13|  en|Discover Your Val...|[this, self, pace...|\n",
      "| 14|  en|Enhancing Patient...|[what, is, interp...|\n",
      "| 15|  en|Ethics and Values...|[this, course, pr...|\n",
      "| 16|  en| Exploring Chemistry|[chemistry, is, a...|\n",
      "| 17|  en|Exploring Enginee...|[are, you, consid...|\n",
      "| 18|  en|Fairy Tales: Orig...|[princess, storie...|\n",
      "| 19|  en|First Peoples to ...|[this, first, ins...|\n",
      "| 20|  en| Forums for a Future|[this, course, ex...|\n",
      "| 21|  en|From the Gilded A...|[this, course, wi...|\n",
      "| 22|  en|Fundamentals of S...|[the, field, of, ...|\n",
      "| 23|  en|Hybrid Courses: B...|[are, you, higher...|\n",
      "+---+----+--------------------+--------------------+\n",
      "only showing top 20 rows\n",
      "\n"
     ]
    }
   ],
   "source": [
    "df2.show()"
   ]
  },
  {
   "cell_type": "code",
   "execution_count": 11,
   "metadata": {},
   "outputs": [],
   "source": [
    "from pyspark.ml.feature import HashingTF\n",
    "from pyspark.ml.feature import IDF\n",
    "from pyspark.sql.types import DoubleType\n",
    "\n",
    "htf = HashingTF(inputCol=\"desc\", outputCol=\"tf\", numFeatures=10000)\n",
    "tf = htf.transform(df2)"
   ]
  },
  {
   "cell_type": "code",
   "execution_count": 12,
   "metadata": {},
   "outputs": [
    {
     "name": "stdout",
     "output_type": "stream",
     "text": [
      "+---+----+--------------------+--------------------+--------------------+\n",
      "| id|lang|                name|                desc|                  tf|\n",
      "+---+----+--------------------+--------------------+--------------------+\n",
      "|  4|  en|Accounting Cycle:...|[this, course, in...|(10000,[36,63,138...|\n",
      "|  5|  en|American Counter ...|[this, online, co...|(10000,[32,222,36...|\n",
      "|  6|  fr|Arithmétique: en ...|[this, course, is...|(10000,[30,118,12...|\n",
      "|  7|  en|Becoming a Dynami...|[we, live, in, di...|(10000,[493,572,7...|\n",
      "|  8|  en|           Bioethics|[this, self, pace...|(10000,[32,115,13...|\n",
      "|  9|  en|College Foundatio...|[this, game, base...|(10000,[56,91,300...|\n",
      "| 10|  en|Digital Literacies I|[what, in, your, ...|(10000,[1045,1263...|\n",
      "| 11|  en|Digital Literacie...|[the, goal, of, t...|(10000,[87,157,57...|\n",
      "| 12|  en|Digital Tools for...|[ready, to, explo...|(10000,[233,461,8...|\n",
      "| 13|  en|Discover Your Val...|[this, self, pace...|(10000,[26,696,10...|\n",
      "| 14|  en|Enhancing Patient...|[what, is, interp...|(10000,[63,145,23...|\n",
      "| 15|  en|Ethics and Values...|[this, course, pr...|(10000,[32,77,148...|\n",
      "| 16|  en| Exploring Chemistry|[chemistry, is, a...|(10000,[32,273,30...|\n",
      "| 17|  en|Exploring Enginee...|[are, you, consid...|(10000,[1022,1420...|\n",
      "| 18|  en|Fairy Tales: Orig...|[princess, storie...|(10000,[157,307,3...|\n",
      "| 19|  en|First Peoples to ...|[this, first, ins...|(10000,[572,696,8...|\n",
      "| 20|  en| Forums for a Future|[this, course, ex...|(10000,[87,91,177...|\n",
      "| 21|  en|From the Gilded A...|[this, course, wi...|(10000,[148,157,3...|\n",
      "| 22|  en|Fundamentals of S...|[the, field, of, ...|(10000,[128,177,4...|\n",
      "| 23|  en|Hybrid Courses: B...|[are, you, higher...|(10000,[91,332,52...|\n",
      "+---+----+--------------------+--------------------+--------------------+\n",
      "only showing top 20 rows\n",
      "\n"
     ]
    }
   ],
   "source": [
    "tf.show()"
   ]
  },
  {
   "cell_type": "code",
   "execution_count": 13,
   "metadata": {},
   "outputs": [],
   "source": [
    "idf = IDF(inputCol=\"tf\", outputCol=\"idf\")\n",
    "tfidf = idf.fit(tf).transform(tf)"
   ]
  },
  {
   "cell_type": "code",
   "execution_count": 14,
   "metadata": {},
   "outputs": [
    {
     "name": "stdout",
     "output_type": "stream",
     "text": [
      "+---+----+--------------------+--------------------+--------------------+--------------------+\n",
      "| id|lang|                name|                desc|                  tf|                 idf|\n",
      "+---+----+--------------------+--------------------+--------------------+--------------------+\n",
      "|  4|  en|Accounting Cycle:...|[this, course, in...|(10000,[36,63,138...|(10000,[36,63,138...|\n",
      "|  5|  en|American Counter ...|[this, online, co...|(10000,[32,222,36...|(10000,[32,222,36...|\n",
      "|  6|  fr|Arithmétique: en ...|[this, course, is...|(10000,[30,118,12...|(10000,[30,118,12...|\n",
      "|  7|  en|Becoming a Dynami...|[we, live, in, di...|(10000,[493,572,7...|(10000,[493,572,7...|\n",
      "|  8|  en|           Bioethics|[this, self, pace...|(10000,[32,115,13...|(10000,[32,115,13...|\n",
      "|  9|  en|College Foundatio...|[this, game, base...|(10000,[56,91,300...|(10000,[56,91,300...|\n",
      "| 10|  en|Digital Literacies I|[what, in, your, ...|(10000,[1045,1263...|(10000,[1045,1263...|\n",
      "| 11|  en|Digital Literacie...|[the, goal, of, t...|(10000,[87,157,57...|(10000,[87,157,57...|\n",
      "| 12|  en|Digital Tools for...|[ready, to, explo...|(10000,[233,461,8...|(10000,[233,461,8...|\n",
      "| 13|  en|Discover Your Val...|[this, self, pace...|(10000,[26,696,10...|(10000,[26,696,10...|\n",
      "| 14|  en|Enhancing Patient...|[what, is, interp...|(10000,[63,145,23...|(10000,[63,145,23...|\n",
      "| 15|  en|Ethics and Values...|[this, course, pr...|(10000,[32,77,148...|(10000,[32,77,148...|\n",
      "| 16|  en| Exploring Chemistry|[chemistry, is, a...|(10000,[32,273,30...|(10000,[32,273,30...|\n",
      "| 17|  en|Exploring Enginee...|[are, you, consid...|(10000,[1022,1420...|(10000,[1022,1420...|\n",
      "| 18|  en|Fairy Tales: Orig...|[princess, storie...|(10000,[157,307,3...|(10000,[157,307,3...|\n",
      "| 19|  en|First Peoples to ...|[this, first, ins...|(10000,[572,696,8...|(10000,[572,696,8...|\n",
      "| 20|  en| Forums for a Future|[this, course, ex...|(10000,[87,91,177...|(10000,[87,91,177...|\n",
      "| 21|  en|From the Gilded A...|[this, course, wi...|(10000,[148,157,3...|(10000,[148,157,3...|\n",
      "| 22|  en|Fundamentals of S...|[the, field, of, ...|(10000,[128,177,4...|(10000,[128,177,4...|\n",
      "| 23|  en|Hybrid Courses: B...|[are, you, higher...|(10000,[91,332,52...|(10000,[91,332,52...|\n",
      "+---+----+--------------------+--------------------+--------------------+--------------------+\n",
      "only showing top 20 rows\n",
      "\n"
     ]
    }
   ],
   "source": [
    "tfidf.show()"
   ]
  },
  {
   "cell_type": "code",
   "execution_count": 17,
   "metadata": {},
   "outputs": [],
   "source": [
    "from pyspark.ml.feature import Normalizer\n",
    "\n",
    "normalizer = Normalizer(inputCol=\"idf\", outputCol=\"norm\")\n",
    "df3 = normalizer.transform(tfidf)"
   ]
  },
  {
   "cell_type": "code",
   "execution_count": 22,
   "metadata": {},
   "outputs": [
    {
     "name": "stdout",
     "output_type": "stream",
     "text": [
      "+---+----+--------------------+--------------------+--------------------+--------------------+--------------------+\n",
      "| id|lang|                name|                desc|                  tf|                 idf|                norm|\n",
      "+---+----+--------------------+--------------------+--------------------+--------------------+--------------------+\n",
      "|  4|  en|Accounting Cycle:...|[this, course, in...|(10000,[36,63,138...|(10000,[36,63,138...|(10000,[36,63,138...|\n",
      "|  5|  en|American Counter ...|[this, online, co...|(10000,[32,222,36...|(10000,[32,222,36...|(10000,[32,222,36...|\n",
      "|  6|  fr|Arithmétique: en ...|[this, course, is...|(10000,[30,118,12...|(10000,[30,118,12...|(10000,[30,118,12...|\n",
      "|  7|  en|Becoming a Dynami...|[we, live, in, di...|(10000,[493,572,7...|(10000,[493,572,7...|(10000,[493,572,7...|\n",
      "|  8|  en|           Bioethics|[this, self, pace...|(10000,[32,115,13...|(10000,[32,115,13...|(10000,[32,115,13...|\n",
      "|  9|  en|College Foundatio...|[this, game, base...|(10000,[56,91,300...|(10000,[56,91,300...|(10000,[56,91,300...|\n",
      "| 10|  en|Digital Literacies I|[what, in, your, ...|(10000,[1045,1263...|(10000,[1045,1263...|(10000,[1045,1263...|\n",
      "| 11|  en|Digital Literacie...|[the, goal, of, t...|(10000,[87,157,57...|(10000,[87,157,57...|(10000,[87,157,57...|\n",
      "| 12|  en|Digital Tools for...|[ready, to, explo...|(10000,[233,461,8...|(10000,[233,461,8...|(10000,[233,461,8...|\n",
      "| 13|  en|Discover Your Val...|[this, self, pace...|(10000,[26,696,10...|(10000,[26,696,10...|(10000,[26,696,10...|\n",
      "| 14|  en|Enhancing Patient...|[what, is, interp...|(10000,[63,145,23...|(10000,[63,145,23...|(10000,[63,145,23...|\n",
      "| 15|  en|Ethics and Values...|[this, course, pr...|(10000,[32,77,148...|(10000,[32,77,148...|(10000,[32,77,148...|\n",
      "| 16|  en| Exploring Chemistry|[chemistry, is, a...|(10000,[32,273,30...|(10000,[32,273,30...|(10000,[32,273,30...|\n",
      "| 17|  en|Exploring Enginee...|[are, you, consid...|(10000,[1022,1420...|(10000,[1022,1420...|(10000,[1022,1420...|\n",
      "| 18|  en|Fairy Tales: Orig...|[princess, storie...|(10000,[157,307,3...|(10000,[157,307,3...|(10000,[157,307,3...|\n",
      "| 19|  en|First Peoples to ...|[this, first, ins...|(10000,[572,696,8...|(10000,[572,696,8...|(10000,[572,696,8...|\n",
      "| 20|  en| Forums for a Future|[this, course, ex...|(10000,[87,91,177...|(10000,[87,91,177...|(10000,[87,91,177...|\n",
      "| 21|  en|From the Gilded A...|[this, course, wi...|(10000,[148,157,3...|(10000,[148,157,3...|(10000,[148,157,3...|\n",
      "| 22|  en|Fundamentals of S...|[the, field, of, ...|(10000,[128,177,4...|(10000,[128,177,4...|(10000,[128,177,4...|\n",
      "| 23|  en|Hybrid Courses: B...|[are, you, higher...|(10000,[91,332,52...|(10000,[91,332,52...|(10000,[91,332,52...|\n",
      "+---+----+--------------------+--------------------+--------------------+--------------------+--------------------+\n",
      "only showing top 20 rows\n",
      "\n"
     ]
    }
   ],
   "source": [
    "df3.show()"
   ]
  },
  {
   "cell_type": "code",
   "execution_count": 20,
   "metadata": {},
   "outputs": [],
   "source": [
    "import pyspark.sql.functions as f\n",
    "\n",
    "cos_udf = f.udf(lambda x,y: float(x.dot(y)), DoubleType())"
   ]
  },
  {
   "cell_type": "code",
   "execution_count": 32,
   "metadata": {},
   "outputs": [],
   "source": [
    "def calc_for_one(task):\n",
    "    task_df = df3.filter(f.col('id') == task).select(f.col('idf').alias('norm2'))\n",
    "    df4 = df3.filter(f.col('id') != task).select('id', 'idf').crossJoin(task_df)\n",
    "    df5 = df4.select(cos_udf('idf', 'norm2').alias(\"cos\"), 'id')\n",
    "    lst = df5.sort(f.desc('cos')).select('id').take(10)\n",
    "    res = []\n",
    "    for x in lst:\n",
    "        res.append(x.id)\n",
    "    return res"
   ]
  },
  {
   "cell_type": "code",
   "execution_count": 33,
   "metadata": {},
   "outputs": [],
   "source": [
    "result = {}\n",
    "\n",
    "for task in task_arr:\n",
    "    result[task] = calc_for_one(task)"
   ]
  },
  {
   "cell_type": "code",
   "execution_count": 34,
   "metadata": {},
   "outputs": [
    {
     "data": {
      "text/plain": [
       "{23126: [13665, 24419, 25782, 11063, 6938, 23756, 22652, 12465, 11616, 25845],\n",
       " 21617: [16971, 22366, 17221, 6776, 17101, 380, 7597, 22297, 19848, 20592],\n",
       " 16627: [26336, 26670, 7944, 17839, 10749, 21053, 13275, 23303, 18979, 11575],\n",
       " 11556: [26336, 26670, 7944, 13275, 16929, 17839, 21053, 10749, 18979, 8098],\n",
       " 16704: [23407, 3864, 25723, 25726, 23864, 18023, 25627, 25724, 22666, 20933],\n",
       " 13702: [25502, 28074, 23769, 18215, 5399, 864, 11319, 10926, 467, 25846]}"
      ]
     },
     "execution_count": 34,
     "metadata": {},
     "output_type": "execute_result"
    }
   ],
   "source": [
    "result"
   ]
  }
 ],
 "metadata": {
  "kernelspec": {
   "display_name": "Python 3",
   "language": "python",
   "name": "python3"
  },
  "language_info": {
   "codemirror_mode": {
    "name": "ipython",
    "version": 3
   },
   "file_extension": ".py",
   "mimetype": "text/x-python",
   "name": "python",
   "nbconvert_exporter": "python",
   "pygments_lexer": "ipython3",
   "version": "3.6.5"
  }
 },
 "nbformat": 4,
 "nbformat_minor": 2
}
