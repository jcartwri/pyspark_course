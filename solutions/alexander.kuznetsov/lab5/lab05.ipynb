{
 "cells": [
  {
   "cell_type": "code",
   "execution_count": 1,
   "metadata": {},
   "outputs": [],
   "source": [
    "import sys.process._"
   ]
  },
  {
   "cell_type": "code",
   "execution_count": 2,
   "metadata": {},
   "outputs": [
    {
     "name": "stdout",
     "output_type": "stream",
     "text": [
      "/data/home/alexander.kuznetsov\n"
     ]
    },
    {
     "data": {
      "text/plain": [
       "warning: there was one feature warning; re-run with -feature for details\n"
      ]
     },
     "metadata": {},
     "output_type": "display_data"
    },
    {
     "data": {
      "text/plain": [
       "0"
      ]
     },
     "execution_count": 2,
     "metadata": {},
     "output_type": "execute_result"
    }
   ],
   "source": [
    "\"pwd\" !"
   ]
  },
  {
   "cell_type": "code",
   "execution_count": 3,
   "metadata": {},
   "outputs": [
    {
     "name": "stdout",
     "output_type": "stream",
     "text": [
      "put: `slaba05data/lab05_submission_example.csv': File exists\n",
      "put: `slaba05data/lab05_train.csv': File exists\n",
      "put: `slaba05data/lab05_test.csv': File exists\n"
     ]
    },
    {
     "data": {
      "text/plain": [
       "warning: there was one feature warning; re-run with -feature for details\n"
      ]
     },
     "metadata": {},
     "output_type": "display_data"
    },
    {
     "data": {
      "text/plain": [
       "1"
      ]
     },
     "execution_count": 3,
     "metadata": {},
     "output_type": "execute_result"
    }
   ],
   "source": [
    "\"hdfs dfs -put /share/slaba05data ../alexander.kuznetsov\" !"
   ]
  },
  {
   "cell_type": "code",
   "execution_count": 4,
   "metadata": {},
   "outputs": [
    {
     "name": "stdout",
     "output_type": "stream",
     "text": [
      "Found 8 items\n",
      "drwx------   - alexander.kuznetsov alexander.kuznetsov          0 2021-03-25 21:00 .Trash\n",
      "drwxr-xr-x   - alexander.kuznetsov alexander.kuznetsov          0 2021-03-28 23:13 .sparkStaging\n",
      "drwxr-xr-x   - alexander.kuznetsov alexander.kuznetsov          0 2021-03-16 21:20 lab03.csv\n",
      "drwxr-xr-x   - alexander.kuznetsov alexander.kuznetsov          0 2021-03-25 11:20 lab04_KAV.pkl\n",
      "drwxr-xr-x   - alexander.kuznetsov alexander.kuznetsov          0 2021-03-25 12:29 lab04_KAV_lr.pkl\n",
      "drwxr-xr-x   - alexander.kuznetsov alexander.kuznetsov          0 2021-03-28 22:56 lab05.csv\n",
      "drwxr-xr-x   - alexander.kuznetsov alexander.kuznetsov          0 2021-03-28 22:04 slaba05data\n",
      "drwxr-xr-x   - alexander.kuznetsov alexander.kuznetsov          0 2021-03-25 12:39 streaming\n"
     ]
    },
    {
     "data": {
      "text/plain": [
       "warning: there was one feature warning; re-run with -feature for details\n"
      ]
     },
     "metadata": {},
     "output_type": "display_data"
    },
    {
     "data": {
      "text/plain": [
       "0"
      ]
     },
     "execution_count": 4,
     "metadata": {},
     "output_type": "execute_result"
    }
   ],
   "source": [
    "\"hdfs dfs -ls\" !"
   ]
  },
  {
   "cell_type": "code",
   "execution_count": 5,
   "metadata": {},
   "outputs": [
    {
     "name": "stdout",
     "output_type": "stream",
     "text": [
      "Found 3 items\n",
      "-rw-r--r--   3 alexander.kuznetsov alexander.kuznetsov     399601 2021-03-28 22:04 slaba05data/lab05_submission_example.csv\n",
      "-rw-r--r--   3 alexander.kuznetsov alexander.kuznetsov   24271415 2021-03-28 22:04 slaba05data/lab05_test.csv\n",
      "-rw-r--r--   3 alexander.kuznetsov alexander.kuznetsov  176160768 2021-03-28 22:04 slaba05data/lab05_train.csv\n"
     ]
    },
    {
     "data": {
      "text/plain": [
       "warning: there was one feature warning; re-run with -feature for details\n"
      ]
     },
     "metadata": {},
     "output_type": "display_data"
    },
    {
     "data": {
      "text/plain": [
       "0"
      ]
     },
     "execution_count": 5,
     "metadata": {},
     "output_type": "execute_result"
    }
   ],
   "source": [
    "\"hdfs dfs -ls ./slaba05data\" !"
   ]
  },
  {
   "cell_type": "code",
   "execution_count": 6,
   "metadata": {},
   "outputs": [
    {
     "data": {
      "text/plain": [
       "Waiting for a Spark session to start..."
      ]
     },
     "metadata": {},
     "output_type": "display_data"
    },
    {
     "data": {
      "text/plain": [
       "org.apache.spark.sql.SparkSession@7dbcf672"
      ]
     },
     "execution_count": 6,
     "metadata": {},
     "output_type": "execute_result"
    }
   ],
   "source": [
    "spark"
   ]
  },
  {
   "cell_type": "code",
   "execution_count": 7,
   "metadata": {},
   "outputs": [],
   "source": [
    "import org.apache.spark.sql.SparkSession\n",
    "import org.apache.spark.sql.functions._\n",
    "import org.apache.spark.sql.functions.{col}"
   ]
  },
  {
   "cell_type": "code",
   "execution_count": 8,
   "metadata": {},
   "outputs": [
    {
     "data": {
      "text/plain": [
       "spark = org.apache.spark.sql.SparkSession@7dbcf672\n"
      ]
     },
     "metadata": {},
     "output_type": "display_data"
    },
    {
     "data": {
      "text/plain": [
       "org.apache.spark.sql.SparkSession@7dbcf672"
      ]
     },
     "execution_count": 8,
     "metadata": {},
     "output_type": "execute_result"
    }
   ],
   "source": [
    "val spark = SparkSession.builder.appName(\"Spark ML\").getOrCreate()"
   ]
  },
  {
   "cell_type": "code",
   "execution_count": null,
   "metadata": {},
   "outputs": [],
   "source": []
  },
  {
   "cell_type": "code",
   "execution_count": 63,
   "metadata": {},
   "outputs": [],
   "source": [
    "import org.apache.spark.sql.Column\n",
    "import org.apache.spark.sql.Row\n",
    "import org.apache.spark.sql.Dataset"
   ]
  },
  {
   "cell_type": "code",
   "execution_count": 151,
   "metadata": {},
   "outputs": [
    {
     "name": "stdout",
     "output_type": "stream",
     "text": [
      "-RECORD 0--------------------------------------------\n",
      " _c0                         | 333149                \n",
      " ID                          | 479990                \n",
      " CR_PROD_CNT_IL              | 0                     \n",
      " AMOUNT_RUB_CLO_PRC          | 0.0                   \n",
      " PRC_ACCEPTS_A_EMAIL_LINK    | 0.0                   \n",
      " APP_REGISTR_RGN_CODE        | null                  \n",
      " PRC_ACCEPTS_A_POS           | 0.0                   \n",
      " PRC_ACCEPTS_A_TK            | 0.0                   \n",
      " TURNOVER_DYNAMIC_IL_1M      | 0.0                   \n",
      " CNT_TRAN_AUT_TENDENCY1M     | null                  \n",
      " SUM_TRAN_AUT_TENDENCY1M     | null                  \n",
      " AMOUNT_RUB_SUP_PRC          | 0.0                   \n",
      " PRC_ACCEPTS_A_AMOBILE       | 0.0                   \n",
      " SUM_TRAN_AUT_TENDENCY3M     | null                  \n",
      " CLNT_TRUST_RELATION         | null                  \n",
      " PRC_ACCEPTS_TK              | 0.0                   \n",
      " PRC_ACCEPTS_A_MTP           | 0.0                   \n",
      " REST_DYNAMIC_FDEP_1M        | 0.0                   \n",
      " CNT_TRAN_AUT_TENDENCY3M     | null                  \n",
      " CNT_ACCEPTS_TK              | 0.0                   \n",
      " APP_MARITAL_STATUS          | null                  \n",
      " REST_DYNAMIC_SAVE_3M        | 0.0                   \n",
      " CR_PROD_CNT_VCU             | 0                     \n",
      " REST_AVG_CUR                | 19069.6917166667      \n",
      " CNT_TRAN_MED_TENDENCY1M     | null                  \n",
      " APP_KIND_OF_PROP_HABITATION | null                  \n",
      " CLNT_JOB_POSITION_TYPE      | null                  \n",
      " AMOUNT_RUB_NAS_PRC          | 0.0                   \n",
      " CLNT_JOB_POSITION           | null                  \n",
      " APP_DRIVING_LICENSE         | null                  \n",
      " TRANS_COUNT_SUP_PRC         | 0.0                   \n",
      " APP_EDUCATION               | null                  \n",
      " CNT_TRAN_CLO_TENDENCY1M     | null                  \n",
      " SUM_TRAN_MED_TENDENCY1M     | null                  \n",
      " PRC_ACCEPTS_A_ATM           | 0.0                   \n",
      " PRC_ACCEPTS_MTP             | 0.0                   \n",
      " TRANS_COUNT_NAS_PRC         | 0.0                   \n",
      " APP_TRAVEL_PASS             | null                  \n",
      " CNT_ACCEPTS_MTP             | 0.0                   \n",
      " CR_PROD_CNT_TOVR            | 1                     \n",
      " APP_CAR                     | null                  \n",
      " CR_PROD_CNT_PIL             | 0                     \n",
      " SUM_TRAN_CLO_TENDENCY1M     | null                  \n",
      " APP_POSITION_TYPE           | null                  \n",
      " TURNOVER_CC                 | 0.0                   \n",
      " TRANS_COUNT_ATM_PRC         | 0.981818181818182     \n",
      " AMOUNT_RUB_ATM_PRC          | 0.9264718189135429    \n",
      " TURNOVER_PAYM               | 0.0                   \n",
      " AGE                         | 324                   \n",
      " CNT_TRAN_MED_TENDENCY3M     | null                  \n",
      " CR_PROD_CNT_CC              | 0                     \n",
      " SUM_TRAN_MED_TENDENCY3M     | null                  \n",
      " REST_DYNAMIC_FDEP_3M        | 0.0                   \n",
      " REST_DYNAMIC_IL_1M          | 0.0                   \n",
      " APP_EMP_TYPE                | null                  \n",
      " SUM_TRAN_CLO_TENDENCY3M     | null                  \n",
      " LDEAL_TENOR_MAX             | null                  \n",
      " LDEAL_YQZ_CHRG              | null                  \n",
      " CR_PROD_CNT_CCFP            | 0                     \n",
      " DEAL_YQZ_IR_MAX             | null                  \n",
      " LDEAL_YQZ_COM               | null                  \n",
      " DEAL_YQZ_IR_MIN             | null                  \n",
      " CNT_TRAN_CLO_TENDENCY3M     | null                  \n",
      " REST_DYNAMIC_CUR_1M         | 0.139327197286461     \n",
      " REST_AVG_PAYM               | 0.0                   \n",
      " LDEAL_TENOR_MIN             | null                  \n",
      " LDEAL_AMT_MONTH             | null                  \n",
      " APP_COMP_TYPE               | null                  \n",
      " LDEAL_GRACE_DAYS_PCT_MED    | 0.0                   \n",
      " REST_DYNAMIC_CUR_3M         | 0.24404241658152398   \n",
      " CNT_TRAN_SUP_TENDENCY3M     | null                  \n",
      " TURNOVER_DYNAMIC_CUR_1M     | 0.14429972251526998   \n",
      " REST_DYNAMIC_PAYM_3M        | 0.0                   \n",
      " SUM_TRAN_SUP_TENDENCY3M     | null                  \n",
      " REST_DYNAMIC_IL_3M          | 0.0                   \n",
      " CNT_TRAN_ATM_TENDENCY3M     | 0.351851851851852     \n",
      " CNT_TRAN_ATM_TENDENCY1M     | 0.166666666666667     \n",
      " TURNOVER_DYNAMIC_IL_3M      | 0.0                   \n",
      " SUM_TRAN_ATM_TENDENCY3M     | 0.329320637235633     \n",
      " DEAL_GRACE_DAYS_ACC_S1X1    | 0.0                   \n",
      " AVG_PCT_MONTH_TO_PCLOSE     | null                  \n",
      " DEAL_YWZ_IR_MIN             | 45.0                  \n",
      " SUM_TRAN_SUP_TENDENCY1M     | null                  \n",
      " DEAL_YWZ_IR_MAX             | 45.0                  \n",
      " SUM_TRAN_ATM_TENDENCY1M     | 0.16790105289165602   \n",
      " REST_DYNAMIC_PAYM_1M        | 0.0                   \n",
      " CNT_TRAN_SUP_TENDENCY1M     | null                  \n",
      " DEAL_GRACE_DAYS_ACC_AVG     | 0.0                   \n",
      " TURNOVER_DYNAMIC_CUR_3M     | 0.30374965665416803   \n",
      " PACK                        | 102                   \n",
      " MAX_PCLOSE_DATE             | null                  \n",
      " LDEAL_YQZ_PC                | null                  \n",
      " CLNT_SETUP_TENOR            | 5.48000105784548      \n",
      " DEAL_GRACE_DAYS_ACC_MAX     | 0.0                   \n",
      " TURNOVER_DYNAMIC_PAYM_3M    | 0.0                   \n",
      " LDEAL_DELINQ_PER_MAXYQZ     | null                  \n",
      " TURNOVER_DYNAMIC_PAYM_1M    | 0.0                   \n",
      " CLNT_SALARY_VALUE           | null                  \n",
      " TRANS_AMOUNT_TENDENCY3M     | 0.305106289785464     \n",
      " MED_DEBT_PRC_YQZ            | null                  \n",
      " TRANS_CNT_TENDENCY3M        | 0.34545454545454496   \n",
      " LDEAL_USED_AMT_AVG_YQZ      | null                  \n",
      " REST_DYNAMIC_CC_1M          | 0.0                   \n",
      " LDEAL_USED_AMT_AVG_YWZ      | 1.0                   \n",
      " TURNOVER_DYNAMIC_CC_1M      | 0.0                   \n",
      " AVG_PCT_DEBT_TO_DEAL_AMT    | null                  \n",
      " LDEAL_ACT_DAYS_ACC_PCT_AVG  | 0.0035236081747709704 \n",
      " REST_DYNAMIC_CC_3M          | 0.0                   \n",
      " MED_DEBT_PRC_YWZ            | 0.0                   \n",
      " LDEAL_ACT_DAYS_PCT_TR3      | 0.0                   \n",
      " LDEAL_ACT_DAYS_PCT_AAVG     | 0.0                   \n",
      " LDEAL_DELINQ_PER_MAXYWZ     | 0.0                   \n",
      " TURNOVER_DYNAMIC_CC_3M      | 0.0                   \n",
      " LDEAL_ACT_DAYS_PCT_TR       | 0.0                   \n",
      " LDEAL_ACT_DAYS_PCT_TR4      | 0.0                   \n",
      " LDEAL_ACT_DAYS_PCT_CURR     | 0.0                   \n",
      " TARGET                      | 0                     \n",
      "only showing top 1 row\n",
      "\n"
     ]
    },
    {
     "data": {
      "text/plain": [
       "trainDf = [_c0: int, ID: int ... 115 more fields]\n"
      ]
     },
     "metadata": {},
     "output_type": "display_data"
    },
    {
     "data": {
      "text/plain": [
       "[_c0: int, ID: int ... 115 more fields]"
      ]
     },
     "execution_count": 151,
     "metadata": {},
     "output_type": "execute_result"
    }
   ],
   "source": [
    "var trainDf = spark\n",
    "    .read\n",
    "    .option(\"header\", true)\n",
    "    .option(\"inferSchema\", true)\n",
    "    .csv(\"slaba05data/lab05_train.csv\")\n",
    "    //.drop(\"_c0\", \"ID\")\n",
    "\n",
    "trainDf.show(1, 0, true)"
   ]
  },
  {
   "cell_type": "code",
   "execution_count": 152,
   "metadata": {},
   "outputs": [
    {
     "name": "stdout",
     "output_type": "stream",
     "text": [
      "root\n",
      " |-- _c0: integer (nullable = true)\n",
      " |-- ID: integer (nullable = true)\n",
      " |-- CR_PROD_CNT_IL: integer (nullable = true)\n",
      " |-- AMOUNT_RUB_CLO_PRC: double (nullable = true)\n",
      " |-- PRC_ACCEPTS_A_EMAIL_LINK: double (nullable = true)\n",
      " |-- APP_REGISTR_RGN_CODE: double (nullable = true)\n",
      " |-- PRC_ACCEPTS_A_POS: double (nullable = true)\n",
      " |-- PRC_ACCEPTS_A_TK: double (nullable = true)\n",
      " |-- TURNOVER_DYNAMIC_IL_1M: double (nullable = true)\n",
      " |-- CNT_TRAN_AUT_TENDENCY1M: double (nullable = true)\n",
      " |-- SUM_TRAN_AUT_TENDENCY1M: double (nullable = true)\n",
      " |-- AMOUNT_RUB_SUP_PRC: double (nullable = true)\n",
      " |-- PRC_ACCEPTS_A_AMOBILE: double (nullable = true)\n",
      " |-- SUM_TRAN_AUT_TENDENCY3M: double (nullable = true)\n",
      " |-- CLNT_TRUST_RELATION: string (nullable = true)\n",
      " |-- PRC_ACCEPTS_TK: double (nullable = true)\n",
      " |-- PRC_ACCEPTS_A_MTP: double (nullable = true)\n",
      " |-- REST_DYNAMIC_FDEP_1M: double (nullable = true)\n",
      " |-- CNT_TRAN_AUT_TENDENCY3M: double (nullable = true)\n",
      " |-- CNT_ACCEPTS_TK: double (nullable = true)\n",
      " |-- APP_MARITAL_STATUS: string (nullable = true)\n",
      " |-- REST_DYNAMIC_SAVE_3M: double (nullable = true)\n",
      " |-- CR_PROD_CNT_VCU: integer (nullable = true)\n",
      " |-- REST_AVG_CUR: double (nullable = true)\n",
      " |-- CNT_TRAN_MED_TENDENCY1M: double (nullable = true)\n",
      " |-- APP_KIND_OF_PROP_HABITATION: string (nullable = true)\n",
      " |-- CLNT_JOB_POSITION_TYPE: string (nullable = true)\n",
      " |-- AMOUNT_RUB_NAS_PRC: double (nullable = true)\n",
      " |-- CLNT_JOB_POSITION: string (nullable = true)\n",
      " |-- APP_DRIVING_LICENSE: string (nullable = true)\n",
      " |-- TRANS_COUNT_SUP_PRC: double (nullable = true)\n",
      " |-- APP_EDUCATION: string (nullable = true)\n",
      " |-- CNT_TRAN_CLO_TENDENCY1M: double (nullable = true)\n",
      " |-- SUM_TRAN_MED_TENDENCY1M: double (nullable = true)\n",
      " |-- PRC_ACCEPTS_A_ATM: double (nullable = true)\n",
      " |-- PRC_ACCEPTS_MTP: double (nullable = true)\n",
      " |-- TRANS_COUNT_NAS_PRC: double (nullable = true)\n",
      " |-- APP_TRAVEL_PASS: string (nullable = true)\n",
      " |-- CNT_ACCEPTS_MTP: double (nullable = true)\n",
      " |-- CR_PROD_CNT_TOVR: integer (nullable = true)\n",
      " |-- APP_CAR: string (nullable = true)\n",
      " |-- CR_PROD_CNT_PIL: integer (nullable = true)\n",
      " |-- SUM_TRAN_CLO_TENDENCY1M: double (nullable = true)\n",
      " |-- APP_POSITION_TYPE: string (nullable = true)\n",
      " |-- TURNOVER_CC: double (nullable = true)\n",
      " |-- TRANS_COUNT_ATM_PRC: double (nullable = true)\n",
      " |-- AMOUNT_RUB_ATM_PRC: double (nullable = true)\n",
      " |-- TURNOVER_PAYM: double (nullable = true)\n",
      " |-- AGE: integer (nullable = true)\n",
      " |-- CNT_TRAN_MED_TENDENCY3M: double (nullable = true)\n",
      " |-- CR_PROD_CNT_CC: integer (nullable = true)\n",
      " |-- SUM_TRAN_MED_TENDENCY3M: double (nullable = true)\n",
      " |-- REST_DYNAMIC_FDEP_3M: double (nullable = true)\n",
      " |-- REST_DYNAMIC_IL_1M: double (nullable = true)\n",
      " |-- APP_EMP_TYPE: string (nullable = true)\n",
      " |-- SUM_TRAN_CLO_TENDENCY3M: double (nullable = true)\n",
      " |-- LDEAL_TENOR_MAX: double (nullable = true)\n",
      " |-- LDEAL_YQZ_CHRG: double (nullable = true)\n",
      " |-- CR_PROD_CNT_CCFP: integer (nullable = true)\n",
      " |-- DEAL_YQZ_IR_MAX: double (nullable = true)\n",
      " |-- LDEAL_YQZ_COM: double (nullable = true)\n",
      " |-- DEAL_YQZ_IR_MIN: double (nullable = true)\n",
      " |-- CNT_TRAN_CLO_TENDENCY3M: double (nullable = true)\n",
      " |-- REST_DYNAMIC_CUR_1M: double (nullable = true)\n",
      " |-- REST_AVG_PAYM: double (nullable = true)\n",
      " |-- LDEAL_TENOR_MIN: double (nullable = true)\n",
      " |-- LDEAL_AMT_MONTH: double (nullable = true)\n",
      " |-- APP_COMP_TYPE: string (nullable = true)\n",
      " |-- LDEAL_GRACE_DAYS_PCT_MED: double (nullable = true)\n",
      " |-- REST_DYNAMIC_CUR_3M: double (nullable = true)\n",
      " |-- CNT_TRAN_SUP_TENDENCY3M: double (nullable = true)\n",
      " |-- TURNOVER_DYNAMIC_CUR_1M: double (nullable = true)\n",
      " |-- REST_DYNAMIC_PAYM_3M: double (nullable = true)\n",
      " |-- SUM_TRAN_SUP_TENDENCY3M: double (nullable = true)\n",
      " |-- REST_DYNAMIC_IL_3M: double (nullable = true)\n",
      " |-- CNT_TRAN_ATM_TENDENCY3M: double (nullable = true)\n",
      " |-- CNT_TRAN_ATM_TENDENCY1M: double (nullable = true)\n",
      " |-- TURNOVER_DYNAMIC_IL_3M: double (nullable = true)\n",
      " |-- SUM_TRAN_ATM_TENDENCY3M: double (nullable = true)\n",
      " |-- DEAL_GRACE_DAYS_ACC_S1X1: double (nullable = true)\n",
      " |-- AVG_PCT_MONTH_TO_PCLOSE: double (nullable = true)\n",
      " |-- DEAL_YWZ_IR_MIN: double (nullable = true)\n",
      " |-- SUM_TRAN_SUP_TENDENCY1M: double (nullable = true)\n",
      " |-- DEAL_YWZ_IR_MAX: double (nullable = true)\n",
      " |-- SUM_TRAN_ATM_TENDENCY1M: double (nullable = true)\n",
      " |-- REST_DYNAMIC_PAYM_1M: double (nullable = true)\n",
      " |-- CNT_TRAN_SUP_TENDENCY1M: double (nullable = true)\n",
      " |-- DEAL_GRACE_DAYS_ACC_AVG: double (nullable = true)\n",
      " |-- TURNOVER_DYNAMIC_CUR_3M: double (nullable = true)\n",
      " |-- PACK: string (nullable = true)\n",
      " |-- MAX_PCLOSE_DATE: double (nullable = true)\n",
      " |-- LDEAL_YQZ_PC: double (nullable = true)\n",
      " |-- CLNT_SETUP_TENOR: double (nullable = true)\n",
      " |-- DEAL_GRACE_DAYS_ACC_MAX: double (nullable = true)\n",
      " |-- TURNOVER_DYNAMIC_PAYM_3M: double (nullable = true)\n",
      " |-- LDEAL_DELINQ_PER_MAXYQZ: double (nullable = true)\n",
      " |-- TURNOVER_DYNAMIC_PAYM_1M: double (nullable = true)\n",
      " |-- CLNT_SALARY_VALUE: double (nullable = true)\n",
      " |-- TRANS_AMOUNT_TENDENCY3M: double (nullable = true)\n",
      " |-- MED_DEBT_PRC_YQZ: double (nullable = true)\n",
      " |-- TRANS_CNT_TENDENCY3M: double (nullable = true)\n",
      " |-- LDEAL_USED_AMT_AVG_YQZ: double (nullable = true)\n",
      " |-- REST_DYNAMIC_CC_1M: double (nullable = true)\n",
      " |-- LDEAL_USED_AMT_AVG_YWZ: double (nullable = true)\n",
      " |-- TURNOVER_DYNAMIC_CC_1M: double (nullable = true)\n",
      " |-- AVG_PCT_DEBT_TO_DEAL_AMT: double (nullable = true)\n",
      " |-- LDEAL_ACT_DAYS_ACC_PCT_AVG: double (nullable = true)\n",
      " |-- REST_DYNAMIC_CC_3M: double (nullable = true)\n",
      " |-- MED_DEBT_PRC_YWZ: double (nullable = true)\n",
      " |-- LDEAL_ACT_DAYS_PCT_TR3: double (nullable = true)\n",
      " |-- LDEAL_ACT_DAYS_PCT_AAVG: double (nullable = true)\n",
      " |-- LDEAL_DELINQ_PER_MAXYWZ: double (nullable = true)\n",
      " |-- TURNOVER_DYNAMIC_CC_3M: double (nullable = true)\n",
      " |-- LDEAL_ACT_DAYS_PCT_TR: double (nullable = true)\n",
      " |-- LDEAL_ACT_DAYS_PCT_TR4: double (nullable = true)\n",
      " |-- LDEAL_ACT_DAYS_PCT_CURR: double (nullable = true)\n",
      " |-- TARGET: integer (nullable = true)\n",
      "\n"
     ]
    }
   ],
   "source": [
    "trainDf.printSchema"
   ]
  },
  {
   "cell_type": "code",
   "execution_count": 10,
   "metadata": {},
   "outputs": [
    {
     "data": {
      "text/plain": [
       "categoriesCols = List(CLNT_TRUST_RELATION, APP_MARITAL_STATUS, APP_KIND_OF_PROP_HABITATION, CLNT_JOB_POSITION_TYPE, CLNT_JOB_POSITION, APP_DRIVING_LICENSE, APP_EDUCATION, APP_TRAVEL_PASS, APP_CAR, APP_POSITION_TYPE, APP_EMP_TYPE, APP_COMP_TYPE, PACK)\n"
      ]
     },
     "metadata": {},
     "output_type": "display_data"
    },
    {
     "data": {
      "text/plain": [
       "List(CLNT_TRUST_RELATION, APP_MARITAL_STATUS, APP_KIND_OF_PROP_HABITATION, CLNT_JOB_POSITION_TYPE, CLNT_JOB_POSITION, APP_DRIVING_LICENSE, APP_EDUCATION, APP_TRAVEL_PASS, APP_CAR, APP_POSITION_TYPE, APP_EMP_TYPE, APP_COMP_TYPE, PACK)"
      ]
     },
     "execution_count": 10,
     "metadata": {},
     "output_type": "execute_result"
    }
   ],
   "source": [
    "val categoriesCols = List(\n",
    "    \"CLNT_TRUST_RELATION\", \n",
    "    \"APP_MARITAL_STATUS\",\n",
    "    \"APP_KIND_OF_PROP_HABITATION\", \n",
    "    \"CLNT_JOB_POSITION_TYPE\",\n",
    "    \"CLNT_JOB_POSITION\", \n",
    "    \"APP_DRIVING_LICENSE\", \n",
    "    \"APP_EDUCATION\",\n",
    "    \"APP_TRAVEL_PASS\", \n",
    "    \"APP_CAR\", \n",
    "    \"APP_POSITION_TYPE\", \n",
    "    \"APP_EMP_TYPE\",\n",
    "    \"APP_COMP_TYPE\", \n",
    "    \"PACK\"\n",
    ")"
   ]
  },
  {
   "cell_type": "code",
   "execution_count": 153,
   "metadata": {},
   "outputs": [
    {
     "data": {
      "text/plain": [
       "numColumns = Array(CR_PROD_CNT_IL, AMOUNT_RUB_CLO_PRC, PRC_ACCEPTS_A_EMAIL_LINK, APP_REGISTR_RGN_CODE, PRC_ACCEPTS_A_POS, PRC_ACCEPTS_A_TK, TURNOVER_DYNAMIC_IL_1M, CNT_TRAN_AUT_TENDENCY1M, SUM_TRAN_AUT_TENDENCY1M, AMOUNT_RUB_SUP_PRC, PRC_ACCEPTS_A_AMOBILE, SUM_TRAN_AUT_TENDENCY3M, PRC_ACCEPTS_TK, PRC_ACCEPTS_A_MTP, REST_DYNAMIC_FDEP_1M, CNT_TRAN_AUT_TENDENCY3M, CNT_ACCEPTS_TK, REST_DYNAMIC_SAVE_3M, CR_PROD_CNT_VCU, REST_AVG_CUR, CNT_TRAN_MED_TENDENCY1M, AMOUNT_RUB_NAS_PRC, TRANS_COUNT_SUP_PRC, CNT_TRAN_CLO_TENDENCY1M, SUM_TRAN_MED_TENDENCY1M, PRC_ACCEPTS_A_ATM, PRC_ACCEPTS_MTP, TRANS_COUNT_NAS_PRC, CNT_ACCEPTS_MTP, CR_PROD_CNT_TOVR, CR_PROD_CNT_PIL, SUM_TRAN_CLO_TENDENCY1M, TURNOVER_CC, TRANS_COUNT_ATM_PRC, AMOUNT_RUB_ATM_PRC, TURNOVER_PAYM, AGE, CNT_TRAN_MED_TENDENCY3M, ...\n"
      ]
     },
     "metadata": {},
     "output_type": "display_data"
    },
    {
     "data": {
      "text/plain": [
       "Array(CR_PROD_CNT_IL, AMOUNT_RUB_CLO_PRC, PRC_ACCEPTS_A_EMAIL_LINK, APP_REGISTR_RGN_CODE, PRC_ACCEPTS_A_POS, PRC_ACCEPTS_A_TK, TURNOVER_DYNAMIC_IL_1M, CNT_TRAN_AUT_TENDENCY1M, SUM_TRAN_AUT_TENDENCY1M, AMOUNT_RUB_SUP_PRC, PRC_ACCEPTS_A_AMOBILE, SUM_TRAN_AUT_TENDENCY3M, PRC_ACCEPTS_TK, PRC_ACCEPTS_A_MTP, REST_DYNAMIC_FDEP_1M, CNT_TRAN_AUT_TENDENCY3M, CNT_ACCEPTS_TK, REST_DYNAMIC_SAVE_3M, CR_PROD_CNT_VCU, REST_AVG_CUR, CNT_TRAN_MED_TENDENCY1M, AMOUNT_RUB_NAS_PRC, TRANS_COUNT_SUP_PRC, CNT_TRAN_CLO_TENDENCY1M, SUM_TRAN_MED_TENDENCY1M, PRC_ACCEPTS_A_ATM, PRC_ACCEPTS_MTP, TRANS_COUNT_NAS_PRC, CNT_ACCEPTS_MTP, CR_PROD_CNT_TOVR, CR_PROD_CNT_PIL, SUM_TRAN_CLO_TENDENCY1M, TURNOVER_CC, TRANS_COUNT_ATM_PRC, AMOUNT_RUB_ATM_PRC, TURNOVER_PAYM, AGE, CNT_TRAN_MED_TENDENCY3M, ..."
      ]
     },
     "execution_count": 153,
     "metadata": {},
     "output_type": "execute_result"
    }
   ],
   "source": [
    "val numColumns = trainDf.drop(categoriesCols:_*).drop(\"_c0\", \"ID\", \"TARGET\").columns"
   ]
  },
  {
   "cell_type": "code",
   "execution_count": 154,
   "metadata": {},
   "outputs": [
    {
     "data": {
      "text/plain": [
       "320764"
      ]
     },
     "execution_count": 154,
     "metadata": {},
     "output_type": "execute_result"
    }
   ],
   "source": [
    "trainDf.count()"
   ]
  },
  {
   "cell_type": "code",
   "execution_count": 56,
   "metadata": {},
   "outputs": [
    {
     "data": {
      "text/plain": [
       "CLNT_TRUST_RELATION_replaceData = Map(Отец -> FATHER, Мать -> MOTHER, Сестра -> SISTER, Сын -> SON, мама -> MOTHER, Брат -> BROTHER, Друг -> FRIEND, Жена -> RELATIVE, Близкий ро -> RELATIVE, мать -> MOTHER, Дальний ро -> OTHER, Дочь -> DAUGHTER, Муж -> RELATIVE)\n"
      ]
     },
     "metadata": {},
     "output_type": "display_data"
    },
    {
     "data": {
      "text/plain": [
       "Map(Отец -> FATHER, Мать -> MOTHER, Сестра -> SISTER, Сын -> SON, мама -> MOTHER, Брат -> BROTHER, Друг -> FRIEND, Жена -> RELATIVE, Близкий ро -> RELATIVE, мать -> MOTHER, Дальний ро -> OTHER, Дочь -> DAUGHTER, Муж -> RELATIVE)"
      ]
     },
     "execution_count": 56,
     "metadata": {},
     "output_type": "execute_result"
    }
   ],
   "source": [
    "val CLNT_TRUST_RELATION_replaceData: Map[Any, Any] = Map(\"мама\" -> \"MOTHER\", \"мать\" -> \"MOTHER\", \"Мать\" -> \"MOTHER\",\n",
    "                                                         \"Сын\" -> \"SON\", \"Дочь\" -> \"DAUGHTER\", \"Отец\" -> \"FATHER\", \n",
    "                                                         \"Друг\" -> \"FRIEND\", \"Брат\" -> \"BROTHER\", \"Сестра\" -> \"SISTER\",\n",
    "                                                         \"Жена\" -> \"RELATIVE\", \"Муж\" -> \"RELATIVE\", \n",
    "                                                         \"Близкий ро\" -> \"RELATIVE\", \"Дальний ро\" -> \"OTHER\")"
   ]
  },
  {
   "cell_type": "code",
   "execution_count": 57,
   "metadata": {},
   "outputs": [
    {
     "name": "stdout",
     "output_type": "stream",
     "text": [
      "+-------------------+------+\n",
      "|CLNT_TRUST_RELATION| count|\n",
      "+-------------------+------+\n",
      "|               null|257829|\n",
      "|             FRIEND| 22801|\n",
      "|             MOTHER| 10128|\n",
      "|           RELATIVE|  7476|\n",
      "|              OTHER|  6055|\n",
      "|            BROTHER|  5106|\n",
      "|             SISTER|  5032|\n",
      "|             FATHER|  2770|\n",
      "|           DAUGHTER|  1845|\n",
      "|                SON|  1722|\n",
      "+-------------------+------+\n",
      "\n"
     ]
    }
   ],
   "source": [
    "trainDf.select(\"CLNT_TRUST_RELATION\").na.replace(\"CLNT_TRUST_RELATION\", CLNT_TRUST_RELATION_replaceData)\n",
    ".groupBy(\"CLNT_TRUST_RELATION\").count().orderBy(desc(\"count\")).show(50)"
   ]
  },
  {
   "cell_type": "code",
   "execution_count": 51,
   "metadata": {},
   "outputs": [
    {
     "data": {
      "text/plain": [
       "APP_MARITAL_STATUS_replaceData = Map(n -> N, t -> T, m -> M, v -> V, c -> C, w -> W, d -> D)\n"
      ]
     },
     "metadata": {},
     "output_type": "display_data"
    },
    {
     "data": {
      "text/plain": [
       "lastException: Throwable = null\n"
      ]
     },
     "metadata": {},
     "output_type": "display_data"
    },
    {
     "data": {
      "text/plain": [
       "Map(n -> N, t -> T, m -> M, v -> V, c -> C, w -> W, d -> D)"
      ]
     },
     "execution_count": 51,
     "metadata": {},
     "output_type": "execute_result"
    }
   ],
   "source": [
    "val APP_MARITAL_STATUS_replaceData: Map[Any, Any] = Map(\"w\" -> \"W\", \"t\" -> \"T\", \"c\" -> \"C\",\n",
    "                                                         \"d\" -> \"D\", \"v\" -> \"V\", \"m\" -> \"M\", \n",
    "                                                         \"n\" -> \"N\")"
   ]
  },
  {
   "cell_type": "code",
   "execution_count": 52,
   "metadata": {},
   "outputs": [
    {
     "name": "stdout",
     "output_type": "stream",
     "text": [
      "+------------------+------+\n",
      "|APP_MARITAL_STATUS| count|\n",
      "+------------------+------+\n",
      "|              null|258989|\n",
      "|                 M| 29146|\n",
      "|                 V| 20916|\n",
      "|                 D|  7013|\n",
      "|                 T|  3078|\n",
      "|                 N|   850|\n",
      "|                 W|   611|\n",
      "|                 C|   148|\n",
      "|                  |    13|\n",
      "+------------------+------+\n",
      "\n"
     ]
    }
   ],
   "source": [
    "trainDf.select(\"APP_MARITAL_STATUS\").na.replace(\"APP_MARITAL_STATUS\", APP_MARITAL_STATUS_replaceData)\n",
    ".groupBy(\"APP_MARITAL_STATUS\").count().orderBy(desc(\"count\")).show(50)"
   ]
  },
  {
   "cell_type": "code",
   "execution_count": 17,
   "metadata": {},
   "outputs": [
    {
     "name": "stdout",
     "output_type": "stream",
     "text": [
      "+---------------------------+------+\n",
      "|APP_KIND_OF_PROP_HABITATION| count|\n",
      "+---------------------------+------+\n",
      "|                       null|267042|\n",
      "|                         SO| 25461|\n",
      "|                         JO| 12750|\n",
      "|                      OTHER| 10252|\n",
      "|                       RENT|  2931|\n",
      "|                    NPRIVAT|  2328|\n",
      "+---------------------------+------+\n",
      "\n"
     ]
    }
   ],
   "source": [
    "trainDf.select(\"APP_KIND_OF_PROP_HABITATION\").groupBy(\"APP_KIND_OF_PROP_HABITATION\").count().orderBy(desc(\"count\")).show(50)"
   ]
  },
  {
   "cell_type": "code",
   "execution_count": 18,
   "metadata": {},
   "outputs": [
    {
     "name": "stdout",
     "output_type": "stream",
     "text": [
      "+----------------------+------+\n",
      "|CLNT_JOB_POSITION_TYPE| count|\n",
      "+----------------------+------+\n",
      "|                  null|280242|\n",
      "|            SPECIALIST| 22741|\n",
      "|               MANAGER|  8464|\n",
      "|           TOP_MANAGER|  6605|\n",
      "|             SELF_EMPL|  2712|\n",
      "+----------------------+------+\n",
      "\n"
     ]
    }
   ],
   "source": [
    "trainDf.select(\"CLNT_JOB_POSITION_TYPE\").groupBy(\"CLNT_JOB_POSITION_TYPE\").count().orderBy(desc(\"count\")).show(50)"
   ]
  },
  {
   "cell_type": "code",
   "execution_count": 58,
   "metadata": {},
   "outputs": [
    {
     "name": "stdout",
     "output_type": "stream",
     "text": [
      "+--------------------+------+\n",
      "|   CLNT_JOB_POSITION| count|\n",
      "+--------------------+------+\n",
      "|                null|130371|\n",
      "|            ДИРЕКТОР| 22421|\n",
      "|            МЕНЕДЖЕР| 11619|\n",
      "| ГЕНЕРАЛЬНЫЙДИРЕКТОР|  6318|\n",
      "|        РУКОВОДИТЕЛЬ|  4047|\n",
      "|             ИНЖЕНЕР|  3655|\n",
      "|        ГЕН.ДИРЕКТОР|  3551|\n",
      "|     ПРЕДПРИНИМАТЕЛЬ|  3286|\n",
      "|           БУХГАЛТЕР|  2641|\n",
      "|       ЗАМ.ДИРЕКТОРА|  2483|\n",
      "|          СПЕЦИАЛИСТ|  1991|\n",
      "|            ВОДИТЕЛЬ|  1986|\n",
      "|    ГЛАВНЫЙБУХГАЛТЕР|  1840|\n",
      "|КОММЕРЧЕСКИЙДИРЕКТОР|  1804|\n",
      "|     НАЧАЛЬНИКОТДЕЛА|  1712|\n",
      "|         ПРОГРАММИСТ|  1690|\n",
      "|  МЕНЕДЖЕРПОПРОДАЖАМ|  1657|\n",
      "|       АДМИНИСТРАТОР|  1502|\n",
      "|ЗАМЕСТИТЕЛЬДИРЕКТОРА|  1498|\n",
      "|            ПРОДАВЕЦ|  1471|\n",
      "|            ДИЗАЙНЕР|  1461|\n",
      "|             СТУДЕНТ|  1396|\n",
      "|ИНДИВИДУАЛЬНЫЙПРЕ...|  1307|\n",
      "|               ЮРИСТ|  1157|\n",
      "|                ВРАЧ|  1142|\n",
      "|   ВЕДУЩИЙСПЕЦИАЛИСТ|  1015|\n",
      "|                  ИП|   998|\n",
      "|ИСПОЛНИТЕЛЬНЫЙДИР...|   975|\n",
      "|           ЭКОНОМИСТ|   973|\n",
      "|ПРОДАВЕЦ-КОНСУЛЬТАНТ|   938|\n",
      "|  ФИНАНСОВЫЙДИРЕКТОР|   886|\n",
      "|         КОНСУЛЬТАНТ|   859|\n",
      "|       ПРЕПОДАВАТЕЛЬ|   851|\n",
      "|   ГЛАВНЫЙСПЕЦИАЛИСТ|   841|\n",
      "|   ЗАМ.ГЕН.ДИРЕКТОРА|   742|\n",
      "|            ЛАБОРАНТ|   739|\n",
      "|              МАСТЕР|   684|\n",
      "| ТЕХНИЧЕСКИЙДИРЕКТОР|   683|\n",
      "|СИСТЕМНЫЙАДМИНИСТ...|   660|\n",
      "|            ОПЕРАТОР|   641|\n",
      "|         УПРАВЛЯЮЩИЙ|   626|\n",
      "|      ВЕДУЩИЙИНЖЕНЕР|   622|\n",
      "| ИНЖЕНЕР-ПРОГРАММИСТ|   616|\n",
      "|ЗАМЕСТИТЕЛЬГЕНЕРА...|   598|\n",
      "|             АДВОКАТ|   587|\n",
      "|ТОРГОВЫЙПРЕДСТАВИ...|   575|\n",
      "|  РУКОВОДИТЕЛЬОТДЕЛА|   555|\n",
      "|      ГЛАВНЫЙИНЖЕНЕР|   551|\n",
      "|        ГЛ.БУХГАЛТЕР|   548|\n",
      "|РЕГИОНАЛЬНЫЙМЕНЕДЖЕР|   508|\n",
      "+--------------------+------+\n",
      "only showing top 50 rows\n",
      "\n"
     ]
    }
   ],
   "source": [
    "trainDf.select(\"CLNT_JOB_POSITION\")\n",
    ".withColumn(\"CLNT_JOB_POSITION_UPPER\", upper('CLNT_JOB_POSITION))\n",
    ".drop(\"CLNT_JOB_POSITION\")\n",
    ".withColumn(\"CLNT_JOB_POSITION_UPPER_1WORD\", regexp_replace('CLNT_JOB_POSITION_UPPER, \" \", \"\"))\n",
    ".drop(\"CLNT_JOB_POSITION_UPPER\")\n",
    ".withColumnRenamed(\"CLNT_JOB_POSITION_UPPER_1WORD\", \"CLNT_JOB_POSITION\")\n",
    ".groupBy(\"CLNT_JOB_POSITION\").count().orderBy(desc(\"count\")).show(50)"
   ]
  },
  {
   "cell_type": "code",
   "execution_count": 21,
   "metadata": {},
   "outputs": [
    {
     "name": "stdout",
     "output_type": "stream",
     "text": [
      "+-------------------+------+\n",
      "|APP_DRIVING_LICENSE| count|\n",
      "+-------------------+------+\n",
      "|               null|268868|\n",
      "|                  N| 32938|\n",
      "|                  Y| 18958|\n",
      "+-------------------+------+\n",
      "\n"
     ]
    }
   ],
   "source": [
    "trainDf.select(\"APP_DRIVING_LICENSE\").groupBy(\"APP_DRIVING_LICENSE\").count().orderBy(desc(\"count\")).show(50)"
   ]
  },
  {
   "cell_type": "code",
   "execution_count": 54,
   "metadata": {},
   "outputs": [
    {
     "data": {
      "text/plain": [
       "APP_EDUCATION_replaceData = Map(e -> E, s -> S, a -> A, i -> I, h -> H)\n"
      ]
     },
     "metadata": {},
     "output_type": "display_data"
    },
    {
     "data": {
      "text/plain": [
       "Map(e -> E, s -> S, a -> A, i -> I, h -> H)"
      ]
     },
     "execution_count": 54,
     "metadata": {},
     "output_type": "execute_result"
    }
   ],
   "source": [
    "val APP_EDUCATION_replaceData: Map[Any, Any] = Map(\"a\" -> \"A\", \"e\" -> \"E\", \"i\" -> \"I\",\n",
    "                                                   \"s\" -> \"S\", \"h\" -> \"H\")"
   ]
  },
  {
   "cell_type": "code",
   "execution_count": 55,
   "metadata": {},
   "outputs": [
    {
     "name": "stdout",
     "output_type": "stream",
     "text": [
      "+-------------+------+\n",
      "|APP_EDUCATION| count|\n",
      "+-------------+------+\n",
      "|         null|259099|\n",
      "|            H| 40176|\n",
      "|           SS|  9196|\n",
      "|           UH|  5671|\n",
      "|            S|  3557|\n",
      "|           HH|  1772|\n",
      "|            I|   531|\n",
      "|            A|   513|\n",
      "|           US|   170|\n",
      "|           HI|    42|\n",
      "|            E|    23|\n",
      "|           AC|     9|\n",
      "|           AV|     5|\n",
      "+-------------+------+\n",
      "\n"
     ]
    }
   ],
   "source": [
    "trainDf.select(\"APP_EDUCATION\").na.replace(\"APP_EDUCATION\", APP_EDUCATION_replaceData)\n",
    ".groupBy(\"APP_EDUCATION\").count().orderBy(desc(\"count\")).show(50)"
   ]
  },
  {
   "cell_type": "code",
   "execution_count": 23,
   "metadata": {},
   "outputs": [
    {
     "name": "stdout",
     "output_type": "stream",
     "text": [
      "+---------------+------+\n",
      "|APP_TRAVEL_PASS| count|\n",
      "+---------------+------+\n",
      "|           null|268868|\n",
      "|              N| 47829|\n",
      "|              Y|  4067|\n",
      "+---------------+------+\n",
      "\n"
     ]
    }
   ],
   "source": [
    "trainDf.select(\"APP_TRAVEL_PASS\").groupBy(\"APP_TRAVEL_PASS\").count().orderBy(desc(\"count\")).show(50)"
   ]
  },
  {
   "cell_type": "code",
   "execution_count": 15,
   "metadata": {},
   "outputs": [
    {
     "name": "stdout",
     "output_type": "stream",
     "text": [
      "+-------+------+\n",
      "|APP_CAR| count|\n",
      "+-------+------+\n",
      "|   null|268869|\n",
      "|      N| 29760|\n",
      "|      Y| 22135|\n",
      "+-------+------+\n",
      "\n"
     ]
    }
   ],
   "source": [
    "trainDf.select(\"APP_CAR\").groupBy(\"APP_CAR\").count().orderBy(desc(\"count\")).show(50)"
   ]
  },
  {
   "cell_type": "code",
   "execution_count": 24,
   "metadata": {},
   "outputs": [
    {
     "name": "stdout",
     "output_type": "stream",
     "text": [
      "+-----------------+------+\n",
      "|APP_POSITION_TYPE| count|\n",
      "+-----------------+------+\n",
      "|             null|265984|\n",
      "|       SPECIALIST| 33154|\n",
      "|          MANAGER| 10546|\n",
      "|      TOP_MANAGER|  7638|\n",
      "|        SELF_EMPL|  3442|\n",
      "+-----------------+------+\n",
      "\n"
     ]
    }
   ],
   "source": [
    "trainDf.select(\"APP_POSITION_TYPE\").groupBy(\"APP_POSITION_TYPE\").count().orderBy(desc(\"count\")).show(50)"
   ]
  },
  {
   "cell_type": "code",
   "execution_count": 25,
   "metadata": {},
   "outputs": [
    {
     "name": "stdout",
     "output_type": "stream",
     "text": [
      "+------------+------+\n",
      "|APP_EMP_TYPE| count|\n",
      "+------------+------+\n",
      "|        null|259778|\n",
      "|     PRIVATE| 53529|\n",
      "|       STATE|  5451|\n",
      "|       INTER|  1206|\n",
      "|          IP|   800|\n",
      "+------------+------+\n",
      "\n"
     ]
    }
   ],
   "source": [
    "trainDf.select(\"APP_EMP_TYPE\").groupBy(\"APP_EMP_TYPE\").count().orderBy(desc(\"count\")).show(50)"
   ]
  },
  {
   "cell_type": "code",
   "execution_count": 26,
   "metadata": {},
   "outputs": [
    {
     "name": "stdout",
     "output_type": "stream",
     "text": [
      "+-------------+------+\n",
      "|APP_COMP_TYPE| count|\n",
      "+-------------+------+\n",
      "|         null|259778|\n",
      "|      PRIVATE| 53529|\n",
      "|        STATE|  5451|\n",
      "|        INTER|  1206|\n",
      "|           IP|   800|\n",
      "+-------------+------+\n",
      "\n"
     ]
    }
   ],
   "source": [
    "trainDf.select(\"APP_COMP_TYPE\").groupBy(\"APP_COMP_TYPE\").count().orderBy(desc(\"count\")).show(50)"
   ]
  },
  {
   "cell_type": "code",
   "execution_count": 112,
   "metadata": {},
   "outputs": [
    {
     "name": "stdout",
     "output_type": "stream",
     "text": [
      "+------------+-------------+------+\n",
      "|APP_EMP_TYPE|APP_COMP_TYPE| count|\n",
      "+------------+-------------+------+\n",
      "|        null|         null|259778|\n",
      "|     PRIVATE|      PRIVATE| 53529|\n",
      "|       STATE|        STATE|  5451|\n",
      "|       INTER|        INTER|  1206|\n",
      "|          IP|           IP|   800|\n",
      "+------------+-------------+------+\n",
      "\n"
     ]
    }
   ],
   "source": [
    "trainDf.select(\"APP_EMP_TYPE\", \"APP_COMP_TYPE\").groupBy(\"APP_EMP_TYPE\", \"APP_COMP_TYPE\").count()\n",
    ".orderBy(desc(\"count\")).show(50)"
   ]
  },
  {
   "cell_type": "code",
   "execution_count": 27,
   "metadata": {},
   "outputs": [
    {
     "name": "stdout",
     "output_type": "stream",
     "text": [
      "+----+------+\n",
      "|PACK| count|\n",
      "+----+------+\n",
      "| 102|105756|\n",
      "| K01| 69478|\n",
      "| O01| 45644|\n",
      "| 105| 40777|\n",
      "| 107| 25108|\n",
      "| 103| 22430|\n",
      "| 104|  6073|\n",
      "| 301|  3760|\n",
      "| 101|  1645|\n",
      "| 109|    83|\n",
      "| M01|     5|\n",
      "| 108|     4|\n",
      "|null|     1|\n",
      "+----+------+\n",
      "\n"
     ]
    }
   ],
   "source": [
    "trainDf.select(\"PACK\").groupBy(\"PACK\").count().orderBy(desc(\"count\")).show(50)"
   ]
  },
  {
   "cell_type": "code",
   "execution_count": 36,
   "metadata": {},
   "outputs": [
    {
     "name": "stdout",
     "output_type": "stream",
     "text": [
      "-RECORD 0-------------------------------------------\n",
      " summary                    | count                 \n",
      " _c0                        | 320764                \n",
      " ID                         | 320764                \n",
      " CR_PROD_CNT_IL             | 320764                \n",
      " AMOUNT_RUB_CLO_PRC         | 286214                \n",
      " PRC_ACCEPTS_A_EMAIL_LINK   | 139950                \n",
      " APP_REGISTR_RGN_CODE       | 54850                 \n",
      " PRC_ACCEPTS_A_POS          | 139950                \n",
      " PRC_ACCEPTS_A_TK           | 139950                \n",
      " TURNOVER_DYNAMIC_IL_1M     | 320763                \n",
      " CNT_TRAN_AUT_TENDENCY1M    | 69535                 \n",
      " SUM_TRAN_AUT_TENDENCY1M    | 69535                 \n",
      " AMOUNT_RUB_SUP_PRC         | 286213                \n",
      " PRC_ACCEPTS_A_AMOBILE      | 139950                \n",
      " SUM_TRAN_AUT_TENDENCY3M    | 100204                \n",
      " PRC_ACCEPTS_TK             | 139950                \n",
      " PRC_ACCEPTS_A_MTP          | 139950                \n",
      " REST_DYNAMIC_FDEP_1M       | 320763                \n",
      " CNT_TRAN_AUT_TENDENCY3M    | 100204                \n",
      " CNT_ACCEPTS_TK             | 139950                \n",
      " REST_DYNAMIC_SAVE_3M       | 320763                \n",
      " CR_PROD_CNT_VCU            | 320763                \n",
      " REST_AVG_CUR               | 320763                \n",
      " CNT_TRAN_MED_TENDENCY1M    | 62457                 \n",
      " AMOUNT_RUB_NAS_PRC         | 286213                \n",
      " TRANS_COUNT_SUP_PRC        | 286213                \n",
      " CNT_TRAN_CLO_TENDENCY1M    | 59823                 \n",
      " SUM_TRAN_MED_TENDENCY1M    | 62457                 \n",
      " PRC_ACCEPTS_A_ATM          | 139950                \n",
      " PRC_ACCEPTS_MTP            | 139950                \n",
      " TRANS_COUNT_NAS_PRC        | 286213                \n",
      " CNT_ACCEPTS_MTP            | 139950                \n",
      " CR_PROD_CNT_TOVR           | 320763                \n",
      " CR_PROD_CNT_PIL            | 320763                \n",
      " SUM_TRAN_CLO_TENDENCY1M    | 59823                 \n",
      " TURNOVER_CC                | 320763                \n",
      " TRANS_COUNT_ATM_PRC        | 286213                \n",
      " AMOUNT_RUB_ATM_PRC         | 286213                \n",
      " TURNOVER_PAYM              | 320763                \n",
      " AGE                        | 320763                \n",
      " CNT_TRAN_MED_TENDENCY3M    | 104645                \n",
      " CR_PROD_CNT_CC             | 320763                \n",
      " SUM_TRAN_MED_TENDENCY3M    | 104645                \n",
      " REST_DYNAMIC_FDEP_3M       | 320763                \n",
      " REST_DYNAMIC_IL_1M         | 320763                \n",
      " SUM_TRAN_CLO_TENDENCY3M    | 103775                \n",
      " LDEAL_TENOR_MAX            | 7359                  \n",
      " LDEAL_YQZ_CHRG             | 1135                  \n",
      " CR_PROD_CNT_CCFP           | 320763                \n",
      " DEAL_YQZ_IR_MAX            | 7359                  \n",
      " LDEAL_YQZ_COM              | 1129                  \n",
      " DEAL_YQZ_IR_MIN            | 7359                  \n",
      " CNT_TRAN_CLO_TENDENCY3M    | 103775                \n",
      " REST_DYNAMIC_CUR_1M        | 320763                \n",
      " REST_AVG_PAYM              | 320763                \n",
      " LDEAL_TENOR_MIN            | 7359                  \n",
      " LDEAL_AMT_MONTH            | 1704                  \n",
      " LDEAL_GRACE_DAYS_PCT_MED   | 320763                \n",
      " REST_DYNAMIC_CUR_3M        | 320763                \n",
      " CNT_TRAN_SUP_TENDENCY3M    | 179529                \n",
      " TURNOVER_DYNAMIC_CUR_1M    | 320763                \n",
      " REST_DYNAMIC_PAYM_3M       | 320763                \n",
      " SUM_TRAN_SUP_TENDENCY3M    | 179529                \n",
      " REST_DYNAMIC_IL_3M         | 320763                \n",
      " CNT_TRAN_ATM_TENDENCY3M    | 230841                \n",
      " CNT_TRAN_ATM_TENDENCY1M    | 185911                \n",
      " TURNOVER_DYNAMIC_IL_3M     | 320763                \n",
      " SUM_TRAN_ATM_TENDENCY3M    | 230841                \n",
      " DEAL_GRACE_DAYS_ACC_S1X1   | 63615                 \n",
      " AVG_PCT_MONTH_TO_PCLOSE    | 1468                  \n",
      " DEAL_YWZ_IR_MIN            | 86488                 \n",
      " SUM_TRAN_SUP_TENDENCY1M    | 140850                \n",
      " DEAL_YWZ_IR_MAX            | 86488                 \n",
      " SUM_TRAN_ATM_TENDENCY1M    | 185911                \n",
      " REST_DYNAMIC_PAYM_1M       | 320763                \n",
      " CNT_TRAN_SUP_TENDENCY1M    | 140850                \n",
      " DEAL_GRACE_DAYS_ACC_AVG    | 62693                 \n",
      " TURNOVER_DYNAMIC_CUR_3M    | 320763                \n",
      " MAX_PCLOSE_DATE            | 1699                  \n",
      " LDEAL_YQZ_PC               | 2551                  \n",
      " CLNT_SETUP_TENOR           | 320763                \n",
      " DEAL_GRACE_DAYS_ACC_MAX    | 62693                 \n",
      " TURNOVER_DYNAMIC_PAYM_3M   | 320763                \n",
      " LDEAL_DELINQ_PER_MAXYQZ    | 7359                  \n",
      " TURNOVER_DYNAMIC_PAYM_1M   | 320763                \n",
      " CLNT_SALARY_VALUE          | 652                   \n",
      " TRANS_AMOUNT_TENDENCY3M    | 273904                \n",
      " MED_DEBT_PRC_YQZ           | 7359                  \n",
      " TRANS_CNT_TENDENCY3M       | 273904                \n",
      " LDEAL_USED_AMT_AVG_YQZ     | 7359                  \n",
      " REST_DYNAMIC_CC_1M         | 320763                \n",
      " LDEAL_USED_AMT_AVG_YWZ     | 86488                 \n",
      " TURNOVER_DYNAMIC_CC_1M     | 320763                \n",
      " AVG_PCT_DEBT_TO_DEAL_AMT   | 1704                  \n",
      " LDEAL_ACT_DAYS_ACC_PCT_AVG | 84414                 \n",
      " REST_DYNAMIC_CC_3M         | 320763                \n",
      " MED_DEBT_PRC_YWZ           | 86488                 \n",
      " LDEAL_ACT_DAYS_PCT_TR3     | 84414                 \n",
      " LDEAL_ACT_DAYS_PCT_AAVG    | 88692                 \n",
      " LDEAL_DELINQ_PER_MAXYWZ    | 86488                 \n",
      " TURNOVER_DYNAMIC_CC_3M     | 320763                \n",
      " LDEAL_ACT_DAYS_PCT_TR      | 84414                 \n",
      " LDEAL_ACT_DAYS_PCT_TR4     | 84414                 \n",
      " LDEAL_ACT_DAYS_PCT_CURR    | 84414                 \n",
      " TARGET                     | 320763                \n",
      "-RECORD 1-------------------------------------------\n",
      " summary                    | mean                  \n",
      " _c0                        | 221981.07212467733    \n",
      " ID                         | 368822.07212467736    \n",
      " CR_PROD_CNT_IL             | 0.10555112169694854   \n",
      " AMOUNT_RUB_CLO_PRC         | 0.044185932933792645  \n",
      " PRC_ACCEPTS_A_EMAIL_LINK   | 0.0                   \n",
      " APP_REGISTR_RGN_CODE       | 50.940510483135824    \n",
      " PRC_ACCEPTS_A_POS          | 0.0                   \n",
      " PRC_ACCEPTS_A_TK           | 0.0                   \n",
      " TURNOVER_DYNAMIC_IL_1M     | 0.0013119871088681722 \n",
      " CNT_TRAN_AUT_TENDENCY1M    | 0.4164971270088655    \n",
      " SUM_TRAN_AUT_TENDENCY1M    | 0.4144116871982062    \n",
      " AMOUNT_RUB_SUP_PRC         | 0.08529494188969172   \n",
      " PRC_ACCEPTS_A_AMOBILE      | 0.0                   \n",
      " SUM_TRAN_AUT_TENDENCY3M    | 0.6887817174707905    \n",
      " PRC_ACCEPTS_TK             | 0.0                   \n",
      " PRC_ACCEPTS_A_MTP          | 0.0                   \n",
      " REST_DYNAMIC_FDEP_1M       | 7.200560771369897E-4  \n",
      " CNT_TRAN_AUT_TENDENCY3M    | 0.6914647828693696    \n",
      " CNT_ACCEPTS_TK             | 0.0                   \n",
      " REST_DYNAMIC_SAVE_3M       | 0.06378922248497548   \n",
      " CR_PROD_CNT_VCU            | 0.03148118704464044   \n",
      " REST_AVG_CUR               | 66162.29934663817     \n",
      " CNT_TRAN_MED_TENDENCY1M    | 0.4441244853247115    \n",
      " AMOUNT_RUB_NAS_PRC         | 0.024013168233614084  \n",
      " TRANS_COUNT_SUP_PRC        | 0.19110591678145605   \n",
      " CNT_TRAN_CLO_TENDENCY1M    | 0.4796725995900655    \n",
      " SUM_TRAN_MED_TENDENCY1M    | 0.4370113490147224    \n",
      " PRC_ACCEPTS_A_ATM          | 0.0                   \n",
      " PRC_ACCEPTS_MTP            | 0.0                   \n",
      " TRANS_COUNT_NAS_PRC        | 0.05093025604968245   \n",
      " CNT_ACCEPTS_MTP            | 0.0                   \n",
      " CR_PROD_CNT_TOVR           | 0.3102446354473552    \n",
      " CR_PROD_CNT_PIL            | 0.057132524636569676  \n",
      " SUM_TRAN_CLO_TENDENCY1M    | 0.47293333121921616   \n",
      " TURNOVER_CC                | 501.1494261137242     \n",
      " TRANS_COUNT_ATM_PRC        | 0.37067803321313875   \n",
      " AMOUNT_RUB_ATM_PRC         | 0.5979603380176972    \n",
      " TURNOVER_PAYM              | 14577.112002708564    \n",
      " AGE                        | 457.10792080133933    \n",
      " CNT_TRAN_MED_TENDENCY3M    | 0.7011272700943763    \n",
      " CR_PROD_CNT_CC             | 0.07165726720351162   \n",
      " SUM_TRAN_MED_TENDENCY3M    | 0.6964314045291468    \n",
      " REST_DYNAMIC_FDEP_3M       | 0.003865171635578094  \n",
      " REST_DYNAMIC_IL_1M         | 0.0016637738346518402 \n",
      " SUM_TRAN_CLO_TENDENCY3M    | 0.6971582436416833    \n",
      " LDEAL_TENOR_MAX            | 22.367984780540834    \n",
      " LDEAL_YQZ_CHRG             | 0.004979336217111135  \n",
      " CR_PROD_CNT_CCFP           | 0.004900814620140103  \n",
      " DEAL_YQZ_IR_MAX            | 26.272423486887295    \n",
      " LDEAL_YQZ_COM              | 0.07355750695923129   \n",
      " DEAL_YQZ_IR_MIN            | 25.561635336323345    \n",
      " CNT_TRAN_CLO_TENDENCY3M    | 0.7002981646284061    \n",
      " REST_DYNAMIC_CUR_1M        | 0.21222983221770975   \n",
      " REST_AVG_PAYM              | 7192.1270254256515    \n",
      " LDEAL_TENOR_MIN            | 15.760972958282375    \n",
      " LDEAL_AMT_MONTH            | 197657.90733497642    \n",
      " LDEAL_GRACE_DAYS_PCT_MED   | 0.0018140223402572744 \n",
      " REST_DYNAMIC_CUR_3M        | 0.49868296589802613   \n",
      " CNT_TRAN_SUP_TENDENCY3M    | 0.6429108778324024    \n",
      " TURNOVER_DYNAMIC_CUR_1M    | 0.20406155178128954   \n",
      " REST_DYNAMIC_PAYM_3M       | 0.07684715119873978   \n",
      " SUM_TRAN_SUP_TENDENCY3M    | 0.6275880980317768    \n",
      " REST_DYNAMIC_IL_3M         | 0.005753073063779523  \n",
      " CNT_TRAN_ATM_TENDENCY3M    | 0.6287791324470898    \n",
      " CNT_TRAN_ATM_TENDENCY1M    | 0.327132582265736     \n",
      " TURNOVER_DYNAMIC_IL_3M     | 0.004064499231079745  \n",
      " SUM_TRAN_ATM_TENDENCY3M    | 0.6182761188794409    \n",
      " DEAL_GRACE_DAYS_ACC_S1X1   | 0.02876597427456511   \n",
      " AVG_PCT_MONTH_TO_PCLOSE    | -2.555297431380423    \n",
      " DEAL_YWZ_IR_MIN            | 37.185119785402414    \n",
      " SUM_TRAN_SUP_TENDENCY1M    | 0.32812867009303004   \n",
      " DEAL_YWZ_IR_MAX            | 39.47356488761336     \n",
      " SUM_TRAN_ATM_TENDENCY1M    | 0.3219888572041245    \n",
      " REST_DYNAMIC_PAYM_1M       | 0.027698470071221597  \n",
      " CNT_TRAN_SUP_TENDENCY1M    | 0.3411512563183511    \n",
      " DEAL_GRACE_DAYS_ACC_AVG    | 0.02443022742433041   \n",
      " TURNOVER_DYNAMIC_CUR_3M    | 0.4844239194191719    \n",
      " MAX_PCLOSE_DATE            | -20.791243425924172   \n",
      " LDEAL_YQZ_PC               | 0.02506883085132336   \n",
      " CLNT_SETUP_TENOR           | 4.3774887004275005    \n",
      " DEAL_GRACE_DAYS_ACC_MAX    | 0.029040448128981114  \n",
      " TURNOVER_DYNAMIC_PAYM_3M   | 0.07212406824060656   \n",
      " LDEAL_DELINQ_PER_MAXYQZ    | 0.1958825927435793    \n",
      " TURNOVER_DYNAMIC_PAYM_1M   | 0.025178101742057563  \n",
      " CLNT_SALARY_VALUE          | 36623.100475460116    \n",
      " TRANS_AMOUNT_TENDENCY3M    | 0.5822783322728388    \n",
      " MED_DEBT_PRC_YQZ           | 0.9227476559315124    \n",
      " TRANS_CNT_TENDENCY3M       | 0.5974420041319465    \n",
      " LDEAL_USED_AMT_AVG_YQZ     | 0.43632440522705546   \n",
      " REST_DYNAMIC_CC_1M         | 0.0022433736337449115 \n",
      " LDEAL_USED_AMT_AVG_YWZ     | 0.9002152937657554    \n",
      " TURNOVER_DYNAMIC_CC_1M     | 9.567016908920889E-4  \n",
      " AVG_PCT_DEBT_TO_DEAL_AMT   | 0.34321823780086436   \n",
      " LDEAL_ACT_DAYS_ACC_PCT_AVG | 0.05155977032941277   \n",
      " REST_DYNAMIC_CC_3M         | 0.007414408779733414  \n",
      " MED_DEBT_PRC_YWZ           | 0.05515015609101842   \n",
      " LDEAL_ACT_DAYS_PCT_TR3     | 0.025760464002586757  \n",
      " LDEAL_ACT_DAYS_PCT_AAVG    | 0.05027405261012803   \n",
      " LDEAL_DELINQ_PER_MAXYWZ    | 0.009567801313477014  \n",
      " TURNOVER_DYNAMIC_CC_3M     | 0.00445155515166299   \n",
      " LDEAL_ACT_DAYS_PCT_TR      | 0.013922421826979137  \n",
      " LDEAL_ACT_DAYS_PCT_TR4     | 0.013922421826979137  \n",
      " LDEAL_ACT_DAYS_PCT_CURR    | 0.013922421826979137  \n",
      " TARGET                     | 0.08154307074070263   \n",
      "-RECORD 2-------------------------------------------\n",
      " summary                    | stddev                \n",
      " _c0                        | 128175.4108831475     \n",
      " ID                         | 128175.41088314744    \n",
      " CR_PROD_CNT_IL             | 0.43036335826376876   \n",
      " AMOUNT_RUB_CLO_PRC         | 0.10881700066615091   \n",
      " PRC_ACCEPTS_A_EMAIL_LINK   | 0.0                   \n",
      " APP_REGISTR_RGN_CODE       | 21.776213717042882    \n",
      " PRC_ACCEPTS_A_POS          | 0.0                   \n",
      " PRC_ACCEPTS_A_TK           | 0.0                   \n",
      " TURNOVER_DYNAMIC_IL_1M     | 0.029057442912465918  \n",
      " CNT_TRAN_AUT_TENDENCY1M    | 0.31585672186079755   \n",
      " SUM_TRAN_AUT_TENDENCY1M    | 0.338004648620383     \n",
      " AMOUNT_RUB_SUP_PRC         | 0.14243213891581308   \n",
      " PRC_ACCEPTS_A_AMOBILE      | 0.0                   \n",
      " SUM_TRAN_AUT_TENDENCY3M    | 0.3017737931774965    \n",
      " PRC_ACCEPTS_TK             | 0.0                   \n",
      " PRC_ACCEPTS_A_MTP          | 0.0                   \n",
      " REST_DYNAMIC_FDEP_1M       | 0.014273308446974149  \n",
      " CNT_TRAN_AUT_TENDENCY3M    | 0.2767757680498834    \n",
      " CNT_ACCEPTS_TK             | 0.0                   \n",
      " REST_DYNAMIC_SAVE_3M       | 0.2036928516197863    \n",
      " CR_PROD_CNT_VCU            | 0.1845953132514748    \n",
      " REST_AVG_CUR               | 183563.64151920937    \n",
      " CNT_TRAN_MED_TENDENCY1M    | 0.32420322149136704   \n",
      " AMOUNT_RUB_NAS_PRC         | 0.09090392792659768   \n",
      " TRANS_COUNT_SUP_PRC        | 0.19609456482599227   \n",
      " CNT_TRAN_CLO_TENDENCY1M    | 0.33054929496838026   \n",
      " SUM_TRAN_MED_TENDENCY1M    | 0.36198799558794104   \n",
      " PRC_ACCEPTS_A_ATM          | 0.0                   \n",
      " PRC_ACCEPTS_MTP            | 0.0                   \n",
      " TRANS_COUNT_NAS_PRC        | 0.11677040585444874   \n",
      " CNT_ACCEPTS_MTP            | 0.0                   \n",
      " CR_PROD_CNT_TOVR           | 0.5893966595322511    \n",
      " CR_PROD_CNT_PIL            | 0.2970151891124242    \n",
      " SUM_TRAN_CLO_TENDENCY1M    | 0.3616967882161805    \n",
      " TURNOVER_CC                | 12880.036771215046    \n",
      " TRANS_COUNT_ATM_PRC        | 0.3435694392089819    \n",
      " AMOUNT_RUB_ATM_PRC         | 0.36383211794857684   \n",
      " TURNOVER_PAYM              | 149500.39569037888    \n",
      " AGE                        | 136.27013317555193    \n",
      " CNT_TRAN_MED_TENDENCY3M    | 0.2816982760720958    \n",
      " CR_PROD_CNT_CC             | 0.2944057126966325    \n",
      " SUM_TRAN_MED_TENDENCY3M    | 0.32218285859133367   \n",
      " REST_DYNAMIC_FDEP_3M       | 0.0452032392198611    \n",
      " REST_DYNAMIC_IL_1M         | 0.024330152370462862  \n",
      " SUM_TRAN_CLO_TENDENCY3M    | 0.3225066278951264    \n",
      " LDEAL_TENOR_MAX            | 17.002651957318896    \n",
      " LDEAL_YQZ_CHRG             | 0.008089769086529742  \n",
      " CR_PROD_CNT_CCFP           | 0.07578586968203624   \n",
      " DEAL_YQZ_IR_MAX            | 14.644675678233964    \n",
      " LDEAL_YQZ_COM              | 0.10550099796453932   \n",
      " DEAL_YQZ_IR_MIN            | 14.166313483537584    \n",
      " CNT_TRAN_CLO_TENDENCY3M    | 0.2897660650660304    \n",
      " REST_DYNAMIC_CUR_1M        | 0.23584397268145119   \n",
      " REST_AVG_PAYM              | 48466.48073709917     \n",
      " LDEAL_TENOR_MIN            | 12.92572163905782     \n",
      " LDEAL_AMT_MONTH            | 488164.04884882085    \n",
      " LDEAL_GRACE_DAYS_PCT_MED   | 0.03940742675653829   \n",
      " REST_DYNAMIC_CUR_3M        | 0.2992561770431862    \n",
      " CNT_TRAN_SUP_TENDENCY3M    | 0.2674816715825597    \n",
      " TURNOVER_DYNAMIC_CUR_1M    | 0.25481806293456993   \n",
      " REST_DYNAMIC_PAYM_3M       | 0.2044623207249102    \n",
      " SUM_TRAN_SUP_TENDENCY3M    | 0.294858011538068     \n",
      " REST_DYNAMIC_IL_3M         | 0.057575790500710086  \n",
      " CNT_TRAN_ATM_TENDENCY3M    | 0.2629768340531934    \n",
      " CNT_TRAN_ATM_TENDENCY1M    | 0.2743734658263214    \n",
      " TURNOVER_DYNAMIC_IL_3M     | 0.0533422608493053    \n",
      " SUM_TRAN_ATM_TENDENCY3M    | 0.3026032756752751    \n",
      " DEAL_GRACE_DAYS_ACC_S1X1   | 0.1442882314066936    \n",
      " AVG_PCT_MONTH_TO_PCLOSE    | 4.354124569427227     \n",
      " DEAL_YWZ_IR_MIN            | 12.44064217199656     \n",
      " SUM_TRAN_SUP_TENDENCY1M    | 0.3013227700060311    \n",
      " DEAL_YWZ_IR_MAX            | 10.50352031836963     \n",
      " SUM_TRAN_ATM_TENDENCY1M    | 0.30573504396274637   \n",
      " REST_DYNAMIC_PAYM_1M       | 0.09720859415862905   \n",
      " CNT_TRAN_SUP_TENDENCY1M    | 0.2814522352537282    \n",
      " DEAL_GRACE_DAYS_ACC_AVG    | 0.13839885258423087   \n",
      " TURNOVER_DYNAMIC_CUR_3M    | 0.3317021333613952    \n",
      " MAX_PCLOSE_DATE            | 28.81090729239214     \n",
      " LDEAL_YQZ_PC               | 0.05894311802094303   \n",
      " CLNT_SETUP_TENOR           | 2.9362426237573995    \n",
      " DEAL_GRACE_DAYS_ACC_MAX    | 0.1659987395474209    \n",
      " TURNOVER_DYNAMIC_PAYM_3M   | 0.20708338102361667   \n",
      " LDEAL_DELINQ_PER_MAXYQZ    | 0.38689198676955344   \n",
      " TURNOVER_DYNAMIC_PAYM_1M   | 0.1046182276947775    \n",
      " CLNT_SALARY_VALUE          | 58970.820280957254    \n",
      " TRANS_AMOUNT_TENDENCY3M    | 0.2820459685968757    \n",
      " MED_DEBT_PRC_YQZ           | 0.2612856442224521    \n",
      " TRANS_CNT_TENDENCY3M       | 0.24711978698207776   \n",
      " LDEAL_USED_AMT_AVG_YQZ     | 0.3223407829192837    \n",
      " REST_DYNAMIC_CC_1M         | 0.02687150904594425   \n",
      " LDEAL_USED_AMT_AVG_YWZ     | 0.29710216053800587   \n",
      " TURNOVER_DYNAMIC_CC_1M     | 0.02862896596829416   \n",
      " AVG_PCT_DEBT_TO_DEAL_AMT   | 1.0237441066791995    \n",
      " LDEAL_ACT_DAYS_ACC_PCT_AVG | 0.13526488013109486   \n",
      " REST_DYNAMIC_CC_3M         | 0.06703226167257377   \n",
      " MED_DEBT_PRC_YWZ           | 0.21612277078192654   \n",
      " LDEAL_ACT_DAYS_PCT_TR3     | 0.1155870415275421    \n",
      " LDEAL_ACT_DAYS_PCT_AAVG    | 0.18623747409466695   \n",
      " LDEAL_DELINQ_PER_MAXYWZ    | 0.09437647120018305   \n",
      " TURNOVER_DYNAMIC_CC_3M     | 0.060916655786840586  \n",
      " LDEAL_ACT_DAYS_PCT_TR      | 0.09696644206613277   \n",
      " LDEAL_ACT_DAYS_PCT_TR4     | 0.09696644206613277   \n",
      " LDEAL_ACT_DAYS_PCT_CURR    | 0.09696644206613277   \n",
      " TARGET                     | 0.2736677398635232    \n",
      "-RECORD 3-------------------------------------------\n",
      " summary                    | min                   \n",
      " _c0                        | 0                     \n",
      " ID                         | 146841                \n",
      " CR_PROD_CNT_IL             | 0                     \n",
      " AMOUNT_RUB_CLO_PRC         | 0.0                   \n",
      " PRC_ACCEPTS_A_EMAIL_LINK   | 0.0                   \n",
      " APP_REGISTR_RGN_CODE       | 0.0                   \n",
      " PRC_ACCEPTS_A_POS          | 0.0                   \n",
      " PRC_ACCEPTS_A_TK           | 0.0                   \n",
      " TURNOVER_DYNAMIC_IL_1M     | 0.0                   \n",
      " CNT_TRAN_AUT_TENDENCY1M    | 0.00694444444444444   \n",
      " SUM_TRAN_AUT_TENDENCY1M    | 0.0                   \n",
      " AMOUNT_RUB_SUP_PRC         | 0.0                   \n",
      " PRC_ACCEPTS_A_AMOBILE      | 0.0                   \n",
      " SUM_TRAN_AUT_TENDENCY3M    | 4.7131572497784795E-6 \n",
      " PRC_ACCEPTS_TK             | 0.0                   \n",
      " PRC_ACCEPTS_A_MTP          | 0.0                   \n",
      " REST_DYNAMIC_FDEP_1M       | 0.0                   \n",
      " CNT_TRAN_AUT_TENDENCY3M    | 0.008                 \n",
      " CNT_ACCEPTS_TK             | 0.0                   \n",
      " REST_DYNAMIC_SAVE_3M       | 0.0                   \n",
      " CR_PROD_CNT_VCU            | 0                     \n",
      " REST_AVG_CUR               | 0.0                   \n",
      " CNT_TRAN_MED_TENDENCY1M    | 0.0103092783505155    \n",
      " AMOUNT_RUB_NAS_PRC         | 0.0                   \n",
      " TRANS_COUNT_SUP_PRC        | 0.0                   \n",
      " CNT_TRAN_CLO_TENDENCY1M    | 0.0104166666666667    \n",
      " SUM_TRAN_MED_TENDENCY1M    | 0.0                   \n",
      " PRC_ACCEPTS_A_ATM          | 0.0                   \n",
      " PRC_ACCEPTS_MTP            | 0.0                   \n",
      " TRANS_COUNT_NAS_PRC        | 0.0                   \n",
      " CNT_ACCEPTS_MTP            | 0.0                   \n",
      " CR_PROD_CNT_TOVR           | 0                     \n",
      " CR_PROD_CNT_PIL            | 0                     \n",
      " SUM_TRAN_CLO_TENDENCY1M    | 1.2595251590150501E-5 \n",
      " TURNOVER_CC                | 0.0                   \n",
      " TRANS_COUNT_ATM_PRC        | 0.0                   \n",
      " AMOUNT_RUB_ATM_PRC         | 0.0                   \n",
      " TURNOVER_PAYM              | 0.0                   \n",
      " AGE                        | 168                   \n",
      " CNT_TRAN_MED_TENDENCY3M    | 0.0217391304347826    \n",
      " CR_PROD_CNT_CC             | 0                     \n",
      " SUM_TRAN_MED_TENDENCY3M    | 0.0                   \n",
      " REST_DYNAMIC_FDEP_3M       | 0.0                   \n",
      " REST_DYNAMIC_IL_1M         | 0.0                   \n",
      " SUM_TRAN_CLO_TENDENCY3M    | 0.0                   \n",
      " LDEAL_TENOR_MAX            | 0.0                   \n",
      " LDEAL_YQZ_CHRG             | 3.08928019771393E-8   \n",
      " CR_PROD_CNT_CCFP           | 0                     \n",
      " DEAL_YQZ_IR_MAX            | 7.5                   \n",
      " LDEAL_YQZ_COM              | 2.8666666666666698E-5 \n",
      " DEAL_YQZ_IR_MIN            | 7.5                   \n",
      " CNT_TRAN_CLO_TENDENCY3M    | 0.0196078431372549    \n",
      " REST_DYNAMIC_CUR_1M        | 0.0                   \n",
      " REST_AVG_PAYM              | 0.0                   \n",
      " LDEAL_TENOR_MIN            | 0.0                   \n",
      " LDEAL_AMT_MONTH            | 0.0                   \n",
      " LDEAL_GRACE_DAYS_PCT_MED   | 0.0                   \n",
      " REST_DYNAMIC_CUR_3M        | 0.0                   \n",
      " CNT_TRAN_SUP_TENDENCY3M    | 0.00869565217391304   \n",
      " TURNOVER_DYNAMIC_CUR_1M    | 0.0                   \n",
      " REST_DYNAMIC_PAYM_3M       | 0.0                   \n",
      " SUM_TRAN_SUP_TENDENCY3M    | 5.07208703701356E-7   \n",
      " REST_DYNAMIC_IL_3M         | 0.0                   \n",
      " CNT_TRAN_ATM_TENDENCY3M    | 0.00552486187845304   \n",
      " CNT_TRAN_ATM_TENDENCY1M    | 0.00317057704502219   \n",
      " TURNOVER_DYNAMIC_IL_3M     | 0.0                   \n",
      " SUM_TRAN_ATM_TENDENCY3M    | 5.64900020670964E-5   \n",
      " DEAL_GRACE_DAYS_ACC_S1X1   | 0.0                   \n",
      " AVG_PCT_MONTH_TO_PCLOSE    | -33.290322580645196   \n",
      " DEAL_YWZ_IR_MIN            | 0.0                   \n",
      " SUM_TRAN_SUP_TENDENCY1M    | 5.07208703701356E-7   \n",
      " DEAL_YWZ_IR_MAX            | 0.0                   \n",
      " SUM_TRAN_ATM_TENDENCY1M    | 6.34770911474671E-6   \n",
      " REST_DYNAMIC_PAYM_1M       | 0.0                   \n",
      " CNT_TRAN_SUP_TENDENCY1M    | 0.00425531914893617   \n",
      " DEAL_GRACE_DAYS_ACC_AVG    | 0.0                   \n",
      " TURNOVER_DYNAMIC_CUR_3M    | 0.0                   \n",
      " MAX_PCLOSE_DATE            | -103.354838709677     \n",
      " LDEAL_YQZ_PC               | 7.08333333333333E-8   \n",
      " CLNT_SETUP_TENOR           | 0.345592455694942     \n",
      " DEAL_GRACE_DAYS_ACC_MAX    | 0.0                   \n",
      " TURNOVER_DYNAMIC_PAYM_3M   | 0.0                   \n",
      " LDEAL_DELINQ_PER_MAXYQZ    | 0.0                   \n",
      " TURNOVER_DYNAMIC_PAYM_1M   | 0.0                   \n",
      " CLNT_SALARY_VALUE          | 0.75                  \n",
      " TRANS_AMOUNT_TENDENCY3M    | 0.0                   \n",
      " MED_DEBT_PRC_YQZ           | 0.0                   \n",
      " TRANS_CNT_TENDENCY3M       | 0.00571428571428571   \n",
      " LDEAL_USED_AMT_AVG_YQZ     | 0.0                   \n",
      " REST_DYNAMIC_CC_1M         | 0.0                   \n",
      " LDEAL_USED_AMT_AVG_YWZ     | 0.0                   \n",
      " TURNOVER_DYNAMIC_CC_1M     | 0.0                   \n",
      " AVG_PCT_DEBT_TO_DEAL_AMT   | 0.0                   \n",
      " LDEAL_ACT_DAYS_ACC_PCT_AVG | 0.0                   \n",
      " REST_DYNAMIC_CC_3M         | 0.0                   \n",
      " MED_DEBT_PRC_YWZ           | 0.0                   \n",
      " LDEAL_ACT_DAYS_PCT_TR3     | 0.0                   \n",
      " LDEAL_ACT_DAYS_PCT_AAVG    | 0.0                   \n",
      " LDEAL_DELINQ_PER_MAXYWZ    | 0.0                   \n",
      " TURNOVER_DYNAMIC_CC_3M     | 0.0                   \n",
      " LDEAL_ACT_DAYS_PCT_TR      | 0.0                   \n",
      " LDEAL_ACT_DAYS_PCT_TR4     | 0.0                   \n",
      " LDEAL_ACT_DAYS_PCT_CURR    | 0.0                   \n",
      " TARGET                     | 0                     \n",
      "-RECORD 4-------------------------------------------\n",
      " summary                    | 25%                   \n",
      " _c0                        | 110939                \n",
      " ID                         | 257780                \n",
      " CR_PROD_CNT_IL             | 0                     \n",
      " AMOUNT_RUB_CLO_PRC         | 0.0                   \n",
      " PRC_ACCEPTS_A_EMAIL_LINK   | 0.0                   \n",
      " APP_REGISTR_RGN_CODE       | 33.0                  \n",
      " PRC_ACCEPTS_A_POS          | 0.0                   \n",
      " PRC_ACCEPTS_A_TK           | 0.0                   \n",
      " TURNOVER_DYNAMIC_IL_1M     | 0.0                   \n",
      " CNT_TRAN_AUT_TENDENCY1M    | 0.166666666666667     \n",
      " SUM_TRAN_AUT_TENDENCY1M    | 0.139966273187184     \n",
      " AMOUNT_RUB_SUP_PRC         | 0.0                   \n",
      " PRC_ACCEPTS_A_AMOBILE      | 0.0                   \n",
      " SUM_TRAN_AUT_TENDENCY3M    | 0.445008030514761     \n",
      " PRC_ACCEPTS_TK             | 0.0                   \n",
      " PRC_ACCEPTS_A_MTP          | 0.0                   \n",
      " REST_DYNAMIC_FDEP_1M       | 0.0                   \n",
      " CNT_TRAN_AUT_TENDENCY3M    | 0.5                   \n",
      " CNT_ACCEPTS_TK             | 0.0                   \n",
      " REST_DYNAMIC_SAVE_3M       | 0.0                   \n",
      " CR_PROD_CNT_VCU            | 0                     \n",
      " REST_AVG_CUR               | 4040.3819833333296    \n",
      " CNT_TRAN_MED_TENDENCY1M    | 0.18181818181818202   \n",
      " AMOUNT_RUB_NAS_PRC         | 0.0                   \n",
      " TRANS_COUNT_SUP_PRC        | 0.0                   \n",
      " CNT_TRAN_CLO_TENDENCY1M    | 0.2                   \n",
      " SUM_TRAN_MED_TENDENCY1M    | 0.118132447387466     \n",
      " PRC_ACCEPTS_A_ATM          | 0.0                   \n",
      " PRC_ACCEPTS_MTP            | 0.0                   \n",
      " TRANS_COUNT_NAS_PRC        | 0.0                   \n",
      " CNT_ACCEPTS_MTP            | 0.0                   \n",
      " CR_PROD_CNT_TOVR           | 0                     \n",
      " CR_PROD_CNT_PIL            | 0                     \n",
      " SUM_TRAN_CLO_TENDENCY1M    | 0.148044055247621     \n",
      " TURNOVER_CC                | 0.0                   \n",
      " TRANS_COUNT_ATM_PRC        | 0.0833333333333333    \n",
      " AMOUNT_RUB_ATM_PRC         | 0.26789454746837305   \n",
      " TURNOVER_PAYM              | 0.0                   \n",
      " AGE                        | 348                   \n",
      " CNT_TRAN_MED_TENDENCY3M    | 0.5                   \n",
      " CR_PROD_CNT_CC             | 0                     \n",
      " SUM_TRAN_MED_TENDENCY3M    | 0.426719074502729     \n",
      " REST_DYNAMIC_FDEP_3M       | 0.0                   \n",
      " REST_DYNAMIC_IL_1M         | 0.0                   \n",
      " SUM_TRAN_CLO_TENDENCY3M    | 0.423191207854046     \n",
      " LDEAL_TENOR_MAX            | 11.0                  \n",
      " LDEAL_YQZ_CHRG             | 1.99984089101034E-4   \n",
      " CR_PROD_CNT_CCFP           | 0                     \n",
      " DEAL_YQZ_IR_MAX            | 17.49                 \n",
      " LDEAL_YQZ_COM              | 0.00853890016920474   \n",
      " DEAL_YQZ_IR_MIN            | 17.0                  \n",
      " CNT_TRAN_CLO_TENDENCY3M    | 0.5                   \n",
      " REST_DYNAMIC_CUR_1M        | 0.0634292517605176    \n",
      " REST_AVG_PAYM              | 0.0                   \n",
      " LDEAL_TENOR_MIN            | 6.0                   \n",
      " LDEAL_AMT_MONTH            | 0.0                   \n",
      " LDEAL_GRACE_DAYS_PCT_MED   | 0.0                   \n",
      " REST_DYNAMIC_CUR_3M        | 0.317241387145043     \n",
      " CNT_TRAN_SUP_TENDENCY3M    | 0.4479166666666671    \n",
      " TURNOVER_DYNAMIC_CUR_1M    | 0.0143655753455681    \n",
      " REST_DYNAMIC_PAYM_3M       | 0.0                   \n",
      " SUM_TRAN_SUP_TENDENCY3M    | 0.402983422227556     \n",
      " REST_DYNAMIC_IL_3M         | 0.0                   \n",
      " CNT_TRAN_ATM_TENDENCY3M    | 0.43478260869565205   \n",
      " CNT_TRAN_ATM_TENDENCY1M    | 0.14285714285714302   \n",
      " TURNOVER_DYNAMIC_IL_3M     | 0.0                   \n",
      " SUM_TRAN_ATM_TENDENCY3M    | 0.39227677791368204   \n",
      " DEAL_GRACE_DAYS_ACC_S1X1   | 0.0                   \n",
      " AVG_PCT_MONTH_TO_PCLOSE    | -3.0672043010752703   \n",
      " DEAL_YWZ_IR_MIN            | 25.99                 \n",
      " SUM_TRAN_SUP_TENDENCY1M    | 0.111879978714261     \n",
      " DEAL_YWZ_IR_MAX            | 45.0                  \n",
      " SUM_TRAN_ATM_TENDENCY1M    | 0.100405679513185     \n",
      " REST_DYNAMIC_PAYM_1M       | 0.0                   \n",
      " CNT_TRAN_SUP_TENDENCY1M    | 0.14285714285714302   \n",
      " DEAL_GRACE_DAYS_ACC_AVG    | 0.0                   \n",
      " TURNOVER_DYNAMIC_CUR_3M    | 0.216997273912719     \n",
      " MAX_PCLOSE_DATE            | -31.451612903225797   \n",
      " LDEAL_YQZ_PC               | 0.00629352226219655   \n",
      " CLNT_SETUP_TENOR           | 1.78107632666268      \n",
      " DEAL_GRACE_DAYS_ACC_MAX    | 0.0                   \n",
      " TURNOVER_DYNAMIC_PAYM_3M   | 0.0                   \n",
      " LDEAL_DELINQ_PER_MAXYQZ    | 0.0                   \n",
      " TURNOVER_DYNAMIC_PAYM_1M   | 0.0                   \n",
      " CLNT_SALARY_VALUE          | 11000.0               \n",
      " TRANS_AMOUNT_TENDENCY3M    | 0.38379689733736405   \n",
      " MED_DEBT_PRC_YQZ           | 1.0                   \n",
      " TRANS_CNT_TENDENCY3M       | 0.42857142857142894   \n",
      " LDEAL_USED_AMT_AVG_YQZ     | 0.13451757135619      \n",
      " REST_DYNAMIC_CC_1M         | 0.0                   \n",
      " LDEAL_USED_AMT_AVG_YWZ     | 1.0                   \n",
      " TURNOVER_DYNAMIC_CC_1M     | 0.0                   \n",
      " AVG_PCT_DEBT_TO_DEAL_AMT   | 0.0                   \n",
      " LDEAL_ACT_DAYS_ACC_PCT_AVG | 0.0                   \n",
      " REST_DYNAMIC_CC_3M         | 0.0                   \n",
      " MED_DEBT_PRC_YWZ           | 0.0                   \n",
      " LDEAL_ACT_DAYS_PCT_TR3     | 0.0                   \n",
      " LDEAL_ACT_DAYS_PCT_AAVG    | 0.0                   \n",
      " LDEAL_DELINQ_PER_MAXYWZ    | 0.0                   \n",
      " TURNOVER_DYNAMIC_CC_3M     | 0.0                   \n",
      " LDEAL_ACT_DAYS_PCT_TR      | 0.0                   \n",
      " LDEAL_ACT_DAYS_PCT_TR4     | 0.0                   \n",
      " LDEAL_ACT_DAYS_PCT_CURR    | 0.0                   \n",
      " TARGET                     | 0                     \n",
      "-RECORD 5-------------------------------------------\n",
      " summary                    | 50%                   \n",
      " _c0                        | 222019                \n",
      " ID                         | 368860                \n",
      " CR_PROD_CNT_IL             | 0                     \n",
      " AMOUNT_RUB_CLO_PRC         | 0.0                   \n",
      " PRC_ACCEPTS_A_EMAIL_LINK   | 0.0                   \n",
      " APP_REGISTR_RGN_CODE       | 54.0                  \n",
      " PRC_ACCEPTS_A_POS          | 0.0                   \n",
      " PRC_ACCEPTS_A_TK           | 0.0                   \n",
      " TURNOVER_DYNAMIC_IL_1M     | 0.0                   \n",
      " CNT_TRAN_AUT_TENDENCY1M    | 0.3                   \n",
      " SUM_TRAN_AUT_TENDENCY1M    | 0.286332934163408     \n",
      " AMOUNT_RUB_SUP_PRC         | 0.027037259357106002  \n",
      " PRC_ACCEPTS_A_AMOBILE      | 0.0                   \n",
      " SUM_TRAN_AUT_TENDENCY3M    | 0.7228677785032679    \n",
      " PRC_ACCEPTS_TK             | 0.0                   \n",
      " PRC_ACCEPTS_A_MTP          | 0.0                   \n",
      " REST_DYNAMIC_FDEP_1M       | 0.0                   \n",
      " CNT_TRAN_AUT_TENDENCY3M    | 0.666666666666667     \n",
      " CNT_ACCEPTS_TK             | 0.0                   \n",
      " REST_DYNAMIC_SAVE_3M       | 0.0                   \n",
      " CR_PROD_CNT_VCU            | 0                     \n",
      " REST_AVG_CUR               | 16229.5542            \n",
      " CNT_TRAN_MED_TENDENCY1M    | 0.33333333333333304   \n",
      " AMOUNT_RUB_NAS_PRC         | 0.0                   \n",
      " TRANS_COUNT_SUP_PRC        | 0.146666666666667     \n",
      " CNT_TRAN_CLO_TENDENCY1M    | 0.36363636363636404   \n",
      " SUM_TRAN_MED_TENDENCY1M    | 0.30880682567101797   \n",
      " PRC_ACCEPTS_A_ATM          | 0.0                   \n",
      " PRC_ACCEPTS_MTP            | 0.0                   \n",
      " TRANS_COUNT_NAS_PRC        | 0.0                   \n",
      " CNT_ACCEPTS_MTP            | 0.0                   \n",
      " CR_PROD_CNT_TOVR           | 0                     \n",
      " CR_PROD_CNT_PIL            | 0                     \n",
      " SUM_TRAN_CLO_TENDENCY1M    | 0.36311632361040397   \n",
      " TURNOVER_CC                | 0.0                   \n",
      " TRANS_COUNT_ATM_PRC        | 0.25                  \n",
      " AMOUNT_RUB_ATM_PRC         | 0.6901925198688461    \n",
      " TURNOVER_PAYM              | 0.0                   \n",
      " AGE                        | 432                   \n",
      " CNT_TRAN_MED_TENDENCY3M    | 0.695652173913043     \n",
      " CR_PROD_CNT_CC             | 0                     \n",
      " SUM_TRAN_MED_TENDENCY3M    | 0.795480862516822     \n",
      " REST_DYNAMIC_FDEP_3M       | 0.0                   \n",
      " REST_DYNAMIC_IL_1M         | 0.0                   \n",
      " SUM_TRAN_CLO_TENDENCY3M    | 0.796520003711475     \n",
      " LDEAL_TENOR_MAX            | 19.0                  \n",
      " LDEAL_YQZ_CHRG             | 0.00148809523809524   \n",
      " CR_PROD_CNT_CCFP           | 0                     \n",
      " DEAL_YQZ_IR_MAX            | 23.0                  \n",
      " LDEAL_YQZ_COM              | 0.0178571428571429    \n",
      " DEAL_YQZ_IR_MIN            | 22.99                 \n",
      " CNT_TRAN_CLO_TENDENCY3M    | 0.7142857142857142    \n",
      " REST_DYNAMIC_CUR_1M        | 0.148144166630179     \n",
      " REST_AVG_PAYM              | 0.0                   \n",
      " LDEAL_TENOR_MIN            | 12.0                  \n",
      " LDEAL_AMT_MONTH            | 8200.6867             \n",
      " LDEAL_GRACE_DAYS_PCT_MED   | 0.0                   \n",
      " REST_DYNAMIC_CUR_3M        | 0.492999407653976     \n",
      " CNT_TRAN_SUP_TENDENCY3M    | 0.6071428571428571    \n",
      " TURNOVER_DYNAMIC_CUR_1M    | 0.127362503757561     \n",
      " REST_DYNAMIC_PAYM_3M       | 0.0                   \n",
      " SUM_TRAN_SUP_TENDENCY3M    | 0.6050015028457629    \n",
      " REST_DYNAMIC_IL_3M         | 0.0                   \n",
      " CNT_TRAN_ATM_TENDENCY3M    | 0.590909090909091     \n",
      " CNT_TRAN_ATM_TENDENCY1M    | 0.22727272727272702   \n",
      " TURNOVER_DYNAMIC_IL_3M     | 0.0                   \n",
      " SUM_TRAN_ATM_TENDENCY3M    | 0.6                   \n",
      " DEAL_GRACE_DAYS_ACC_S1X1   | 0.0                   \n",
      " AVG_PCT_MONTH_TO_PCLOSE    | -0.82258064516129     \n",
      " DEAL_YWZ_IR_MIN            | 45.0                  \n",
      " SUM_TRAN_SUP_TENDENCY1M    | 0.21252040102588002   \n",
      " DEAL_YWZ_IR_MAX            | 45.0                  \n",
      " SUM_TRAN_ATM_TENDENCY1M    | 0.203791049018788     \n",
      " REST_DYNAMIC_PAYM_1M       | 0.0                   \n",
      " CNT_TRAN_SUP_TENDENCY1M    | 0.24                  \n",
      " DEAL_GRACE_DAYS_ACC_AVG    | 0.0                   \n",
      " TURNOVER_DYNAMIC_CUR_3M    | 0.494311523175623     \n",
      " MAX_PCLOSE_DATE            | -9.7741935483871      \n",
      " LDEAL_YQZ_PC               | 0.01722411            \n",
      " CLNT_SETUP_TENOR           | 3.90216267174432      \n",
      " DEAL_GRACE_DAYS_ACC_MAX    | 0.0                   \n",
      " TURNOVER_DYNAMIC_PAYM_3M   | 0.0                   \n",
      " LDEAL_DELINQ_PER_MAXYQZ    | 0.0                   \n",
      " TURNOVER_DYNAMIC_PAYM_1M   | 0.0                   \n",
      " CLNT_SALARY_VALUE          | 20010.0               \n",
      " TRANS_AMOUNT_TENDENCY3M    | 0.552489226277457     \n",
      " MED_DEBT_PRC_YQZ           | 1.0                   \n",
      " TRANS_CNT_TENDENCY3M       | 0.558823529411765     \n",
      " LDEAL_USED_AMT_AVG_YQZ     | 0.3813756807837129    \n",
      " REST_DYNAMIC_CC_1M         | 0.0                   \n",
      " LDEAL_USED_AMT_AVG_YWZ     | 1.0                   \n",
      " TURNOVER_DYNAMIC_CC_1M     | 0.0                   \n",
      " AVG_PCT_DEBT_TO_DEAL_AMT   | 0.0804645956          \n",
      " LDEAL_ACT_DAYS_ACC_PCT_AVG | 0.00879043600562588   \n",
      " REST_DYNAMIC_CC_3M         | 0.0                   \n",
      " MED_DEBT_PRC_YWZ           | 0.0                   \n",
      " LDEAL_ACT_DAYS_PCT_TR3     | 0.0                   \n",
      " LDEAL_ACT_DAYS_PCT_AAVG    | 0.0                   \n",
      " LDEAL_DELINQ_PER_MAXYWZ    | 0.0                   \n",
      " TURNOVER_DYNAMIC_CC_3M     | 0.0                   \n",
      " LDEAL_ACT_DAYS_PCT_TR      | 0.0                   \n",
      " LDEAL_ACT_DAYS_PCT_TR4     | 0.0                   \n",
      " LDEAL_ACT_DAYS_PCT_CURR    | 0.0                   \n",
      " TARGET                     | 0                     \n",
      "-RECORD 6-------------------------------------------\n",
      " summary                    | 75%                   \n",
      " _c0                        | 332813                \n",
      " ID                         | 479654                \n",
      " CR_PROD_CNT_IL             | 0                     \n",
      " AMOUNT_RUB_CLO_PRC         | 0.0368686101065423    \n",
      " PRC_ACCEPTS_A_EMAIL_LINK   | 0.0                   \n",
      " APP_REGISTR_RGN_CODE       | 72.0                  \n",
      " PRC_ACCEPTS_A_POS          | 0.0                   \n",
      " PRC_ACCEPTS_A_TK           | 0.0                   \n",
      " TURNOVER_DYNAMIC_IL_1M     | 0.0                   \n",
      " CNT_TRAN_AUT_TENDENCY1M    | 0.5714285714285711    \n",
      " SUM_TRAN_AUT_TENDENCY1M    | 0.6584017124509449    \n",
      " AMOUNT_RUB_SUP_PRC         | 0.109941741959312     \n",
      " PRC_ACCEPTS_A_AMOBILE      | 0.0                   \n",
      " SUM_TRAN_AUT_TENDENCY3M    | 1.0                   \n",
      " PRC_ACCEPTS_TK             | 0.0                   \n",
      " PRC_ACCEPTS_A_MTP          | 0.0                   \n",
      " REST_DYNAMIC_FDEP_1M       | 0.0                   \n",
      " CNT_TRAN_AUT_TENDENCY3M    | 1.0                   \n",
      " CNT_ACCEPTS_TK             | 0.0                   \n",
      " REST_DYNAMIC_SAVE_3M       | 0.0                   \n",
      " CR_PROD_CNT_VCU            | 0                     \n",
      " REST_AVG_CUR               | 56694.9903666667      \n",
      " CNT_TRAN_MED_TENDENCY1M    | 0.666666666666667     \n",
      " AMOUNT_RUB_NAS_PRC         | 0.0105816694158873    \n",
      " TRANS_COUNT_SUP_PRC        | 0.31067961165048497   \n",
      " CNT_TRAN_CLO_TENDENCY1M    | 0.75                  \n",
      " SUM_TRAN_MED_TENDENCY1M    | 0.801993400866127     \n",
      " PRC_ACCEPTS_A_ATM          | 0.0                   \n",
      " PRC_ACCEPTS_MTP            | 0.0                   \n",
      " TRANS_COUNT_NAS_PRC        | 0.0483091787439614    \n",
      " CNT_ACCEPTS_MTP            | 0.0                   \n",
      " CR_PROD_CNT_TOVR           | 1                     \n",
      " CR_PROD_CNT_PIL            | 0                     \n",
      " SUM_TRAN_CLO_TENDENCY1M    | 0.8990621522810359    \n",
      " TURNOVER_CC                | 0.0                   \n",
      " TRANS_COUNT_ATM_PRC        | 0.617647058823529     \n",
      " AMOUNT_RUB_ATM_PRC         | 0.9545602840530341    \n",
      " TURNOVER_PAYM              | 0.0                   \n",
      " AGE                        | 552                   \n",
      " CNT_TRAN_MED_TENDENCY3M    | 1.0                   \n",
      " CR_PROD_CNT_CC             | 0                     \n",
      " SUM_TRAN_MED_TENDENCY3M    | 1.0                   \n",
      " REST_DYNAMIC_FDEP_3M       | 0.0                   \n",
      " REST_DYNAMIC_IL_1M         | 0.0                   \n",
      " SUM_TRAN_CLO_TENDENCY3M    | 1.0                   \n",
      " LDEAL_TENOR_MAX            | 36.0                  \n",
      " LDEAL_YQZ_CHRG             | 0.00655663157894737   \n",
      " CR_PROD_CNT_CCFP           | 0                     \n",
      " DEAL_YQZ_IR_MAX            | 29.99                 \n",
      " LDEAL_YQZ_COM              | 0.166666666666667     \n",
      " DEAL_YQZ_IR_MIN            | 29.0                  \n",
      " CNT_TRAN_CLO_TENDENCY3M    | 1.0                   \n",
      " REST_DYNAMIC_CUR_1M        | 0.251843492711953     \n",
      " REST_AVG_PAYM              | 0.0                   \n",
      " LDEAL_TENOR_MIN            | 24.0                  \n",
      " LDEAL_AMT_MONTH            | 183652.4              \n",
      " LDEAL_GRACE_DAYS_PCT_MED   | 0.0                   \n",
      " REST_DYNAMIC_CUR_3M        | 0.690814744016954     \n",
      " CNT_TRAN_SUP_TENDENCY3M    | 0.956521739130435     \n",
      " TURNOVER_DYNAMIC_CUR_1M    | 0.255483591011811     \n",
      " REST_DYNAMIC_PAYM_3M       | 0.0                   \n",
      " SUM_TRAN_SUP_TENDENCY3M    | 0.9862362509484192    \n",
      " REST_DYNAMIC_IL_3M         | 0.0                   \n",
      " CNT_TRAN_ATM_TENDENCY3M    | 0.8888888888888891    \n",
      " CNT_TRAN_ATM_TENDENCY1M    | 0.4                   \n",
      " TURNOVER_DYNAMIC_IL_3M     | 0.0                   \n",
      " SUM_TRAN_ATM_TENDENCY3M    | 0.9672995780590721    \n",
      " DEAL_GRACE_DAYS_ACC_S1X1   | 0.0                   \n",
      " AVG_PCT_MONTH_TO_PCLOSE    | -0.196774193548387    \n",
      " DEAL_YWZ_IR_MIN            | 45.0                  \n",
      " SUM_TRAN_SUP_TENDENCY1M    | 0.441774501283834     \n",
      " DEAL_YWZ_IR_MAX            | 45.0                  \n",
      " SUM_TRAN_ATM_TENDENCY1M    | 0.44037134015710494   \n",
      " REST_DYNAMIC_PAYM_1M       | 0.0                   \n",
      " CNT_TRAN_SUP_TENDENCY1M    | 0.444444444444444     \n",
      " DEAL_GRACE_DAYS_ACC_AVG    | 0.0                   \n",
      " TURNOVER_DYNAMIC_CUR_3M    | 0.72608099467811      \n",
      " MAX_PCLOSE_DATE            | -3.51612903225806     \n",
      " LDEAL_YQZ_PC               | 0.033633893557422995  \n",
      " CLNT_SETUP_TENOR           | 6.55538847819594      \n",
      " DEAL_GRACE_DAYS_ACC_MAX    | 0.0                   \n",
      " TURNOVER_DYNAMIC_PAYM_3M   | 0.0                   \n",
      " LDEAL_DELINQ_PER_MAXYQZ    | 0.0                   \n",
      " TURNOVER_DYNAMIC_PAYM_1M   | 0.0                   \n",
      " CLNT_SALARY_VALUE          | 38534.37              \n",
      " TRANS_AMOUNT_TENDENCY3M    | 0.8195405868345269    \n",
      " MED_DEBT_PRC_YQZ           | 1.0                   \n",
      " TRANS_CNT_TENDENCY3M       | 0.7674418604651159    \n",
      " LDEAL_USED_AMT_AVG_YQZ     | 0.72433365328597      \n",
      " REST_DYNAMIC_CC_1M         | 0.0                   \n",
      " LDEAL_USED_AMT_AVG_YWZ     | 1.0                   \n",
      " TURNOVER_DYNAMIC_CC_1M     | 0.0                   \n",
      " AVG_PCT_DEBT_TO_DEAL_AMT   | 0.684208012232416     \n",
      " LDEAL_ACT_DAYS_ACC_PCT_AVG | 0.03358778625954201   \n",
      " REST_DYNAMIC_CC_3M         | 0.0                   \n",
      " MED_DEBT_PRC_YWZ           | 0.0                   \n",
      " LDEAL_ACT_DAYS_PCT_TR3     | 0.0                   \n",
      " LDEAL_ACT_DAYS_PCT_AAVG    | 0.0                   \n",
      " LDEAL_DELINQ_PER_MAXYWZ    | 0.0                   \n",
      " TURNOVER_DYNAMIC_CC_3M     | 0.0                   \n",
      " LDEAL_ACT_DAYS_PCT_TR      | 0.0                   \n",
      " LDEAL_ACT_DAYS_PCT_TR4     | 0.0                   \n",
      " LDEAL_ACT_DAYS_PCT_CURR    | 0.0                   \n",
      " TARGET                     | 0                     \n",
      "-RECORD 7-------------------------------------------\n",
      " summary                    | max                   \n",
      " _c0                        | 443987                \n",
      " ID                         | 590828                \n",
      " CR_PROD_CNT_IL             | 11                    \n",
      " AMOUNT_RUB_CLO_PRC         | 1.0                   \n",
      " PRC_ACCEPTS_A_EMAIL_LINK   | 0.0                   \n",
      " APP_REGISTR_RGN_CODE       | 89.0                  \n",
      " PRC_ACCEPTS_A_POS          | 0.0                   \n",
      " PRC_ACCEPTS_A_TK           | 0.0                   \n",
      " TURNOVER_DYNAMIC_IL_1M     | 1.0                   \n",
      " CNT_TRAN_AUT_TENDENCY1M    | 1.0                   \n",
      " SUM_TRAN_AUT_TENDENCY1M    | 1.0                   \n",
      " AMOUNT_RUB_SUP_PRC         | 1.0                   \n",
      " PRC_ACCEPTS_A_AMOBILE      | 0.0                   \n",
      " SUM_TRAN_AUT_TENDENCY3M    | 1.0                   \n",
      " PRC_ACCEPTS_TK             | 0.0                   \n",
      " PRC_ACCEPTS_A_MTP          | 0.0                   \n",
      " REST_DYNAMIC_FDEP_1M       | 1.0                   \n",
      " CNT_TRAN_AUT_TENDENCY3M    | 1.0                   \n",
      " CNT_ACCEPTS_TK             | 0.0                   \n",
      " REST_DYNAMIC_SAVE_3M       | 1.0                   \n",
      " CR_PROD_CNT_VCU            | 4                     \n",
      " REST_AVG_CUR               | 2.20214067691833E7    \n",
      " CNT_TRAN_MED_TENDENCY1M    | 1.0                   \n",
      " AMOUNT_RUB_NAS_PRC         | 1.0                   \n",
      " TRANS_COUNT_SUP_PRC        | 1.0                   \n",
      " CNT_TRAN_CLO_TENDENCY1M    | 1.0                   \n",
      " SUM_TRAN_MED_TENDENCY1M    | 1.0                   \n",
      " PRC_ACCEPTS_A_ATM          | 0.0                   \n",
      " PRC_ACCEPTS_MTP            | 0.0                   \n",
      " TRANS_COUNT_NAS_PRC        | 1.0                   \n",
      " CNT_ACCEPTS_MTP            | 0.0                   \n",
      " CR_PROD_CNT_TOVR           | 13                    \n",
      " CR_PROD_CNT_PIL            | 9                     \n",
      " SUM_TRAN_CLO_TENDENCY1M    | 1.0                   \n",
      " TURNOVER_CC                | 3753042.345           \n",
      " TRANS_COUNT_ATM_PRC        | 1.0                   \n",
      " AMOUNT_RUB_ATM_PRC         | 1.0                   \n",
      " TURNOVER_PAYM              | 4.6280439311666705E7  \n",
      " AGE                        | 1128                  \n",
      " CNT_TRAN_MED_TENDENCY3M    | 1.0                   \n",
      " CR_PROD_CNT_CC             | 9                     \n",
      " SUM_TRAN_MED_TENDENCY3M    | 1.0                   \n",
      " REST_DYNAMIC_FDEP_3M       | 1.0                   \n",
      " REST_DYNAMIC_IL_1M         | 1.0                   \n",
      " SUM_TRAN_CLO_TENDENCY3M    | 1.0                   \n",
      " LDEAL_TENOR_MAX            | 242.0                 \n",
      " LDEAL_YQZ_CHRG             | 0.0811810862719936    \n",
      " CR_PROD_CNT_CCFP           | 4                     \n",
      " DEAL_YQZ_IR_MAX            | 94.0                  \n",
      " LDEAL_YQZ_COM              | 1.0                   \n",
      " DEAL_YQZ_IR_MIN            | 94.0                  \n",
      " CNT_TRAN_CLO_TENDENCY3M    | 1.0                   \n",
      " REST_DYNAMIC_CUR_1M        | 1.0                   \n",
      " REST_AVG_PAYM              | 5798600.31145         \n",
      " LDEAL_TENOR_MIN            | 182.0                 \n",
      " LDEAL_AMT_MONTH            | 7337638.1775          \n",
      " LDEAL_GRACE_DAYS_PCT_MED   | 1.0                   \n",
      " REST_DYNAMIC_CUR_3M        | 1.0                   \n",
      " CNT_TRAN_SUP_TENDENCY3M    | 1.0                   \n",
      " TURNOVER_DYNAMIC_CUR_1M    | 1.0                   \n",
      " REST_DYNAMIC_PAYM_3M       | 1.0                   \n",
      " SUM_TRAN_SUP_TENDENCY3M    | 1.0                   \n",
      " REST_DYNAMIC_IL_3M         | 1.0                   \n",
      " CNT_TRAN_ATM_TENDENCY3M    | 1.0                   \n",
      " CNT_TRAN_ATM_TENDENCY1M    | 1.0                   \n",
      " TURNOVER_DYNAMIC_IL_3M     | 1.0                   \n",
      " SUM_TRAN_ATM_TENDENCY3M    | 1.0                   \n",
      " DEAL_GRACE_DAYS_ACC_S1X1   | 4.53401360544218      \n",
      " AVG_PCT_MONTH_TO_PCLOSE    | 0.967741935483871     \n",
      " DEAL_YWZ_IR_MIN            | 59.9                  \n",
      " SUM_TRAN_SUP_TENDENCY1M    | 1.0                   \n",
      " DEAL_YWZ_IR_MAX            | 59.9                  \n",
      " SUM_TRAN_ATM_TENDENCY1M    | 1.0                   \n",
      " REST_DYNAMIC_PAYM_1M       | 1.0                   \n",
      " CNT_TRAN_SUP_TENDENCY1M    | 1.0                   \n",
      " DEAL_GRACE_DAYS_ACC_AVG    | 4.6887755102040805    \n",
      " TURNOVER_DYNAMIC_CUR_3M    | 1.0                   \n",
      " MAX_PCLOSE_DATE            | 112.193548387097      \n",
      " LDEAL_YQZ_PC               | 2.2838436077002298    \n",
      " CLNT_SETUP_TENOR           | 13.7489368652927      \n",
      " DEAL_GRACE_DAYS_ACC_MAX    | 9.377551020408161     \n",
      " TURNOVER_DYNAMIC_PAYM_3M   | 1.0                   \n",
      " LDEAL_DELINQ_PER_MAXYQZ    | 1.0                   \n",
      " TURNOVER_DYNAMIC_PAYM_1M   | 1.0                   \n",
      " CLNT_SALARY_VALUE          | 786218.42             \n",
      " TRANS_AMOUNT_TENDENCY3M    | 1.0                   \n",
      " MED_DEBT_PRC_YQZ           | 1.0                   \n",
      " TRANS_CNT_TENDENCY3M       | 1.0                   \n",
      " LDEAL_USED_AMT_AVG_YQZ     | 1.0                   \n",
      " REST_DYNAMIC_CC_1M         | 1.0                   \n",
      " LDEAL_USED_AMT_AVG_YWZ     | 1.0                   \n",
      " TURNOVER_DYNAMIC_CC_1M     | 1.0                   \n",
      " AVG_PCT_DEBT_TO_DEAL_AMT   | 39.8784683559783      \n",
      " LDEAL_ACT_DAYS_ACC_PCT_AVG | 1.0                   \n",
      " REST_DYNAMIC_CC_3M         | 1.0                   \n",
      " MED_DEBT_PRC_YWZ           | 1.0                   \n",
      " LDEAL_ACT_DAYS_PCT_TR3     | 1.0                   \n",
      " LDEAL_ACT_DAYS_PCT_AAVG    | 1.0                   \n",
      " LDEAL_DELINQ_PER_MAXYWZ    | 1.0                   \n",
      " TURNOVER_DYNAMIC_CC_3M     | 1.0                   \n",
      " LDEAL_ACT_DAYS_PCT_TR      | 1.0                   \n",
      " LDEAL_ACT_DAYS_PCT_TR4     | 1.0                   \n",
      " LDEAL_ACT_DAYS_PCT_CURR    | 1.0                   \n",
      " TARGET                     | 1                     \n",
      "\n"
     ]
    }
   ],
   "source": [
    "trainDf.drop(categoriesCols:_*).summary().show(numRows = 105, truncate = 100, vertical = true)"
   ]
  },
  {
   "cell_type": "code",
   "execution_count": 155,
   "metadata": {},
   "outputs": [
    {
     "name": "stdout",
     "output_type": "stream",
     "text": [
      "root\n",
      " |-- CR_PROD_CNT_IL: string (nullable = true)\n",
      " |-- AMOUNT_RUB_CLO_PRC: string (nullable = true)\n",
      " |-- PRC_ACCEPTS_A_EMAIL_LINK: string (nullable = true)\n",
      " |-- APP_REGISTR_RGN_CODE: string (nullable = true)\n",
      " |-- PRC_ACCEPTS_A_POS: string (nullable = true)\n",
      " |-- PRC_ACCEPTS_A_TK: string (nullable = true)\n",
      " |-- TURNOVER_DYNAMIC_IL_1M: string (nullable = true)\n",
      " |-- CNT_TRAN_AUT_TENDENCY1M: string (nullable = true)\n",
      " |-- SUM_TRAN_AUT_TENDENCY1M: string (nullable = true)\n",
      " |-- AMOUNT_RUB_SUP_PRC: string (nullable = true)\n",
      " |-- PRC_ACCEPTS_A_AMOBILE: string (nullable = true)\n",
      " |-- SUM_TRAN_AUT_TENDENCY3M: string (nullable = true)\n",
      " |-- PRC_ACCEPTS_TK: string (nullable = true)\n",
      " |-- PRC_ACCEPTS_A_MTP: string (nullable = true)\n",
      " |-- REST_DYNAMIC_FDEP_1M: string (nullable = true)\n",
      " |-- CNT_TRAN_AUT_TENDENCY3M: string (nullable = true)\n",
      " |-- CNT_ACCEPTS_TK: string (nullable = true)\n",
      " |-- REST_DYNAMIC_SAVE_3M: string (nullable = true)\n",
      " |-- CR_PROD_CNT_VCU: string (nullable = true)\n",
      " |-- REST_AVG_CUR: string (nullable = true)\n",
      " |-- CNT_TRAN_MED_TENDENCY1M: string (nullable = true)\n",
      " |-- AMOUNT_RUB_NAS_PRC: string (nullable = true)\n",
      " |-- TRANS_COUNT_SUP_PRC: string (nullable = true)\n",
      " |-- CNT_TRAN_CLO_TENDENCY1M: string (nullable = true)\n",
      " |-- SUM_TRAN_MED_TENDENCY1M: string (nullable = true)\n",
      " |-- PRC_ACCEPTS_A_ATM: string (nullable = true)\n",
      " |-- PRC_ACCEPTS_MTP: string (nullable = true)\n",
      " |-- TRANS_COUNT_NAS_PRC: string (nullable = true)\n",
      " |-- CNT_ACCEPTS_MTP: string (nullable = true)\n",
      " |-- CR_PROD_CNT_TOVR: string (nullable = true)\n",
      " |-- CR_PROD_CNT_PIL: string (nullable = true)\n",
      " |-- SUM_TRAN_CLO_TENDENCY1M: string (nullable = true)\n",
      " |-- TURNOVER_CC: string (nullable = true)\n",
      " |-- TRANS_COUNT_ATM_PRC: string (nullable = true)\n",
      " |-- AMOUNT_RUB_ATM_PRC: string (nullable = true)\n",
      " |-- TURNOVER_PAYM: string (nullable = true)\n",
      " |-- AGE: string (nullable = true)\n",
      " |-- CNT_TRAN_MED_TENDENCY3M: string (nullable = true)\n",
      " |-- CR_PROD_CNT_CC: string (nullable = true)\n",
      " |-- SUM_TRAN_MED_TENDENCY3M: string (nullable = true)\n",
      " |-- REST_DYNAMIC_FDEP_3M: string (nullable = true)\n",
      " |-- REST_DYNAMIC_IL_1M: string (nullable = true)\n",
      " |-- SUM_TRAN_CLO_TENDENCY3M: string (nullable = true)\n",
      " |-- LDEAL_TENOR_MAX: string (nullable = true)\n",
      " |-- LDEAL_YQZ_CHRG: string (nullable = true)\n",
      " |-- CR_PROD_CNT_CCFP: string (nullable = true)\n",
      " |-- DEAL_YQZ_IR_MAX: string (nullable = true)\n",
      " |-- LDEAL_YQZ_COM: string (nullable = true)\n",
      " |-- DEAL_YQZ_IR_MIN: string (nullable = true)\n",
      " |-- CNT_TRAN_CLO_TENDENCY3M: string (nullable = true)\n",
      " |-- REST_DYNAMIC_CUR_1M: string (nullable = true)\n",
      " |-- REST_AVG_PAYM: string (nullable = true)\n",
      " |-- LDEAL_TENOR_MIN: string (nullable = true)\n",
      " |-- LDEAL_AMT_MONTH: string (nullable = true)\n",
      " |-- LDEAL_GRACE_DAYS_PCT_MED: string (nullable = true)\n",
      " |-- REST_DYNAMIC_CUR_3M: string (nullable = true)\n",
      " |-- CNT_TRAN_SUP_TENDENCY3M: string (nullable = true)\n",
      " |-- TURNOVER_DYNAMIC_CUR_1M: string (nullable = true)\n",
      " |-- REST_DYNAMIC_PAYM_3M: string (nullable = true)\n",
      " |-- SUM_TRAN_SUP_TENDENCY3M: string (nullable = true)\n",
      " |-- REST_DYNAMIC_IL_3M: string (nullable = true)\n",
      " |-- CNT_TRAN_ATM_TENDENCY3M: string (nullable = true)\n",
      " |-- CNT_TRAN_ATM_TENDENCY1M: string (nullable = true)\n",
      " |-- TURNOVER_DYNAMIC_IL_3M: string (nullable = true)\n",
      " |-- SUM_TRAN_ATM_TENDENCY3M: string (nullable = true)\n",
      " |-- DEAL_GRACE_DAYS_ACC_S1X1: string (nullable = true)\n",
      " |-- AVG_PCT_MONTH_TO_PCLOSE: string (nullable = true)\n",
      " |-- DEAL_YWZ_IR_MIN: string (nullable = true)\n",
      " |-- SUM_TRAN_SUP_TENDENCY1M: string (nullable = true)\n",
      " |-- DEAL_YWZ_IR_MAX: string (nullable = true)\n",
      " |-- SUM_TRAN_ATM_TENDENCY1M: string (nullable = true)\n",
      " |-- REST_DYNAMIC_PAYM_1M: string (nullable = true)\n",
      " |-- CNT_TRAN_SUP_TENDENCY1M: string (nullable = true)\n",
      " |-- DEAL_GRACE_DAYS_ACC_AVG: string (nullable = true)\n",
      " |-- TURNOVER_DYNAMIC_CUR_3M: string (nullable = true)\n",
      " |-- MAX_PCLOSE_DATE: string (nullable = true)\n",
      " |-- LDEAL_YQZ_PC: string (nullable = true)\n",
      " |-- CLNT_SETUP_TENOR: string (nullable = true)\n",
      " |-- DEAL_GRACE_DAYS_ACC_MAX: string (nullable = true)\n",
      " |-- TURNOVER_DYNAMIC_PAYM_3M: string (nullable = true)\n",
      " |-- LDEAL_DELINQ_PER_MAXYQZ: string (nullable = true)\n",
      " |-- TURNOVER_DYNAMIC_PAYM_1M: string (nullable = true)\n",
      " |-- CLNT_SALARY_VALUE: string (nullable = true)\n",
      " |-- TRANS_AMOUNT_TENDENCY3M: string (nullable = true)\n",
      " |-- MED_DEBT_PRC_YQZ: string (nullable = true)\n",
      " |-- TRANS_CNT_TENDENCY3M: string (nullable = true)\n",
      " |-- LDEAL_USED_AMT_AVG_YQZ: string (nullable = true)\n",
      " |-- REST_DYNAMIC_CC_1M: string (nullable = true)\n",
      " |-- LDEAL_USED_AMT_AVG_YWZ: string (nullable = true)\n",
      " |-- TURNOVER_DYNAMIC_CC_1M: string (nullable = true)\n",
      " |-- AVG_PCT_DEBT_TO_DEAL_AMT: string (nullable = true)\n",
      " |-- LDEAL_ACT_DAYS_ACC_PCT_AVG: string (nullable = true)\n",
      " |-- REST_DYNAMIC_CC_3M: string (nullable = true)\n",
      " |-- MED_DEBT_PRC_YWZ: string (nullable = true)\n",
      " |-- LDEAL_ACT_DAYS_PCT_TR3: string (nullable = true)\n",
      " |-- LDEAL_ACT_DAYS_PCT_AAVG: string (nullable = true)\n",
      " |-- LDEAL_DELINQ_PER_MAXYWZ: string (nullable = true)\n",
      " |-- TURNOVER_DYNAMIC_CC_3M: string (nullable = true)\n",
      " |-- LDEAL_ACT_DAYS_PCT_TR: string (nullable = true)\n",
      " |-- LDEAL_ACT_DAYS_PCT_TR4: string (nullable = true)\n",
      " |-- LDEAL_ACT_DAYS_PCT_CURR: string (nullable = true)\n",
      "\n",
      "-RECORD 0-------------------------------------------\n",
      " CR_PROD_CNT_IL             | 0.10555112169694854   \n",
      " AMOUNT_RUB_CLO_PRC         | 0.044185932933792645  \n",
      " PRC_ACCEPTS_A_EMAIL_LINK   | 0.0                   \n",
      " APP_REGISTR_RGN_CODE       | 50.940510483135824    \n",
      " PRC_ACCEPTS_A_POS          | 0.0                   \n",
      " PRC_ACCEPTS_A_TK           | 0.0                   \n",
      " TURNOVER_DYNAMIC_IL_1M     | 0.0013119871088681722 \n",
      " CNT_TRAN_AUT_TENDENCY1M    | 0.4164971270088655    \n",
      " SUM_TRAN_AUT_TENDENCY1M    | 0.4144116871982062    \n",
      " AMOUNT_RUB_SUP_PRC         | 0.08529494188969172   \n",
      " PRC_ACCEPTS_A_AMOBILE      | 0.0                   \n",
      " SUM_TRAN_AUT_TENDENCY3M    | 0.6887817174707905    \n",
      " PRC_ACCEPTS_TK             | 0.0                   \n",
      " PRC_ACCEPTS_A_MTP          | 0.0                   \n",
      " REST_DYNAMIC_FDEP_1M       | 7.200560771369897E-4  \n",
      " CNT_TRAN_AUT_TENDENCY3M    | 0.6914647828693696    \n",
      " CNT_ACCEPTS_TK             | 0.0                   \n",
      " REST_DYNAMIC_SAVE_3M       | 0.06378922248497548   \n",
      " CR_PROD_CNT_VCU            | 0.03148118704464044   \n",
      " REST_AVG_CUR               | 66162.29934663817     \n",
      " CNT_TRAN_MED_TENDENCY1M    | 0.4441244853247115    \n",
      " AMOUNT_RUB_NAS_PRC         | 0.024013168233614084  \n",
      " TRANS_COUNT_SUP_PRC        | 0.19110591678145605   \n",
      " CNT_TRAN_CLO_TENDENCY1M    | 0.4796725995900655    \n",
      " SUM_TRAN_MED_TENDENCY1M    | 0.4370113490147224    \n",
      " PRC_ACCEPTS_A_ATM          | 0.0                   \n",
      " PRC_ACCEPTS_MTP            | 0.0                   \n",
      " TRANS_COUNT_NAS_PRC        | 0.05093025604968245   \n",
      " CNT_ACCEPTS_MTP            | 0.0                   \n",
      " CR_PROD_CNT_TOVR           | 0.3102446354473552    \n",
      " CR_PROD_CNT_PIL            | 0.057132524636569676  \n",
      " SUM_TRAN_CLO_TENDENCY1M    | 0.47293333121921616   \n",
      " TURNOVER_CC                | 501.1494261137242     \n",
      " TRANS_COUNT_ATM_PRC        | 0.37067803321313875   \n",
      " AMOUNT_RUB_ATM_PRC         | 0.5979603380176972    \n",
      " TURNOVER_PAYM              | 14577.112002708564    \n",
      " AGE                        | 457.10792080133933    \n",
      " CNT_TRAN_MED_TENDENCY3M    | 0.7011272700943763    \n",
      " CR_PROD_CNT_CC             | 0.07165726720351162   \n",
      " SUM_TRAN_MED_TENDENCY3M    | 0.6964314045291468    \n",
      " REST_DYNAMIC_FDEP_3M       | 0.003865171635578094  \n",
      " REST_DYNAMIC_IL_1M         | 0.0016637738346518402 \n",
      " SUM_TRAN_CLO_TENDENCY3M    | 0.6971582436416833    \n",
      " LDEAL_TENOR_MAX            | 22.367984780540834    \n",
      " LDEAL_YQZ_CHRG             | 0.004979336217111135  \n",
      " CR_PROD_CNT_CCFP           | 0.004900814620140103  \n",
      " DEAL_YQZ_IR_MAX            | 26.272423486887295    \n",
      " LDEAL_YQZ_COM              | 0.07355750695923129   \n",
      " DEAL_YQZ_IR_MIN            | 25.561635336323345    \n",
      " CNT_TRAN_CLO_TENDENCY3M    | 0.7002981646284061    \n",
      " REST_DYNAMIC_CUR_1M        | 0.21222983221770975   \n",
      " REST_AVG_PAYM              | 7192.1270254256515    \n",
      " LDEAL_TENOR_MIN            | 15.760972958282375    \n",
      " LDEAL_AMT_MONTH            | 197657.90733497642    \n",
      " LDEAL_GRACE_DAYS_PCT_MED   | 0.0018140223402572744 \n",
      " REST_DYNAMIC_CUR_3M        | 0.49868296589802613   \n",
      " CNT_TRAN_SUP_TENDENCY3M    | 0.6429108778324024    \n",
      " TURNOVER_DYNAMIC_CUR_1M    | 0.20406155178128954   \n",
      " REST_DYNAMIC_PAYM_3M       | 0.07684715119873978   \n",
      " SUM_TRAN_SUP_TENDENCY3M    | 0.6275880980317768    \n",
      " REST_DYNAMIC_IL_3M         | 0.005753073063779523  \n",
      " CNT_TRAN_ATM_TENDENCY3M    | 0.6287791324470898    \n",
      " CNT_TRAN_ATM_TENDENCY1M    | 0.327132582265736     \n",
      " TURNOVER_DYNAMIC_IL_3M     | 0.004064499231079745  \n",
      " SUM_TRAN_ATM_TENDENCY3M    | 0.6182761188794409    \n",
      " DEAL_GRACE_DAYS_ACC_S1X1   | 0.02876597427456511   \n",
      " AVG_PCT_MONTH_TO_PCLOSE    | -2.555297431380423    \n",
      " DEAL_YWZ_IR_MIN            | 37.185119785402414    \n",
      " SUM_TRAN_SUP_TENDENCY1M    | 0.32812867009303004   \n",
      " DEAL_YWZ_IR_MAX            | 39.47356488761336     \n",
      " SUM_TRAN_ATM_TENDENCY1M    | 0.3219888572041245    \n",
      " REST_DYNAMIC_PAYM_1M       | 0.027698470071221597  \n",
      " CNT_TRAN_SUP_TENDENCY1M    | 0.3411512563183511    \n",
      " DEAL_GRACE_DAYS_ACC_AVG    | 0.02443022742433041   \n",
      " TURNOVER_DYNAMIC_CUR_3M    | 0.4844239194191719    \n",
      " MAX_PCLOSE_DATE            | -20.791243425924172   \n",
      " LDEAL_YQZ_PC               | 0.02506883085132336   \n",
      " CLNT_SETUP_TENOR           | 4.3774887004275005    \n",
      " DEAL_GRACE_DAYS_ACC_MAX    | 0.029040448128981114  \n",
      " TURNOVER_DYNAMIC_PAYM_3M   | 0.07212406824060656   \n",
      " LDEAL_DELINQ_PER_MAXYQZ    | 0.1958825927435793    \n",
      " TURNOVER_DYNAMIC_PAYM_1M   | 0.025178101742057563  \n",
      " CLNT_SALARY_VALUE          | 36623.100475460116    \n",
      " TRANS_AMOUNT_TENDENCY3M    | 0.5822783322728388    \n",
      " MED_DEBT_PRC_YQZ           | 0.9227476559315124    \n",
      " TRANS_CNT_TENDENCY3M       | 0.5974420041319465    \n",
      " LDEAL_USED_AMT_AVG_YQZ     | 0.43632440522705546   \n",
      " REST_DYNAMIC_CC_1M         | 0.0022433736337449115 \n",
      " LDEAL_USED_AMT_AVG_YWZ     | 0.9002152937657554    \n",
      " TURNOVER_DYNAMIC_CC_1M     | 9.567016908920889E-4  \n",
      " AVG_PCT_DEBT_TO_DEAL_AMT   | 0.34321823780086436   \n",
      " LDEAL_ACT_DAYS_ACC_PCT_AVG | 0.05155977032941277   \n",
      " REST_DYNAMIC_CC_3M         | 0.007414408779733414  \n",
      " MED_DEBT_PRC_YWZ           | 0.05515015609101842   \n",
      " LDEAL_ACT_DAYS_PCT_TR3     | 0.025760464002586757  \n",
      " LDEAL_ACT_DAYS_PCT_AAVG    | 0.05027405261012803   \n",
      " LDEAL_DELINQ_PER_MAXYWZ    | 0.009567801313477014  \n",
      " TURNOVER_DYNAMIC_CC_3M     | 0.00445155515166299   \n",
      " LDEAL_ACT_DAYS_PCT_TR      | 0.013922421826979137  \n",
      " LDEAL_ACT_DAYS_PCT_TR4     | 0.013922421826979137  \n",
      " LDEAL_ACT_DAYS_PCT_CURR    | 0.013922421826979137  \n",
      "\n"
     ]
    },
    {
     "data": {
      "text/plain": [
       "trainDf_means = [CR_PROD_CNT_IL: string, AMOUNT_RUB_CLO_PRC: string ... 99 more fields]\n"
      ]
     },
     "metadata": {},
     "output_type": "display_data"
    },
    {
     "data": {
      "text/plain": [
       "[CR_PROD_CNT_IL: string, AMOUNT_RUB_CLO_PRC: string ... 99 more fields]"
      ]
     },
     "execution_count": 155,
     "metadata": {},
     "output_type": "execute_result"
    }
   ],
   "source": [
    "val trainDf_means: Dataset[Row] = trainDf.drop(categoriesCols:_*).summary()\n",
    ".filter('summary === \"mean\")\n",
    ".drop(\"ID\", \"TARGET\", \"summary\", \"_c0\")\n",
    "trainDf_means.printSchema\n",
    "trainDf_means.show(numRows = 105, truncate = 100, vertical = true)"
   ]
  },
  {
   "cell_type": "code",
   "execution_count": 156,
   "metadata": {},
   "outputs": [
    {
     "name": "stdout",
     "output_type": "stream",
     "text": [
      "root\n",
      " |-- CR_PROD_CNT_IL: string (nullable = true)\n",
      " |-- AMOUNT_RUB_CLO_PRC: string (nullable = true)\n",
      " |-- PRC_ACCEPTS_A_EMAIL_LINK: string (nullable = true)\n",
      " |-- APP_REGISTR_RGN_CODE: string (nullable = true)\n",
      " |-- PRC_ACCEPTS_A_POS: string (nullable = true)\n",
      " |-- PRC_ACCEPTS_A_TK: string (nullable = true)\n",
      " |-- TURNOVER_DYNAMIC_IL_1M: string (nullable = true)\n",
      " |-- CNT_TRAN_AUT_TENDENCY1M: string (nullable = true)\n",
      " |-- SUM_TRAN_AUT_TENDENCY1M: string (nullable = true)\n",
      " |-- AMOUNT_RUB_SUP_PRC: string (nullable = true)\n",
      " |-- PRC_ACCEPTS_A_AMOBILE: string (nullable = true)\n",
      " |-- SUM_TRAN_AUT_TENDENCY3M: string (nullable = true)\n",
      " |-- PRC_ACCEPTS_TK: string (nullable = true)\n",
      " |-- PRC_ACCEPTS_A_MTP: string (nullable = true)\n",
      " |-- REST_DYNAMIC_FDEP_1M: string (nullable = true)\n",
      " |-- CNT_TRAN_AUT_TENDENCY3M: string (nullable = true)\n",
      " |-- CNT_ACCEPTS_TK: string (nullable = true)\n",
      " |-- REST_DYNAMIC_SAVE_3M: string (nullable = true)\n",
      " |-- CR_PROD_CNT_VCU: string (nullable = true)\n",
      " |-- REST_AVG_CUR: string (nullable = true)\n",
      " |-- CNT_TRAN_MED_TENDENCY1M: string (nullable = true)\n",
      " |-- AMOUNT_RUB_NAS_PRC: string (nullable = true)\n",
      " |-- TRANS_COUNT_SUP_PRC: string (nullable = true)\n",
      " |-- CNT_TRAN_CLO_TENDENCY1M: string (nullable = true)\n",
      " |-- SUM_TRAN_MED_TENDENCY1M: string (nullable = true)\n",
      " |-- PRC_ACCEPTS_A_ATM: string (nullable = true)\n",
      " |-- PRC_ACCEPTS_MTP: string (nullable = true)\n",
      " |-- TRANS_COUNT_NAS_PRC: string (nullable = true)\n",
      " |-- CNT_ACCEPTS_MTP: string (nullable = true)\n",
      " |-- CR_PROD_CNT_TOVR: string (nullable = true)\n",
      " |-- CR_PROD_CNT_PIL: string (nullable = true)\n",
      " |-- SUM_TRAN_CLO_TENDENCY1M: string (nullable = true)\n",
      " |-- TURNOVER_CC: string (nullable = true)\n",
      " |-- TRANS_COUNT_ATM_PRC: string (nullable = true)\n",
      " |-- AMOUNT_RUB_ATM_PRC: string (nullable = true)\n",
      " |-- TURNOVER_PAYM: string (nullable = true)\n",
      " |-- AGE: string (nullable = true)\n",
      " |-- CNT_TRAN_MED_TENDENCY3M: string (nullable = true)\n",
      " |-- CR_PROD_CNT_CC: string (nullable = true)\n",
      " |-- SUM_TRAN_MED_TENDENCY3M: string (nullable = true)\n",
      " |-- REST_DYNAMIC_FDEP_3M: string (nullable = true)\n",
      " |-- REST_DYNAMIC_IL_1M: string (nullable = true)\n",
      " |-- SUM_TRAN_CLO_TENDENCY3M: string (nullable = true)\n",
      " |-- LDEAL_TENOR_MAX: string (nullable = true)\n",
      " |-- LDEAL_YQZ_CHRG: string (nullable = true)\n",
      " |-- CR_PROD_CNT_CCFP: string (nullable = true)\n",
      " |-- DEAL_YQZ_IR_MAX: string (nullable = true)\n",
      " |-- LDEAL_YQZ_COM: string (nullable = true)\n",
      " |-- DEAL_YQZ_IR_MIN: string (nullable = true)\n",
      " |-- CNT_TRAN_CLO_TENDENCY3M: string (nullable = true)\n",
      " |-- REST_DYNAMIC_CUR_1M: string (nullable = true)\n",
      " |-- REST_AVG_PAYM: string (nullable = true)\n",
      " |-- LDEAL_TENOR_MIN: string (nullable = true)\n",
      " |-- LDEAL_AMT_MONTH: string (nullable = true)\n",
      " |-- LDEAL_GRACE_DAYS_PCT_MED: string (nullable = true)\n",
      " |-- REST_DYNAMIC_CUR_3M: string (nullable = true)\n",
      " |-- CNT_TRAN_SUP_TENDENCY3M: string (nullable = true)\n",
      " |-- TURNOVER_DYNAMIC_CUR_1M: string (nullable = true)\n",
      " |-- REST_DYNAMIC_PAYM_3M: string (nullable = true)\n",
      " |-- SUM_TRAN_SUP_TENDENCY3M: string (nullable = true)\n",
      " |-- REST_DYNAMIC_IL_3M: string (nullable = true)\n",
      " |-- CNT_TRAN_ATM_TENDENCY3M: string (nullable = true)\n",
      " |-- CNT_TRAN_ATM_TENDENCY1M: string (nullable = true)\n",
      " |-- TURNOVER_DYNAMIC_IL_3M: string (nullable = true)\n",
      " |-- SUM_TRAN_ATM_TENDENCY3M: string (nullable = true)\n",
      " |-- DEAL_GRACE_DAYS_ACC_S1X1: string (nullable = true)\n",
      " |-- AVG_PCT_MONTH_TO_PCLOSE: string (nullable = true)\n",
      " |-- DEAL_YWZ_IR_MIN: string (nullable = true)\n",
      " |-- SUM_TRAN_SUP_TENDENCY1M: string (nullable = true)\n",
      " |-- DEAL_YWZ_IR_MAX: string (nullable = true)\n",
      " |-- SUM_TRAN_ATM_TENDENCY1M: string (nullable = true)\n",
      " |-- REST_DYNAMIC_PAYM_1M: string (nullable = true)\n",
      " |-- CNT_TRAN_SUP_TENDENCY1M: string (nullable = true)\n",
      " |-- DEAL_GRACE_DAYS_ACC_AVG: string (nullable = true)\n",
      " |-- TURNOVER_DYNAMIC_CUR_3M: string (nullable = true)\n",
      " |-- MAX_PCLOSE_DATE: string (nullable = true)\n",
      " |-- LDEAL_YQZ_PC: string (nullable = true)\n",
      " |-- CLNT_SETUP_TENOR: string (nullable = true)\n",
      " |-- DEAL_GRACE_DAYS_ACC_MAX: string (nullable = true)\n",
      " |-- TURNOVER_DYNAMIC_PAYM_3M: string (nullable = true)\n",
      " |-- LDEAL_DELINQ_PER_MAXYQZ: string (nullable = true)\n",
      " |-- TURNOVER_DYNAMIC_PAYM_1M: string (nullable = true)\n",
      " |-- CLNT_SALARY_VALUE: string (nullable = true)\n",
      " |-- TRANS_AMOUNT_TENDENCY3M: string (nullable = true)\n",
      " |-- MED_DEBT_PRC_YQZ: string (nullable = true)\n",
      " |-- TRANS_CNT_TENDENCY3M: string (nullable = true)\n",
      " |-- LDEAL_USED_AMT_AVG_YQZ: string (nullable = true)\n",
      " |-- REST_DYNAMIC_CC_1M: string (nullable = true)\n",
      " |-- LDEAL_USED_AMT_AVG_YWZ: string (nullable = true)\n",
      " |-- TURNOVER_DYNAMIC_CC_1M: string (nullable = true)\n",
      " |-- AVG_PCT_DEBT_TO_DEAL_AMT: string (nullable = true)\n",
      " |-- LDEAL_ACT_DAYS_ACC_PCT_AVG: string (nullable = true)\n",
      " |-- REST_DYNAMIC_CC_3M: string (nullable = true)\n",
      " |-- MED_DEBT_PRC_YWZ: string (nullable = true)\n",
      " |-- LDEAL_ACT_DAYS_PCT_TR3: string (nullable = true)\n",
      " |-- LDEAL_ACT_DAYS_PCT_AAVG: string (nullable = true)\n",
      " |-- LDEAL_DELINQ_PER_MAXYWZ: string (nullable = true)\n",
      " |-- TURNOVER_DYNAMIC_CC_3M: string (nullable = true)\n",
      " |-- LDEAL_ACT_DAYS_PCT_TR: string (nullable = true)\n",
      " |-- LDEAL_ACT_DAYS_PCT_TR4: string (nullable = true)\n",
      " |-- LDEAL_ACT_DAYS_PCT_CURR: string (nullable = true)\n",
      "\n"
     ]
    },
    {
     "data": {
      "text/plain": [
       "columnsAndValues = Array(CR_PROD_CNT_IL, CR_PROD_CNT_IL, AMOUNT_RUB_CLO_PRC, AMOUNT_RUB_CLO_PRC, PRC_ACCEPTS_A_EMAIL_LINK, PRC_ACCEPTS_A_EMAIL_LINK, APP_REGISTR_RGN_CODE, APP_REGISTR_RGN_CODE, PRC_ACCEPTS_A_POS, PRC_ACCEPTS_A_POS, PRC_ACCEPTS_A_TK, PRC_ACCEPTS_A_TK, TURNOVER_DYNAMIC_IL_1M, TURNOVER_DYNAMIC_IL_1M, CNT_TRAN_AUT_TENDENCY1M, CNT_TRAN_AUT_TENDENCY1M, SUM_TRAN_AUT_TENDENCY1M, SUM_TRAN_AUT_TENDENCY1M, AMOUNT_RUB_SUP_PRC, AMOUNT_RUB_SUP_PRC, PRC_ACCEPTS_A_AMOBILE, PRC_ACCEPTS_A_AMOBILE, SUM_TRAN_AUT_TENDENCY3M, SUM_TRAN_AUT_TENDENCY3M, PRC_ACCEPTS_TK, PRC_ACCEPTS_TK, PRC_ACCEPTS_A_MTP, PRC_ACCEPTS_A_MTP, REST_DYNAMIC_FDEP_1M, REST_DYNAMIC_FDEP_1M, CNT_TRAN_AUT_TENDENCY3M, CNT_TRAN_AUT_TENDENCY3M, CNT_ACCEPTS_TK, CNT_ACCEPTS_TK, REST_DYNAMIC_S...\n"
      ]
     },
     "metadata": {},
     "output_type": "display_data"
    },
    {
     "data": {
      "text/plain": [
       "Array(CR_PROD_CNT_IL, CR_PROD_CNT_IL, AMOUNT_RUB_CLO_PRC, AMOUNT_RUB_CLO_PRC, PRC_ACCEPTS_A_EMAIL_LINK, PRC_ACCEPTS_A_EMAIL_LINK, APP_REGISTR_RGN_CODE, APP_REGISTR_RGN_CODE, PRC_ACCEPTS_A_POS, PRC_ACCEPTS_A_POS, PRC_ACCEPTS_A_TK, PRC_ACCEPTS_A_TK, TURNOVER_DYNAMIC_IL_1M, TURNOVER_DYNAMIC_IL_1M, CNT_TRAN_AUT_TENDENCY1M, CNT_TRAN_AUT_TENDENCY1M, SUM_TRAN_AUT_TENDENCY1M, SUM_TRAN_AUT_TENDENCY1M, AMOUNT_RUB_SUP_PRC, AMOUNT_RUB_SUP_PRC, PRC_ACCEPTS_A_AMOBILE, PRC_ACCEPTS_A_AMOBILE, SUM_TRAN_AUT_TENDENCY3M, SUM_TRAN_AUT_TENDENCY3M, PRC_ACCEPTS_TK, PRC_ACCEPTS_TK, PRC_ACCEPTS_A_MTP, PRC_ACCEPTS_A_MTP, REST_DYNAMIC_FDEP_1M, REST_DYNAMIC_FDEP_1M, CNT_TRAN_AUT_TENDENCY3M, CNT_TRAN_AUT_TENDENCY3M, CNT_ACCEPTS_TK, CNT_ACCEPTS_TK, REST_DYNAMIC_S..."
      ]
     },
     "execution_count": 156,
     "metadata": {},
     "output_type": "execute_result"
    }
   ],
   "source": [
    "var columnsAndValues = trainDf_means.columns.flatMap { c => Array(lit(c), col(c)) }\n",
    "trainDf_means.printSchema()"
   ]
  },
  {
   "cell_type": "code",
   "execution_count": 157,
   "metadata": {},
   "outputs": [],
   "source": [
    "import org.apache.spark.sql.types.FloatType"
   ]
  },
  {
   "cell_type": "code",
   "execution_count": 95,
   "metadata": {},
   "outputs": [
    {
     "name": "stdout",
     "output_type": "stream",
     "text": [
      "+--------------------------+------------+\n",
      "|Columns                   |Means       |\n",
      "+--------------------------+------------+\n",
      "|CR_PROD_CNT_IL            |0.10555112  |\n",
      "|AMOUNT_RUB_CLO_PRC        |0.044185933 |\n",
      "|PRC_ACCEPTS_A_EMAIL_LINK  |0.0         |\n",
      "|APP_REGISTR_RGN_CODE      |50.94051    |\n",
      "|PRC_ACCEPTS_A_POS         |0.0         |\n",
      "|PRC_ACCEPTS_A_TK          |0.0         |\n",
      "|TURNOVER_DYNAMIC_IL_1M    |0.001311987 |\n",
      "|CNT_TRAN_AUT_TENDENCY1M   |0.41649714  |\n",
      "|SUM_TRAN_AUT_TENDENCY1M   |0.4144117   |\n",
      "|AMOUNT_RUB_SUP_PRC        |0.08529494  |\n",
      "|PRC_ACCEPTS_A_AMOBILE     |0.0         |\n",
      "|SUM_TRAN_AUT_TENDENCY3M   |0.68878174  |\n",
      "|PRC_ACCEPTS_TK            |0.0         |\n",
      "|PRC_ACCEPTS_A_MTP         |0.0         |\n",
      "|REST_DYNAMIC_FDEP_1M      |7.2005606E-4|\n",
      "|CNT_TRAN_AUT_TENDENCY3M   |0.6914648   |\n",
      "|CNT_ACCEPTS_TK            |0.0         |\n",
      "|REST_DYNAMIC_SAVE_3M      |0.063789226 |\n",
      "|CR_PROD_CNT_VCU           |0.031481188 |\n",
      "|REST_AVG_CUR              |66162.3     |\n",
      "|CNT_TRAN_MED_TENDENCY1M   |0.4441245   |\n",
      "|AMOUNT_RUB_NAS_PRC        |0.02401317  |\n",
      "|TRANS_COUNT_SUP_PRC       |0.19110592  |\n",
      "|CNT_TRAN_CLO_TENDENCY1M   |0.4796726   |\n",
      "|SUM_TRAN_MED_TENDENCY1M   |0.43701136  |\n",
      "|PRC_ACCEPTS_A_ATM         |0.0         |\n",
      "|PRC_ACCEPTS_MTP           |0.0         |\n",
      "|TRANS_COUNT_NAS_PRC       |0.050930258 |\n",
      "|CNT_ACCEPTS_MTP           |0.0         |\n",
      "|CR_PROD_CNT_TOVR          |0.31024465  |\n",
      "|CR_PROD_CNT_PIL           |0.057132524 |\n",
      "|SUM_TRAN_CLO_TENDENCY1M   |0.47293332  |\n",
      "|TURNOVER_CC               |501.1494    |\n",
      "|TRANS_COUNT_ATM_PRC       |0.37067804  |\n",
      "|AMOUNT_RUB_ATM_PRC        |0.59796035  |\n",
      "|TURNOVER_PAYM             |14577.112   |\n",
      "|AGE                       |457.1079    |\n",
      "|CNT_TRAN_MED_TENDENCY3M   |0.7011273   |\n",
      "|CR_PROD_CNT_CC            |0.07165727  |\n",
      "|SUM_TRAN_MED_TENDENCY3M   |0.6964314   |\n",
      "|REST_DYNAMIC_FDEP_3M      |0.0038651717|\n",
      "|REST_DYNAMIC_IL_1M        |0.0016637738|\n",
      "|SUM_TRAN_CLO_TENDENCY3M   |0.6971582   |\n",
      "|LDEAL_TENOR_MAX           |22.367985   |\n",
      "|LDEAL_YQZ_CHRG            |0.004979336 |\n",
      "|CR_PROD_CNT_CCFP          |0.0049008145|\n",
      "|DEAL_YQZ_IR_MAX           |26.272423   |\n",
      "|LDEAL_YQZ_COM             |0.0735575   |\n",
      "|DEAL_YQZ_IR_MIN           |25.561636   |\n",
      "|CNT_TRAN_CLO_TENDENCY3M   |0.7002982   |\n",
      "|REST_DYNAMIC_CUR_1M       |0.21222983  |\n",
      "|REST_AVG_PAYM             |7192.127    |\n",
      "|LDEAL_TENOR_MIN           |15.760973   |\n",
      "|LDEAL_AMT_MONTH           |197657.9    |\n",
      "|LDEAL_GRACE_DAYS_PCT_MED  |0.0018140223|\n",
      "|REST_DYNAMIC_CUR_3M       |0.49868298  |\n",
      "|CNT_TRAN_SUP_TENDENCY3M   |0.6429109   |\n",
      "|TURNOVER_DYNAMIC_CUR_1M   |0.20406155  |\n",
      "|REST_DYNAMIC_PAYM_3M      |0.07684715  |\n",
      "|SUM_TRAN_SUP_TENDENCY3M   |0.6275881   |\n",
      "|REST_DYNAMIC_IL_3M        |0.005753073 |\n",
      "|CNT_TRAN_ATM_TENDENCY3M   |0.6287791   |\n",
      "|CNT_TRAN_ATM_TENDENCY1M   |0.32713258  |\n",
      "|TURNOVER_DYNAMIC_IL_3M    |0.0040644994|\n",
      "|SUM_TRAN_ATM_TENDENCY3M   |0.6182761   |\n",
      "|DEAL_GRACE_DAYS_ACC_S1X1  |0.028765975 |\n",
      "|AVG_PCT_MONTH_TO_PCLOSE   |-2.5552974  |\n",
      "|DEAL_YWZ_IR_MIN           |37.18512    |\n",
      "|SUM_TRAN_SUP_TENDENCY1M   |0.32812867  |\n",
      "|DEAL_YWZ_IR_MAX           |39.473564   |\n",
      "|SUM_TRAN_ATM_TENDENCY1M   |0.32198885  |\n",
      "|REST_DYNAMIC_PAYM_1M      |0.02769847  |\n",
      "|CNT_TRAN_SUP_TENDENCY1M   |0.34115127  |\n",
      "|DEAL_GRACE_DAYS_ACC_AVG   |0.024430227 |\n",
      "|TURNOVER_DYNAMIC_CUR_3M   |0.4844239   |\n",
      "|MAX_PCLOSE_DATE           |-20.791243  |\n",
      "|LDEAL_YQZ_PC              |0.02506883  |\n",
      "|CLNT_SETUP_TENOR          |4.3774886   |\n",
      "|DEAL_GRACE_DAYS_ACC_MAX   |0.029040448 |\n",
      "|TURNOVER_DYNAMIC_PAYM_3M  |0.07212407  |\n",
      "|LDEAL_DELINQ_PER_MAXYQZ   |0.19588259  |\n",
      "|TURNOVER_DYNAMIC_PAYM_1M  |0.0251781   |\n",
      "|CLNT_SALARY_VALUE         |36623.1     |\n",
      "|TRANS_AMOUNT_TENDENCY3M   |0.5822783   |\n",
      "|MED_DEBT_PRC_YQZ          |0.9227477   |\n",
      "|TRANS_CNT_TENDENCY3M      |0.59744203  |\n",
      "|LDEAL_USED_AMT_AVG_YQZ    |0.43632442  |\n",
      "|REST_DYNAMIC_CC_1M        |0.0022433735|\n",
      "|LDEAL_USED_AMT_AVG_YWZ    |0.90021527  |\n",
      "|TURNOVER_DYNAMIC_CC_1M    |9.567017E-4 |\n",
      "|AVG_PCT_DEBT_TO_DEAL_AMT  |0.34321824  |\n",
      "|LDEAL_ACT_DAYS_ACC_PCT_AVG|0.05155977  |\n",
      "|REST_DYNAMIC_CC_3M        |0.007414409 |\n",
      "|MED_DEBT_PRC_YWZ          |0.055150155 |\n",
      "|LDEAL_ACT_DAYS_PCT_TR3    |0.025760464 |\n",
      "|LDEAL_ACT_DAYS_PCT_AAVG   |0.05027405  |\n",
      "|LDEAL_DELINQ_PER_MAXYWZ   |0.009567801 |\n",
      "|TURNOVER_DYNAMIC_CC_3M    |0.004451555 |\n",
      "|LDEAL_ACT_DAYS_PCT_TR     |0.013922422 |\n",
      "|LDEAL_ACT_DAYS_PCT_TR4    |0.013922422 |\n",
      "|LDEAL_ACT_DAYS_PCT_CURR   |0.013922422 |\n",
      "+--------------------------+------------+\n",
      "\n"
     ]
    }
   ],
   "source": [
    "trainDf_means.withColumn(\"myMap\", map(columnsAndValues:_*)).select(explode($\"myMap\"))\n",
    ".toDF(\"Columns\", \"Values\")\n",
    ".select(\"Columns\", \"Values\")\n",
    ".withColumn(\"Means\", col(\"Values\").cast(FloatType))\n",
    ".drop(\"Values\")\n",
    ".show(110, false)"
   ]
  },
  {
   "cell_type": "code",
   "execution_count": 158,
   "metadata": {},
   "outputs": [
    {
     "data": {
      "text/plain": [
       "trainDf_means_map = Map(SUM_TRAN_CLO_TENDENCY1M -> 0.4729333221912384, LDEAL_USED_AMT_AVG_YWZ -> 0.9002152681350708, CNT_TRAN_AUT_TENDENCY3M -> 0.6914647817611694, AMOUNT_RUB_SUP_PRC -> 0.0852949395775795, REST_DYNAMIC_PAYM_3M -> 0.0768471509218216, LDEAL_ACT_DAYS_PCT_TR3 -> 0.025760464370250702, PRC_ACCEPTS_A_MTP -> 0.0, AMOUNT_RUB_CLO_PRC -> 0.044185932725667953, TURNOVER_DYNAMIC_PAYM_3M -> 0.07212407141923904, AMOUNT_RUB_NAS_PRC -> 0.02401316910982132, CR_PROD_CNT_CCFP -> 0.00490081449970603, LDEAL_TENOR_MAX -> 22.367984771728516, CNT_TRAN_SUP_TENDENCY3M -> 0.642910897731781, SUM_TRAN_AUT_TENDENCY3M -> 0.68878173828125, CNT_TRAN_MED_TENDENCY3M -> 0.701127290725708, REST_AVG_PAYM -> 7192.126953125, REST_DYNAMIC_CC_3M -> 0.0074144089594483376, DEAL_YWZ_IR_MAX -> 39....\n"
      ]
     },
     "metadata": {},
     "output_type": "display_data"
    },
    {
     "data": {
      "text/plain": [
       "Map(SUM_TRAN_CLO_TENDENCY1M -> 0.4729333221912384, LDEAL_USED_AMT_AVG_YWZ -> 0.9002152681350708, CNT_TRAN_AUT_TENDENCY3M -> 0.6914647817611694, AMOUNT_RUB_SUP_PRC -> 0.0852949395775795, REST_DYNAMIC_PAYM_3M -> 0.0768471509218216, LDEAL_ACT_DAYS_PCT_TR3 -> 0.025760464370250702, PRC_ACCEPTS_A_MTP -> 0.0, AMOUNT_RUB_CLO_PRC -> 0.044185932725667953, TURNOVER_DYNAMIC_PAYM_3M -> 0.07212407141923904, AMOUNT_RUB_NAS_PRC -> 0.02401316910982132, CR_PROD_CNT_CCFP -> 0.00490081449970603, LDEAL_TENOR_MAX -> 22.367984771728516, CNT_TRAN_SUP_TENDENCY3M -> 0.642910897731781, SUM_TRAN_AUT_TENDENCY3M -> 0.68878173828125, CNT_TRAN_MED_TENDENCY3M -> 0.701127290725708, REST_AVG_PAYM -> 7192.126953125, REST_DYNAMIC_CC_3M -> 0.0074144089594483376, DEAL_YWZ_IR_MAX -> 39...."
      ]
     },
     "execution_count": 158,
     "metadata": {},
     "output_type": "execute_result"
    }
   ],
   "source": [
    "val trainDf_means_map: Map[String, Double] = trainDf_means\n",
    ".withColumn(\"myMap\", map(columnsAndValues:_*)).select(explode($\"myMap\"))\n",
    ".toDF(\"Columns\",\"Values\").select(\"Columns\", \"Values\")\n",
    ".withColumn(\"Means\", col(\"Values\").cast(FloatType))\n",
    ".drop(\"Values\").as[(String, Double)].collect.toMap"
   ]
  },
  {
   "cell_type": "code",
   "execution_count": 159,
   "metadata": {},
   "outputs": [
    {
     "data": {
      "text/plain": [
       "trainDf = [_c0: int, ID: int ... 114 more fields]\n"
      ]
     },
     "metadata": {},
     "output_type": "display_data"
    },
    {
     "data": {
      "text/plain": [
       "[_c0: int, ID: int ... 114 more fields]"
      ]
     },
     "execution_count": 159,
     "metadata": {},
     "output_type": "execute_result"
    }
   ],
   "source": [
    "trainDf = trainDf\n",
    ".na.fill(trainDf_means_map)\n",
    ".withColumn(\"CLNT_JOB_POSITION_UPPER\", upper('CLNT_JOB_POSITION))\n",
    ".drop(\"CLNT_JOB_POSITION\")\n",
    ".withColumn(\"CLNT_JOB_POSITION_UPPER_1WORD\", regexp_replace('CLNT_JOB_POSITION_UPPER, \" \", \"\"))\n",
    ".drop(\"CLNT_JOB_POSITION_UPPER\")\n",
    ".withColumnRenamed(\"CLNT_JOB_POSITION_UPPER_1WORD\", \"CLNT_JOB_POSITION\")\n",
    ".na.replace(\"CLNT_TRUST_RELATION\", CLNT_TRUST_RELATION_replaceData)\n",
    ".na.replace(\"APP_MARITAL_STATUS\", APP_MARITAL_STATUS_replaceData)\n",
    ".na.replace(\"APP_EDUCATION\", APP_EDUCATION_replaceData)\n",
    ".drop(\"APP_COMP_TYPE\")"
   ]
  },
  {
   "cell_type": "code",
   "execution_count": 160,
   "metadata": {},
   "outputs": [],
   "source": [
    "import org.apache.spark.ml.feature.OneHotEncoderEstimator\n",
    "import org.apache.spark.ml.feature.StringIndexer\n",
    "import org.apache.spark.ml.feature.FeatureHasher"
   ]
  },
  {
   "cell_type": "code",
   "execution_count": 161,
   "metadata": {},
   "outputs": [
    {
     "data": {
      "text/plain": [
       "CLNT_JOB_POSITION_hasher = featureHasher_a701f05f9261\n",
       "CLNT_TRUST_RELATION_indexer = strIdx_a319fb293d13\n",
       "APP_MARITAL_STATUS_indexer = strIdx_3aac17aea145\n",
       "APP_KIND_OF_PROP_HABITATION_indexer = strIdx_f82208c62faa\n",
       "CLNT_JOB_POSITION_TYPE_indexer = strIdx_27f1549108f1\n",
       "APP_DRIVING_LICENSE_indexer = strIdx_8c187e3d1c0e\n",
       "APP_EDUCATION_indexer = strIdx_4dad861f2bfb\n",
       "APP_TRAVEL_PASS_indexer = strIdx_d22a6a2538bc\n"
      ]
     },
     "metadata": {},
     "output_type": "display_data"
    },
    {
     "data": {
      "text/plain": [
       "APP_CAR_indexer: org.apache.spark.ml.feature.Stri...\n"
      ]
     },
     "metadata": {},
     "output_type": "display_data"
    },
    {
     "data": {
      "text/plain": [
       "strIdx_d22a6a2538bc"
      ]
     },
     "execution_count": 161,
     "metadata": {},
     "output_type": "execute_result"
    }
   ],
   "source": [
    "val CLNT_JOB_POSITION_hasher = new FeatureHasher()\n",
    "  .setInputCols(\"CLNT_JOB_POSITION\")\n",
    "  .setOutputCol(\"CLNT_JOB_POSITION_Vec\")\n",
    "  .setNumFeatures(100)\n",
    "\n",
    "val CLNT_TRUST_RELATION_indexer = new StringIndexer()\n",
    "  .setInputCol(\"CLNT_TRUST_RELATION\")\n",
    "  .setOutputCol(\"CLNT_TRUST_RELATION_Index\")\n",
    "  .setHandleInvalid(\"keep\")\n",
    "\n",
    "// val CLNT_TRUST_RELATION_indexed = CLNT_TRUST_RELATION_indexer.fit(trainDf)\n",
    "\n",
    "val APP_MARITAL_STATUS_indexer = new StringIndexer()\n",
    "  .setInputCol(\"APP_MARITAL_STATUS\")\n",
    "  .setOutputCol(\"APP_MARITAL_STATUS_Index\")\n",
    "  .setHandleInvalid(\"keep\")\n",
    "\n",
    "// val APP_MARITAL_STATUS_indexed = APP_MARITAL_STATUS_indexer.fit(trainDf)\n",
    "\n",
    "val APP_KIND_OF_PROP_HABITATION_indexer = new StringIndexer()\n",
    "  .setInputCol(\"APP_KIND_OF_PROP_HABITATION\")\n",
    "  .setOutputCol(\"APP_KIND_OF_PROP_HABITATION_Index\")\n",
    "  .setHandleInvalid(\"keep\")\n",
    "\n",
    "// val APP_KIND_OF_PROP_HABITATION_indexed = APP_KIND_OF_PROP_HABITATION_indexer.fit(trainDf)\n",
    "\n",
    "val CLNT_JOB_POSITION_TYPE_indexer = new StringIndexer()\n",
    "  .setInputCol(\"CLNT_JOB_POSITION_TYPE\")\n",
    "  .setOutputCol(\"CLNT_JOB_POSITION_TYPE_Index\")\n",
    "  .setHandleInvalid(\"keep\")\n",
    "\n",
    "// val CLNT_JOB_POSITION_TYPE_indexed = CLNT_JOB_POSITION_TYPE_indexer.fit(trainDf)\n",
    "\n",
    "val APP_DRIVING_LICENSE_indexer = new StringIndexer()\n",
    "  .setInputCol(\"APP_DRIVING_LICENSE\")\n",
    "  .setOutputCol(\"APP_DRIVING_LICENSE_Index\")\n",
    "  .setHandleInvalid(\"keep\")\n",
    "\n",
    "// val APP_DRIVING_LICENSE_indexed = APP_DRIVING_LICENSE_indexer.fit(trainDf)\n",
    "\n",
    "val APP_EDUCATION_indexer = new StringIndexer()\n",
    "  .setInputCol(\"APP_EDUCATION\")\n",
    "  .setOutputCol(\"APP_EDUCATION_Index\")\n",
    "  .setHandleInvalid(\"keep\")\n",
    "\n",
    "// val APP_EDUCATION_indexed = APP_EDUCATION_indexer.fit(trainDf)\n",
    "\n",
    "val APP_TRAVEL_PASS_indexer = new StringIndexer()\n",
    "  .setInputCol(\"APP_TRAVEL_PASS\")\n",
    "  .setOutputCol(\"APP_TRAVEL_PASS_Index\")\n",
    "  .setHandleInvalid(\"keep\")\n",
    "\n",
    "// val APP_TRAVEL_PASS_indexed = APP_TRAVEL_PASS_indexer.fit(trainDf)\n",
    "\n",
    "val APP_CAR_indexer = new StringIndexer()\n",
    "  .setInputCol(\"APP_CAR\")\n",
    "  .setOutputCol(\"APP_CAR_Index\")\n",
    "  .setHandleInvalid(\"keep\")\n",
    "\n",
    "// val APP_CAR_indexed = APP_CAR_indexer.fit(trainDf)\n",
    "\n",
    "val APP_POSITION_TYPE_indexer = new StringIndexer()\n",
    "  .setInputCol(\"APP_POSITION_TYPE\")\n",
    "  .setOutputCol(\"APP_POSITION_TYPE_Index\")\n",
    "  .setHandleInvalid(\"keep\")\n",
    "\n",
    "// val APP_POSITION_TYPE_indexed = APP_POSITION_TYPE_indexer.fit(trainDf)\n",
    "\n",
    "val APP_EMP_TYPE_indexer = new StringIndexer()\n",
    "  .setInputCol(\"APP_EMP_TYPE\")\n",
    "  .setOutputCol(\"APP_EMP_TYPE_Index\")\n",
    "  .setHandleInvalid(\"keep\")\n",
    "\n",
    "// val APP_EMP_TYPE_indexed = APP_EMP_TYPE_indexer.fit(trainDf)\n",
    "\n",
    "val PACK_indexer = new StringIndexer()\n",
    "  .setInputCol(\"PACK\")\n",
    "  .setOutputCol(\"PACK_Index\")\n",
    "  .setHandleInvalid(\"keep\")\n",
    "\n",
    "// val PACK_indexed = PACK_indexer.fit(trainDf)"
   ]
  },
  {
   "cell_type": "code",
   "execution_count": null,
   "metadata": {},
   "outputs": [],
   "source": [
    "    \"CLNT_TRUST_RELATION\", \n",
    "    \"APP_MARITAL_STATUS\",\n",
    "    \"APP_KIND_OF_PROP_HABITATION\", \n",
    "    \"CLNT_JOB_POSITION_TYPE\",\n",
    "    \"CLNT_JOB_POSITION\", // -- Hash\n",
    "    \"APP_DRIVING_LICENSE\", \n",
    "    \"APP_EDUCATION\",\n",
    "    \"APP_TRAVEL_PASS\", \n",
    "    \"APP_CAR\", \n",
    "    \"APP_POSITION_TYPE\", \n",
    "    \"APP_EMP_TYPE\",\n",
    "    \"APP_COMP_TYPE\", // -- coincide w/ APP_EMP_TYPE\n",
    "    \"PACK\""
   ]
  },
  {
   "cell_type": "code",
   "execution_count": 162,
   "metadata": {},
   "outputs": [
    {
     "data": {
      "text/plain": [
       "OHencoder = oneHotEncoder_b3f219d4e59d\n"
      ]
     },
     "metadata": {},
     "output_type": "display_data"
    },
    {
     "data": {
      "text/plain": [
       "oneHotEncoder_b3f219d4e59d"
      ]
     },
     "execution_count": 162,
     "metadata": {},
     "output_type": "execute_result"
    }
   ],
   "source": [
    "val OHencoder = new OneHotEncoderEstimator()\n",
    "  .setInputCols(Array(\"CLNT_TRUST_RELATION_Index\", \n",
    "                      \"APP_MARITAL_STATUS_Index\", \n",
    "                      \"APP_KIND_OF_PROP_HABITATION_Index\", \n",
    "                      \"CLNT_JOB_POSITION_TYPE_Index\", \n",
    "                      \"APP_DRIVING_LICENSE_Index\", \n",
    "                      \"APP_EDUCATION_Index\", \n",
    "                      \"APP_TRAVEL_PASS_Index\", \n",
    "                      \"APP_CAR_Index\", \n",
    "                      \"APP_POSITION_TYPE_Index\", \n",
    "                      \"APP_EMP_TYPE_Index\", \n",
    "                      \"PACK_Index\"))\n",
    "  .setOutputCols(Array(\"CLNT_TRUST_RELATION_Vec\", \n",
    "                      \"APP_MARITAL_STATUS__Vec\", \n",
    "                      \"APP_KIND_OF_PROP_HABITATION_Vec\", \n",
    "                      \"CLNT_JOB_POSITION_TYPE_Vec\", \n",
    "                      \"APP_DRIVING_LICENSE_Vec\", \n",
    "                      \"APP_EDUCATION_Vec\", \n",
    "                      \"APP_TRAVEL_PASS_Vec\", \n",
    "                      \"APP_CAR_Vec\", \n",
    "                      \"APP_POSITION_TYPE_Vec\", \n",
    "                      \"APP_EMP_TYPE_Vec\", \n",
    "                      \"PACK_Vec\"))"
   ]
  },
  {
   "cell_type": "code",
   "execution_count": 163,
   "metadata": {},
   "outputs": [],
   "source": [
    "import org.apache.spark.ml.feature.{VectorAssembler}"
   ]
  },
  {
   "cell_type": "code",
   "execution_count": 164,
   "metadata": {},
   "outputs": [
    {
     "data": {
      "text/plain": [
       "num_vectorAssembler = vecAssembler_dfbfd6945ada\n",
       "cat_vectorAssembler = vecAssembler_10e6f4ccf7e0\n",
       "vectorAssembler = vecAssembler_5baa2c414565\n"
      ]
     },
     "metadata": {},
     "output_type": "display_data"
    },
    {
     "data": {
      "text/plain": [
       "vecAssembler_5baa2c414565"
      ]
     },
     "execution_count": 164,
     "metadata": {},
     "output_type": "execute_result"
    }
   ],
   "source": [
    "val num_vectorAssembler = new VectorAssembler()\n",
    "    .setInputCols(numColumns)\n",
    "    .setOutputCol(\"Numfeatures\")\n",
    "\n",
    "val cat_vectorAssembler = new VectorAssembler()\n",
    "    .setInputCols(Array(\"CLNT_JOB_POSITION_Vec\",\n",
    "                      \"CLNT_TRUST_RELATION_Vec\", \n",
    "                      \"APP_MARITAL_STATUS__Vec\", \n",
    "                      \"APP_KIND_OF_PROP_HABITATION_Vec\", \n",
    "                      \"CLNT_JOB_POSITION_TYPE_Vec\", \n",
    "                      \"APP_DRIVING_LICENSE_Vec\", \n",
    "                      \"APP_EDUCATION_Vec\", \n",
    "                      \"APP_TRAVEL_PASS_Vec\", \n",
    "                      \"APP_CAR_Vec\", \n",
    "                      \"APP_POSITION_TYPE_Vec\", \n",
    "                      \"APP_EMP_TYPE_Vec\", \n",
    "                      \"PACK_Vec\"))\n",
    "    .setOutputCol(\"Catfeatures\")\n",
    "\n",
    "val vectorAssembler = new VectorAssembler()\n",
    "    .setInputCols(Array(\"Numfeatures\", \"Catfeatures\"))\n",
    "    .setOutputCol(\"features\")"
   ]
  },
  {
   "cell_type": "code",
   "execution_count": 165,
   "metadata": {},
   "outputs": [],
   "source": [
    "import org.apache.spark.ml.{Pipeline, PipelineModel}"
   ]
  },
  {
   "cell_type": "code",
   "execution_count": 166,
   "metadata": {},
   "outputs": [
    {
     "data": {
      "text/plain": [
       "pipeline = pipeline_29e5b3da5994\n"
      ]
     },
     "metadata": {},
     "output_type": "display_data"
    },
    {
     "data": {
      "text/plain": [
       "pipeline_29e5b3da5994"
      ]
     },
     "execution_count": 166,
     "metadata": {},
     "output_type": "execute_result"
    }
   ],
   "source": [
    "val pipeline = new Pipeline()\n",
    "  .setStages(Array(CLNT_JOB_POSITION_hasher,\n",
    "                   CLNT_TRUST_RELATION_indexer, \n",
    "                   APP_MARITAL_STATUS_indexer,\n",
    "                   APP_KIND_OF_PROP_HABITATION_indexer, \n",
    "                   CLNT_JOB_POSITION_TYPE_indexer, \n",
    "                   APP_DRIVING_LICENSE_indexer, \n",
    "                   APP_EDUCATION_indexer, \n",
    "                   APP_TRAVEL_PASS_indexer, \n",
    "                   APP_CAR_indexer, \n",
    "                   APP_POSITION_TYPE_indexer, \n",
    "                   APP_EMP_TYPE_indexer, \n",
    "                   PACK_indexer,\n",
    "                   OHencoder, \n",
    "                   num_vectorAssembler, \n",
    "                   cat_vectorAssembler, \n",
    "                   vectorAssembler))"
   ]
  },
  {
   "cell_type": "code",
   "execution_count": 167,
   "metadata": {},
   "outputs": [
    {
     "data": {
      "text/plain": [
       "model = pipeline_29e5b3da5994\n"
      ]
     },
     "metadata": {},
     "output_type": "display_data"
    },
    {
     "data": {
      "text/plain": [
       "pipeline_29e5b3da5994"
      ]
     },
     "execution_count": 167,
     "metadata": {},
     "output_type": "execute_result"
    }
   ],
   "source": [
    "val model = pipeline.fit(trainDf)"
   ]
  },
  {
   "cell_type": "code",
   "execution_count": 175,
   "metadata": {},
   "outputs": [
    {
     "name": "stdout",
     "output_type": "stream",
     "text": [
      "-RECORD 0---------------------------------------\n",
      " _c0                               | 333149     \n",
      " ID                                | 479990     \n",
      " CR_PROD_CNT_IL                    | 0          \n",
      " AMOUNT_RUB_CLO_PRC                | 0.0        \n",
      " PRC_ACCEPTS_A_EMAIL_LINK          | 0.0        \n",
      " APP_REGISTR_RGN_CODE              | 50.9405... \n",
      " PRC_ACCEPTS_A_POS                 | 0.0        \n",
      " PRC_ACCEPTS_A_TK                  | 0.0        \n",
      " TURNOVER_DYNAMIC_IL_1M            | 0.0        \n",
      " CNT_TRAN_AUT_TENDENCY1M           | 0.41649... \n",
      " SUM_TRAN_AUT_TENDENCY1M           | 0.41441... \n",
      " AMOUNT_RUB_SUP_PRC                | 0.0        \n",
      " PRC_ACCEPTS_A_AMOBILE             | 0.0        \n",
      " SUM_TRAN_AUT_TENDENCY3M           | 0.68878... \n",
      " CLNT_TRUST_RELATION               | null       \n",
      " PRC_ACCEPTS_TK                    | 0.0        \n",
      " PRC_ACCEPTS_A_MTP                 | 0.0        \n",
      " REST_DYNAMIC_FDEP_1M              | 0.0        \n",
      " CNT_TRAN_AUT_TENDENCY3M           | 0.69146... \n",
      " CNT_ACCEPTS_TK                    | 0.0        \n",
      " APP_MARITAL_STATUS                | null       \n",
      " REST_DYNAMIC_SAVE_3M              | 0.0        \n",
      " CR_PROD_CNT_VCU                   | 0          \n",
      " REST_AVG_CUR                      | 19069.6... \n",
      " CNT_TRAN_MED_TENDENCY1M           | 0.44412... \n",
      " APP_KIND_OF_PROP_HABITATION       | null       \n",
      " CLNT_JOB_POSITION_TYPE            | null       \n",
      " AMOUNT_RUB_NAS_PRC                | 0.0        \n",
      " APP_DRIVING_LICENSE               | null       \n",
      " TRANS_COUNT_SUP_PRC               | 0.0        \n",
      " APP_EDUCATION                     | null       \n",
      " CNT_TRAN_CLO_TENDENCY1M           | 0.47967... \n",
      " SUM_TRAN_MED_TENDENCY1M           | 0.43701... \n",
      " PRC_ACCEPTS_A_ATM                 | 0.0        \n",
      " PRC_ACCEPTS_MTP                   | 0.0        \n",
      " TRANS_COUNT_NAS_PRC               | 0.0        \n",
      " APP_TRAVEL_PASS                   | null       \n",
      " CNT_ACCEPTS_MTP                   | 0.0        \n",
      " CR_PROD_CNT_TOVR                  | 1          \n",
      " APP_CAR                           | null       \n",
      " CR_PROD_CNT_PIL                   | 0          \n",
      " SUM_TRAN_CLO_TENDENCY1M           | 0.47293... \n",
      " APP_POSITION_TYPE                 | null       \n",
      " TURNOVER_CC                       | 0.0        \n",
      " TRANS_COUNT_ATM_PRC               | 0.98181... \n",
      " AMOUNT_RUB_ATM_PRC                | 0.92647... \n",
      " TURNOVER_PAYM                     | 0.0        \n",
      " AGE                               | 324        \n",
      " CNT_TRAN_MED_TENDENCY3M           | 0.70112... \n",
      " CR_PROD_CNT_CC                    | 0          \n",
      " SUM_TRAN_MED_TENDENCY3M           | 0.69643... \n",
      " REST_DYNAMIC_FDEP_3M              | 0.0        \n",
      " REST_DYNAMIC_IL_1M                | 0.0        \n",
      " APP_EMP_TYPE                      | null       \n",
      " SUM_TRAN_CLO_TENDENCY3M           | 0.69715... \n",
      " LDEAL_TENOR_MAX                   | 22.3679... \n",
      " LDEAL_YQZ_CHRG                    | 0.00497... \n",
      " CR_PROD_CNT_CCFP                  | 0          \n",
      " DEAL_YQZ_IR_MAX                   | 26.2724... \n",
      " LDEAL_YQZ_COM                     | 0.07355... \n",
      " DEAL_YQZ_IR_MIN                   | 25.5616... \n",
      " CNT_TRAN_CLO_TENDENCY3M           | 0.70029... \n",
      " REST_DYNAMIC_CUR_1M               | 0.13932... \n",
      " REST_AVG_PAYM                     | 0.0        \n",
      " LDEAL_TENOR_MIN                   | 15.7609... \n",
      " LDEAL_AMT_MONTH                   | 197657.... \n",
      " LDEAL_GRACE_DAYS_PCT_MED          | 0.0        \n",
      " REST_DYNAMIC_CUR_3M               | 0.24404... \n",
      " CNT_TRAN_SUP_TENDENCY3M           | 0.64291... \n",
      " TURNOVER_DYNAMIC_CUR_1M           | 0.14429... \n",
      " REST_DYNAMIC_PAYM_3M              | 0.0        \n",
      " SUM_TRAN_SUP_TENDENCY3M           | 0.62758... \n",
      " REST_DYNAMIC_IL_3M                | 0.0        \n",
      " CNT_TRAN_ATM_TENDENCY3M           | 0.35185... \n",
      " CNT_TRAN_ATM_TENDENCY1M           | 0.16666... \n",
      " TURNOVER_DYNAMIC_IL_3M            | 0.0        \n",
      " SUM_TRAN_ATM_TENDENCY3M           | 0.32932... \n",
      " DEAL_GRACE_DAYS_ACC_S1X1          | 0.0        \n",
      " AVG_PCT_MONTH_TO_PCLOSE           | -2.5552... \n",
      " DEAL_YWZ_IR_MIN                   | 45.0       \n",
      " SUM_TRAN_SUP_TENDENCY1M           | 0.32812... \n",
      " DEAL_YWZ_IR_MAX                   | 45.0       \n",
      " SUM_TRAN_ATM_TENDENCY1M           | 0.16790... \n",
      " REST_DYNAMIC_PAYM_1M              | 0.0        \n",
      " CNT_TRAN_SUP_TENDENCY1M           | 0.34115... \n",
      " DEAL_GRACE_DAYS_ACC_AVG           | 0.0        \n",
      " TURNOVER_DYNAMIC_CUR_3M           | 0.30374... \n",
      " PACK                              | 102        \n",
      " MAX_PCLOSE_DATE                   | -20.791... \n",
      " LDEAL_YQZ_PC                      | 0.02506... \n",
      " CLNT_SETUP_TENOR                  | 5.48000... \n",
      " DEAL_GRACE_DAYS_ACC_MAX           | 0.0        \n",
      " TURNOVER_DYNAMIC_PAYM_3M          | 0.0        \n",
      " LDEAL_DELINQ_PER_MAXYQZ           | 0.19588... \n",
      " TURNOVER_DYNAMIC_PAYM_1M          | 0.0        \n",
      " CLNT_SALARY_VALUE                 | 36623.1... \n",
      " TRANS_AMOUNT_TENDENCY3M           | 0.30510... \n",
      " MED_DEBT_PRC_YQZ                  | 0.92274... \n",
      " TRANS_CNT_TENDENCY3M              | 0.34545... \n",
      " LDEAL_USED_AMT_AVG_YQZ            | 0.43632... \n",
      " REST_DYNAMIC_CC_1M                | 0.0        \n",
      " LDEAL_USED_AMT_AVG_YWZ            | 1.0        \n",
      " TURNOVER_DYNAMIC_CC_1M            | 0.0        \n",
      " AVG_PCT_DEBT_TO_DEAL_AMT          | 0.34321... \n",
      " LDEAL_ACT_DAYS_ACC_PCT_AVG        | 0.00352... \n",
      " REST_DYNAMIC_CC_3M                | 0.0        \n",
      " MED_DEBT_PRC_YWZ                  | 0.0        \n",
      " LDEAL_ACT_DAYS_PCT_TR3            | 0.0        \n",
      " LDEAL_ACT_DAYS_PCT_AAVG           | 0.0        \n",
      " LDEAL_DELINQ_PER_MAXYWZ           | 0.0        \n",
      " TURNOVER_DYNAMIC_CC_3M            | 0.0        \n",
      " LDEAL_ACT_DAYS_PCT_TR             | 0.0        \n",
      " LDEAL_ACT_DAYS_PCT_TR4            | 0.0        \n",
      " LDEAL_ACT_DAYS_PCT_CURR           | 0.0        \n",
      " TARGET                            | 0          \n",
      " CLNT_JOB_POSITION                 | null       \n",
      " CLNT_JOB_POSITION_Vec             | (100,[]... \n",
      " CLNT_TRUST_RELATION_Index         | 9.0        \n",
      " APP_MARITAL_STATUS_Index          | 8.0        \n",
      " APP_KIND_OF_PROP_HABITATION_Index | 5.0        \n",
      " CLNT_JOB_POSITION_TYPE_Index      | 4.0        \n",
      " APP_DRIVING_LICENSE_Index         | 2.0        \n",
      " APP_EDUCATION_Index               | 12.0       \n",
      " APP_TRAVEL_PASS_Index             | 2.0        \n",
      " APP_CAR_Index                     | 2.0        \n",
      " APP_POSITION_TYPE_Index           | 4.0        \n",
      " APP_EMP_TYPE_Index                | 4.0        \n",
      " PACK_Index                        | 0.0        \n",
      " APP_MARITAL_STATUS__Vec           | (8,[],[])  \n",
      " APP_TRAVEL_PASS_Vec               | (2,[],[])  \n",
      " PACK_Vec                          | (12,[0]... \n",
      " APP_EMP_TYPE_Vec                  | (4,[],[])  \n",
      " APP_EDUCATION_Vec                 | (12,[],[]) \n",
      " APP_KIND_OF_PROP_HABITATION_Vec   | (5,[],[])  \n",
      " APP_CAR_Vec                       | (2,[],[])  \n",
      " CLNT_JOB_POSITION_TYPE_Vec        | (4,[],[])  \n",
      " APP_POSITION_TYPE_Vec             | (4,[],[])  \n",
      " APP_DRIVING_LICENSE_Vec           | (2,[],[])  \n",
      " CLNT_TRUST_RELATION_Vec           | (9,[],[])  \n",
      " Numfeatures                       | (101,[3... \n",
      " Catfeatures                       | (164,[1... \n",
      " features                          | (265,[3... \n",
      "-RECORD 1---------------------------------------\n",
      " _c0                               | 303639     \n",
      " ID                                | 450480     \n",
      " CR_PROD_CNT_IL                    | 0          \n",
      " AMOUNT_RUB_CLO_PRC                | 0.0        \n",
      " PRC_ACCEPTS_A_EMAIL_LINK          | 0.0        \n",
      " APP_REGISTR_RGN_CODE              | 50.9405... \n",
      " PRC_ACCEPTS_A_POS                 | 0.0        \n",
      " PRC_ACCEPTS_A_TK                  | 0.0        \n",
      " TURNOVER_DYNAMIC_IL_1M            | 0.0        \n",
      " CNT_TRAN_AUT_TENDENCY1M           | 0.41649... \n",
      " SUM_TRAN_AUT_TENDENCY1M           | 0.41441... \n",
      " AMOUNT_RUB_SUP_PRC                | 0.02716... \n",
      " PRC_ACCEPTS_A_AMOBILE             | 0.0        \n",
      " SUM_TRAN_AUT_TENDENCY3M           | 0.68878... \n",
      " CLNT_TRUST_RELATION               | null       \n",
      " PRC_ACCEPTS_TK                    | 0.0        \n",
      " PRC_ACCEPTS_A_MTP                 | 0.0        \n",
      " REST_DYNAMIC_FDEP_1M              | 0.0        \n",
      " CNT_TRAN_AUT_TENDENCY3M           | 0.69146... \n",
      " CNT_ACCEPTS_TK                    | 0.0        \n",
      " APP_MARITAL_STATUS                | null       \n",
      " REST_DYNAMIC_SAVE_3M              | 0.0        \n",
      " CR_PROD_CNT_VCU                   | 0          \n",
      " REST_AVG_CUR                      | 5951.20... \n",
      " CNT_TRAN_MED_TENDENCY1M           | 0.44412... \n",
      " APP_KIND_OF_PROP_HABITATION       | null       \n",
      " CLNT_JOB_POSITION_TYPE            | null       \n",
      " AMOUNT_RUB_NAS_PRC                | 0.04874... \n",
      " APP_DRIVING_LICENSE               | null       \n",
      " TRANS_COUNT_SUP_PRC               | 0.03030... \n",
      " APP_EDUCATION                     | null       \n",
      " CNT_TRAN_CLO_TENDENCY1M           | 0.47967... \n",
      " SUM_TRAN_MED_TENDENCY1M           | 0.43701... \n",
      " PRC_ACCEPTS_A_ATM                 | 0.0        \n",
      " PRC_ACCEPTS_MTP                   | 0.0        \n",
      " TRANS_COUNT_NAS_PRC               | 0.03030... \n",
      " APP_TRAVEL_PASS                   | null       \n",
      " CNT_ACCEPTS_MTP                   | 0.0        \n",
      " CR_PROD_CNT_TOVR                  | 1          \n",
      " APP_CAR                           | null       \n",
      " CR_PROD_CNT_PIL                   | 0          \n",
      " SUM_TRAN_CLO_TENDENCY1M           | 0.47293... \n",
      " APP_POSITION_TYPE                 | null       \n",
      " TURNOVER_CC                       | 0.0        \n",
      " TRANS_COUNT_ATM_PRC               | 0.09090... \n",
      " AMOUNT_RUB_ATM_PRC                | 0.29247... \n",
      " TURNOVER_PAYM                     | 0.0        \n",
      " AGE                               | 360        \n",
      " CNT_TRAN_MED_TENDENCY3M           | 0.70112... \n",
      " CR_PROD_CNT_CC                    | 0          \n",
      " SUM_TRAN_MED_TENDENCY3M           | 0.69643... \n",
      " REST_DYNAMIC_FDEP_3M              | 0.0        \n",
      " REST_DYNAMIC_IL_1M                | 0.0        \n",
      " APP_EMP_TYPE                      | null       \n",
      " SUM_TRAN_CLO_TENDENCY3M           | 0.69715... \n",
      " LDEAL_TENOR_MAX                   | 22.3679... \n",
      " LDEAL_YQZ_CHRG                    | 0.00497... \n",
      " CR_PROD_CNT_CCFP                  | 0          \n",
      " DEAL_YQZ_IR_MAX                   | 26.2724... \n",
      " LDEAL_YQZ_COM                     | 0.07355... \n",
      " DEAL_YQZ_IR_MIN                   | 25.5616... \n",
      " CNT_TRAN_CLO_TENDENCY3M           | 0.70029... \n",
      " REST_DYNAMIC_CUR_1M               | 0.16387... \n",
      " REST_AVG_PAYM                     | 0.0        \n",
      " LDEAL_TENOR_MIN                   | 15.7609... \n",
      " LDEAL_AMT_MONTH                   | 197657.... \n",
      " LDEAL_GRACE_DAYS_PCT_MED          | 0.0        \n",
      " REST_DYNAMIC_CUR_3M               | 0.46524... \n",
      " CNT_TRAN_SUP_TENDENCY3M           | 1.0        \n",
      " TURNOVER_DYNAMIC_CUR_1M           | 0.20348... \n",
      " REST_DYNAMIC_PAYM_3M              | 0.0        \n",
      " SUM_TRAN_SUP_TENDENCY3M           | 1.0        \n",
      " REST_DYNAMIC_IL_3M                | 0.0        \n",
      " CNT_TRAN_ATM_TENDENCY3M           | 0.33333... \n",
      " CNT_TRAN_ATM_TENDENCY1M           | 0.33333... \n",
      " TURNOVER_DYNAMIC_IL_3M            | 0.0        \n",
      " SUM_TRAN_ATM_TENDENCY3M           | 0.33333... \n",
      " DEAL_GRACE_DAYS_ACC_S1X1          | 0.0        \n",
      " AVG_PCT_MONTH_TO_PCLOSE           | -2.5552... \n",
      " DEAL_YWZ_IR_MIN                   | 45.0       \n",
      " SUM_TRAN_SUP_TENDENCY1M           | 0.32812... \n",
      " DEAL_YWZ_IR_MAX                   | 45.0       \n",
      " SUM_TRAN_ATM_TENDENCY1M           | 0.33333... \n",
      " REST_DYNAMIC_PAYM_1M              | 0.0        \n",
      " CNT_TRAN_SUP_TENDENCY1M           | 0.34115... \n",
      " DEAL_GRACE_DAYS_ACC_AVG           | 0.0        \n",
      " TURNOVER_DYNAMIC_CUR_3M           | 0.50416... \n",
      " PACK                              | 102        \n",
      " MAX_PCLOSE_DATE                   | -20.791... \n",
      " LDEAL_YQZ_PC                      | 0.02506... \n",
      " CLNT_SETUP_TENOR                  | 6.78645... \n",
      " DEAL_GRACE_DAYS_ACC_MAX           | 0.0        \n",
      " TURNOVER_DYNAMIC_PAYM_3M          | 0.0        \n",
      " LDEAL_DELINQ_PER_MAXYQZ           | 0.19588... \n",
      " TURNOVER_DYNAMIC_PAYM_1M          | 0.0        \n",
      " CLNT_SALARY_VALUE                 | 36623.1... \n",
      " TRANS_AMOUNT_TENDENCY3M           | 0.36879... \n",
      " MED_DEBT_PRC_YQZ                  | 0.92274... \n",
      " TRANS_CNT_TENDENCY3M              | 0.45454... \n",
      " LDEAL_USED_AMT_AVG_YQZ            | 0.43632... \n",
      " REST_DYNAMIC_CC_1M                | 0.0        \n",
      " LDEAL_USED_AMT_AVG_YWZ            | 1.0        \n",
      " TURNOVER_DYNAMIC_CC_1M            | 0.0        \n",
      " AVG_PCT_DEBT_TO_DEAL_AMT          | 0.34321... \n",
      " LDEAL_ACT_DAYS_ACC_PCT_AVG        | 6.17665... \n",
      " REST_DYNAMIC_CC_3M                | 0.0        \n",
      " MED_DEBT_PRC_YWZ                  | 0.0        \n",
      " LDEAL_ACT_DAYS_PCT_TR3            | 0.0        \n",
      " LDEAL_ACT_DAYS_PCT_AAVG           | 0.0        \n",
      " LDEAL_DELINQ_PER_MAXYWZ           | 0.0        \n",
      " TURNOVER_DYNAMIC_CC_3M            | 0.0        \n",
      " LDEAL_ACT_DAYS_PCT_TR             | 0.0        \n",
      " LDEAL_ACT_DAYS_PCT_TR4            | 0.0        \n",
      " LDEAL_ACT_DAYS_PCT_CURR           | 0.0        \n",
      " TARGET                            | 0          \n",
      " CLNT_JOB_POSITION                 | ОФИС-МЕ... \n",
      " CLNT_JOB_POSITION_Vec             | (100,[7... \n",
      " CLNT_TRUST_RELATION_Index         | 9.0        \n",
      " APP_MARITAL_STATUS_Index          | 8.0        \n",
      " APP_KIND_OF_PROP_HABITATION_Index | 5.0        \n",
      " CLNT_JOB_POSITION_TYPE_Index      | 4.0        \n",
      " APP_DRIVING_LICENSE_Index         | 2.0        \n",
      " APP_EDUCATION_Index               | 12.0       \n",
      " APP_TRAVEL_PASS_Index             | 2.0        \n",
      " APP_CAR_Index                     | 2.0        \n",
      " APP_POSITION_TYPE_Index           | 4.0        \n",
      " APP_EMP_TYPE_Index                | 4.0        \n",
      " PACK_Index                        | 0.0        \n",
      " APP_MARITAL_STATUS__Vec           | (8,[],[])  \n",
      " APP_TRAVEL_PASS_Vec               | (2,[],[])  \n",
      " PACK_Vec                          | (12,[0]... \n",
      " APP_EMP_TYPE_Vec                  | (4,[],[])  \n",
      " APP_EDUCATION_Vec                 | (12,[],[]) \n",
      " APP_KIND_OF_PROP_HABITATION_Vec   | (5,[],[])  \n",
      " APP_CAR_Vec                       | (2,[],[])  \n",
      " CLNT_JOB_POSITION_TYPE_Vec        | (4,[],[])  \n",
      " APP_POSITION_TYPE_Vec             | (4,[],[])  \n",
      " APP_DRIVING_LICENSE_Vec           | (2,[],[])  \n",
      " CLNT_TRUST_RELATION_Vec           | (9,[],[])  \n",
      " Numfeatures                       | (101,[3... \n",
      " Catfeatures                       | (164,[7... \n",
      " features                          | (265,[3... \n",
      "-RECORD 2---------------------------------------\n",
      " _c0                               | 327113     \n",
      " ID                                | 473954     \n",
      " CR_PROD_CNT_IL                    | 0          \n",
      " AMOUNT_RUB_CLO_PRC                | 0.0        \n",
      " PRC_ACCEPTS_A_EMAIL_LINK          | 0.0        \n",
      " APP_REGISTR_RGN_CODE              | 50.9405... \n",
      " PRC_ACCEPTS_A_POS                 | 0.0        \n",
      " PRC_ACCEPTS_A_TK                  | 0.0        \n",
      " TURNOVER_DYNAMIC_IL_1M            | 0.0        \n",
      " CNT_TRAN_AUT_TENDENCY1M           | 0.41649... \n",
      " SUM_TRAN_AUT_TENDENCY1M           | 0.41441... \n",
      " AMOUNT_RUB_SUP_PRC                | 0.11495... \n",
      " PRC_ACCEPTS_A_AMOBILE             | 0.0        \n",
      " SUM_TRAN_AUT_TENDENCY3M           | 0.68878... \n",
      " CLNT_TRUST_RELATION               | null       \n",
      " PRC_ACCEPTS_TK                    | 0.0        \n",
      " PRC_ACCEPTS_A_MTP                 | 0.0        \n",
      " REST_DYNAMIC_FDEP_1M              | 0.0        \n",
      " CNT_TRAN_AUT_TENDENCY3M           | 0.69146... \n",
      " CNT_ACCEPTS_TK                    | 0.0        \n",
      " APP_MARITAL_STATUS                | null       \n",
      " REST_DYNAMIC_SAVE_3M              | 0.0        \n",
      " CR_PROD_CNT_VCU                   | 0          \n",
      " REST_AVG_CUR                      | 3774.58... \n",
      " CNT_TRAN_MED_TENDENCY1M           | 0.25       \n",
      " APP_KIND_OF_PROP_HABITATION       | null       \n",
      " CLNT_JOB_POSITION_TYPE            | null       \n",
      " AMOUNT_RUB_NAS_PRC                | 0.00451... \n",
      " APP_DRIVING_LICENSE               | null       \n",
      " TRANS_COUNT_SUP_PRC               | 0.36363... \n",
      " APP_EDUCATION                     | null       \n",
      " CNT_TRAN_CLO_TENDENCY1M           | 0.47967... \n",
      " SUM_TRAN_MED_TENDENCY1M           | 0.27948... \n",
      " PRC_ACCEPTS_A_ATM                 | 0.0        \n",
      " PRC_ACCEPTS_MTP                   | 0.0        \n",
      " TRANS_COUNT_NAS_PRC               | 0.13636... \n",
      " APP_TRAVEL_PASS                   | null       \n",
      " CNT_ACCEPTS_MTP                   | 0.0        \n",
      " CR_PROD_CNT_TOVR                  | 1          \n",
      " APP_CAR                           | null       \n",
      " CR_PROD_CNT_PIL                   | 0          \n",
      " SUM_TRAN_CLO_TENDENCY1M           | 0.47293... \n",
      " APP_POSITION_TYPE                 | null       \n",
      " TURNOVER_CC                       | 0.0        \n",
      " TRANS_COUNT_ATM_PRC               | 0.13636... \n",
      " AMOUNT_RUB_ATM_PRC                | 0.53325... \n",
      " TURNOVER_PAYM                     | 0.0        \n",
      " AGE                               | 600        \n",
      " CNT_TRAN_MED_TENDENCY3M           | 1.0        \n",
      " CR_PROD_CNT_CC                    | 0          \n",
      " SUM_TRAN_MED_TENDENCY3M           | 1.0        \n",
      " REST_DYNAMIC_FDEP_3M              | 0.0        \n",
      " REST_DYNAMIC_IL_1M                | 0.0        \n",
      " APP_EMP_TYPE                      | null       \n",
      " SUM_TRAN_CLO_TENDENCY3M           | 0.69715... \n",
      " LDEAL_TENOR_MAX                   | 22.3679... \n",
      " LDEAL_YQZ_CHRG                    | 0.00497... \n",
      " CR_PROD_CNT_CCFP                  | 0          \n",
      " DEAL_YQZ_IR_MAX                   | 26.2724... \n",
      " LDEAL_YQZ_COM                     | 0.07355... \n",
      " DEAL_YQZ_IR_MIN                   | 25.5616... \n",
      " CNT_TRAN_CLO_TENDENCY3M           | 0.70029... \n",
      " REST_DYNAMIC_CUR_1M               | 0.07388... \n",
      " REST_AVG_PAYM                     | 0.0        \n",
      " LDEAL_TENOR_MIN                   | 15.7609... \n",
      " LDEAL_AMT_MONTH                   | 197657.... \n",
      " LDEAL_GRACE_DAYS_PCT_MED          | 0.0        \n",
      " REST_DYNAMIC_CUR_3M               | 0.49001... \n",
      " CNT_TRAN_SUP_TENDENCY3M           | 0.375      \n",
      " TURNOVER_DYNAMIC_CUR_1M           | 0.09025... \n",
      " REST_DYNAMIC_PAYM_3M              | 0.0        \n",
      " SUM_TRAN_SUP_TENDENCY3M           | 0.31734... \n",
      " REST_DYNAMIC_IL_3M                | 0.0        \n",
      " CNT_TRAN_ATM_TENDENCY3M           | 0.62877... \n",
      " CNT_TRAN_ATM_TENDENCY1M           | 0.32713... \n",
      " TURNOVER_DYNAMIC_IL_3M            | 0.0        \n",
      " SUM_TRAN_ATM_TENDENCY3M           | 0.61827... \n",
      " DEAL_GRACE_DAYS_ACC_S1X1          | 0.0        \n",
      " AVG_PCT_MONTH_TO_PCLOSE           | -2.5552... \n",
      " DEAL_YWZ_IR_MIN                   | 45.0       \n",
      " SUM_TRAN_SUP_TENDENCY1M           | 0.32812... \n",
      " DEAL_YWZ_IR_MAX                   | 45.0       \n",
      " SUM_TRAN_ATM_TENDENCY1M           | 0.32198... \n",
      " REST_DYNAMIC_PAYM_1M              | 0.0        \n",
      " CNT_TRAN_SUP_TENDENCY1M           | 0.34115... \n",
      " DEAL_GRACE_DAYS_ACC_AVG           | 0.0        \n",
      " TURNOVER_DYNAMIC_CUR_3M           | 0.35139... \n",
      " PACK                              | 102        \n",
      " MAX_PCLOSE_DATE                   | -20.791... \n",
      " LDEAL_YQZ_PC                      | 0.02506... \n",
      " CLNT_SETUP_TENOR                  | 8.52838... \n",
      " DEAL_GRACE_DAYS_ACC_MAX           | 0.0        \n",
      " TURNOVER_DYNAMIC_PAYM_3M          | 0.0        \n",
      " LDEAL_DELINQ_PER_MAXYQZ           | 0.19588... \n",
      " TURNOVER_DYNAMIC_PAYM_1M          | 0.0        \n",
      " CLNT_SALARY_VALUE                 | 36623.1... \n",
      " TRANS_AMOUNT_TENDENCY3M           | 0.35852... \n",
      " MED_DEBT_PRC_YQZ                  | 0.92274... \n",
      " TRANS_CNT_TENDENCY3M              | 0.31818... \n",
      " LDEAL_USED_AMT_AVG_YQZ            | 0.43632... \n",
      " REST_DYNAMIC_CC_1M                | 0.0        \n",
      " LDEAL_USED_AMT_AVG_YWZ            | 1.0        \n",
      " TURNOVER_DYNAMIC_CC_1M            | 0.0        \n",
      " AVG_PCT_DEBT_TO_DEAL_AMT          | 0.34321... \n",
      " LDEAL_ACT_DAYS_ACC_PCT_AVG        | 0.02748... \n",
      " REST_DYNAMIC_CC_3M                | 0.0        \n",
      " MED_DEBT_PRC_YWZ                  | 0.0        \n",
      " LDEAL_ACT_DAYS_PCT_TR3            | 0.0        \n",
      " LDEAL_ACT_DAYS_PCT_AAVG           | 0.0        \n",
      " LDEAL_DELINQ_PER_MAXYWZ           | 0.0        \n",
      " TURNOVER_DYNAMIC_CC_3M            | 0.0        \n",
      " LDEAL_ACT_DAYS_PCT_TR             | 0.0        \n",
      " LDEAL_ACT_DAYS_PCT_TR4            | 0.0        \n",
      " LDEAL_ACT_DAYS_PCT_CURR           | 0.0        \n",
      " TARGET                            | 0          \n",
      " CLNT_JOB_POSITION                 | КОНСУЛЬ... \n",
      " CLNT_JOB_POSITION_Vec             | (100,[9... \n",
      " CLNT_TRUST_RELATION_Index         | 9.0        \n",
      " APP_MARITAL_STATUS_Index          | 8.0        \n",
      " APP_KIND_OF_PROP_HABITATION_Index | 5.0        \n",
      " CLNT_JOB_POSITION_TYPE_Index      | 4.0        \n",
      " APP_DRIVING_LICENSE_Index         | 2.0        \n",
      " APP_EDUCATION_Index               | 12.0       \n",
      " APP_TRAVEL_PASS_Index             | 2.0        \n",
      " APP_CAR_Index                     | 2.0        \n",
      " APP_POSITION_TYPE_Index           | 4.0        \n",
      " APP_EMP_TYPE_Index                | 4.0        \n",
      " PACK_Index                        | 0.0        \n",
      " APP_MARITAL_STATUS__Vec           | (8,[],[])  \n",
      " APP_TRAVEL_PASS_Vec               | (2,[],[])  \n",
      " PACK_Vec                          | (12,[0]... \n",
      " APP_EMP_TYPE_Vec                  | (4,[],[])  \n",
      " APP_EDUCATION_Vec                 | (12,[],[]) \n",
      " APP_KIND_OF_PROP_HABITATION_Vec   | (5,[],[])  \n",
      " APP_CAR_Vec                       | (2,[],[])  \n",
      " CLNT_JOB_POSITION_TYPE_Vec        | (4,[],[])  \n",
      " APP_POSITION_TYPE_Vec             | (4,[],[])  \n",
      " APP_DRIVING_LICENSE_Vec           | (2,[],[])  \n",
      " CLNT_TRUST_RELATION_Vec           | (9,[],[])  \n",
      " Numfeatures                       | (101,[3... \n",
      " Catfeatures                       | (164,[9... \n",
      " features                          | (265,[3... \n",
      "-RECORD 3---------------------------------------\n",
      " _c0                               | 384197     \n",
      " ID                                | 531038     \n",
      " CR_PROD_CNT_IL                    | 0          \n",
      " AMOUNT_RUB_CLO_PRC                | 0.0        \n",
      " PRC_ACCEPTS_A_EMAIL_LINK          | 0.0        \n",
      " APP_REGISTR_RGN_CODE              | 50.9405... \n",
      " PRC_ACCEPTS_A_POS                 | 0.0        \n",
      " PRC_ACCEPTS_A_TK                  | 0.0        \n",
      " TURNOVER_DYNAMIC_IL_1M            | 0.0        \n",
      " CNT_TRAN_AUT_TENDENCY1M           | 0.41649... \n",
      " SUM_TRAN_AUT_TENDENCY1M           | 0.41441... \n",
      " AMOUNT_RUB_SUP_PRC                | 0.0        \n",
      " PRC_ACCEPTS_A_AMOBILE             | 0.0        \n",
      " SUM_TRAN_AUT_TENDENCY3M           | 0.68878... \n",
      " CLNT_TRUST_RELATION               | null       \n",
      " PRC_ACCEPTS_TK                    | 0.0        \n",
      " PRC_ACCEPTS_A_MTP                 | 0.0        \n",
      " REST_DYNAMIC_FDEP_1M              | 0.0        \n",
      " CNT_TRAN_AUT_TENDENCY3M           | 0.69146... \n",
      " CNT_ACCEPTS_TK                    | 0.0        \n",
      " APP_MARITAL_STATUS                | null       \n",
      " REST_DYNAMIC_SAVE_3M              | 0.0        \n",
      " CR_PROD_CNT_VCU                   | 0          \n",
      " REST_AVG_CUR                      | 148568.... \n",
      " CNT_TRAN_MED_TENDENCY1M           | 0.44412... \n",
      " APP_KIND_OF_PROP_HABITATION       | null       \n",
      " CLNT_JOB_POSITION_TYPE            | null       \n",
      " AMOUNT_RUB_NAS_PRC                | 0.0        \n",
      " APP_DRIVING_LICENSE               | null       \n",
      " TRANS_COUNT_SUP_PRC               | 0.0        \n",
      " APP_EDUCATION                     | null       \n",
      " CNT_TRAN_CLO_TENDENCY1M           | 0.47967... \n",
      " SUM_TRAN_MED_TENDENCY1M           | 0.43701... \n",
      " PRC_ACCEPTS_A_ATM                 | 0.0        \n",
      " PRC_ACCEPTS_MTP                   | 0.0        \n",
      " TRANS_COUNT_NAS_PRC               | 0.0        \n",
      " APP_TRAVEL_PASS                   | null       \n",
      " CNT_ACCEPTS_MTP                   | 0.0        \n",
      " CR_PROD_CNT_TOVR                  | 0          \n",
      " APP_CAR                           | null       \n",
      " CR_PROD_CNT_PIL                   | 0          \n",
      " SUM_TRAN_CLO_TENDENCY1M           | 0.47293... \n",
      " APP_POSITION_TYPE                 | null       \n",
      " TURNOVER_CC                       | 0.0        \n",
      " TRANS_COUNT_ATM_PRC               | 0.66666... \n",
      " AMOUNT_RUB_ATM_PRC                | 0.76103... \n",
      " TURNOVER_PAYM                     | 0.0        \n",
      " AGE                               | 732        \n",
      " CNT_TRAN_MED_TENDENCY3M           | 0.70112... \n",
      " CR_PROD_CNT_CC                    | 0          \n",
      " SUM_TRAN_MED_TENDENCY3M           | 0.69643... \n",
      " REST_DYNAMIC_FDEP_3M              | 0.0        \n",
      " REST_DYNAMIC_IL_1M                | 0.0        \n",
      " APP_EMP_TYPE                      | null       \n",
      " SUM_TRAN_CLO_TENDENCY3M           | 0.69715... \n",
      " LDEAL_TENOR_MAX                   | 22.3679... \n",
      " LDEAL_YQZ_CHRG                    | 0.00497... \n",
      " CR_PROD_CNT_CCFP                  | 0          \n",
      " DEAL_YQZ_IR_MAX                   | 26.2724... \n",
      " LDEAL_YQZ_COM                     | 0.07355... \n",
      " DEAL_YQZ_IR_MIN                   | 25.5616... \n",
      " CNT_TRAN_CLO_TENDENCY3M           | 0.70029... \n",
      " REST_DYNAMIC_CUR_1M               | 0.16584... \n",
      " REST_AVG_PAYM                     | 0.0        \n",
      " LDEAL_TENOR_MIN                   | 15.7609... \n",
      " LDEAL_AMT_MONTH                   | 197657.... \n",
      " LDEAL_GRACE_DAYS_PCT_MED          | 0.0        \n",
      " REST_DYNAMIC_CUR_3M               | 0.49754... \n",
      " CNT_TRAN_SUP_TENDENCY3M           | 0.64291... \n",
      " TURNOVER_DYNAMIC_CUR_1M           | 0.0        \n",
      " REST_DYNAMIC_PAYM_3M              | 0.0        \n",
      " SUM_TRAN_SUP_TENDENCY3M           | 0.62758... \n",
      " REST_DYNAMIC_IL_3M                | 0.0        \n",
      " CNT_TRAN_ATM_TENDENCY3M           | 0.62877... \n",
      " CNT_TRAN_ATM_TENDENCY1M           | 0.32713... \n",
      " TURNOVER_DYNAMIC_IL_3M            | 0.0        \n",
      " SUM_TRAN_ATM_TENDENCY3M           | 0.61827... \n",
      " DEAL_GRACE_DAYS_ACC_S1X1          | 0.02876... \n",
      " AVG_PCT_MONTH_TO_PCLOSE           | -2.5552... \n",
      " DEAL_YWZ_IR_MIN                   | 37.1851... \n",
      " SUM_TRAN_SUP_TENDENCY1M           | 0.32812... \n",
      " DEAL_YWZ_IR_MAX                   | 39.4735... \n",
      " SUM_TRAN_ATM_TENDENCY1M           | 0.32198... \n",
      " REST_DYNAMIC_PAYM_1M              | 0.0        \n",
      " CNT_TRAN_SUP_TENDENCY1M           | 0.34115... \n",
      " DEAL_GRACE_DAYS_ACC_AVG           | 0.02443... \n",
      " TURNOVER_DYNAMIC_CUR_3M           | 0.0        \n",
      " PACK                              | K01        \n",
      " MAX_PCLOSE_DATE                   | -20.791... \n",
      " LDEAL_YQZ_PC                      | 0.02506... \n",
      " CLNT_SETUP_TENOR                  | 3.29182... \n",
      " DEAL_GRACE_DAYS_ACC_MAX           | 0.02904... \n",
      " TURNOVER_DYNAMIC_PAYM_3M          | 0.0        \n",
      " LDEAL_DELINQ_PER_MAXYQZ           | 0.19588... \n",
      " TURNOVER_DYNAMIC_PAYM_1M          | 0.0        \n",
      " CLNT_SALARY_VALUE                 | 36623.1... \n",
      " TRANS_AMOUNT_TENDENCY3M           | 0.58227... \n",
      " MED_DEBT_PRC_YQZ                  | 0.92274... \n",
      " TRANS_CNT_TENDENCY3M              | 0.59744... \n",
      " LDEAL_USED_AMT_AVG_YQZ            | 0.43632... \n",
      " REST_DYNAMIC_CC_1M                | 0.0        \n",
      " LDEAL_USED_AMT_AVG_YWZ            | 0.90021... \n",
      " TURNOVER_DYNAMIC_CC_1M            | 0.0        \n",
      " AVG_PCT_DEBT_TO_DEAL_AMT          | 0.34321... \n",
      " LDEAL_ACT_DAYS_ACC_PCT_AVG        | 0.05155... \n",
      " REST_DYNAMIC_CC_3M                | 0.0        \n",
      " MED_DEBT_PRC_YWZ                  | 0.05515... \n",
      " LDEAL_ACT_DAYS_PCT_TR3            | 0.02576... \n",
      " LDEAL_ACT_DAYS_PCT_AAVG           | 0.05027... \n",
      " LDEAL_DELINQ_PER_MAXYWZ           | 0.00956... \n",
      " TURNOVER_DYNAMIC_CC_3M            | 0.0        \n",
      " LDEAL_ACT_DAYS_PCT_TR             | 0.01392... \n",
      " LDEAL_ACT_DAYS_PCT_TR4            | 0.01392... \n",
      " LDEAL_ACT_DAYS_PCT_CURR           | 0.01392... \n",
      " TARGET                            | 0          \n",
      " CLNT_JOB_POSITION                 | null       \n",
      " CLNT_JOB_POSITION_Vec             | (100,[]... \n",
      " CLNT_TRUST_RELATION_Index         | 9.0        \n",
      " APP_MARITAL_STATUS_Index          | 8.0        \n",
      " APP_KIND_OF_PROP_HABITATION_Index | 5.0        \n",
      " CLNT_JOB_POSITION_TYPE_Index      | 4.0        \n",
      " APP_DRIVING_LICENSE_Index         | 2.0        \n",
      " APP_EDUCATION_Index               | 12.0       \n",
      " APP_TRAVEL_PASS_Index             | 2.0        \n",
      " APP_CAR_Index                     | 2.0        \n",
      " APP_POSITION_TYPE_Index           | 4.0        \n",
      " APP_EMP_TYPE_Index                | 4.0        \n",
      " PACK_Index                        | 1.0        \n",
      " APP_MARITAL_STATUS__Vec           | (8,[],[])  \n",
      " APP_TRAVEL_PASS_Vec               | (2,[],[])  \n",
      " PACK_Vec                          | (12,[1]... \n",
      " APP_EMP_TYPE_Vec                  | (4,[],[])  \n",
      " APP_EDUCATION_Vec                 | (12,[],[]) \n",
      " APP_KIND_OF_PROP_HABITATION_Vec   | (5,[],[])  \n",
      " APP_CAR_Vec                       | (2,[],[])  \n",
      " CLNT_JOB_POSITION_TYPE_Vec        | (4,[],[])  \n",
      " APP_POSITION_TYPE_Vec             | (4,[],[])  \n",
      " APP_DRIVING_LICENSE_Vec           | (2,[],[])  \n",
      " CLNT_TRUST_RELATION_Vec           | (9,[],[])  \n",
      " Numfeatures                       | (101,[3... \n",
      " Catfeatures                       | (164,[1... \n",
      " features                          | (265,[3... \n",
      "-RECORD 4---------------------------------------\n",
      " _c0                               | 202462     \n",
      " ID                                | 349303     \n",
      " CR_PROD_CNT_IL                    | 0          \n",
      " AMOUNT_RUB_CLO_PRC                | 0.0        \n",
      " PRC_ACCEPTS_A_EMAIL_LINK          | 0.0        \n",
      " APP_REGISTR_RGN_CODE              | 50.9405... \n",
      " PRC_ACCEPTS_A_POS                 | 0.0        \n",
      " PRC_ACCEPTS_A_TK                  | 0.0        \n",
      " TURNOVER_DYNAMIC_IL_1M            | 0.0        \n",
      " CNT_TRAN_AUT_TENDENCY1M           | 0.41649... \n",
      " SUM_TRAN_AUT_TENDENCY1M           | 0.41441... \n",
      " AMOUNT_RUB_SUP_PRC                | 0.01154... \n",
      " PRC_ACCEPTS_A_AMOBILE             | 0.0        \n",
      " SUM_TRAN_AUT_TENDENCY3M           | 1.0        \n",
      " CLNT_TRUST_RELATION               | null       \n",
      " PRC_ACCEPTS_TK                    | 0.0        \n",
      " PRC_ACCEPTS_A_MTP                 | 0.0        \n",
      " REST_DYNAMIC_FDEP_1M              | 0.0        \n",
      " CNT_TRAN_AUT_TENDENCY3M           | 1.0        \n",
      " CNT_ACCEPTS_TK                    | 0.0        \n",
      " APP_MARITAL_STATUS                | null       \n",
      " REST_DYNAMIC_SAVE_3M              | 0.0        \n",
      " CR_PROD_CNT_VCU                   | 0          \n",
      " REST_AVG_CUR                      | 69233.3887 \n",
      " CNT_TRAN_MED_TENDENCY1M           | 0.44412... \n",
      " APP_KIND_OF_PROP_HABITATION       | null       \n",
      " CLNT_JOB_POSITION_TYPE            | null       \n",
      " AMOUNT_RUB_NAS_PRC                | 0.0        \n",
      " APP_DRIVING_LICENSE               | null       \n",
      " TRANS_COUNT_SUP_PRC               | 0.08333... \n",
      " APP_EDUCATION                     | null       \n",
      " CNT_TRAN_CLO_TENDENCY1M           | 0.47967... \n",
      " SUM_TRAN_MED_TENDENCY1M           | 0.43701... \n",
      " PRC_ACCEPTS_A_ATM                 | 0.0        \n",
      " PRC_ACCEPTS_MTP                   | 0.0        \n",
      " TRANS_COUNT_NAS_PRC               | 0.0        \n",
      " APP_TRAVEL_PASS                   | null       \n",
      " CNT_ACCEPTS_MTP                   | 0.0        \n",
      " CR_PROD_CNT_TOVR                  | 0          \n",
      " APP_CAR                           | null       \n",
      " CR_PROD_CNT_PIL                   | 0          \n",
      " SUM_TRAN_CLO_TENDENCY1M           | 0.47293... \n",
      " APP_POSITION_TYPE                 | null       \n",
      " TURNOVER_CC                       | 0.0        \n",
      " TRANS_COUNT_ATM_PRC               | 0.25       \n",
      " AMOUNT_RUB_ATM_PRC                | 0.48660... \n",
      " TURNOVER_PAYM                     | 0.0        \n",
      " AGE                               | 480        \n",
      " CNT_TRAN_MED_TENDENCY3M           | 0.70112... \n",
      " CR_PROD_CNT_CC                    | 0          \n",
      " SUM_TRAN_MED_TENDENCY3M           | 0.69643... \n",
      " REST_DYNAMIC_FDEP_3M              | 0.0        \n",
      " REST_DYNAMIC_IL_1M                | 0.0        \n",
      " APP_EMP_TYPE                      | null       \n",
      " SUM_TRAN_CLO_TENDENCY3M           | 0.69715... \n",
      " LDEAL_TENOR_MAX                   | 22.3679... \n",
      " LDEAL_YQZ_CHRG                    | 0.00497... \n",
      " CR_PROD_CNT_CCFP                  | 0          \n",
      " DEAL_YQZ_IR_MAX                   | 26.2724... \n",
      " LDEAL_YQZ_COM                     | 0.07355... \n",
      " DEAL_YQZ_IR_MIN                   | 25.5616... \n",
      " CNT_TRAN_CLO_TENDENCY3M           | 0.70029... \n",
      " REST_DYNAMIC_CUR_1M               | 0.05560... \n",
      " REST_AVG_PAYM                     | 0.0        \n",
      " LDEAL_TENOR_MIN                   | 15.7609... \n",
      " LDEAL_AMT_MONTH                   | 197657.... \n",
      " LDEAL_GRACE_DAYS_PCT_MED          | 0.0        \n",
      " REST_DYNAMIC_CUR_3M               | 0.24715... \n",
      " CNT_TRAN_SUP_TENDENCY3M           | 0.64291... \n",
      " TURNOVER_DYNAMIC_CUR_1M           | 0.31627... \n",
      " REST_DYNAMIC_PAYM_3M              | 0.0        \n",
      " SUM_TRAN_SUP_TENDENCY3M           | 0.62758... \n",
      " REST_DYNAMIC_IL_3M                | 0.0        \n",
      " CNT_TRAN_ATM_TENDENCY3M           | 0.66666... \n",
      " CNT_TRAN_ATM_TENDENCY1M           | 0.66666... \n",
      " TURNOVER_DYNAMIC_IL_3M            | 0.0        \n",
      " SUM_TRAN_ATM_TENDENCY3M           | 0.41669... \n",
      " DEAL_GRACE_DAYS_ACC_S1X1          | 0.02876... \n",
      " AVG_PCT_MONTH_TO_PCLOSE           | -2.5552... \n",
      " DEAL_YWZ_IR_MIN                   | 37.1851... \n",
      " SUM_TRAN_SUP_TENDENCY1M           | 0.32812... \n",
      " DEAL_YWZ_IR_MAX                   | 39.4735... \n",
      " SUM_TRAN_ATM_TENDENCY1M           | 0.41669... \n",
      " REST_DYNAMIC_PAYM_1M              | 0.0        \n",
      " CNT_TRAN_SUP_TENDENCY1M           | 0.34115... \n",
      " DEAL_GRACE_DAYS_ACC_AVG           | 0.02443... \n",
      " TURNOVER_DYNAMIC_CUR_3M           | 0.73512... \n",
      " PACK                              | K01        \n",
      " MAX_PCLOSE_DATE                   | -20.791... \n",
      " LDEAL_YQZ_PC                      | 0.02506... \n",
      " CLNT_SETUP_TENOR                  | 5.16021... \n",
      " DEAL_GRACE_DAYS_ACC_MAX           | 0.02904... \n",
      " TURNOVER_DYNAMIC_PAYM_3M          | 0.0        \n",
      " LDEAL_DELINQ_PER_MAXYQZ           | 0.19588... \n",
      " TURNOVER_DYNAMIC_PAYM_1M          | 0.0        \n",
      " CLNT_SALARY_VALUE                 | 36623.1... \n",
      " TRANS_AMOUNT_TENDENCY3M           | 0.68810... \n",
      " MED_DEBT_PRC_YQZ                  | 0.92274... \n",
      " TRANS_CNT_TENDENCY3M              | 0.75       \n",
      " LDEAL_USED_AMT_AVG_YQZ            | 0.43632... \n",
      " REST_DYNAMIC_CC_1M                | 0.0        \n",
      " LDEAL_USED_AMT_AVG_YWZ            | 0.90021... \n",
      " TURNOVER_DYNAMIC_CC_1M            | 0.0        \n",
      " AVG_PCT_DEBT_TO_DEAL_AMT          | 0.34321... \n",
      " LDEAL_ACT_DAYS_ACC_PCT_AVG        | 0.05155... \n",
      " REST_DYNAMIC_CC_3M                | 0.0        \n",
      " MED_DEBT_PRC_YWZ                  | 0.05515... \n",
      " LDEAL_ACT_DAYS_PCT_TR3            | 0.02576... \n",
      " LDEAL_ACT_DAYS_PCT_AAVG           | 0.05027... \n",
      " LDEAL_DELINQ_PER_MAXYWZ           | 0.00956... \n",
      " TURNOVER_DYNAMIC_CC_3M            | 0.0        \n",
      " LDEAL_ACT_DAYS_PCT_TR             | 0.01392... \n",
      " LDEAL_ACT_DAYS_PCT_TR4            | 0.01392... \n",
      " LDEAL_ACT_DAYS_PCT_CURR           | 0.01392... \n",
      " TARGET                            | 0          \n",
      " CLNT_JOB_POSITION                 | ЭКОНОМИСТ  \n",
      " CLNT_JOB_POSITION_Vec             | (100,[3... \n",
      " CLNT_TRUST_RELATION_Index         | 9.0        \n",
      " APP_MARITAL_STATUS_Index          | 8.0        \n",
      " APP_KIND_OF_PROP_HABITATION_Index | 5.0        \n",
      " CLNT_JOB_POSITION_TYPE_Index      | 4.0        \n",
      " APP_DRIVING_LICENSE_Index         | 2.0        \n",
      " APP_EDUCATION_Index               | 12.0       \n",
      " APP_TRAVEL_PASS_Index             | 2.0        \n",
      " APP_CAR_Index                     | 2.0        \n",
      " APP_POSITION_TYPE_Index           | 4.0        \n",
      " APP_EMP_TYPE_Index                | 4.0        \n",
      " PACK_Index                        | 1.0        \n",
      " APP_MARITAL_STATUS__Vec           | (8,[],[])  \n",
      " APP_TRAVEL_PASS_Vec               | (2,[],[])  \n",
      " PACK_Vec                          | (12,[1]... \n",
      " APP_EMP_TYPE_Vec                  | (4,[],[])  \n",
      " APP_EDUCATION_Vec                 | (12,[],[]) \n",
      " APP_KIND_OF_PROP_HABITATION_Vec   | (5,[],[])  \n",
      " APP_CAR_Vec                       | (2,[],[])  \n",
      " CLNT_JOB_POSITION_TYPE_Vec        | (4,[],[])  \n",
      " APP_POSITION_TYPE_Vec             | (4,[],[])  \n",
      " APP_DRIVING_LICENSE_Vec           | (2,[],[])  \n",
      " CLNT_TRUST_RELATION_Vec           | (9,[],[])  \n",
      " Numfeatures                       | (101,[3... \n",
      " Catfeatures                       | (164,[3... \n",
      " features                          | (265,[3... \n",
      "only showing top 5 rows\n",
      "\n"
     ]
    },
    {
     "data": {
      "text/plain": [
       "trainDfCleaned = [_c0: int, ID: int ... 140 more fields]\n"
      ]
     },
     "metadata": {},
     "output_type": "display_data"
    },
    {
     "data": {
      "text/plain": [
       "[_c0: int, ID: int ... 140 more fields]"
      ]
     },
     "execution_count": 175,
     "metadata": {},
     "output_type": "execute_result"
    }
   ],
   "source": [
    "val trainDfCleaned = model.transform(trainDf).filter(col(\"TARGET\").isNotNull).cache\n",
    "trainDfCleaned.show(numRows=5, vertical=true, truncate=10)"
   ]
  },
  {
   "cell_type": "code",
   "execution_count": 176,
   "metadata": {},
   "outputs": [
    {
     "data": {
      "text/plain": [
       "320763"
      ]
     },
     "execution_count": 176,
     "metadata": {},
     "output_type": "execute_result"
    }
   ],
   "source": [
    "trainDfCleaned.count()"
   ]
  },
  {
   "cell_type": "code",
   "execution_count": 148,
   "metadata": {},
   "outputs": [
    {
     "data": {
      "text/plain": [
       "Name: Syntax Error.\n",
       "Message: \n",
       "StackTrace: "
      ]
     },
     "execution_count": 148,
     "metadata": {},
     "output_type": "execute_result"
    }
   ],
   "source": [
    "// trainDf = trainDf.drop(categoriesCols:_*).na.fill(0)"
   ]
  },
  {
   "cell_type": "code",
   "execution_count": 177,
   "metadata": {},
   "outputs": [
    {
     "data": {
      "text/plain": [
       "trainDfTrain = [TARGET: int, features: vector]\n",
       "trainDfTest = [TARGET: int, features: vector]\n"
      ]
     },
     "metadata": {},
     "output_type": "display_data"
    },
    {
     "data": {
      "text/plain": [
       "[TARGET: int, features: vector]"
      ]
     },
     "execution_count": 177,
     "metadata": {},
     "output_type": "execute_result"
    }
   ],
   "source": [
    "val Array(trainDfTrain, trainDfTest) = trainDfCleaned.select(\"TARGET\", \"features\").randomSplit(Array(0.8, 0.2))"
   ]
  },
  {
   "cell_type": "code",
   "execution_count": null,
   "metadata": {},
   "outputs": [],
   "source": []
  },
  {
   "cell_type": "code",
   "execution_count": 190,
   "metadata": {},
   "outputs": [],
   "source": [
    "import org.apache.spark.ml.classification.{RandomForestClassificationModel, RandomForestClassifier}\n",
    "import org.apache.spark.ml.classification.{GBTClassificationModel, GBTClassifier}\n",
    "import org.apache.spark.ml.feature.{VectorAssembler}"
   ]
  },
  {
   "cell_type": "code",
   "execution_count": 186,
   "metadata": {},
   "outputs": [
    {
     "data": {
      "text/plain": [
       "randomForestModel = RandomForestClassificationModel (uid=rfc_2d5c121a0508) with 50 trees\n"
      ]
     },
     "metadata": {},
     "output_type": "display_data"
    },
    {
     "data": {
      "text/plain": [
       "RandomForestClassificationModel (uid=rfc_2d5c121a0508) with 50 trees"
      ]
     },
     "execution_count": 186,
     "metadata": {},
     "output_type": "execute_result"
    }
   ],
   "source": [
    "// Train RandomForest\n",
    "val randomForestModel = new RandomForestClassifier()\n",
    "    .setLabelCol(\"TARGET\")\n",
    "    .setFeaturesCol(\"features\")\n",
    "    .setSeed(42)\n",
    "    .setNumTrees(50)\n",
    "    .fit(trainDfTrain)"
   ]
  },
  {
   "cell_type": "code",
   "execution_count": 187,
   "metadata": {},
   "outputs": [
    {
     "name": "stdout",
     "output_type": "stream",
     "text": [
      "+------+--------------------+--------------------+--------------------+----------+\n",
      "|TARGET|            features|       rawPrediction|         probability|prediction|\n",
      "+------+--------------------+--------------------+--------------------+----------+\n",
      "|     0|(265,[0,1,3,6,7,8...|[44.9852957013640...|[0.89970591402728...|       0.0|\n",
      "|     0|(265,[0,1,3,6,7,8...|[45.9808546034820...|[0.91961709206964...|       0.0|\n",
      "|     0|(265,[0,1,3,6,7,8...|[45.2220093974222...|[0.90444018794844...|       0.0|\n",
      "|     0|(265,[0,1,3,6,7,8...|[45.3585825205707...|[0.90717165041141...|       0.0|\n",
      "|     0|(265,[0,1,3,6,7,8...|[45.4148124696025...|[0.90829624939205...|       0.0|\n",
      "+------+--------------------+--------------------+--------------------+----------+\n",
      "only showing top 5 rows\n",
      "\n"
     ]
    },
    {
     "data": {
      "text/plain": [
       "predictions = [TARGET: int, features: vector ... 3 more fields]\n"
      ]
     },
     "metadata": {},
     "output_type": "display_data"
    },
    {
     "data": {
      "text/plain": [
       "[TARGET: int, features: vector ... 3 more fields]"
      ]
     },
     "execution_count": 187,
     "metadata": {},
     "output_type": "execute_result"
    }
   ],
   "source": [
    "val predictions = randomForestModel.transform(\n",
    "    trainDfTest\n",
    ").cache\n",
    "\n",
    "predictions\n",
    "    .select(\n",
    "        \"TARGET\",\n",
    "        \"features\",\n",
    "        \"rawPrediction\",\n",
    "        \"probability\",\n",
    "        \"prediction\"\n",
    "    )\n",
    "    .show(5)"
   ]
  },
  {
   "cell_type": "code",
   "execution_count": 191,
   "metadata": {},
   "outputs": [
    {
     "data": {
      "text/plain": [
       "GBTCModel = GBTClassificationModel (uid=gbtc_ae61efa2b97b) with 50 trees\n"
      ]
     },
     "metadata": {},
     "output_type": "display_data"
    },
    {
     "data": {
      "text/plain": [
       "GBTClassificationModel (uid=gbtc_ae61efa2b97b) with 50 trees"
      ]
     },
     "execution_count": 191,
     "metadata": {},
     "output_type": "execute_result"
    }
   ],
   "source": [
    "// Train GBTClassifier\n",
    "val GBTCModel = new GBTClassifier()\n",
    "    .setLabelCol(\"TARGET\")\n",
    "    .setFeaturesCol(\"features\")\n",
    "    .setSeed(42)\n",
    "    .setMaxIter(50)\n",
    "    .fit(trainDfTrain)"
   ]
  },
  {
   "cell_type": "code",
   "execution_count": 193,
   "metadata": {},
   "outputs": [
    {
     "data": {
      "text/plain": [
       "predictions = [TARGET: int, features: vector ... 3 more fields]\n"
      ]
     },
     "metadata": {},
     "output_type": "display_data"
    },
    {
     "data": {
      "text/plain": [
       "[TARGET: int, features: vector ... 3 more fields]"
      ]
     },
     "execution_count": 193,
     "metadata": {},
     "output_type": "execute_result"
    }
   ],
   "source": [
    "val predictions = GBTCModel.transform(\n",
    "    trainDfTest\n",
    ").cache"
   ]
  },
  {
   "cell_type": "code",
   "execution_count": 188,
   "metadata": {},
   "outputs": [
    {
     "name": "stdout",
     "output_type": "stream",
     "text": [
      "-RECORD 0----------------------------------------------\n",
      " probability | [0.899705914027281,0.10029408597271904] \n",
      "only showing top 1 row\n",
      "\n"
     ]
    }
   ],
   "source": [
    "predictions\n",
    "    .select(\n",
    "        \"probability\"\n",
    "    )\n",
    "    .show(1, 0, true)"
   ]
  },
  {
   "cell_type": "code",
   "execution_count": 181,
   "metadata": {},
   "outputs": [
    {
     "name": "stdout",
     "output_type": "stream",
     "text": [
      "root\n",
      " |-- probability: vector (nullable = true)\n",
      "\n"
     ]
    }
   ],
   "source": [
    "predictions.select(\"probability\").printSchema()"
   ]
  },
  {
   "cell_type": "code",
   "execution_count": 182,
   "metadata": {},
   "outputs": [
    {
     "data": {
      "text/plain": [
       "vectorToArrayUdf = UserDefinedFunction(<function1>,ArrayType(DoubleType,false),None)\n"
      ]
     },
     "metadata": {},
     "output_type": "display_data"
    },
    {
     "data": {
      "text/plain": [
       "import org.apache.spark.mllib.linalg.{Vector=>OldVector}\n"
      ]
     },
     "metadata": {},
     "output_type": "display_data"
    },
    {
     "data": {
      "text/plain": [
       "UserDefinedFunction(<function1>,ArrayType(DoubleType,false),None)"
      ]
     },
     "execution_count": 182,
     "metadata": {},
     "output_type": "execute_result"
    }
   ],
   "source": [
    "import org.apache.spark.ml.linalg.{SparseVector, Vector}\n",
    "import org.apache.spark.mllib.linalg.{Vector => OldVector}\n",
    "\n",
    "val vectorToArrayUdf = udf { vec: Any =>\n",
    "    vec match {\n",
    "      case v: Vector => v.toArray\n",
    "      case v: OldVector => v.toArray\n",
    "      case v => throw new IllegalArgumentException(\n",
    "        \"function vector_to_array requires a non-null input argument and input type must be \" +\n",
    "        \"`org.apache.spark.ml.linalg.Vector` or `org.apache.spark.mllib.linalg.Vector`, \" +\n",
    "        s\"but got ${ if (v == null) \"null\" else v.getClass.getName }.\")\n",
    "    }\n",
    "  }.asNonNullable()"
   ]
  },
  {
   "cell_type": "code",
   "execution_count": 183,
   "metadata": {},
   "outputs": [
    {
     "name": "stdout",
     "output_type": "stream",
     "text": [
      "+----------------------+\n",
      "|prediction_probability|\n",
      "+----------------------+\n",
      "|   0.09551577790293662|\n",
      "|    0.0761206279835468|\n",
      "|   0.09597905844312773|\n",
      "|   0.08906888218239482|\n",
      "|   0.09592983966605001|\n",
      "+----------------------+\n",
      "only showing top 5 rows\n",
      "\n"
     ]
    }
   ],
   "source": [
    "predictions\n",
    "    .select(vectorToArrayUdf(col(\"probability\")).getItem(1).alias(\"prediction_probability\"))\n",
    "    .show(5)"
   ]
  },
  {
   "cell_type": "code",
   "execution_count": 184,
   "metadata": {},
   "outputs": [],
   "source": [
    "import org.apache.spark.ml.evaluation.BinaryClassificationEvaluator"
   ]
  },
  {
   "cell_type": "code",
   "execution_count": 194,
   "metadata": {},
   "outputs": [
    {
     "data": {
      "text/plain": [
       "evaluator = binEval_847f19090fa3\n",
       "accuracy = 0.8332907597952605\n"
      ]
     },
     "metadata": {},
     "output_type": "display_data"
    },
    {
     "data": {
      "text/plain": [
       "0.8332907597952605"
      ]
     },
     "execution_count": 194,
     "metadata": {},
     "output_type": "execute_result"
    }
   ],
   "source": [
    "val evaluator = new BinaryClassificationEvaluator()\n",
    "    .setLabelCol(\"TARGET\")\n",
    "    .setRawPredictionCol(\"prediction\")\n",
    "    .setMetricName(\"areaUnderROC\")\n",
    "\n",
    "val accuracy = evaluator\n",
    "    .evaluate(\n",
    "        predictions.withColumn(\"prediction\", vectorToArrayUdf(col(\"probability\")).getItem(1))\n",
    "    )"
   ]
  },
  {
   "cell_type": "code",
   "execution_count": null,
   "metadata": {},
   "outputs": [],
   "source": []
  },
  {
   "cell_type": "code",
   "execution_count": 211,
   "metadata": {},
   "outputs": [
    {
     "name": "stdout",
     "output_type": "stream",
     "text": [
      "-RECORD 0-----------------------------------------\n",
      " _c0                         | 372289             \n",
      " ID                          | 519130             \n",
      " CR_PROD_CNT_IL              | 0                  \n",
      " AMOUNT_RUB_CLO_PRC          | 0.0                \n",
      " PRC_ACCEPTS_A_EMAIL_LINK    | null               \n",
      " APP_REGISTR_RGN_CODE        | null               \n",
      " PRC_ACCEPTS_A_POS           | null               \n",
      " PRC_ACCEPTS_A_TK            | null               \n",
      " TURNOVER_DYNAMIC_IL_1M      | 0.0                \n",
      " CNT_TRAN_AUT_TENDENCY1M     | null               \n",
      " SUM_TRAN_AUT_TENDENCY1M     | null               \n",
      " AMOUNT_RUB_SUP_PRC          | 0.0                \n",
      " PRC_ACCEPTS_A_AMOBILE       | null               \n",
      " SUM_TRAN_AUT_TENDENCY3M     | null               \n",
      " CLNT_TRUST_RELATION         | null               \n",
      " PRC_ACCEPTS_TK              | null               \n",
      " PRC_ACCEPTS_A_MTP           | null               \n",
      " REST_DYNAMIC_FDEP_1M        | 0.0                \n",
      " CNT_TRAN_AUT_TENDENCY3M     | null               \n",
      " CNT_ACCEPTS_TK              | null               \n",
      " APP_MARITAL_STATUS          | null               \n",
      " REST_DYNAMIC_SAVE_3M        | 1.0                \n",
      " CR_PROD_CNT_VCU             | 0                  \n",
      " REST_AVG_CUR                | 13916.8191         \n",
      " CNT_TRAN_MED_TENDENCY1M     | null               \n",
      " APP_KIND_OF_PROP_HABITATION | null               \n",
      " CLNT_JOB_POSITION_TYPE      | null               \n",
      " AMOUNT_RUB_NAS_PRC          | 0.0                \n",
      " CLNT_JOB_POSITION           | null               \n",
      " APP_DRIVING_LICENSE         | null               \n",
      " TRANS_COUNT_SUP_PRC         | 0.0                \n",
      " APP_EDUCATION               | null               \n",
      " CNT_TRAN_CLO_TENDENCY1M     | null               \n",
      " SUM_TRAN_MED_TENDENCY1M     | null               \n",
      " PRC_ACCEPTS_A_ATM           | null               \n",
      " PRC_ACCEPTS_MTP             | null               \n",
      " TRANS_COUNT_NAS_PRC         | 0.0                \n",
      " APP_TRAVEL_PASS             | null               \n",
      " CNT_ACCEPTS_MTP             | null               \n",
      " CR_PROD_CNT_TOVR            | 0                  \n",
      " APP_CAR                     | null               \n",
      " CR_PROD_CNT_PIL             | 0                  \n",
      " SUM_TRAN_CLO_TENDENCY1M     | null               \n",
      " APP_POSITION_TYPE           | null               \n",
      " TURNOVER_CC                 | 0.0                \n",
      " TRANS_COUNT_ATM_PRC         | 1.0                \n",
      " AMOUNT_RUB_ATM_PRC          | 1.0                \n",
      " TURNOVER_PAYM               | 0.0                \n",
      " AGE                         | 240                \n",
      " CNT_TRAN_MED_TENDENCY3M     | null               \n",
      " CR_PROD_CNT_CC              | 0                  \n",
      " SUM_TRAN_MED_TENDENCY3M     | null               \n",
      " REST_DYNAMIC_FDEP_3M        | 0.0                \n",
      " REST_DYNAMIC_IL_1M          | 0.0                \n",
      " APP_EMP_TYPE                | null               \n",
      " SUM_TRAN_CLO_TENDENCY3M     | null               \n",
      " LDEAL_TENOR_MAX             | null               \n",
      " LDEAL_YQZ_CHRG              | null               \n",
      " CR_PROD_CNT_CCFP            | 0                  \n",
      " DEAL_YQZ_IR_MAX             | null               \n",
      " LDEAL_YQZ_COM               | null               \n",
      " DEAL_YQZ_IR_MIN             | null               \n",
      " CNT_TRAN_CLO_TENDENCY3M     | null               \n",
      " REST_DYNAMIC_CUR_1M         | 0.479789155507046  \n",
      " REST_AVG_PAYM               | 0.0                \n",
      " LDEAL_TENOR_MIN             | null               \n",
      " LDEAL_AMT_MONTH             | null               \n",
      " APP_COMP_TYPE               | null               \n",
      " LDEAL_GRACE_DAYS_PCT_MED    | 0.0                \n",
      " REST_DYNAMIC_CUR_3M         | 1.0                \n",
      " CNT_TRAN_SUP_TENDENCY3M     | null               \n",
      " TURNOVER_DYNAMIC_CUR_1M     | 0.6401123866394111 \n",
      " REST_DYNAMIC_PAYM_3M        | 0.0                \n",
      " SUM_TRAN_SUP_TENDENCY3M     | null               \n",
      " REST_DYNAMIC_IL_3M          | 0.0                \n",
      " CNT_TRAN_ATM_TENDENCY3M     | 1.0                \n",
      " CNT_TRAN_ATM_TENDENCY1M     | null               \n",
      " TURNOVER_DYNAMIC_IL_3M      | 0.0                \n",
      " SUM_TRAN_ATM_TENDENCY3M     | 1.0                \n",
      " DEAL_GRACE_DAYS_ACC_S1X1    | null               \n",
      " AVG_PCT_MONTH_TO_PCLOSE     | null               \n",
      " DEAL_YWZ_IR_MIN             | null               \n",
      " SUM_TRAN_SUP_TENDENCY1M     | null               \n",
      " DEAL_YWZ_IR_MAX             | null               \n",
      " SUM_TRAN_ATM_TENDENCY1M     | null               \n",
      " REST_DYNAMIC_PAYM_1M        | 0.0                \n",
      " CNT_TRAN_SUP_TENDENCY1M     | null               \n",
      " DEAL_GRACE_DAYS_ACC_AVG     | null               \n",
      " TURNOVER_DYNAMIC_CUR_3M     | 1.0                \n",
      " PACK                        | K01                \n",
      " MAX_PCLOSE_DATE             | null               \n",
      " LDEAL_YQZ_PC                | null               \n",
      " CLNT_SETUP_TENOR            | 0.5713989073078449 \n",
      " DEAL_GRACE_DAYS_ACC_MAX     | null               \n",
      " TURNOVER_DYNAMIC_PAYM_3M    | 0.0                \n",
      " LDEAL_DELINQ_PER_MAXYQZ     | null               \n",
      " TURNOVER_DYNAMIC_PAYM_1M    | 0.0                \n",
      " CLNT_SALARY_VALUE           | null               \n",
      " TRANS_AMOUNT_TENDENCY3M     | 1.0                \n",
      " MED_DEBT_PRC_YQZ            | null               \n",
      " TRANS_CNT_TENDENCY3M        | 1.0                \n",
      " LDEAL_USED_AMT_AVG_YQZ      | null               \n",
      " REST_DYNAMIC_CC_1M          | 0.0                \n",
      " LDEAL_USED_AMT_AVG_YWZ      | null               \n",
      " TURNOVER_DYNAMIC_CC_1M      | 0.0                \n",
      " AVG_PCT_DEBT_TO_DEAL_AMT    | null               \n",
      " LDEAL_ACT_DAYS_ACC_PCT_AVG  | null               \n",
      " REST_DYNAMIC_CC_3M          | 0.0                \n",
      " MED_DEBT_PRC_YWZ            | null               \n",
      " LDEAL_ACT_DAYS_PCT_TR3      | null               \n",
      " LDEAL_ACT_DAYS_PCT_AAVG     | null               \n",
      " LDEAL_DELINQ_PER_MAXYWZ     | null               \n",
      " TURNOVER_DYNAMIC_CC_3M      | 0.0                \n",
      " LDEAL_ACT_DAYS_PCT_TR       | null               \n",
      " LDEAL_ACT_DAYS_PCT_TR4      | null               \n",
      " LDEAL_ACT_DAYS_PCT_CURR     | null               \n",
      "only showing top 1 row\n",
      "\n"
     ]
    },
    {
     "data": {
      "text/plain": [
       "testDfData = [_c0: int, ID: int ... 114 more fields]\n"
      ]
     },
     "metadata": {},
     "output_type": "display_data"
    },
    {
     "data": {
      "text/plain": [
       "[_c0: int, ID: int ... 114 more fields]"
      ]
     },
     "execution_count": 211,
     "metadata": {},
     "output_type": "execute_result"
    }
   ],
   "source": [
    "var testDfData = spark\n",
    "    .read\n",
    "    .option(\"header\", true)\n",
    "    .option(\"inferSchema\", true)\n",
    "    .csv(\"slaba05data/lab05_test.csv\")\n",
    "\n",
    "testDfData.show(1, 0, vertical=true)"
   ]
  },
  {
   "cell_type": "code",
   "execution_count": 212,
   "metadata": {},
   "outputs": [
    {
     "name": "stdout",
     "output_type": "stream",
     "text": [
      "root\n",
      " |-- _c0: integer (nullable = true)\n",
      " |-- ID: integer (nullable = true)\n",
      " |-- CR_PROD_CNT_IL: integer (nullable = true)\n",
      " |-- AMOUNT_RUB_CLO_PRC: double (nullable = true)\n",
      " |-- PRC_ACCEPTS_A_EMAIL_LINK: double (nullable = true)\n",
      " |-- APP_REGISTR_RGN_CODE: double (nullable = true)\n",
      " |-- PRC_ACCEPTS_A_POS: double (nullable = true)\n",
      " |-- PRC_ACCEPTS_A_TK: double (nullable = true)\n",
      " |-- TURNOVER_DYNAMIC_IL_1M: double (nullable = true)\n",
      " |-- CNT_TRAN_AUT_TENDENCY1M: double (nullable = true)\n",
      " |-- SUM_TRAN_AUT_TENDENCY1M: double (nullable = true)\n",
      " |-- AMOUNT_RUB_SUP_PRC: double (nullable = true)\n",
      " |-- PRC_ACCEPTS_A_AMOBILE: double (nullable = true)\n",
      " |-- SUM_TRAN_AUT_TENDENCY3M: double (nullable = true)\n",
      " |-- CLNT_TRUST_RELATION: string (nullable = true)\n",
      " |-- PRC_ACCEPTS_TK: double (nullable = true)\n",
      " |-- PRC_ACCEPTS_A_MTP: double (nullable = true)\n",
      " |-- REST_DYNAMIC_FDEP_1M: double (nullable = true)\n",
      " |-- CNT_TRAN_AUT_TENDENCY3M: double (nullable = true)\n",
      " |-- CNT_ACCEPTS_TK: double (nullable = true)\n",
      " |-- APP_MARITAL_STATUS: string (nullable = true)\n",
      " |-- REST_DYNAMIC_SAVE_3M: double (nullable = true)\n",
      " |-- CR_PROD_CNT_VCU: integer (nullable = true)\n",
      " |-- REST_AVG_CUR: double (nullable = true)\n",
      " |-- CNT_TRAN_MED_TENDENCY1M: double (nullable = true)\n",
      " |-- APP_KIND_OF_PROP_HABITATION: string (nullable = true)\n",
      " |-- CLNT_JOB_POSITION_TYPE: string (nullable = true)\n",
      " |-- AMOUNT_RUB_NAS_PRC: double (nullable = true)\n",
      " |-- CLNT_JOB_POSITION: string (nullable = true)\n",
      " |-- APP_DRIVING_LICENSE: string (nullable = true)\n",
      " |-- TRANS_COUNT_SUP_PRC: double (nullable = true)\n",
      " |-- APP_EDUCATION: string (nullable = true)\n",
      " |-- CNT_TRAN_CLO_TENDENCY1M: double (nullable = true)\n",
      " |-- SUM_TRAN_MED_TENDENCY1M: double (nullable = true)\n",
      " |-- PRC_ACCEPTS_A_ATM: double (nullable = true)\n",
      " |-- PRC_ACCEPTS_MTP: double (nullable = true)\n",
      " |-- TRANS_COUNT_NAS_PRC: double (nullable = true)\n",
      " |-- APP_TRAVEL_PASS: string (nullable = true)\n",
      " |-- CNT_ACCEPTS_MTP: double (nullable = true)\n",
      " |-- CR_PROD_CNT_TOVR: integer (nullable = true)\n",
      " |-- APP_CAR: string (nullable = true)\n",
      " |-- CR_PROD_CNT_PIL: integer (nullable = true)\n",
      " |-- SUM_TRAN_CLO_TENDENCY1M: double (nullable = true)\n",
      " |-- APP_POSITION_TYPE: string (nullable = true)\n",
      " |-- TURNOVER_CC: double (nullable = true)\n",
      " |-- TRANS_COUNT_ATM_PRC: double (nullable = true)\n",
      " |-- AMOUNT_RUB_ATM_PRC: double (nullable = true)\n",
      " |-- TURNOVER_PAYM: double (nullable = true)\n",
      " |-- AGE: integer (nullable = true)\n",
      " |-- CNT_TRAN_MED_TENDENCY3M: double (nullable = true)\n",
      " |-- CR_PROD_CNT_CC: integer (nullable = true)\n",
      " |-- SUM_TRAN_MED_TENDENCY3M: double (nullable = true)\n",
      " |-- REST_DYNAMIC_FDEP_3M: double (nullable = true)\n",
      " |-- REST_DYNAMIC_IL_1M: double (nullable = true)\n",
      " |-- APP_EMP_TYPE: string (nullable = true)\n",
      " |-- SUM_TRAN_CLO_TENDENCY3M: double (nullable = true)\n",
      " |-- LDEAL_TENOR_MAX: double (nullable = true)\n",
      " |-- LDEAL_YQZ_CHRG: double (nullable = true)\n",
      " |-- CR_PROD_CNT_CCFP: integer (nullable = true)\n",
      " |-- DEAL_YQZ_IR_MAX: double (nullable = true)\n",
      " |-- LDEAL_YQZ_COM: double (nullable = true)\n",
      " |-- DEAL_YQZ_IR_MIN: double (nullable = true)\n",
      " |-- CNT_TRAN_CLO_TENDENCY3M: double (nullable = true)\n",
      " |-- REST_DYNAMIC_CUR_1M: double (nullable = true)\n",
      " |-- REST_AVG_PAYM: double (nullable = true)\n",
      " |-- LDEAL_TENOR_MIN: double (nullable = true)\n",
      " |-- LDEAL_AMT_MONTH: double (nullable = true)\n",
      " |-- APP_COMP_TYPE: string (nullable = true)\n",
      " |-- LDEAL_GRACE_DAYS_PCT_MED: double (nullable = true)\n",
      " |-- REST_DYNAMIC_CUR_3M: double (nullable = true)\n",
      " |-- CNT_TRAN_SUP_TENDENCY3M: double (nullable = true)\n",
      " |-- TURNOVER_DYNAMIC_CUR_1M: double (nullable = true)\n",
      " |-- REST_DYNAMIC_PAYM_3M: double (nullable = true)\n",
      " |-- SUM_TRAN_SUP_TENDENCY3M: double (nullable = true)\n",
      " |-- REST_DYNAMIC_IL_3M: double (nullable = true)\n",
      " |-- CNT_TRAN_ATM_TENDENCY3M: double (nullable = true)\n",
      " |-- CNT_TRAN_ATM_TENDENCY1M: double (nullable = true)\n",
      " |-- TURNOVER_DYNAMIC_IL_3M: double (nullable = true)\n",
      " |-- SUM_TRAN_ATM_TENDENCY3M: double (nullable = true)\n",
      " |-- DEAL_GRACE_DAYS_ACC_S1X1: double (nullable = true)\n",
      " |-- AVG_PCT_MONTH_TO_PCLOSE: double (nullable = true)\n",
      " |-- DEAL_YWZ_IR_MIN: double (nullable = true)\n",
      " |-- SUM_TRAN_SUP_TENDENCY1M: double (nullable = true)\n",
      " |-- DEAL_YWZ_IR_MAX: double (nullable = true)\n",
      " |-- SUM_TRAN_ATM_TENDENCY1M: double (nullable = true)\n",
      " |-- REST_DYNAMIC_PAYM_1M: double (nullable = true)\n",
      " |-- CNT_TRAN_SUP_TENDENCY1M: double (nullable = true)\n",
      " |-- DEAL_GRACE_DAYS_ACC_AVG: double (nullable = true)\n",
      " |-- TURNOVER_DYNAMIC_CUR_3M: double (nullable = true)\n",
      " |-- PACK: string (nullable = true)\n",
      " |-- MAX_PCLOSE_DATE: double (nullable = true)\n",
      " |-- LDEAL_YQZ_PC: double (nullable = true)\n",
      " |-- CLNT_SETUP_TENOR: double (nullable = true)\n",
      " |-- DEAL_GRACE_DAYS_ACC_MAX: double (nullable = true)\n",
      " |-- TURNOVER_DYNAMIC_PAYM_3M: double (nullable = true)\n",
      " |-- LDEAL_DELINQ_PER_MAXYQZ: double (nullable = true)\n",
      " |-- TURNOVER_DYNAMIC_PAYM_1M: double (nullable = true)\n",
      " |-- CLNT_SALARY_VALUE: double (nullable = true)\n",
      " |-- TRANS_AMOUNT_TENDENCY3M: double (nullable = true)\n",
      " |-- MED_DEBT_PRC_YQZ: double (nullable = true)\n",
      " |-- TRANS_CNT_TENDENCY3M: double (nullable = true)\n",
      " |-- LDEAL_USED_AMT_AVG_YQZ: double (nullable = true)\n",
      " |-- REST_DYNAMIC_CC_1M: double (nullable = true)\n",
      " |-- LDEAL_USED_AMT_AVG_YWZ: double (nullable = true)\n",
      " |-- TURNOVER_DYNAMIC_CC_1M: double (nullable = true)\n",
      " |-- AVG_PCT_DEBT_TO_DEAL_AMT: double (nullable = true)\n",
      " |-- LDEAL_ACT_DAYS_ACC_PCT_AVG: double (nullable = true)\n",
      " |-- REST_DYNAMIC_CC_3M: double (nullable = true)\n",
      " |-- MED_DEBT_PRC_YWZ: double (nullable = true)\n",
      " |-- LDEAL_ACT_DAYS_PCT_TR3: double (nullable = true)\n",
      " |-- LDEAL_ACT_DAYS_PCT_AAVG: double (nullable = true)\n",
      " |-- LDEAL_DELINQ_PER_MAXYWZ: double (nullable = true)\n",
      " |-- TURNOVER_DYNAMIC_CC_3M: double (nullable = true)\n",
      " |-- LDEAL_ACT_DAYS_PCT_TR: double (nullable = true)\n",
      " |-- LDEAL_ACT_DAYS_PCT_TR4: double (nullable = true)\n",
      " |-- LDEAL_ACT_DAYS_PCT_CURR: double (nullable = true)\n",
      "\n"
     ]
    }
   ],
   "source": [
    "testDfData.printSchema"
   ]
  },
  {
   "cell_type": "code",
   "execution_count": 213,
   "metadata": {},
   "outputs": [
    {
     "data": {
      "text/plain": [
       "testDfData = [_c0: int, ID: int ... 113 more fields]\n"
      ]
     },
     "metadata": {},
     "output_type": "display_data"
    },
    {
     "data": {
      "text/plain": [
       "[_c0: int, ID: int ... 113 more fields]"
      ]
     },
     "execution_count": 213,
     "metadata": {},
     "output_type": "execute_result"
    }
   ],
   "source": [
    "testDfData = testDfData\n",
    "    .na.fill(trainDf_means_map)\n",
    "    .withColumn(\"CLNT_JOB_POSITION_UPPER\", upper('CLNT_JOB_POSITION))\n",
    "    .drop(\"CLNT_JOB_POSITION\")\n",
    "    .withColumn(\"CLNT_JOB_POSITION_UPPER_1WORD\", regexp_replace('CLNT_JOB_POSITION_UPPER, \" \", \"\"))\n",
    "    .drop(\"CLNT_JOB_POSITION_UPPER\")\n",
    "    .withColumnRenamed(\"CLNT_JOB_POSITION_UPPER_1WORD\", \"CLNT_JOB_POSITION\")\n",
    "    .na.replace(\"CLNT_TRUST_RELATION\", CLNT_TRUST_RELATION_replaceData)\n",
    "    .na.replace(\"APP_MARITAL_STATUS\", APP_MARITAL_STATUS_replaceData)\n",
    "    .na.replace(\"APP_EDUCATION\", APP_EDUCATION_replaceData)\n",
    "    .drop(\"APP_COMP_TYPE\")"
   ]
  },
  {
   "cell_type": "code",
   "execution_count": 214,
   "metadata": {},
   "outputs": [
    {
     "data": {
      "text/plain": [
       "testDfCleaned = [_c0: int, ID: int ... 139 more fields]\n"
      ]
     },
     "metadata": {},
     "output_type": "display_data"
    },
    {
     "data": {
      "text/plain": [
       "[_c0: int, ID: int ... 139 more fields]"
      ]
     },
     "execution_count": 214,
     "metadata": {},
     "output_type": "execute_result"
    }
   ],
   "source": [
    "val testDfCleaned = model.transform(testDfData).cache"
   ]
  },
  {
   "cell_type": "code",
   "execution_count": 215,
   "metadata": {},
   "outputs": [
    {
     "data": {
      "text/plain": [
       "realPredictions = [_c0: int, ID: int ... 142 more fields]\n"
      ]
     },
     "metadata": {},
     "output_type": "display_data"
    },
    {
     "data": {
      "text/plain": [
       "[_c0: int, ID: int ... 142 more fields]"
      ]
     },
     "execution_count": 215,
     "metadata": {},
     "output_type": "execute_result"
    }
   ],
   "source": [
    "val realPredictions = randomForestModel.transform(testDfCleaned).cache"
   ]
  },
  {
   "cell_type": "code",
   "execution_count": 216,
   "metadata": {},
   "outputs": [
    {
     "data": {
      "text/plain": [
       "realPredictions = [_c0: int, ID: int ... 142 more fields]\n"
      ]
     },
     "metadata": {},
     "output_type": "display_data"
    },
    {
     "data": {
      "text/plain": [
       "[_c0: int, ID: int ... 142 more fields]"
      ]
     },
     "execution_count": 216,
     "metadata": {},
     "output_type": "execute_result"
    }
   ],
   "source": [
    "val realPredictions = GBTCModel.transform(testDfCleaned).cache"
   ]
  },
  {
   "cell_type": "code",
   "execution_count": 217,
   "metadata": {},
   "outputs": [
    {
     "name": "stdout",
     "output_type": "stream",
     "text": [
      "+------+--------------------+\n",
      "|    ID|          prediction|\n",
      "+------+--------------------+\n",
      "|519130|  0.1916535205040647|\n",
      "|234045|0.028549333891959572|\n",
      "|401256|0.025250971858566507|\n",
      "|551070|0.056142034782829864|\n",
      "|367285|0.030546019855911544|\n",
      "+------+--------------------+\n",
      "only showing top 5 rows\n",
      "\n"
     ]
    }
   ],
   "source": [
    "realPredictions\n",
    "    .withColumn(\"prediction\", vectorToArrayUdf(col(\"probability\")).getItem(1))\n",
    "    .select(\"ID\", \"prediction\")\n",
    "    .show(5)"
   ]
  },
  {
   "cell_type": "code",
   "execution_count": 221,
   "metadata": {},
   "outputs": [],
   "source": [
    "realPredictions\n",
    "    .withColumn(\"prediction\", vectorToArrayUdf(col(\"probability\")).getItem(1))\n",
    "    .select(\"ID\", \"prediction\")\n",
    "    .withColumnRenamed(\"prediction\", \"TARGET\")\n",
    "    .withColumnRenamed(\"ID\", \"id\")\n",
    "    .withColumnRenamed(\"TARGET\", \"target\")\n",
    "    .repartition(1)\n",
    "    .write\n",
    "    .mode(\"overwrite\")\n",
    "    .format(\"csv\")\n",
    "    .option(\"delimiter\", \"\\t\")\n",
    "    .option(\"header\", \"true\")\n",
    "    .save(\"lab05.csv\")"
   ]
  },
  {
   "cell_type": "code",
   "execution_count": 222,
   "metadata": {},
   "outputs": [
    {
     "name": "stdout",
     "output_type": "stream",
     "text": [
      "Found 2 items\n",
      "-rw-r--r--   3 alexander.kuznetsov alexander.kuznetsov          0 2021-03-29 18:27 lab05.csv/_SUCCESS\n",
      "-rw-r--r--   3 alexander.kuznetsov alexander.kuznetsov    1202255 2021-03-29 18:27 lab05.csv/part-00000-c08b584d-7cef-4b76-9339-2ab7c6fb94c4-c000.csv\n"
     ]
    },
    {
     "data": {
      "text/plain": [
       "warning: there was one feature warning; re-run with -feature for details\n"
      ]
     },
     "metadata": {},
     "output_type": "display_data"
    },
    {
     "data": {
      "text/plain": [
       "0"
      ]
     },
     "execution_count": 222,
     "metadata": {},
     "output_type": "execute_result"
    }
   ],
   "source": [
    "\"hdfs dfs -ls lab05.csv\" !"
   ]
  },
  {
   "cell_type": "code",
   "execution_count": 225,
   "metadata": {},
   "outputs": [
    {
     "data": {
      "text/plain": [
       "warning: there was one feature warning; re-run with -feature for details\n"
      ]
     },
     "metadata": {},
     "output_type": "display_data"
    },
    {
     "data": {
      "text/plain": [
       "0"
      ]
     },
     "execution_count": 225,
     "metadata": {},
     "output_type": "execute_result"
    }
   ],
   "source": [
    "\"hdfs dfs -get lab05.csv/part-00000-c08b584d-7cef-4b76-9339-2ab7c6fb94c4-c000.csv /data/home/alexander.kuznetsov/lab05.csv\" !"
   ]
  },
  {
   "cell_type": "code",
   "execution_count": 226,
   "metadata": {},
   "outputs": [
    {
     "name": "stdout",
     "output_type": "stream",
     "text": [
      "check_file.ipynb\n",
      "custom_regex_transformer_skeleton.ipynb\n",
      "lab01.ipynb\n",
      "lab01.json\n",
      "lab02.ipynb\n",
      "lab02.json\n",
      "lab03.csv\n",
      "lab03.ipynb\n",
      "lab04.ipynb\n",
      "lab05.csv\n",
      "lab05.ipynb\n"
     ]
    },
    {
     "data": {
      "text/plain": [
       "warning: there was one feature warning; re-run with -feature for details\n"
      ]
     },
     "metadata": {},
     "output_type": "display_data"
    },
    {
     "data": {
      "text/plain": [
       "0"
      ]
     },
     "execution_count": 226,
     "metadata": {},
     "output_type": "execute_result"
    }
   ],
   "source": [
    "\"ls\" !"
   ]
  },
  {
   "cell_type": "code",
   "execution_count": 227,
   "metadata": {},
   "outputs": [],
   "source": [
    "spark.stop()"
   ]
  },
  {
   "cell_type": "code",
   "execution_count": null,
   "metadata": {},
   "outputs": [],
   "source": []
  }
 ],
 "metadata": {
  "kernelspec": {
   "display_name": "Apache Toree - Scala",
   "language": "scala",
   "name": "apache_toree_scala"
  },
  "language_info": {
   "codemirror_mode": "text/x-scala",
   "file_extension": ".scala",
   "mimetype": "text/x-scala",
   "name": "scala",
   "pygments_lexer": "scala",
   "version": "2.11.12"
  }
 },
 "nbformat": 4,
 "nbformat_minor": 2
}
