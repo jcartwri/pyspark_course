{
 "cells": [
  {
   "cell_type": "code",
   "execution_count": 1,
   "metadata": {
    "scrolled": true
   },
   "outputs": [
    {
     "name": "stdout",
     "output_type": "stream",
     "text": [
      "Welcome to\n",
      "      ____              __\n",
      "     / __/__  ___ _____/ /__\n",
      "    _\\ \\/ _ \\/ _ `/ __/  '_/\n",
      "   /__ / .__/\\_,_/_/ /_/\\_\\   version 2.4.7\n",
      "      /_/\n",
      "\n",
      "Using Python version 3.6.5 (default, Apr 29 2018 16:14:56)\n",
      "SparkSession available as 'spark'.\n"
     ]
    }
   ],
   "source": [
    "import os\n",
    "import sys\n",
    "os.environ[\"PYSPARK_PYTHON\"]='/opt/anaconda/envs/bd9/bin/python'\n",
    "os.environ[\"SPARK_HOME\"]='/usr/hdp/current/spark2-client'\n",
    "os.environ[\"PYSPARK_SUBMIT_ARGS\"]='--num-executors 2 pyspark-shell'\n",
    "\n",
    "spark_home = os.environ.get('SPARK_HOME', None)\n",
    "\n",
    "sys.path.insert(0, os.path.join(spark_home, 'python'))\n",
    "sys.path.insert(0, os.path.join(spark_home, 'python/lib/py4j-0.10.7-src.zip'))\n",
    "exec(open(os.path.join(spark_home, 'python/pyspark/shell.py')).read())"
   ]
  },
  {
   "cell_type": "code",
   "execution_count": 2,
   "metadata": {},
   "outputs": [],
   "source": [
    "from pyspark import SparkConf\n",
    "from pyspark.sql import SparkSession\n",
    "\n",
    "conf = SparkConf()\n",
    "\n",
    "spark = SparkSession.builder.config(conf=conf).appName(\"nazim lab04\").getOrCreate()"
   ]
  },
  {
   "cell_type": "code",
   "execution_count": 3,
   "metadata": {},
   "outputs": [],
   "source": [
    "import pyspark.sql.functions as F\n",
    "from pyspark.sql.types import *\n",
    "from pyspark.ml import Pipeline\n",
    "from pyspark.ml.feature import CountVectorizer, StringIndexer, HashingTF, RegexTokenizer, StopWordsRemover, IDF, StandardScaler\n",
    "from pyspark.ml.classification import LogisticRegression\n",
    "from pyspark.ml.param.shared import HasInputCol, HasOutputCol\n",
    "from pyspark import keyword_only\n",
    "from pyspark.ml.param import Param, Params, TypeConverters\n",
    "from pyspark.ml import Transformer\n",
    "\n",
    "from pyspark.ml.classification import LogisticRegression, GBTClassifier"
   ]
  },
  {
   "cell_type": "code",
   "execution_count": 4,
   "metadata": {},
   "outputs": [],
   "source": [
    "import re\n",
    "import json"
   ]
  },
  {
   "cell_type": "code",
   "execution_count": 5,
   "metadata": {},
   "outputs": [],
   "source": [
    "path_to_train_data = '/labs/slaba04/'"
   ]
  },
  {
   "cell_type": "code",
   "execution_count": 6,
   "metadata": {
    "scrolled": true
   },
   "outputs": [
    {
     "name": "stdout",
     "output_type": "stream",
     "text": [
      "Found 1 items\r\n",
      "-rw-r--r--   3 hdfs hdfs  655090069 2021-02-27 22:13 /labs/slaba04/gender_age_dataset.txt\r\n"
     ]
    }
   ],
   "source": [
    "!hdfs dfs -ls /labs/slaba04/"
   ]
  },
  {
   "cell_type": "code",
   "execution_count": 7,
   "metadata": {},
   "outputs": [],
   "source": [
    "schema = StructType([StructField('gender', StringType()), \n",
    "                     StructField('age', StringType()),\n",
    "                     StructField('uid', StringType()),\n",
    "                     StructField('user_json', StringType())\n",
    "                    ]\n",
    "                   )\n",
    "\n",
    "train_data = spark.read.format(\"csv\")\\\n",
    "                       .option(\"inferSchema\", \"true\")\\\n",
    "                       .schema(schema)\\\n",
    "                       .option(\"header\", \"true\")\\\n",
    "                       .option(\"delimiter\", \"\\\\t\")\\\n",
    "                       .load(path_to_train_data)\n",
    "\n",
    "train_data = train_data.filter('age != \"-\" and gender != \"-\"')\n",
    "\n",
    "visits_schema = StructType([\n",
    "    StructField(\"visits\", ArrayType(\n",
    "      StructType([\n",
    "          StructField(\"url\", StringType()),\n",
    "          StructField(\"timestamp\", LongType())\n",
    "      ])\n",
    "   ))\n",
    "]) \n",
    "\n",
    "train_data = train_data.withColumn('visits', \n",
    "                                   F.from_json(F.col('user_json'),\n",
    "                                               schema=visits_schema\n",
    "                                              )\n",
    "                                  )\n",
    "\n",
    "train_data = train_data.withColumn('visited_pages', F.col('visits.visits.url'))\n",
    "\n",
    "train_data = train_data.withColumn('is_M', F.when(F.col(\"gender\") == 'M', 1).otherwise(0))\n",
    "\n",
    "train_data = train_data.withColumn(\"age_category\", F.when(F.col(\"age\") == '18-24', 0)\\\n",
    "                                                    .when(F.col(\"age\") == '25-34', 1)\\\n",
    "                                                    .when(F.col(\"age\") == '35-44', 2)\\\n",
    "                                                    .when(F.col(\"age\") == '45-54', 3)\\\n",
    "                                                    .otherwise(4)\n",
    "                                  )"
   ]
  },
  {
   "cell_type": "code",
   "execution_count": 15,
   "metadata": {},
   "outputs": [
    {
     "name": "stdout",
     "output_type": "stream",
     "text": [
      "+------+-----+--------------------+--------------------+--------------------+--------------------+----+------------+\n",
      "|gender|  age|                 uid|           user_json|              visits|       visited_pages|is_M|age_category|\n",
      "+------+-----+--------------------+--------------------+--------------------+--------------------+----+------------+\n",
      "|     F|18-24|d50192e5-c44e-4ae...|{\"visits\": [{\"url...|[[[http://zebra-z...|[http://zebra-zoy...|   0|           0|\n",
      "|     M|25-34|d502331d-621e-472...|{\"visits\": [{\"url...|[[[http://sweetra...|[http://sweetradi...|   1|           1|\n",
      "|     F|25-34|d50237ea-747e-48a...|{\"visits\": [{\"url...|[[[http://ru.orif...|[http://ru.orifla...|   0|           1|\n",
      "|     F|25-34|d502f29f-d57a-46b...|{\"visits\": [{\"url...|[[[http://transla...|[http://translate...|   0|           1|\n",
      "|     M| >=55|d503c3b2-a0c2-4f4...|{\"visits\": [{\"url...|[[[https://mail.r...|[https://mail.ram...|   1|           4|\n",
      "+------+-----+--------------------+--------------------+--------------------+--------------------+----+------------+\n",
      "only showing top 5 rows\n",
      "\n"
     ]
    }
   ],
   "source": [
    "train_data.show(5)"
   ]
  },
  {
   "cell_type": "code",
   "execution_count": 8,
   "metadata": {},
   "outputs": [],
   "source": [
    "@F.udf(returnType=ArrayType(StringType()))\n",
    "def extr_words(user_sites):\n",
    "    sites_cleaned = [re.sub(r'(http://|https://|www)', '', site) for site in user_sites]    \n",
    "    sites_cleaned = sum([re.findall(r'\\w+', site) for site in sites_cleaned], [])\n",
    "    sites_cleaned = [site for site in sites_cleaned if site.isalpha()]\n",
    "    return sites_cleaned\n",
    "\n",
    "class UTransformer(Transformer, HasInputCol, HasOutputCol):\n",
    "\n",
    "    @keyword_only\n",
    "    def __init__(self, inputCol=None, outputCol=None):\n",
    "        super(CleanSitesTransformer, self).__init__()\n",
    "        if inputCol is not None:\n",
    "            self.setInputCol(inputCol)\n",
    "        if outputCol is not None:\n",
    "            self.setOutputCol(outputCol)\n",
    "            \n",
    "    def _transform(self, dataset):\n",
    "        return dataset.withColumn(self.getOutputCol(), extr_words(F.col(self.getInputCol())))"
   ]
  },
  {
   "cell_type": "code",
   "execution_count": 9,
   "metadata": {},
   "outputs": [],
   "source": [
    "transformer_cleaner = Uransformer(inputCol=\"visited_pages\", outputCol=\"sites_words\")\n",
    "\n",
    "en_stopwords = StopWordsRemover.loadDefaultStopWords(\"english\")\n",
    "remover = StopWordsRemover(inputCol=\"sites_words\",\n",
    "                           outputCol=\"sites_words_filtered\",\n",
    "                           stopWords=en_stopwords)\n",
    "\n",
    "tf = HashingTF(inputCol=\"sites_words_filtered\", outputCol=\"tf\", numFeatures=15000)\n",
    "\n",
    "idf = IDF(inputCol=\"tf\", outputCol=\"tf_idf\")\n",
    "\n",
    "scaler = StandardScaler()\\\n",
    "         .setInputCol(\"tf_idf\")\\\n",
    "         .setOutputCol(\"tf_idf_norm\")\n",
    "\n",
    "\n",
    "gender_model = LogisticRegression(featuresCol='tf_idf_norm', \n",
    "                                  rawPredictionCol='rawPrediction_gender', \n",
    "                                  predictionCol='prediction_gender', \n",
    "                                  labelCol='is_M', \n",
    "                                  maxIter=25)\n",
    "\n",
    "\n",
    "pipeline1 = Pipeline(stages=[transformer_cleaner, remover, tf, idf, scaler, gender_model])"
   ]
  },
  {
   "cell_type": "code",
   "execution_count": 10,
   "metadata": {},
   "outputs": [],
   "source": [
    "age_model = LogisticRegression(featuresCol='tf_idf_norm', \n",
    "                               rawPredictionCol='rawPrediction_age', \n",
    "                               predictionCol='prediction_age', \n",
    "                               labelCol='age_category', \n",
    "                               maxIter=25, \n",
    "                               regParam=0.3)\n",
    "\n",
    "pipeline2 = Pipeline(stages=[age_model])"
   ]
  },
  {
   "cell_type": "code",
   "execution_count": 11,
   "metadata": {
    "scrolled": true
   },
   "outputs": [],
   "source": [
    "pipeline = pipeline.fit(train_data)\n",
    "scored_train_data = pipeline.transform(train_data)\n",
    "scored_train_data = scored_train_data.select([col for col in scored_train_data.columns if col != \"probability\"])\n",
    "pipeline = pipeline.fit(scored_train_data)\n",
    "scored_train_data = pipeline.transform(scored_train_data)"
   ]
  },
  {
   "cell_type": "code",
   "execution_count": 16,
   "metadata": {},
   "outputs": [],
   "source": [
    "read_kafka_params = {\n",
    "    \"kafka.bootstrap.servers\": \"spark-de-node-1.newprolab.com:6667\",\n",
    "    \"subscribe\": \"input_nazim.dzhavadov\",\n",
    "    \"startingOffsets\": \"earliest\"\n",
    "}\n",
    "\n",
    "write_kafka_params = {\n",
    "   \"kafka.bootstrap.servers\": \"spark-de-node-1.newprolab.com:6667\",\n",
    "   \"topic\": \"nazim.dzhavadov\"\n",
    "}"
   ]
  },
  {
   "cell_type": "code",
   "execution_count": 17,
   "metadata": {},
   "outputs": [],
   "source": [
    "scoring_data_schema = StructType([\n",
    "    StructField('uid', StringType()),\n",
    "    StructField('visits', StringType())\n",
    "]\n",
    ")\n",
    "\n",
    "scoring_data_visits_schema = ArrayType(\n",
    "      StructType([\n",
    "          StructField(\"url\", StringType()),\n",
    "          StructField(\"timestamp\", LongType())\n",
    "      ])\n",
    "   )\n",
    "\n",
    "def scoring_batch(batch_df, epoch_id):\n",
    "    scoring_data = batch_df.withColumn('weblog', F.from_json(F.col('value').cast(StringType()), \n",
    "                                                          scoring_data_schema)\n",
    "                                   ) \\\n",
    "                        .select('weblog.*') \\\n",
    "                        .select('uid', F.from_json(F.col('visits'), \n",
    "                                                   scoring_data_visits_schema).alias('visits')\n",
    "                               )\n",
    "    \n",
    "    scoring_data = scoring_data.withColumn('visited_pages', F.col('visits.url'))\n",
    "    \n",
    "    scoring_data = pipeline1.transform(scoring_data)\n",
    "    \n",
    "    scoring_data = scoring_data.select([col for col in scoring_data.columns if col != \"probability\"])\n",
    "    \n",
    "    scoring_data = pipeline2.transform(scoring_data)\n",
    "    \n",
    "    scoring_data = scoring_data.withColumn('gender', F.when(F.col(\"prediction_gender\") == 1, 'M').otherwise('F'))\n",
    "\n",
    "    scoring_data = scoring_data.withColumn(\"age\", F.when(F.col(\"prediction_age\") == 0, '18-24')\\\n",
    "                                                   .when(F.col(\"prediction_age\") == 1, '25-34')\\\n",
    "                                                   .when(F.col(\"prediction_age\") == 2, '35-44')\\\n",
    "                                                   .when(F.col(\"prediction_age\") == 3, '45-54')\\\n",
    "                                                   .otherwise('>=55')\n",
    "                                  )\n",
    "    \n",
    "    scoring_data = scoring_data.select('uid', 'gender', 'age')\n",
    "    \n",
    "    scoring_data = scoring_data.select(\n",
    "        F.to_json(\n",
    "            F.struct([scoring_data[x] for x in scoring_data.columns])\n",
    "        ).alias(\"value\") #.cast(StringType())\n",
    "                                      )\n",
    "    scoring_data.write\\\n",
    "     .format('kafka')\\\n",
    "     .options(**write_kafka_params)\\\n",
    "     .mode('append')\\\n",
    "     .save()\n",
    "    \n",
    "    pass"
   ]
  },
  {
   "cell_type": "code",
   "execution_count": 18,
   "metadata": {},
   "outputs": [],
   "source": [
    "def create_console_sink(df):\n",
    "    return df.writeStream\\\n",
    "            .foreachBatch(scoring_batch)\\\n",
    "            .option('checkpointLocation', 'streaming/chk/chk_kafka')"
   ]
  },
  {
   "cell_type": "code",
   "execution_count": 19,
   "metadata": {},
   "outputs": [],
   "source": [
    "kafka_df = spark.readStream.format(\"kafka\").options(**read_kafka_params).option(\"failOnDataLoss\", \"False\").load()\n",
    "#kafka_df = kafka_df.selectExpr(\"CAST(value AS STRING)\")"
   ]
  },
  {
   "cell_type": "code",
   "execution_count": 20,
   "metadata": {},
   "outputs": [
    {
     "data": {
      "text/plain": [
       "True"
      ]
     },
     "execution_count": 20,
     "metadata": {},
     "output_type": "execute_result"
    }
   ],
   "source": [
    "kafka_df.isStreaming"
   ]
  },
  {
   "cell_type": "code",
   "execution_count": 22,
   "metadata": {},
   "outputs": [],
   "source": [
    "sink = create_console_sink(kafka_df)"
   ]
  },
  {
   "cell_type": "code",
   "execution_count": 23,
   "metadata": {
    "scrolled": true
   },
   "outputs": [],
   "source": [
    "sq = sink.start()"
   ]
  },
  {
   "cell_type": "code",
   "execution_count": 24,
   "metadata": {},
   "outputs": [
    {
     "data": {
      "text/plain": [
       "True"
      ]
     },
     "execution_count": 24,
     "metadata": {},
     "output_type": "execute_result"
    }
   ],
   "source": [
    "sq.isActive"
   ]
  },
  {
   "cell_type": "code",
   "execution_count": 27,
   "metadata": {},
   "outputs": [
    {
     "data": {
      "text/plain": [
       "{'message': 'Waiting for data to arrive',\n",
       " 'isDataAvailable': False,\n",
       " 'isTriggerActive': False}"
      ]
     },
     "execution_count": 27,
     "metadata": {},
     "output_type": "execute_result"
    }
   ],
   "source": [
    "sq.status"
   ]
  },
  {
   "cell_type": "code",
   "execution_count": 26,
   "metadata": {
    "scrolled": false
   },
   "outputs": [
    {
     "name": "stdout",
     "output_type": "stream",
     "text": [
      "-RECORD 0------------------------------------------------------------------------------\n",
      " row       | {\"uid\":\"bd7a30e1-a25d-4cbf-a03f-61748cbe540e\",\"gender\":\"M\",\"age\":\"35-44\"} \n",
      " timestamp | 2021-03-25 20:28:39.787                                                   \n",
      "-RECORD 1------------------------------------------------------------------------------\n",
      " row       | {\"uid\":\"bd7a6f52-45db-49bf-90f2-a3b07a9b7bcd\",\"gender\":\"F\",\"age\":\"25-34\"} \n",
      " timestamp | 2021-03-25 20:28:55.522                                                   \n",
      "-RECORD 2------------------------------------------------------------------------------\n",
      " row       | {\"uid\":\"bd7a7fd9-ab06-42f5-bf0f-1cbb0463004c\",\"gender\":\"M\",\"age\":\"25-34\"} \n",
      " timestamp | 2021-03-25 20:28:55.524                                                   \n",
      "-RECORD 3------------------------------------------------------------------------------\n",
      " row       | {\"uid\":\"bd7c5d7a-0def-41d1-895f-fdb96c56c2d4\",\"gender\":\"M\",\"age\":\"35-44\"} \n",
      " timestamp | 2021-03-25 20:28:55.534                                                   \n",
      "-RECORD 4------------------------------------------------------------------------------\n",
      " row       | {\"uid\":\"bd7e54a2-0215-45cb-a869-9efebf250e38\",\"gender\":\"F\",\"age\":\"25-34\"} \n",
      " timestamp | 2021-03-25 20:28:55.535                                                   \n",
      "only showing top 5 rows\n",
      "\n"
     ]
    }
   ],
   "source": [
    "# .select(F.col('value').cast(StringType()).alias('row'))\n",
    "spark.read.format(\"kafka\").options(**{\n",
    "    \"kafka.bootstrap.servers\": \"spark-de-node-1.newprolab.com:6667\",\n",
    "    \"subscribe\": \"nazim.dzhavadov\",\n",
    "    \"startingOffsets\": \"earliest\"\n",
    "}).load().select(F.col('value').cast(StringType()).alias('row'), 'timestamp').show(5, vertical=True, truncate=False)"
   ]
  },
  {
   "cell_type": "code",
   "execution_count": null,
   "metadata": {},
   "outputs": [],
   "source": []
  },
  {
   "cell_type": "markdown",
   "metadata": {},
   "source": [
    "## spark.stop()"
   ]
  },
  {
   "cell_type": "code",
   "execution_count": 28,
   "metadata": {},
   "outputs": [],
   "source": [
    "spark.stop()"
   ]
  },
  {
   "cell_type": "code",
   "execution_count": null,
   "metadata": {},
   "outputs": [],
   "source": []
  },
  {
   "cell_type": "code",
   "execution_count": null,
   "metadata": {},
   "outputs": [],
   "source": []
  },
  {
   "cell_type": "code",
   "execution_count": null,
   "metadata": {},
   "outputs": [],
   "source": []
  }
 ],
 "metadata": {
  "kernelspec": {
   "display_name": "Python 3",
   "language": "python",
   "name": "python3"
  },
  "language_info": {
   "codemirror_mode": {
    "name": "ipython",
    "version": 3
   },
   "file_extension": ".py",
   "mimetype": "text/x-python",
   "name": "python",
   "nbconvert_exporter": "python",
   "pygments_lexer": "ipython3",
   "version": "3.6.5"
  }
 },
 "nbformat": 4,
 "nbformat_minor": 2
}
