{
 "cells": [
  {
   "cell_type": "markdown",
   "metadata": {},
   "source": [
    "# Вариант 10"
   ]
  },
  {
   "cell_type": "markdown",
   "metadata": {},
   "source": [
    "[[23126, u'en', u'Compass - powerful SASS library that makes your life easier'], [21617, u'en', u'Preparing for the AP* Computer Science A Exam \\u2014 Part 2'], [16627, u'es', u'Aprende Excel: Nivel Intermedio by Alfonso Rinsche'], [11556, u'es', u'Aprendizaje Colaborativo by UNID Universidad Interamericana para el Desarrollo'], [16704, u'ru', u'\\u041f\\u0440\\u043e\\u0433\\u0440\\u0430\\u043c\\u043c\\u0438\\u0440\\u043e\\u0432\\u0430\\u043d\\u0438\\u0435 \\u043d\\u0430 Lazarus'], [13702, u'ru', u'\\u041c\\u0430\\u0442\\u0435\\u043c\\u0430\\u0442\\u0438\\u0447\\u0435\\u0441\\u043a\\u0430\\u044f \\u044d\\u043a\\u043e\\u043d\\u043e\\u043c\\u0438\\u043a\\u0430']]"
   ]
  },
  {
   "cell_type": "code",
   "execution_count": 1,
   "metadata": {},
   "outputs": [],
   "source": [
    "import os\n",
    "import sys\n",
    "os.environ[\"PYSPARK_PYTHON\"]='/opt/anaconda/envs/bd9/bin/python'\n",
    "os.environ[\"SPARK_HOME\"]='/usr/hdp/current/spark2-client'\n",
    "os.environ[\"PYSPARK_SUBMIT_ARGS\"]='--num-executors 3 pyspark-shell'\n",
    "\n",
    "spark_home = os.environ.get('SPARK_HOME', None)\n",
    "\n",
    "sys.path.insert(0, os.path.join(spark_home, 'python'))\n",
    "sys.path.insert(0, os.path.join(spark_home, 'python/lib/py4j-0.10.7-src.zip'))"
   ]
  },
  {
   "cell_type": "code",
   "execution_count": 16,
   "metadata": {},
   "outputs": [],
   "source": [
    "from pyspark import SparkConf\n",
    "from pyspark.sql import SparkSession\n",
    "\n",
    "conf = SparkConf()\n",
    "conf.set(\"spark.app.name\", \"tatiana.inkhireeva 2\") \n",
    "\n",
    "spark = SparkSession.builder.config(conf=conf).getOrCreate()"
   ]
  },
  {
   "cell_type": "code",
   "execution_count": 69,
   "metadata": {},
   "outputs": [],
   "source": [
    "df = spark.read.json('/labs/slaba02/DO_record_per_line.json')"
   ]
  },
  {
   "cell_type": "code",
   "execution_count": 72,
   "metadata": {},
   "outputs": [],
   "source": [
    "from pyspark.sql.types import StructType, StructField, StringType, LongType, ArrayType, FloatType\n",
    "\n",
    "import pyspark.sql.functions as f"
   ]
  },
  {
   "cell_type": "code",
   "execution_count": 5,
   "metadata": {},
   "outputs": [],
   "source": [
    "schema = StructType(fields=[\n",
    "    StructField(\"id\", LongType()),\n",
    "    StructField(\"lang\", StringType()),\n",
    "    StructField(\"name\", StringType()),\n",
    "])"
   ]
  },
  {
   "cell_type": "code",
   "execution_count": 18,
   "metadata": {},
   "outputs": [],
   "source": [
    "given_courses = spark.createDataFrame(\n",
    "                schema=schema,\n",
    "                data=[[23126, u'en', u'Compass - powerful SASS library that makes your life easier'], \n",
    "                 [21617, u'en', u'Preparing for the AP* Computer Science A Exam \\u2014 Part 2'], \n",
    "                 [16627, u'es', u'Aprende Excel: Nivel Intermedio by Alfonso Rinsche'], \n",
    "                 [11556, u'es', u'Aprendizaje Colaborativo by UNID Universidad Interamericana para el Desarrollo'], \n",
    "                 [16704, u'ru', u'\\u041f\\u0440\\u043e\\u0433\\u0440\\u0430\\u043c\\u043c\\u0438\\u0440\\u043e\\u0432\\u0430\\u043d\\u0438\\u0435 \\u043d\\u0430 Lazarus'], \n",
    "                 [13702, u'ru', u'\\u041c\\u0430\\u0442\\u0435\\u043c\\u0430\\u0442\\u0438\\u0447\\u0435\\u0441\\u043a\\u0430\\u044f \\u044d\\u043a\\u043e\\u043d\\u043e\\u043c\\u0438\\u043a\\u0430']]\n",
    ")"
   ]
  },
  {
   "cell_type": "code",
   "execution_count": 19,
   "metadata": {},
   "outputs": [],
   "source": [
    "given_courses = given_courses.persist()"
   ]
  },
  {
   "cell_type": "markdown",
   "metadata": {},
   "source": [
    "Calculate TF-IDF"
   ]
  },
  {
   "cell_type": "code",
   "execution_count": 8,
   "metadata": {},
   "outputs": [],
   "source": [
    "from pyspark.ml.feature import HashingTF, IDF, Tokenizer, Normalizer"
   ]
  },
  {
   "cell_type": "code",
   "execution_count": 70,
   "metadata": {},
   "outputs": [],
   "source": [
    "tokenizer = Tokenizer(inputCol=\"desc\", outputCol=\"words\")\n",
    "df = tokenizer.transform(df)\n",
    "\n",
    "hashingTF = HashingTF(inputCol=\"words\", outputCol=\"tf\", numFeatures=10000)\n",
    "df = hashingTF.transform(df)\n",
    "\n",
    "idf = IDF(inputCol=\"tf\", outputCol=\"tfidf\")\n",
    "idfModel = idf.fit(df)\n",
    "df = idfModel.transform(df)\n",
    "\n",
    "normalizer = Normalizer(inputCol='tfidf', outputCol='tfidf_norm')\n",
    "df = normalizer.transform(df)"
   ]
  },
  {
   "cell_type": "markdown",
   "metadata": {},
   "source": [
    "Calculate cosine distance"
   ]
  },
  {
   "cell_type": "code",
   "execution_count": 73,
   "metadata": {},
   "outputs": [],
   "source": [
    "dotProductUdf = f.udf(lambda v1, v2: float(v1.dot(v2)), FloatType())"
   ]
  },
  {
   "cell_type": "markdown",
   "metadata": {},
   "source": [
    "23126"
   ]
  },
  {
   "cell_type": "code",
   "execution_count": 22,
   "metadata": {},
   "outputs": [],
   "source": [
    "df = df.crossJoin(df.filter(f.col('id') == '23126').select(f.col('tfidf_norm').alias('c1')))"
   ]
  },
  {
   "cell_type": "code",
   "execution_count": 26,
   "metadata": {
    "scrolled": true
   },
   "outputs": [
    {
     "name": "stderr",
     "output_type": "stream",
     "text": [
      "/usr/hdp/current/spark2-client/python/pyspark/sql/dataframe.py:2111: UserWarning: toPandas attempted Arrow optimization because 'spark.sql.execution.arrow.enabled' is set to true; however, failed by the reason below:\n",
      "  Unsupported type in conversion to Arrow: VectorUDT\n",
      "Attempting non-optimization as 'spark.sql.execution.arrow.fallback.enabled' is set to true.\n",
      "  warnings.warn(msg)\n"
     ]
    }
   ],
   "source": [
    "result = df.withColumn('cosine_sim', dotProductUdf('tfidf_norm', 'c1')).drop('tfidf', 'tfidf_norm', 'tf')\\\n",
    ".orderBy(f.col('cosine_sim').desc()).limit(15).toPandas()"
   ]
  },
  {
   "cell_type": "code",
   "execution_count": 28,
   "metadata": {},
   "outputs": [],
   "source": [
    "output = dict()"
   ]
  },
  {
   "cell_type": "code",
   "execution_count": 32,
   "metadata": {},
   "outputs": [],
   "source": [
    "output[result['id'][0].tolist()] = result['id'][1:11].tolist()"
   ]
  },
  {
   "cell_type": "markdown",
   "metadata": {},
   "source": [
    "21617"
   ]
  },
  {
   "cell_type": "code",
   "execution_count": 31,
   "metadata": {},
   "outputs": [
    {
     "data": {
      "text/plain": [
       "23126"
      ]
     },
     "execution_count": 31,
     "metadata": {},
     "output_type": "execute_result"
    }
   ],
   "source": [
    "result['id'][0].tolist()"
   ]
  },
  {
   "cell_type": "code",
   "execution_count": 33,
   "metadata": {},
   "outputs": [],
   "source": [
    "df = df.crossJoin(df.filter(f.col('id') == '21617').select(f.col('tfidf_norm').alias('c2')))"
   ]
  },
  {
   "cell_type": "code",
   "execution_count": 34,
   "metadata": {},
   "outputs": [
    {
     "name": "stderr",
     "output_type": "stream",
     "text": [
      "/usr/hdp/current/spark2-client/python/pyspark/sql/dataframe.py:2111: UserWarning: toPandas attempted Arrow optimization because 'spark.sql.execution.arrow.enabled' is set to true; however, failed by the reason below:\n",
      "  Unsupported type in conversion to Arrow: VectorUDT\n",
      "Attempting non-optimization as 'spark.sql.execution.arrow.fallback.enabled' is set to true.\n",
      "  warnings.warn(msg)\n"
     ]
    }
   ],
   "source": [
    "result = df.withColumn('cosine_sim', dotProductUdf('tfidf_norm', 'c2')).drop('tfidf', 'tfidf_norm', 'tf')\\\n",
    ".orderBy(f.col('cosine_sim').desc()).limit(15).toPandas()"
   ]
  },
  {
   "cell_type": "code",
   "execution_count": 36,
   "metadata": {},
   "outputs": [],
   "source": [
    "output[result['id'][0].tolist()] = result['id'][1:11].tolist()"
   ]
  },
  {
   "cell_type": "markdown",
   "metadata": {},
   "source": [
    "16627"
   ]
  },
  {
   "cell_type": "code",
   "execution_count": null,
   "metadata": {},
   "outputs": [],
   "source": [
    "df = df.crossJoin(df.filter(f.col('id') == '16627').select(f.col('tfidf_norm').alias('c3')))"
   ]
  },
  {
   "cell_type": "code",
   "execution_count": 38,
   "metadata": {},
   "outputs": [
    {
     "name": "stderr",
     "output_type": "stream",
     "text": [
      "/usr/hdp/current/spark2-client/python/pyspark/sql/dataframe.py:2111: UserWarning: toPandas attempted Arrow optimization because 'spark.sql.execution.arrow.enabled' is set to true; however, failed by the reason below:\n",
      "  Unsupported type in conversion to Arrow: VectorUDT\n",
      "Attempting non-optimization as 'spark.sql.execution.arrow.fallback.enabled' is set to true.\n",
      "  warnings.warn(msg)\n"
     ]
    }
   ],
   "source": [
    "result = df.withColumn('cosine_sim', dotProductUdf('tfidf_norm', 'c3')).drop('tfidf', 'tfidf_norm', 'tf')\\\n",
    ".orderBy(f.col('cosine_sim').desc()).limit(15).toPandas()"
   ]
  },
  {
   "cell_type": "code",
   "execution_count": 41,
   "metadata": {},
   "outputs": [],
   "source": [
    "output[result['id'][0].tolist()] = result['id'][1:11].tolist()"
   ]
  },
  {
   "cell_type": "markdown",
   "metadata": {},
   "source": [
    "11556"
   ]
  },
  {
   "cell_type": "code",
   "execution_count": 50,
   "metadata": {},
   "outputs": [],
   "source": [
    "df = df.crossJoin(df.filter(f.col('id') == '11556').select(f.col('tfidf_norm').alias('c4')))"
   ]
  },
  {
   "cell_type": "code",
   "execution_count": 51,
   "metadata": {
    "scrolled": true
   },
   "outputs": [
    {
     "name": "stderr",
     "output_type": "stream",
     "text": [
      "/usr/hdp/current/spark2-client/python/pyspark/sql/dataframe.py:2111: UserWarning: toPandas attempted Arrow optimization because 'spark.sql.execution.arrow.enabled' is set to true; however, failed by the reason below:\n",
      "  Unsupported type in conversion to Arrow: VectorUDT\n",
      "Attempting non-optimization as 'spark.sql.execution.arrow.fallback.enabled' is set to true.\n",
      "  warnings.warn(msg)\n"
     ]
    }
   ],
   "source": [
    "result = df.withColumn('cosine_sim', dotProductUdf('tfidf_norm', 'c4')).drop('tfidf', 'tfidf_norm', 'tf')\\\n",
    ".orderBy(f.col('cosine_sim').desc()).limit(15).toPandas()"
   ]
  },
  {
   "cell_type": "code",
   "execution_count": 52,
   "metadata": {},
   "outputs": [],
   "source": [
    "output[result['id'][0].tolist()] = result['id'][1:11].tolist()"
   ]
  },
  {
   "cell_type": "markdown",
   "metadata": {},
   "source": [
    "16704"
   ]
  },
  {
   "cell_type": "code",
   "execution_count": 53,
   "metadata": {},
   "outputs": [],
   "source": [
    "df = df.crossJoin(df.filter(f.col('id') == '16704').select(f.col('tfidf_norm').alias('c5')))"
   ]
  },
  {
   "cell_type": "code",
   "execution_count": 54,
   "metadata": {},
   "outputs": [
    {
     "name": "stderr",
     "output_type": "stream",
     "text": [
      "/usr/hdp/current/spark2-client/python/pyspark/sql/dataframe.py:2111: UserWarning: toPandas attempted Arrow optimization because 'spark.sql.execution.arrow.enabled' is set to true; however, failed by the reason below:\n",
      "  Unsupported type in conversion to Arrow: VectorUDT\n",
      "Attempting non-optimization as 'spark.sql.execution.arrow.fallback.enabled' is set to true.\n",
      "  warnings.warn(msg)\n"
     ]
    }
   ],
   "source": [
    "result = df.withColumn('cosine_sim', dotProductUdf('tfidf_norm', 'c5')).drop('tfidf', 'tfidf_norm', 'tf')\\\n",
    ".orderBy(f.col('cosine_sim').desc()).limit(15).toPandas()"
   ]
  },
  {
   "cell_type": "code",
   "execution_count": 55,
   "metadata": {},
   "outputs": [],
   "source": [
    "output[result['id'][0].tolist()] = result['id'][1:11].tolist()"
   ]
  },
  {
   "cell_type": "code",
   "execution_count": 56,
   "metadata": {},
   "outputs": [
    {
     "data": {
      "text/plain": [
       "{23126: [13782, 13665, 24419, 20638, 2724, 25782, 2633, 2723, 13348, 15909],\n",
       " 21617: [21609, 21608, 21616, 21492, 21624, 21623, 21630, 21628, 21508, 21857],\n",
       " 16627: [11431, 12247, 13021, 25010, 11575, 5687, 9598, 5372, 12863, 16769],\n",
       " 11556: [16488, 13461, 468, 10447, 387, 22710, 9289, 5936, 23357, 7833],\n",
       " 16704: [3864, 23407, 1365, 20645, 20105, 1426, 8217, 1236, 1164, 23864]}"
      ]
     },
     "execution_count": 56,
     "metadata": {},
     "output_type": "execute_result"
    }
   ],
   "source": [
    "output"
   ]
  },
  {
   "cell_type": "markdown",
   "metadata": {},
   "source": [
    "13702"
   ]
  },
  {
   "cell_type": "code",
   "execution_count": 74,
   "metadata": {},
   "outputs": [],
   "source": [
    "df = df.crossJoin(df.filter(f.col('id') == '13702').select(f.col('tfidf_norm').alias('c6')))"
   ]
  },
  {
   "cell_type": "code",
   "execution_count": 75,
   "metadata": {},
   "outputs": [
    {
     "name": "stderr",
     "output_type": "stream",
     "text": [
      "/usr/hdp/current/spark2-client/python/pyspark/sql/dataframe.py:2111: UserWarning: toPandas attempted Arrow optimization because 'spark.sql.execution.arrow.enabled' is set to true; however, failed by the reason below:\n",
      "  Unsupported type in conversion to Arrow: VectorUDT\n",
      "Attempting non-optimization as 'spark.sql.execution.arrow.fallback.enabled' is set to true.\n",
      "  warnings.warn(msg)\n"
     ]
    }
   ],
   "source": [
    "result = df.withColumn('cosine_sim', dotProductUdf('tfidf_norm', 'c6')).drop('tfidf', 'tfidf_norm', 'tf')\\\n",
    ".orderBy(f.col('cosine_sim').desc()).limit(15).toPandas()"
   ]
  },
  {
   "cell_type": "code",
   "execution_count": 88,
   "metadata": {},
   "outputs": [],
   "source": [
    "output[result['id'][1].tolist()] = [result['id'][0].tolist()] + result['id'][2:11].tolist()"
   ]
  },
  {
   "cell_type": "code",
   "execution_count": 86,
   "metadata": {},
   "outputs": [
    {
     "data": {
      "text/html": [
       "<div>\n",
       "<style scoped>\n",
       "    .dataframe tbody tr th:only-of-type {\n",
       "        vertical-align: middle;\n",
       "    }\n",
       "\n",
       "    .dataframe tbody tr th {\n",
       "        vertical-align: top;\n",
       "    }\n",
       "\n",
       "    .dataframe thead th {\n",
       "        text-align: right;\n",
       "    }\n",
       "</style>\n",
       "<table border=\"1\" class=\"dataframe\">\n",
       "  <thead>\n",
       "    <tr style=\"text-align: right;\">\n",
       "      <th></th>\n",
       "      <th>cat</th>\n",
       "      <th>desc</th>\n",
       "      <th>id</th>\n",
       "      <th>lang</th>\n",
       "      <th>name</th>\n",
       "      <th>provider</th>\n",
       "      <th>words</th>\n",
       "      <th>c6</th>\n",
       "      <th>cosine_sim</th>\n",
       "    </tr>\n",
       "  </thead>\n",
       "  <tbody>\n",
       "    <tr>\n",
       "      <th>0</th>\n",
       "      <td>6/economics_finance|15/mathematics_statistics_...</td>\n",
       "      <td>Математическая экономика – это набор моделей в...</td>\n",
       "      <td>864</td>\n",
       "      <td>ru</td>\n",
       "      <td>Математическая экономика</td>\n",
       "      <td>Intuit</td>\n",
       "      <td>[математическая, экономика, –, это, набор, мод...</td>\n",
       "      <td>(0.0, 0.0, 0.0, 0.0, 0.0, 0.0, 0.0, 0.0, 0.0, ...</td>\n",
       "      <td>1.000000</td>\n",
       "    </tr>\n",
       "    <tr>\n",
       "      <th>1</th>\n",
       "      <td>6/economics_finance|15/mathematics_statistics_...</td>\n",
       "      <td>Математическая экономика – это набор моделей в...</td>\n",
       "      <td>13702</td>\n",
       "      <td>ru</td>\n",
       "      <td>Математическая экономика</td>\n",
       "      <td>Intuit</td>\n",
       "      <td>[математическая, экономика, –, это, набор, мод...</td>\n",
       "      <td>(0.0, 0.0, 0.0, 0.0, 0.0, 0.0, 0.0, 0.0, 0.0, ...</td>\n",
       "      <td>1.000000</td>\n",
       "    </tr>\n",
       "    <tr>\n",
       "      <th>2</th>\n",
       "      <td>13/physics|15/mathematics_statistics_and_data_...</td>\n",
       "      <td>В курсе дается введение в основные математичес...</td>\n",
       "      <td>1216</td>\n",
       "      <td>ru</td>\n",
       "      <td>Введение в математические модели механики спло...</td>\n",
       "      <td>Intuit</td>\n",
       "      <td>[в, курсе, дается, введение, в, основные, мате...</td>\n",
       "      <td>(0.0, 0.0, 0.0, 0.0, 0.0, 0.0, 0.0, 0.0, 0.0, ...</td>\n",
       "      <td>0.225345</td>\n",
       "    </tr>\n",
       "    <tr>\n",
       "      <th>3</th>\n",
       "      <td>5/computer_science</td>\n",
       "      <td>Интерактивный курс обучает основам программиро...</td>\n",
       "      <td>7173</td>\n",
       "      <td>ru</td>\n",
       "      <td>Python, структуры данных для начинающих. (осно...</td>\n",
       "      <td>Acodemy</td>\n",
       "      <td>[интерактивный, курс, обучает, основам, програ...</td>\n",
       "      <td>(0.0, 0.0, 0.0, 0.0, 0.0, 0.0, 0.0, 0.0, 0.0, ...</td>\n",
       "      <td>0.223182</td>\n",
       "    </tr>\n",
       "    <tr>\n",
       "      <th>4</th>\n",
       "      <td>6/economics_finance</td>\n",
       "      <td>Потребление сегодня – не просто средство обесп...</td>\n",
       "      <td>8313</td>\n",
       "      <td>ru</td>\n",
       "      <td>Российские потребители: как мы потребляем?</td>\n",
       "      <td>Universarium</td>\n",
       "      <td>[потребление, сегодня, –, не, просто, средство...</td>\n",
       "      <td>(0.0, 0.0, 0.0, 0.0, 0.0, 0.0, 0.0, 0.0, 0.0, ...</td>\n",
       "      <td>0.221726</td>\n",
       "    </tr>\n",
       "    <tr>\n",
       "      <th>5</th>\n",
       "      <td>3/business_management|6/economics_finance</td>\n",
       "      <td>В курсе рассмотрены классические понятия вопро...</td>\n",
       "      <td>1052</td>\n",
       "      <td>ru</td>\n",
       "      <td>Информационные технологии в экономике</td>\n",
       "      <td>Intuit</td>\n",
       "      <td>[в, курсе, рассмотрены, классические, понятия,...</td>\n",
       "      <td>(0.0, 0.0, 0.0, 0.0, 0.0, 0.0, 0.0, 0.0, 0.0, ...</td>\n",
       "      <td>0.219946</td>\n",
       "    </tr>\n",
       "    <tr>\n",
       "      <th>6</th>\n",
       "      <td>16/languages</td>\n",
       "      <td>Программа «Английский язык для путешествий» по...</td>\n",
       "      <td>17017</td>\n",
       "      <td>ru</td>\n",
       "      <td>Английский язык для путешествий</td>\n",
       "      <td>Lingvister</td>\n",
       "      <td>[программа, «английский, язык, для, путешестви...</td>\n",
       "      <td>(0.0, 0.0, 0.0, 0.0, 0.0, 0.0, 0.0, 0.0, 0.0, ...</td>\n",
       "      <td>0.212747</td>\n",
       "    </tr>\n",
       "    <tr>\n",
       "      <th>7</th>\n",
       "      <td>14/social_sciences</td>\n",
       "      <td>Прочувствуйте настоящую итальянскую дольче ви...</td>\n",
       "      <td>19613</td>\n",
       "      <td>ru</td>\n",
       "      <td>Римские каникулы - с пользой, интересно и не з...</td>\n",
       "      <td>Udemy</td>\n",
       "      <td>[, прочувствуйте, настоящую, итальянскую, доль...</td>\n",
       "      <td>(0.0, 0.0, 0.0, 0.0, 0.0, 0.0, 0.0, 0.0, 0.0, ...</td>\n",
       "      <td>0.212036</td>\n",
       "    </tr>\n",
       "    <tr>\n",
       "      <th>8</th>\n",
       "      <td></td>\n",
       "      <td>Нанометр – это тот же метр, только в миллиард ...</td>\n",
       "      <td>21017</td>\n",
       "      <td>ru</td>\n",
       "      <td>Введение в нанотехнологии</td>\n",
       "      <td>Universarium</td>\n",
       "      <td>[нанометр, –, это, тот, же, метр,, только, в, ...</td>\n",
       "      <td>(0.0, 0.0, 0.0, 0.0, 0.0, 0.0, 0.0, 0.0, 0.0, ...</td>\n",
       "      <td>0.210413</td>\n",
       "    </tr>\n",
       "    <tr>\n",
       "      <th>9</th>\n",
       "      <td>16/languages</td>\n",
       "      <td>Программа «Английский язык для менеджеров по р...</td>\n",
       "      <td>17015</td>\n",
       "      <td>ru</td>\n",
       "      <td>Английский язык для менеджеров по работе с кли...</td>\n",
       "      <td>Lingvister</td>\n",
       "      <td>[программа, «английский, язык, для, менеджеров...</td>\n",
       "      <td>(0.0, 0.0, 0.0, 0.0, 0.0, 0.0, 0.0, 0.0, 0.0, ...</td>\n",
       "      <td>0.206292</td>\n",
       "    </tr>\n",
       "    <tr>\n",
       "      <th>10</th>\n",
       "      <td>3/business_management</td>\n",
       "      <td>Объект изучения в курсе - кризисные ситуации, ...</td>\n",
       "      <td>8082</td>\n",
       "      <td>ru</td>\n",
       "      <td>Победитель кризисов в бизнесе</td>\n",
       "      <td>Universarium</td>\n",
       "      <td>[объект, изучения, в, курсе, -, кризисные, сит...</td>\n",
       "      <td>(0.0, 0.0, 0.0, 0.0, 0.0, 0.0, 0.0, 0.0, 0.0, ...</td>\n",
       "      <td>0.205190</td>\n",
       "    </tr>\n",
       "    <tr>\n",
       "      <th>11</th>\n",
       "      <td>5/computer_science</td>\n",
       "      <td>В курсе излагаются задачи и методы их решения ...</td>\n",
       "      <td>915</td>\n",
       "      <td>ru</td>\n",
       "      <td>Автоматизированное проектирование промышленных...</td>\n",
       "      <td>Intuit</td>\n",
       "      <td>[в, курсе, излагаются, задачи, и, методы, их, ...</td>\n",
       "      <td>(0.0, 0.0, 0.0, 0.0, 0.0, 0.0, 0.0, 0.0, 0.0, ...</td>\n",
       "      <td>0.204068</td>\n",
       "    </tr>\n",
       "    <tr>\n",
       "      <th>12</th>\n",
       "      <td></td>\n",
       "      <td>Курс посвящен основам картографии как области ...</td>\n",
       "      <td>21347</td>\n",
       "      <td>ru</td>\n",
       "      <td>Создаем цифровую Землю</td>\n",
       "      <td>Universarium</td>\n",
       "      <td>[курс, посвящен, основам, картографии, как, об...</td>\n",
       "      <td>(0.0, 0.0, 0.0, 0.0, 0.0, 0.0, 0.0, 0.0, 0.0, ...</td>\n",
       "      <td>0.202417</td>\n",
       "    </tr>\n",
       "    <tr>\n",
       "      <th>13</th>\n",
       "      <td>14/social_sciences|15/mathematics_statistics_a...</td>\n",
       "      <td>В курсе дается введение в основные элементы ли...</td>\n",
       "      <td>1091</td>\n",
       "      <td>ru</td>\n",
       "      <td>Элементы линейной алгебры для школьников</td>\n",
       "      <td>Intuit</td>\n",
       "      <td>[в, курсе, дается, введение, в, основные, элем...</td>\n",
       "      <td>(0.0, 0.0, 0.0, 0.0, 0.0, 0.0, 0.0, 0.0, 0.0, ...</td>\n",
       "      <td>0.195467</td>\n",
       "    </tr>\n",
       "    <tr>\n",
       "      <th>14</th>\n",
       "      <td>5/computer_science</td>\n",
       "      <td>В курсе дается краткое введение в параллельное...</td>\n",
       "      <td>20105</td>\n",
       "      <td>ru</td>\n",
       "      <td>Модели и средства программирования для многопр...</td>\n",
       "      <td>Intuit</td>\n",
       "      <td>[в, курсе, дается, краткое, введение, в, парал...</td>\n",
       "      <td>(0.0, 0.0, 0.0, 0.0, 0.0, 0.0, 0.0, 0.0, 0.0, ...</td>\n",
       "      <td>0.195053</td>\n",
       "    </tr>\n",
       "  </tbody>\n",
       "</table>\n",
       "</div>"
      ],
      "text/plain": [
       "                                                  cat  \\\n",
       "0   6/economics_finance|15/mathematics_statistics_...   \n",
       "1   6/economics_finance|15/mathematics_statistics_...   \n",
       "2   13/physics|15/mathematics_statistics_and_data_...   \n",
       "3                                  5/computer_science   \n",
       "4                                 6/economics_finance   \n",
       "5           3/business_management|6/economics_finance   \n",
       "6                                        16/languages   \n",
       "7                                  14/social_sciences   \n",
       "8                                                       \n",
       "9                                        16/languages   \n",
       "10                              3/business_management   \n",
       "11                                 5/computer_science   \n",
       "12                                                      \n",
       "13  14/social_sciences|15/mathematics_statistics_a...   \n",
       "14                                 5/computer_science   \n",
       "\n",
       "                                                 desc     id lang  \\\n",
       "0   Математическая экономика – это набор моделей в...    864   ru   \n",
       "1   Математическая экономика – это набор моделей в...  13702   ru   \n",
       "2   В курсе дается введение в основные математичес...   1216   ru   \n",
       "3   Интерактивный курс обучает основам программиро...   7173   ru   \n",
       "4   Потребление сегодня – не просто средство обесп...   8313   ru   \n",
       "5   В курсе рассмотрены классические понятия вопро...   1052   ru   \n",
       "6   Программа «Английский язык для путешествий» по...  17017   ru   \n",
       "7    Прочувствуйте настоящую итальянскую дольче ви...  19613   ru   \n",
       "8   Нанометр – это тот же метр, только в миллиард ...  21017   ru   \n",
       "9   Программа «Английский язык для менеджеров по р...  17015   ru   \n",
       "10  Объект изучения в курсе - кризисные ситуации, ...   8082   ru   \n",
       "11  В курсе излагаются задачи и методы их решения ...    915   ru   \n",
       "12  Курс посвящен основам картографии как области ...  21347   ru   \n",
       "13  В курсе дается введение в основные элементы ли...   1091   ru   \n",
       "14  В курсе дается краткое введение в параллельное...  20105   ru   \n",
       "\n",
       "                                                 name      provider  \\\n",
       "0                            Математическая экономика        Intuit   \n",
       "1                            Математическая экономика        Intuit   \n",
       "2   Введение в математические модели механики спло...        Intuit   \n",
       "3   Python, структуры данных для начинающих. (осно...       Acodemy   \n",
       "4          Российские потребители: как мы потребляем?  Universarium   \n",
       "5               Информационные технологии в экономике        Intuit   \n",
       "6                     Английский язык для путешествий    Lingvister   \n",
       "7   Римские каникулы - с пользой, интересно и не з...         Udemy   \n",
       "8                           Введение в нанотехнологии  Universarium   \n",
       "9   Английский язык для менеджеров по работе с кли...    Lingvister   \n",
       "10                      Победитель кризисов в бизнесе  Universarium   \n",
       "11  Автоматизированное проектирование промышленных...        Intuit   \n",
       "12                             Создаем цифровую Землю  Universarium   \n",
       "13           Элементы линейной алгебры для школьников        Intuit   \n",
       "14  Модели и средства программирования для многопр...        Intuit   \n",
       "\n",
       "                                                words  \\\n",
       "0   [математическая, экономика, –, это, набор, мод...   \n",
       "1   [математическая, экономика, –, это, набор, мод...   \n",
       "2   [в, курсе, дается, введение, в, основные, мате...   \n",
       "3   [интерактивный, курс, обучает, основам, програ...   \n",
       "4   [потребление, сегодня, –, не, просто, средство...   \n",
       "5   [в, курсе, рассмотрены, классические, понятия,...   \n",
       "6   [программа, «английский, язык, для, путешестви...   \n",
       "7   [, прочувствуйте, настоящую, итальянскую, доль...   \n",
       "8   [нанометр, –, это, тот, же, метр,, только, в, ...   \n",
       "9   [программа, «английский, язык, для, менеджеров...   \n",
       "10  [объект, изучения, в, курсе, -, кризисные, сит...   \n",
       "11  [в, курсе, излагаются, задачи, и, методы, их, ...   \n",
       "12  [курс, посвящен, основам, картографии, как, об...   \n",
       "13  [в, курсе, дается, введение, в, основные, элем...   \n",
       "14  [в, курсе, дается, краткое, введение, в, парал...   \n",
       "\n",
       "                                                   c6  cosine_sim  \n",
       "0   (0.0, 0.0, 0.0, 0.0, 0.0, 0.0, 0.0, 0.0, 0.0, ...    1.000000  \n",
       "1   (0.0, 0.0, 0.0, 0.0, 0.0, 0.0, 0.0, 0.0, 0.0, ...    1.000000  \n",
       "2   (0.0, 0.0, 0.0, 0.0, 0.0, 0.0, 0.0, 0.0, 0.0, ...    0.225345  \n",
       "3   (0.0, 0.0, 0.0, 0.0, 0.0, 0.0, 0.0, 0.0, 0.0, ...    0.223182  \n",
       "4   (0.0, 0.0, 0.0, 0.0, 0.0, 0.0, 0.0, 0.0, 0.0, ...    0.221726  \n",
       "5   (0.0, 0.0, 0.0, 0.0, 0.0, 0.0, 0.0, 0.0, 0.0, ...    0.219946  \n",
       "6   (0.0, 0.0, 0.0, 0.0, 0.0, 0.0, 0.0, 0.0, 0.0, ...    0.212747  \n",
       "7   (0.0, 0.0, 0.0, 0.0, 0.0, 0.0, 0.0, 0.0, 0.0, ...    0.212036  \n",
       "8   (0.0, 0.0, 0.0, 0.0, 0.0, 0.0, 0.0, 0.0, 0.0, ...    0.210413  \n",
       "9   (0.0, 0.0, 0.0, 0.0, 0.0, 0.0, 0.0, 0.0, 0.0, ...    0.206292  \n",
       "10  (0.0, 0.0, 0.0, 0.0, 0.0, 0.0, 0.0, 0.0, 0.0, ...    0.205190  \n",
       "11  (0.0, 0.0, 0.0, 0.0, 0.0, 0.0, 0.0, 0.0, 0.0, ...    0.204068  \n",
       "12  (0.0, 0.0, 0.0, 0.0, 0.0, 0.0, 0.0, 0.0, 0.0, ...    0.202417  \n",
       "13  (0.0, 0.0, 0.0, 0.0, 0.0, 0.0, 0.0, 0.0, 0.0, ...    0.195467  \n",
       "14  (0.0, 0.0, 0.0, 0.0, 0.0, 0.0, 0.0, 0.0, 0.0, ...    0.195053  "
      ]
     },
     "execution_count": 86,
     "metadata": {},
     "output_type": "execute_result"
    }
   ],
   "source": [
    "result"
   ]
  },
  {
   "cell_type": "code",
   "execution_count": 89,
   "metadata": {},
   "outputs": [
    {
     "data": {
      "text/plain": [
       "{23126: [13782, 13665, 24419, 20638, 2724, 25782, 2633, 2723, 13348, 15909],\n",
       " 21617: [21609, 21608, 21616, 21492, 21624, 21623, 21630, 21628, 21508, 21857],\n",
       " 16627: [11431, 12247, 13021, 25010, 11575, 5687, 9598, 5372, 12863, 16769],\n",
       " 11556: [16488, 13461, 468, 10447, 387, 22710, 9289, 5936, 23357, 7833],\n",
       " 16704: [3864, 23407, 1365, 20645, 20105, 1426, 8217, 1236, 1164, 23864],\n",
       " 13702: [864, 1216, 7173, 8313, 1052, 17017, 19613, 21017, 17015, 8082]}"
      ]
     },
     "execution_count": 89,
     "metadata": {},
     "output_type": "execute_result"
    }
   ],
   "source": [
    "output"
   ]
  },
  {
   "cell_type": "code",
   "execution_count": 90,
   "metadata": {},
   "outputs": [],
   "source": [
    "import json\n",
    "with open('lab02.json', 'w') as f:\n",
    "    json.dump(output, f)"
   ]
  },
  {
   "cell_type": "code",
   "execution_count": 92,
   "metadata": {},
   "outputs": [],
   "source": [
    "spark.stop()"
   ]
  }
 ],
 "metadata": {
  "kernelspec": {
   "display_name": "Python 3",
   "language": "python",
   "name": "python3"
  },
  "language_info": {
   "codemirror_mode": {
    "name": "ipython",
    "version": 3
   },
   "file_extension": ".py",
   "mimetype": "text/x-python",
   "name": "python",
   "nbconvert_exporter": "python",
   "pygments_lexer": "ipython3",
   "version": "3.6.5"
  }
 },
 "nbformat": 4,
 "nbformat_minor": 2
}
