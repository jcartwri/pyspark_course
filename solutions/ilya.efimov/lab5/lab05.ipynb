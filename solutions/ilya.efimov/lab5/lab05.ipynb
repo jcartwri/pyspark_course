{
 "cells": [
  {
   "cell_type": "code",
   "execution_count": 52,
   "metadata": {},
   "outputs": [
    {
     "data": {
      "text/plain": [
       "org.apache.spark.sql.SparkSession@11592b68"
      ]
     },
     "execution_count": 52,
     "metadata": {},
     "output_type": "execute_result"
    }
   ],
   "source": [
    "spark"
   ]
  },
  {
   "cell_type": "code",
   "execution_count": 53,
   "metadata": {},
   "outputs": [],
   "source": [
    "import org.apache.spark.sql.SparkSession\n",
    "import org.apache.spark.sql.functions._\n",
    "import org.apache.spark.sql.functions.{col}"
   ]
  },
  {
   "cell_type": "code",
   "execution_count": 54,
   "metadata": {},
   "outputs": [
    {
     "data": {
      "text/plain": [
       "spark = org.apache.spark.sql.SparkSession@11592b68\n"
      ]
     },
     "metadata": {},
     "output_type": "display_data"
    },
    {
     "data": {
      "text/plain": [
       "org.apache.spark.sql.SparkSession@11592b68"
      ]
     },
     "execution_count": 54,
     "metadata": {},
     "output_type": "execute_result"
    }
   ],
   "source": [
    "val spark = SparkSession.builder.appName(\"Spark ML\").getOrCreate()"
   ]
  },
  {
   "cell_type": "markdown",
   "metadata": {},
   "source": [
    "# Data preparation"
   ]
  },
  {
   "cell_type": "code",
   "execution_count": 55,
   "metadata": {},
   "outputs": [
    {
     "name": "stdout",
     "output_type": "stream",
     "text": [
      "-RECORD 0--------------------------------------------\n",
      " _c0                         | 0                     \n",
      " Unnamed: 0                  | 333149                \n",
      " ID                          | 479990                \n",
      " CR_PROD_CNT_IL              | 0                     \n",
      " AMOUNT_RUB_CLO_PRC          | 0.0                   \n",
      " PRC_ACCEPTS_A_EMAIL_LINK    | 0.0                   \n",
      " APP_REGISTR_RGN_CODE        | null                  \n",
      " PRC_ACCEPTS_A_POS           | 0.0                   \n",
      " PRC_ACCEPTS_A_TK            | 0.0                   \n",
      " TURNOVER_DYNAMIC_IL_1M      | 0.0                   \n",
      " CNT_TRAN_AUT_TENDENCY1M     | null                  \n",
      " SUM_TRAN_AUT_TENDENCY1M     | null                  \n",
      " AMOUNT_RUB_SUP_PRC          | 0.0                   \n",
      " PRC_ACCEPTS_A_AMOBILE       | 0.0                   \n",
      " SUM_TRAN_AUT_TENDENCY3M     | null                  \n",
      " CLNT_TRUST_RELATION         | null                  \n",
      " PRC_ACCEPTS_TK              | 0.0                   \n",
      " PRC_ACCEPTS_A_MTP           | 0.0                   \n",
      " REST_DYNAMIC_FDEP_1M        | 0.0                   \n",
      " CNT_TRAN_AUT_TENDENCY3M     | null                  \n",
      " CNT_ACCEPTS_TK              | 0.0                   \n",
      " APP_MARITAL_STATUS          | null                  \n",
      " REST_DYNAMIC_SAVE_3M        | 0.0                   \n",
      " CR_PROD_CNT_VCU             | 0.0                   \n",
      " REST_AVG_CUR                | 19069.6917166667      \n",
      " CNT_TRAN_MED_TENDENCY1M     | null                  \n",
      " APP_KIND_OF_PROP_HABITATION | null                  \n",
      " CLNT_JOB_POSITION_TYPE      | null                  \n",
      " AMOUNT_RUB_NAS_PRC          | 0.0                   \n",
      " CLNT_JOB_POSITION           | null                  \n",
      " APP_DRIVING_LICENSE         | null                  \n",
      " TRANS_COUNT_SUP_PRC         | 0.0                   \n",
      " APP_EDUCATION               | null                  \n",
      " CNT_TRAN_CLO_TENDENCY1M     | null                  \n",
      " SUM_TRAN_MED_TENDENCY1M     | null                  \n",
      " PRC_ACCEPTS_A_ATM           | 0.0                   \n",
      " PRC_ACCEPTS_MTP             | 0.0                   \n",
      " TRANS_COUNT_NAS_PRC         | 0.0                   \n",
      " APP_TRAVEL_PASS             | null                  \n",
      " CNT_ACCEPTS_MTP             | 0.0                   \n",
      " CR_PROD_CNT_TOVR            | 1.0                   \n",
      " APP_CAR                     | null                  \n",
      " CR_PROD_CNT_PIL             | 0.0                   \n",
      " SUM_TRAN_CLO_TENDENCY1M     | null                  \n",
      " APP_POSITION_TYPE           | null                  \n",
      " TURNOVER_CC                 | 0.0                   \n",
      " TRANS_COUNT_ATM_PRC         | 0.981818181818182     \n",
      " AMOUNT_RUB_ATM_PRC          | 0.9264718189135428    \n",
      " TURNOVER_PAYM               | 0.0                   \n",
      " AGE                         | 324.0                 \n",
      " CNT_TRAN_MED_TENDENCY3M     | null                  \n",
      " CR_PROD_CNT_CC              | 0.0                   \n",
      " SUM_TRAN_MED_TENDENCY3M     | null                  \n",
      " REST_DYNAMIC_FDEP_3M        | 0.0                   \n",
      " REST_DYNAMIC_IL_1M          | 0.0                   \n",
      " APP_EMP_TYPE                | null                  \n",
      " SUM_TRAN_CLO_TENDENCY3M     | null                  \n",
      " LDEAL_TENOR_MAX             | null                  \n",
      " LDEAL_YQZ_CHRG              | null                  \n",
      " CR_PROD_CNT_CCFP            | 0.0                   \n",
      " DEAL_YQZ_IR_MAX             | null                  \n",
      " LDEAL_YQZ_COM               | null                  \n",
      " DEAL_YQZ_IR_MIN             | null                  \n",
      " CNT_TRAN_CLO_TENDENCY3M     | null                  \n",
      " REST_DYNAMIC_CUR_1M         | 0.139327197286461     \n",
      " REST_AVG_PAYM               | 0.0                   \n",
      " LDEAL_TENOR_MIN             | null                  \n",
      " LDEAL_AMT_MONTH             | null                  \n",
      " APP_COMP_TYPE               | null                  \n",
      " LDEAL_GRACE_DAYS_PCT_MED    | 0.0                   \n",
      " REST_DYNAMIC_CUR_3M         | 0.244042416581524     \n",
      " CNT_TRAN_SUP_TENDENCY3M     | null                  \n",
      " TURNOVER_DYNAMIC_CUR_1M     | 0.14429972251526998   \n",
      " REST_DYNAMIC_PAYM_3M        | 0.0                   \n",
      " SUM_TRAN_SUP_TENDENCY3M     | null                  \n",
      " REST_DYNAMIC_IL_3M          | 0.0                   \n",
      " CNT_TRAN_ATM_TENDENCY3M     | 0.351851851851852     \n",
      " CNT_TRAN_ATM_TENDENCY1M     | 0.166666666666667     \n",
      " TURNOVER_DYNAMIC_IL_3M      | 0.0                   \n",
      " SUM_TRAN_ATM_TENDENCY3M     | 0.329320637235633     \n",
      " DEAL_GRACE_DAYS_ACC_S1X1    | 0.0                   \n",
      " AVG_PCT_MONTH_TO_PCLOSE     | null                  \n",
      " DEAL_YWZ_IR_MIN             | 45.0                  \n",
      " SUM_TRAN_SUP_TENDENCY1M     | null                  \n",
      " DEAL_YWZ_IR_MAX             | 45.0                  \n",
      " SUM_TRAN_ATM_TENDENCY1M     | 0.16790105289165602   \n",
      " REST_DYNAMIC_PAYM_1M        | 0.0                   \n",
      " CNT_TRAN_SUP_TENDENCY1M     | null                  \n",
      " DEAL_GRACE_DAYS_ACC_AVG     | 0.0                   \n",
      " TURNOVER_DYNAMIC_CUR_3M     | 0.30374965665416803   \n",
      " PACK                        | 102                   \n",
      " MAX_PCLOSE_DATE             | null                  \n",
      " LDEAL_YQZ_PC                | null                  \n",
      " CLNT_SETUP_TENOR            | 5.48000105784548      \n",
      " DEAL_GRACE_DAYS_ACC_MAX     | 0.0                   \n",
      " TURNOVER_DYNAMIC_PAYM_3M    | 0.0                   \n",
      " LDEAL_DELINQ_PER_MAXYQZ     | null                  \n",
      " TURNOVER_DYNAMIC_PAYM_1M    | 0.0                   \n",
      " CLNT_SALARY_VALUE           | null                  \n",
      " TRANS_AMOUNT_TENDENCY3M     | 0.305106289785464     \n",
      " MED_DEBT_PRC_YQZ            | null                  \n",
      " TRANS_CNT_TENDENCY3M        | 0.34545454545454496   \n",
      " LDEAL_USED_AMT_AVG_YQZ      | null                  \n",
      " REST_DYNAMIC_CC_1M          | 0.0                   \n",
      " LDEAL_USED_AMT_AVG_YWZ      | 1.0                   \n",
      " TURNOVER_DYNAMIC_CC_1M      | 0.0                   \n",
      " AVG_PCT_DEBT_TO_DEAL_AMT    | null                  \n",
      " LDEAL_ACT_DAYS_ACC_PCT_AVG  | 0.0035236081747709704 \n",
      " REST_DYNAMIC_CC_3M          | 0.0                   \n",
      " MED_DEBT_PRC_YWZ            | 0.0                   \n",
      " LDEAL_ACT_DAYS_PCT_TR3      | 0.0                   \n",
      " LDEAL_ACT_DAYS_PCT_AAVG     | 0.0                   \n",
      " LDEAL_DELINQ_PER_MAXYWZ     | 0.0                   \n",
      " TURNOVER_DYNAMIC_CC_3M      | 0.0                   \n",
      " LDEAL_ACT_DAYS_PCT_TR       | 0.0                   \n",
      " LDEAL_ACT_DAYS_PCT_TR4      | 0.0                   \n",
      " LDEAL_ACT_DAYS_PCT_CURR     | 0.0                   \n",
      " TARGET                      | 0.0                   \n",
      "only showing top 1 row\n",
      "\n"
     ]
    },
    {
     "data": {
      "text/plain": [
       "trainDf = [_c0: int, Unnamed: 0: int ... 116 more fields]\n"
      ]
     },
     "metadata": {},
     "output_type": "display_data"
    },
    {
     "data": {
      "text/plain": [
       "[_c0: int, Unnamed: 0: int ... 116 more fields]"
      ]
     },
     "execution_count": 55,
     "metadata": {},
     "output_type": "execute_result"
    }
   ],
   "source": [
    "var trainDf = spark\n",
    "    .read\n",
    "    .option(\"header\", true)\n",
    "    .option(\"inferSchema\", true)\n",
    "    .csv(\"lab05_train.csv\")\n",
    "    //.drop(\"_c0\", \"ID\")\n",
    "\n",
    "trainDf.show(1, 0, true)"
   ]
  },
  {
   "cell_type": "code",
   "execution_count": 56,
   "metadata": {},
   "outputs": [
    {
     "data": {
      "text/plain": [
       "categoriesCols = List(CLNT_TRUST_RELATION, APP_MARITAL_STATUS, APP_KIND_OF_PROP_HABITATION, CLNT_JOB_POSITION_TYPE, CLNT_JOB_POSITION, APP_DRIVING_LICENSE, APP_EDUCATION, APP_TRAVEL_PASS, APP_CAR, APP_POSITION_TYPE, APP_EMP_TYPE, APP_COMP_TYPE, PACK)\n"
      ]
     },
     "metadata": {},
     "output_type": "display_data"
    },
    {
     "data": {
      "text/plain": [
       "List(CLNT_TRUST_RELATION, APP_MARITAL_STATUS, APP_KIND_OF_PROP_HABITATION, CLNT_JOB_POSITION_TYPE, CLNT_JOB_POSITION, APP_DRIVING_LICENSE, APP_EDUCATION, APP_TRAVEL_PASS, APP_CAR, APP_POSITION_TYPE, APP_EMP_TYPE, APP_COMP_TYPE, PACK)"
      ]
     },
     "execution_count": 56,
     "metadata": {},
     "output_type": "execute_result"
    }
   ],
   "source": [
    "val categoriesCols = List(\n",
    "    \"CLNT_TRUST_RELATION\", \n",
    "    \"APP_MARITAL_STATUS\",\n",
    "    \"APP_KIND_OF_PROP_HABITATION\", \n",
    "    \"CLNT_JOB_POSITION_TYPE\",\n",
    "    \"CLNT_JOB_POSITION\", \n",
    "    \"APP_DRIVING_LICENSE\", \n",
    "    \"APP_EDUCATION\",\n",
    "    \"APP_TRAVEL_PASS\", \n",
    "    \"APP_CAR\", \n",
    "    \"APP_POSITION_TYPE\", \n",
    "    \"APP_EMP_TYPE\",\n",
    "    \"APP_COMP_TYPE\", \n",
    "    \"PACK\"\n",
    ")"
   ]
  },
  {
   "cell_type": "code",
   "execution_count": 57,
   "metadata": {},
   "outputs": [
    {
     "data": {
      "text/plain": [
       "trainDf = [_c0: int, Unnamed: 0: int ... 103 more fields]\n"
      ]
     },
     "metadata": {},
     "output_type": "display_data"
    },
    {
     "data": {
      "text/plain": [
       "[_c0: int, Unnamed: 0: int ... 103 more fields]"
      ]
     },
     "execution_count": 57,
     "metadata": {},
     "output_type": "execute_result"
    }
   ],
   "source": [
    "trainDf = trainDf.drop(categoriesCols:_*).na.fill(0)"
   ]
  },
  {
   "cell_type": "code",
   "execution_count": 58,
   "metadata": {},
   "outputs": [
    {
     "data": {
      "text/plain": [
       "trainDfTrain = [_c0: int, Unnamed: 0: int ... 103 more fields]\n",
       "trainDfTest = [_c0: int, Unnamed: 0: int ... 103 more fields]\n"
      ]
     },
     "metadata": {},
     "output_type": "display_data"
    },
    {
     "data": {
      "text/plain": [
       "[_c0: int, Unnamed: 0: int ... 103 more fields]"
      ]
     },
     "execution_count": 58,
     "metadata": {},
     "output_type": "execute_result"
    }
   ],
   "source": [
    "val Array(trainDfTrain, trainDfTest) = trainDf.randomSplit(Array(0.8, 0.2))"
   ]
  },
  {
   "cell_type": "code",
   "execution_count": null,
   "metadata": {},
   "outputs": [],
   "source": []
  },
  {
   "cell_type": "code",
   "execution_count": null,
   "metadata": {},
   "outputs": [],
   "source": []
  },
  {
   "cell_type": "markdown",
   "metadata": {},
   "source": [
    "# Train model"
   ]
  },
  {
   "cell_type": "code",
   "execution_count": 59,
   "metadata": {},
   "outputs": [],
   "source": [
    "import org.apache.spark.ml.classification.{RandomForestClassificationModel, RandomForestClassifier}\n",
    "import org.apache.spark.ml.feature.{VectorAssembler}"
   ]
  },
  {
   "cell_type": "code",
   "execution_count": 60,
   "metadata": {},
   "outputs": [
    {
     "data": {
      "text/plain": [
       "vectorAssembler = vecAssembler_68ecea3c3e80\n"
      ]
     },
     "metadata": {},
     "output_type": "display_data"
    },
    {
     "data": {
      "text/plain": [
       "vecAssembler_68ecea3c3e80"
      ]
     },
     "execution_count": 60,
     "metadata": {},
     "output_type": "execute_result"
    }
   ],
   "source": [
    "val vectorAssembler = new VectorAssembler()\n",
    "    .setInputCols(trainDfTrain.drop(\"TARGET\").columns)\n",
    "    .setOutputCol(\"features\")"
   ]
  },
  {
   "cell_type": "code",
   "execution_count": 61,
   "metadata": {},
   "outputs": [
    {
     "data": {
      "text/plain": [
       "trainDfCleaned = [_c0: int, Unnamed: 0: int ... 104 more fields]\n"
      ]
     },
     "metadata": {},
     "output_type": "display_data"
    },
    {
     "data": {
      "text/plain": [
       "[_c0: int, Unnamed: 0: int ... 104 more fields]"
      ]
     },
     "execution_count": 61,
     "metadata": {},
     "output_type": "execute_result"
    }
   ],
   "source": [
    "val trainDfCleaned = vectorAssembler.transform(trainDfTrain).cache"
   ]
  },
  {
   "cell_type": "code",
   "execution_count": 62,
   "metadata": {},
   "outputs": [
    {
     "name": "stdout",
     "output_type": "stream",
     "text": [
      "-RECORD 0----------------------------------------------------------------------------------------------------------------------------------------------------------------------------------------------------------------------------------------------------------------------------------------------------------------------------------------------------------------------------------------------------------------------------------\n",
      " _c0                        | 0                                                                                                                                                                                                                                                                                                                                                                                                            \n",
      " Unnamed: 0                 | 333149                                                                                                                                                                                                                                                                                                                                                                                                       \n",
      " ID                         | 479990                                                                                                                                                                                                                                                                                                                                                                                                       \n",
      " CR_PROD_CNT_IL             | 0                                                                                                                                                                                                                                                                                                                                                                                                            \n",
      " AMOUNT_RUB_CLO_PRC         | 0.0                                                                                                                                                                                                                                                                                                                                                                                                          \n",
      " PRC_ACCEPTS_A_EMAIL_LINK   | 0.0                                                                                                                                                                                                                                                                                                                                                                                                          \n",
      " APP_REGISTR_RGN_CODE       | 0.0                                                                                                                                                                                                                                                                                                                                                                                                          \n",
      " PRC_ACCEPTS_A_POS          | 0.0                                                                                                                                                                                                                                                                                                                                                                                                          \n",
      " PRC_ACCEPTS_A_TK           | 0.0                                                                                                                                                                                                                                                                                                                                                                                                          \n",
      " TURNOVER_DYNAMIC_IL_1M     | 0.0                                                                                                                                                                                                                                                                                                                                                                                                          \n",
      " CNT_TRAN_AUT_TENDENCY1M    | 0.0                                                                                                                                                                                                                                                                                                                                                                                                          \n",
      " SUM_TRAN_AUT_TENDENCY1M    | 0.0                                                                                                                                                                                                                                                                                                                                                                                                          \n",
      " AMOUNT_RUB_SUP_PRC         | 0.0                                                                                                                                                                                                                                                                                                                                                                                                          \n",
      " PRC_ACCEPTS_A_AMOBILE      | 0.0                                                                                                                                                                                                                                                                                                                                                                                                          \n",
      " SUM_TRAN_AUT_TENDENCY3M    | 0.0                                                                                                                                                                                                                                                                                                                                                                                                          \n",
      " PRC_ACCEPTS_TK             | 0.0                                                                                                                                                                                                                                                                                                                                                                                                          \n",
      " PRC_ACCEPTS_A_MTP          | 0.0                                                                                                                                                                                                                                                                                                                                                                                                          \n",
      " REST_DYNAMIC_FDEP_1M       | 0.0                                                                                                                                                                                                                                                                                                                                                                                                          \n",
      " CNT_TRAN_AUT_TENDENCY3M    | 0.0                                                                                                                                                                                                                                                                                                                                                                                                          \n",
      " CNT_ACCEPTS_TK             | 0.0                                                                                                                                                                                                                                                                                                                                                                                                          \n",
      " REST_DYNAMIC_SAVE_3M       | 0.0                                                                                                                                                                                                                                                                                                                                                                                                          \n",
      " CR_PROD_CNT_VCU            | 0.0                                                                                                                                                                                                                                                                                                                                                                                                          \n",
      " REST_AVG_CUR               | 19069.6917166667                                                                                                                                                                                                                                                                                                                                                                                             \n",
      " CNT_TRAN_MED_TENDENCY1M    | 0.0                                                                                                                                                                                                                                                                                                                                                                                                          \n",
      " AMOUNT_RUB_NAS_PRC         | 0.0                                                                                                                                                                                                                                                                                                                                                                                                          \n",
      " TRANS_COUNT_SUP_PRC        | 0.0                                                                                                                                                                                                                                                                                                                                                                                                          \n",
      " CNT_TRAN_CLO_TENDENCY1M    | 0.0                                                                                                                                                                                                                                                                                                                                                                                                          \n",
      " SUM_TRAN_MED_TENDENCY1M    | 0.0                                                                                                                                                                                                                                                                                                                                                                                                          \n",
      " PRC_ACCEPTS_A_ATM          | 0.0                                                                                                                                                                                                                                                                                                                                                                                                          \n",
      " PRC_ACCEPTS_MTP            | 0.0                                                                                                                                                                                                                                                                                                                                                                                                          \n",
      " TRANS_COUNT_NAS_PRC        | 0.0                                                                                                                                                                                                                                                                                                                                                                                                          \n",
      " CNT_ACCEPTS_MTP            | 0.0                                                                                                                                                                                                                                                                                                                                                                                                          \n",
      " CR_PROD_CNT_TOVR           | 1.0                                                                                                                                                                                                                                                                                                                                                                                                          \n",
      " CR_PROD_CNT_PIL            | 0.0                                                                                                                                                                                                                                                                                                                                                                                                          \n",
      " SUM_TRAN_CLO_TENDENCY1M    | 0.0                                                                                                                                                                                                                                                                                                                                                                                                          \n",
      " TURNOVER_CC                | 0.0                                                                                                                                                                                                                                                                                                                                                                                                          \n",
      " TRANS_COUNT_ATM_PRC        | 0.981818181818182                                                                                                                                                                                                                                                                                                                                                                                            \n",
      " AMOUNT_RUB_ATM_PRC         | 0.9264718189135428                                                                                                                                                                                                                                                                                                                                                                                           \n",
      " TURNOVER_PAYM              | 0.0                                                                                                                                                                                                                                                                                                                                                                                                          \n",
      " AGE                        | 324.0                                                                                                                                                                                                                                                                                                                                                                                                        \n",
      " CNT_TRAN_MED_TENDENCY3M    | 0.0                                                                                                                                                                                                                                                                                                                                                                                                          \n",
      " CR_PROD_CNT_CC             | 0.0                                                                                                                                                                                                                                                                                                                                                                                                          \n",
      " SUM_TRAN_MED_TENDENCY3M    | 0.0                                                                                                                                                                                                                                                                                                                                                                                                          \n",
      " REST_DYNAMIC_FDEP_3M       | 0.0                                                                                                                                                                                                                                                                                                                                                                                                          \n",
      " REST_DYNAMIC_IL_1M         | 0.0                                                                                                                                                                                                                                                                                                                                                                                                          \n",
      " SUM_TRAN_CLO_TENDENCY3M    | 0.0                                                                                                                                                                                                                                                                                                                                                                                                          \n",
      " LDEAL_TENOR_MAX            | 0.0                                                                                                                                                                                                                                                                                                                                                                                                          \n",
      " LDEAL_YQZ_CHRG             | 0.0                                                                                                                                                                                                                                                                                                                                                                                                          \n",
      " CR_PROD_CNT_CCFP           | 0.0                                                                                                                                                                                                                                                                                                                                                                                                          \n",
      " DEAL_YQZ_IR_MAX            | 0.0                                                                                                                                                                                                                                                                                                                                                                                                          \n",
      " LDEAL_YQZ_COM              | 0.0                                                                                                                                                                                                                                                                                                                                                                                                          \n",
      " DEAL_YQZ_IR_MIN            | 0.0                                                                                                                                                                                                                                                                                                                                                                                                          \n",
      " CNT_TRAN_CLO_TENDENCY3M    | 0.0                                                                                                                                                                                                                                                                                                                                                                                                          \n",
      " REST_DYNAMIC_CUR_1M        | 0.139327197286461                                                                                                                                                                                                                                                                                                                                                                                            \n",
      " REST_AVG_PAYM              | 0.0                                                                                                                                                                                                                                                                                                                                                                                                          \n",
      " LDEAL_TENOR_MIN            | 0.0                                                                                                                                                                                                                                                                                                                                                                                                          \n",
      " LDEAL_AMT_MONTH            | 0.0                                                                                                                                                                                                                                                                                                                                                                                                          \n",
      " LDEAL_GRACE_DAYS_PCT_MED   | 0.0                                                                                                                                                                                                                                                                                                                                                                                                          \n",
      " REST_DYNAMIC_CUR_3M        | 0.244042416581524                                                                                                                                                                                                                                                                                                                                                                                            \n",
      " CNT_TRAN_SUP_TENDENCY3M    | 0.0                                                                                                                                                                                                                                                                                                                                                                                                          \n",
      " TURNOVER_DYNAMIC_CUR_1M    | 0.14429972251526998                                                                                                                                                                                                                                                                                                                                                                                          \n",
      " REST_DYNAMIC_PAYM_3M       | 0.0                                                                                                                                                                                                                                                                                                                                                                                                          \n",
      " SUM_TRAN_SUP_TENDENCY3M    | 0.0                                                                                                                                                                                                                                                                                                                                                                                                          \n",
      " REST_DYNAMIC_IL_3M         | 0.0                                                                                                                                                                                                                                                                                                                                                                                                          \n",
      " CNT_TRAN_ATM_TENDENCY3M    | 0.351851851851852                                                                                                                                                                                                                                                                                                                                                                                            \n",
      " CNT_TRAN_ATM_TENDENCY1M    | 0.166666666666667                                                                                                                                                                                                                                                                                                                                                                                            \n",
      " TURNOVER_DYNAMIC_IL_3M     | 0.0                                                                                                                                                                                                                                                                                                                                                                                                          \n",
      " SUM_TRAN_ATM_TENDENCY3M    | 0.329320637235633                                                                                                                                                                                                                                                                                                                                                                                            \n",
      " DEAL_GRACE_DAYS_ACC_S1X1   | 0.0                                                                                                                                                                                                                                                                                                                                                                                                          \n",
      " AVG_PCT_MONTH_TO_PCLOSE    | 0.0                                                                                                                                                                                                                                                                                                                                                                                                          \n",
      " DEAL_YWZ_IR_MIN            | 45.0                                                                                                                                                                                                                                                                                                                                                                                                         \n",
      " SUM_TRAN_SUP_TENDENCY1M    | 0.0                                                                                                                                                                                                                                                                                                                                                                                                          \n",
      " DEAL_YWZ_IR_MAX            | 45.0                                                                                                                                                                                                                                                                                                                                                                                                         \n",
      " SUM_TRAN_ATM_TENDENCY1M    | 0.16790105289165602                                                                                                                                                                                                                                                                                                                                                                                          \n",
      " REST_DYNAMIC_PAYM_1M       | 0.0                                                                                                                                                                                                                                                                                                                                                                                                          \n",
      " CNT_TRAN_SUP_TENDENCY1M    | 0.0                                                                                                                                                                                                                                                                                                                                                                                                          \n",
      " DEAL_GRACE_DAYS_ACC_AVG    | 0.0                                                                                                                                                                                                                                                                                                                                                                                                          \n",
      " TURNOVER_DYNAMIC_CUR_3M    | 0.30374965665416803                                                                                                                                                                                                                                                                                                                                                                                          \n",
      " MAX_PCLOSE_DATE            | 0.0                                                                                                                                                                                                                                                                                                                                                                                                          \n",
      " LDEAL_YQZ_PC               | 0.0                                                                                                                                                                                                                                                                                                                                                                                                          \n",
      " CLNT_SETUP_TENOR           | 5.48000105784548                                                                                                                                                                                                                                                                                                                                                                                             \n",
      " DEAL_GRACE_DAYS_ACC_MAX    | 0.0                                                                                                                                                                                                                                                                                                                                                                                                          \n",
      " TURNOVER_DYNAMIC_PAYM_3M   | 0.0                                                                                                                                                                                                                                                                                                                                                                                                          \n",
      " LDEAL_DELINQ_PER_MAXYQZ    | 0.0                                                                                                                                                                                                                                                                                                                                                                                                          \n",
      " TURNOVER_DYNAMIC_PAYM_1M   | 0.0                                                                                                                                                                                                                                                                                                                                                                                                          \n",
      " CLNT_SALARY_VALUE          | 0.0                                                                                                                                                                                                                                                                                                                                                                                                          \n",
      " TRANS_AMOUNT_TENDENCY3M    | 0.305106289785464                                                                                                                                                                                                                                                                                                                                                                                            \n",
      " MED_DEBT_PRC_YQZ           | 0.0                                                                                                                                                                                                                                                                                                                                                                                                          \n",
      " TRANS_CNT_TENDENCY3M       | 0.34545454545454496                                                                                                                                                                                                                                                                                                                                                                                          \n",
      " LDEAL_USED_AMT_AVG_YQZ     | 0.0                                                                                                                                                                                                                                                                                                                                                                                                          \n",
      " REST_DYNAMIC_CC_1M         | 0.0                                                                                                                                                                                                                                                                                                                                                                                                          \n",
      " LDEAL_USED_AMT_AVG_YWZ     | 1.0                                                                                                                                                                                                                                                                                                                                                                                                          \n",
      " TURNOVER_DYNAMIC_CC_1M     | 0.0                                                                                                                                                                                                                                                                                                                                                                                                          \n",
      " AVG_PCT_DEBT_TO_DEAL_AMT   | 0.0                                                                                                                                                                                                                                                                                                                                                                                                          \n",
      " LDEAL_ACT_DAYS_ACC_PCT_AVG | 0.0035236081747709704                                                                                                                                                                                                                                                                                                                                                                                        \n",
      " REST_DYNAMIC_CC_3M         | 0.0                                                                                                                                                                                                                                                                                                                                                                                                          \n",
      " MED_DEBT_PRC_YWZ           | 0.0                                                                                                                                                                                                                                                                                                                                                                                                          \n",
      " LDEAL_ACT_DAYS_PCT_TR3     | 0.0                                                                                                                                                                                                                                                                                                                                                                                                          \n",
      " LDEAL_ACT_DAYS_PCT_AAVG    | 0.0                                                                                                                                                                                                                                                                                                                                                                                                          \n",
      " LDEAL_DELINQ_PER_MAXYWZ    | 0.0                                                                                                                                                                                                                                                                                                                                                                                                          \n",
      " TURNOVER_DYNAMIC_CC_3M     | 0.0                                                                                                                                                                                                                                                                                                                                                                                                          \n",
      " LDEAL_ACT_DAYS_PCT_TR      | 0.0                                                                                                                                                                                                                                                                                                                                                                                                          \n",
      " LDEAL_ACT_DAYS_PCT_TR4     | 0.0                                                                                                                                                                                                                                                                                                                                                                                                          \n",
      " LDEAL_ACT_DAYS_PCT_CURR    | 0.0                                                                                                                                                                                                                                                                                                                                                                                                          \n",
      " TARGET                     | 0.0                                                                                                                                                                                                                                                                                                                                                                                                          \n",
      " features                   | (104,[1,2,22,32,36,37,39,53,58,60,64,65,67,70,72,73,77,80,86,88,91,94],[333149.0,479990.0,19069.6917166667,1.0,0.981818181818182,0.9264718189135428,324.0,0.139327197286461,0.244042416581524,0.14429972251526998,0.351851851851852,0.166666666666667,0.329320637235633,45.0,45.0,0.16790105289165602,0.30374965665416803,5.48000105784548,0.305106289785464,0.34545454545454496,1.0,0.0035236081747709704]) \n",
      "only showing top 1 row\n",
      "\n"
     ]
    }
   ],
   "source": [
    "trainDfCleaned.show(1, 0, true)"
   ]
  },
  {
   "cell_type": "code",
   "execution_count": 106,
   "metadata": {},
   "outputs": [
    {
     "data": {
      "text/plain": [
       "randomForestModel = RandomForestClassificationModel (uid=rfc_943c0da3dbfd) with 100 trees\n"
      ]
     },
     "metadata": {},
     "output_type": "display_data"
    },
    {
     "data": {
      "text/plain": [
       "RandomForestClassificationModel (uid=rfc_943c0da3dbfd) with 100 trees"
      ]
     },
     "execution_count": 106,
     "metadata": {},
     "output_type": "execute_result"
    }
   ],
   "source": [
    "// Train RandomForest\n",
    "val randomForestModel = new RandomForestClassifier()\n",
    "    .setLabelCol(\"TARGET\")\n",
    "    .setFeaturesCol(\"features\")\n",
    "    .setSeed(42)\n",
    "    .setNumTrees(100)\n",
    "    .fit(trainDfCleaned)"
   ]
  },
  {
   "cell_type": "code",
   "execution_count": 107,
   "metadata": {},
   "outputs": [
    {
     "name": "stdout",
     "output_type": "stream",
     "text": [
      "+------+--------------------+--------------------+--------------------+----------+\n",
      "|TARGET|            features|       rawPrediction|         probability|prediction|\n",
      "+------+--------------------+--------------------+--------------------+----------+\n",
      "|   0.0|(104,[0,1,2,22,36...|[92.9594913482484...|[0.92959491348248...|       0.0|\n",
      "|   0.0|(104,[0,1,2,12,14...|[92.4159994809014...|[0.92415999480901...|       0.0|\n",
      "|   1.0|(104,[0,1,2,3,20,...|[85.3420165342106...|[0.85342016534210...|       0.0|\n",
      "|   0.0|(104,[0,1,2,4,10,...|[94.0923955960658...|[0.94092395596065...|       0.0|\n",
      "|   0.0|(104,[0,1,2,4,10,...|[93.5439769755567...|[0.93543976975556...|       0.0|\n",
      "+------+--------------------+--------------------+--------------------+----------+\n",
      "only showing top 5 rows\n",
      "\n"
     ]
    },
    {
     "data": {
      "text/plain": [
       "predictions = [_c0: int, Unnamed: 0: int ... 107 more fields]\n"
      ]
     },
     "metadata": {},
     "output_type": "display_data"
    },
    {
     "data": {
      "text/plain": [
       "[_c0: int, Unnamed: 0: int ... 107 more fields]"
      ]
     },
     "execution_count": 107,
     "metadata": {},
     "output_type": "execute_result"
    }
   ],
   "source": [
    "val predictions = randomForestModel.transform(\n",
    "    vectorAssembler.transform(trainDfTest)\n",
    ").cache\n",
    "\n",
    "predictions\n",
    "    .select(\n",
    "        \"TARGET\",\n",
    "        \"features\",\n",
    "        \"rawPrediction\",\n",
    "        \"probability\",\n",
    "        \"prediction\"\n",
    "    )\n",
    "    .show(5)"
   ]
  },
  {
   "cell_type": "code",
   "execution_count": 108,
   "metadata": {},
   "outputs": [
    {
     "name": "stdout",
     "output_type": "stream",
     "text": [
      "-RECORD 0----------------------------------------------\n",
      " probability | [0.9295949134824841,0.0704050865175159] \n",
      "only showing top 1 row\n",
      "\n"
     ]
    }
   ],
   "source": [
    "predictions\n",
    "    .select(\n",
    "        \"probability\"\n",
    "    )\n",
    "    .show(1, 0, true)"
   ]
  },
  {
   "cell_type": "code",
   "execution_count": 109,
   "metadata": {},
   "outputs": [
    {
     "name": "stdout",
     "output_type": "stream",
     "text": [
      "root\n",
      " |-- probability: vector (nullable = true)\n",
      "\n"
     ]
    }
   ],
   "source": [
    "predictions.select(\"probability\").printSchema()"
   ]
  },
  {
   "cell_type": "code",
   "execution_count": 110,
   "metadata": {},
   "outputs": [
    {
     "data": {
      "text/plain": [
       "vectorToArrayUdf = UserDefinedFunction(<function1>,ArrayType(DoubleType,false),None)\n"
      ]
     },
     "metadata": {},
     "output_type": "display_data"
    },
    {
     "data": {
      "text/plain": [
       "import org.apache.spark.mllib.linalg.{Vector=>OldVector}\n"
      ]
     },
     "metadata": {},
     "output_type": "display_data"
    },
    {
     "data": {
      "text/plain": [
       "UserDefinedFunction(<function1>,ArrayType(DoubleType,false),None)"
      ]
     },
     "execution_count": 110,
     "metadata": {},
     "output_type": "execute_result"
    }
   ],
   "source": [
    "import org.apache.spark.ml.linalg.{SparseVector, Vector}\n",
    "import org.apache.spark.mllib.linalg.{Vector => OldVector}\n",
    "\n",
    "val vectorToArrayUdf = udf { vec: Any =>\n",
    "    vec match {\n",
    "      case v: Vector => v.toArray\n",
    "      case v: OldVector => v.toArray\n",
    "      case v => throw new IllegalArgumentException(\n",
    "        \"function vector_to_array requires a non-null input argument and input type must be \" +\n",
    "        \"`org.apache.spark.ml.linalg.Vector` or `org.apache.spark.mllib.linalg.Vector`, \" +\n",
    "        s\"but got ${ if (v == null) \"null\" else v.getClass.getName }.\")\n",
    "    }\n",
    "  }.asNonNullable()"
   ]
  },
  {
   "cell_type": "code",
   "execution_count": 111,
   "metadata": {},
   "outputs": [
    {
     "name": "stdout",
     "output_type": "stream",
     "text": [
      "+----------------------+\n",
      "|prediction_probability|\n",
      "+----------------------+\n",
      "|    0.0704050865175159|\n",
      "|   0.07584000519098565|\n",
      "|   0.14657983465789423|\n",
      "|    0.0590760440393422|\n",
      "|   0.06456023024443311|\n",
      "+----------------------+\n",
      "only showing top 5 rows\n",
      "\n"
     ]
    }
   ],
   "source": [
    "predictions\n",
    "    .select(vectorToArrayUdf(col(\"probability\")).getItem(1).alias(\"prediction_probability\"))\n",
    "    .show(5)"
   ]
  },
  {
   "cell_type": "code",
   "execution_count": 112,
   "metadata": {},
   "outputs": [],
   "source": [
    "import org.apache.spark.ml.evaluation.BinaryClassificationEvaluator"
   ]
  },
  {
   "cell_type": "code",
   "execution_count": 113,
   "metadata": {},
   "outputs": [
    {
     "data": {
      "text/plain": [
       "evaluator = binEval_ea65ab3fcf8c\n",
       "accuracy = 0.7490116940453784\n"
      ]
     },
     "metadata": {},
     "output_type": "display_data"
    },
    {
     "data": {
      "text/plain": [
       "0.7490116940453784"
      ]
     },
     "execution_count": 113,
     "metadata": {},
     "output_type": "execute_result"
    }
   ],
   "source": [
    "val evaluator = new BinaryClassificationEvaluator()\n",
    "    .setLabelCol(\"TARGET\")\n",
    "    .setRawPredictionCol(\"prediction\")\n",
    "    .setMetricName(\"areaUnderROC\")\n",
    "\n",
    "val accuracy = evaluator\n",
    "    .evaluate(\n",
    "        predictions.withColumn(\"prediction\", vectorToArrayUdf(col(\"probability\")).getItem(1))\n",
    "    )"
   ]
  },
  {
   "cell_type": "markdown",
   "metadata": {},
   "source": [
    "# Predict"
   ]
  },
  {
   "cell_type": "code",
   "execution_count": 114,
   "metadata": {},
   "outputs": [
    {
     "data": {
      "text/plain": [
       "testDfData = [_c0: int, Unnamed: 0: int ... 115 more fields]\n"
      ]
     },
     "metadata": {},
     "output_type": "display_data"
    },
    {
     "data": {
      "text/plain": [
       "[_c0: int, Unnamed: 0: int ... 115 more fields]"
      ]
     },
     "execution_count": 114,
     "metadata": {},
     "output_type": "execute_result"
    }
   ],
   "source": [
    "val testDfData = spark\n",
    "    .read\n",
    "    .option(\"header\", true)\n",
    "    .option(\"inferSchema\", true)\n",
    "    .csv(\"lab05_test.csv\")\n",
    "    .na.fill(0)"
   ]
  },
  {
   "cell_type": "code",
   "execution_count": 115,
   "metadata": {},
   "outputs": [
    {
     "data": {
      "text/plain": [
       "44399"
      ]
     },
     "execution_count": 115,
     "metadata": {},
     "output_type": "execute_result"
    }
   ],
   "source": [
    "testDfData.count()"
   ]
  },
  {
   "cell_type": "code",
   "execution_count": 116,
   "metadata": {},
   "outputs": [
    {
     "data": {
      "text/plain": [
       "realPredictions = [_c0: int, Unnamed: 0: int ... 119 more fields]\n"
      ]
     },
     "metadata": {},
     "output_type": "display_data"
    },
    {
     "data": {
      "text/plain": [
       "[_c0: int, Unnamed: 0: int ... 119 more fields]"
      ]
     },
     "execution_count": 116,
     "metadata": {},
     "output_type": "execute_result"
    }
   ],
   "source": [
    "val realPredictions = randomForestModel.transform(vectorAssembler.transform(testDfData)).cache"
   ]
  },
  {
   "cell_type": "code",
   "execution_count": 117,
   "metadata": {},
   "outputs": [
    {
     "name": "stdout",
     "output_type": "stream",
     "text": [
      "+------+-------------------+\n",
      "|    ID|         prediction|\n",
      "+------+-------------------+\n",
      "|519130|0.11456214256126276|\n",
      "|234045|0.06167705922671139|\n",
      "|401256|0.06469617673196458|\n",
      "|551070|0.11134230961901567|\n",
      "|367285| 0.0688081208202768|\n",
      "+------+-------------------+\n",
      "only showing top 5 rows\n",
      "\n"
     ]
    }
   ],
   "source": [
    "realPredictions\n",
    "    .withColumn(\"prediction\", vectorToArrayUdf(col(\"probability\")).getItem(1))\n",
    "    .select(\"ID\", \"prediction\")\n",
    "    .show(5)"
   ]
  },
  {
   "cell_type": "code",
   "execution_count": 118,
   "metadata": {},
   "outputs": [],
   "source": [
    "realPredictions.coalesce(1)\n",
    "    .withColumn(\"prediction\", vectorToArrayUdf(col(\"probability\")).getItem(1))\n",
    "    .select(\"ID\", \"prediction\")\n",
    "    .withColumnRenamed(\"prediction\", \"TARGET\")\n",
    "    .write\n",
    "    .mode(\"overwrite\")\n",
    "    .format(\"csv\")\n",
    "    .option(\"header\", \"true\")\n",
    "    .option(\"delimiter\",\"\\t\")\n",
    "    .save(\"lab05.csv\")"
   ]
  },
  {
   "cell_type": "code",
   "execution_count": 119,
   "metadata": {},
   "outputs": [
    {
     "data": {
      "text/plain": [
       "44399"
      ]
     },
     "execution_count": 119,
     "metadata": {},
     "output_type": "execute_result"
    }
   ],
   "source": [
    "realPredictions.count()"
   ]
  },
  {
   "cell_type": "code",
   "execution_count": null,
   "metadata": {},
   "outputs": [],
   "source": []
  },
  {
   "cell_type": "code",
   "execution_count": null,
   "metadata": {},
   "outputs": [],
   "source": []
  },
  {
   "cell_type": "code",
   "execution_count": null,
   "metadata": {},
   "outputs": [],
   "source": []
  },
  {
   "cell_type": "code",
   "execution_count": 31,
   "metadata": {},
   "outputs": [],
   "source": [
    "//spark.stop()"
   ]
  },
  {
   "cell_type": "code",
   "execution_count": null,
   "metadata": {},
   "outputs": [],
   "source": []
  },
  {
   "cell_type": "code",
   "execution_count": null,
   "metadata": {},
   "outputs": [],
   "source": []
  },
  {
   "cell_type": "code",
   "execution_count": null,
   "metadata": {},
   "outputs": [],
   "source": []
  },
  {
   "cell_type": "code",
   "execution_count": null,
   "metadata": {},
   "outputs": [],
   "source": []
  },
  {
   "cell_type": "markdown",
   "metadata": {},
   "source": [
    "# Next steps\n",
    "\n",
    "- add pipeline functionality `Pipeline().setStages(Array(..))`\n",
    "- use categories (`StringIndexer`, `OneHotEncoder`)\n",
    "- fill missing values with better data (not just zeros)\n",
    "- play with hyper-parameters\n",
    "- try another model (`LogisticRegression`, `GBTClassifier`, `MultilayerPerceptronClassifier`)\n",
    "- use cross-validation (`TrainValidationSplit`)\n"
   ]
  },
  {
   "cell_type": "code",
   "execution_count": null,
   "metadata": {},
   "outputs": [],
   "source": []
  },
  {
   "cell_type": "code",
   "execution_count": null,
   "metadata": {},
   "outputs": [],
   "source": []
  }
 ],
 "metadata": {
  "kernelspec": {
   "display_name": "Apache Toree - Scala",
   "language": "scala",
   "name": "apache_toree_scala"
  },
  "language_info": {
   "codemirror_mode": "text/x-scala",
   "file_extension": ".scala",
   "mimetype": "text/x-scala",
   "name": "scala",
   "pygments_lexer": "scala",
   "version": "2.11.12"
  }
 },
 "nbformat": 4,
 "nbformat_minor": 2
}
