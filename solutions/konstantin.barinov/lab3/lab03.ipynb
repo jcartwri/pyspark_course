{
 "cells": [
  {
   "cell_type": "code",
   "execution_count": 1,
   "metadata": {},
   "outputs": [
    {
     "name": "stdout",
     "output_type": "stream",
     "text": [
      "Welcome to\n",
      "      ____              __\n",
      "     / __/__  ___ _____/ /__\n",
      "    _\\ \\/ _ \\/ _ `/ __/  '_/\n",
      "   /__ / .__/\\_,_/_/ /_/\\_\\   version 2.4.7\n",
      "      /_/\n",
      "\n",
      "Using Python version 3.6.5 (default, Apr 29 2018 16:14:56)\n",
      "SparkSession available as 'spark'.\n"
     ]
    }
   ],
   "source": [
    "import os\n",
    "import sys\n",
    "os.environ[\"PYSPARK_PYTHON\"]='/opt/anaconda/envs/bd9/bin/python'\n",
    "os.environ[\"SPARK_HOME\"]='/usr/hdp/current/spark2-client'\n",
    "os.environ[\"PYSPARK_SUBMIT_ARGS\"]='--num-executors 3 pyspark-shell'\n",
    "\n",
    "spark_home = os.environ.get('SPARK_HOME', None)\n",
    "\n",
    "sys.path.insert(0, os.path.join(spark_home, 'python'))\n",
    "sys.path.insert(0, os.path.join(spark_home, 'python/lib/py4j-0.10.7-src.zip'))\n",
    "exec(open(os.path.join(spark_home, 'python/pyspark/shell.py')).read())"
   ]
  },
  {
   "cell_type": "code",
   "execution_count": 2,
   "metadata": {},
   "outputs": [],
   "source": [
    "from pyspark import SparkContext, SparkConf\n",
    "\n",
    "conf = SparkConf().setAll([('spark.executor.memory', '4g'),\n",
    "                           ('spark.executor.cores', '4'),\n",
    "                           ('spark.cores.max', '4'),\n",
    "                           ('spark.driver.memory','10g')])\n",
    "conf.set(\"spark.app.name\", \"Barinov lab3\") \n",
    "spark = SparkSession.builder.config(conf=conf).appName(\"Barinov lab3\").getOrCreate()"
   ]
  },
  {
   "cell_type": "code",
   "execution_count": 3,
   "metadata": {},
   "outputs": [
    {
     "data": {
      "text/html": [
       "\n",
       "            <div>\n",
       "                <p><b>SparkSession - in-memory</b></p>\n",
       "                \n",
       "        <div>\n",
       "            <p><b>SparkContext</b></p>\n",
       "\n",
       "            <p><a href=\"http://spark-de-master-3.newprolab.com:4045\">Spark UI</a></p>\n",
       "\n",
       "            <dl>\n",
       "              <dt>Version</dt>\n",
       "                <dd><code>v2.4.7</code></dd>\n",
       "              <dt>Master</dt>\n",
       "                <dd><code>yarn</code></dd>\n",
       "              <dt>AppName</dt>\n",
       "                <dd><code>pyspark-shell</code></dd>\n",
       "            </dl>\n",
       "        </div>\n",
       "        \n",
       "            </div>\n",
       "        "
      ],
      "text/plain": [
       "<pyspark.sql.session.SparkSession at 0x7f40b4f620f0>"
      ]
     },
     "execution_count": 3,
     "metadata": {},
     "output_type": "execute_result"
    }
   ],
   "source": [
    "spark"
   ]
  },
  {
   "cell_type": "code",
   "execution_count": 4,
   "metadata": {},
   "outputs": [],
   "source": [
    "from pyspark.sql.types import FloatType, DoubleType, StringType, ArrayType, IntegerType\n",
    "from pyspark.sql.functions import *\n",
    "import pyspark.sql.functions as f\n",
    "spark.conf.set(\"spark.sql.crossJoin.enabled\", True)\n",
    "spark.conf.set(\"spark.sql.autoBroadcastJoinThreshold\", 1)"
   ]
  },
  {
   "cell_type": "code",
   "execution_count": 5,
   "metadata": {},
   "outputs": [
    {
     "name": "stdout",
     "output_type": "stream",
     "text": [
      "Found 4 items\r\n",
      "-rw-r--r--   3 hdfs hdfs   91066524 2021-02-27 22:12 /labs/slaba03/laba03_items.csv\r\n",
      "-rw-r--r--   3 hdfs hdfs   29965581 2021-02-27 22:12 /labs/slaba03/laba03_test.csv\r\n",
      "-rw-r--r--   3 hdfs hdfs   74949368 2021-02-27 22:12 /labs/slaba03/laba03_train.csv\r\n",
      "-rw-r--r--   3 hdfs hdfs  871302535 2021-02-27 22:12 /labs/slaba03/laba03_views_programmes.csv\r\n"
     ]
    }
   ],
   "source": [
    "!hdfs dfs -ls /labs/slaba03/"
   ]
  },
  {
   "cell_type": "code",
   "execution_count": 6,
   "metadata": {},
   "outputs": [
    {
     "name": "stdout",
     "output_type": "stream",
     "text": [
      "-RECORD 0-------------------------------------------\n",
      " item_id                     | 65667                \n",
      " channel_id                  | null                 \n",
      " datetime_availability_start | 1970-01-01T00:00:00Z \n",
      " datetime_availability_stop  | 2018-01-01T00:00:00Z \n",
      " datetime_show_start         | null                 \n",
      " datetime_show_stop          | null                 \n",
      " content_type                | 1                    \n",
      " title                       | на пробах только ... \n",
      " year                        | 2013.0               \n",
      " genres                      | Эротика              \n",
      " region_id                   | null                 \n",
      "-RECORD 1-------------------------------------------\n",
      " item_id                     | 65669                \n",
      " channel_id                  | null                 \n",
      " datetime_availability_start | 1970-01-01T00:00:00Z \n",
      " datetime_availability_stop  | 2018-01-01T00:00:00Z \n",
      " datetime_show_start         | null                 \n",
      " datetime_show_stop          | null                 \n",
      " content_type                | 1                    \n",
      " title                       | скуби ду: эротиче... \n",
      " year                        | 2011.0               \n",
      " genres                      | Эротика              \n",
      " region_id                   | null                 \n",
      "only showing top 2 rows\n",
      "\n"
     ]
    }
   ],
   "source": [
    "items = spark.read.option(\"header\",\"true\").csv(\"/labs/slaba03/laba03_items.csv\", sep='\\t')\n",
    "items.show(2, vertical=True)"
   ]
  },
  {
   "cell_type": "code",
   "execution_count": 7,
   "metadata": {},
   "outputs": [
    {
     "name": "stdout",
     "output_type": "stream",
     "text": [
      "root\n",
      " |-- item_id: string (nullable = true)\n",
      " |-- channel_id: string (nullable = true)\n",
      " |-- datetime_availability_start: string (nullable = true)\n",
      " |-- datetime_availability_stop: string (nullable = true)\n",
      " |-- datetime_show_start: string (nullable = true)\n",
      " |-- datetime_show_stop: string (nullable = true)\n",
      " |-- content_type: string (nullable = true)\n",
      " |-- title: string (nullable = true)\n",
      " |-- year: string (nullable = true)\n",
      " |-- genres: string (nullable = true)\n",
      " |-- region_id: string (nullable = true)\n",
      "\n"
     ]
    }
   ],
   "source": [
    "items.printSchema()"
   ]
  },
  {
   "cell_type": "code",
   "execution_count": 8,
   "metadata": {},
   "outputs": [],
   "source": [
    "items = items.withColumn(\"item_id\", items[\"item_id\"].cast(IntegerType()))\n",
    "items = items.withColumn(\"channel_id\", items[\"channel_id\"].cast(IntegerType()))\n",
    "items = items.withColumn(\"year\", items[\"year\"].cast(IntegerType()))\n",
    "items = items.withColumn(\"region_id\", items[\"region_id\"].cast(IntegerType()))"
   ]
  },
  {
   "cell_type": "code",
   "execution_count": 9,
   "metadata": {},
   "outputs": [
    {
     "name": "stdout",
     "output_type": "stream",
     "text": [
      "+-------+-------+--------+\n",
      "|user_id|item_id|purchase|\n",
      "+-------+-------+--------+\n",
      "|   1654|  94814|    null|\n",
      "|   1654|  93629|    null|\n",
      "|   1654|   9980|    null|\n",
      "|   1654|  95099|    null|\n",
      "|   1654|  11265|    null|\n",
      "+-------+-------+--------+\n",
      "only showing top 5 rows\n",
      "\n"
     ]
    }
   ],
   "source": [
    "test = spark.read.option(\"header\",\"true\").csv(\"/labs/slaba03/laba03_test.csv\", sep=',')\n",
    "test.show(5)"
   ]
  },
  {
   "cell_type": "code",
   "execution_count": 10,
   "metadata": {},
   "outputs": [
    {
     "name": "stdout",
     "output_type": "stream",
     "text": [
      "root\n",
      " |-- user_id: string (nullable = true)\n",
      " |-- item_id: string (nullable = true)\n",
      " |-- purchase: string (nullable = true)\n",
      "\n"
     ]
    }
   ],
   "source": [
    "test.printSchema()"
   ]
  },
  {
   "cell_type": "code",
   "execution_count": 11,
   "metadata": {},
   "outputs": [],
   "source": [
    "test = test.withColumn(\"user_id\", test[\"user_id\"].cast(IntegerType()))\n",
    "test = test.withColumn(\"item_id\", test[\"item_id\"].cast(IntegerType()))\n",
    "test = test.withColumn(\"purchase\", test[\"purchase\"].cast(FloatType()))"
   ]
  },
  {
   "cell_type": "code",
   "execution_count": 12,
   "metadata": {
    "scrolled": true
   },
   "outputs": [
    {
     "name": "stdout",
     "output_type": "stream",
     "text": [
      "+-------+-------+--------+\n",
      "|user_id|item_id|purchase|\n",
      "+-------+-------+--------+\n",
      "|   1654|  74107|       0|\n",
      "|   1654|  89249|       0|\n",
      "|   1654|  99982|       0|\n",
      "|   1654|  89901|       0|\n",
      "|   1654| 100504|       0|\n",
      "+-------+-------+--------+\n",
      "only showing top 5 rows\n",
      "\n"
     ]
    }
   ],
   "source": [
    "train = spark.read.option(\"header\",\"true\").csv(\"/labs/slaba03/laba03_train.csv\", sep=',')\n",
    "train.show(5)"
   ]
  },
  {
   "cell_type": "code",
   "execution_count": 13,
   "metadata": {},
   "outputs": [
    {
     "name": "stdout",
     "output_type": "stream",
     "text": [
      "root\n",
      " |-- user_id: string (nullable = true)\n",
      " |-- item_id: string (nullable = true)\n",
      " |-- purchase: string (nullable = true)\n",
      "\n"
     ]
    }
   ],
   "source": [
    "train.printSchema()"
   ]
  },
  {
   "cell_type": "code",
   "execution_count": 14,
   "metadata": {},
   "outputs": [],
   "source": [
    "train = train.withColumn(\"user_id\", train[\"user_id\"].cast(StringType()))\n",
    "train = train.withColumn(\"item_id\", train[\"item_id\"].cast(StringType()))\n",
    "train = train.withColumn(\"purchase\", train[\"purchase\"].cast(FloatType()))"
   ]
  },
  {
   "cell_type": "code",
   "execution_count": 16,
   "metadata": {},
   "outputs": [
    {
     "name": "stdout",
     "output_type": "stream",
     "text": [
      "+-------+-------+----------+----------+---------+\n",
      "|user_id|item_id|  ts_start|    ts_end|item_type|\n",
      "+-------+-------+----------+----------+---------+\n",
      "|      0|7101053|1491409931|1491411600|     live|\n",
      "|      0|7101054|1491412481|1491451571|     live|\n",
      "|      0|7101054|1491411640|1491412481|     live|\n",
      "|      0|6184414|1486191290|1486191640|     live|\n",
      "|    257|4436877|1490628499|1490630256|     live|\n",
      "+-------+-------+----------+----------+---------+\n",
      "only showing top 5 rows\n",
      "\n"
     ]
    }
   ],
   "source": [
    "views = spark.read.option(\"header\",\"true\").csv(\"/labs/slaba03/laba03_views_programmes.csv\", sep=',')\n",
    "views.show(5)"
   ]
  },
  {
   "cell_type": "code",
   "execution_count": 17,
   "metadata": {},
   "outputs": [
    {
     "name": "stdout",
     "output_type": "stream",
     "text": [
      "root\n",
      " |-- user_id: string (nullable = true)\n",
      " |-- item_id: string (nullable = true)\n",
      " |-- ts_start: string (nullable = true)\n",
      " |-- ts_end: string (nullable = true)\n",
      " |-- item_type: string (nullable = true)\n",
      "\n"
     ]
    }
   ],
   "source": [
    "views.printSchema()"
   ]
  },
  {
   "cell_type": "code",
   "execution_count": 18,
   "metadata": {},
   "outputs": [
    {
     "name": "stdout",
     "output_type": "stream",
     "text": [
      "root\n",
      " |-- user_id: integer (nullable = true)\n",
      " |-- item_id: integer (nullable = true)\n",
      " |-- ts_start: integer (nullable = true)\n",
      " |-- ts_end: integer (nullable = true)\n",
      " |-- item_type: string (nullable = true)\n",
      "\n"
     ]
    }
   ],
   "source": [
    "views = views.withColumn(\"user_id\", views[\"user_id\"].cast(IntegerType()))\n",
    "views = views.withColumn(\"item_id\", views[\"item_id\"].cast(IntegerType()))\n",
    "views = views.withColumn(\"ts_start\", views[\"ts_start\"].cast(IntegerType()))\n",
    "views = views.withColumn(\"ts_end\", views[\"ts_end\"].cast(IntegerType()))\n",
    "views.printSchema()"
   ]
  },
  {
   "cell_type": "markdown",
   "metadata": {},
   "source": [
    "# EDA"
   ]
  },
  {
   "cell_type": "code",
   "execution_count": 718,
   "metadata": {},
   "outputs": [
    {
     "data": {
      "text/plain": [
       "5032624"
      ]
     },
     "execution_count": 718,
     "metadata": {},
     "output_type": "execute_result"
    }
   ],
   "source": [
    "train.select('user_id','item_id').distinct().count()"
   ]
  },
  {
   "cell_type": "code",
   "execution_count": 492,
   "metadata": {},
   "outputs": [
    {
     "data": {
      "text/plain": [
       "1941"
      ]
     },
     "execution_count": 492,
     "metadata": {},
     "output_type": "execute_result"
    }
   ],
   "source": [
    "test.select('user_id').distinct().count()"
   ]
  },
  {
   "cell_type": "markdown",
   "metadata": {},
   "source": [
    "**Множества юзеров и айтемов из трейн и тест совпадают:**"
   ]
  },
  {
   "cell_type": "code",
   "execution_count": 493,
   "metadata": {},
   "outputs": [
    {
     "data": {
      "text/plain": [
       "1941"
      ]
     },
     "execution_count": 493,
     "metadata": {},
     "output_type": "execute_result"
    }
   ],
   "source": [
    "train.join(test, test.user_id == train.user_id, how='inner').select(train.user_id).distinct().count()"
   ]
  },
  {
   "cell_type": "code",
   "execution_count": 494,
   "metadata": {},
   "outputs": [
    {
     "data": {
      "text/plain": [
       "3704"
      ]
     },
     "execution_count": 494,
     "metadata": {},
     "output_type": "execute_result"
    }
   ],
   "source": [
    "train.select('item_id').distinct().count()"
   ]
  },
  {
   "cell_type": "code",
   "execution_count": 495,
   "metadata": {},
   "outputs": [
    {
     "data": {
      "text/plain": [
       "3704"
      ]
     },
     "execution_count": 495,
     "metadata": {},
     "output_type": "execute_result"
    }
   ],
   "source": [
    "test.select('item_id').distinct().count()"
   ]
  },
  {
   "cell_type": "markdown",
   "metadata": {},
   "source": [
    "**Множества айтемов из трейн и тест совпадают:**"
   ]
  },
  {
   "cell_type": "code",
   "execution_count": 496,
   "metadata": {
    "scrolled": true
   },
   "outputs": [
    {
     "data": {
      "text/plain": [
       "3704"
      ]
     },
     "execution_count": 496,
     "metadata": {},
     "output_type": "execute_result"
    }
   ],
   "source": [
    "train.join(test, test.item_id == train.item_id, how='inner').select(train.item_id).distinct().count()"
   ]
  },
  {
   "cell_type": "markdown",
   "metadata": {},
   "source": [
    "**Но нет совпадений юзер+айтем, ну и прекрасно:**"
   ]
  },
  {
   "cell_type": "code",
   "execution_count": 497,
   "metadata": {},
   "outputs": [
    {
     "data": {
      "text/plain": [
       "0"
      ]
     },
     "execution_count": 497,
     "metadata": {},
     "output_type": "execute_result"
    }
   ],
   "source": [
    "train.join(test, (test.item_id == train.item_id) & (test.user_id == train.user_id),\\\n",
    "           how='inner').select(train.item_id).distinct().count()"
   ]
  },
  {
   "cell_type": "markdown",
   "metadata": {},
   "source": [
    "**Есть ли в test передачи, по которым доступна мета-инфа в items? ЕСТЬ **"
   ]
  },
  {
   "cell_type": "code",
   "execution_count": 498,
   "metadata": {},
   "outputs": [
    {
     "data": {
      "text/plain": [
       "3704"
      ]
     },
     "execution_count": 498,
     "metadata": {},
     "output_type": "execute_result"
    }
   ],
   "source": [
    "test.join(items, test.item_id == items.item_id,\\\n",
    "           how='inner').select(test.item_id).distinct().count()"
   ]
  },
  {
   "cell_type": "markdown",
   "metadata": {},
   "source": [
    "**Есть ли в train передачи, по которым доступна мета-инфа в items? ЕСТЬ**"
   ]
  },
  {
   "cell_type": "code",
   "execution_count": 499,
   "metadata": {},
   "outputs": [
    {
     "data": {
      "text/plain": [
       "3704"
      ]
     },
     "execution_count": 499,
     "metadata": {},
     "output_type": "execute_result"
    }
   ],
   "source": [
    "train.join(items, train.item_id == items.item_id,\\\n",
    "           how='inner').select(train.item_id).distinct().count()"
   ]
  },
  {
   "cell_type": "code",
   "execution_count": 500,
   "metadata": {},
   "outputs": [
    {
     "data": {
      "text/plain": [
       "208"
      ]
     },
     "execution_count": 500,
     "metadata": {},
     "output_type": "execute_result"
    }
   ],
   "source": [
    "items.select(items.channel_id).distinct().count()"
   ]
  },
  {
   "cell_type": "code",
   "execution_count": 501,
   "metadata": {},
   "outputs": [
    {
     "name": "stdout",
     "output_type": "stream",
     "text": [
      "+---------+--------+\n",
      "|item_type|   count|\n",
      "+---------+--------+\n",
      "|     live|17704201|\n",
      "|      pvr| 3141406|\n",
      "+---------+--------+\n",
      "\n"
     ]
    }
   ],
   "source": [
    "views.groupBy('item_type').count().show()"
   ]
  },
  {
   "cell_type": "markdown",
   "metadata": {},
   "source": [
    "**В Test уже учтен только платный контент content_type**"
   ]
  },
  {
   "cell_type": "code",
   "execution_count": 719,
   "metadata": {},
   "outputs": [
    {
     "name": "stdout",
     "output_type": "stream",
     "text": [
      "+------------+-------+\n",
      "|content_type|  count|\n",
      "+------------+-------+\n",
      "|           1|2156840|\n",
      "+------------+-------+\n",
      "\n"
     ]
    }
   ],
   "source": [
    "test.join(items, test.item_id == items.item_id,\\\n",
    "           how='left').groupBy('content_type').count().show()"
   ]
  },
  {
   "cell_type": "markdown",
   "metadata": {},
   "source": [
    "**В Train тоже только платный**"
   ]
  },
  {
   "cell_type": "code",
   "execution_count": 720,
   "metadata": {},
   "outputs": [
    {
     "name": "stdout",
     "output_type": "stream",
     "text": [
      "+------------+-------+\n",
      "|content_type|  count|\n",
      "+------------+-------+\n",
      "|           1|5032624|\n",
      "+------------+-------+\n",
      "\n"
     ]
    }
   ],
   "source": [
    "train.join(items, train.item_id == items.item_id,\\\n",
    "           how='left').groupBy('content_type').count().show()"
   ]
  },
  {
   "cell_type": "markdown",
   "metadata": {},
   "source": [
    "**хз что такое, но пусть будет**"
   ]
  },
  {
   "cell_type": "code",
   "execution_count": 503,
   "metadata": {},
   "outputs": [
    {
     "name": "stdout",
     "output_type": "stream",
     "text": [
      "+--------+---------------------------+-------+\n",
      "|purchase|datetime_availability_start|  count|\n",
      "+--------+---------------------------+-------+\n",
      "|     1.0|       2017-01-01T00:00:00Z|      1|\n",
      "|     1.0|       1970-01-01T00:00:00Z|  10903|\n",
      "|     0.0|       1970-01-01T00:00:00Z|5018987|\n",
      "|     0.0|       2017-01-01T00:00:00Z|   2733|\n",
      "+--------+---------------------------+-------+\n",
      "\n"
     ]
    }
   ],
   "source": [
    "train.join(items, train.item_id == items.item_id,\\\n",
    "           how='inner').groupBy('purchase','datetime_availability_start').count().show()"
   ]
  },
  {
   "cell_type": "code",
   "execution_count": 504,
   "metadata": {},
   "outputs": [
    {
     "name": "stdout",
     "output_type": "stream",
     "text": [
      "+--------+--------------------------+-------+\n",
      "|purchase|datetime_availability_stop|  count|\n",
      "+--------+--------------------------+-------+\n",
      "|     0.0|      2018-01-01T00:00:00Z| 126702|\n",
      "|     0.0|      2017-08-21T00:00:00Z|   1398|\n",
      "|     0.0|      2099-12-31T21:00:00Z|4880210|\n",
      "|     0.0|      2018-12-31T00:00:00Z|  13410|\n",
      "|     1.0|      2018-12-31T00:00:00Z|    159|\n",
      "|     1.0|      2099-12-31T21:00:00Z|   9991|\n",
      "|     1.0|      2017-08-21T00:00:00Z|      5|\n",
      "|     1.0|      2018-01-01T00:00:00Z|    749|\n",
      "+--------+--------------------------+-------+\n",
      "\n"
     ]
    }
   ],
   "source": [
    "train.join(items, train.item_id == items.item_id,\\\n",
    "           how='inner').groupBy('purchase','datetime_availability_stop').count().show()"
   ]
  },
  {
   "cell_type": "markdown",
   "metadata": {},
   "source": [
    "**datetime_show_start и stop бесполезны**"
   ]
  },
  {
   "cell_type": "code",
   "execution_count": 505,
   "metadata": {},
   "outputs": [
    {
     "name": "stdout",
     "output_type": "stream",
     "text": [
      "+--------+-------------------+-------+\n",
      "|purchase|datetime_show_start|  count|\n",
      "+--------+-------------------+-------+\n",
      "|     1.0|               null|  10904|\n",
      "|     0.0|               null|5021720|\n",
      "+--------+-------------------+-------+\n",
      "\n"
     ]
    }
   ],
   "source": [
    "train.join(items, train.item_id == items.item_id,\\\n",
    "           how='inner').groupBy('purchase','datetime_show_start').count().show()"
   ]
  },
  {
   "cell_type": "code",
   "execution_count": 526,
   "metadata": {},
   "outputs": [
    {
     "name": "stdout",
     "output_type": "stream",
     "text": [
      "+--------+------------------+-------+\n",
      "|purchase|datetime_show_stop|  count|\n",
      "+--------+------------------+-------+\n",
      "|     1.0|              null|  10904|\n",
      "|     0.0|              null|5021720|\n",
      "+--------+------------------+-------+\n",
      "\n"
     ]
    }
   ],
   "source": [
    "train.join(items, train.item_id == items.item_id,\\\n",
    "           how='inner').groupBy('purchase','datetime_show_stop').count().show()"
   ]
  },
  {
   "cell_type": "markdown",
   "metadata": {},
   "source": [
    "**region_id тоже бесполезен**"
   ]
  },
  {
   "cell_type": "code",
   "execution_count": 519,
   "metadata": {},
   "outputs": [
    {
     "name": "stdout",
     "output_type": "stream",
     "text": [
      "+--------+---------+-------+\n",
      "|purchase|region_id|  count|\n",
      "+--------+---------+-------+\n",
      "|     1.0|     null|  10904|\n",
      "|     0.0|     null|5021720|\n",
      "+--------+---------+-------+\n",
      "\n"
     ]
    }
   ],
   "source": [
    "train.join(items, train.item_id == items.item_id,\\\n",
    "           how='inner').groupBy('purchase','region_id').count().show()"
   ]
  },
  {
   "cell_type": "markdown",
   "metadata": {},
   "source": [
    "**получается item_type тоже бесполезен**"
   ]
  },
  {
   "cell_type": "code",
   "execution_count": 521,
   "metadata": {},
   "outputs": [
    {
     "name": "stdout",
     "output_type": "stream",
     "text": [
      "+--------+---------+-------+\n",
      "|purchase|item_type|  count|\n",
      "+--------+---------+-------+\n",
      "|     1.0|     null|  10904|\n",
      "|     0.0|     null|5021720|\n",
      "+--------+---------+-------+\n",
      "\n"
     ]
    }
   ],
   "source": [
    "train.join(views, (train.item_id == views.item_id) & (train.user_id == views.user_id),\\\n",
    "           how='left').groupBy('purchase','item_type').count().show()"
   ]
  },
  {
   "cell_type": "markdown",
   "metadata": {},
   "source": [
    "**получается channel_id тоже бесполезен**"
   ]
  },
  {
   "cell_type": "code",
   "execution_count": 527,
   "metadata": {},
   "outputs": [
    {
     "name": "stdout",
     "output_type": "stream",
     "text": [
      "+--------+----------+-------+\n",
      "|purchase|channel_id|  count|\n",
      "+--------+----------+-------+\n",
      "|     1.0|      null|  10904|\n",
      "|     0.0|      null|5021720|\n",
      "+--------+----------+-------+\n",
      "\n"
     ]
    }
   ],
   "source": [
    "train.join(items, train.item_id == items.item_id,\\\n",
    "           how='left').groupBy('purchase','channel_id').count().show()"
   ]
  },
  {
   "cell_type": "markdown",
   "metadata": {},
   "source": [
    "# Давайте слепим датасет"
   ]
  },
  {
   "cell_type": "markdown",
   "metadata": {},
   "source": [
    "**Количество просмотров live**"
   ]
  },
  {
   "cell_type": "code",
   "execution_count": 19,
   "metadata": {},
   "outputs": [
    {
     "name": "stdout",
     "output_type": "stream",
     "text": [
      "+-------+---------+--------+\n",
      "|user_id|item_type|cnt_live|\n",
      "+-------+---------+--------+\n",
      "| 785542|     live|       2|\n",
      "| 785679|     live|     557|\n",
      "| 785685|     live|     330|\n",
      "+-------+---------+--------+\n",
      "only showing top 3 rows\n",
      "\n"
     ]
    }
   ],
   "source": [
    "cnt_live = views.filter(f.col('item_type') == 'live').groupBy('user_id', 'item_type').count()\n",
    "\n",
    "cnt_live = cnt_live.withColumnRenamed(\"count\",\"cnt_live\")\n",
    "cnt_live.show(3)"
   ]
  },
  {
   "cell_type": "markdown",
   "metadata": {},
   "source": [
    "**Количество просмотров cvr**"
   ]
  },
  {
   "cell_type": "code",
   "execution_count": 20,
   "metadata": {},
   "outputs": [
    {
     "name": "stdout",
     "output_type": "stream",
     "text": [
      "+-------+---------+-------+\n",
      "|user_id|item_type|cnt_pvr|\n",
      "+-------+---------+-------+\n",
      "| 786175|      pvr|     11|\n",
      "| 786990|      pvr|    116|\n",
      "| 787349|      pvr|     44|\n",
      "+-------+---------+-------+\n",
      "only showing top 3 rows\n",
      "\n"
     ]
    }
   ],
   "source": [
    "cnt_pvr = views.filter(f.col('item_type') == 'pvr').groupBy('user_id', 'item_type').count()\n",
    "\n",
    "cnt_pvr = cnt_pvr.withColumnRenamed(\"count\",\"cnt_pvr\")\n",
    "cnt_pvr.show(3)"
   ]
  },
  {
   "cell_type": "markdown",
   "metadata": {},
   "source": [
    "**Ср.время просмотра юзера**"
   ]
  },
  {
   "cell_type": "code",
   "execution_count": 21,
   "metadata": {},
   "outputs": [
    {
     "name": "stdout",
     "output_type": "stream",
     "text": [
      "+-------+-----------------+\n",
      "|user_id|        time_user|\n",
      "+-------+-----------------+\n",
      "| 870787|2953.016441005803|\n",
      "| 870827|6508.959183673469|\n",
      "| 870928|4118.955555555555|\n",
      "+-------+-----------------+\n",
      "only showing top 3 rows\n",
      "\n"
     ]
    }
   ],
   "source": [
    "watch_time_user = views.withColumn(\"user\", views.ts_end - views.ts_start)\\\n",
    "    .groupBy('user_id')\\\n",
    "    .mean()\\\n",
    "    .select(\"user_id\", \"avg(user)\")\n",
    "watch_time_user = watch_time_user.withColumnRenamed(\"avg(user)\",\"time_user\")\n",
    "\n",
    "watch_time_user.show(3)"
   ]
  },
  {
   "cell_type": "markdown",
   "metadata": {},
   "source": [
    "**Ср.время просмотра айтема**"
   ]
  },
  {
   "cell_type": "code",
   "execution_count": 22,
   "metadata": {},
   "outputs": [
    {
     "name": "stdout",
     "output_type": "stream",
     "text": [
      "+-------+------------------+\n",
      "|item_id|         time_item|\n",
      "+-------+------------------+\n",
      "|6526786|3098.6971153846152|\n",
      "|7076695| 3088.930473372781|\n",
      "|6604291|           1777.92|\n",
      "+-------+------------------+\n",
      "only showing top 3 rows\n",
      "\n"
     ]
    }
   ],
   "source": [
    "watch_time_item = views.withColumn(\"item\", views.ts_end - views.ts_start)\\\n",
    "    .groupBy('item_id')\\\n",
    "    .mean()\\\n",
    "    .select(\"item_id\", \"avg(item)\")\n",
    "watch_time_item = watch_time_item.withColumnRenamed(\"avg(item)\",\"time_item\")\n",
    "\n",
    "watch_time_item.show(3)"
   ]
  },
  {
   "cell_type": "markdown",
   "metadata": {},
   "source": [
    "**Количество и доля покупок у юзера**"
   ]
  },
  {
   "cell_type": "code",
   "execution_count": 23,
   "metadata": {},
   "outputs": [
    {
     "name": "stdout",
     "output_type": "stream",
     "text": [
      "+-------+-------------+\n",
      "|user_id|sum_buys_user|\n",
      "+-------+-------------+\n",
      "| 867363|          1.0|\n",
      "| 882935|          2.0|\n",
      "| 889974|          0.0|\n",
      "+-------+-------------+\n",
      "only showing top 3 rows\n",
      "\n"
     ]
    }
   ],
   "source": [
    "sum_buys_user = train.groupBy(\"user_id\").sum(\"purchase\").withColumnRenamed(\"sum(purchase)\",\"sum_buys_user\")\n",
    "sum_buys_user.show(3)"
   ]
  },
  {
   "cell_type": "code",
   "execution_count": 24,
   "metadata": {},
   "outputs": [
    {
     "name": "stdout",
     "output_type": "stream",
     "text": [
      "+-------+--------------------+\n",
      "|user_id|      part_buys_user|\n",
      "+-------+--------------------+\n",
      "| 921852|3.789314134141720...|\n",
      "| 927169|0.003464203233256351|\n",
      "| 929499|0.002714230321830167|\n",
      "+-------+--------------------+\n",
      "only showing top 3 rows\n",
      "\n"
     ]
    }
   ],
   "source": [
    "part_buys_user = train.groupBy(\"user_id\").agg(sum(\"purchase\") / count(\"purchase\"))\\\n",
    "    .withColumnRenamed(\"(sum(purchase) / count(purchase))\",\"part_buys_user\") \n",
    "part_buys_user.show(3)"
   ]
  },
  {
   "cell_type": "code",
   "execution_count": 25,
   "metadata": {},
   "outputs": [
    {
     "name": "stdout",
     "output_type": "stream",
     "text": [
      "+-------+-------------+\n",
      "|item_id|sum_buys_item|\n",
      "+-------+-------------+\n",
      "|  98725|          1.0|\n",
      "|    691|          0.0|\n",
      "+-------+-------------+\n",
      "only showing top 2 rows\n",
      "\n"
     ]
    }
   ],
   "source": [
    "sum_buys_item = train.groupBy(\"item_id\").sum(\"purchase\")\\\n",
    ".withColumnRenamed(\"sum(purchase)\",\"sum_buys_item\")\n",
    "sum_buys_item.show(2)"
   ]
  },
  {
   "cell_type": "code",
   "execution_count": 26,
   "metadata": {},
   "outputs": [
    {
     "name": "stdout",
     "output_type": "stream",
     "text": [
      "+-------+--------------------+\n",
      "|item_id|      part_buys_item|\n",
      "+-------+--------------------+\n",
      "|  98725|7.369196757553427E-4|\n",
      "|    691|                 0.0|\n",
      "|   2136| 7.22543352601156E-4|\n",
      "+-------+--------------------+\n",
      "only showing top 3 rows\n",
      "\n"
     ]
    }
   ],
   "source": [
    "part_buys_item = train.groupBy(\"item_id\").agg(sum(\"purchase\") / count(\"purchase\"))\\\n",
    "    .withColumnRenamed(\"(sum(purchase) / count(purchase))\",\"part_buys_item\") \n",
    "part_buys_item.show(3)"
   ]
  },
  {
   "cell_type": "markdown",
   "metadata": {},
   "source": [
    "**Доли онлайн просмотров для юзеров и айтемов**"
   ]
  },
  {
   "cell_type": "code",
   "execution_count": 27,
   "metadata": {},
   "outputs": [
    {
     "name": "stdout",
     "output_type": "stream",
     "text": [
      "+-------+------------------+\n",
      "|user_id|         live_user|\n",
      "+-------+------------------+\n",
      "| 785637|               1.0|\n",
      "| 786134|0.9691119691119691|\n",
      "| 786310|0.5486725663716814|\n",
      "+-------+------------------+\n",
      "only showing top 3 rows\n",
      "\n"
     ]
    }
   ],
   "source": [
    "live_user = views.withColumn(\"is_live\", when(f.col(\"item_type\") == \"live\", 1)\\\n",
    "    .otherwise(0))\\\n",
    "    .groupBy(\"user_id\")\\\n",
    "    .agg(sum(\"is_live\") / count(\"is_live\"))\\\n",
    "    .withColumnRenamed(\"(sum(is_live) / count(is_live))\", \"live_user\")\n",
    "live_user.show(3)"
   ]
  },
  {
   "cell_type": "code",
   "execution_count": 28,
   "metadata": {},
   "outputs": [
    {
     "name": "stdout",
     "output_type": "stream",
     "text": [
      "+-------+------------------+\n",
      "|item_id|         live_item|\n",
      "+-------+------------------+\n",
      "|6470621|0.9384615384615385|\n",
      "|7101164|0.9852941176470589|\n",
      "|6867283|               1.0|\n",
      "+-------+------------------+\n",
      "only showing top 3 rows\n",
      "\n"
     ]
    }
   ],
   "source": [
    "live_item = views.withColumn(\"is_live\", when(f.col(\"item_type\") == \"live\", 1)\\\n",
    "    .otherwise(0))\\\n",
    "    .groupBy(\"item_id\")\\\n",
    "    .agg(sum(\"is_live\") / count(\"is_live\"))\\\n",
    "    .withColumnRenamed(\"(sum(is_live) / count(is_live))\", \"live_item\")\n",
    "live_item.show(3)"
   ]
  },
  {
   "cell_type": "markdown",
   "metadata": {},
   "source": [
    "**Смотрибельность передач и юзеров по времени**"
   ]
  },
  {
   "cell_type": "code",
   "execution_count": 29,
   "metadata": {},
   "outputs": [
    {
     "name": "stdout",
     "output_type": "stream",
     "text": [
      "+-------+---------------+\n",
      "|user_id|watch_time_user|\n",
      "+-------+---------------+\n",
      "| 561425|          37699|\n",
      "| 612390|           4406|\n",
      "| 612597|         687126|\n",
      "+-------+---------------+\n",
      "only showing top 3 rows\n",
      "\n"
     ]
    }
   ],
   "source": [
    "watch_time_user = views.withColumn(\"user\", views.ts_end - views.ts_start)\\\n",
    "    .groupBy('user_id')\\\n",
    "    .sum()\\\n",
    "    .select(\"user_id\", \"sum(user)\")\n",
    "watch_time_user = watch_time_user.withColumnRenamed(\"sum(user)\",\"watch_time_user\")\n",
    "\n",
    "watch_time_user.show(3)"
   ]
  },
  {
   "cell_type": "code",
   "execution_count": 30,
   "metadata": {},
   "outputs": [
    {
     "name": "stdout",
     "output_type": "stream",
     "text": [
      "+-------+-----------------+\n",
      "|user_id|    avg_time_user|\n",
      "+-------+-----------------+\n",
      "| 870787|2953.016441005803|\n",
      "| 870827|6508.959183673469|\n",
      "| 870928|4118.955555555555|\n",
      "+-------+-----------------+\n",
      "only showing top 3 rows\n",
      "\n"
     ]
    }
   ],
   "source": [
    "avg_time_user = views.withColumn(\"user\", views.ts_end - views.ts_start)\\\n",
    "    .groupBy('user_id')\\\n",
    "    .mean()\\\n",
    "    .select(\"user_id\", \"avg(user)\")\n",
    "avg_time_user = avg_time_user.withColumnRenamed(\"avg(user)\",\"avg_time_user\")\n",
    "\n",
    "avg_time_user.show(3)"
   ]
  },
  {
   "cell_type": "code",
   "execution_count": 31,
   "metadata": {},
   "outputs": [
    {
     "name": "stdout",
     "output_type": "stream",
     "text": [
      "+-------+---------------+\n",
      "|item_id|watch_time_item|\n",
      "+-------+---------------+\n",
      "|6526786|        1933587|\n",
      "|7076695|        2088117|\n",
      "|6604291|          88896|\n",
      "+-------+---------------+\n",
      "only showing top 3 rows\n",
      "\n"
     ]
    }
   ],
   "source": [
    "watch_time_item = views.withColumn(\"item\", views.ts_end - views.ts_start)\\\n",
    "    .groupBy('item_id')\\\n",
    "    .sum()\\\n",
    "    .select(\"item_id\", \"sum(item)\")\n",
    "watch_time_item = watch_time_item.withColumnRenamed(\"sum(item)\",\"watch_time_item\")\n",
    "\n",
    "watch_time_item.show(3)"
   ]
  },
  {
   "cell_type": "code",
   "execution_count": 32,
   "metadata": {},
   "outputs": [
    {
     "name": "stdout",
     "output_type": "stream",
     "text": [
      "+-------+------------------+\n",
      "|item_id|     avg_time_item|\n",
      "+-------+------------------+\n",
      "|6470621|1640.7307692307693|\n",
      "|7101164| 6031.573529411765|\n",
      "|6867283|            1376.6|\n",
      "+-------+------------------+\n",
      "only showing top 3 rows\n",
      "\n"
     ]
    }
   ],
   "source": [
    "avg_time_item = views.withColumn(\"item\", views.ts_end - views.ts_start)\\\n",
    "    .groupBy('item_id')\\\n",
    "    .mean()\\\n",
    "    .select(\"item_id\", \"avg(item)\")\n",
    "avg_time_item = avg_time_item.withColumnRenamed(\"avg(item)\",\"avg_time_item\")\n",
    "\n",
    "avg_time_item.show(3)"
   ]
  },
  {
   "cell_type": "markdown",
   "metadata": {},
   "source": [
    "**Смотрибельность передач и юзеров по количеству**"
   ]
  },
  {
   "cell_type": "code",
   "execution_count": 33,
   "metadata": {},
   "outputs": [
    {
     "name": "stdout",
     "output_type": "stream",
     "text": [
      "+-------+--------+\n",
      "|user_id|cnt_user|\n",
      "+-------+--------+\n",
      "| 785637|     259|\n",
      "| 786134|     259|\n",
      "| 786310|     113|\n",
      "+-------+--------+\n",
      "only showing top 3 rows\n",
      "\n"
     ]
    }
   ],
   "source": [
    "cnt_user = views.groupBy('user_id').count()\n",
    "\n",
    "cnt_user = cnt_user.withColumnRenamed(\"count\",\"cnt_user\")\n",
    "cnt_user.show(3)"
   ]
  },
  {
   "cell_type": "code",
   "execution_count": 34,
   "metadata": {},
   "outputs": [
    {
     "name": "stdout",
     "output_type": "stream",
     "text": [
      "+-------+--------+\n",
      "|item_id|cnt_item|\n",
      "+-------+--------+\n",
      "|6922406|    1558|\n",
      "|6550191|      72|\n",
      "|6559523|     828|\n",
      "+-------+--------+\n",
      "only showing top 3 rows\n",
      "\n"
     ]
    }
   ],
   "source": [
    "cnt_item = views.groupBy('item_id').count()\n",
    "\n",
    "cnt_item = cnt_item.withColumnRenamed(\"count\",\"cnt_item\")\n",
    "cnt_item.show(3)"
   ]
  },
  {
   "cell_type": "markdown",
   "metadata": {},
   "source": [
    "**Собираем датасет**"
   ]
  },
  {
   "cell_type": "code",
   "execution_count": 35,
   "metadata": {},
   "outputs": [
    {
     "name": "stdout",
     "output_type": "stream",
     "text": [
      "-RECORD 0-------------------------------\n",
      " user_id         | 754230               \n",
      " item_id         | 8389                 \n",
      " year            | 1981                 \n",
      " cnt_user        | 1164                 \n",
      " cnt_item        | null                 \n",
      " watch_time_user | 2256455              \n",
      " watch_time_item | null                 \n",
      " avg_time_user   | 1938.5352233676977   \n",
      " avg_time_item   | null                 \n",
      " sum_buys_user   | 72.0                 \n",
      " part_buys_user  | 0.027575641516660282 \n",
      " sum_buys_item   | 8.0                  \n",
      " part_buys_item  | 0.005979073243647235 \n",
      " live_item       | null                 \n",
      " live_user       | 0.39776632302405496  \n",
      " genre1          | Мультфильмы          \n",
      " genre2          | Детские              \n",
      " genre3          | Союзмультфильм       \n",
      " genre4          | Наши                 \n",
      " genre5          | null                 \n",
      " year_start      | 1970                 \n",
      " year_stop       | 2099                 \n",
      " purchase        | 0.0                  \n",
      "only showing top 1 row\n",
      "\n",
      "CPU times: user 210 ms, sys: 52.2 ms, total: 262 ms\n",
      "Wall time: 5min 27s\n"
     ]
    }
   ],
   "source": [
    "%%time\n",
    "train_df = train.join(items, ['item_id'], how='left')\\\n",
    "    .join(views, ['user_id', 'item_id'], how='left')\\\n",
    "    .join(cnt_user, ['user_id'], how='left')\\\n",
    "    .join(cnt_item, ['item_id'], how='left')\\\n",
    "    .join(watch_time_user, ['user_id'], how='left')\\\n",
    "    .join(watch_time_item, ['item_id'], how='left')\\\n",
    "    .join(avg_time_user, ['user_id'], how='left')\\\n",
    "    .join(avg_time_item, ['item_id'], how='left')\\\n",
    "    .join(sum_buys_user, ['user_id'], how='left')\\\n",
    "    .join(part_buys_user, ['user_id'], how='left')\\\n",
    "    .join(sum_buys_item, ['item_id'], how='left')\\\n",
    "    .join(part_buys_item, ['item_id'], how='left')\\\n",
    "    .join(live_user, ['user_id'], how='left')\\\n",
    "    .join(live_item, ['item_id'], how='left')\\\n",
    "    .select(\n",
    "        train.user_id,\n",
    "        train.item_id,\n",
    "        items.year,\n",
    "        cnt_user.cnt_user,\n",
    "        cnt_item.cnt_item,\n",
    "        watch_time_user.watch_time_user,\n",
    "        watch_time_item.watch_time_item,\n",
    "        avg_time_user.avg_time_user,\n",
    "        avg_time_item.avg_time_item,\n",
    "        sum_buys_user.sum_buys_user,\n",
    "        part_buys_user.part_buys_user,\n",
    "        sum_buys_item.sum_buys_item,\n",
    "        part_buys_item.part_buys_item,\n",
    "        live_item.live_item,\n",
    "        live_user.live_user,\n",
    "        split(items.genres,\",\")[0].alias(\"genre1\"),\n",
    "        split(items.genres,\",\")[1].alias(\"genre2\"),\n",
    "        split(items.genres,\",\")[2].alias(\"genre3\"),\n",
    "        split(items.genres,\",\")[3].alias(\"genre4\"),\n",
    "        split(items.genres,\",\")[4].alias(\"genre5\"),\n",
    "        year(items.datetime_availability_start).alias(\"year_start\"),\n",
    "        year(items.datetime_availability_stop).alias(\"year_stop\"),\n",
    "        train.purchase\n",
    ").cache()\n",
    "\n",
    "train_df.show(1, truncate=False, vertical=True)"
   ]
  },
  {
   "cell_type": "code",
   "execution_count": 36,
   "metadata": {},
   "outputs": [
    {
     "data": {
      "text/plain": [
       "5032624"
      ]
     },
     "execution_count": 36,
     "metadata": {},
     "output_type": "execute_result"
    }
   ],
   "source": [
    "train_df.count()"
   ]
  },
  {
   "cell_type": "code",
   "execution_count": 37,
   "metadata": {},
   "outputs": [
    {
     "name": "stdout",
     "output_type": "stream",
     "text": [
      "-RECORD 0--------------------------------\n",
      " user_id         | 822709                \n",
      " item_id         | 8389                  \n",
      " year            | 1981                  \n",
      " cnt_user        | 870                   \n",
      " cnt_item        | null                  \n",
      " watch_time_user | 2856524               \n",
      " watch_time_item | null                  \n",
      " avg_time_user   | 3283.36091954023      \n",
      " avg_time_item   | null                  \n",
      " sum_buys_user   | 1.0                   \n",
      " part_buys_user  | 3.7893141341417203E-4 \n",
      " sum_buys_item   | 8.0                   \n",
      " part_buys_item  | 0.005979073243647235  \n",
      " live_item       | null                  \n",
      " live_user       | 0.5183908045977011    \n",
      " genre1          | Мультфильмы           \n",
      " genre2          | Детские               \n",
      " genre3          | Союзмультфильм        \n",
      " genre4          | Наши                  \n",
      " genre5          | null                  \n",
      " year_start      | 1970                  \n",
      " year_stop       | 2099                  \n",
      "only showing top 1 row\n",
      "\n",
      "CPU times: user 75 ms, sys: 24.8 ms, total: 99.8 ms\n",
      "Wall time: 4min 9s\n"
     ]
    }
   ],
   "source": [
    "%%time\n",
    "test_df = test.join(items, ['item_id'], how='left')\\\n",
    "    .join(views, ['user_id', 'item_id'], how='left')\\\n",
    "    .join(cnt_user, ['user_id'], how='left')\\\n",
    "    .join(cnt_item, ['item_id'], how='left')\\\n",
    "    .join(watch_time_user, ['user_id'], how='left')\\\n",
    "    .join(watch_time_item, ['item_id'], how='left')\\\n",
    "    .join(avg_time_user, ['user_id'], how='left')\\\n",
    "    .join(avg_time_item, ['item_id'], how='left')\\\n",
    "    .join(sum_buys_user, ['user_id'], how='left')\\\n",
    "    .join(part_buys_user, ['user_id'], how='left')\\\n",
    "    .join(sum_buys_item, ['item_id'], how='left')\\\n",
    "    .join(part_buys_item, ['item_id'], how='left')\\\n",
    "    .join(live_user, ['user_id'], how='left')\\\n",
    "    .join(live_item, ['item_id'], how='left')\\\n",
    "    .select(\n",
    "        test.user_id,\n",
    "        test.item_id,\n",
    "        items.year,\n",
    "        cnt_user.cnt_user,\n",
    "        cnt_item.cnt_item,\n",
    "        watch_time_user.watch_time_user,\n",
    "        watch_time_item.watch_time_item,\n",
    "        avg_time_user.avg_time_user,\n",
    "        avg_time_item.avg_time_item,\n",
    "        sum_buys_user.sum_buys_user,\n",
    "        part_buys_user.part_buys_user,\n",
    "        sum_buys_item.sum_buys_item,\n",
    "        part_buys_item.part_buys_item,\n",
    "        live_item.live_item,\n",
    "        live_user.live_user,\n",
    "        split(items.genres,\",\")[0].alias(\"genre1\"),\n",
    "        split(items.genres,\",\")[1].alias(\"genre2\"),\n",
    "        split(items.genres,\",\")[2].alias(\"genre3\"),\n",
    "        split(items.genres,\",\")[3].alias(\"genre4\"),\n",
    "        split(items.genres,\",\")[4].alias(\"genre5\"),\n",
    "        year(items.datetime_availability_start).alias(\"year_start\"),\n",
    "        year(items.datetime_availability_stop).alias(\"year_stop\")\n",
    ").cache()\n",
    "\n",
    "test_df.show(1, truncate=False, vertical=True)"
   ]
  },
  {
   "cell_type": "code",
   "execution_count": 38,
   "metadata": {},
   "outputs": [
    {
     "data": {
      "text/plain": [
       "2156840"
      ]
     },
     "execution_count": 38,
     "metadata": {},
     "output_type": "execute_result"
    }
   ],
   "source": [
    "test_df.count()"
   ]
  },
  {
   "cell_type": "code",
   "execution_count": 39,
   "metadata": {},
   "outputs": [
    {
     "name": "stdout",
     "output_type": "stream",
     "text": [
      "root\n",
      " |-- user_id: string (nullable = true)\n",
      " |-- item_id: string (nullable = true)\n",
      " |-- year: integer (nullable = true)\n",
      " |-- cnt_user: long (nullable = true)\n",
      " |-- cnt_item: long (nullable = true)\n",
      " |-- watch_time_user: long (nullable = true)\n",
      " |-- watch_time_item: long (nullable = true)\n",
      " |-- avg_time_user: double (nullable = true)\n",
      " |-- avg_time_item: double (nullable = true)\n",
      " |-- sum_buys_user: double (nullable = true)\n",
      " |-- part_buys_user: double (nullable = true)\n",
      " |-- sum_buys_item: double (nullable = true)\n",
      " |-- part_buys_item: double (nullable = true)\n",
      " |-- live_item: double (nullable = true)\n",
      " |-- live_user: double (nullable = true)\n",
      " |-- genre1: string (nullable = true)\n",
      " |-- genre2: string (nullable = true)\n",
      " |-- genre3: string (nullable = true)\n",
      " |-- genre4: string (nullable = true)\n",
      " |-- genre5: string (nullable = true)\n",
      " |-- year_start: integer (nullable = true)\n",
      " |-- year_stop: integer (nullable = true)\n",
      " |-- purchase: float (nullable = true)\n",
      "\n"
     ]
    }
   ],
   "source": [
    "train_df.printSchema()"
   ]
  },
  {
   "cell_type": "code",
   "execution_count": 40,
   "metadata": {},
   "outputs": [
    {
     "name": "stdout",
     "output_type": "stream",
     "text": [
      "root\n",
      " |-- user_id: integer (nullable = true)\n",
      " |-- item_id: integer (nullable = true)\n",
      " |-- year: integer (nullable = true)\n",
      " |-- cnt_user: long (nullable = true)\n",
      " |-- cnt_item: long (nullable = true)\n",
      " |-- watch_time_user: long (nullable = true)\n",
      " |-- watch_time_item: long (nullable = true)\n",
      " |-- avg_time_user: double (nullable = true)\n",
      " |-- avg_time_item: double (nullable = true)\n",
      " |-- sum_buys_user: double (nullable = true)\n",
      " |-- part_buys_user: double (nullable = true)\n",
      " |-- sum_buys_item: double (nullable = true)\n",
      " |-- part_buys_item: double (nullable = true)\n",
      " |-- live_item: double (nullable = true)\n",
      " |-- live_user: double (nullable = true)\n",
      " |-- genre1: string (nullable = true)\n",
      " |-- genre2: string (nullable = true)\n",
      " |-- genre3: string (nullable = true)\n",
      " |-- genre4: string (nullable = true)\n",
      " |-- genre5: string (nullable = true)\n",
      " |-- year_start: integer (nullable = true)\n",
      " |-- year_stop: integer (nullable = true)\n",
      "\n"
     ]
    }
   ],
   "source": [
    "test_df = test_df.withColumn(\"user_id\", test_df[\"user_id\"].cast(IntegerType()))\n",
    "test_df = test_df.withColumn(\"item_id\", test_df[\"item_id\"].cast(IntegerType()))\n",
    "test_df.printSchema()"
   ]
  },
  {
   "cell_type": "code",
   "execution_count": 41,
   "metadata": {},
   "outputs": [
    {
     "name": "stdout",
     "output_type": "stream",
     "text": [
      "root\n",
      " |-- user_id: integer (nullable = true)\n",
      " |-- item_id: integer (nullable = true)\n",
      " |-- year: integer (nullable = true)\n",
      " |-- cnt_user: long (nullable = true)\n",
      " |-- cnt_item: long (nullable = true)\n",
      " |-- watch_time_user: long (nullable = true)\n",
      " |-- watch_time_item: long (nullable = true)\n",
      " |-- avg_time_user: double (nullable = true)\n",
      " |-- avg_time_item: double (nullable = true)\n",
      " |-- sum_buys_user: double (nullable = true)\n",
      " |-- part_buys_user: double (nullable = true)\n",
      " |-- sum_buys_item: double (nullable = true)\n",
      " |-- part_buys_item: double (nullable = true)\n",
      " |-- live_item: double (nullable = true)\n",
      " |-- live_user: double (nullable = true)\n",
      " |-- genre1: string (nullable = true)\n",
      " |-- genre2: string (nullable = true)\n",
      " |-- genre3: string (nullable = true)\n",
      " |-- genre4: string (nullable = true)\n",
      " |-- genre5: string (nullable = true)\n",
      " |-- year_start: integer (nullable = true)\n",
      " |-- year_stop: integer (nullable = true)\n",
      " |-- purchase: float (nullable = true)\n",
      "\n"
     ]
    }
   ],
   "source": [
    "train_df = train_df.withColumn(\"user_id\", train_df[\"user_id\"].cast(IntegerType()))\n",
    "train_df = train_df.withColumn(\"item_id\", train_df[\"item_id\"].cast(IntegerType()))\n",
    "train_df.printSchema()"
   ]
  },
  {
   "cell_type": "code",
   "execution_count": 44,
   "metadata": {},
   "outputs": [],
   "source": [
    "from pyspark.ml.feature import StringIndexer\n",
    "indexer1 = StringIndexer(inputCol=\"genre1\", outputCol=\"genre1_index\")\n",
    "indexed1 = indexer1.setHandleInvalid(\"keep\").fit(train_df).transform(train_df)"
   ]
  },
  {
   "cell_type": "code",
   "execution_count": 45,
   "metadata": {},
   "outputs": [],
   "source": [
    "indexer2 = StringIndexer(inputCol=\"genre2\", outputCol=\"genre2_index\")\n",
    "indexed2 = indexer2.setHandleInvalid(\"keep\").fit(indexed1).transform(indexed1)\n",
    "\n",
    "indexer3 = StringIndexer(inputCol=\"genre3\", outputCol=\"genre3_index\")\n",
    "indexed3 = indexer3.setHandleInvalid(\"keep\").fit(indexed2).transform(indexed2)\n",
    "\n",
    "indexer4 = StringIndexer(inputCol=\"genre4\", outputCol=\"genre4_index\")\n",
    "indexed4 = indexer4.setHandleInvalid(\"keep\").fit(indexed3).transform(indexed3)\n",
    "\n",
    "indexer5 = StringIndexer(inputCol=\"genre5\", outputCol=\"genre5_index\")\n",
    "indexed5 = indexer5.setHandleInvalid(\"keep\").fit(indexed4).transform(indexed4)"
   ]
  },
  {
   "cell_type": "code",
   "execution_count": 46,
   "metadata": {},
   "outputs": [
    {
     "name": "stdout",
     "output_type": "stream",
     "text": [
      "-RECORD 0-------------------------------\n",
      " user_id         | 754230               \n",
      " item_id         | 8389                 \n",
      " year            | 1981                 \n",
      " cnt_user        | 1164                 \n",
      " cnt_item        | null                 \n",
      " watch_time_user | 2256455              \n",
      " watch_time_item | null                 \n",
      " avg_time_user   | 1938.5352233676977   \n",
      " avg_time_item   | null                 \n",
      " sum_buys_user   | 72.0                 \n",
      " part_buys_user  | 0.027575641516660282 \n",
      " sum_buys_item   | 8.0                  \n",
      " part_buys_item  | 0.005979073243647235 \n",
      " live_item       | null                 \n",
      " live_user       | 0.39776632302405496  \n",
      " genre1          | Мультфильмы          \n",
      " genre2          | Детские              \n",
      " genre3          | Союзмультфильм       \n",
      " genre4          | Наши                 \n",
      " genre5          | null                 \n",
      " year_start      | 1970                 \n",
      " year_stop       | 2099                 \n",
      " purchase        | 0.0                  \n",
      " genre1_index    | 6.0                  \n",
      " genre2_index    | 12.0                 \n",
      " genre3_index    | 7.0                  \n",
      " genre4_index    | 1.0                  \n",
      " genre5_index    | 35.0                 \n",
      "only showing top 1 row\n",
      "\n"
     ]
    }
   ],
   "source": [
    "indexed5.show(1, vertical=True)"
   ]
  },
  {
   "cell_type": "code",
   "execution_count": 47,
   "metadata": {},
   "outputs": [],
   "source": [
    "train_idf = indexed5.drop('genre1', 'genre2', 'genre3', 'genre4', 'genre5')"
   ]
  },
  {
   "cell_type": "code",
   "execution_count": 48,
   "metadata": {},
   "outputs": [
    {
     "name": "stdout",
     "output_type": "stream",
     "text": [
      "-RECORD 0-------------------------------\n",
      " user_id         | 754230               \n",
      " item_id         | 8389                 \n",
      " year            | 1981                 \n",
      " cnt_user        | 1164                 \n",
      " cnt_item        | null                 \n",
      " watch_time_user | 2256455              \n",
      " watch_time_item | null                 \n",
      " avg_time_user   | 1938.5352233676977   \n",
      " avg_time_item   | null                 \n",
      " sum_buys_user   | 72.0                 \n",
      " part_buys_user  | 0.027575641516660282 \n",
      " sum_buys_item   | 8.0                  \n",
      " part_buys_item  | 0.005979073243647235 \n",
      " live_item       | null                 \n",
      " live_user       | 0.39776632302405496  \n",
      " year_start      | 1970                 \n",
      " year_stop       | 2099                 \n",
      " purchase        | 0.0                  \n",
      " genre1_index    | 6.0                  \n",
      " genre2_index    | 12.0                 \n",
      " genre3_index    | 7.0                  \n",
      " genre4_index    | 1.0                  \n",
      " genre5_index    | 35.0                 \n",
      "only showing top 1 row\n",
      "\n"
     ]
    }
   ],
   "source": [
    "train_idf.show(1, vertical=True)"
   ]
  },
  {
   "cell_type": "code",
   "execution_count": 49,
   "metadata": {},
   "outputs": [],
   "source": [
    "test_indexer1 = StringIndexer(inputCol=\"genre1\", outputCol=\"genre1_index\")\n",
    "test_test_indexed1 = test_indexer1.setHandleInvalid(\"keep\").fit(test_df).transform(test_df)\n",
    "\n",
    "test_indexer2 = StringIndexer(inputCol=\"genre2\", outputCol=\"genre2_index\")\n",
    "test_test_indexed2 = test_indexer2.setHandleInvalid(\"keep\").fit(test_test_indexed1).transform(test_test_indexed1)\n",
    "\n",
    "test_indexer3 = StringIndexer(inputCol=\"genre3\", outputCol=\"genre3_index\")\n",
    "test_test_indexed3 = test_indexer3.setHandleInvalid(\"keep\").fit(test_test_indexed2).transform(test_test_indexed2)\n",
    "\n",
    "test_indexer4 = StringIndexer(inputCol=\"genre4\", outputCol=\"genre4_index\")\n",
    "test_test_indexed4 = test_indexer4.setHandleInvalid(\"keep\").fit(test_test_indexed3).transform(test_test_indexed3)\n",
    "\n",
    "test_indexer5 = StringIndexer(inputCol=\"genre5\", outputCol=\"genre5_index\")\n",
    "test_test_indexed5 = test_indexer5.setHandleInvalid(\"keep\").fit(test_test_indexed4).transform(test_test_indexed4)"
   ]
  },
  {
   "cell_type": "code",
   "execution_count": 50,
   "metadata": {},
   "outputs": [
    {
     "name": "stdout",
     "output_type": "stream",
     "text": [
      "-RECORD 0-------------------------------\n",
      " user_id         | 822709               \n",
      " item_id         | 8389                 \n",
      " year            | 1981                 \n",
      " cnt_user        | 870                  \n",
      " cnt_item        | null                 \n",
      " watch_time_user | 2856524              \n",
      " watch_time_item | null                 \n",
      " avg_time_user   | 3283.36091954023     \n",
      " avg_time_item   | null                 \n",
      " sum_buys_user   | 1.0                  \n",
      " part_buys_user  | 3.789314134141720... \n",
      " sum_buys_item   | 8.0                  \n",
      " part_buys_item  | 0.005979073243647235 \n",
      " live_item       | null                 \n",
      " live_user       | 0.5183908045977011   \n",
      " genre1          | Мультфильмы          \n",
      " genre2          | Детские              \n",
      " genre3          | Союзмультфильм       \n",
      " genre4          | Наши                 \n",
      " genre5          | null                 \n",
      " year_start      | 1970                 \n",
      " year_stop       | 2099                 \n",
      " genre1_index    | 6.0                  \n",
      " genre2_index    | 12.0                 \n",
      " genre3_index    | 7.0                  \n",
      " genre4_index    | 1.0                  \n",
      " genre5_index    | 35.0                 \n",
      "only showing top 1 row\n",
      "\n"
     ]
    }
   ],
   "source": [
    "test_test_indexed5.show(1, vertical=True)"
   ]
  },
  {
   "cell_type": "code",
   "execution_count": 51,
   "metadata": {},
   "outputs": [],
   "source": [
    "test_idf = test_test_indexed5.drop('genre1', 'genre2', 'genre3', 'genre4', 'genre5')"
   ]
  },
  {
   "cell_type": "code",
   "execution_count": 52,
   "metadata": {},
   "outputs": [
    {
     "name": "stdout",
     "output_type": "stream",
     "text": [
      "-RECORD 0-------------------------------\n",
      " user_id         | 822709               \n",
      " item_id         | 8389                 \n",
      " year            | 1981                 \n",
      " cnt_user        | 870                  \n",
      " cnt_item        | null                 \n",
      " watch_time_user | 2856524              \n",
      " watch_time_item | null                 \n",
      " avg_time_user   | 3283.36091954023     \n",
      " avg_time_item   | null                 \n",
      " sum_buys_user   | 1.0                  \n",
      " part_buys_user  | 3.789314134141720... \n",
      " sum_buys_item   | 8.0                  \n",
      " part_buys_item  | 0.005979073243647235 \n",
      " live_item       | null                 \n",
      " live_user       | 0.5183908045977011   \n",
      " year_start      | 1970                 \n",
      " year_stop       | 2099                 \n",
      " genre1_index    | 6.0                  \n",
      " genre2_index    | 12.0                 \n",
      " genre3_index    | 7.0                  \n",
      " genre4_index    | 1.0                  \n",
      " genre5_index    | 35.0                 \n",
      "only showing top 1 row\n",
      "\n"
     ]
    }
   ],
   "source": [
    "test_idf.show(1, vertical=True)"
   ]
  },
  {
   "cell_type": "code",
   "execution_count": 53,
   "metadata": {},
   "outputs": [
    {
     "name": "stdout",
     "output_type": "stream",
     "text": [
      "CPU times: user 23.7 ms, sys: 7.93 ms, total: 31.7 ms\n",
      "Wall time: 418 ms\n"
     ]
    }
   ],
   "source": [
    "%%time\n",
    "from pyspark.ml.feature import VectorAssembler\n",
    "\n",
    "feat_cols = train_idf.columns\n",
    "feat_cols.remove('purchase')\n",
    "vectorAssembler = VectorAssembler(inputCols = feat_cols, outputCol = 'features')\n",
    "vdf_train = vectorAssembler.setHandleInvalid('keep').transform(train_idf)\n",
    "vdf_test = vectorAssembler.setHandleInvalid('keep').transform(test_idf)"
   ]
  },
  {
   "cell_type": "code",
   "execution_count": 54,
   "metadata": {},
   "outputs": [
    {
     "name": "stdout",
     "output_type": "stream",
     "text": [
      "-RECORD 0-------------------------------\n",
      " user_id         | 754230               \n",
      " item_id         | 8389                 \n",
      " year            | 1981                 \n",
      " cnt_user        | 1164                 \n",
      " cnt_item        | null                 \n",
      " watch_time_user | 2256455              \n",
      " watch_time_item | null                 \n",
      " avg_time_user   | 1938.5352233676977   \n",
      " avg_time_item   | null                 \n",
      " sum_buys_user   | 72.0                 \n",
      " part_buys_user  | 0.027575641516660282 \n",
      " sum_buys_item   | 8.0                  \n",
      " part_buys_item  | 0.005979073243647235 \n",
      " live_item       | null                 \n",
      " live_user       | 0.39776632302405496  \n",
      " year_start      | 1970                 \n",
      " year_stop       | 2099                 \n",
      " purchase        | 0.0                  \n",
      " genre1_index    | 6.0                  \n",
      " genre2_index    | 12.0                 \n",
      " genre3_index    | 7.0                  \n",
      " genre4_index    | 1.0                  \n",
      " genre5_index    | 35.0                 \n",
      " features        | [754230.0,8389.0,... \n",
      "only showing top 1 row\n",
      "\n"
     ]
    }
   ],
   "source": [
    "vdf_train.show(1, vertical=True)"
   ]
  },
  {
   "cell_type": "code",
   "execution_count": 55,
   "metadata": {},
   "outputs": [
    {
     "name": "stdout",
     "output_type": "stream",
     "text": [
      "-RECORD 0-------------------------------\n",
      " user_id         | 822709               \n",
      " item_id         | 8389                 \n",
      " year            | 1981                 \n",
      " cnt_user        | 870                  \n",
      " cnt_item        | null                 \n",
      " watch_time_user | 2856524              \n",
      " watch_time_item | null                 \n",
      " avg_time_user   | 3283.36091954023     \n",
      " avg_time_item   | null                 \n",
      " sum_buys_user   | 1.0                  \n",
      " part_buys_user  | 3.789314134141720... \n",
      " sum_buys_item   | 8.0                  \n",
      " part_buys_item  | 0.005979073243647235 \n",
      " live_item       | null                 \n",
      " live_user       | 0.5183908045977011   \n",
      " year_start      | 1970                 \n",
      " year_stop       | 2099                 \n",
      " genre1_index    | 6.0                  \n",
      " genre2_index    | 12.0                 \n",
      " genre3_index    | 7.0                  \n",
      " genre4_index    | 1.0                  \n",
      " genre5_index    | 35.0                 \n",
      " features        | [822709.0,8389.0,... \n",
      "only showing top 1 row\n",
      "\n"
     ]
    }
   ],
   "source": [
    "vdf_test.show(1, vertical=True)"
   ]
  },
  {
   "cell_type": "code",
   "execution_count": 56,
   "metadata": {},
   "outputs": [],
   "source": [
    "from pyspark.ml.regression import GBTRegressor\n",
    "gbt = GBTRegressor(labelCol=\"purchase\",\n",
    "                   maxBins=70,\n",
    "                   maxIter=10,\n",
    "                   maxDepth=10)"
   ]
  },
  {
   "cell_type": "code",
   "execution_count": 57,
   "metadata": {},
   "outputs": [
    {
     "name": "stdout",
     "output_type": "stream",
     "text": [
      "+-------+-------+----+--------+--------+---------------+---------------+------------------+-------------+-------------+--------------------+-------------+--------------------+---------+------------------+----------+---------+------------+------------+------------+------------+------------+--------------------+--------------------+\n",
      "|user_id|item_id|year|cnt_user|cnt_item|watch_time_user|watch_time_item|     avg_time_user|avg_time_item|sum_buys_user|      part_buys_user|sum_buys_item|      part_buys_item|live_item|         live_user|year_start|year_stop|genre1_index|genre2_index|genre3_index|genre4_index|genre5_index|            features|          prediction|\n",
      "+-------+-------+----+--------+--------+---------------+---------------+------------------+-------------+-------------+--------------------+-------------+--------------------+---------+------------------+----------+---------+------------+------------+------------+------------+------------+--------------------+--------------------+\n",
      "| 822709|   8389|1981|     870|    null|        2856524|           null|  3283.36091954023|         null|          1.0|3.789314134141720...|          8.0|0.005979073243647235|     null|0.5183908045977011|      1970|     2099|         6.0|        12.0|         7.0|         1.0|        35.0|[822709.0,8389.0,...|8.930145961697421E-4|\n",
      "| 824008|   8389|1981|     124|    null|         224922|           null|1813.8870967741937|         null|          1.0|3.821169277799006...|          8.0|0.005979073243647235|     null|0.4435483870967742|      1970|     2099|         6.0|        12.0|         7.0|         1.0|        35.0|[824008.0,8389.0,...|8.930145961697421E-4|\n",
      "| 890476|   8389|1981|     487|    null|        2269124|           null| 4659.392197125257|         null|          0.0|                 0.0|          8.0|0.005979073243647235|     null|0.8480492813141683|      1970|     2099|         6.0|        12.0|         7.0|         1.0|        35.0|[890476.0,8389.0,...| 3.04555402798359E-5|\n",
      "| 899993|   8389|1981|     926|    null|        3077349|           null| 3323.271058315335|         null|          1.0|3.889537145079735...|          8.0|0.005979073243647235|     null| 0.958963282937365|      1970|     2099|         6.0|        12.0|         7.0|         1.0|        35.0|[899993.0,8389.0,...| 6.31169606564553E-4|\n",
      "| 937345|   8389|1981|     185|    null|         353283|           null|1909.6378378378379|         null|          1.0|3.850596842510589E-4|          8.0|0.005979073243647235|     null|0.9837837837837838|      1970|     2099|         6.0|        12.0|         7.0|         1.0|        35.0|[937345.0,8389.0,...| 6.31169606564553E-4|\n",
      "+-------+-------+----+--------+--------+---------------+---------------+------------------+-------------+-------------+--------------------+-------------+--------------------+---------+------------------+----------+---------+------------+------------+------------+------------+------------+--------------------+--------------------+\n",
      "only showing top 5 rows\n",
      "\n",
      "CPU times: user 815 ms, sys: 238 ms, total: 1.05 s\n",
      "Wall time: 19min 50s\n"
     ]
    }
   ],
   "source": [
    "%%time\n",
    "gbt_model = gbt.fit(vdf_train.select('features', 'purchase'))\n",
    "gbt_predictions = gbt_model.transform(vdf_test)\n",
    "gbt_predictions.show(5)"
   ]
  },
  {
   "cell_type": "code",
   "execution_count": 60,
   "metadata": {},
   "outputs": [],
   "source": [
    "sort_cols = ['user_id', 'item_id']"
   ]
  },
  {
   "cell_type": "code",
   "execution_count": 61,
   "metadata": {},
   "outputs": [
    {
     "name": "stdout",
     "output_type": "stream",
     "text": [
      "+-------+-------+--------------------+\n",
      "|user_id|item_id|          prediction|\n",
      "+-------+-------+--------------------+\n",
      "|   1654|    336|2.082252448161448...|\n",
      "|   1654|    678|3.361754396954419E-5|\n",
      "|   1654|    691|0.001706885084463...|\n",
      "|   1654|    696|0.001251808925392...|\n",
      "|   1654|    763|4.820450841900690...|\n",
      "|   1654|    795|0.001141267186160...|\n",
      "|   1654|    861|5.003302186070495E-4|\n",
      "|   1654|   1137|0.001638953050254...|\n",
      "|   1654|   1159|0.001203658726586...|\n",
      "|   1654|   1428|4.875351991191196...|\n",
      "|   1654|   1685|0.002669678782550067|\n",
      "|   1654|   1686|0.001115900346186...|\n",
      "|   1654|   1704|0.003799082847896...|\n",
      "|   1654|   2093|-9.50410382736278...|\n",
      "|   1654|   2343|0.001164050544991...|\n",
      "|   1654|   2451|-4.53053375288120...|\n",
      "|   1654|   2469|0.005377543023339494|\n",
      "|   1654|   2603|0.001105730273660...|\n",
      "|   1654|   2609|5.672998138122466E-6|\n",
      "|   1654|   2621|0.002669245515051362|\n",
      "+-------+-------+--------------------+\n",
      "only showing top 20 rows\n",
      "\n"
     ]
    }
   ],
   "source": [
    "pred_final = gbt_predictions.select('user_id', 'item_id', 'prediction').orderBy(sort_cols, ascending=True)\n",
    "pred_final.show()"
   ]
  },
  {
   "cell_type": "code",
   "execution_count": 75,
   "metadata": {},
   "outputs": [
    {
     "name": "stdout",
     "output_type": "stream",
     "text": [
      "+-------+-----------------+------------------+--------------------+\n",
      "|summary|          user_id|           item_id|          prediction|\n",
      "+-------+-----------------+------------------+--------------------+\n",
      "|  count|          2156840|           2156840|             2156840|\n",
      "|   mean|869652.3733920922| 66896.00283609354|0.002368068419827...|\n",
      "| stddev|60706.51616333811|35227.831307046414| 0.01615443935100325|\n",
      "|    min|             1654|               326| -0.3239834442297699|\n",
      "|    25%|           846164|             65668|4.370825463907960...|\n",
      "|    50%|           885247|             79856|1.383871110444908E-4|\n",
      "|    75%|           908588|             93606|9.628860939496383E-4|\n",
      "|    max|           941450|            104165|  1.4431132445932913|\n",
      "+-------+-----------------+------------------+--------------------+\n",
      "\n"
     ]
    }
   ],
   "source": [
    "pred_final.summary().show()"
   ]
  },
  {
   "cell_type": "code",
   "execution_count": 76,
   "metadata": {},
   "outputs": [
    {
     "name": "stdout",
     "output_type": "stream",
     "text": [
      "+-------+-------+--------------------+--------------------+\n",
      "|user_id|item_id|          prediction|      prediction_mod|\n",
      "+-------+-------+--------------------+--------------------+\n",
      "|   1654|    336|2.082252448161448...|2.082252448161448...|\n",
      "|   1654|    678|3.361754396954419E-5|3.361754396954419E-5|\n",
      "|   1654|    691|0.001706885084463...|0.001706885084463...|\n",
      "|   1654|    696|0.001251808925392...|0.001251808925392...|\n",
      "|   1654|    763|4.820450841900690...|4.820450841900690...|\n",
      "|   1654|    795|0.001141267186160...|0.001141267186160...|\n",
      "|   1654|    861|5.003302186070495E-4|5.003302186070495E-4|\n",
      "|   1654|   1137|0.001638953050254...|0.001638953050254...|\n",
      "|   1654|   1159|0.001203658726586...|0.001203658726586...|\n",
      "|   1654|   1428|4.875351991191196...|4.875351991191196...|\n",
      "|   1654|   1685|0.002669678782550067|0.002669678782550067|\n",
      "|   1654|   1686|0.001115900346186...|0.001115900346186...|\n",
      "|   1654|   1704|0.003799082847896...|0.003799082847896...|\n",
      "|   1654|   2093|-9.50410382736278...|                 0.0|\n",
      "|   1654|   2343|0.001164050544991...|0.001164050544991...|\n",
      "|   1654|   2451|-4.53053375288120...|                 0.0|\n",
      "|   1654|   2469|0.005377543023339494|0.005377543023339494|\n",
      "|   1654|   2603|0.001105730273660...|0.001105730273660...|\n",
      "|   1654|   2609|5.672998138122466E-6|5.672998138122466E-6|\n",
      "|   1654|   2621|0.002669245515051362|0.002669245515051362|\n",
      "+-------+-------+--------------------+--------------------+\n",
      "only showing top 20 rows\n",
      "\n"
     ]
    }
   ],
   "source": [
    "pred_mod = pred_final\\\n",
    ".withColumn('prediction_mod',when(pred_final.prediction < 0, 0)\\\n",
    "            .otherwise(when(pred_final.prediction > 1, 1)\\\n",
    "                       .otherwise(pred_final.prediction)))\n",
    "pred_mod.show()"
   ]
  },
  {
   "cell_type": "code",
   "execution_count": 77,
   "metadata": {},
   "outputs": [
    {
     "name": "stdout",
     "output_type": "stream",
     "text": [
      "+-------+-----------------+-----------------+--------------------+--------------------+\n",
      "|summary|          user_id|          item_id|          prediction|      prediction_mod|\n",
      "+-------+-----------------+-----------------+--------------------+--------------------+\n",
      "|  count|          2156840|          2156840|             2156840|             2156840|\n",
      "|   mean|869652.3733920922|66896.00283609354|0.002368068419827...|0.002407431428232...|\n",
      "| stddev|60706.51616333833|35227.83130704641| 0.01615443935100325|0.015944526798910386|\n",
      "|    min|             1654|              326| -0.3239834442297699|                 0.0|\n",
      "|    25%|           846164|            65668|4.370825463907960...|4.370825463907960...|\n",
      "|    50%|           885247|            79856|1.383237904492889...|1.383237904492889...|\n",
      "|    75%|           908588|            93606|9.628860939496383E-4|9.628860939496383E-4|\n",
      "|    max|           941450|           104165|  1.4431132445932913|                 1.0|\n",
      "+-------+-----------------+-----------------+--------------------+--------------------+\n",
      "\n"
     ]
    }
   ],
   "source": [
    "pred_mod.summary().show()"
   ]
  },
  {
   "cell_type": "code",
   "execution_count": 78,
   "metadata": {},
   "outputs": [],
   "source": [
    "pred_mod = pred_mod.drop('prediction').withColumnRenamed('prediction_mod','purchase')"
   ]
  },
  {
   "cell_type": "code",
   "execution_count": 79,
   "metadata": {},
   "outputs": [
    {
     "name": "stdout",
     "output_type": "stream",
     "text": [
      "+-------+-------+--------------------+\n",
      "|user_id|item_id|            purchase|\n",
      "+-------+-------+--------------------+\n",
      "|   1654|    336|2.082252448161448...|\n",
      "|   1654|    678|3.361754396954419E-5|\n",
      "|   1654|    691|0.001706885084463...|\n",
      "|   1654|    696|0.001251808925392...|\n",
      "|   1654|    763|4.820450841900690...|\n",
      "|   1654|    795|0.001141267186160...|\n",
      "|   1654|    861|5.003302186070495E-4|\n",
      "|   1654|   1137|0.001638953050254...|\n",
      "|   1654|   1159|0.001203658726586...|\n",
      "|   1654|   1428|4.875351991191196...|\n",
      "|   1654|   1685|0.002669678782550067|\n",
      "|   1654|   1686|0.001115900346186...|\n",
      "|   1654|   1704|0.003799082847896...|\n",
      "|   1654|   2093|                 0.0|\n",
      "|   1654|   2343|0.001164050544991...|\n",
      "|   1654|   2451|                 0.0|\n",
      "|   1654|   2469|0.005377543023339494|\n",
      "|   1654|   2603|0.001105730273660...|\n",
      "|   1654|   2609|5.672998138122466E-6|\n",
      "|   1654|   2621|0.002669245515051362|\n",
      "+-------+-------+--------------------+\n",
      "only showing top 20 rows\n",
      "\n"
     ]
    }
   ],
   "source": [
    "pred_mod.show()"
   ]
  },
  {
   "cell_type": "code",
   "execution_count": 80,
   "metadata": {},
   "outputs": [],
   "source": [
    "pred_mod.toPandas().to_csv('lab03.csv')"
   ]
  },
  {
   "cell_type": "code",
   "execution_count": 325,
   "metadata": {},
   "outputs": [],
   "source": [
    "sc.stop()"
   ]
  }
 ],
 "metadata": {
  "kernelspec": {
   "display_name": "Python 3",
   "language": "python",
   "name": "python3"
  },
  "language_info": {
   "codemirror_mode": {
    "name": "ipython",
    "version": 3
   },
   "file_extension": ".py",
   "mimetype": "text/x-python",
   "name": "python",
   "nbconvert_exporter": "python",
   "pygments_lexer": "ipython3",
   "version": "3.6.5"
  }
 },
 "nbformat": 4,
 "nbformat_minor": 2
}
