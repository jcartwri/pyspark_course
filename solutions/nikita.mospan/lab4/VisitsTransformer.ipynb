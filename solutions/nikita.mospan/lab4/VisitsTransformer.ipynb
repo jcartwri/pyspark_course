{
 "cells": [
  {
   "cell_type": "code",
   "execution_count": 2,
   "metadata": {},
   "outputs": [],
   "source": [
    "from pyspark.ml import Transformer\n",
    "from pyspark.ml.param.shared import HasInputCol, HasOutputCol\n",
    "from pyspark import keyword_only\n",
    "from pyspark.ml.param import Param, Params, TypeConverters\n",
    "from pyspark.ml.util import DefaultParamsReadable, DefaultParamsWritable\n",
    "\n",
    "class VisitsTransformer(Transformer, HasInputCol, HasOutputCol, DefaultParamsReadable, DefaultParamsWritable,):\n",
    "    \n",
    "    @keyword_only\n",
    "    def __init__(self, inputCol=\"visits\", outputCol=\"domains\"):\n",
    "        super(VisitsTransformer, self).__init__()\n",
    "        if inputCol is not None:\n",
    "            self.setInputCol(inputCol)\n",
    "        if outputCol is not None:\n",
    "            self.setOutputCol(outputCol)\n",
    "    \n",
    "#     def getVisitsJsonSchema(self, inDf):\n",
    "#         inputCol = self.getInputCol()\n",
    "#         return F.schema_of_json(inDf.select(inputCol).limit(1).toPandas()[inputCol].iloc[0])\n",
    "    \n",
    "    def _transform(self, dataset):\n",
    "        from urllib.parse import urlparse\n",
    "        from pyspark.sql.types import ArrayType, StringType\n",
    "        extractDomainsUdf = F.udf(lambda urls: [urlparse(url).netloc.lower().replace('www.', '') \n",
    "                                        for url in urls], ArrayType(StringType()))\n",
    "        visitsJsonSchema = ArrayType(StructType([StructField(\"timestamp\", LongType()),\n",
    "                                                StructField(\"url\", StringType())]))\n",
    "        inputCol = self.getInputCol()\n",
    "        outputCol = self.getOutputCol()\n",
    "        return dataset.withColumn(outputCol, extractDomainsUdf(F.from_json(inputCol, visitsJsonSchema).getField(\"url\")))"
   ]
  }
 ],
 "metadata": {
  "kernelspec": {
   "display_name": "Python 3",
   "language": "python",
   "name": "python3"
  },
  "language_info": {
   "codemirror_mode": {
    "name": "ipython",
    "version": 3
   },
   "file_extension": ".py",
   "mimetype": "text/x-python",
   "name": "python",
   "nbconvert_exporter": "python",
   "pygments_lexer": "ipython3",
   "version": "3.6.5"
  }
 },
 "nbformat": 4,
 "nbformat_minor": 2
}
