{
 "cells": [
  {
   "cell_type": "code",
   "execution_count": 7,
   "metadata": {},
   "outputs": [],
   "source": [
    "def getFilmRatingAndAllRatings(pathToDataFile, movieId):\n",
    "    filmRatings = [0] * 5\n",
    "    allRatings = [0] * 5\n",
    "    with open(pathToDataFile) as movie_reader:\n",
    "        for line in movie_reader:\n",
    "            lineValues = line.split()\n",
    "            currentMovieId = int(lineValues[1])\n",
    "            currentRating = int(lineValues[2])\n",
    "            if (currentMovieId == movieId):\n",
    "                filmRatings[currentRating - 1] += 1\n",
    "            allRatings[currentRating - 1] += 1\n",
    "    return filmRatings, allRatings\n",
    "                "
   ]
  },
  {
   "cell_type": "code",
   "execution_count": 9,
   "metadata": {},
   "outputs": [],
   "source": [
    "resultAsTuple = getFilmRatingAndAllRatings('u.data', 328)"
   ]
  },
  {
   "cell_type": "code",
   "execution_count": 17,
   "metadata": {},
   "outputs": [],
   "source": [
    "import json\n",
    "resultAsDict = {}\n",
    "resultAsDict['hist_film'] = resultAsTuple[0]\n",
    "resultAsDict['hist_all'] = resultAsTuple[1]\n",
    "with open('lab01.json', 'w') as lab01_out:\n",
    "    lab01_out.write(json.dumps(resultAsDict, indent=3))"
   ]
  }
 ],
 "metadata": {
  "kernelspec": {
   "display_name": "Python 3",
   "language": "python",
   "name": "python3"
  },
  "language_info": {
   "codemirror_mode": {
    "name": "ipython",
    "version": 3
   },
   "file_extension": ".py",
   "mimetype": "text/x-python",
   "name": "python",
   "nbconvert_exporter": "python",
   "pygments_lexer": "ipython3",
   "version": "3.6.5"
  }
 },
 "nbformat": 4,
 "nbformat_minor": 2
}
