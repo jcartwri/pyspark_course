{
 "cells": [
  {
   "cell_type": "code",
   "execution_count": 1,
   "metadata": {},
   "outputs": [],
   "source": [
    "import os\n",
    "import sys\n",
    "import pandas as pd\n",
    "import numpy as np\n",
    "import json\n",
    "os.environ[\"PYSPARK_PYTHON\"]='/opt/anaconda/envs/bd9/bin/python'\n",
    "os.environ[\"SPARK_HOME\"]='/usr/hdp/current/spark2-client'\n",
    "os.environ[\"PYSPARK_SUBMIT_ARGS\"]='--num-executors 3 pyspark-shell'\n",
    "\n",
    "spark_home = os.environ.get('SPARK_HOME', None)\n",
    "\n",
    "sys.path.insert(0, os.path.join(spark_home, 'python'))\n",
    "sys.path.insert(0, os.path.join(spark_home, 'python/lib/py4j-0.10.7-src.zip'))"
   ]
  },
  {
   "cell_type": "code",
   "execution_count": 2,
   "metadata": {},
   "outputs": [],
   "source": [
    "from pyspark.sql import SparkSession\n",
    "from pyspark import SparkContext, SparkConf\n",
    "\n",
    "conf = SparkConf()\n",
    "conf.set(\"spark.app.name\", \"Nabat_lab1\") \n",
    "\n",
    "spark = SparkSession.builder.config(conf=conf).appName(\"Nabat_lab1\").getOrCreate()"
   ]
  },
  {
   "cell_type": "code",
   "execution_count": 3,
   "metadata": {},
   "outputs": [],
   "source": [
    "sc = spark.sparkContext"
   ]
  },
  {
   "cell_type": "code",
   "execution_count": 7,
   "metadata": {},
   "outputs": [],
   "source": [
    "from pyspark.sql.types import StructType, StructField, IntegerType, StringType\n",
    "import pyspark.sql.functions as f"
   ]
  },
  {
   "cell_type": "code",
   "execution_count": 8,
   "metadata": {},
   "outputs": [
    {
     "name": "stdout",
     "output_type": "stream",
     "text": [
      "Found 23 items\r\n",
      "-rw-r--r--   3 hdfs hdfs       6750 2020-09-05 20:38 /labs/laba01/ml-100k/README\r\n",
      "-rw-r--r--   3 hdfs hdfs        716 2020-09-05 20:38 /labs/laba01/ml-100k/allbut.pl\r\n",
      "-rw-r--r--   3 hdfs hdfs        643 2020-09-05 20:38 /labs/laba01/ml-100k/mku.sh\r\n",
      "-rw-r--r--   3 hdfs hdfs    1979173 2020-09-05 20:38 /labs/laba01/ml-100k/u.data\r\n",
      "-rw-r--r--   3 hdfs hdfs        202 2020-09-05 20:38 /labs/laba01/ml-100k/u.genre\r\n",
      "-rw-r--r--   3 hdfs hdfs         36 2020-09-05 20:38 /labs/laba01/ml-100k/u.info\r\n",
      "-rw-r--r--   3 hdfs hdfs     236344 2020-09-05 20:38 /labs/laba01/ml-100k/u.item\r\n",
      "-rw-r--r--   3 hdfs hdfs        193 2020-09-05 20:38 /labs/laba01/ml-100k/u.occupation\r\n",
      "-rw-r--r--   3 hdfs hdfs      22628 2020-09-05 20:38 /labs/laba01/ml-100k/u.user\r\n",
      "-rw-r--r--   3 hdfs hdfs    1586544 2020-09-05 20:38 /labs/laba01/ml-100k/u1.base\r\n",
      "-rw-r--r--   3 hdfs hdfs     392629 2020-09-05 20:38 /labs/laba01/ml-100k/u1.test\r\n",
      "-rw-r--r--   3 hdfs hdfs    1583948 2020-09-05 20:38 /labs/laba01/ml-100k/u2.base\r\n",
      "-rw-r--r--   3 hdfs hdfs     395225 2020-09-05 20:38 /labs/laba01/ml-100k/u2.test\r\n",
      "-rw-r--r--   3 hdfs hdfs    1582546 2020-09-05 20:38 /labs/laba01/ml-100k/u3.base\r\n",
      "-rw-r--r--   3 hdfs hdfs     396627 2020-09-05 20:38 /labs/laba01/ml-100k/u3.test\r\n",
      "-rw-r--r--   3 hdfs hdfs    1581878 2020-09-05 20:38 /labs/laba01/ml-100k/u4.base\r\n",
      "-rw-r--r--   3 hdfs hdfs     397295 2020-09-05 20:38 /labs/laba01/ml-100k/u4.test\r\n",
      "-rw-r--r--   3 hdfs hdfs    1581776 2020-09-05 20:38 /labs/laba01/ml-100k/u5.base\r\n",
      "-rw-r--r--   3 hdfs hdfs     397397 2020-09-05 20:38 /labs/laba01/ml-100k/u5.test\r\n",
      "-rw-r--r--   3 hdfs hdfs    1792501 2020-09-05 20:38 /labs/laba01/ml-100k/ua.base\r\n",
      "-rw-r--r--   3 hdfs hdfs     186672 2020-09-05 20:38 /labs/laba01/ml-100k/ua.test\r\n",
      "-rw-r--r--   3 hdfs hdfs    1792476 2020-09-05 20:38 /labs/laba01/ml-100k/ub.base\r\n",
      "-rw-r--r--   3 hdfs hdfs     186697 2020-09-05 20:38 /labs/laba01/ml-100k/ub.test\r\n"
     ]
    }
   ],
   "source": [
    "!hdfs dfs -ls /labs/laba01/ml-100k"
   ]
  },
  {
   "cell_type": "code",
   "execution_count": 9,
   "metadata": {},
   "outputs": [
    {
     "name": "stdout",
     "output_type": "stream",
     "text": [
      "91363685\r\n",
      "823\t134\t5\t878438232\r\n",
      "130\t93\t5\t874953665\r\n",
      "130\t121\t5\t876250746\r\n",
      "537\t778\t3\t886031106\r\n",
      "655\t913\t4\t891817521\r\n",
      "889\t2\t3\t880182460\r\n",
      "865\t1009\t5\t880144368\r\n",
      "851\t979\t3\t875730244\r\n",
      "833\t474\t5\t875122675\r\n",
      "394\t380\t4\t881132876\r\n",
      "193\t690\t4\t889123221\r\n",
      "621\t809\t4\t880740136\r\n",
      "766\t91\t5\t891310125\r\n",
      "650\t479\t5\t891372339\r\n",
      "429\t199\t5\t882386006\r\n",
      "847\t596\t3\t878938982\r\n",
      "934\t216\t1\t891191511\r\n",
      "788\t556\t2\t880871128\r\n",
      "897\t369\t4\t879993713\r\n",
      "936\t287\t4\t886832419\r\n",
      "936\t766\t3\t886832597\r\n",
      "449\t120\t1\t879959573\r\n",
      "661\t762\t2\t876037121\r\n",
      "721\t874\t3\t877137447\r\n",
      "821\t151\t4\t874792889\r\n",
      "764\t596\t3\t876243046\r\n",
      "537\t443\t3\t886031752\r\n",
      "618\t628\t2\t891308019\r\n",
      "487\t291\t3\t883445079\r\n",
      "113\t975\t5\t875936424\r\n",
      "943\t391\t2\t888640291\r\n",
      "864\t685\t4\t888891900\r\n",
      "750\t323\t3\t879445877\r\n",
      "279\t64\t1\t875308510\r\n",
      "646\t750\t3\t888528902\r\n",
      "654\t370\t2\t887863914\r\n",
      "617\t582\t4\t883789294\r\n",
      "913\t690\t3\t880824288\r\n",
      "660\t229\t2\t891406212\r\n",
      "421\t498\t4\t892241344\r\n",
      "495\t1091\t4\t888637503\r\n",
      "806\t421\t4\t882388897\r\n",
      "676\t538\t4\t892685437\r\n",
      "721\t262\t3\t877137285\r\n",
      "913\t209\t2\t881367150\r\n",
      "378\t78\t3\t880056976\r\n",
      "880\t476\t3\t880175444\r\n",
      "716\t204\t5\t879795543\r\n",
      "276\t1090\t1\t874795795\r\n",
      "13\t225\t2\t882399156\r\n",
      "12\t203\t3\t879959583\r\n"
     ]
    }
   ],
   "source": [
    "!hdfs dfs -tail /labs/laba01/ml-100k/u.data"
   ]
  },
  {
   "cell_type": "markdown",
   "metadata": {},
   "source": [
    "# RDD solve"
   ]
  },
  {
   "cell_type": "code",
   "execution_count": 10,
   "metadata": {},
   "outputs": [],
   "source": [
    "rdd_row = sc.textFile(\"/labs/laba01/ml-100k/u.data\").cache()"
   ]
  },
  {
   "cell_type": "code",
   "execution_count": 11,
   "metadata": {},
   "outputs": [
    {
     "name": "stdout",
     "output_type": "stream",
     "text": [
      "[6110, 11370, 27145, 34174, 21201]\n"
     ]
    }
   ],
   "source": [
    "hist_all_list = sorted(\n",
    "    (rdd_row.map(lambda x: (x.split(\"\\t\")[2], 1))\\\n",
    "    .reduceByKey(lambda x, y: x + y)\\\n",
    "    .collect()))\n",
    "hist_all_list = [second for first, second in hist_all_list]\n",
    "print(hist_all_list)"
   ]
  },
  {
   "cell_type": "code",
   "execution_count": 12,
   "metadata": {},
   "outputs": [
    {
     "name": "stdout",
     "output_type": "stream",
     "text": [
      "[6, 20, 43, 123, 103]\n"
     ]
    }
   ],
   "source": [
    "hist_film_list = sorted(\n",
    "    (rdd_row\\\n",
    "    .map(lambda x: (x.split(\"\\t\")[1:3], 1))\\\n",
    "    .filter(lambda x: x[0][0] =='96')\\\n",
    "    .map(lambda x: (x[0][1], x[1]))\\\n",
    "    .reduceByKey(lambda x, y: x + y)\n",
    "    .collect()))\n",
    "hist_film_list = [second for first, second in hist_film_list]\n",
    "print(hist_film_list)"
   ]
  },
  {
   "cell_type": "code",
   "execution_count": 13,
   "metadata": {},
   "outputs": [],
   "source": [
    "d = {\"hist_film\" : hist_film_list,\n",
    "    \"hist_all\": hist_all_list}"
   ]
  },
  {
   "cell_type": "code",
   "execution_count": 14,
   "metadata": {},
   "outputs": [],
   "source": [
    "with open('/data/home/ilya.nabatchikov/lab01.json', 'w') as fp:\n",
    "    json.dump(d, fp)"
   ]
  },
  {
   "cell_type": "code",
   "execution_count": 15,
   "metadata": {},
   "outputs": [
    {
     "name": "stdout",
     "output_type": "stream",
     "text": [
      "{'hist_film': [6, 20, 43, 123, 103], 'hist_all': [6110, 11370, 27145, 34174, 21201]}\n"
     ]
    }
   ],
   "source": [
    "with open(\"/data/home/ilya.nabatchikov/lab01.json\", \"r\") as read_file:\n",
    "    data = json.load(read_file)\n",
    "    print(data)"
   ]
  },
  {
   "cell_type": "markdown",
   "metadata": {},
   "source": [
    "# DataFrame solve"
   ]
  },
  {
   "cell_type": "code",
   "execution_count": 16,
   "metadata": {},
   "outputs": [],
   "source": [
    "schema = StructType(fields=[\n",
    "    StructField(\"user_id\", StringType()),\n",
    "    StructField(\"item_id\", StringType()),\n",
    "    StructField(\"rating\", IntegerType()),\n",
    "    StructField(\"timestamp\", StringType())\n",
    "])"
   ]
  },
  {
   "cell_type": "code",
   "execution_count": 17,
   "metadata": {},
   "outputs": [],
   "source": [
    "df = spark.read.csv(\"/labs/laba01/ml-100k/u.data\", sep=\"\\t\", schema=schema).cache()"
   ]
  },
  {
   "cell_type": "code",
   "execution_count": 18,
   "metadata": {},
   "outputs": [],
   "source": [
    "df_hist_all = df.groupBy(\"rating\")\\\n",
    "    .agg(f.count(\"*\").alias(\"hist_all\"))\\\n",
    "    .orderBy(\"rating\")\\\n",
    "    .select('hist_all')\\\n",
    "    .toPandas()"
   ]
  },
  {
   "cell_type": "code",
   "execution_count": 19,
   "metadata": {},
   "outputs": [],
   "source": [
    "df_hist_film = df.where(\"item_id = 96\")\\\n",
    "    .groupBy(\"rating\")\\\n",
    "    .agg(f.count(\"*\").alias(\"hist_film\"))\\\n",
    "    .orderBy(\"rating\")\\\n",
    "    .select('hist_film')\\\n",
    "    .toPandas()"
   ]
  },
  {
   "cell_type": "code",
   "execution_count": 20,
   "metadata": {},
   "outputs": [],
   "source": [
    "d = {\"hist_film\" : df_hist_film.hist_film.tolist(),\n",
    "    \"hist_all\": df_hist_all.hist_all.tolist()}"
   ]
  },
  {
   "cell_type": "code",
   "execution_count": 21,
   "metadata": {},
   "outputs": [],
   "source": [
    "with open('/data/home/ilya.nabatchikov/lab01.json', 'w') as fp:\n",
    "    json.dump(d, fp)"
   ]
  },
  {
   "cell_type": "code",
   "execution_count": 23,
   "metadata": {},
   "outputs": [
    {
     "name": "stdout",
     "output_type": "stream",
     "text": [
      "{'hist_film': [6, 20, 43, 123, 103], 'hist_all': [6110, 11370, 27145, 34174, 21201]}\n"
     ]
    }
   ],
   "source": [
    "with open(\"/data/home/ilya.nabatchikov/lab01.json\", \"r\") as read_file:\n",
    "    data = json.load(read_file)\n",
    "    print(data)"
   ]
  },
  {
   "cell_type": "code",
   "execution_count": null,
   "metadata": {},
   "outputs": [],
   "source": [
    "sc.stop()"
   ]
  },
  {
   "cell_type": "code",
   "execution_count": null,
   "metadata": {},
   "outputs": [],
   "source": []
  }
 ],
 "metadata": {
  "kernelspec": {
   "display_name": "Python 3",
   "language": "python",
   "name": "python3"
  },
  "language_info": {
   "codemirror_mode": {
    "name": "ipython",
    "version": 3
   },
   "file_extension": ".py",
   "mimetype": "text/x-python",
   "name": "python",
   "nbconvert_exporter": "python",
   "pygments_lexer": "ipython3",
   "version": "3.6.5"
  }
 },
 "nbformat": 4,
 "nbformat_minor": 2
}
