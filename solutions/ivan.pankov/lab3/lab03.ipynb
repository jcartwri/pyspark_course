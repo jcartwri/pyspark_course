{
 "cells": [
  {
   "cell_type": "code",
   "execution_count": 1,
   "metadata": {},
   "outputs": [],
   "source": [
    "import os\n",
    "import sys\n",
    "os.environ[\"PYSPARK_PYTHON\"]='/opt/anaconda/envs/bd9/bin/python'\n",
    "os.environ[\"SPARK_HOME\"]='/usr/hdp/current/spark2-client'\n",
    "os.environ[\"PYSPARK_SUBMIT_ARGS\"]='--num-executors 3 pyspark-shell'\n",
    "\n",
    "spark_home = os.environ.get('SPARK_HOME', None)\n",
    "\n",
    "sys.path.insert(0, os.path.join(spark_home, 'python'))\n",
    "sys.path.insert(0, os.path.join(spark_home, 'python/lib/py4j-0.10.7-src.zip'))"
   ]
  },
  {
   "cell_type": "code",
   "execution_count": 2,
   "metadata": {},
   "outputs": [],
   "source": [
    "from pyspark import SparkConf\n",
    "from pyspark.sql import SparkSession\n",
    "\n",
    "conf = SparkConf()\n",
    "conf.set(\"spark.app.name\", \"pankov lab03\") \n",
    "\n",
    "spark = SparkSession.builder.config(conf=conf).getOrCreate()"
   ]
  },
  {
   "cell_type": "code",
   "execution_count": 3,
   "metadata": {},
   "outputs": [],
   "source": [
    "from pyspark.sql.types import DoubleType"
   ]
  },
  {
   "cell_type": "code",
   "execution_count": 4,
   "metadata": {},
   "outputs": [],
   "source": [
    "import pyspark.sql.functions as f"
   ]
  },
  {
   "cell_type": "code",
   "execution_count": 43,
   "metadata": {},
   "outputs": [],
   "source": [
    "items = spark.read.csv('/labs/slaba03/laba03_items.csv', sep='\\t', header=True)\n",
    "test = spark.read.csv('/labs/slaba03/laba03_test.csv', sep=',', header=True)\n",
    "train = spark.read.csv('/labs/slaba03/laba03_train.csv', sep=',', header=True)\n",
    "views_programmes = spark.read.csv('/labs/slaba03/laba03_views_programmes.csv', sep=',', header=True)"
   ]
  },
  {
   "cell_type": "code",
   "execution_count": 6,
   "metadata": {},
   "outputs": [
    {
     "data": {
      "text/plain": [
       "Row(item_id='65667', channel_id=None, datetime_availability_start='1970-01-01T00:00:00Z', datetime_availability_stop='2018-01-01T00:00:00Z', datetime_show_start=None, datetime_show_stop=None, content_type='1', title='на пробах только девушки (all girl auditions)', year='2013.0', genres='Эротика', region_id=None)"
      ]
     },
     "execution_count": 6,
     "metadata": {},
     "output_type": "execute_result"
    }
   ],
   "source": [
    "items = items.cache()\n",
    "items.collect()[0]"
   ]
  },
  {
   "cell_type": "code",
   "execution_count": 44,
   "metadata": {},
   "outputs": [
    {
     "data": {
      "text/plain": [
       "Row(user_id='1654', item_id='94814', purchase=None)"
      ]
     },
     "execution_count": 44,
     "metadata": {},
     "output_type": "execute_result"
    }
   ],
   "source": [
    "test = test.cache()\n",
    "test.collect()[0]"
   ]
  },
  {
   "cell_type": "code",
   "execution_count": 8,
   "metadata": {},
   "outputs": [
    {
     "data": {
      "text/plain": [
       "Row(user_id='1654', item_id='74107', purchase='0')"
      ]
     },
     "execution_count": 8,
     "metadata": {},
     "output_type": "execute_result"
    }
   ],
   "source": [
    "train = train.cache()\n",
    "train.collect()[0]"
   ]
  },
  {
   "cell_type": "code",
   "execution_count": 9,
   "metadata": {},
   "outputs": [],
   "source": [
    "#(trainingData, testData) = train.randomSplit([0.7, 0.3])"
   ]
  },
  {
   "cell_type": "code",
   "execution_count": 10,
   "metadata": {},
   "outputs": [],
   "source": [
    "joined_df = train.join(items, on='item_id')"
   ]
  },
  {
   "cell_type": "code",
   "execution_count": 11,
   "metadata": {},
   "outputs": [],
   "source": [
    "joined_df = joined_df.cache()"
   ]
  },
  {
   "cell_type": "code",
   "execution_count": 12,
   "metadata": {},
   "outputs": [
    {
     "name": "stdout",
     "output_type": "stream",
     "text": [
      "+-------+-------+--------+----------+---------------------------+--------------------------+-------------------+------------------+------------+-------+------+-------+---------+\n",
      "|item_id|user_id|purchase|channel_id|datetime_availability_start|datetime_availability_stop|datetime_show_start|datetime_show_stop|content_type|  title|  year| genres|region_id|\n",
      "+-------+-------+--------+----------+---------------------------+--------------------------+-------------------+------------------+------------+-------+------+-------+---------+\n",
      "| 100140| 903319|       0|      null|       1970-01-01T00:00:00Z|      2099-12-31T21:00:00Z|               null|              null|           1|поездка|2014.0|Комедии|     null|\n",
      "| 100140| 903337|       0|      null|       1970-01-01T00:00:00Z|      2099-12-31T21:00:00Z|               null|              null|           1|поездка|2014.0|Комедии|     null|\n",
      "| 100140| 903348|       0|      null|       1970-01-01T00:00:00Z|      2099-12-31T21:00:00Z|               null|              null|           1|поездка|2014.0|Комедии|     null|\n",
      "| 100140| 903413|       0|      null|       1970-01-01T00:00:00Z|      2099-12-31T21:00:00Z|               null|              null|           1|поездка|2014.0|Комедии|     null|\n",
      "| 100140| 903790|       0|      null|       1970-01-01T00:00:00Z|      2099-12-31T21:00:00Z|               null|              null|           1|поездка|2014.0|Комедии|     null|\n",
      "| 100140| 903828|       0|      null|       1970-01-01T00:00:00Z|      2099-12-31T21:00:00Z|               null|              null|           1|поездка|2014.0|Комедии|     null|\n",
      "| 100140| 903849|       0|      null|       1970-01-01T00:00:00Z|      2099-12-31T21:00:00Z|               null|              null|           1|поездка|2014.0|Комедии|     null|\n",
      "| 100140| 903915|       0|      null|       1970-01-01T00:00:00Z|      2099-12-31T21:00:00Z|               null|              null|           1|поездка|2014.0|Комедии|     null|\n",
      "| 100140| 903942|       0|      null|       1970-01-01T00:00:00Z|      2099-12-31T21:00:00Z|               null|              null|           1|поездка|2014.0|Комедии|     null|\n",
      "| 100140| 904042|       0|      null|       1970-01-01T00:00:00Z|      2099-12-31T21:00:00Z|               null|              null|           1|поездка|2014.0|Комедии|     null|\n",
      "| 100140| 904156|       0|      null|       1970-01-01T00:00:00Z|      2099-12-31T21:00:00Z|               null|              null|           1|поездка|2014.0|Комедии|     null|\n",
      "| 100140| 904529|       0|      null|       1970-01-01T00:00:00Z|      2099-12-31T21:00:00Z|               null|              null|           1|поездка|2014.0|Комедии|     null|\n",
      "| 100140| 904539|       0|      null|       1970-01-01T00:00:00Z|      2099-12-31T21:00:00Z|               null|              null|           1|поездка|2014.0|Комедии|     null|\n",
      "| 100140| 904637|       0|      null|       1970-01-01T00:00:00Z|      2099-12-31T21:00:00Z|               null|              null|           1|поездка|2014.0|Комедии|     null|\n",
      "| 100140| 904838|       0|      null|       1970-01-01T00:00:00Z|      2099-12-31T21:00:00Z|               null|              null|           1|поездка|2014.0|Комедии|     null|\n",
      "| 100140| 905201|       0|      null|       1970-01-01T00:00:00Z|      2099-12-31T21:00:00Z|               null|              null|           1|поездка|2014.0|Комедии|     null|\n",
      "| 100140| 905345|       0|      null|       1970-01-01T00:00:00Z|      2099-12-31T21:00:00Z|               null|              null|           1|поездка|2014.0|Комедии|     null|\n",
      "| 100140| 905401|       0|      null|       1970-01-01T00:00:00Z|      2099-12-31T21:00:00Z|               null|              null|           1|поездка|2014.0|Комедии|     null|\n",
      "| 100140| 905433|       0|      null|       1970-01-01T00:00:00Z|      2099-12-31T21:00:00Z|               null|              null|           1|поездка|2014.0|Комедии|     null|\n",
      "| 100140| 905510|       0|      null|       1970-01-01T00:00:00Z|      2099-12-31T21:00:00Z|               null|              null|           1|поездка|2014.0|Комедии|     null|\n",
      "+-------+-------+--------+----------+---------------------------+--------------------------+-------------------+------------------+------------+-------+------+-------+---------+\n",
      "only showing top 20 rows\n",
      "\n"
     ]
    }
   ],
   "source": [
    "joined_df.show()"
   ]
  },
  {
   "cell_type": "code",
   "execution_count": 13,
   "metadata": {},
   "outputs": [
    {
     "name": "stdout",
     "output_type": "stream",
     "text": [
      "root\n",
      " |-- item_id: string (nullable = true)\n",
      " |-- user_id: string (nullable = true)\n",
      " |-- purchase: string (nullable = true)\n",
      " |-- channel_id: string (nullable = true)\n",
      " |-- datetime_availability_start: string (nullable = true)\n",
      " |-- datetime_availability_stop: string (nullable = true)\n",
      " |-- datetime_show_start: string (nullable = true)\n",
      " |-- datetime_show_stop: string (nullable = true)\n",
      " |-- content_type: string (nullable = true)\n",
      " |-- title: string (nullable = true)\n",
      " |-- year: string (nullable = true)\n",
      " |-- genres: string (nullable = true)\n",
      " |-- region_id: string (nullable = true)\n",
      "\n"
     ]
    }
   ],
   "source": [
    "joined_df.printSchema()"
   ]
  },
  {
   "cell_type": "code",
   "execution_count": 14,
   "metadata": {},
   "outputs": [
    {
     "data": {
      "text/plain": [
       "5032624"
      ]
     },
     "execution_count": 14,
     "metadata": {},
     "output_type": "execute_result"
    }
   ],
   "source": [
    "joined_df.count()"
   ]
  },
  {
   "cell_type": "code",
   "execution_count": 15,
   "metadata": {},
   "outputs": [
    {
     "name": "stdout",
     "output_type": "stream",
     "text": [
      "+--------+-------+\n",
      "|purchase|  count|\n",
      "+--------+-------+\n",
      "|       0|5021720|\n",
      "|       1|  10904|\n",
      "+--------+-------+\n",
      "\n"
     ]
    }
   ],
   "source": [
    "joined_df.groupby('purchase').count().show()"
   ]
  },
  {
   "cell_type": "code",
   "execution_count": 16,
   "metadata": {},
   "outputs": [],
   "source": [
    "def prepare_dataset(df):\n",
    "    total_purchase = df.agg(f.sum(f.col('purchase'))).collect()[0][0]\n",
    "    item_total_buys = df.groupby(['item_id']).agg(f.sum('purchase').alias('item_total_buys'))\n",
    "    user_total_buys = df.groupby(['user_id']).agg(f.sum('purchase').alias('user_total_buys'))\n",
    "    item_total_buys = item_total_buys.withColumn('purchase_item_dolya', f.udf(lambda x: x / total_purchase)('item_total_buys'))\n",
    "    user_total_buys = user_total_buys.withColumn('purchase_user_dolya', f.udf(lambda x: x / total_purchase)('user_total_buys'))\n",
    "    return item_total_buys, user_total_buys"
   ]
  },
  {
   "cell_type": "code",
   "execution_count": 17,
   "metadata": {},
   "outputs": [],
   "source": [
    "item_purchase, user_purchase = prepare_dataset(joined_df)"
   ]
  },
  {
   "cell_type": "code",
   "execution_count": 18,
   "metadata": {},
   "outputs": [
    {
     "name": "stdout",
     "output_type": "stream",
     "text": [
      "+-------+---------------+--------------------+\n",
      "|item_id|item_total_buys| purchase_item_dolya|\n",
      "+-------+---------------+--------------------+\n",
      "| 100140|            0.0|                 0.0|\n",
      "| 100263|            1.0|9.170946441672781E-5|\n",
      "| 100735|            1.0|9.170946441672781E-5|\n",
      "|   1159|            2.0|1.834189288334556...|\n",
      "|   2136|            1.0|9.170946441672781E-5|\n",
      "|  60351|            2.0|1.834189288334556...|\n",
      "|    691|            0.0|                 0.0|\n",
      "|  74605|            0.0|                 0.0|\n",
      "|   7711|            1.0|9.170946441672781E-5|\n",
      "|  77371|            1.0|9.170946441672781E-5|\n",
      "|  81824|            3.0|2.751283932501834E-4|\n",
      "|  88649|            2.0|1.834189288334556...|\n",
      "|  93545|            2.0|1.834189288334556...|\n",
      "|  97128|            2.0|1.834189288334556...|\n",
      "|  98725|            1.0|9.170946441672781E-5|\n",
      "| 100402|            1.0|9.170946441672781E-5|\n",
      "|  11205|            9.0|8.253851797505503E-4|\n",
      "|  11236|            2.0|1.834189288334556...|\n",
      "|   4975|            2.0|1.834189288334556...|\n",
      "|   5657|           30.0|0.002751283932501834|\n",
      "+-------+---------------+--------------------+\n",
      "only showing top 20 rows\n",
      "\n"
     ]
    }
   ],
   "source": [
    "item_purchase.show()"
   ]
  },
  {
   "cell_type": "code",
   "execution_count": 19,
   "metadata": {},
   "outputs": [
    {
     "name": "stdout",
     "output_type": "stream",
     "text": [
      "+-------+---------------+--------------------+\n",
      "|user_id|user_total_buys| purchase_user_dolya|\n",
      "+-------+---------------+--------------------+\n",
      "| 921852|            1.0|9.170946441672781E-5|\n",
      "| 927169|            9.0|8.253851797505503E-4|\n",
      "| 929499|            7.0|6.419662509170946E-4|\n",
      "| 930508|            7.0|6.419662509170946E-4|\n",
      "| 867363|            1.0|9.170946441672781E-5|\n",
      "| 882935|            2.0|1.834189288334556...|\n",
      "| 889974|            0.0|                 0.0|\n",
      "| 891250|            0.0|                 0.0|\n",
      "| 902451|            1.0|9.170946441672781E-5|\n",
      "| 748042|            4.0|3.668378576669112...|\n",
      "| 837166|            1.0|9.170946441672781E-5|\n",
      "| 855465|            4.0|3.668378576669112...|\n",
      "| 905618|            0.0|                 0.0|\n",
      "| 781373|            1.0|9.170946441672781E-5|\n",
      "| 830843|            1.0|9.170946441672781E-5|\n",
      "| 906395|           25.0|0.002292736610418...|\n",
      "| 920785|            0.0|                 0.0|\n",
      "| 922481|           14.0|0.001283932501834...|\n",
      "| 938008|            0.0|                 0.0|\n",
      "| 806371|            1.0|9.170946441672781E-5|\n",
      "+-------+---------------+--------------------+\n",
      "only showing top 20 rows\n",
      "\n"
     ]
    }
   ],
   "source": [
    "user_purchase.show()"
   ]
  },
  {
   "cell_type": "code",
   "execution_count": 20,
   "metadata": {},
   "outputs": [],
   "source": [
    "train = train.join(item_purchase, on='item_id', how='left').join(user_purchase, on='user_id', how='left').cache()"
   ]
  },
  {
   "cell_type": "code",
   "execution_count": 21,
   "metadata": {},
   "outputs": [],
   "source": [
    "train = train.withColumn('purchase_item_dolya', f.col('purchase_item_dolya').cast(DoubleType()))\n",
    "train = train.withColumn('purchase_user_dolya', f.col('purchase_user_dolya').cast(DoubleType()))\n",
    "train = train.withColumn('purchase', f.col('purchase').cast(DoubleType()))"
   ]
  },
  {
   "cell_type": "code",
   "execution_count": 22,
   "metadata": {},
   "outputs": [
    {
     "name": "stdout",
     "output_type": "stream",
     "text": [
      "+-------+-------+--------+---------------+--------------------+---------------+--------------------+\n",
      "|user_id|item_id|purchase|item_total_buys| purchase_item_dolya|user_total_buys| purchase_user_dolya|\n",
      "+-------+-------+--------+---------------+--------------------+---------------+--------------------+\n",
      "| 867363| 100277|     0.0|            0.0|                 0.0|            1.0|9.170946441672781E-5|\n",
      "| 867363|   1870|     0.0|            1.0|9.170946441672781E-5|            1.0|9.170946441672781E-5|\n",
      "| 867363|   2696|     0.0|            1.0|9.170946441672781E-5|            1.0|9.170946441672781E-5|\n",
      "| 867363|  66998|     0.0|            2.0|1.834189288334556...|            1.0|9.170946441672781E-5|\n",
      "| 867363|  74106|     0.0|            6.0|5.502567865003668E-4|            1.0|9.170946441672781E-5|\n",
      "| 867363|  74415|     0.0|            7.0|6.419662509170946E-4|            1.0|9.170946441672781E-5|\n",
      "| 867363|  89081|     0.0|            1.0|9.170946441672781E-5|            1.0|9.170946441672781E-5|\n",
      "| 867363|  94642|     0.0|            1.0|9.170946441672781E-5|            1.0|9.170946441672781E-5|\n",
      "| 867363|  95180|     0.0|            1.0|9.170946441672781E-5|            1.0|9.170946441672781E-5|\n",
      "| 867363|  95834|     0.0|            0.0|                 0.0|            1.0|9.170946441672781E-5|\n",
      "| 867363|  11048|     0.0|            1.0|9.170946441672781E-5|            1.0|9.170946441672781E-5|\n",
      "| 867363|   5859|     0.0|            1.0|9.170946441672781E-5|            1.0|9.170946441672781E-5|\n",
      "| 867363|  74322|     0.0|            1.0|9.170946441672781E-5|            1.0|9.170946441672781E-5|\n",
      "| 867363|  79824|     0.0|            2.0|1.834189288334556...|            1.0|9.170946441672781E-5|\n",
      "| 867363|  95036|     0.0|            1.0|9.170946441672781E-5|            1.0|9.170946441672781E-5|\n",
      "| 867363|  98684|     0.0|            0.0|                 0.0|            1.0|9.170946441672781E-5|\n",
      "| 867363| 101646|     0.0|            1.0|9.170946441672781E-5|            1.0|9.170946441672781E-5|\n",
      "| 867363|   3764|     0.0|            3.0|2.751283932501834E-4|            1.0|9.170946441672781E-5|\n",
      "| 867363|    595|     0.0|            1.0|9.170946441672781E-5|            1.0|9.170946441672781E-5|\n",
      "| 867363|  66184|     0.0|            3.0|2.751283932501834E-4|            1.0|9.170946441672781E-5|\n",
      "+-------+-------+--------+---------------+--------------------+---------------+--------------------+\n",
      "only showing top 20 rows\n",
      "\n"
     ]
    }
   ],
   "source": [
    "train.show()"
   ]
  },
  {
   "cell_type": "code",
   "execution_count": 23,
   "metadata": {},
   "outputs": [
    {
     "name": "stdout",
     "output_type": "stream",
     "text": [
      "root\n",
      " |-- user_id: string (nullable = true)\n",
      " |-- item_id: string (nullable = true)\n",
      " |-- purchase: double (nullable = true)\n",
      " |-- item_total_buys: double (nullable = true)\n",
      " |-- purchase_item_dolya: double (nullable = true)\n",
      " |-- user_total_buys: double (nullable = true)\n",
      " |-- purchase_user_dolya: double (nullable = true)\n",
      "\n"
     ]
    }
   ],
   "source": [
    "train.printSchema()"
   ]
  },
  {
   "cell_type": "code",
   "execution_count": 24,
   "metadata": {},
   "outputs": [],
   "source": [
    "from pyspark.ml.classification import GBTClassifier\n",
    "from pyspark.ml.evaluation import BinaryClassificationEvaluator\n",
    "from pyspark.ml import Pipeline\n",
    "from pyspark.ml.tuning import CrossValidator, ParamGridBuilder"
   ]
  },
  {
   "cell_type": "code",
   "execution_count": 25,
   "metadata": {},
   "outputs": [],
   "source": [
    "from pyspark.ml.feature import VectorAssembler, VectorIndexer\n",
    "featuresCols = train.columns\n",
    "featuresCols.remove('purchase')\n",
    "featuresCols.remove('user_id')\n",
    "featuresCols.remove('item_id')\n",
    "# This concatenates all feature columns into a single feature vector in a new column \"rawFeatures\".\n",
    "vectorAssembler = VectorAssembler(inputCols=featuresCols, outputCol=\"features\")\n",
    "# This identifies categorical features and indexes them.\n",
    "#vectorIndexer = VectorIndexer(inputCol=\"rawFeatures\", outputCol=\"features\", maxCategories=4)"
   ]
  },
  {
   "cell_type": "code",
   "execution_count": 27,
   "metadata": {},
   "outputs": [],
   "source": [
    "gbt = GBTClassifier(labelCol=\"purchase\", featuresCol=\"features\")"
   ]
  },
  {
   "cell_type": "code",
   "execution_count": 28,
   "metadata": {},
   "outputs": [],
   "source": [
    "paramGrid = ParamGridBuilder()\\\n",
    "  .addGrid(gbt.maxDepth, [2])\\\n",
    "  .addGrid(gbt.maxIter, [10])\\\n",
    "  .build()"
   ]
  },
  {
   "cell_type": "code",
   "execution_count": 29,
   "metadata": {},
   "outputs": [],
   "source": [
    "evaluator = BinaryClassificationEvaluator(labelCol='purchase')"
   ]
  },
  {
   "cell_type": "code",
   "execution_count": 30,
   "metadata": {},
   "outputs": [],
   "source": [
    "train = (vectorAssembler.transform(train).select(\"purchase\", \"features\"))"
   ]
  },
  {
   "cell_type": "code",
   "execution_count": 31,
   "metadata": {},
   "outputs": [],
   "source": [
    "crossval = CrossValidator(\n",
    "    estimator=gbt, estimatorParamMaps=paramGrid, evaluator=evaluator, numFolds=3)\n",
    "\n",
    "\n",
    "model = crossval.fit(train)\n"
   ]
  },
  {
   "cell_type": "code",
   "execution_count": 32,
   "metadata": {},
   "outputs": [
    {
     "data": {
      "text/plain": [
       "0.8835015406751885"
      ]
     },
     "execution_count": 32,
     "metadata": {},
     "output_type": "execute_result"
    }
   ],
   "source": [
    "model.avgMetrics[0]"
   ]
  },
  {
   "cell_type": "code",
   "execution_count": null,
   "metadata": {},
   "outputs": [],
   "source": []
  },
  {
   "cell_type": "code",
   "execution_count": 45,
   "metadata": {},
   "outputs": [],
   "source": [
    "test_df = test.join(item_purchase, on='item_id', how='left').join(user_purchase, on='user_id', how='left').cache()"
   ]
  },
  {
   "cell_type": "code",
   "execution_count": 46,
   "metadata": {},
   "outputs": [],
   "source": [
    "test_df = test_df.withColumn('purchase_item_dolya', f.col('purchase_item_dolya').cast(DoubleType()))\n",
    "test_df = test_df.withColumn('purchase_user_dolya', f.col('purchase_user_dolya').cast(DoubleType()))\n",
    "test_df = test_df.withColumn('purchase', f.col('purchase').cast(DoubleType()))"
   ]
  },
  {
   "cell_type": "code",
   "execution_count": 47,
   "metadata": {},
   "outputs": [
    {
     "name": "stdout",
     "output_type": "stream",
     "text": [
      "+-------+-------+--------+---------------+--------------------+---------------+--------------------+\n",
      "|user_id|item_id|purchase|item_total_buys| purchase_item_dolya|user_total_buys| purchase_user_dolya|\n",
      "+-------+-------+--------+---------------+--------------------+---------------+--------------------+\n",
      "| 867363| 100263|    null|            1.0|9.170946441672781E-5|            1.0|9.170946441672781E-5|\n",
      "| 867363| 100735|    null|            1.0|9.170946441672781E-5|            1.0|9.170946441672781E-5|\n",
      "| 867363|   1159|    null|            2.0|1.834189288334556...|            1.0|9.170946441672781E-5|\n",
      "| 867363|  74605|    null|            0.0|                 0.0|            1.0|9.170946441672781E-5|\n",
      "| 867363|  81824|    null|            3.0|2.751283932501834E-4|            1.0|9.170946441672781E-5|\n",
      "| 867363|  88649|    null|            2.0|1.834189288334556...|            1.0|9.170946441672781E-5|\n",
      "| 867363|  98725|    null|            1.0|9.170946441672781E-5|            1.0|9.170946441672781E-5|\n",
      "| 867363|  10250|    null|            7.0|6.419662509170946E-4|            1.0|9.170946441672781E-5|\n",
      "| 867363|  11106|    null|            7.0|6.419662509170946E-4|            1.0|9.170946441672781E-5|\n",
      "| 867363|   3838|    null|            1.0|9.170946441672781E-5|            1.0|9.170946441672781E-5|\n",
      "| 867363|   8621|    null|            1.0|9.170946441672781E-5|            1.0|9.170946441672781E-5|\n",
      "| 867363|  86224|    null|            0.0|                 0.0|            1.0|9.170946441672781E-5|\n",
      "| 867363|  93633|    null|            3.0|2.751283932501834E-4|            1.0|9.170946441672781E-5|\n",
      "| 867363|  98999|    null|            0.0|                 0.0|            1.0|9.170946441672781E-5|\n",
      "| 867363|   5048|    null|            1.0|9.170946441672781E-5|            1.0|9.170946441672781E-5|\n",
      "| 867363|  79862|    null|            5.0| 4.58547322083639E-4|            1.0|9.170946441672781E-5|\n",
      "| 867363|  82984|    null|            1.0|9.170946441672781E-5|            1.0|9.170946441672781E-5|\n",
      "| 867363|  86238|    null|            0.0|                 0.0|            1.0|9.170946441672781E-5|\n",
      "| 867363|  92706|    null|            1.0|9.170946441672781E-5|            1.0|9.170946441672781E-5|\n",
      "| 867363|  94820|    null|            2.0|1.834189288334556...|            1.0|9.170946441672781E-5|\n",
      "+-------+-------+--------+---------------+--------------------+---------------+--------------------+\n",
      "only showing top 20 rows\n",
      "\n"
     ]
    }
   ],
   "source": [
    "test_df.show()"
   ]
  },
  {
   "cell_type": "code",
   "execution_count": 49,
   "metadata": {},
   "outputs": [],
   "source": [
    "#test_df = (vectorAssembler.transform(test).select(\"purchase\", \"features\"))"
   ]
  },
  {
   "cell_type": "code",
   "execution_count": 61,
   "metadata": {},
   "outputs": [],
   "source": [
    "predictions = model.transform(vectorAssembler.transform(test_df).select(['user_id', 'item_id', \"features\"]))"
   ]
  },
  {
   "cell_type": "code",
   "execution_count": 71,
   "metadata": {},
   "outputs": [
    {
     "name": "stdout",
     "output_type": "stream",
     "text": [
      "root\n",
      " |-- user_id: string (nullable = true)\n",
      " |-- item_id: string (nullable = true)\n",
      " |-- features: vector (nullable = true)\n",
      " |-- rawPrediction: vector (nullable = true)\n",
      " |-- probability: vector (nullable = true)\n",
      " |-- prediction: double (nullable = false)\n",
      "\n"
     ]
    }
   ],
   "source": [
    "predictions.printSchema()"
   ]
  },
  {
   "cell_type": "code",
   "execution_count": 86,
   "metadata": {},
   "outputs": [],
   "source": [
    "predictions = predictions.withColumn('item_id', f.col('item_id').cast('int'))"
   ]
  },
  {
   "cell_type": "code",
   "execution_count": 89,
   "metadata": {},
   "outputs": [],
   "source": [
    "predictions = predictions.select(['user_id', 'item_id', 'probability']).orderBy(['user_id', 'item_id'], ascending=[1, 1])"
   ]
  },
  {
   "cell_type": "code",
   "execution_count": 90,
   "metadata": {},
   "outputs": [
    {
     "name": "stdout",
     "output_type": "stream",
     "text": [
      "+-------+-------+--------------------+\n",
      "|user_id|item_id|         probability|\n",
      "+-------+-------+--------------------+\n",
      "|   1654|    336|[0.93374288829826...|\n",
      "|   1654|    678|[0.93374288829826...|\n",
      "|   1654|    691|[0.93374288829826...|\n",
      "|   1654|    696|[0.93374288829826...|\n",
      "|   1654|    763|[0.93374288829826...|\n",
      "|   1654|    795|[0.93343052812923...|\n",
      "|   1654|    861|[0.93374288829826...|\n",
      "|   1654|   1137|[0.93374288829826...|\n",
      "|   1654|   1159|[0.93374288829826...|\n",
      "|   1654|   1428|[0.93374288829826...|\n",
      "|   1654|   1685|[0.93374288829826...|\n",
      "|   1654|   1686|[0.93374288829826...|\n",
      "|   1654|   1704|[0.93374288829826...|\n",
      "|   1654|   2093|[0.93374288829826...|\n",
      "|   1654|   2343|[0.93374288829826...|\n",
      "|   1654|   2451|[0.93374288829826...|\n",
      "|   1654|   2469|[0.93280588912935...|\n",
      "|   1654|   2603|[0.93374288829826...|\n",
      "|   1654|   2609|[0.93374288829826...|\n",
      "|   1654|   2621|[0.93374288829826...|\n",
      "+-------+-------+--------------------+\n",
      "only showing top 20 rows\n",
      "\n"
     ]
    }
   ],
   "source": [
    "predictions.show()"
   ]
  },
  {
   "cell_type": "code",
   "execution_count": 94,
   "metadata": {},
   "outputs": [],
   "source": [
    "predictions = predictions.withColumn('purchase', f.udf(lambda x: float(x[1]))('probability')).select(['user_id', 'item_id', 'purchase'])"
   ]
  },
  {
   "cell_type": "code",
   "execution_count": 95,
   "metadata": {},
   "outputs": [
    {
     "name": "stdout",
     "output_type": "stream",
     "text": [
      "+-------+-------+-------------------+\n",
      "|user_id|item_id|           purchase|\n",
      "+-------+-------+-------------------+\n",
      "|   1654|    336|0.06625711170173343|\n",
      "|   1654|    678|0.06625711170173343|\n",
      "|   1654|    691|0.06625711170173343|\n",
      "|   1654|    696|0.06625711170173343|\n",
      "|   1654|    763|0.06625711170173343|\n",
      "|   1654|    795|0.06656947187076212|\n",
      "|   1654|    861|0.06625711170173343|\n",
      "|   1654|   1137|0.06625711170173343|\n",
      "|   1654|   1159|0.06625711170173343|\n",
      "|   1654|   1428|0.06625711170173343|\n",
      "|   1654|   1685|0.06625711170173343|\n",
      "|   1654|   1686|0.06625711170173343|\n",
      "|   1654|   1704|0.06625711170173343|\n",
      "|   1654|   2093|0.06625711170173343|\n",
      "|   1654|   2343|0.06625711170173343|\n",
      "|   1654|   2451|0.06625711170173343|\n",
      "|   1654|   2469|0.06719411087064164|\n",
      "|   1654|   2603|0.06625711170173343|\n",
      "|   1654|   2609|0.06625711170173343|\n",
      "|   1654|   2621|0.06625711170173343|\n",
      "+-------+-------+-------------------+\n",
      "only showing top 20 rows\n",
      "\n"
     ]
    }
   ],
   "source": [
    "predictions.show()"
   ]
  },
  {
   "cell_type": "code",
   "execution_count": 100,
   "metadata": {},
   "outputs": [],
   "source": [
    "predictions.toPandas().to_csv('../../lab03.csv', index=False)"
   ]
  },
  {
   "cell_type": "code",
   "execution_count": 101,
   "metadata": {},
   "outputs": [],
   "source": [
    "spark.stop()"
   ]
  }
 ],
 "metadata": {
  "kernelspec": {
   "display_name": "Python 3",
   "language": "python",
   "name": "python3"
  },
  "language_info": {
   "codemirror_mode": {
    "name": "ipython",
    "version": 3
   },
   "file_extension": ".py",
   "mimetype": "text/x-python",
   "name": "python",
   "nbconvert_exporter": "python",
   "pygments_lexer": "ipython3",
   "version": "3.6.5"
  }
 },
 "nbformat": 4,
 "nbformat_minor": 2
}
