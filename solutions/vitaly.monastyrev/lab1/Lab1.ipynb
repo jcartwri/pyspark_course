{
 "cells": [
  {
   "cell_type": "code",
   "execution_count": 1,
   "metadata": {},
   "outputs": [],
   "source": [
    "import os\n",
    "import sys\n",
    "os.environ[\"PYSPARK_PYTHON\"]='/opt/anaconda/envs/bd9/bin/python'\n",
    "os.environ[\"SPARK_HOME\"]='/usr/hdp/current/spark2-client'\n",
    "os.environ[\"PYSPARK_SUBMIT_ARGS\"]='--num-executors 3 pyspark-shell'\n",
    "\n",
    "spark_home = os.environ.get('SPARK_HOME', None)\n",
    "\n",
    "sys.path.insert(0, os.path.join(spark_home, 'python'))\n",
    "sys.path.insert(0, os.path.join(spark_home, 'python/lib/py4j-0.10.7-src.zip'))"
   ]
  },
  {
   "cell_type": "code",
   "execution_count": 2,
   "metadata": {},
   "outputs": [],
   "source": [
    "from pyspark import SparkContext, SparkConf\n",
    "import json\n",
    "\n",
    "conf = SparkConf()\n",
    "conf.set(\"spark.app.name\", \"Lab1\") \n",
    "\n",
    "sc = SparkContext(conf=conf)"
   ]
  },
  {
   "cell_type": "code",
   "execution_count": 14,
   "metadata": {
    "scrolled": false
   },
   "outputs": [],
   "source": [
    "targetId = '302'\n",
    "\n",
    "rdd = sc.textFile(\"/labs/laba01/ml-100k/u.data\")\n",
    "rdd = rdd.map(lambda x: x.split(\"\\t\"))\n",
    "rdd = rdd.map(lambda x: (x[2], x[1]))\n",
    "\n",
    "\n",
    "targetRdd = rdd.filter(lambda x: x[1] == targetId)\n",
    "\n",
    "allFilmsRating = rdd.map(lambda x: x[0]).countByValue()\n",
    "\n",
    "targetFilmsRating = targetRdd.map(lambda x: x[0]).countByValue()\n",
    "\n",
    "\n",
    "res = json.dumps({\"hist_all\": [allFilmsRating['1'], \n",
    "                               allFilmsRating['2'], \n",
    "                               allFilmsRating['3'], \n",
    "                               allFilmsRating['4'], \n",
    "                               allFilmsRating['5']], \n",
    "                  \"hist_film\": [targetFilmsRating['1'], \n",
    "                               targetFilmsRating['2'], \n",
    "                               targetFilmsRating['3'], \n",
    "                               targetFilmsRating['4'], \n",
    "                               targetFilmsRating['5']]})\n",
    "\n",
    "f = open(\"lab01.json\", \"a\")\n",
    "f.write(res)\n",
    "f.close()\n"
   ]
  },
  {
   "cell_type": "code",
   "execution_count": null,
   "metadata": {},
   "outputs": [],
   "source": [
    "{\n",
    "  \"hist_all\": [6110, 11370, 27145, 34174, 21201],\n",
    "  \"hist_film\": [21, 22, 57, 106, 188]\n",
    "}"
   ]
  },
  {
   "cell_type": "code",
   "execution_count": null,
   "metadata": {},
   "outputs": [],
   "source": []
  }
 ],
 "metadata": {
  "kernelspec": {
   "display_name": "Python 3",
   "language": "python",
   "name": "python3"
  },
  "language_info": {
   "codemirror_mode": {
    "name": "ipython",
    "version": 3
   },
   "file_extension": ".py",
   "mimetype": "text/x-python",
   "name": "python",
   "nbconvert_exporter": "python",
   "pygments_lexer": "ipython3",
   "version": "3.6.5"
  }
 },
 "nbformat": 4,
 "nbformat_minor": 2
}
