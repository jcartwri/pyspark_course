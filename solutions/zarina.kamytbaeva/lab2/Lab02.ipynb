{
 "cells": [
  {
   "cell_type": "code",
   "execution_count": 1,
   "metadata": {},
   "outputs": [
    {
     "name": "stdout",
     "output_type": "stream",
     "text": [
      "{\"lang\": \"en\", \"name\": \"Accounting Cycle: The Foundation of Business Measurement and Reporting\", \"cat\": \"3/business_management|6/economics_finance\", \"provider\": \"Canvas Network\", \"id\": 4, \"desc\": \"This course introduces the basic financial statements used by most businesses, as well as the essential tools used to prepare them. This course will serve as a resource to help business students succeed in their upcoming university-level accounting classes, and as a refresher for upper division accounting students who are struggling to recall elementary concepts essential to more advanced accounting topics. Business owners will also benefit from this class by gaining essential skills necessary to organize and manage information pertinent to operating their business. At the conclusion of the class, students will understand the balance sheet, income statement, and cash flow statement. They will be able to differentiate between cash basis and accrual basis techniques, and know when each is appropriate. They\\u2019ll als"
     ]
    }
   ],
   "source": [
    "!hdfs dfs -head /labs/slaba02/DO_record_per_line.json"
   ]
  },
  {
   "cell_type": "code",
   "execution_count": 2,
   "metadata": {},
   "outputs": [],
   "source": [
    "import os\n",
    "import sys\n",
    "os.environ[\"PYSPARK_PYTHON\"]='/opt/anaconda/envs/bd9/bin/python'\n",
    "os.environ[\"SPARK_HOME\"]='/usr/hdp/current/spark2-client'\n",
    "os.environ[\"PYSPARK_SUBMIT_ARGS\"]='--num-executors 3 pyspark-shell'\n",
    "\n",
    "spark_home = os.environ.get('SPARK_HOME', None)\n",
    "\n",
    "sys.path.insert(0, os.path.join(spark_home, 'python'))\n",
    "sys.path.insert(0, os.path.join(spark_home, 'python/lib/py4j-0.10.7-src.zip'))"
   ]
  },
  {
   "cell_type": "code",
   "execution_count": 3,
   "metadata": {},
   "outputs": [],
   "source": [
    "from pyspark import SparkConf\n",
    "from pyspark.sql import SparkSession\n",
    "\n",
    "conf = SparkConf()\n",
    "conf.set(\"spark.app.name\", \"ZK Spark Dataframe app\") \n",
    "\n",
    "spark = SparkSession.builder.config(conf=conf).appName(\"ZK Spark Dataframe app\").getOrCreate()"
   ]
  },
  {
   "cell_type": "code",
   "execution_count": 4,
   "metadata": {},
   "outputs": [
    {
     "data": {
      "text/html": [
       "\n",
       "            <div>\n",
       "                <p><b>SparkSession - in-memory</b></p>\n",
       "                \n",
       "        <div>\n",
       "            <p><b>SparkContext</b></p>\n",
       "\n",
       "            <p><a href=\"http://spark-de-master-4.newprolab.com:4047\">Spark UI</a></p>\n",
       "\n",
       "            <dl>\n",
       "              <dt>Version</dt>\n",
       "                <dd><code>v2.4.7</code></dd>\n",
       "              <dt>Master</dt>\n",
       "                <dd><code>yarn</code></dd>\n",
       "              <dt>AppName</dt>\n",
       "                <dd><code>ZK Spark Dataframe app</code></dd>\n",
       "            </dl>\n",
       "        </div>\n",
       "        \n",
       "            </div>\n",
       "        "
      ],
      "text/plain": [
       "<pyspark.sql.session.SparkSession at 0x7fd17bd03e80>"
      ]
     },
     "execution_count": 4,
     "metadata": {},
     "output_type": "execute_result"
    }
   ],
   "source": [
    "spark"
   ]
  },
  {
   "cell_type": "code",
   "execution_count": 5,
   "metadata": {},
   "outputs": [],
   "source": [
    "sc = spark.sparkContext"
   ]
  },
  {
   "cell_type": "code",
   "execution_count": 6,
   "metadata": {},
   "outputs": [
    {
     "data": {
      "text/html": [
       "\n",
       "        <div>\n",
       "            <p><b>SparkContext</b></p>\n",
       "\n",
       "            <p><a href=\"http://spark-de-master-4.newprolab.com:4047\">Spark UI</a></p>\n",
       "\n",
       "            <dl>\n",
       "              <dt>Version</dt>\n",
       "                <dd><code>v2.4.7</code></dd>\n",
       "              <dt>Master</dt>\n",
       "                <dd><code>yarn</code></dd>\n",
       "              <dt>AppName</dt>\n",
       "                <dd><code>ZK Spark Dataframe app</code></dd>\n",
       "            </dl>\n",
       "        </div>\n",
       "        "
      ],
      "text/plain": [
       "<SparkContext master=yarn appName=ZK Spark Dataframe app>"
      ]
     },
     "execution_count": 6,
     "metadata": {},
     "output_type": "execute_result"
    }
   ],
   "source": [
    "sc"
   ]
  },
  {
   "cell_type": "code",
   "execution_count": 7,
   "metadata": {},
   "outputs": [
    {
     "name": "stdout",
     "output_type": "stream",
     "text": [
      "Populating the interactive namespace from numpy and matplotlib\n"
     ]
    }
   ],
   "source": [
    "%pylab inline"
   ]
  },
  {
   "cell_type": "code",
   "execution_count": 8,
   "metadata": {},
   "outputs": [
    {
     "data": {
      "text/plain": [
       "<pyspark.sql.readwriter.DataFrameReader at 0x7fd178685c88>"
      ]
     },
     "execution_count": 8,
     "metadata": {},
     "output_type": "execute_result"
    }
   ],
   "source": [
    "spark.read"
   ]
  },
  {
   "cell_type": "code",
   "execution_count": 9,
   "metadata": {},
   "outputs": [],
   "source": [
    "df = spark.read\\\n",
    "          .format(\"json\")\\\n",
    "          .option(\"sep\", \"|\")\\\n",
    "          .load(\"/labs/slaba02/DO_record_per_line.json\")"
   ]
  },
  {
   "cell_type": "code",
   "execution_count": 10,
   "metadata": {},
   "outputs": [
    {
     "name": "stdout",
     "output_type": "stream",
     "text": [
      "+--------------------+--------------------+---+----+--------------------+--------------+\n",
      "|                 cat|                desc| id|lang|                name|      provider|\n",
      "+--------------------+--------------------+---+----+--------------------+--------------+\n",
      "|3/business_manage...|This course intro...|  4|  en|Accounting Cycle:...|Canvas Network|\n",
      "|              11/law|This online cours...|  5|  en|American Counter ...|Canvas Network|\n",
      "|5/computer_scienc...|This course is ta...|  6|  fr|Arithmétique: en ...|Canvas Network|\n",
      "|  14/social_sciences|We live in a digi...|  7|  en|Becoming a Dynami...|Canvas Network|\n",
      "|2/biology_life_sc...|This self-paced c...|  8|  en|           Bioethics|Canvas Network|\n",
      "+--------------------+--------------------+---+----+--------------------+--------------+\n",
      "only showing top 5 rows\n",
      "\n"
     ]
    }
   ],
   "source": [
    "df.show(5)"
   ]
  },
  {
   "cell_type": "markdown",
   "metadata": {},
   "source": [
    "переводим описание в массивы слов"
   ]
  },
  {
   "cell_type": "code",
   "execution_count": 11,
   "metadata": {
    "collapsed": true
   },
   "outputs": [
    {
     "name": "stdout",
     "output_type": "stream",
     "text": [
      "-RECORD 0-------------------------------------------------------------------------------------------------------------------------------------------------------------------------------------------------------------------------------------------------------------------------------------------------------------------------------------------------------------------------------------------------------------------------------------------------------------------------------------------------------------------------------------------------------------------------------------------------------------------------------------------------------------------------------------------------------------------------------------------------------------------------------------------------------------------------------------------------------------------------------------------------------------------------------------------------------------------------------------------------------------------------------------------------------------------------------------------------------------------------------------------------------------------------------------\n",
      " desc | This course introduces the basic financial statements used by most businesses, as well as the essential tools used to prepare them. This course will serve as a resource to help business students succeed in their upcoming university-level accounting classes, and as a refresher for upper division accounting students who are struggling to recall elementary concepts essential to more advanced accounting topics. Business owners will also benefit from this class by gaining essential skills necessary to organize and manage information pertinent to operating their business. At the conclusion of the class, students will understand the balance sheet, income statement, and cash flow statement. They will be able to differentiate between cash basis and accrual basis techniques, and know when each is appropriate. They’ll also understand the accounting equation, how to journalize and post transactions, how to adjust and close accounts, and how to prepare key financial reports. All material for this class is written and delivered by the professor, and can be previewed here. Students must have access to a spreadsheet program to participate. \n",
      "-RECORD 1-------------------------------------------------------------------------------------------------------------------------------------------------------------------------------------------------------------------------------------------------------------------------------------------------------------------------------------------------------------------------------------------------------------------------------------------------------------------------------------------------------------------------------------------------------------------------------------------------------------------------------------------------------------------------------------------------------------------------------------------------------------------------------------------------------------------------------------------------------------------------------------------------------------------------------------------------------------------------------------------------------------------------------------------------------------------------------------------------------------------------------------------------------------------------------------\n",
      " desc | This online course will introduce you to American laws related to terrorism and the prevention of terrorism. My approach to the topic is the case-study method. Each week, we will read a case study, along with the statutes, regulations, and other law-related materials relevant to the case. We’ll see how the case was handled in court and what reforms were enacted following the trial. Each week’s assignment will include copies of the relevant laws and court rules, a glossary of terms, background readings, and other supplementary materials. The course will commence with the first attempt by Islamic militants to bring down the World Trade Center towers with a truck bomb in 1993. From there, I'll take you through the major terrorist incidents of the past 20 years, including acts perpetrated by homegrown terrorists, such as the Oklahoma City bombing of 1995 and the trial of the SHAC Seven (animal rights) terrorists in Trenton (NJ) in 2006. Required materials: The textbook for this course is Counter Terrorism Issues: Case Studies in the Courtroom, by Jim Castagnera (estimated cost: $100) Find it at CRC Press                         \n",
      "only showing top 2 rows\n",
      "\n"
     ]
    }
   ],
   "source": [
    "df.select('desc').show(2, False, True)"
   ]
  },
  {
   "cell_type": "code",
   "execution_count": 12,
   "metadata": {},
   "outputs": [],
   "source": [
    "from pyspark.ml.feature import Tokenizer, HashingTF, IDF"
   ]
  },
  {
   "cell_type": "code",
   "execution_count": 14,
   "metadata": {},
   "outputs": [],
   "source": [
    "from pyspark.sql.functions import col, udf, lower\n",
    "from pyspark.sql.types import IntegerType, StringType, ArrayType, DoubleType"
   ]
  },
  {
   "cell_type": "code",
   "execution_count": 15,
   "metadata": {},
   "outputs": [],
   "source": [
    "import pyspark.sql.functions as F\n",
    "from pyspark.sql.functions import regexp_replace"
   ]
  },
  {
   "cell_type": "code",
   "execution_count": 16,
   "metadata": {
    "collapsed": true
   },
   "outputs": [
    {
     "name": "stdout",
     "output_type": "stream",
     "text": [
      "-RECORD 0-------------------------------------------------------------------------------------------------------------------------------------------------------------------------------------------------------------------------------------------------------------------------------------------------------------------------------------------------------------------------------------------------------------------------------------------------------------------------------------------------------------------------------------------------------------------------------------------------------------------------------------------------------------------------------------------------------------------------------------------------------------------------------------------------------------------------------------------------------------------------------------------------------------------------------------------------------------------------------------------------------------------------------------------------------------------------------------------------------------------------------------------------------------------------------------------\n",
      " cat        | 3/business_management|6/economics_finance                                                                                                                                                                                                                                                                                                                                                                                                                                                                                                                                                                                                                                                                                                                                                                                                                                                                                                                                                                                                                                                                                                                                             \n",
      " desc       | This course introduces the basic financial statements used by most businesses, as well as the essential tools used to prepare them. This course will serve as a resource to help business students succeed in their upcoming university-level accounting classes, and as a refresher for upper division accounting students who are struggling to recall elementary concepts essential to more advanced accounting topics. Business owners will also benefit from this class by gaining essential skills necessary to organize and manage information pertinent to operating their business. At the conclusion of the class, students will understand the balance sheet, income statement, and cash flow statement. They will be able to differentiate between cash basis and accrual basis techniques, and know when each is appropriate. They’ll also understand the accounting equation, how to journalize and post transactions, how to adjust and close accounts, and how to prepare key financial reports. All material for this class is written and delivered by the professor, and can be previewed here. Students must have access to a spreadsheet program to participate. \n",
      " id         | 4                                                                                                                                                                                                                                                                                                                                                                                                                                                                                                                                                                                                                                                                                                                                                                                                                                                                                                                                                                                                                                                                                                                                                                                     \n",
      " lang       | en                                                                                                                                                                                                                                                                                                                                                                                                                                                                                                                                                                                                                                                                                                                                                                                                                                                                                                                                                                                                                                                                                                                                                                                    \n",
      " name       | Accounting Cycle: The Foundation of Business Measurement and Reporting                                                                                                                                                                                                                                                                                                                                                                                                                                                                                                                                                                                                                                                                                                                                                                                                                                                                                                                                                                                                                                                                                                                \n",
      " provider   | Canvas Network                                                                                                                                                                                                                                                                                                                                                                                                                                                                                                                                                                                                                                                                                                                                                                                                                                                                                                                                                                                                                                                                                                                                                                        \n",
      " desc_lower | this course introduces the basic financial statements used by most businesses, as well as the essential tools used to prepare them. this course will serve as a resource to help business students succeed in their upcoming university-level accounting classes, and as a refresher for upper division accounting students who are struggling to recall elementary concepts essential to more advanced accounting topics. business owners will also benefit from this class by gaining essential skills necessary to organize and manage information pertinent to operating their business. at the conclusion of the class, students will understand the balance sheet, income statement, and cash flow statement. they will be able to differentiate between cash basis and accrual basis techniques, and know when each is appropriate. they’ll also understand the accounting equation, how to journalize and post transactions, how to adjust and close accounts, and how to prepare key financial reports. all material for this class is written and delivered by the professor, and can be previewed here. students must have access to a spreadsheet program to participate. \n",
      "only showing top 1 row\n",
      "\n"
     ]
    }
   ],
   "source": [
    "df_lower = df.withColumn('desc_lower', lower(col('desc')))\n",
    "df_lower.show(1,False,True)"
   ]
  },
  {
   "cell_type": "code",
   "execution_count": 17,
   "metadata": {},
   "outputs": [],
   "source": [
    "pattern_punct = '[.!@\"“’«»#$%&\\'()*+,—/:;<=>?^_`{|}~\\[\\]]'\n",
    "df3 = df_lower.withColumn('cleaned_desc', \n",
    "regexp_replace('desc_lower', pattern_punct, ''))"
   ]
  },
  {
   "cell_type": "code",
   "execution_count": 18,
   "metadata": {
    "scrolled": true
   },
   "outputs": [
    {
     "name": "stdout",
     "output_type": "stream",
     "text": [
      "-RECORD 0---------------------------------------------------------------------------------------------------------------------------------------------------------------------------------------------------------------------------------------------------------------------------------------------------------------------------------------------------------------------------------------------------------------------------------------------------------------------------------------------------------------------------------------------------------------------------------------------------------------------------------------------------------------------------------------------------------------------------------------------------------------------------------------------------------------------------------------------------------------------------------------------------------------------------------------------------------------------------------------------------------------------------------------------------------------------------------------------------------------------------------------------------------------------------------------------\n",
      " cat          | 3/business_management|6/economics_finance                                                                                                                                                                                                                                                                                                                                                                                                                                                                                                                                                                                                                                                                                                                                                                                                                                                                                                                                                                                                                                                                                                                                             \n",
      " desc         | This course introduces the basic financial statements used by most businesses, as well as the essential tools used to prepare them. This course will serve as a resource to help business students succeed in their upcoming university-level accounting classes, and as a refresher for upper division accounting students who are struggling to recall elementary concepts essential to more advanced accounting topics. Business owners will also benefit from this class by gaining essential skills necessary to organize and manage information pertinent to operating their business. At the conclusion of the class, students will understand the balance sheet, income statement, and cash flow statement. They will be able to differentiate between cash basis and accrual basis techniques, and know when each is appropriate. They’ll also understand the accounting equation, how to journalize and post transactions, how to adjust and close accounts, and how to prepare key financial reports. All material for this class is written and delivered by the professor, and can be previewed here. Students must have access to a spreadsheet program to participate. \n",
      " id           | 4                                                                                                                                                                                                                                                                                                                                                                                                                                                                                                                                                                                                                                                                                                                                                                                                                                                                                                                                                                                                                                                                                                                                                                                     \n",
      " lang         | en                                                                                                                                                                                                                                                                                                                                                                                                                                                                                                                                                                                                                                                                                                                                                                                                                                                                                                                                                                                                                                                                                                                                                                                    \n",
      " name         | Accounting Cycle: The Foundation of Business Measurement and Reporting                                                                                                                                                                                                                                                                                                                                                                                                                                                                                                                                                                                                                                                                                                                                                                                                                                                                                                                                                                                                                                                                                                                \n",
      " provider     | Canvas Network                                                                                                                                                                                                                                                                                                                                                                                                                                                                                                                                                                                                                                                                                                                                                                                                                                                                                                                                                                                                                                                                                                                                                                        \n",
      " desc_lower   | this course introduces the basic financial statements used by most businesses, as well as the essential tools used to prepare them. this course will serve as a resource to help business students succeed in their upcoming university-level accounting classes, and as a refresher for upper division accounting students who are struggling to recall elementary concepts essential to more advanced accounting topics. business owners will also benefit from this class by gaining essential skills necessary to organize and manage information pertinent to operating their business. at the conclusion of the class, students will understand the balance sheet, income statement, and cash flow statement. they will be able to differentiate between cash basis and accrual basis techniques, and know when each is appropriate. they’ll also understand the accounting equation, how to journalize and post transactions, how to adjust and close accounts, and how to prepare key financial reports. all material for this class is written and delivered by the professor, and can be previewed here. students must have access to a spreadsheet program to participate. \n",
      " cleaned_desc | this course introduces the basic financial statements used by most businesses as well as the essential tools used to prepare them this course will serve as a resource to help business students succeed in their upcoming university-level accounting classes and as a refresher for upper division accounting students who are struggling to recall elementary concepts essential to more advanced accounting topics business owners will also benefit from this class by gaining essential skills necessary to organize and manage information pertinent to operating their business at the conclusion of the class students will understand the balance sheet income statement and cash flow statement they will be able to differentiate between cash basis and accrual basis techniques and know when each is appropriate theyll also understand the accounting equation how to journalize and post transactions how to adjust and close accounts and how to prepare key financial reports all material for this class is written and delivered by the professor and can be previewed here students must have access to a spreadsheet program to participate                    \n",
      "-RECORD 1---------------------------------------------------------------------------------------------------------------------------------------------------------------------------------------------------------------------------------------------------------------------------------------------------------------------------------------------------------------------------------------------------------------------------------------------------------------------------------------------------------------------------------------------------------------------------------------------------------------------------------------------------------------------------------------------------------------------------------------------------------------------------------------------------------------------------------------------------------------------------------------------------------------------------------------------------------------------------------------------------------------------------------------------------------------------------------------------------------------------------------------------------------------------------------------------\n",
      " cat          | 11/law                                                                                                                                                                                                                                                                                                                                                                                                                                                                                                                                                                                                                                                                                                                                                                                                                                                                                                                                                                                                                                                                                                                                                                                \n",
      " desc         | This online course will introduce you to American laws related to terrorism and the prevention of terrorism. My approach to the topic is the case-study method. Each week, we will read a case study, along with the statutes, regulations, and other law-related materials relevant to the case. We’ll see how the case was handled in court and what reforms were enacted following the trial. Each week’s assignment will include copies of the relevant laws and court rules, a glossary of terms, background readings, and other supplementary materials. The course will commence with the first attempt by Islamic militants to bring down the World Trade Center towers with a truck bomb in 1993. From there, I'll take you through the major terrorist incidents of the past 20 years, including acts perpetrated by homegrown terrorists, such as the Oklahoma City bombing of 1995 and the trial of the SHAC Seven (animal rights) terrorists in Trenton (NJ) in 2006. Required materials: The textbook for this course is Counter Terrorism Issues: Case Studies in the Courtroom, by Jim Castagnera (estimated cost: $100) Find it at CRC Press                         \n",
      " id           | 5                                                                                                                                                                                                                                                                                                                                                                                                                                                                                                                                                                                                                                                                                                                                                                                                                                                                                                                                                                                                                                                                                                                                                                                     \n",
      " lang         | en                                                                                                                                                                                                                                                                                                                                                                                                                                                                                                                                                                                                                                                                                                                                                                                                                                                                                                                                                                                                                                                                                                                                                                                    \n",
      " name         | American Counter Terrorism Law                                                                                                                                                                                                                                                                                                                                                                                                                                                                                                                                                                                                                                                                                                                                                                                                                                                                                                                                                                                                                                                                                                                                                        \n",
      " provider     | Canvas Network                                                                                                                                                                                                                                                                                                                                                                                                                                                                                                                                                                                                                                                                                                                                                                                                                                                                                                                                                                                                                                                                                                                                                                        \n",
      " desc_lower   | this online course will introduce you to american laws related to terrorism and the prevention of terrorism. my approach to the topic is the case-study method. each week, we will read a case study, along with the statutes, regulations, and other law-related materials relevant to the case. we’ll see how the case was handled in court and what reforms were enacted following the trial. each week’s assignment will include copies of the relevant laws and court rules, a glossary of terms, background readings, and other supplementary materials. the course will commence with the first attempt by islamic militants to bring down the world trade center towers with a truck bomb in 1993. from there, i'll take you through the major terrorist incidents of the past 20 years, including acts perpetrated by homegrown terrorists, such as the oklahoma city bombing of 1995 and the trial of the shac seven (animal rights) terrorists in trenton (nj) in 2006. required materials: the textbook for this course is counter terrorism issues: case studies in the courtroom, by jim castagnera (estimated cost: $100) find it at crc press                         \n",
      " cleaned_desc | this online course will introduce you to american laws related to terrorism and the prevention of terrorism my approach to the topic is the case-study method each week we will read a case study along with the statutes regulations and other law-related materials relevant to the case well see how the case was handled in court and what reforms were enacted following the trial each weeks assignment will include copies of the relevant laws and court rules a glossary of terms background readings and other supplementary materials the course will commence with the first attempt by islamic militants to bring down the world trade center towers with a truck bomb in 1993 from there ill take you through the major terrorist incidents of the past 20 years including acts perpetrated by homegrown terrorists such as the oklahoma city bombing of 1995 and the trial of the shac seven animal rights terrorists in trenton nj in 2006 required materials the textbook for this course is counter terrorism issues case studies in the courtroom by jim castagnera estimated cost 100 find it at crc press                                                        \n",
      "only showing top 2 rows\n",
      "\n"
     ]
    }
   ],
   "source": [
    "df3.show(2, False, True)"
   ]
  },
  {
   "cell_type": "code",
   "execution_count": 19,
   "metadata": {},
   "outputs": [],
   "source": [
    "tokenizer = Tokenizer(inputCol=\"cleaned_desc\", outputCol=\"words\")"
   ]
  },
  {
   "cell_type": "code",
   "execution_count": 20,
   "metadata": {},
   "outputs": [],
   "source": [
    "df_token = tokenizer.transform(df3)"
   ]
  },
  {
   "cell_type": "code",
   "execution_count": 21,
   "metadata": {},
   "outputs": [
    {
     "name": "stdout",
     "output_type": "stream",
     "text": [
      "-RECORD 0--------------------------------------------------------------------------------------------------------------------------------------------------------------------------------------------------------------------------------------------------------------------------------------------------------------------------------------------------------------------------------------------------------------------------------------------------------------------------------------------------------------------------------------------------------------------------------------------------------------------------------------------------------------------------------------------------------------------------------------------------------------------------------------------------------------------------------------------------------------------------------------------------------------------------------------------------------------------------------------------------------------------------------------------------------------------------------------------------------------------------------------------------------------------------------------------------------------------------------------------------------------------------------------------------------------------------------------------------------\n",
      " cat          | 3/business_management|6/economics_finance                                                                                                                                                                                                                                                                                                                                                                                                                                                                                                                                                                                                                                                                                                                                                                                                                                                                                                                                                                                                                                                                                                                                                                                                                                                                                                        \n",
      " desc         | This course introduces the basic financial statements used by most businesses, as well as the essential tools used to prepare them. This course will serve as a resource to help business students succeed in their upcoming university-level accounting classes, and as a refresher for upper division accounting students who are struggling to recall elementary concepts essential to more advanced accounting topics. Business owners will also benefit from this class by gaining essential skills necessary to organize and manage information pertinent to operating their business. At the conclusion of the class, students will understand the balance sheet, income statement, and cash flow statement. They will be able to differentiate between cash basis and accrual basis techniques, and know when each is appropriate. They’ll also understand the accounting equation, how to journalize and post transactions, how to adjust and close accounts, and how to prepare key financial reports. All material for this class is written and delivered by the professor, and can be previewed here. Students must have access to a spreadsheet program to participate.                                                                                                                                                            \n",
      " id           | 4                                                                                                                                                                                                                                                                                                                                                                                                                                                                                                                                                                                                                                                                                                                                                                                                                                                                                                                                                                                                                                                                                                                                                                                                                                                                                                                                                \n",
      " lang         | en                                                                                                                                                                                                                                                                                                                                                                                                                                                                                                                                                                                                                                                                                                                                                                                                                                                                                                                                                                                                                                                                                                                                                                                                                                                                                                                                               \n",
      " name         | Accounting Cycle: The Foundation of Business Measurement and Reporting                                                                                                                                                                                                                                                                                                                                                                                                                                                                                                                                                                                                                                                                                                                                                                                                                                                                                                                                                                                                                                                                                                                                                                                                                                                                           \n",
      " provider     | Canvas Network                                                                                                                                                                                                                                                                                                                                                                                                                                                                                                                                                                                                                                                                                                                                                                                                                                                                                                                                                                                                                                                                                                                                                                                                                                                                                                                                   \n",
      " desc_lower   | this course introduces the basic financial statements used by most businesses, as well as the essential tools used to prepare them. this course will serve as a resource to help business students succeed in their upcoming university-level accounting classes, and as a refresher for upper division accounting students who are struggling to recall elementary concepts essential to more advanced accounting topics. business owners will also benefit from this class by gaining essential skills necessary to organize and manage information pertinent to operating their business. at the conclusion of the class, students will understand the balance sheet, income statement, and cash flow statement. they will be able to differentiate between cash basis and accrual basis techniques, and know when each is appropriate. they’ll also understand the accounting equation, how to journalize and post transactions, how to adjust and close accounts, and how to prepare key financial reports. all material for this class is written and delivered by the professor, and can be previewed here. students must have access to a spreadsheet program to participate.                                                                                                                                                            \n",
      " cleaned_desc | this course introduces the basic financial statements used by most businesses as well as the essential tools used to prepare them this course will serve as a resource to help business students succeed in their upcoming university-level accounting classes and as a refresher for upper division accounting students who are struggling to recall elementary concepts essential to more advanced accounting topics business owners will also benefit from this class by gaining essential skills necessary to organize and manage information pertinent to operating their business at the conclusion of the class students will understand the balance sheet income statement and cash flow statement they will be able to differentiate between cash basis and accrual basis techniques and know when each is appropriate theyll also understand the accounting equation how to journalize and post transactions how to adjust and close accounts and how to prepare key financial reports all material for this class is written and delivered by the professor and can be previewed here students must have access to a spreadsheet program to participate                                                                                                                                                                               \n",
      " words        | [this, course, introduces, the, basic, financial, statements, used, by, most, businesses, as, well, as, the, essential, tools, used, to, prepare, them, this, course, will, serve, as, a, resource, to, help, business, students, succeed, in, their, upcoming, university-level, accounting, classes, and, as, a, refresher, for, upper, division, accounting, students, who, are, struggling, to, recall, elementary, concepts, essential, to, more, advanced, accounting, topics, business, owners, will, also, benefit, from, this, class, by, gaining, essential, skills, necessary, to, organize, and, manage, information, pertinent, to, operating, their, business, at, the, conclusion, of, the, class, students, will, understand, the, balance, sheet, income, statement, and, cash, flow, statement, they, will, be, able, to, differentiate, between, cash, basis, and, accrual, basis, techniques, and, know, when, each, is, appropriate, theyll, also, understand, the, accounting, equation, how, to, journalize, and, post, transactions, how, to, adjust, and, close, accounts, and, how, to, prepare, key, financial, reports, all, material, for, this, class, is, written, and, delivered, by, the, professor, and, can, be, previewed, here, students, must, have, access, to, a, spreadsheet, program, to, participate] \n",
      "-RECORD 1--------------------------------------------------------------------------------------------------------------------------------------------------------------------------------------------------------------------------------------------------------------------------------------------------------------------------------------------------------------------------------------------------------------------------------------------------------------------------------------------------------------------------------------------------------------------------------------------------------------------------------------------------------------------------------------------------------------------------------------------------------------------------------------------------------------------------------------------------------------------------------------------------------------------------------------------------------------------------------------------------------------------------------------------------------------------------------------------------------------------------------------------------------------------------------------------------------------------------------------------------------------------------------------------------------------------------------------------------------\n",
      " cat          | 11/law                                                                                                                                                                                                                                                                                                                                                                                                                                                                                                                                                                                                                                                                                                                                                                                                                                                                                                                                                                                                                                                                                                                                                                                                                                                                                                                                           \n",
      " desc         | This online course will introduce you to American laws related to terrorism and the prevention of terrorism. My approach to the topic is the case-study method. Each week, we will read a case study, along with the statutes, regulations, and other law-related materials relevant to the case. We’ll see how the case was handled in court and what reforms were enacted following the trial. Each week’s assignment will include copies of the relevant laws and court rules, a glossary of terms, background readings, and other supplementary materials. The course will commence with the first attempt by Islamic militants to bring down the World Trade Center towers with a truck bomb in 1993. From there, I'll take you through the major terrorist incidents of the past 20 years, including acts perpetrated by homegrown terrorists, such as the Oklahoma City bombing of 1995 and the trial of the SHAC Seven (animal rights) terrorists in Trenton (NJ) in 2006. Required materials: The textbook for this course is Counter Terrorism Issues: Case Studies in the Courtroom, by Jim Castagnera (estimated cost: $100) Find it at CRC Press                                                                                                                                                                                    \n",
      " id           | 5                                                                                                                                                                                                                                                                                                                                                                                                                                                                                                                                                                                                                                                                                                                                                                                                                                                                                                                                                                                                                                                                                                                                                                                                                                                                                                                                                \n",
      " lang         | en                                                                                                                                                                                                                                                                                                                                                                                                                                                                                                                                                                                                                                                                                                                                                                                                                                                                                                                                                                                                                                                                                                                                                                                                                                                                                                                                               \n",
      " name         | American Counter Terrorism Law                                                                                                                                                                                                                                                                                                                                                                                                                                                                                                                                                                                                                                                                                                                                                                                                                                                                                                                                                                                                                                                                                                                                                                                                                                                                                                                   \n",
      " provider     | Canvas Network                                                                                                                                                                                                                                                                                                                                                                                                                                                                                                                                                                                                                                                                                                                                                                                                                                                                                                                                                                                                                                                                                                                                                                                                                                                                                                                                   \n",
      " desc_lower   | this online course will introduce you to american laws related to terrorism and the prevention of terrorism. my approach to the topic is the case-study method. each week, we will read a case study, along with the statutes, regulations, and other law-related materials relevant to the case. we’ll see how the case was handled in court and what reforms were enacted following the trial. each week’s assignment will include copies of the relevant laws and court rules, a glossary of terms, background readings, and other supplementary materials. the course will commence with the first attempt by islamic militants to bring down the world trade center towers with a truck bomb in 1993. from there, i'll take you through the major terrorist incidents of the past 20 years, including acts perpetrated by homegrown terrorists, such as the oklahoma city bombing of 1995 and the trial of the shac seven (animal rights) terrorists in trenton (nj) in 2006. required materials: the textbook for this course is counter terrorism issues: case studies in the courtroom, by jim castagnera (estimated cost: $100) find it at crc press                                                                                                                                                                                    \n",
      " cleaned_desc | this online course will introduce you to american laws related to terrorism and the prevention of terrorism my approach to the topic is the case-study method each week we will read a case study along with the statutes regulations and other law-related materials relevant to the case well see how the case was handled in court and what reforms were enacted following the trial each weeks assignment will include copies of the relevant laws and court rules a glossary of terms background readings and other supplementary materials the course will commence with the first attempt by islamic militants to bring down the world trade center towers with a truck bomb in 1993 from there ill take you through the major terrorist incidents of the past 20 years including acts perpetrated by homegrown terrorists such as the oklahoma city bombing of 1995 and the trial of the shac seven animal rights terrorists in trenton nj in 2006 required materials the textbook for this course is counter terrorism issues case studies in the courtroom by jim castagnera estimated cost 100 find it at crc press                                                                                                                                                                                                                   \n",
      " words        | [this, online, course, will, introduce, you, to, american, laws, related, to, terrorism, and, the, prevention, of, terrorism, my, approach, to, the, topic, is, the, case-study, method, each, week, we, will, read, a, case, study, along, with, the, statutes, regulations, and, other, law-related, materials, relevant, to, the, case, well, see, how, the, case, was, handled, in, court, and, what, reforms, were, enacted, following, the, trial, each, weeks, assignment, will, include, copies, of, the, relevant, laws, and, court, rules, a, glossary, of, terms, background, readings, and, other, supplementary, materials, the, course, will, commence, with, the, first, attempt, by, islamic, militants, to, bring, down, the, world, trade, center, towers, with, a, truck, bomb, in, 1993, from, there, ill, take, you, through, the, major, terrorist, incidents, of, the, past, 20, years, including, acts, perpetrated, by, homegrown, terrorists, such, as, the, oklahoma, city, bombing, of, 1995, and, the, trial, of, the, shac, seven, animal, rights, terrorists, in, trenton, nj, in, 2006, required, materials, the, textbook, for, this, course, is, counter, terrorism, issues, case, studies, in, the, courtroom, by, jim, castagnera, estimated, cost, 100, find, it, at, crc, press]                           \n",
      "only showing top 2 rows\n",
      "\n"
     ]
    }
   ],
   "source": [
    "df_token.show(2, False, True)"
   ]
  },
  {
   "cell_type": "code",
   "execution_count": 22,
   "metadata": {
    "scrolled": true
   },
   "outputs": [
    {
     "name": "stdout",
     "output_type": "stream",
     "text": [
      "-RECORD 0--------------------------------------------------------------------------------------------------------------------------------------------------------------------------------------------------------------------------------------------------------------------------------------------------------------------------------------------------------------------------------------------------------------------------------------------------------------------------------------------------------------------------------------------------------------------------------------------------------------------------------------------------------------------------------------------------------------------------------------------------------------------------------------------------------------------------------------------------------------------------------------------------------------------------------------------------------------------------------------------------------------------------------------------------------------------------------------------------------------------------------------------------------------------------------------------------------------------------------------------------------------------------------------------------------------------------------------------------------\n",
      " cat          | 3/business_management|6/economics_finance                                                                                                                                                                                                                                                                                                                                                                                                                                                                                                                                                                                                                                                                                                                                                                                                                                                                                                                                                                                                                                                                                                                                                                                                                                                                                                        \n",
      " desc         | This course introduces the basic financial statements used by most businesses, as well as the essential tools used to prepare them. This course will serve as a resource to help business students succeed in their upcoming university-level accounting classes, and as a refresher for upper division accounting students who are struggling to recall elementary concepts essential to more advanced accounting topics. Business owners will also benefit from this class by gaining essential skills necessary to organize and manage information pertinent to operating their business. At the conclusion of the class, students will understand the balance sheet, income statement, and cash flow statement. They will be able to differentiate between cash basis and accrual basis techniques, and know when each is appropriate. They’ll also understand the accounting equation, how to journalize and post transactions, how to adjust and close accounts, and how to prepare key financial reports. All material for this class is written and delivered by the professor, and can be previewed here. Students must have access to a spreadsheet program to participate.                                                                                                                                                            \n",
      " id           | 4                                                                                                                                                                                                                                                                                                                                                                                                                                                                                                                                                                                                                                                                                                                                                                                                                                                                                                                                                                                                                                                                                                                                                                                                                                                                                                                                                \n",
      " lang         | en                                                                                                                                                                                                                                                                                                                                                                                                                                                                                                                                                                                                                                                                                                                                                                                                                                                                                                                                                                                                                                                                                                                                                                                                                                                                                                                                               \n",
      " name         | Accounting Cycle: The Foundation of Business Measurement and Reporting                                                                                                                                                                                                                                                                                                                                                                                                                                                                                                                                                                                                                                                                                                                                                                                                                                                                                                                                                                                                                                                                                                                                                                                                                                                                           \n",
      " provider     | Canvas Network                                                                                                                                                                                                                                                                                                                                                                                                                                                                                                                                                                                                                                                                                                                                                                                                                                                                                                                                                                                                                                                                                                                                                                                                                                                                                                                                   \n",
      " desc_lower   | this course introduces the basic financial statements used by most businesses, as well as the essential tools used to prepare them. this course will serve as a resource to help business students succeed in their upcoming university-level accounting classes, and as a refresher for upper division accounting students who are struggling to recall elementary concepts essential to more advanced accounting topics. business owners will also benefit from this class by gaining essential skills necessary to organize and manage information pertinent to operating their business. at the conclusion of the class, students will understand the balance sheet, income statement, and cash flow statement. they will be able to differentiate between cash basis and accrual basis techniques, and know when each is appropriate. they’ll also understand the accounting equation, how to journalize and post transactions, how to adjust and close accounts, and how to prepare key financial reports. all material for this class is written and delivered by the professor, and can be previewed here. students must have access to a spreadsheet program to participate.                                                                                                                                                            \n",
      " cleaned_desc | this course introduces the basic financial statements used by most businesses as well as the essential tools used to prepare them this course will serve as a resource to help business students succeed in their upcoming university-level accounting classes and as a refresher for upper division accounting students who are struggling to recall elementary concepts essential to more advanced accounting topics business owners will also benefit from this class by gaining essential skills necessary to organize and manage information pertinent to operating their business at the conclusion of the class students will understand the balance sheet income statement and cash flow statement they will be able to differentiate between cash basis and accrual basis techniques and know when each is appropriate theyll also understand the accounting equation how to journalize and post transactions how to adjust and close accounts and how to prepare key financial reports all material for this class is written and delivered by the professor and can be previewed here students must have access to a spreadsheet program to participate                                                                                                                                                                               \n",
      " words        | [this, course, introduces, the, basic, financial, statements, used, by, most, businesses, as, well, as, the, essential, tools, used, to, prepare, them, this, course, will, serve, as, a, resource, to, help, business, students, succeed, in, their, upcoming, university-level, accounting, classes, and, as, a, refresher, for, upper, division, accounting, students, who, are, struggling, to, recall, elementary, concepts, essential, to, more, advanced, accounting, topics, business, owners, will, also, benefit, from, this, class, by, gaining, essential, skills, necessary, to, organize, and, manage, information, pertinent, to, operating, their, business, at, the, conclusion, of, the, class, students, will, understand, the, balance, sheet, income, statement, and, cash, flow, statement, they, will, be, able, to, differentiate, between, cash, basis, and, accrual, basis, techniques, and, know, when, each, is, appropriate, theyll, also, understand, the, accounting, equation, how, to, journalize, and, post, transactions, how, to, adjust, and, close, accounts, and, how, to, prepare, key, financial, reports, all, material, for, this, class, is, written, and, delivered, by, the, professor, and, can, be, previewed, here, students, must, have, access, to, a, spreadsheet, program, to, participate] \n",
      " tf_features  | (10000,[36,63,138,157,177,362,534,572,603,646,885,1023,1036,1072,1135,1299,1355,1390,1420,1445,1446,1501,1523,1670,1697,1770,2015,2092,2217,2460,2523,2577,2656,2757,3138,3170,3223,3231,3251,3281,3496,3792,3834,3849,3903,3921,4140,4224,4343,4364,4436,4742,4978,5076,5189,5373,5374,5710,5833,5924,6048,6158,6235,6395,6470,6541,6629,6642,6697,6756,6863,7008,7071,7270,7282,7290,7298,7735,7772,7779,7895,7936,7956,7973,8041,8140,8164,8234,8237,8333,8370,8388,8534,8579,8624,8644,8968,9328,9347,9481,9540,9605,9695,9809,9953,9970],[1.0,1.0,1.0,1.0,1.0,1.0,1.0,4.0,1.0,1.0,1.0,1.0,2.0,1.0,1.0,1.0,1.0,1.0,4.0,1.0,1.0,1.0,4.0,1.0,1.0,1.0,3.0,4.0,1.0,2.0,1.0,1.0,2.0,1.0,1.0,3.0,3.0,1.0,1.0,2.0,1.0,2.0,1.0,2.0,1.0,1.0,1.0,1.0,1.0,1.0,1.0,1.0,1.0,1.0,1.0,4.0,3.0,7.0,1.0,1.0,1.0,1.0,2.0,1.0,1.0,1.0,1.0,1.0,1.0,1.0,2.0,2.0,1.0,1.0,2.0,1.0,1.0,1.0,1.0,1.0,1.0,1.0,2.0,1.0,1.0,1.0,2.0,2.0,3.0,10.0,1.0,12.0,3.0,1.0,1.0,1.0,1.0,1.0,1.0,1.0,1.0,2.0,1.0,1.0,1.0,1.0])                                                                                                                                                                                                                                                                                                                                                       \n",
      "only showing top 1 row\n",
      "\n"
     ]
    }
   ],
   "source": [
    "ht = HashingTF(inputCol=\"words\", outputCol=\"tf_features\", numFeatures=10000)\n",
    "df_tf = ht.transform(df_token)\n",
    "df_tf.show(1, False, True)"
   ]
  },
  {
   "cell_type": "code",
   "execution_count": 23,
   "metadata": {
    "scrolled": true
   },
   "outputs": [
    {
     "name": "stdout",
     "output_type": "stream",
     "text": [
      "-RECORD 0-------------------------------------------------------------------------------------------------------------------------------------------------------------------------------------------------------------------------------------------------------------------------------------------------------------------------------------------------------------------------------------------------------------------------------------------------------------------------------------------------------------------------------------------------------------------------------------------------------------------------------------------------------------------------------------------------------------------------------------------------------------------------------------------------------------------------------------------------------------------------------------------------------------------------------------------------------------------------------------------------------------------------------------------------------------------------------------------------------------------------------------------------------------------------------------------------------------------------------------------------------------------------------------------------------------------------------------------------------\n",
      " id          | 4                                                                                                                                                                                                                                                                                                                                                                                                                                                                                                                                                                                                                                                                                                                                                                                                                                                                                                                                                                                                                                                                                                                                                                                                                                                                                                                                                \n",
      " lang        | en                                                                                                                                                                                                                                                                                                                                                                                                                                                                                                                                                                                                                                                                                                                                                                                                                                                                                                                                                                                                                                                                                                                                                                                                                                                                                                                                               \n",
      " name        | Accounting Cycle: The Foundation of Business Measurement and Reporting                                                                                                                                                                                                                                                                                                                                                                                                                                                                                                                                                                                                                                                                                                                                                                                                                                                                                                                                                                                                                                                                                                                                                                                                                                                                           \n",
      " words       | [this, course, introduces, the, basic, financial, statements, used, by, most, businesses, as, well, as, the, essential, tools, used, to, prepare, them, this, course, will, serve, as, a, resource, to, help, business, students, succeed, in, their, upcoming, university-level, accounting, classes, and, as, a, refresher, for, upper, division, accounting, students, who, are, struggling, to, recall, elementary, concepts, essential, to, more, advanced, accounting, topics, business, owners, will, also, benefit, from, this, class, by, gaining, essential, skills, necessary, to, organize, and, manage, information, pertinent, to, operating, their, business, at, the, conclusion, of, the, class, students, will, understand, the, balance, sheet, income, statement, and, cash, flow, statement, they, will, be, able, to, differentiate, between, cash, basis, and, accrual, basis, techniques, and, know, when, each, is, appropriate, theyll, also, understand, the, accounting, equation, how, to, journalize, and, post, transactions, how, to, adjust, and, close, accounts, and, how, to, prepare, key, financial, reports, all, material, for, this, class, is, written, and, delivered, by, the, professor, and, can, be, previewed, here, students, must, have, access, to, a, spreadsheet, program, to, participate] \n",
      " tf_features | (10000,[36,63,138,157,177,362,534,572,603,646,885,1023,1036,1072,1135,1299,1355,1390,1420,1445,1446,1501,1523,1670,1697,1770,2015,2092,2217,2460,2523,2577,2656,2757,3138,3170,3223,3231,3251,3281,3496,3792,3834,3849,3903,3921,4140,4224,4343,4364,4436,4742,4978,5076,5189,5373,5374,5710,5833,5924,6048,6158,6235,6395,6470,6541,6629,6642,6697,6756,6863,7008,7071,7270,7282,7290,7298,7735,7772,7779,7895,7936,7956,7973,8041,8140,8164,8234,8237,8333,8370,8388,8534,8579,8624,8644,8968,9328,9347,9481,9540,9605,9695,9809,9953,9970],[1.0,1.0,1.0,1.0,1.0,1.0,1.0,4.0,1.0,1.0,1.0,1.0,2.0,1.0,1.0,1.0,1.0,1.0,4.0,1.0,1.0,1.0,4.0,1.0,1.0,1.0,3.0,4.0,1.0,2.0,1.0,1.0,2.0,1.0,1.0,3.0,3.0,1.0,1.0,2.0,1.0,2.0,1.0,2.0,1.0,1.0,1.0,1.0,1.0,1.0,1.0,1.0,1.0,1.0,1.0,4.0,3.0,7.0,1.0,1.0,1.0,1.0,2.0,1.0,1.0,1.0,1.0,1.0,1.0,1.0,2.0,2.0,1.0,1.0,2.0,1.0,1.0,1.0,1.0,1.0,1.0,1.0,2.0,1.0,1.0,1.0,2.0,2.0,3.0,10.0,1.0,12.0,3.0,1.0,1.0,1.0,1.0,1.0,1.0,1.0,1.0,2.0,1.0,1.0,1.0,1.0])                                                                                                                                                                                                                                                                                                                                                       \n",
      "only showing top 1 row\n",
      "\n"
     ]
    }
   ],
   "source": [
    "df_tf_cleaned = df_tf.drop(\"cat\", \"desc\", \"provider\",\"desc_lower\",\"cleaned_desc\")\n",
    "df_tf_cleaned.show(1, False, True)"
   ]
  },
  {
   "cell_type": "code",
   "execution_count": 24,
   "metadata": {
    "scrolled": true
   },
   "outputs": [
    {
     "name": "stdout",
     "output_type": "stream",
     "text": [
      "-RECORD 0----------------------------------------------------------------------------------------------------------------------------------------------------------------------------------------------------------------------------------------------------------------------------------------------------------------------------------------------------------------------------------------------------------------------------------------------------------------------------------------------------------------------------------------------------------------------------------------------------------------------------------------------------------------------------------------------------------------------------------------------------------------------------------------------------------------------------------------------------------------------------------------------------------------------------------------------------------------------------------------------------------------------------------------------------------------------------------------------------------------------------------------------------------------------------------------------------------------------------------------------------------------------------------------------------------------------------------------------------------------------------------------------------------------------------------------------------------------------------------------------------------------------------------------------------------------------------------------------------------------------------------------------------------------------------------------------------------------------------------------------------------------------------------------------------------------------------------------------------------------------------------------------------------------------------------------------------------------------------------------------------------------------------------------------------------------------------------------------------------------------------------------------------------------------------------------------------------------------------------------------------------------------------------------------------------------------------------------------------------------------------------------------------------------------------------------------------------------------------------------------------------------------------------------------------------------------------------------------\n",
      " id          | 4                                                                                                                                                                                                                                                                                                                                                                                                                                                                                                                                                                                                                                                                                                                                                                                                                                                                                                                                                                                                                                                                                                                                                                                                                                                                                                                                                                                                                                                                                                                                                                                                                                                                                                                                                                                                                                                                                                                                                                                                                                                                                                                                                                                                                                                                                                                                                                                                                                                                                                                                                                                       \n",
      " lang        | en                                                                                                                                                                                                                                                                                                                                                                                                                                                                                                                                                                                                                                                                                                                                                                                                                                                                                                                                                                                                                                                                                                                                                                                                                                                                                                                                                                                                                                                                                                                                                                                                                                                                                                                                                                                                                                                                                                                                                                                                                                                                                                                                                                                                                                                                                                                                                                                                                                                                                                                                                                                      \n",
      " name        | Accounting Cycle: The Foundation of Business Measurement and Reporting                                                                                                                                                                                                                                                                                                                                                                                                                                                                                                                                                                                                                                                                                                                                                                                                                                                                                                                                                                                                                                                                                                                                                                                                                                                                                                                                                                                                                                                                                                                                                                                                                                                                                                                                                                                                                                                                                                                                                                                                                                                                                                                                                                                                                                                                                                                                                                                                                                                                                                                  \n",
      " words       | [this, course, introduces, the, basic, financial, statements, used, by, most, businesses, as, well, as, the, essential, tools, used, to, prepare, them, this, course, will, serve, as, a, resource, to, help, business, students, succeed, in, their, upcoming, university-level, accounting, classes, and, as, a, refresher, for, upper, division, accounting, students, who, are, struggling, to, recall, elementary, concepts, essential, to, more, advanced, accounting, topics, business, owners, will, also, benefit, from, this, class, by, gaining, essential, skills, necessary, to, organize, and, manage, information, pertinent, to, operating, their, business, at, the, conclusion, of, the, class, students, will, understand, the, balance, sheet, income, statement, and, cash, flow, statement, they, will, be, able, to, differentiate, between, cash, basis, and, accrual, basis, techniques, and, know, when, each, is, appropriate, theyll, also, understand, the, accounting, equation, how, to, journalize, and, post, transactions, how, to, adjust, and, close, accounts, and, how, to, prepare, key, financial, reports, all, material, for, this, class, is, written, and, delivered, by, the, professor, and, can, be, previewed, here, students, must, have, access, to, a, spreadsheet, program, to, participate]                                                                                                                                                                                                                                                                                                                                                                                                                                                                                                                                                                                                                                                                                                                                                                                                                                                                                                                                                                                                                                                                                                                                                                                                                                        \n",
      " tf_features | (10000,[36,63,138,157,177,362,534,572,603,646,885,1023,1036,1072,1135,1299,1355,1390,1420,1445,1446,1501,1523,1670,1697,1770,2015,2092,2217,2460,2523,2577,2656,2757,3138,3170,3223,3231,3251,3281,3496,3792,3834,3849,3903,3921,4140,4224,4343,4364,4436,4742,4978,5076,5189,5373,5374,5710,5833,5924,6048,6158,6235,6395,6470,6541,6629,6642,6697,6756,6863,7008,7071,7270,7282,7290,7298,7735,7772,7779,7895,7936,7956,7973,8041,8140,8164,8234,8237,8333,8370,8388,8534,8579,8624,8644,8968,9328,9347,9481,9540,9605,9695,9809,9953,9970],[1.0,1.0,1.0,1.0,1.0,1.0,1.0,4.0,1.0,1.0,1.0,1.0,2.0,1.0,1.0,1.0,1.0,1.0,4.0,1.0,1.0,1.0,4.0,1.0,1.0,1.0,3.0,4.0,1.0,2.0,1.0,1.0,2.0,1.0,1.0,3.0,3.0,1.0,1.0,2.0,1.0,2.0,1.0,2.0,1.0,1.0,1.0,1.0,1.0,1.0,1.0,1.0,1.0,1.0,1.0,4.0,3.0,7.0,1.0,1.0,1.0,1.0,2.0,1.0,1.0,1.0,1.0,1.0,1.0,1.0,2.0,2.0,1.0,1.0,2.0,1.0,1.0,1.0,1.0,1.0,1.0,1.0,2.0,1.0,1.0,1.0,2.0,2.0,3.0,10.0,1.0,12.0,3.0,1.0,1.0,1.0,1.0,1.0,1.0,1.0,1.0,2.0,1.0,1.0,1.0,1.0])                                                                                                                                                                                                                                                                                                                                                                                                                                                                                                                                                                                                                                                                                                                                                                                                                                                                                                                                                                                                                                                                                                                                                                                                                                                                                                                                                                                                                                                                                                                                                                                              \n",
      " features    | (10000,[36,63,138,157,177,362,534,572,603,646,885,1023,1036,1072,1135,1299,1355,1390,1420,1445,1446,1501,1523,1670,1697,1770,2015,2092,2217,2460,2523,2577,2656,2757,3138,3170,3223,3231,3251,3281,3496,3792,3834,3849,3903,3921,4140,4224,4343,4364,4436,4742,4978,5076,5189,5373,5374,5710,5833,5924,6048,6158,6235,6395,6470,6541,6629,6642,6697,6756,6863,7008,7071,7270,7282,7290,7298,7735,7772,7779,7895,7936,7956,7973,8041,8140,8164,8234,8237,8333,8370,8388,8534,8579,8624,8644,8968,9328,9347,9481,9540,9605,9695,9809,9953,9970],[3.8418705214530955,3.4441616849162906,3.965048880427716,1.5051079766574635,3.373316618048925,3.438615358995734,1.7789134427739013,3.6085924806524097,5.941379626183741,3.5721467516202567,1.8164272188753987,2.8878885184775576,1.0237124072943602,1.5726162364402243,2.462637456548216,0.9725991420603307,2.35523650627795,4.246508157441228,2.6630005052636885,0.39525246391000624,2.381793453939259,2.380640716059451,5.671906427469031,3.3599350493530933,1.5553071329903156,1.4988873648444074,8.877759014056585,15.468074142945296,1.199389541719584,0.8295934260574805,4.499241528847757,3.492006800790131,1.6685764159632182,4.85637298957141,0.559864451370746,1.0083726349780164,2.768542995198181,2.35523650627795,3.5583361115213963,0.8834445100827154,1.8362822721853784,2.8506721497586063,1.9162692773105088,1.707399755360514,3.101827116683789,0.5316659420797549,2.326088528727294,2.1934666404856116,0.28998160526144034,4.545001145997224,3.7577607009033,3.8287124368755845,2.0459805217757507,1.848387329211654,1.3950704154486742,1.5352854838019256,5.124758524394952,1.6050884409899133,0.9838410534741864,1.7933235247153883,1.6934637024860093,3.3995648441238613,2.600224205649273,2.7460214287956823,3.777745993283557,3.167946665818679,1.0984702230335477,4.91756855059833,2.8796318821784386,1.1335995941608272,6.413322355998739,6.225894335455734,3.8435275226607253,4.04493554534522,6.06630050177514,4.838272947927792,3.735186378864761,3.760809483752659,3.915723813865214,1.5025512478757737,3.7501791634509023,3.4210710493448246,6.901716277022823,3.5132340129207047,3.697225616625538,5.2084921169742815,3.3011000406156423,6.42917448654358,1.8220680931893183,1.636436314553669,5.234809425291655,2.5027594041750194,6.543368275431324,2.1817520851183945,3.1798313557901934,2.3619983652501713,1.1162059488487694,3.681589192855783,1.507190142861788,2.3474050286232924,3.6280417414134334,4.086472565902926,3.8418705214530955,3.409185442110844,5.030508961778925,1.8101125544519938]) \n",
      "only showing top 1 row\n",
      "\n"
     ]
    }
   ],
   "source": [
    "idf = IDF(inputCol=\"tf_features\", outputCol=\"features\")\n",
    "idfModel = idf.fit(df_tf_cleaned)\n",
    "df_tfidf = idfModel.transform(df_tf_cleaned)\n",
    "df_tfidf.show(1,False,True)"
   ]
  },
  {
   "cell_type": "markdown",
   "metadata": {},
   "source": [
    "дф со своими курсами"
   ]
  },
  {
   "cell_type": "code",
   "execution_count": 25,
   "metadata": {},
   "outputs": [],
   "source": [
    "list_course_id = [[23126, u'en', u'Compass - powerful SASS library that makes your life easier'], \n",
    " [21617, u'en', u'Preparing for the AP* Computer Science A Exam \\u2014 Part 2'], \n",
    " [16627, u'es', u'Aprende Excel: Nivel Intermedio by Alfonso Rinsche'], \n",
    " [11556, u'es', u'Aprendizaje Colaborativo by UNID Universidad Interamericana para el Desarrollo'], \n",
    " [16704, u'ru', u'\\u041f\\u0440\\u043e\\u0433\\u0440\\u0430\\u043c\\u043c\\u0438\\u0440\\u043e\\u0432\\u0430\\u043d\\u0438\\u0435 \\u043d\\u0430 Lazarus'], \n",
    " [13702, u'ru', u'\\u041c\\u0430\\u0442\\u0435\\u043c\\u0430\\u0442\\u0438\\u0447\\u0435\\u0441\\u043a\\u0430\\u044f \\u044d\\u043a\\u043e\\u043d\\u043e\\u043c\\u0438\\u043a\\u0430']\n",
    "]"
   ]
  },
  {
   "cell_type": "code",
   "execution_count": 26,
   "metadata": {},
   "outputs": [
    {
     "data": {
      "text/plain": [
       "[[23126, 'en', 'Compass - powerful SASS library that makes your life easier'],\n",
       " [21617, 'en', 'Preparing for the AP* Computer Science A Exam — Part 2'],\n",
       " [16627, 'es', 'Aprende Excel: Nivel Intermedio by Alfonso Rinsche'],\n",
       " [11556,\n",
       "  'es',\n",
       "  'Aprendizaje Colaborativo by UNID Universidad Interamericana para el Desarrollo'],\n",
       " [16704, 'ru', 'Программирование на Lazarus'],\n",
       " [13702, 'ru', 'Математическая экономика']]"
      ]
     },
     "execution_count": 26,
     "metadata": {},
     "output_type": "execute_result"
    }
   ],
   "source": [
    "list_course_id"
   ]
  },
  {
   "cell_type": "code",
   "execution_count": 27,
   "metadata": {},
   "outputs": [],
   "source": [
    "from pyspark.sql import Row\n",
    "rdd1 = sc.parallelize(list_course_id)\n",
    "row_rdd = rdd1.map(lambda x: Row(x))"
   ]
  },
  {
   "cell_type": "code",
   "execution_count": 28,
   "metadata": {
    "scrolled": true
   },
   "outputs": [
    {
     "name": "stdout",
     "output_type": "stream",
     "text": [
      "-RECORD 0-----------------------------------------------------------------------------\n",
      " _1  | 23126                                                                          \n",
      " _2  | en                                                                             \n",
      " _3  | Compass - powerful SASS library that makes your life easier                    \n",
      "-RECORD 1-----------------------------------------------------------------------------\n",
      " _1  | 21617                                                                          \n",
      " _2  | en                                                                             \n",
      " _3  | Preparing for the AP* Computer Science A Exam — Part 2                         \n",
      "-RECORD 2-----------------------------------------------------------------------------\n",
      " _1  | 16627                                                                          \n",
      " _2  | es                                                                             \n",
      " _3  | Aprende Excel: Nivel Intermedio by Alfonso Rinsche                             \n",
      "-RECORD 3-----------------------------------------------------------------------------\n",
      " _1  | 11556                                                                          \n",
      " _2  | es                                                                             \n",
      " _3  | Aprendizaje Colaborativo by UNID Universidad Interamericana para el Desarrollo \n",
      "-RECORD 4-----------------------------------------------------------------------------\n",
      " _1  | 16704                                                                          \n",
      " _2  | ru                                                                             \n",
      " _3  | Программирование на Lazarus                                                    \n",
      "-RECORD 5-----------------------------------------------------------------------------\n",
      " _1  | 13702                                                                          \n",
      " _2  | ru                                                                             \n",
      " _3  | Математическая экономика                                                       \n",
      "\n"
     ]
    }
   ],
   "source": [
    "df_test = row_rdd.flatMap(lambda x: x).toDF()\n",
    "df_test.show(6,False,True)"
   ]
  },
  {
   "cell_type": "code",
   "execution_count": 29,
   "metadata": {},
   "outputs": [
    {
     "data": {
      "text/plain": [
       "DataFrame[_1: bigint, _2: string, _3: string]"
      ]
     },
     "execution_count": 29,
     "metadata": {},
     "output_type": "execute_result"
    }
   ],
   "source": [
    "df_test"
   ]
  },
  {
   "cell_type": "code",
   "execution_count": 30,
   "metadata": {
    "scrolled": true
   },
   "outputs": [
    {
     "name": "stdout",
     "output_type": "stream",
     "text": [
      "-RECORD 0-------------------------------------------------------------------------------------------------------------------------------------------------------------------------------------------------------------------------------------------------------------------------------------------------------------------------------------------------------------------------------------------------------------------------------------------------------------------------------------------------------------------------------------------------------------------------------------------------------------------------------------------------------------------------------------------------------------------------------------------------------------------------------------------------------------------------------------------------------------------------------------------------------------------------------------------------------------------------------------------------------------------------------------------------------------------------------------------------------------------------------------------------------------------------------------------------------------------------------------------------------------------------------------------------------------------------------------------------------------------------------------------------------------------------------------------------------------------------------------------------------------------------------------------------------------------------------------------------------------------------------------------------------------------------------------------------------------------------------------------------------------------------------------------------------------------------------------------------------------------------------------------------------------------------------------------------------------------------------------------------------------------------------------------------------------------------------------------------------------------------------------------------------------------------------------------------------------------------------------------------------------------------------------------------------------------------------------------------------------------------------------------------------------------------------------------------------------------------------------------------------------------------------------------------------------------------------------------------------------------------------------------------------------------------------------------------------------------------------------------------------------------------------------------------------------------------------------------------------------------------------------------------------------------------------------------------------------------------------------------------------------------------------------------------------------------------------------------------------------------------------------------------------------------------------------------------------------------------------------------------------------------------------------------------------------------------------------------------------------------------------------------------------------------------------------------------------------------------------------------------------------------------------------------------------------------------------------------------------------------------------------------------------------------------------------------------------------------------------------------------------------------------------------------------------------------------------------------------------------------------------------------------------------------------------------------------------------------------------------------------------------------------------------------------------------------------------------------------------------------------------------------------------------------------------------------------------------------------------------------------------------------------------------------------------------------------------------------------------------------------------------------------------------------------------------------------------------------------------------------------------------------------------------------------------------------------------------------------------------------------------------------------------------------------------------------------------------------------------------------------------------------------------------------------------------------------------------------------------------------------------------------------------------------------------------------------------------------------------------------------------------------------------------------------------------------------------------------------------------------------------------------------------------------------------------------------------------------------------------------------------------------------------------------------------------------------------------------------------------------------------------------------\n",
      " id_test       | 23126                                                                                                                                                                                                                                                                                                                                                                                                                                                                                                                                                                                                                                                                                                                                                                                                                                                                                                                                                                                                                                                                                                                                                                                                                                                                                                                                                                                                                                                                                                                                                                                                                                                                                                                                                                                                                                                                                                                                                                                                                                                                                                                                                                                                                                                                                                                                                                                                                                                                                                                                                                                                                                                                                                                                                                                                                                                                                                                                                                                                                                                                                                                                                                                                                                                                                                                                                                                                                                                                                                                                                                                                                                                                                                                                                                                                                                                                                                                                                                                                                                                                                                                                                                                                                                                                                                                                                                                                                                                                                                                                                                                                                                                                                                                                                                                                                                                                                                                                                                                                                                                                                                                                                                                                                                                                                                                                                                                    \n",
      " lang_test     | en                                                                                                                                                                                                                                                                                                                                                                                                                                                                                                                                                                                                                                                                                                                                                                                                                                                                                                                                                                                                                                                                                                                                                                                                                                                                                                                                                                                                                                                                                                                                                                                                                                                                                                                                                                                                                                                                                                                                                                                                                                                                                                                                                                                                                                                                                                                                                                                                                                                                                                                                                                                                                                                                                                                                                                                                                                                                                                                                                                                                                                                                                                                                                                                                                                                                                                                                                                                                                                                                                                                                                                                                                                                                                                                                                                                                                                                                                                                                                                                                                                                                                                                                                                                                                                                                                                                                                                                                                                                                                                                                                                                                                                                                                                                                                                                                                                                                                                                                                                                                                                                                                                                                                                                                                                                                                                                                                                                       \n",
      " name_test     | Compass - powerful SASS library that makes your life easier                                                                                                                                                                                                                                                                                                                                                                                                                                                                                                                                                                                                                                                                                                                                                                                                                                                                                                                                                                                                                                                                                                                                                                                                                                                                                                                                                                                                                                                                                                                                                                                                                                                                                                                                                                                                                                                                                                                                                                                                                                                                                                                                                                                                                                                                                                                                                                                                                                                                                                                                                                                                                                                                                                                                                                                                                                                                                                                                                                                                                                                                                                                                                                                                                                                                                                                                                                                                                                                                                                                                                                                                                                                                                                                                                                                                                                                                                                                                                                                                                                                                                                                                                                                                                                                                                                                                                                                                                                                                                                                                                                                                                                                                                                                                                                                                                                                                                                                                                                                                                                                                                                                                                                                                                                                                                                                              \n",
      " features_test | (10000,[87,91,128,246,258,263,341,419,461,524,572,721,727,814,870,937,948,966,1022,1036,1072,1073,1169,1173,1187,1197,1218,1222,1263,1272,1299,1312,1368,1420,1425,1443,1445,1463,1470,1612,1645,1652,1682,1770,1777,1851,1882,1959,2060,2077,2080,2082,2159,2217,2412,2460,2495,2656,2682,2691,2801,2865,2971,3102,3115,3138,3145,3154,3162,3170,3202,3223,3281,3330,3368,3372,3434,3444,3491,3525,3624,3721,3757,3767,3772,3783,3849,3855,3916,3921,4061,4115,4170,4192,4260,4343,4394,4422,4489,4520,4712,4744,4762,4805,4858,4888,4904,4962,4973,5076,5141,5188,5242,5318,5329,5373,5429,5446,5499,5548,5594,5612,5685,5707,5710,5723,5737,5786,5833,6006,6022,6048,6114,6163,6228,6242,6262,6265,6311,6346,6418,6439,6526,6537,6549,6595,6597,6608,6629,6668,6675,6688,6714,6750,6815,6835,6841,6842,6894,6969,7013,7038,7255,7271,7318,7352,7368,7486,7510,7512,7515,7522,7534,7650,7712,7758,7779,7922,7989,8002,8028,8057,8113,8157,8159,8237,8261,8333,8350,8388,8429,8433,8493,8573,8580,8598,8599,8696,8754,8795,8877,8897,8993,9018,9060,9092,9146,9159,9244,9327,9347,9533,9594,9605,9638,9644,9653,9665,9688,9760,9916],[2.6937325040366003,1.6522168416956755,1.3062571179122984,3.9613105583171087,3.504925359781687,16.373858929817594,5.817015611360587,2.6005253744290537,1.6376798297872863,2.1673768375724727,0.9021481201631024,1.0062253878613512,2.1559622450271574,4.85637298957141,2.6895396257765642,2.551507393878639,5.814627920544597,0.8746024507576989,2.0628854553192464,3.582993425530261,3.1452324728804486,5.880550755956887,2.6395547183347894,1.5852577355960522,0.8984777498799029,3.599054204540181,5.1155460044648375,5.640274533399819,4.8336555947899456,7.788685198701833,0.9725991420603307,0.8143636807138286,1.9551521281635953,1.9972503789477662,11.266431436129494,3.093175863355371,1.581009855640025,16.564984139077012,42.04009706087339,2.3166783977612155,3.6957939771541004,3.2234682963157506,3.4966851718962313,4.496662094533223,2.2594895031316975,3.0970989754878433,2.7246683043251134,0.669558863304808,5.65032486925332,6.274558762140148,0.8230621891686921,0.6942133166288041,2.2377447065038854,1.199389541719584,2.5717565901201804,4.562763843316143,1.8764998120956915,2.502864623944827,2.980714541458043,4.281865375769464,2.3016620269292853,5.0806587454643966,5.074960724349759,2.9436223772499788,2.768406247068214,5.0387800623367145,2.662197195084549,8.507960344559857,3.0676623031927135,1.3444968466373552,2.7907247700239095,3.6913906602642412,3.9755002953722194,1.6940433566419362,4.495231365629227,1.3864480565405655,3.939169432439895,3.7189498598171205,5.241498413442452,2.74759810377208,10.232708516782315,3.104991676286752,6.094522284571935,1.5529545861146832,3.1721750019282,2.2264900362321924,1.707399755360514,0.7493992278441682,4.748276494094709,1.0633318841595099,4.142886124774342,3.1250003469954226,4.691952219100457,3.5276400243642194,5.878281752949443,3.189797657875844,5.975474084455736,3.926476605641476,5.840322373339792,5.983948673406767,4.33736178121898,0.7151245086607847,3.9050854156601584,15.826894259435731,3.0525104981721114,5.491854528281546,2.5469619315069645,4.287020026358129,1.9033194560543198,1.848387329211654,3.2225766333052692,1.8924188741855856,2.2865182263378006,3.8141136374544318,1.3814696106603,3.0705709676038513,3.453100291917101,3.0791787452542727,2.504034697950603,5.1702709041540835,2.6331078822201652,0.827521234215574,3.8772575330374184,2.3718469297023708,1.8343867897027581,2.6306393546768367,2.5401822445215854,0.7241697231497969,3.9353642138967455,1.2667842297482241,2.907856975849315,1.6934637024860093,3.198797441539155,2.3718469297023708,1.666404124645593,9.658688634366982,2.905257884067795,4.159096204519141,10.755820537864656,1.4134407881316398,0.7937280278364585,3.396378436754453,5.976212995488549,1.3446231144726832,4.696368634492691,18.602933359144284,4.8825048746145905,15.346638013394513,1.0984702230335477,9.279285306183827,1.1919921029488725,3.0707204095515346,3.312021693657196,5.51805690067557,5.681096527920074,3.917507935658716,5.99957930358675,3.3910902171328887,5.69156782778737,2.976524591194189,5.4656543494268,3.8687177714892838,3.787106436043121,5.768107904909704,5.996949477338552,0.7439283857056913,5.779536600733327,1.4947616846033194,1.9528962054121501,4.35104188512306,4.401636879241147,4.914466323081669,5.433378061056891,3.1834711547655914,1.5954704167378548,4.458547338021203,12.02040998300619,11.96908403290363,1.5082896414415474,4.24899263076889,4.310550523768323,2.6410483705915726,2.7638890174783945,8.631428717143315,3.621379491588017,1.2147120621262122,5.385632315026238,1.8000799460090358,36.83000625694191,2.5027594041750194,2.4756437233840143,3.0753251759382825,0.7927858167114771,5.601053820246538,1.650364989314602,11.715256246980475,8.56949586530842,0.8381405138809033,6.055789977361485,3.5276400243642194,5.601053820246538,2.284423253504541,2.7366575487536338,6.5051246404099805,105.1890578877172,4.596470481226705,2.9130755134588484,1.687109584640498,2.65459259569933,1.4462354771465191,1.507190142861788,2.8472706264174454,2.7560326358791913,2.043236282951463,3.7577607009033,3.7562397880625937,3.7623373679307117,1.9107330975669934,3.2888992762363416,3.847572607173815,2.0250416194541816]) \n",
      "only showing top 1 row\n",
      "\n"
     ]
    }
   ],
   "source": [
    "inner_join = df_test.join(df_tfidf, df_test._1 == df_tfidf.id)\n",
    "df_test_v = inner_join.drop(\"id\", \"lang\", \"name\",\"words\",\"tf_features\").cache()\n",
    "df_test_v = df_test_v.select(col(\"_1\").alias(\"id_test\"),col(\"_2\").alias(\"lang_test\"),col(\"_3\").alias(\"name_test\"),col(\"features\").alias(\"features_test\"),)\n",
    "df_test_v.show(1,False,True)\n",
    "# df_test_v.count()"
   ]
  },
  {
   "cell_type": "code",
   "execution_count": 31,
   "metadata": {
    "scrolled": true
   },
   "outputs": [
    {
     "name": "stdout",
     "output_type": "stream",
     "text": [
      "-RECORD 0----------------------------------------------------------------------------------------------------------------------------------------------------------------------------------------------------------------------------------------------------------------------------------------------------------------------------------------------------------------------------------------------------------------------------------------------------------------------------------------------------------------------------------------------------------------------------------------------------------------------------------------------------------------------------------------------------------------------------------------------------------------------------------------------------------------------------------------------------------------------------------------------------------------------------------------------------------------------------------------------------------------------------------------------------------------------------------------------------------------------------------------------------------------------------------------------------------------------------------------------------------------------------------------------------------------------------------------------------------------------------------------------------------------------------------------------------------------------------------------------------------------------------------------------------------------------------------------------------------------------------------------------------------------------------------------------------------------------------------------------------------------------------------------------------------------------------------------------------------------------------------------------------------------------------------------------------------------------------------------------------------------------------------------------------------------------------------------------------------------------------------------------------------------------------------------------------------------------------------------------------------------------------------------------------------------------------------------------------------------------------------------------------------------------------------------------------------------------------------------------------------------------------------------------------------------------------------------------------------------------------------------------------------------------------------------------------------------------------------------------------------------------------------------------------------------------------------------------------------------------------------------------------------------------------------------------------------------------------------------------------------------------------------------------------------------------------------------------------------------------------------------------------------------------------------------------------------------------------------------------------------------------------------------------------------------------------------------------------------------------------------------------------------------------------------------------------------------------------------------------------------------------------------------------------------------------------------------------------------------------------------------------------------------------------------------------------------------------------------------------------------------------------------------------------------------------------------------------------------------------------------------------------------------------------------------------------------------------------------------------------------------------------------------------------------------------------------------------------------------------------------------------------------------------------------------------------------------------\n",
      " id_test       | 21617                                                                                                                                                                                                                                                                                                                                                                                                                                                                                                                                                                                                                                                                                                                                                                                                                                                                                                                                                                                                                                                                                                                                                                                                                                                                                                                                                                                                                                                                                                                                                                                                                                                                                                                                                                                                                                                                                                                                                                                                                                                                                                                                                                                                                                                                                                                                                                                                                                                                                                                                                                                                                                                                                                                                                                                                                                                                                                                                                                                                                                                                                                                                                                                                                                                                                                                                                                                                                                                                                                                                                                                                                                                                                                                                                                                                                                                                                                                                                                                                                                                                                                                                                                                                         \n",
      " lang_test     | en                                                                                                                                                                                                                                                                                                                                                                                                                                                                                                                                                                                                                                                                                                                                                                                                                                                                                                                                                                                                                                                                                                                                                                                                                                                                                                                                                                                                                                                                                                                                                                                                                                                                                                                                                                                                                                                                                                                                                                                                                                                                                                                                                                                                                                                                                                                                                                                                                                                                                                                                                                                                                                                                                                                                                                                                                                                                                                                                                                                                                                                                                                                                                                                                                                                                                                                                                                                                                                                                                                                                                                                                                                                                                                                                                                                                                                                                                                                                                                                                                                                                                                                                                                                                            \n",
      " name_test     | Preparing for the AP* Computer Science A Exam — Part 2                                                                                                                                                                                                                                                                                                                                                                                                                                                                                                                                                                                                                                                                                                                                                                                                                                                                                                                                                                                                                                                                                                                                                                                                                                                                                                                                                                                                                                                                                                                                                                                                                                                                                                                                                                                                                                                                                                                                                                                                                                                                                                                                                                                                                                                                                                                                                                                                                                                                                                                                                                                                                                                                                                                                                                                                                                                                                                                                                                                                                                                                                                                                                                                                                                                                                                                                                                                                                                                                                                                                                                                                                                                                                                                                                                                                                                                                                                                                                                                                                                                                                                                                                        \n",
      " features_test | (10000,[161,360,461,507,572,625,721,727,775,839,855,870,879,884,944,957,1036,1150,1263,1299,1350,1369,1384,1420,1425,1445,1479,1486,1523,1537,1564,1695,1698,1702,1716,1718,1777,1824,1871,1978,2050,2082,2116,2351,2460,2534,2600,2656,2666,2722,2742,2758,3003,3040,3101,3138,3170,3200,3223,3231,3281,3304,3330,3345,3350,3372,3388,3400,3401,3436,3528,3560,3624,3669,3775,3834,3849,3910,3949,3971,4000,4192,4208,4224,4225,4280,4343,4373,4408,4420,4511,4593,4596,4663,4704,4711,4744,4821,4991,5189,5234,5320,5373,5499,5531,5606,5707,5710,5737,5786,5809,5833,5882,5891,5924,6006,6025,6119,6160,6266,6294,6411,6449,6500,6542,6597,6620,6629,6688,6828,6954,7040,7352,7507,7752,7942,7983,7989,8096,8116,8151,8158,8237,8246,8278,8333,8371,8374,8388,8417,8474,8525,8528,8579,8589,8644,8689,8740,8884,8968,8996,9006,9018,9109,9313,9347,9433,9605,9727,9760,9867,9924,9957],[3.633403684554819,4.401900302356551,3.2753596595745726,2.415416636854071,1.8042962403262048,3.8535276059953087,1.0062253878613512,2.1559622450271574,2.9531075432140335,5.563313492263691,1.3872182800228978,5.3790792515531285,8.809606124029024,5.318191034230706,5.433260364015493,3.198797441539155,1.0237124072943602,1.9644803188345386,0.6905222278271351,0.9725991420603307,2.6144981384974515,3.4254283547137803,3.0019317447224294,6.657501263159221,0.6259128575627497,2.7667672473700438,4.993171291341281,3.1823965559997385,4.253929820601773,5.133456931031367,2.664744967163348,2.340740805514164,2.473534462952147,4.617823605697273,2.299181075807369,2.606764895511798,1.1297447515658487,3.736675582416229,2.9702723999351393,4.582484239251965,5.442846608363572,2.0826399498864125,2.3257249584633364,3.8841422418149154,2.9035769912011817,3.7248235918292147,2.0895083814155173,5.840017455871264,7.091654406993036,4.43430372641121,2.620825733228512,4.057180596305321,4.092712024683807,5.393414455468293,9.298380755020569,0.559864451370746,1.3444968466373552,3.0427835228646734,0.9228476650660603,7.06570951883385,0.8834445100827154,19.212108035464468,1.6940433566419362,4.736056382759934,6.246769675517537,0.4621493521801885,4.057180596305321,4.040886956819221,4.76743528312786,3.5951656708004887,3.1113509981950447,8.814727213869517,1.2790885645977894,5.954985278239519,1.355559229262997,3.8325385546210176,0.853699877680257,5.025088894309586,5.019698045674709,4.790123604030209,1.86224016797499,3.5276400243642194,6.414077723003809,2.1934666404856116,4.274182879597448,2.357860687727631,3.479779263137284,2.9606238068193074,2.9269051708200093,7.8001410598778325,3.0722529769013125,3.466659821702734,2.704823190730758,4.449386968622539,1.8554033136321568,5.9279566058516,0.7151245086607847,3.186686566869246,4.455484548490658,2.7901408308973483,2.3492641107724195,4.922434740249503,1.5352854838019256,1.2520173489753015,2.4461013211719904,7.937602460092532,2.3718469297023708,4.35666862554405,2.5401822445215854,0.7241697231497969,8.776739368736822,0.9838410534741864,2.8454352022252185,2.5973586890405516,1.7933235247153883,1.2667842297482241,1.4141709816653614,7.998675907812696,3.3416974618033124,5.9279566058516,7.85954894176637,3.3517883647852753,3.3650606372019056,2.6154690123601214,3.448621001113055,3.2550032497430603,2.751014504356345,1.0984702230335477,3.0707204095515346,5.092153124890132,2.063164980128893,3.0221490398255964,0.7439283857056913,3.154534897307927,0.8393731037078557,3.3691801074971446,4.879468704366059,1.5082896414415474,4.912725926122541,3.533704324331731,6.560403021516879,4.575563796407391,0.6073560310631061,5.401257632929319,5.164040354403448,1.9637235774644028,4.7751543201122155,5.069294986814081,1.8770695531312647,2.6632155251114495,4.27163510751865,4.007120094348402,4.172400185287506,2.1817520851183945,5.1578483841555265,2.3619983652501713,4.865547365847451,1.751315467570225,2.342957282225056,1.1162059488487694,3.418899495831317,3.485030028304483,2.602049856163992,4.065428065735338,3.138019245277206,1.507190142861788,5.063661169095825,6.1297088488543885,3.910390467889852,1.5390290428695261,4.661948410606212,5.282600089128003,5.954985278239519]) \n",
      " id            | 4                                                                                                                                                                                                                                                                                                                                                                                                                                                                                                                                                                                                                                                                                                                                                                                                                                                                                                                                                                                                                                                                                                                                                                                                                                                                                                                                                                                                                                                                                                                                                                                                                                                                                                                                                                                                                                                                                                                                                                                                                                                                                                                                                                                                                                                                                                                                                                                                                                                                                                                                                                                                                                                                                                                                                                                                                                                                                                                                                                                                                                                                                                                                                                                                                                                                                                                                                                                                                                                                                                                                                                                                                                                                                                                                                                                                                                                                                                                                                                                                                                                                                                                                                                                                             \n",
      " lang          | en                                                                                                                                                                                                                                                                                                                                                                                                                                                                                                                                                                                                                                                                                                                                                                                                                                                                                                                                                                                                                                                                                                                                                                                                                                                                                                                                                                                                                                                                                                                                                                                                                                                                                                                                                                                                                                                                                                                                                                                                                                                                                                                                                                                                                                                                                                                                                                                                                                                                                                                                                                                                                                                                                                                                                                                                                                                                                                                                                                                                                                                                                                                                                                                                                                                                                                                                                                                                                                                                                                                                                                                                                                                                                                                                                                                                                                                                                                                                                                                                                                                                                                                                                                                                            \n",
      " name          | Accounting Cycle: The Foundation of Business Measurement and Reporting                                                                                                                                                                                                                                                                                                                                                                                                                                                                                                                                                                                                                                                                                                                                                                                                                                                                                                                                                                                                                                                                                                                                                                                                                                                                                                                                                                                                                                                                                                                                                                                                                                                                                                                                                                                                                                                                                                                                                                                                                                                                                                                                                                                                                                                                                                                                                                                                                                                                                                                                                                                                                                                                                                                                                                                                                                                                                                                                                                                                                                                                                                                                                                                                                                                                                                                                                                                                                                                                                                                                                                                                                                                                                                                                                                                                                                                                                                                                                                                                                                                                                                                                        \n",
      " words         | [this, course, introduces, the, basic, financial, statements, used, by, most, businesses, as, well, as, the, essential, tools, used, to, prepare, them, this, course, will, serve, as, a, resource, to, help, business, students, succeed, in, their, upcoming, university-level, accounting, classes, and, as, a, refresher, for, upper, division, accounting, students, who, are, struggling, to, recall, elementary, concepts, essential, to, more, advanced, accounting, topics, business, owners, will, also, benefit, from, this, class, by, gaining, essential, skills, necessary, to, organize, and, manage, information, pertinent, to, operating, their, business, at, the, conclusion, of, the, class, students, will, understand, the, balance, sheet, income, statement, and, cash, flow, statement, they, will, be, able, to, differentiate, between, cash, basis, and, accrual, basis, techniques, and, know, when, each, is, appropriate, theyll, also, understand, the, accounting, equation, how, to, journalize, and, post, transactions, how, to, adjust, and, close, accounts, and, how, to, prepare, key, financial, reports, all, material, for, this, class, is, written, and, delivered, by, the, professor, and, can, be, previewed, here, students, must, have, access, to, a, spreadsheet, program, to, participate]                                                                                                                                                                                                                                                                                                                                                                                                                                                                                                                                                                                                                                                                                                                                                                                                                                                                                                                                                                                                                                                                                                                                                                                                                                                                                                                                                                                                                                                                                                                                                                                                                                                                                                                                                                                                                                                                                                                                                                                                                                                                                                                                                                                                                                                                                                                                                                                                                                                                                                                                                                                                                                                                                                                                                                                                                                                              \n",
      " tf_features   | (10000,[36,63,138,157,177,362,534,572,603,646,885,1023,1036,1072,1135,1299,1355,1390,1420,1445,1446,1501,1523,1670,1697,1770,2015,2092,2217,2460,2523,2577,2656,2757,3138,3170,3223,3231,3251,3281,3496,3792,3834,3849,3903,3921,4140,4224,4343,4364,4436,4742,4978,5076,5189,5373,5374,5710,5833,5924,6048,6158,6235,6395,6470,6541,6629,6642,6697,6756,6863,7008,7071,7270,7282,7290,7298,7735,7772,7779,7895,7936,7956,7973,8041,8140,8164,8234,8237,8333,8370,8388,8534,8579,8624,8644,8968,9328,9347,9481,9540,9605,9695,9809,9953,9970],[1.0,1.0,1.0,1.0,1.0,1.0,1.0,4.0,1.0,1.0,1.0,1.0,2.0,1.0,1.0,1.0,1.0,1.0,4.0,1.0,1.0,1.0,4.0,1.0,1.0,1.0,3.0,4.0,1.0,2.0,1.0,1.0,2.0,1.0,1.0,3.0,3.0,1.0,1.0,2.0,1.0,2.0,1.0,2.0,1.0,1.0,1.0,1.0,1.0,1.0,1.0,1.0,1.0,1.0,1.0,4.0,3.0,7.0,1.0,1.0,1.0,1.0,2.0,1.0,1.0,1.0,1.0,1.0,1.0,1.0,2.0,2.0,1.0,1.0,2.0,1.0,1.0,1.0,1.0,1.0,1.0,1.0,2.0,1.0,1.0,1.0,2.0,2.0,3.0,10.0,1.0,12.0,3.0,1.0,1.0,1.0,1.0,1.0,1.0,1.0,1.0,2.0,1.0,1.0,1.0,1.0])                                                                                                                                                                                                                                                                                                                                                                                                                                                                                                                                                                                                                                                                                                                                                                                                                                                                                                                                                                                                                                                                                                                                                                                                                                                                                                                                                                                                                                                                                                                                                                                                                                                                                                                                                                                                                                                                                                                                                                                                                                                                                                                                                                                                                                                                                                                                                                                                                                                                                                                                                                                                                                                                                                                                                                                                                                                                                                                                                                                                                                                                                                                                                                                                                    \n",
      " features      | (10000,[36,63,138,157,177,362,534,572,603,646,885,1023,1036,1072,1135,1299,1355,1390,1420,1445,1446,1501,1523,1670,1697,1770,2015,2092,2217,2460,2523,2577,2656,2757,3138,3170,3223,3231,3251,3281,3496,3792,3834,3849,3903,3921,4140,4224,4343,4364,4436,4742,4978,5076,5189,5373,5374,5710,5833,5924,6048,6158,6235,6395,6470,6541,6629,6642,6697,6756,6863,7008,7071,7270,7282,7290,7298,7735,7772,7779,7895,7936,7956,7973,8041,8140,8164,8234,8237,8333,8370,8388,8534,8579,8624,8644,8968,9328,9347,9481,9540,9605,9695,9809,9953,9970],[3.8418705214530955,3.4441616849162906,3.965048880427716,1.5051079766574635,3.373316618048925,3.438615358995734,1.7789134427739013,3.6085924806524097,5.941379626183741,3.5721467516202567,1.8164272188753987,2.8878885184775576,1.0237124072943602,1.5726162364402243,2.462637456548216,0.9725991420603307,2.35523650627795,4.246508157441228,2.6630005052636885,0.39525246391000624,2.381793453939259,2.380640716059451,5.671906427469031,3.3599350493530933,1.5553071329903156,1.4988873648444074,8.877759014056585,15.468074142945296,1.199389541719584,0.8295934260574805,4.499241528847757,3.492006800790131,1.6685764159632182,4.85637298957141,0.559864451370746,1.0083726349780164,2.768542995198181,2.35523650627795,3.5583361115213963,0.8834445100827154,1.8362822721853784,2.8506721497586063,1.9162692773105088,1.707399755360514,3.101827116683789,0.5316659420797549,2.326088528727294,2.1934666404856116,0.28998160526144034,4.545001145997224,3.7577607009033,3.8287124368755845,2.0459805217757507,1.848387329211654,1.3950704154486742,1.5352854838019256,5.124758524394952,1.6050884409899133,0.9838410534741864,1.7933235247153883,1.6934637024860093,3.3995648441238613,2.600224205649273,2.7460214287956823,3.777745993283557,3.167946665818679,1.0984702230335477,4.91756855059833,2.8796318821784386,1.1335995941608272,6.413322355998739,6.225894335455734,3.8435275226607253,4.04493554534522,6.06630050177514,4.838272947927792,3.735186378864761,3.760809483752659,3.915723813865214,1.5025512478757737,3.7501791634509023,3.4210710493448246,6.901716277022823,3.5132340129207047,3.697225616625538,5.2084921169742815,3.3011000406156423,6.42917448654358,1.8220680931893183,1.636436314553669,5.234809425291655,2.5027594041750194,6.543368275431324,2.1817520851183945,3.1798313557901934,2.3619983652501713,1.1162059488487694,3.681589192855783,1.507190142861788,2.3474050286232924,3.6280417414134334,4.086472565902926,3.8418705214530955,3.409185442110844,5.030508961778925,1.8101125544519938])                                                                                                                                                                                                                                                                                                                                                                                                                                                                                                                                                                                                                                                                                                                                                                                                                                                                                                                                                                                                                                                                                                                                                                                                                                                                                                                                                                                                                                                                                                                                                                                                                       \n",
      "only showing top 1 row\n",
      "\n"
     ]
    }
   ],
   "source": [
    "inner_join2 = df_test_v.join(df_tfidf, df_test_v.lang_test == df_tfidf.lang)\n",
    "inner_join2.show(1,False,True)"
   ]
  },
  {
   "cell_type": "code",
   "execution_count": 32,
   "metadata": {},
   "outputs": [
    {
     "data": {
      "text/plain": [
       "DataFrame[id_test: bigint, lang_test: string, name_test: string, features_test: vector, id: bigint, lang: string, name: string, words: array<string>, tf_features: vector, features: vector]"
      ]
     },
     "execution_count": 32,
     "metadata": {},
     "output_type": "execute_result"
    }
   ],
   "source": [
    "inner_join2"
   ]
  },
  {
   "cell_type": "code",
   "execution_count": 33,
   "metadata": {},
   "outputs": [
    {
     "data": {
      "text/plain": [
       "28153"
      ]
     },
     "execution_count": 33,
     "metadata": {},
     "output_type": "execute_result"
    }
   ],
   "source": [
    "df_tfidf.count()"
   ]
  },
  {
   "cell_type": "code",
   "execution_count": 34,
   "metadata": {},
   "outputs": [
    {
     "data": {
      "text/plain": [
       "54316"
      ]
     },
     "execution_count": 34,
     "metadata": {},
     "output_type": "execute_result"
    }
   ],
   "source": [
    "inner_join2.count()"
   ]
  },
  {
   "cell_type": "code",
   "execution_count": 35,
   "metadata": {},
   "outputs": [],
   "source": [
    "cosine = F.udf( lambda x, y: float(x.dot(y)/ x.norm(2) / y.norm(2)), DoubleType())"
   ]
  },
  {
   "cell_type": "code",
   "execution_count": 49,
   "metadata": {
    "scrolled": true
   },
   "outputs": [],
   "source": [
    "from pyspark.sql.functions import col"
   ]
  },
  {
   "cell_type": "code",
   "execution_count": 36,
   "metadata": {},
   "outputs": [
    {
     "data": {
      "text/plain": [
       "54310"
      ]
     },
     "execution_count": 36,
     "metadata": {},
     "output_type": "execute_result"
    }
   ],
   "source": [
    "df_full = inner_join2.filter(inner_join2.id_test != inner_join2.id)\n",
    "df_full.count()"
   ]
  },
  {
   "cell_type": "code",
   "execution_count": 37,
   "metadata": {},
   "outputs": [
    {
     "data": {
      "text/plain": [
       "DataFrame[id_test: bigint, lang_test: string, name_test: string, features_test: vector, id: bigint, lang: string, name: string, words: array<string>, tf_features: vector, features: vector]"
      ]
     },
     "execution_count": 37,
     "metadata": {},
     "output_type": "execute_result"
    }
   ],
   "source": [
    "df_full"
   ]
  },
  {
   "cell_type": "code",
   "execution_count": 38,
   "metadata": {},
   "outputs": [],
   "source": [
    "df_full_d = df_full.withColumn('cos', cosine(F.col('features_test'),F.col('features')))"
   ]
  },
  {
   "cell_type": "code",
   "execution_count": 39,
   "metadata": {},
   "outputs": [
    {
     "name": "stdout",
     "output_type": "stream",
     "text": [
      "-RECORD 0----------------------------------------------------------------------------------------------------------------------------------------------------------------------------------------------------------------------------------------------------------------------------------------------------------------------------------------------------------------------------------------------------------------------------------------------------------------------------------------------------------------------------------------------------------------------------------------------------------------------------------------------------------------------------------------------------------------------------------------------------------------------------------------------------------------------------------------------------------------------------------------------------------------------------------------------------------------------------------------------------------------------------------------------------------------------------------------------------------------------------------------------------------------------------------------------------------------------------------------------------------------------------------------------------------------------------------------------------------------------------------------------------------------------------------------------------------------------------------------------------------------------------------------------------------------------------------------------------------------------------------------------------------------------------------------------------------------------------------------------------------------------------------------------------------------------------------------------------------------------------------------------------------------------------------------------------------------------------------------------------------------------------------------------------------------------------------------------------------------------------------------------------------------------------------------------------------------------------------------------------------------------------------------------------------------------------------------------------------------------------------------------------------------------------------------------------------------------------------------------------------------------------------------------------------------------------------------------------------------------------------------------------------------------------------------------------------------------------------------------------------------------------------------------------------------------------------------------------------------------------------------------------------------------------------------------------------------------------------------------------------------------------------------------------------------------------------------------------------------------------------------------------------------------------------------------------------------------------------------------------------------------------------------------------------------------------------------------------------------------------------------------------------------------------------------------------------------------------------------------------------------------------------------------------------------------------------------------------------------------------------------------------------------------------------------------------------------------------------------------------------------------------------------------------------------------------------------------------------------------------------------------------------------------------------------------------------------------------------------------------------------------------------------------------------------------------------------------------------------------------------------------------------------------------------------------------------------------\n",
      " id_test       | 21617                                                                                                                                                                                                                                                                                                                                                                                                                                                                                                                                                                                                                                                                                                                                                                                                                                                                                                                                                                                                                                                                                                                                                                                                                                                                                                                                                                                                                                                                                                                                                                                                                                                                                                                                                                                                                                                                                                                                                                                                                                                                                                                                                                                                                                                                                                                                                                                                                                                                                                                                                                                                                                                                                                                                                                                                                                                                                                                                                                                                                                                                                                                                                                                                                                                                                                                                                                                                                                                                                                                                                                                                                                                                                                                                                                                                                                                                                                                                                                                                                                                                                                                                                                                                         \n",
      " lang_test     | en                                                                                                                                                                                                                                                                                                                                                                                                                                                                                                                                                                                                                                                                                                                                                                                                                                                                                                                                                                                                                                                                                                                                                                                                                                                                                                                                                                                                                                                                                                                                                                                                                                                                                                                                                                                                                                                                                                                                                                                                                                                                                                                                                                                                                                                                                                                                                                                                                                                                                                                                                                                                                                                                                                                                                                                                                                                                                                                                                                                                                                                                                                                                                                                                                                                                                                                                                                                                                                                                                                                                                                                                                                                                                                                                                                                                                                                                                                                                                                                                                                                                                                                                                                                                            \n",
      " name_test     | Preparing for the AP* Computer Science A Exam — Part 2                                                                                                                                                                                                                                                                                                                                                                                                                                                                                                                                                                                                                                                                                                                                                                                                                                                                                                                                                                                                                                                                                                                                                                                                                                                                                                                                                                                                                                                                                                                                                                                                                                                                                                                                                                                                                                                                                                                                                                                                                                                                                                                                                                                                                                                                                                                                                                                                                                                                                                                                                                                                                                                                                                                                                                                                                                                                                                                                                                                                                                                                                                                                                                                                                                                                                                                                                                                                                                                                                                                                                                                                                                                                                                                                                                                                                                                                                                                                                                                                                                                                                                                                                        \n",
      " features_test | (10000,[161,360,461,507,572,625,721,727,775,839,855,870,879,884,944,957,1036,1150,1263,1299,1350,1369,1384,1420,1425,1445,1479,1486,1523,1537,1564,1695,1698,1702,1716,1718,1777,1824,1871,1978,2050,2082,2116,2351,2460,2534,2600,2656,2666,2722,2742,2758,3003,3040,3101,3138,3170,3200,3223,3231,3281,3304,3330,3345,3350,3372,3388,3400,3401,3436,3528,3560,3624,3669,3775,3834,3849,3910,3949,3971,4000,4192,4208,4224,4225,4280,4343,4373,4408,4420,4511,4593,4596,4663,4704,4711,4744,4821,4991,5189,5234,5320,5373,5499,5531,5606,5707,5710,5737,5786,5809,5833,5882,5891,5924,6006,6025,6119,6160,6266,6294,6411,6449,6500,6542,6597,6620,6629,6688,6828,6954,7040,7352,7507,7752,7942,7983,7989,8096,8116,8151,8158,8237,8246,8278,8333,8371,8374,8388,8417,8474,8525,8528,8579,8589,8644,8689,8740,8884,8968,8996,9006,9018,9109,9313,9347,9433,9605,9727,9760,9867,9924,9957],[3.633403684554819,4.401900302356551,3.2753596595745726,2.415416636854071,1.8042962403262048,3.8535276059953087,1.0062253878613512,2.1559622450271574,2.9531075432140335,5.563313492263691,1.3872182800228978,5.3790792515531285,8.809606124029024,5.318191034230706,5.433260364015493,3.198797441539155,1.0237124072943602,1.9644803188345386,0.6905222278271351,0.9725991420603307,2.6144981384974515,3.4254283547137803,3.0019317447224294,6.657501263159221,0.6259128575627497,2.7667672473700438,4.993171291341281,3.1823965559997385,4.253929820601773,5.133456931031367,2.664744967163348,2.340740805514164,2.473534462952147,4.617823605697273,2.299181075807369,2.606764895511798,1.1297447515658487,3.736675582416229,2.9702723999351393,4.582484239251965,5.442846608363572,2.0826399498864125,2.3257249584633364,3.8841422418149154,2.9035769912011817,3.7248235918292147,2.0895083814155173,5.840017455871264,7.091654406993036,4.43430372641121,2.620825733228512,4.057180596305321,4.092712024683807,5.393414455468293,9.298380755020569,0.559864451370746,1.3444968466373552,3.0427835228646734,0.9228476650660603,7.06570951883385,0.8834445100827154,19.212108035464468,1.6940433566419362,4.736056382759934,6.246769675517537,0.4621493521801885,4.057180596305321,4.040886956819221,4.76743528312786,3.5951656708004887,3.1113509981950447,8.814727213869517,1.2790885645977894,5.954985278239519,1.355559229262997,3.8325385546210176,0.853699877680257,5.025088894309586,5.019698045674709,4.790123604030209,1.86224016797499,3.5276400243642194,6.414077723003809,2.1934666404856116,4.274182879597448,2.357860687727631,3.479779263137284,2.9606238068193074,2.9269051708200093,7.8001410598778325,3.0722529769013125,3.466659821702734,2.704823190730758,4.449386968622539,1.8554033136321568,5.9279566058516,0.7151245086607847,3.186686566869246,4.455484548490658,2.7901408308973483,2.3492641107724195,4.922434740249503,1.5352854838019256,1.2520173489753015,2.4461013211719904,7.937602460092532,2.3718469297023708,4.35666862554405,2.5401822445215854,0.7241697231497969,8.776739368736822,0.9838410534741864,2.8454352022252185,2.5973586890405516,1.7933235247153883,1.2667842297482241,1.4141709816653614,7.998675907812696,3.3416974618033124,5.9279566058516,7.85954894176637,3.3517883647852753,3.3650606372019056,2.6154690123601214,3.448621001113055,3.2550032497430603,2.751014504356345,1.0984702230335477,3.0707204095515346,5.092153124890132,2.063164980128893,3.0221490398255964,0.7439283857056913,3.154534897307927,0.8393731037078557,3.3691801074971446,4.879468704366059,1.5082896414415474,4.912725926122541,3.533704324331731,6.560403021516879,4.575563796407391,0.6073560310631061,5.401257632929319,5.164040354403448,1.9637235774644028,4.7751543201122155,5.069294986814081,1.8770695531312647,2.6632155251114495,4.27163510751865,4.007120094348402,4.172400185287506,2.1817520851183945,5.1578483841555265,2.3619983652501713,4.865547365847451,1.751315467570225,2.342957282225056,1.1162059488487694,3.418899495831317,3.485030028304483,2.602049856163992,4.065428065735338,3.138019245277206,1.507190142861788,5.063661169095825,6.1297088488543885,3.910390467889852,1.5390290428695261,4.661948410606212,5.282600089128003,5.954985278239519]) \n",
      " id            | 4                                                                                                                                                                                                                                                                                                                                                                                                                                                                                                                                                                                                                                                                                                                                                                                                                                                                                                                                                                                                                                                                                                                                                                                                                                                                                                                                                                                                                                                                                                                                                                                                                                                                                                                                                                                                                                                                                                                                                                                                                                                                                                                                                                                                                                                                                                                                                                                                                                                                                                                                                                                                                                                                                                                                                                                                                                                                                                                                                                                                                                                                                                                                                                                                                                                                                                                                                                                                                                                                                                                                                                                                                                                                                                                                                                                                                                                                                                                                                                                                                                                                                                                                                                                                             \n",
      " lang          | en                                                                                                                                                                                                                                                                                                                                                                                                                                                                                                                                                                                                                                                                                                                                                                                                                                                                                                                                                                                                                                                                                                                                                                                                                                                                                                                                                                                                                                                                                                                                                                                                                                                                                                                                                                                                                                                                                                                                                                                                                                                                                                                                                                                                                                                                                                                                                                                                                                                                                                                                                                                                                                                                                                                                                                                                                                                                                                                                                                                                                                                                                                                                                                                                                                                                                                                                                                                                                                                                                                                                                                                                                                                                                                                                                                                                                                                                                                                                                                                                                                                                                                                                                                                                            \n",
      " name          | Accounting Cycle: The Foundation of Business Measurement and Reporting                                                                                                                                                                                                                                                                                                                                                                                                                                                                                                                                                                                                                                                                                                                                                                                                                                                                                                                                                                                                                                                                                                                                                                                                                                                                                                                                                                                                                                                                                                                                                                                                                                                                                                                                                                                                                                                                                                                                                                                                                                                                                                                                                                                                                                                                                                                                                                                                                                                                                                                                                                                                                                                                                                                                                                                                                                                                                                                                                                                                                                                                                                                                                                                                                                                                                                                                                                                                                                                                                                                                                                                                                                                                                                                                                                                                                                                                                                                                                                                                                                                                                                                                        \n",
      " words         | [this, course, introduces, the, basic, financial, statements, used, by, most, businesses, as, well, as, the, essential, tools, used, to, prepare, them, this, course, will, serve, as, a, resource, to, help, business, students, succeed, in, their, upcoming, university-level, accounting, classes, and, as, a, refresher, for, upper, division, accounting, students, who, are, struggling, to, recall, elementary, concepts, essential, to, more, advanced, accounting, topics, business, owners, will, also, benefit, from, this, class, by, gaining, essential, skills, necessary, to, organize, and, manage, information, pertinent, to, operating, their, business, at, the, conclusion, of, the, class, students, will, understand, the, balance, sheet, income, statement, and, cash, flow, statement, they, will, be, able, to, differentiate, between, cash, basis, and, accrual, basis, techniques, and, know, when, each, is, appropriate, theyll, also, understand, the, accounting, equation, how, to, journalize, and, post, transactions, how, to, adjust, and, close, accounts, and, how, to, prepare, key, financial, reports, all, material, for, this, class, is, written, and, delivered, by, the, professor, and, can, be, previewed, here, students, must, have, access, to, a, spreadsheet, program, to, participate]                                                                                                                                                                                                                                                                                                                                                                                                                                                                                                                                                                                                                                                                                                                                                                                                                                                                                                                                                                                                                                                                                                                                                                                                                                                                                                                                                                                                                                                                                                                                                                                                                                                                                                                                                                                                                                                                                                                                                                                                                                                                                                                                                                                                                                                                                                                                                                                                                                                                                                                                                                                                                                                                                                                                                                                                                                                              \n",
      " tf_features   | (10000,[36,63,138,157,177,362,534,572,603,646,885,1023,1036,1072,1135,1299,1355,1390,1420,1445,1446,1501,1523,1670,1697,1770,2015,2092,2217,2460,2523,2577,2656,2757,3138,3170,3223,3231,3251,3281,3496,3792,3834,3849,3903,3921,4140,4224,4343,4364,4436,4742,4978,5076,5189,5373,5374,5710,5833,5924,6048,6158,6235,6395,6470,6541,6629,6642,6697,6756,6863,7008,7071,7270,7282,7290,7298,7735,7772,7779,7895,7936,7956,7973,8041,8140,8164,8234,8237,8333,8370,8388,8534,8579,8624,8644,8968,9328,9347,9481,9540,9605,9695,9809,9953,9970],[1.0,1.0,1.0,1.0,1.0,1.0,1.0,4.0,1.0,1.0,1.0,1.0,2.0,1.0,1.0,1.0,1.0,1.0,4.0,1.0,1.0,1.0,4.0,1.0,1.0,1.0,3.0,4.0,1.0,2.0,1.0,1.0,2.0,1.0,1.0,3.0,3.0,1.0,1.0,2.0,1.0,2.0,1.0,2.0,1.0,1.0,1.0,1.0,1.0,1.0,1.0,1.0,1.0,1.0,1.0,4.0,3.0,7.0,1.0,1.0,1.0,1.0,2.0,1.0,1.0,1.0,1.0,1.0,1.0,1.0,2.0,2.0,1.0,1.0,2.0,1.0,1.0,1.0,1.0,1.0,1.0,1.0,2.0,1.0,1.0,1.0,2.0,2.0,3.0,10.0,1.0,12.0,3.0,1.0,1.0,1.0,1.0,1.0,1.0,1.0,1.0,2.0,1.0,1.0,1.0,1.0])                                                                                                                                                                                                                                                                                                                                                                                                                                                                                                                                                                                                                                                                                                                                                                                                                                                                                                                                                                                                                                                                                                                                                                                                                                                                                                                                                                                                                                                                                                                                                                                                                                                                                                                                                                                                                                                                                                                                                                                                                                                                                                                                                                                                                                                                                                                                                                                                                                                                                                                                                                                                                                                                                                                                                                                                                                                                                                                                                                                                                                                                                                                                                                                                                    \n",
      " features      | (10000,[36,63,138,157,177,362,534,572,603,646,885,1023,1036,1072,1135,1299,1355,1390,1420,1445,1446,1501,1523,1670,1697,1770,2015,2092,2217,2460,2523,2577,2656,2757,3138,3170,3223,3231,3251,3281,3496,3792,3834,3849,3903,3921,4140,4224,4343,4364,4436,4742,4978,5076,5189,5373,5374,5710,5833,5924,6048,6158,6235,6395,6470,6541,6629,6642,6697,6756,6863,7008,7071,7270,7282,7290,7298,7735,7772,7779,7895,7936,7956,7973,8041,8140,8164,8234,8237,8333,8370,8388,8534,8579,8624,8644,8968,9328,9347,9481,9540,9605,9695,9809,9953,9970],[3.8418705214530955,3.4441616849162906,3.965048880427716,1.5051079766574635,3.373316618048925,3.438615358995734,1.7789134427739013,3.6085924806524097,5.941379626183741,3.5721467516202567,1.8164272188753987,2.8878885184775576,1.0237124072943602,1.5726162364402243,2.462637456548216,0.9725991420603307,2.35523650627795,4.246508157441228,2.6630005052636885,0.39525246391000624,2.381793453939259,2.380640716059451,5.671906427469031,3.3599350493530933,1.5553071329903156,1.4988873648444074,8.877759014056585,15.468074142945296,1.199389541719584,0.8295934260574805,4.499241528847757,3.492006800790131,1.6685764159632182,4.85637298957141,0.559864451370746,1.0083726349780164,2.768542995198181,2.35523650627795,3.5583361115213963,0.8834445100827154,1.8362822721853784,2.8506721497586063,1.9162692773105088,1.707399755360514,3.101827116683789,0.5316659420797549,2.326088528727294,2.1934666404856116,0.28998160526144034,4.545001145997224,3.7577607009033,3.8287124368755845,2.0459805217757507,1.848387329211654,1.3950704154486742,1.5352854838019256,5.124758524394952,1.6050884409899133,0.9838410534741864,1.7933235247153883,1.6934637024860093,3.3995648441238613,2.600224205649273,2.7460214287956823,3.777745993283557,3.167946665818679,1.0984702230335477,4.91756855059833,2.8796318821784386,1.1335995941608272,6.413322355998739,6.225894335455734,3.8435275226607253,4.04493554534522,6.06630050177514,4.838272947927792,3.735186378864761,3.760809483752659,3.915723813865214,1.5025512478757737,3.7501791634509023,3.4210710493448246,6.901716277022823,3.5132340129207047,3.697225616625538,5.2084921169742815,3.3011000406156423,6.42917448654358,1.8220680931893183,1.636436314553669,5.234809425291655,2.5027594041750194,6.543368275431324,2.1817520851183945,3.1798313557901934,2.3619983652501713,1.1162059488487694,3.681589192855783,1.507190142861788,2.3474050286232924,3.6280417414134334,4.086472565902926,3.8418705214530955,3.409185442110844,5.030508961778925,1.8101125544519938])                                                                                                                                                                                                                                                                                                                                                                                                                                                                                                                                                                                                                                                                                                                                                                                                                                                                                                                                                                                                                                                                                                                                                                                                                                                                                                                                                                                                                                                                                                                                                                                                                       \n",
      " cos           | 0.07767828390839164                                                                                                                                                                                                                                                                                                                                                                                                                                                                                                                                                                                                                                                                                                                                                                                                                                                                                                                                                                                                                                                                                                                                                                                                                                                                                                                                                                                                                                                                                                                                                                                                                                                                                                                                                                                                                                                                                                                                                                                                                                                                                                                                                                                                                                                                                                                                                                                                                                                                                                                                                                                                                                                                                                                                                                                                                                                                                                                                                                                                                                                                                                                                                                                                                                                                                                                                                                                                                                                                                                                                                                                                                                                                                                                                                                                                                                                                                                                                                                                                                                                                                                                                                                                           \n",
      "only showing top 1 row\n",
      "\n"
     ]
    }
   ],
   "source": [
    "df_full_d.show(1,False,True)"
   ]
  },
  {
   "cell_type": "code",
   "execution_count": 41,
   "metadata": {
    "scrolled": true
   },
   "outputs": [
    {
     "name": "stdout",
     "output_type": "stream",
     "text": [
      "-RECORD 0---------------------------------------------------------------------------\n",
      " id_test   | 21617                                                                  \n",
      " lang_test | en                                                                     \n",
      " id        | 4                                                                      \n",
      " lang      | en                                                                     \n",
      " name      | Accounting Cycle: The Foundation of Business Measurement and Reporting \n",
      " cos       | 0.07767828390839164                                                    \n",
      "-RECORD 1---------------------------------------------------------------------------\n",
      " id_test   | 23126                                                                  \n",
      " lang_test | en                                                                     \n",
      " id        | 4                                                                      \n",
      " lang      | en                                                                     \n",
      " name      | Accounting Cycle: The Foundation of Business Measurement and Reporting \n",
      " cos       | 0.021794715698872945                                                   \n",
      "-RECORD 2---------------------------------------------------------------------------\n",
      " id_test   | 21617                                                                  \n",
      " lang_test | en                                                                     \n",
      " id        | 5                                                                      \n",
      " lang      | en                                                                     \n",
      " name      | American Counter Terrorism Law                                         \n",
      " cos       | 0.04254255632202336                                                    \n",
      "-RECORD 3---------------------------------------------------------------------------\n",
      " id_test   | 23126                                                                  \n",
      " lang_test | en                                                                     \n",
      " id        | 5                                                                      \n",
      " lang      | en                                                                     \n",
      " name      | American Counter Terrorism Law                                         \n",
      " cos       | 0.018623545065060185                                                   \n",
      "-RECORD 4---------------------------------------------------------------------------\n",
      " id_test   | 21617                                                                  \n",
      " lang_test | en                                                                     \n",
      " id        | 7                                                                      \n",
      " lang      | en                                                                     \n",
      " name      | Becoming a Dynamic Educator                                            \n",
      " cos       | 0.04320227562016847                                                    \n",
      "-RECORD 5---------------------------------------------------------------------------\n",
      " id_test   | 23126                                                                  \n",
      " lang_test | en                                                                     \n",
      " id        | 7                                                                      \n",
      " lang      | en                                                                     \n",
      " name      | Becoming a Dynamic Educator                                            \n",
      " cos       | 0.04300098805816236                                                    \n",
      "-RECORD 6---------------------------------------------------------------------------\n",
      " id_test   | 21617                                                                  \n",
      " lang_test | en                                                                     \n",
      " id        | 8                                                                      \n",
      " lang      | en                                                                     \n",
      " name      | Bioethics                                                              \n",
      " cos       | 0.06338755674306543                                                    \n",
      "-RECORD 7---------------------------------------------------------------------------\n",
      " id_test   | 23126                                                                  \n",
      " lang_test | en                                                                     \n",
      " id        | 8                                                                      \n",
      " lang      | en                                                                     \n",
      " name      | Bioethics                                                              \n",
      " cos       | 0.028501165465867243                                                   \n",
      "-RECORD 8---------------------------------------------------------------------------\n",
      " id_test   | 21617                                                                  \n",
      " lang_test | en                                                                     \n",
      " id        | 9                                                                      \n",
      " lang      | en                                                                     \n",
      " name      | College Foundations: Reading, Writing, and Math                        \n",
      " cos       | 0.10975612424250643                                                    \n",
      "-RECORD 9---------------------------------------------------------------------------\n",
      " id_test   | 23126                                                                  \n",
      " lang_test | en                                                                     \n",
      " id        | 9                                                                      \n",
      " lang      | en                                                                     \n",
      " name      | College Foundations: Reading, Writing, and Math                        \n",
      " cos       | 0.019830685573509407                                                   \n",
      "only showing top 10 rows\n",
      "\n"
     ]
    }
   ],
   "source": [
    "df_full_d_cleaned = df_full_d.drop(\"name_test\", \"features_test\",\"words\",\"tf_features\",\"features\")\n",
    "df_full_d_cleaned.show(10,False,True)"
   ]
  },
  {
   "cell_type": "code",
   "execution_count": 42,
   "metadata": {},
   "outputs": [
    {
     "data": {
      "text/plain": [
       "54256"
      ]
     },
     "execution_count": 42,
     "metadata": {},
     "output_type": "execute_result"
    }
   ],
   "source": [
    "df_full_d_cleaned_nan = df_full_d_cleaned.filter(df_full_d_cleaned.cos != NaN)\n",
    "df_full_d_cleaned_nan.count()"
   ]
  },
  {
   "cell_type": "code",
   "execution_count": 43,
   "metadata": {},
   "outputs": [
    {
     "data": {
      "text/plain": [
       "60"
      ]
     },
     "execution_count": 43,
     "metadata": {},
     "output_type": "execute_result"
    }
   ],
   "source": [
    "from pyspark.sql.functions import desc,row_number,asc\n",
    "from pyspark.sql import Window\n",
    "\n",
    "w = Window.partitionBy('id_test').orderBy(desc('cos'),asc('name'))\n",
    "\n",
    "df_full_rn = df_full_d_cleaned_nan.withColumn(\"row_number\", F.row_number().over(w))\n",
    "df_full_10 = df_full_rn.filter(df_full_rn.row_number <= 10)\n",
    "df_full_10.count()"
   ]
  },
  {
   "cell_type": "code",
   "execution_count": 44,
   "metadata": {
    "scrolled": true
   },
   "outputs": [
    {
     "name": "stdout",
     "output_type": "stream",
     "text": [
      "-RECORD 0-------------------------------------------------------------------------------------------\n",
      " id_test    | 23126                                                                                 \n",
      " lang_test  | en                                                                                    \n",
      " id         | 14760                                                                                 \n",
      " lang       | en                                                                                    \n",
      " name       | Foundation 4: Incorporating Sass and Compass                                          \n",
      " cos        | 0.6256944403676344                                                                    \n",
      " row_number | 1                                                                                     \n",
      "-RECORD 1-------------------------------------------------------------------------------------------\n",
      " id_test    | 23126                                                                                 \n",
      " lang_test  | en                                                                                    \n",
      " id         | 13665                                                                                 \n",
      " lang       | en                                                                                    \n",
      " name       | The Next Step with Sass and Compass by Lisa Catalano                                  \n",
      " cos        | 0.5590207421612868                                                                    \n",
      " row_number | 2                                                                                     \n",
      "-RECORD 2-------------------------------------------------------------------------------------------\n",
      " id_test    | 23126                                                                                 \n",
      " lang_test  | en                                                                                    \n",
      " id         | 13782                                                                                 \n",
      " lang       | en                                                                                    \n",
      " name       | Assembling Sass Part 2                                                                \n",
      " cos        | 0.5000859405273731                                                                    \n",
      " row_number | 3                                                                                     \n",
      "-RECORD 3-------------------------------------------------------------------------------------------\n",
      " id_test    | 23126                                                                                 \n",
      " lang_test  | en                                                                                    \n",
      " id         | 20638                                                                                 \n",
      " lang       | en                                                                                    \n",
      " name       | Introduction to Photo Compositing                                                     \n",
      " cos        | 0.4656858228559788                                                                    \n",
      " row_number | 4                                                                                     \n",
      "-RECORD 4-------------------------------------------------------------------------------------------\n",
      " id_test    | 23126                                                                                 \n",
      " lang_test  | en                                                                                    \n",
      " id         | 24419                                                                                 \n",
      " lang       | en                                                                                    \n",
      " name       | Learn the 7 Mindsets to live your Ultimate Life                                       \n",
      " cos        | 0.4595724717113676                                                                    \n",
      " row_number | 5                                                                                     \n",
      "-RECORD 5-------------------------------------------------------------------------------------------\n",
      " id_test    | 23126                                                                                 \n",
      " lang_test  | en                                                                                    \n",
      " id         | 15909                                                                                 \n",
      " lang       | en                                                                                    \n",
      " name       | Responsive CSS with Sass and Compass                                                  \n",
      " cos        | 0.3983608178301607                                                                    \n",
      " row_number | 6                                                                                     \n",
      "-RECORD 6-------------------------------------------------------------------------------------------\n",
      " id_test    | 23126                                                                                 \n",
      " lang_test  | en                                                                                    \n",
      " id         | 2724                                                                                  \n",
      " lang       | en                                                                                    \n",
      " name       | Interactive and Non-Linear Narrative: Theory and Practice (Spring 2006)               \n",
      " cos        | 0.39217712430514595                                                                   \n",
      " row_number | 7                                                                                     \n",
      "-RECORD 7-------------------------------------------------------------------------------------------\n",
      " id_test    | 23126                                                                                 \n",
      " lang_test  | en                                                                                    \n",
      " id         | 25782                                                                                 \n",
      " lang       | en                                                                                    \n",
      " name       | Write Clean CSS using SASS - Udemy                                                    \n",
      " cos        | 0.31462392867857647                                                                   \n",
      " row_number | 8                                                                                     \n",
      "-RECORD 8-------------------------------------------------------------------------------------------\n",
      " id_test    | 23126                                                                                 \n",
      " lang_test  | en                                                                                    \n",
      " id         | 17499                                                                                 \n",
      " lang       | en                                                                                    \n",
      " name       | Learning Sass - Syntactically Awesome StyleSheets                                     \n",
      " cos        | 0.2853008383321667                                                                    \n",
      " row_number | 9                                                                                     \n",
      "-RECORD 9-------------------------------------------------------------------------------------------\n",
      " id_test    | 23126                                                                                 \n",
      " lang_test  | en                                                                                    \n",
      " id         | 13348                                                                                 \n",
      " lang       | en                                                                                    \n",
      " name       | Learning Sass - CSS Just Got Exciting. by Infinite Skills                             \n",
      " cos        | 0.2824920452718456                                                                    \n",
      " row_number | 10                                                                                    \n",
      "-RECORD 10------------------------------------------------------------------------------------------\n",
      " id_test    | 16627                                                                                 \n",
      " lang_test  | es                                                                                    \n",
      " id         | 11431                                                                                 \n",
      " lang       | es                                                                                    \n",
      " name       | Excel Básico by Alfonso Rinsche                                                       \n",
      " cos        | 0.693234336868707                                                                     \n",
      " row_number | 1                                                                                     \n",
      "-RECORD 11------------------------------------------------------------------------------------------\n",
      " id_test    | 16627                                                                                 \n",
      " lang_test  | es                                                                                    \n",
      " id         | 5687                                                                                  \n",
      " lang       | es                                                                                    \n",
      " name       | Excel para principiantes by Nicolás Martínez                                          \n",
      " cos        | 0.5334096741778018                                                                    \n",
      " row_number | 2                                                                                     \n",
      "-RECORD 12------------------------------------------------------------------------------------------\n",
      " id_test    | 16627                                                                                 \n",
      " lang_test  | es                                                                                    \n",
      " id         | 12247                                                                                 \n",
      " lang       | es                                                                                    \n",
      " name       | Aprende Excel fácil y rápido by Elio Reyes                                            \n",
      " cos        | 0.5290253250430307                                                                    \n",
      " row_number | 3                                                                                     \n",
      "-RECORD 13------------------------------------------------------------------------------------------\n",
      " id_test    | 16627                                                                                 \n",
      " lang_test  | es                                                                                    \n",
      " id         | 17961                                                                                 \n",
      " lang       | es                                                                                    \n",
      " name       | Excel 2010 - Básico by Prof. Lucía Miralles                                           \n",
      " cos        | 0.5092753624064236                                                                    \n",
      " row_number | 4                                                                                     \n",
      "-RECORD 14------------------------------------------------------------------------------------------\n",
      " id_test    | 16627                                                                                 \n",
      " lang_test  | es                                                                                    \n",
      " id         | 11575                                                                                 \n",
      " lang       | es                                                                                    \n",
      " name       | Curso de Excel Avanzado en tres (3) horas by Koul Advanced Learning                   \n",
      " cos        | 0.5052032024724735                                                                    \n",
      " row_number | 5                                                                                     \n",
      "-RECORD 15------------------------------------------------------------------------------------------\n",
      " id_test    | 16627                                                                                 \n",
      " lang_test  | es                                                                                    \n",
      " id         | 17964                                                                                 \n",
      " lang       | es                                                                                    \n",
      " name       | Excel 2010 Súper Fácil - Nivel Intermedio by Profesor 24/7                            \n",
      " cos        | 0.5002628553843065                                                                    \n",
      " row_number | 6                                                                                     \n",
      "-RECORD 16------------------------------------------------------------------------------------------\n",
      " id_test    | 16627                                                                                 \n",
      " lang_test  | es                                                                                    \n",
      " id         | 25010                                                                                 \n",
      " lang       | es                                                                                    \n",
      " name       | Programador web: PHP y MySql Profesional ¡Fácil y Práctico!                           \n",
      " cos        | 0.48157792335228244                                                                   \n",
      " row_number | 7                                                                                     \n",
      "-RECORD 17------------------------------------------------------------------------------------------\n",
      " id_test    | 16627                                                                                 \n",
      " lang_test  | es                                                                                    \n",
      " id         | 12660                                                                                 \n",
      " lang       | es                                                                                    \n",
      " name       | Aprende paso a paso Curso completo Microsoft Excel 2010 by Etraining S.A DE C.V       \n",
      " cos        | 0.4791345973215148                                                                    \n",
      " row_number | 8                                                                                     \n",
      "-RECORD 18------------------------------------------------------------------------------------------\n",
      " id_test    | 16627                                                                                 \n",
      " lang_test  | es                                                                                    \n",
      " id         | 13021                                                                                 \n",
      " lang       | es                                                                                    \n",
      " name       | MATLAB desde Cero by M.C. Jesus Ernesto Valdez Almaral                                \n",
      " cos        | 0.47652882929216084                                                                   \n",
      " row_number | 9                                                                                     \n",
      "-RECORD 19------------------------------------------------------------------------------------------\n",
      " id_test    | 16627                                                                                 \n",
      " lang_test  | es                                                                                    \n",
      " id         | 16694                                                                                 \n",
      " lang       | es                                                                                    \n",
      " name       | Excel 2010 Súper Fácil - Nivel Básico by Profesor 24/7                                \n",
      " cos        | 0.4717685109517533                                                                    \n",
      " row_number | 10                                                                                    \n",
      "-RECORD 20------------------------------------------------------------------------------------------\n",
      " id_test    | 13702                                                                                 \n",
      " lang_test  | ru                                                                                    \n",
      " id         | 864                                                                                   \n",
      " lang       | ru                                                                                    \n",
      " name       | Математическая экономика                                                              \n",
      " cos        | 1.0000000000000002                                                                    \n",
      " row_number | 1                                                                                     \n",
      "-RECORD 21------------------------------------------------------------------------------------------\n",
      " id_test    | 13702                                                                                 \n",
      " lang_test  | ru                                                                                    \n",
      " id         | 1052                                                                                  \n",
      " lang       | ru                                                                                    \n",
      " name       | Информационные технологии в экономике                                                 \n",
      " cos        | 0.2129717823267194                                                                    \n",
      " row_number | 2                                                                                     \n",
      "-RECORD 22------------------------------------------------------------------------------------------\n",
      " id_test    | 13702                                                                                 \n",
      " lang_test  | ru                                                                                    \n",
      " id         | 8082                                                                                  \n",
      " lang       | ru                                                                                    \n",
      " name       | Победитель кризисов в бизнесе                                                         \n",
      " cos        | 0.20476277314260463                                                                   \n",
      " row_number | 3                                                                                     \n",
      "-RECORD 23------------------------------------------------------------------------------------------\n",
      " id_test    | 13702                                                                                 \n",
      " lang_test  | ru                                                                                    \n",
      " id         | 8313                                                                                  \n",
      " lang       | ru                                                                                    \n",
      " name       | Российские потребители: как мы потребляем?                                            \n",
      " cos        | 0.20429961570618987                                                                   \n",
      " row_number | 4                                                                                     \n",
      "-RECORD 24------------------------------------------------------------------------------------------\n",
      " id_test    | 13702                                                                                 \n",
      " lang_test  | ru                                                                                    \n",
      " id         | 1216                                                                                  \n",
      " lang       | ru                                                                                    \n",
      " name       | Введение в математические модели механики сплошных сред                               \n",
      " cos        | 0.19217591377950757                                                                   \n",
      " row_number | 5                                                                                     \n",
      "-RECORD 25------------------------------------------------------------------------------------------\n",
      " id_test    | 13702                                                                                 \n",
      " lang_test  | ru                                                                                    \n",
      " id         | 19613                                                                                 \n",
      " lang       | ru                                                                                    \n",
      " name       | Римские каникулы - с пользой, интересно и не затратно! by Yulia Safutdinova           \n",
      " cos        | 0.1888239256043859                                                                    \n",
      " row_number | 6                                                                                     \n",
      "-RECORD 26------------------------------------------------------------------------------------------\n",
      " id_test    | 13702                                                                                 \n",
      " lang_test  | ru                                                                                    \n",
      " id         | 915                                                                                   \n",
      " lang       | ru                                                                                    \n",
      " name       | Автоматизированное проектирование промышленных изделий                                \n",
      " cos        | 0.1833983208247525                                                                    \n",
      " row_number | 7                                                                                     \n",
      "-RECORD 27------------------------------------------------------------------------------------------\n",
      " id_test    | 13702                                                                                 \n",
      " lang_test  | ru                                                                                    \n",
      " id         | 17017                                                                                 \n",
      " lang       | ru                                                                                    \n",
      " name       | Английский язык для путешествий                                                       \n",
      " cos        | 0.18164824815802597                                                                   \n",
      " row_number | 8                                                                                     \n",
      "-RECORD 28------------------------------------------------------------------------------------------\n",
      " id_test    | 13702                                                                                 \n",
      " lang_test  | ru                                                                                    \n",
      " id         | 7173                                                                                  \n",
      " lang       | ru                                                                                    \n",
      " name       | Python, структуры данных для начинающих. (основы программирования)                    \n",
      " cos        | 0.18160451388012913                                                                   \n",
      " row_number | 9                                                                                     \n",
      "-RECORD 29------------------------------------------------------------------------------------------\n",
      " id_test    | 13702                                                                                 \n",
      " lang_test  | ru                                                                                    \n",
      " id         | 21017                                                                                 \n",
      " lang       | ru                                                                                    \n",
      " name       | Введение в нанотехнологии                                                             \n",
      " cos        | 0.17894059784695684                                                                   \n",
      " row_number | 10                                                                                    \n",
      "-RECORD 30------------------------------------------------------------------------------------------\n",
      " id_test    | 16704                                                                                 \n",
      " lang_test  | ru                                                                                    \n",
      " id         | 1247                                                                                  \n",
      " lang       | ru                                                                                    \n",
      " name       | Введение в программирование                                                           \n",
      " cos        | 0.3110489600273478                                                                    \n",
      " row_number | 1                                                                                     \n",
      "-RECORD 31------------------------------------------------------------------------------------------\n",
      " id_test    | 16704                                                                                 \n",
      " lang_test  | ru                                                                                    \n",
      " id         | 1273                                                                                  \n",
      " lang       | ru                                                                                    \n",
      " name       | Разработка компиляторов                                                               \n",
      " cos        | 0.30940953902302626                                                                   \n",
      " row_number | 2                                                                                     \n",
      "-RECORD 32------------------------------------------------------------------------------------------\n",
      " id_test    | 16704                                                                                 \n",
      " lang_test  | ru                                                                                    \n",
      " id         | 20288                                                                                 \n",
      " lang       | ru                                                                                    \n",
      " name       | Разработка компиляторов                                                               \n",
      " cos        | 0.30940953902302626                                                                   \n",
      " row_number | 3                                                                                     \n",
      "-RECORD 33------------------------------------------------------------------------------------------\n",
      " id_test    | 16704                                                                                 \n",
      " lang_test  | ru                                                                                    \n",
      " id         | 1236                                                                                  \n",
      " lang       | ru                                                                                    \n",
      " name       | Программирование на языке C++                                                         \n",
      " cos        | 0.2958956832217321                                                                    \n",
      " row_number | 4                                                                                     \n",
      "-RECORD 34------------------------------------------------------------------------------------------\n",
      " id_test    | 16704                                                                                 \n",
      " lang_test  | ru                                                                                    \n",
      " id         | 8203                                                                                  \n",
      " lang       | ru                                                                                    \n",
      " name       | Объектное программирование в классах на C# 3.0                                        \n",
      " cos        | 0.2948815288418167                                                                    \n",
      " row_number | 5                                                                                     \n",
      "-RECORD 35------------------------------------------------------------------------------------------\n",
      " id_test    | 16704                                                                                 \n",
      " lang_test  | ru                                                                                    \n",
      " id         | 1365                                                                                  \n",
      " lang       | ru                                                                                    \n",
      " name       | Программирование в стандарте POSIX                                                    \n",
      " cos        | 0.2927802370994369                                                                    \n",
      " row_number | 6                                                                                     \n",
      "-RECORD 36------------------------------------------------------------------------------------------\n",
      " id_test    | 16704                                                                                 \n",
      " lang_test  | ru                                                                                    \n",
      " id         | 1233                                                                                  \n",
      " lang       | ru                                                                                    \n",
      " name       | Основы функционального программирования                                               \n",
      " cos        | 0.2920525131837092                                                                    \n",
      " row_number | 7                                                                                     \n",
      "-RECORD 37------------------------------------------------------------------------------------------\n",
      " id_test    | 16704                                                                                 \n",
      " lang_test  | ru                                                                                    \n",
      " id         | 20645                                                                                 \n",
      " lang       | ru                                                                                    \n",
      " name       | Введение в логику                                                                     \n",
      " cos        | 0.2822933887701488                                                                    \n",
      " row_number | 8                                                                                     \n",
      "-RECORD 38------------------------------------------------------------------------------------------\n",
      " id_test    | 16704                                                                                 \n",
      " lang_test  | ru                                                                                    \n",
      " id         | 1164                                                                                  \n",
      " lang       | ru                                                                                    \n",
      " name       | Основные принципы и концепции программирования на языке VBA в Excel                   \n",
      " cos        | 0.28201694754413437                                                                   \n",
      " row_number | 9                                                                                     \n",
      "-RECORD 39------------------------------------------------------------------------------------------\n",
      " id_test    | 16704                                                                                 \n",
      " lang_test  | ru                                                                                    \n",
      " id         | 1426                                                                                  \n",
      " lang       | ru                                                                                    \n",
      " name       | Модели и средства программирования для многопроцессорных вычислительных систем        \n",
      " cos        | 0.28103648628940453                                                                   \n",
      " row_number | 10                                                                                    \n",
      "-RECORD 40------------------------------------------------------------------------------------------\n",
      " id_test    | 11556                                                                                 \n",
      " lang_test  | es                                                                                    \n",
      " id         | 16488                                                                                 \n",
      " lang       | es                                                                                    \n",
      " name       | Aprendizaje basado en problemas by UNID Universidad Interamericana para el Desarrollo \n",
      " cos        | 0.6242178620080021                                                                    \n",
      " row_number | 1                                                                                     \n",
      "-RECORD 41------------------------------------------------------------------------------------------\n",
      " id_test    | 11556                                                                                 \n",
      " lang_test  | es                                                                                    \n",
      " id         | 13461                                                                                 \n",
      " lang       | es                                                                                    \n",
      " name       | TIC para la enseñanza by Julia García Escudero                                        \n",
      " cos        | 0.4334764377648032                                                                    \n",
      " row_number | 2                                                                                     \n",
      "-RECORD 42------------------------------------------------------------------------------------------\n",
      " id_test    | 11556                                                                                 \n",
      " lang_test  | es                                                                                    \n",
      " id         | 23357                                                                                 \n",
      " lang       | es                                                                                    \n",
      " name       | Diseña Cursos Dinámicos que Fascinan a Tus Estudiantes                                \n",
      " cos        | 0.4281955075548424                                                                    \n",
      " row_number | 3                                                                                     \n",
      "-RECORD 43------------------------------------------------------------------------------------------\n",
      " id_test    | 11556                                                                                 \n",
      " lang_test  | es                                                                                    \n",
      " id         | 468                                                                                   \n",
      " lang       | es                                                                                    \n",
      " name       | Tecnologías de información y comunicación en la educación                             \n",
      " cos        | 0.42647433650855876                                                                   \n",
      " row_number | 4                                                                                     \n",
      "-RECORD 44------------------------------------------------------------------------------------------\n",
      " id_test    | 11556                                                                                 \n",
      " lang_test  | es                                                                                    \n",
      " id         | 7833                                                                                  \n",
      " lang       | es                                                                                    \n",
      " name       | Coaching en el contexto educativo by Julia García Escudero                            \n",
      " cos        | 0.4068497362658043                                                                    \n",
      " row_number | 5                                                                                     \n",
      "-RECORD 45------------------------------------------------------------------------------------------\n",
      " id_test    | 11556                                                                                 \n",
      " lang_test  | es                                                                                    \n",
      " id         | 19330                                                                                 \n",
      " lang       | es                                                                                    \n",
      " name       | Introducción al mundo del conocimiento complejo by Prof. Eduardo Escalante            \n",
      " cos        | 0.4025563690756581                                                                    \n",
      " row_number | 6                                                                                     \n",
      "-RECORD 46------------------------------------------------------------------------------------------\n",
      " id_test    | 11556                                                                                 \n",
      " lang_test  | es                                                                                    \n",
      " id         | 9289                                                                                  \n",
      " lang       | es                                                                                    \n",
      " name       | Habilidades educativas para la docencia del siglo XXI by Julia García Escudero        \n",
      " cos        | 0.3975614433827927                                                                    \n",
      " row_number | 7                                                                                     \n",
      "-RECORD 47------------------------------------------------------------------------------------------\n",
      " id_test    | 11556                                                                                 \n",
      " lang_test  | es                                                                                    \n",
      " id         | 10447                                                                                 \n",
      " lang       | es                                                                                    \n",
      " name       | Mejores calificaciones usando tu dispositivo móvil by Ph. D. Dante Ramírez            \n",
      " cos        | 0.39461679786276943                                                                   \n",
      " row_number | 8                                                                                     \n",
      "-RECORD 48------------------------------------------------------------------------------------------\n",
      " id_test    | 11556                                                                                 \n",
      " lang_test  | es                                                                                    \n",
      " id         | 22710                                                                                 \n",
      " lang       | es                                                                                    \n",
      " name       | Aplicaciones creativas en el aula - Udemy                                             \n",
      " cos        | 0.38908199471150395                                                                   \n",
      " row_number | 9                                                                                     \n",
      "-RECORD 49------------------------------------------------------------------------------------------\n",
      " id_test    | 11556                                                                                 \n",
      " lang_test  | es                                                                                    \n",
      " id         | 387                                                                                   \n",
      " lang       | es                                                                                    \n",
      " name       | Matemáticas y Movimiento                                                              \n",
      " cos        | 0.3767649390951318                                                                    \n",
      " row_number | 10                                                                                    \n",
      "-RECORD 50------------------------------------------------------------------------------------------\n",
      " id_test    | 21617                                                                                 \n",
      " lang_test  | en                                                                                    \n",
      " id         | 21609                                                                                 \n",
      " lang       | en                                                                                    \n",
      " name       | Preparing for the AP* Computer Science A Exam — Part 1                                \n",
      " cos        | 0.9997917000379425                                                                    \n",
      " row_number | 1                                                                                     \n",
      "-RECORD 51------------------------------------------------------------------------------------------\n",
      " id_test    | 21617                                                                                 \n",
      " lang_test  | en                                                                                    \n",
      " id         | 21608                                                                                 \n",
      " lang       | en                                                                                    \n",
      " name       | Preparing for the AP* Chemistry Exam- Part 1                                          \n",
      " cos        | 0.4879101596852898                                                                    \n",
      " row_number | 2                                                                                     \n",
      "-RECORD 52------------------------------------------------------------------------------------------\n",
      " id_test    | 21617                                                                                 \n",
      " lang_test  | en                                                                                    \n",
      " id         | 21616                                                                                 \n",
      " lang       | en                                                                                    \n",
      " name       | Preparing for the AP* Chemistry Exam- Part 2                                          \n",
      " cos        | 0.48597064046449306                                                                   \n",
      " row_number | 3                                                                                     \n",
      "-RECORD 53------------------------------------------------------------------------------------------\n",
      " id_test    | 21617                                                                                 \n",
      " lang_test  | en                                                                                    \n",
      " id         | 21492                                                                                 \n",
      " lang       | en                                                                                    \n",
      " name       | Preparing for the AP* Physics 1 Exam                                                  \n",
      " cos        | 0.41900519997845237                                                                   \n",
      " row_number | 4                                                                                     \n",
      "-RECORD 54------------------------------------------------------------------------------------------\n",
      " id_test    | 21617                                                                                 \n",
      " lang_test  | en                                                                                    \n",
      " id         | 21624                                                                                 \n",
      " lang       | en                                                                                    \n",
      " name       | Preparing for the AP* Computer Science A Exam — Level Up! Part 2                      \n",
      " cos        | 0.3787369679461697                                                                    \n",
      " row_number | 5                                                                                     \n",
      "-RECORD 55------------------------------------------------------------------------------------------\n",
      " id_test    | 21617                                                                                 \n",
      " lang_test  | en                                                                                    \n",
      " id         | 21508                                                                                 \n",
      " lang       | en                                                                                    \n",
      " name       | Preparing for the AP* Environmental Science Exam- Part 2: Populations                 \n",
      " cos        | 0.3776377137535852                                                                    \n",
      " row_number | 6                                                                                     \n",
      "-RECORD 56------------------------------------------------------------------------------------------\n",
      " id_test    | 21617                                                                                 \n",
      " lang_test  | en                                                                                    \n",
      " id         | 21623                                                                                 \n",
      " lang       | en                                                                                    \n",
      " name       | Preparing for the AP* Computer Science A Exam — Level Up! Part 1                      \n",
      " cos        | 0.3753114426195054                                                                    \n",
      " row_number | 7                                                                                     \n",
      "-RECORD 57------------------------------------------------------------------------------------------\n",
      " id_test    | 21617                                                                                 \n",
      " lang_test  | en                                                                                    \n",
      " id         | 21700                                                                                 \n",
      " lang       | en                                                                                    \n",
      " name       | Preparing for the AP* Environmental Science Exam- Part 4: Exam Review                 \n",
      " cos        | 0.37256623873956496                                                                   \n",
      " row_number | 8                                                                                     \n",
      "-RECORD 58------------------------------------------------------------------------------------------\n",
      " id_test    | 21617                                                                                 \n",
      " lang_test  | en                                                                                    \n",
      " id         | 21676                                                                                 \n",
      " lang       | en                                                                                    \n",
      " name       | Preparing for the AP* Environmental Science Exam- Part 3: Pollution and Resources     \n",
      " cos        | 0.37150830106366856                                                                   \n",
      " row_number | 9                                                                                     \n",
      "-RECORD 59------------------------------------------------------------------------------------------\n",
      " id_test    | 21617                                                                                 \n",
      " lang_test  | en                                                                                    \n",
      " id         | 21703                                                                                 \n",
      " lang       | en                                                                                    \n",
      " name       | Preparing for the AP* Physics 2 Exam – Part 4: Exam Review                            \n",
      " cos        | 0.3710705216981574                                                                    \n",
      " row_number | 10                                                                                    \n",
      "\n"
     ]
    }
   ],
   "source": [
    "df_full_10.show(60,False,True)"
   ]
  },
  {
   "cell_type": "code",
   "execution_count": 45,
   "metadata": {},
   "outputs": [
    {
     "name": "stdout",
     "output_type": "stream",
     "text": [
      "+-------+----------------------------------------------------------------------+\n",
      "|id_test|recom_courses                                                         |\n",
      "+-------+----------------------------------------------------------------------+\n",
      "|23126  |[14760, 13665, 13782, 20638, 24419, 15909, 2724, 25782, 17499, 13348] |\n",
      "|16627  |[11431, 5687, 12247, 17961, 11575, 17964, 25010, 12660, 13021, 16694] |\n",
      "|13702  |[864, 1052, 8082, 8313, 1216, 19613, 915, 17017, 7173, 21017]         |\n",
      "|16704  |[1247, 20288, 1273, 1236, 8203, 1365, 1233, 20645, 1164, 20105]       |\n",
      "|11556  |[16488, 13461, 23357, 468, 7833, 19330, 9289, 10447, 22710, 387]      |\n",
      "|21617  |[21609, 21608, 21616, 21492, 21624, 21508, 21623, 21700, 21676, 21703]|\n",
      "+-------+----------------------------------------------------------------------+\n",
      "\n"
     ]
    }
   ],
   "source": [
    "df_collect = df_full_10.groupBy('id_test').agg(F.collect_list('id').alias('recom_courses'))\n",
    "df_collect.show(truncate=False)"
   ]
  },
  {
   "cell_type": "code",
   "execution_count": 46,
   "metadata": {},
   "outputs": [
    {
     "data": {
      "text/plain": [
       "[Row(id_test=11556, recom_courses=[16488, 13461, 23357, 468, 7833, 19330, 9289, 10447, 22710, 387]),\n",
       " Row(id_test=13702, recom_courses=[864, 1052, 8082, 8313, 1216, 19613, 915, 17017, 7173, 21017]),\n",
       " Row(id_test=16627, recom_courses=[11431, 5687, 12247, 17961, 11575, 17964, 25010, 12660, 13021, 16694]),\n",
       " Row(id_test=16704, recom_courses=[1247, 20288, 1273, 1236, 8203, 1365, 1233, 20645, 1164, 20105]),\n",
       " Row(id_test=21617, recom_courses=[21609, 21608, 21616, 21492, 21624, 21508, 21623, 21700, 21676, 21703]),\n",
       " Row(id_test=23126, recom_courses=[14760, 13665, 13782, 20638, 24419, 15909, 2724, 25782, 17499, 13348])]"
      ]
     },
     "execution_count": 46,
     "metadata": {},
     "output_type": "execute_result"
    }
   ],
   "source": [
    "df_sort = df_collect.sort('id_test')\n",
    "rdd_fin = df_sort.rdd\n",
    "rdd_fin.take(6)"
   ]
  },
  {
   "cell_type": "code",
   "execution_count": 47,
   "metadata": {},
   "outputs": [
    {
     "data": {
      "text/plain": [
       "{11556: [16488, 13461, 23357, 468, 7833, 19330, 9289, 10447, 22710, 387],\n",
       " 13702: [864, 1052, 8082, 8313, 1216, 19613, 915, 17017, 7173, 21017],\n",
       " 16627: [11431, 5687, 12247, 17961, 11575, 17964, 25010, 12660, 13021, 16694],\n",
       " 16704: [1247, 20288, 1273, 1236, 8203, 1365, 1233, 20645, 1164, 20105],\n",
       " 21617: [21609, 21608, 21616, 21492, 21624, 21508, 21623, 21700, 21676, 21703],\n",
       " 23126: [14760, 13665, 13782, 20638, 24419, 15909, 2724, 25782, 17499, 13348]}"
      ]
     },
     "execution_count": 47,
     "metadata": {},
     "output_type": "execute_result"
    }
   ],
   "source": [
    "result_dict = dict(rdd_fin.collect()) \n",
    "result_dict"
   ]
  },
  {
   "cell_type": "code",
   "execution_count": 49,
   "metadata": {},
   "outputs": [],
   "source": [
    "import json\n",
    "with open('lab02.json', 'w') as fp:\n",
    "    json.dump(result_dict, fp)"
   ]
  },
  {
   "cell_type": "code",
   "execution_count": 50,
   "metadata": {},
   "outputs": [],
   "source": [
    "sc.stop()"
   ]
  }
 ],
 "metadata": {
  "kernelspec": {
   "display_name": "Python 3",
   "language": "python",
   "name": "python3"
  },
  "language_info": {
   "codemirror_mode": {
    "name": "ipython",
    "version": 3
   },
   "file_extension": ".py",
   "mimetype": "text/x-python",
   "name": "python",
   "nbconvert_exporter": "python",
   "pygments_lexer": "ipython3",
   "version": "3.6.5"
  }
 },
 "nbformat": 4,
 "nbformat_minor": 2
}
