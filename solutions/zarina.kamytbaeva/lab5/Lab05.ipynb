{
 "cells": [
  {
   "cell_type": "code",
   "execution_count": 1,
   "metadata": {},
   "outputs": [],
   "source": [
    "import org.apache.spark.sql.SparkSession\n",
    "import org.apache.spark.sql.functions._\n",
    "import org.apache.spark.sql.functions.{col}"
   ]
  },
  {
   "cell_type": "code",
   "execution_count": 3,
   "metadata": {},
   "outputs": [
    {
     "data": {
      "text/plain": [
       "spark = org.apache.spark.sql.SparkSession@34d2ec30\n"
      ]
     },
     "metadata": {},
     "output_type": "display_data"
    },
    {
     "data": {
      "text/plain": [
       "org.apache.spark.sql.SparkSession@34d2ec30"
      ]
     },
     "execution_count": 3,
     "metadata": {},
     "output_type": "execute_result"
    }
   ],
   "source": [
    "val spark = SparkSession.builder.appName(\"Spark ML\").getOrCreate()"
   ]
  },
  {
   "cell_type": "code",
   "execution_count": 4,
   "metadata": {},
   "outputs": [
    {
     "data": {
      "text/plain": [
       "train_path = file:////share/slaba05data/lab05_train.csv\n",
       "test_path = file:////share/slaba05data/lab05_test.csv\n"
      ]
     },
     "metadata": {},
     "output_type": "display_data"
    },
    {
     "data": {
      "text/plain": [
       "file:////share/slaba05data/lab05_test.csv"
      ]
     },
     "execution_count": 4,
     "metadata": {},
     "output_type": "execute_result"
    }
   ],
   "source": [
    "// val train_path = \"file:////share/slaba05data/lab05_train.csv\"\n",
    "// val test_path = \"file:////share/slaba05data/lab05_test.csv\""
   ]
  },
  {
   "cell_type": "markdown",
   "metadata": {},
   "source": [
    "# Data Preparation"
   ]
  },
  {
   "cell_type": "code",
   "execution_count": 5,
   "metadata": {
    "collapsed": true
   },
   "outputs": [
    {
     "data": {
      "text/plain": [
       "Name: org.apache.spark.SparkException\n",
       "Message: Job aborted due to stage failure: Task 0 in stage 0.0 failed 4 times, most recent failure: Lost task 0.3 in stage 0.0 (TID 3, spark-de-node-5.newprolab.com, executor 2): java.io.FileNotFoundException: File file:/share/slaba05data/lab05_train.csv does not exist\n",
       "It is possible the underlying files have been updated. You can explicitly invalidate the cache in Spark by running 'REFRESH TABLE tableName' command in SQL or by recreating the Dataset/DataFrame involved.\n",
       "\tat org.apache.spark.sql.execution.datasources.FileScanRDD$$anon$1.org$apache$spark$sql$execution$datasources$FileScanRDD$$anon$$readCurrentFile(FileScanRDD.scala:127)\n",
       "\tat org.apache.spark.sql.execution.datasources.FileScanRDD$$anon$1.nextIterator(FileScanRDD.scala:177)\n",
       "\tat org.apache.spark.sql.execution.datasources.FileScanRDD$$anon$1.hasNext(FileScanRDD.scala:101)\n",
       "\tat org.apache.spark.sql.catalyst.expressions.GeneratedClass$GeneratedIteratorForCodegenStage1.processNext(Unknown Source)\n",
       "\tat org.apache.spark.sql.execution.BufferedRowIterator.hasNext(BufferedRowIterator.java:43)\n",
       "\tat org.apache.spark.sql.execution.WholeStageCodegenExec$$anonfun$13$$anon$1.hasNext(WholeStageCodegenExec.scala:636)\n",
       "\tat org.apache.spark.sql.execution.SparkPlan$$anonfun$2.apply(SparkPlan.scala:255)\n",
       "\tat org.apache.spark.sql.execution.SparkPlan$$anonfun$2.apply(SparkPlan.scala:247)\n",
       "\tat org.apache.spark.rdd.RDD$$anonfun$mapPartitionsInternal$1$$anonfun$apply$24.apply(RDD.scala:858)\n",
       "\tat org.apache.spark.rdd.RDD$$anonfun$mapPartitionsInternal$1$$anonfun$apply$24.apply(RDD.scala:858)\n",
       "\tat org.apache.spark.rdd.MapPartitionsRDD.compute(MapPartitionsRDD.scala:52)\n",
       "\tat org.apache.spark.rdd.RDD.computeOrReadCheckpoint(RDD.scala:346)\n",
       "\tat org.apache.spark.rdd.RDD.iterator(RDD.scala:310)\n",
       "\tat org.apache.spark.rdd.MapPartitionsRDD.compute(MapPartitionsRDD.scala:52)\n",
       "\tat org.apache.spark.rdd.RDD.computeOrReadCheckpoint(RDD.scala:346)\n",
       "\tat org.apache.spark.rdd.RDD.iterator(RDD.scala:310)\n",
       "\tat org.apache.spark.scheduler.ResultTask.runTask(ResultTask.scala:90)\n",
       "\tat org.apache.spark.scheduler.Task.run(Task.scala:123)\n",
       "\tat org.apache.spark.executor.Executor$TaskRunner$$anonfun$10.apply(Executor.scala:408)\n",
       "\tat org.apache.spark.util.Utils$.tryWithSafeFinally(Utils.scala:1360)\n",
       "\tat org.apache.spark.executor.Executor$TaskRunner.run(Executor.scala:414)\n",
       "\tat java.util.concurrent.ThreadPoolExecutor.runWorker(ThreadPoolExecutor.java:1142)\n",
       "\tat java.util.concurrent.ThreadPoolExecutor$Worker.run(ThreadPoolExecutor.java:617)\n",
       "\tat java.lang.Thread.run(Thread.java:745)\n",
       "\n",
       "Driver stacktrace:\n",
       "StackTrace: It is possible the underlying files have been updated. You can explicitly invalidate the cache in Spark by running 'REFRESH TABLE tableName' command in SQL or by recreating the Dataset/DataFrame involved.\n",
       "\tat org.apache.spark.sql.execution.datasources.FileScanRDD$$anon$1.org$apache$spark$sql$execution$datasources$FileScanRDD$$anon$$readCurrentFile(FileScanRDD.scala:127)\n",
       "\tat org.apache.spark.sql.execution.datasources.FileScanRDD$$anon$1.nextIterator(FileScanRDD.scala:177)\n",
       "\tat org.apache.spark.sql.execution.datasources.FileScanRDD$$anon$1.hasNext(FileScanRDD.scala:101)\n",
       "\tat org.apache.spark.sql.catalyst.expressions.GeneratedClass$GeneratedIteratorForCodegenStage1.processNext(Unknown Source)\n",
       "\tat org.apache.spark.sql.execution.BufferedRowIterator.hasNext(BufferedRowIterator.java:43)\n",
       "\tat org.apache.spark.sql.execution.WholeStageCodegenExec$$anonfun$13$$anon$1.hasNext(WholeStageCodegenExec.scala:636)\n",
       "\tat org.apache.spark.sql.execution.SparkPlan$$anonfun$2.apply(SparkPlan.scala:255)\n",
       "\tat org.apache.spark.sql.execution.SparkPlan$$anonfun$2.apply(SparkPlan.scala:247)\n",
       "\tat org.apache.spark.rdd.RDD$$anonfun$mapPartitionsInternal$1$$anonfun$apply$24.apply(RDD.scala:858)\n",
       "\tat org.apache.spark.rdd.RDD$$anonfun$mapPartitionsInternal$1$$anonfun$apply$24.apply(RDD.scala:858)\n",
       "\tat org.apache.spark.rdd.MapPartitionsRDD.compute(MapPartitionsRDD.scala:52)\n",
       "\tat org.apache.spark.rdd.RDD.computeOrReadCheckpoint(RDD.scala:346)\n",
       "\tat org.apache.spark.rdd.RDD.iterator(RDD.scala:310)\n",
       "\tat org.apache.spark.rdd.MapPartitionsRDD.compute(MapPartitionsRDD.scala:52)\n",
       "\tat org.apache.spark.rdd.RDD.computeOrReadCheckpoint(RDD.scala:346)\n",
       "\tat org.apache.spark.rdd.RDD.iterator(RDD.scala:310)\n",
       "\tat org.apache.spark.scheduler.ResultTask.runTask(ResultTask.scala:90)\n",
       "\tat org.apache.spark.scheduler.Task.run(Task.scala:123)\n",
       "\tat org.apache.spark.executor.Executor$TaskRunner$$anonfun$10.apply(Executor.scala:408)\n",
       "\tat org.apache.spark.util.Utils$.tryWithSafeFinally(Utils.scala:1360)\n",
       "\tat org.apache.spark.executor.Executor$TaskRunner.run(Executor.scala:414)\n",
       "\tat java.util.concurrent.ThreadPoolExecutor.runWorker(ThreadPoolExecutor.java:1142)\n",
       "\tat java.util.concurrent.ThreadPoolExecutor$Worker.run(ThreadPoolExecutor.java:617)\n",
       "\tat java.lang.Thread.run(Thread.java:745)\n",
       "Driver stacktrace:\n",
       "  at org.apache.spark.scheduler.DAGScheduler.org$apache$spark$scheduler$DAGScheduler$$failJobAndIndependentStages(DAGScheduler.scala:1925)\n",
       "  at org.apache.spark.scheduler.DAGScheduler$$anonfun$abortStage$1.apply(DAGScheduler.scala:1913)\n",
       "  at org.apache.spark.scheduler.DAGScheduler$$anonfun$abortStage$1.apply(DAGScheduler.scala:1912)\n",
       "  at scala.collection.mutable.ResizableArray$class.foreach(ResizableArray.scala:59)\n",
       "  at scala.collection.mutable.ArrayBuffer.foreach(ArrayBuffer.scala:48)\n",
       "  at org.apache.spark.scheduler.DAGScheduler.abortStage(DAGScheduler.scala:1912)\n",
       "  at org.apache.spark.scheduler.DAGScheduler$$anonfun$handleTaskSetFailed$1.apply(DAGScheduler.scala:948)\n",
       "  at org.apache.spark.scheduler.DAGScheduler$$anonfun$handleTaskSetFailed$1.apply(DAGScheduler.scala:948)\n",
       "  at scala.Option.foreach(Option.scala:257)\n",
       "  at org.apache.spark.scheduler.DAGScheduler.handleTaskSetFailed(DAGScheduler.scala:948)\n",
       "  at org.apache.spark.scheduler.DAGSchedulerEventProcessLoop.doOnReceive(DAGScheduler.scala:2146)\n",
       "  at org.apache.spark.scheduler.DAGSchedulerEventProcessLoop.onReceive(DAGScheduler.scala:2095)\n",
       "  at org.apache.spark.scheduler.DAGSchedulerEventProcessLoop.onReceive(DAGScheduler.scala:2084)\n",
       "  at org.apache.spark.util.EventLoop$$anon$1.run(EventLoop.scala:49)\n",
       "  at org.apache.spark.scheduler.DAGScheduler.runJob(DAGScheduler.scala:759)\n",
       "  at org.apache.spark.SparkContext.runJob(SparkContext.scala:2061)\n",
       "  at org.apache.spark.SparkContext.runJob(SparkContext.scala:2082)\n",
       "  at org.apache.spark.SparkContext.runJob(SparkContext.scala:2101)\n",
       "  at org.apache.spark.sql.execution.SparkPlan.executeTake(SparkPlan.scala:365)\n",
       "  at org.apache.spark.sql.execution.CollectLimitExec.executeCollect(limit.scala:38)\n",
       "  at org.apache.spark.sql.Dataset.org$apache$spark$sql$Dataset$$collectFromPlan(Dataset.scala:3389)\n",
       "  at org.apache.spark.sql.Dataset$$anonfun$head$1.apply(Dataset.scala:2550)\n",
       "  at org.apache.spark.sql.Dataset$$anonfun$head$1.apply(Dataset.scala:2550)\n",
       "  at org.apache.spark.sql.Dataset$$anonfun$52.apply(Dataset.scala:3370)\n",
       "  at org.apache.spark.sql.execution.SQLExecution$$anonfun$withNewExecutionId$1.apply(SQLExecution.scala:80)\n",
       "  at org.apache.spark.sql.execution.SQLExecution$.withSQLConfPropagated(SQLExecution.scala:127)\n",
       "  at org.apache.spark.sql.execution.SQLExecution$.withNewExecutionId(SQLExecution.scala:75)\n",
       "  at org.apache.spark.sql.Dataset.org$apache$spark$sql$Dataset$$withAction(Dataset.scala:3369)\n",
       "  at org.apache.spark.sql.Dataset.head(Dataset.scala:2550)\n",
       "  at org.apache.spark.sql.Dataset.take(Dataset.scala:2764)\n",
       "  at org.apache.spark.sql.execution.datasources.csv.TextInputCSVDataSource$.infer(CSVDataSource.scala:236)\n",
       "  at org.apache.spark.sql.execution.datasources.csv.CSVDataSource.inferSchema(CSVDataSource.scala:68)\n",
       "  at org.apache.spark.sql.execution.datasources.csv.CSVFileFormat.inferSchema(CSVFileFormat.scala:63)\n",
       "  at org.apache.spark.sql.execution.datasources.DataSource$$anonfun$6.apply(DataSource.scala:194)\n",
       "  at org.apache.spark.sql.execution.datasources.DataSource$$anonfun$6.apply(DataSource.scala:194)\n",
       "  at scala.Option.orElse(Option.scala:289)\n",
       "  at org.apache.spark.sql.execution.datasources.DataSource.getOrInferFileFormatSchema(DataSource.scala:193)\n",
       "  at org.apache.spark.sql.execution.datasources.DataSource.resolveRelation(DataSource.scala:387)\n",
       "  at org.apache.spark.sql.DataFrameReader.loadV1Source(DataFrameReader.scala:242)\n",
       "  at org.apache.spark.sql.DataFrameReader.load(DataFrameReader.scala:230)\n",
       "  at org.apache.spark.sql.DataFrameReader.load(DataFrameReader.scala:197)\n",
       "  ... 44 elided\n",
       "Caused by: java.io.FileNotFoundException: File file:/share/slaba05data/lab05_train.csv does not exist\n",
       "It is possible the underlying files have been updated. You can explicitly invalidate the cache in Spark by running 'REFRESH TABLE tableName' command in SQL or by recreating the Dataset/DataFrame involved.\n",
       "  at org.apache.spark.sql.execution.datasources.FileScanRDD$$anon$1.org$apache$spark$sql$execution$datasources$FileScanRDD$$anon$$readCurrentFile(FileScanRDD.scala:127)\n",
       "  at org.apache.spark.sql.execution.datasources.FileScanRDD$$anon$1.nextIterator(FileScanRDD.scala:177)\n",
       "  at org.apache.spark.sql.execution.datasources.FileScanRDD$$anon$1.hasNext(FileScanRDD.scala:101)\n",
       "  at org.apache.spark.sql.catalyst.expressions.GeneratedClass$GeneratedIteratorForCodegenStage1.processNext(Unknown Source)\n",
       "  at org.apache.spark.sql.execution.BufferedRowIterator.hasNext(BufferedRowIterator.java:43)\n",
       "  at org.apache.spark.sql.execution.WholeStageCodegenExec$$anonfun$13$$anon$1.hasNext(WholeStageCodegenExec.scala:636)\n",
       "  at org.apache.spark.sql.execution.SparkPlan$$anonfun$2.apply(SparkPlan.scala:255)\n",
       "  at org.apache.spark.sql.execution.SparkPlan$$anonfun$2.apply(SparkPlan.scala:247)\n",
       "  at org.apache.spark.rdd.RDD$$anonfun$mapPartitionsInternal$1$$anonfun$apply$24.apply(RDD.scala:858)\n",
       "  at org.apache.spark.rdd.RDD$$anonfun$mapPartitionsInternal$1$$anonfun$apply$24.apply(RDD.scala:858)\n",
       "  at org.apache.spark.rdd.MapPartitionsRDD.compute(MapPartitionsRDD.scala:52)\n",
       "  at org.apache.spark.rdd.RDD.computeOrReadCheckpoint(RDD.scala:346)\n",
       "  at org.apache.spark.rdd.RDD.iterator(RDD.scala:310)\n",
       "  at org.apache.spark.rdd.MapPartitionsRDD.compute(MapPartitionsRDD.scala:52)\n",
       "  at org.apache.spark.rdd.RDD.computeOrReadCheckpoint(RDD.scala:346)\n",
       "  at org.apache.spark.rdd.RDD.iterator(RDD.scala:310)\n",
       "  at org.apache.spark.scheduler.ResultTask.runTask(ResultTask.scala:90)\n",
       "  at org.apache.spark.scheduler.Task.run(Task.scala:123)\n",
       "  at org.apache.spark.executor.Executor$TaskRunner$$anonfun$10.apply(Executor.scala:408)\n",
       "  at org.apache.spark.util.Utils$.tryWithSafeFinally(Utils.scala:1360)\n",
       "  at org.apache.spark.executor.Executor$TaskRunner.run(Executor.scala:414)"
      ]
     },
     "execution_count": 5,
     "metadata": {},
     "output_type": "execute_result"
    }
   ],
   "source": [
    "// var trainDf = spark\n",
    "//     .read\n",
    "//     .format(\"csv\")\n",
    "//     .option(\"header\", true)\n",
    "//     .option(\"delimeter\",\",\")\n",
    "//     .option(\"inferSchema\", true)\n",
    "//     .load(train_path)\n",
    "//     //.drop(\"_c0\", \"ID\")\n",
    "\n",
    "// trainDf.show(1, 0, true)"
   ]
  },
  {
   "cell_type": "code",
   "execution_count": 7,
   "metadata": {},
   "outputs": [
    {
     "name": "stdout",
     "output_type": "stream",
     "text": [
      "-RECORD 0--------------------------------------------\n",
      " CR_PROD_CNT_IL              | 0                     \n",
      " AMOUNT_RUB_CLO_PRC          | 0.0                   \n",
      " PRC_ACCEPTS_A_EMAIL_LINK    | 0.0                   \n",
      " APP_REGISTR_RGN_CODE        | null                  \n",
      " PRC_ACCEPTS_A_POS           | 0.0                   \n",
      " PRC_ACCEPTS_A_TK            | 0.0                   \n",
      " TURNOVER_DYNAMIC_IL_1M      | 0.0                   \n",
      " CNT_TRAN_AUT_TENDENCY1M     | null                  \n",
      " SUM_TRAN_AUT_TENDENCY1M     | null                  \n",
      " AMOUNT_RUB_SUP_PRC          | 0.0                   \n",
      " PRC_ACCEPTS_A_AMOBILE       | 0.0                   \n",
      " SUM_TRAN_AUT_TENDENCY3M     | null                  \n",
      " CLNT_TRUST_RELATION         | null                  \n",
      " PRC_ACCEPTS_TK              | 0.0                   \n",
      " PRC_ACCEPTS_A_MTP           | 0.0                   \n",
      " REST_DYNAMIC_FDEP_1M        | 0.0                   \n",
      " CNT_TRAN_AUT_TENDENCY3M     | null                  \n",
      " CNT_ACCEPTS_TK              | 0.0                   \n",
      " APP_MARITAL_STATUS          | null                  \n",
      " REST_DYNAMIC_SAVE_3M        | 0.0                   \n",
      " CR_PROD_CNT_VCU             | 0                     \n",
      " REST_AVG_CUR                | 19069.6917166667      \n",
      " CNT_TRAN_MED_TENDENCY1M     | null                  \n",
      " APP_KIND_OF_PROP_HABITATION | null                  \n",
      " CLNT_JOB_POSITION_TYPE      | null                  \n",
      " AMOUNT_RUB_NAS_PRC          | 0.0                   \n",
      " CLNT_JOB_POSITION           | null                  \n",
      " APP_DRIVING_LICENSE         | null                  \n",
      " TRANS_COUNT_SUP_PRC         | 0.0                   \n",
      " APP_EDUCATION               | null                  \n",
      " CNT_TRAN_CLO_TENDENCY1M     | null                  \n",
      " SUM_TRAN_MED_TENDENCY1M     | null                  \n",
      " PRC_ACCEPTS_A_ATM           | 0.0                   \n",
      " PRC_ACCEPTS_MTP             | 0.0                   \n",
      " TRANS_COUNT_NAS_PRC         | 0.0                   \n",
      " APP_TRAVEL_PASS             | null                  \n",
      " CNT_ACCEPTS_MTP             | 0.0                   \n",
      " CR_PROD_CNT_TOVR            | 1                     \n",
      " APP_CAR                     | null                  \n",
      " CR_PROD_CNT_PIL             | 0                     \n",
      " SUM_TRAN_CLO_TENDENCY1M     | null                  \n",
      " APP_POSITION_TYPE           | null                  \n",
      " TURNOVER_CC                 | 0.0                   \n",
      " TRANS_COUNT_ATM_PRC         | 0.981818181818182     \n",
      " AMOUNT_RUB_ATM_PRC          | 0.9264718189135429    \n",
      " TURNOVER_PAYM               | 0.0                   \n",
      " AGE                         | 324                   \n",
      " CNT_TRAN_MED_TENDENCY3M     | null                  \n",
      " CR_PROD_CNT_CC              | 0                     \n",
      " SUM_TRAN_MED_TENDENCY3M     | null                  \n",
      " REST_DYNAMIC_FDEP_3M        | 0.0                   \n",
      " REST_DYNAMIC_IL_1M          | 0.0                   \n",
      " APP_EMP_TYPE                | null                  \n",
      " SUM_TRAN_CLO_TENDENCY3M     | null                  \n",
      " LDEAL_TENOR_MAX             | null                  \n",
      " LDEAL_YQZ_CHRG              | null                  \n",
      " CR_PROD_CNT_CCFP            | 0                     \n",
      " DEAL_YQZ_IR_MAX             | null                  \n",
      " LDEAL_YQZ_COM               | null                  \n",
      " DEAL_YQZ_IR_MIN             | null                  \n",
      " CNT_TRAN_CLO_TENDENCY3M     | null                  \n",
      " REST_DYNAMIC_CUR_1M         | 0.139327197286461     \n",
      " REST_AVG_PAYM               | 0.0                   \n",
      " LDEAL_TENOR_MIN             | null                  \n",
      " LDEAL_AMT_MONTH             | null                  \n",
      " APP_COMP_TYPE               | null                  \n",
      " LDEAL_GRACE_DAYS_PCT_MED    | 0.0                   \n",
      " REST_DYNAMIC_CUR_3M         | 0.24404241658152398   \n",
      " CNT_TRAN_SUP_TENDENCY3M     | null                  \n",
      " TURNOVER_DYNAMIC_CUR_1M     | 0.14429972251526998   \n",
      " REST_DYNAMIC_PAYM_3M        | 0.0                   \n",
      " SUM_TRAN_SUP_TENDENCY3M     | null                  \n",
      " REST_DYNAMIC_IL_3M          | 0.0                   \n",
      " CNT_TRAN_ATM_TENDENCY3M     | 0.351851851851852     \n",
      " CNT_TRAN_ATM_TENDENCY1M     | 0.166666666666667     \n",
      " TURNOVER_DYNAMIC_IL_3M      | 0.0                   \n",
      " SUM_TRAN_ATM_TENDENCY3M     | 0.329320637235633     \n",
      " DEAL_GRACE_DAYS_ACC_S1X1    | 0.0                   \n",
      " AVG_PCT_MONTH_TO_PCLOSE     | null                  \n",
      " DEAL_YWZ_IR_MIN             | 45.0                  \n",
      " SUM_TRAN_SUP_TENDENCY1M     | null                  \n",
      " DEAL_YWZ_IR_MAX             | 45.0                  \n",
      " SUM_TRAN_ATM_TENDENCY1M     | 0.16790105289165602   \n",
      " REST_DYNAMIC_PAYM_1M        | 0.0                   \n",
      " CNT_TRAN_SUP_TENDENCY1M     | null                  \n",
      " DEAL_GRACE_DAYS_ACC_AVG     | 0.0                   \n",
      " TURNOVER_DYNAMIC_CUR_3M     | 0.30374965665416803   \n",
      " PACK                        | 102                   \n",
      " MAX_PCLOSE_DATE             | null                  \n",
      " LDEAL_YQZ_PC                | null                  \n",
      " CLNT_SETUP_TENOR            | 5.48000105784548      \n",
      " DEAL_GRACE_DAYS_ACC_MAX     | 0.0                   \n",
      " TURNOVER_DYNAMIC_PAYM_3M    | 0.0                   \n",
      " LDEAL_DELINQ_PER_MAXYQZ     | null                  \n",
      " TURNOVER_DYNAMIC_PAYM_1M    | 0.0                   \n",
      " CLNT_SALARY_VALUE           | null                  \n",
      " TRANS_AMOUNT_TENDENCY3M     | 0.305106289785464     \n",
      " MED_DEBT_PRC_YQZ            | null                  \n",
      " TRANS_CNT_TENDENCY3M        | 0.34545454545454496   \n",
      " LDEAL_USED_AMT_AVG_YQZ      | null                  \n",
      " REST_DYNAMIC_CC_1M          | 0.0                   \n",
      " LDEAL_USED_AMT_AVG_YWZ      | 1.0                   \n",
      " TURNOVER_DYNAMIC_CC_1M      | 0.0                   \n",
      " AVG_PCT_DEBT_TO_DEAL_AMT    | null                  \n",
      " LDEAL_ACT_DAYS_ACC_PCT_AVG  | 0.0035236081747709704 \n",
      " REST_DYNAMIC_CC_3M          | 0.0                   \n",
      " MED_DEBT_PRC_YWZ            | 0.0                   \n",
      " LDEAL_ACT_DAYS_PCT_TR3      | 0.0                   \n",
      " LDEAL_ACT_DAYS_PCT_AAVG     | 0.0                   \n",
      " LDEAL_DELINQ_PER_MAXYWZ     | 0.0                   \n",
      " TURNOVER_DYNAMIC_CC_3M      | 0.0                   \n",
      " LDEAL_ACT_DAYS_PCT_TR       | 0.0                   \n",
      " LDEAL_ACT_DAYS_PCT_TR4      | 0.0                   \n",
      " LDEAL_ACT_DAYS_PCT_CURR     | 0.0                   \n",
      " TARGET                      | 0                     \n",
      "only showing top 1 row\n",
      "\n"
     ]
    },
    {
     "data": {
      "text/plain": [
       "trainDf = [CR_PROD_CNT_IL: int, AMOUNT_RUB_CLO_PRC: double ... 113 more fields]\n"
      ]
     },
     "metadata": {},
     "output_type": "display_data"
    },
    {
     "data": {
      "text/plain": [
       "lastException: Throwable = null\n"
      ]
     },
     "metadata": {},
     "output_type": "display_data"
    },
    {
     "data": {
      "text/plain": [
       "[CR_PROD_CNT_IL: int, AMOUNT_RUB_CLO_PRC: double ... 113 more fields]"
      ]
     },
     "execution_count": 7,
     "metadata": {},
     "output_type": "execute_result"
    }
   ],
   "source": [
    "var trainDf = spark\n",
    "    .read\n",
    "    .option(\"header\", true)\n",
    "    .option(\"inferSchema\", true)\n",
    "    .csv(\"/user/zarina.kamytbaeva/lab05_train.csv\")\n",
    "    .drop(\"_c0\", \"ID\")\n",
    "\n",
    "trainDf.show(1, 0, true)"
   ]
  },
  {
   "cell_type": "code",
   "execution_count": 8,
   "metadata": {},
   "outputs": [
    {
     "data": {
      "text/plain": [
       "categoriesCols = List(CLNT_TRUST_RELATION, APP_MARITAL_STATUS, APP_KIND_OF_PROP_HABITATION, CLNT_JOB_POSITION_TYPE, CLNT_JOB_POSITION, APP_DRIVING_LICENSE, APP_EDUCATION, APP_TRAVEL_PASS, APP_CAR, APP_POSITION_TYPE, APP_EMP_TYPE, APP_COMP_TYPE, PACK)\n"
      ]
     },
     "metadata": {},
     "output_type": "display_data"
    },
    {
     "data": {
      "text/plain": [
       "List(CLNT_TRUST_RELATION, APP_MARITAL_STATUS, APP_KIND_OF_PROP_HABITATION, CLNT_JOB_POSITION_TYPE, CLNT_JOB_POSITION, APP_DRIVING_LICENSE, APP_EDUCATION, APP_TRAVEL_PASS, APP_CAR, APP_POSITION_TYPE, APP_EMP_TYPE, APP_COMP_TYPE, PACK)"
      ]
     },
     "execution_count": 8,
     "metadata": {},
     "output_type": "execute_result"
    }
   ],
   "source": [
    "val categoriesCols = List(\n",
    "    \"CLNT_TRUST_RELATION\", \n",
    "    \"APP_MARITAL_STATUS\",\n",
    "    \"APP_KIND_OF_PROP_HABITATION\", \n",
    "    \"CLNT_JOB_POSITION_TYPE\",\n",
    "    \"CLNT_JOB_POSITION\", \n",
    "    \"APP_DRIVING_LICENSE\", \n",
    "    \"APP_EDUCATION\",\n",
    "    \"APP_TRAVEL_PASS\", \n",
    "    \"APP_CAR\", \n",
    "    \"APP_POSITION_TYPE\", \n",
    "    \"APP_EMP_TYPE\",\n",
    "    \"APP_COMP_TYPE\", \n",
    "    \"PACK\"\n",
    ")"
   ]
  },
  {
   "cell_type": "code",
   "execution_count": 9,
   "metadata": {},
   "outputs": [
    {
     "data": {
      "text/plain": [
       "trainDf = [CR_PROD_CNT_IL: int, AMOUNT_RUB_CLO_PRC: double ... 100 more fields]\n"
      ]
     },
     "metadata": {},
     "output_type": "display_data"
    },
    {
     "data": {
      "text/plain": [
       "[CR_PROD_CNT_IL: int, AMOUNT_RUB_CLO_PRC: double ... 100 more fields]"
      ]
     },
     "execution_count": 9,
     "metadata": {},
     "output_type": "execute_result"
    }
   ],
   "source": [
    "trainDf = trainDf.drop(categoriesCols:_*).na.fill(0)"
   ]
  },
  {
   "cell_type": "code",
   "execution_count": 10,
   "metadata": {},
   "outputs": [
    {
     "data": {
      "text/plain": [
       "trainDfTrain = [CR_PROD_CNT_IL: int, AMOUNT_RUB_CLO_PRC: double ... 100 more fields]\n",
       "trainDfTest = [CR_PROD_CNT_IL: int, AMOUNT_RUB_CLO_PRC: double ... 100 more fields]\n"
      ]
     },
     "metadata": {},
     "output_type": "display_data"
    },
    {
     "data": {
      "text/plain": [
       "[CR_PROD_CNT_IL: int, AMOUNT_RUB_CLO_PRC: double ... 100 more fields]"
      ]
     },
     "execution_count": 10,
     "metadata": {},
     "output_type": "execute_result"
    }
   ],
   "source": [
    "val Array(trainDfTrain, trainDfTest) = trainDf.randomSplit(Array(0.8, 0.2))"
   ]
  },
  {
   "cell_type": "markdown",
   "metadata": {},
   "source": [
    "# Train"
   ]
  },
  {
   "cell_type": "code",
   "execution_count": 11,
   "metadata": {},
   "outputs": [],
   "source": [
    "import org.apache.spark.ml.classification.{RandomForestClassificationModel, RandomForestClassifier, GBTClassifier}\n",
    "import org.apache.spark.ml.feature.{VectorAssembler}"
   ]
  },
  {
   "cell_type": "code",
   "execution_count": 12,
   "metadata": {},
   "outputs": [
    {
     "data": {
      "text/plain": [
       "vectorAssembler = vecAssembler_782b8c1f4fc9\n"
      ]
     },
     "metadata": {},
     "output_type": "display_data"
    },
    {
     "data": {
      "text/plain": [
       "vecAssembler_782b8c1f4fc9"
      ]
     },
     "execution_count": 12,
     "metadata": {},
     "output_type": "execute_result"
    }
   ],
   "source": [
    "val vectorAssembler = new VectorAssembler()\n",
    "    .setInputCols(trainDfTrain.drop(\"TARGET\").columns)\n",
    "    .setOutputCol(\"features\")"
   ]
  },
  {
   "cell_type": "code",
   "execution_count": 13,
   "metadata": {},
   "outputs": [
    {
     "data": {
      "text/plain": [
       "trainDfCleaned = [CR_PROD_CNT_IL: int, AMOUNT_RUB_CLO_PRC: double ... 101 more fields]\n"
      ]
     },
     "metadata": {},
     "output_type": "display_data"
    },
    {
     "data": {
      "text/plain": [
       "[CR_PROD_CNT_IL: int, AMOUNT_RUB_CLO_PRC: double ... 101 more fields]"
      ]
     },
     "execution_count": 13,
     "metadata": {},
     "output_type": "execute_result"
    }
   ],
   "source": [
    "val trainDfCleaned = vectorAssembler.transform(trainDfTrain).cache"
   ]
  },
  {
   "cell_type": "code",
   "execution_count": 14,
   "metadata": {
    "scrolled": true
   },
   "outputs": [
    {
     "name": "stdout",
     "output_type": "stream",
     "text": [
      "-RECORD 0----------------------------------------------------------------------------------------------------\n",
      " CR_PROD_CNT_IL             | 0                                                                              \n",
      " AMOUNT_RUB_CLO_PRC         | 0.0                                                                            \n",
      " PRC_ACCEPTS_A_EMAIL_LINK   | 0.0                                                                            \n",
      " APP_REGISTR_RGN_CODE       | 0.0                                                                            \n",
      " PRC_ACCEPTS_A_POS          | 0.0                                                                            \n",
      " PRC_ACCEPTS_A_TK           | 0.0                                                                            \n",
      " TURNOVER_DYNAMIC_IL_1M     | 0.0                                                                            \n",
      " CNT_TRAN_AUT_TENDENCY1M    | 0.0                                                                            \n",
      " SUM_TRAN_AUT_TENDENCY1M    | 0.0                                                                            \n",
      " AMOUNT_RUB_SUP_PRC         | 0.0                                                                            \n",
      " PRC_ACCEPTS_A_AMOBILE      | 0.0                                                                            \n",
      " SUM_TRAN_AUT_TENDENCY3M    | 0.0                                                                            \n",
      " PRC_ACCEPTS_TK             | 0.0                                                                            \n",
      " PRC_ACCEPTS_A_MTP          | 0.0                                                                            \n",
      " REST_DYNAMIC_FDEP_1M       | 0.0                                                                            \n",
      " CNT_TRAN_AUT_TENDENCY3M    | 0.0                                                                            \n",
      " CNT_ACCEPTS_TK             | 0.0                                                                            \n",
      " REST_DYNAMIC_SAVE_3M       | 0.0                                                                            \n",
      " CR_PROD_CNT_VCU            | 0                                                                              \n",
      " REST_AVG_CUR               | 0.0                                                                            \n",
      " CNT_TRAN_MED_TENDENCY1M    | 0.0                                                                            \n",
      " AMOUNT_RUB_NAS_PRC         | 0.0                                                                            \n",
      " TRANS_COUNT_SUP_PRC        | 0.0                                                                            \n",
      " CNT_TRAN_CLO_TENDENCY1M    | 0.0                                                                            \n",
      " SUM_TRAN_MED_TENDENCY1M    | 0.0                                                                            \n",
      " PRC_ACCEPTS_A_ATM          | 0.0                                                                            \n",
      " PRC_ACCEPTS_MTP            | 0.0                                                                            \n",
      " TRANS_COUNT_NAS_PRC        | 0.0                                                                            \n",
      " CNT_ACCEPTS_MTP            | 0.0                                                                            \n",
      " CR_PROD_CNT_TOVR           | 0                                                                              \n",
      " CR_PROD_CNT_PIL            | 0                                                                              \n",
      " SUM_TRAN_CLO_TENDENCY1M    | 0.0                                                                            \n",
      " TURNOVER_CC                | 0.0                                                                            \n",
      " TRANS_COUNT_ATM_PRC        | 0.0                                                                            \n",
      " AMOUNT_RUB_ATM_PRC         | 0.0                                                                            \n",
      " TURNOVER_PAYM              | 0.0                                                                            \n",
      " AGE                        | 240                                                                            \n",
      " CNT_TRAN_MED_TENDENCY3M    | 0.0                                                                            \n",
      " CR_PROD_CNT_CC             | 0                                                                              \n",
      " SUM_TRAN_MED_TENDENCY3M    | 0.0                                                                            \n",
      " REST_DYNAMIC_FDEP_3M       | 0.0                                                                            \n",
      " REST_DYNAMIC_IL_1M         | 0.0                                                                            \n",
      " SUM_TRAN_CLO_TENDENCY3M    | 0.0                                                                            \n",
      " LDEAL_TENOR_MAX            | 0.0                                                                            \n",
      " LDEAL_YQZ_CHRG             | 0.0                                                                            \n",
      " CR_PROD_CNT_CCFP           | 0                                                                              \n",
      " DEAL_YQZ_IR_MAX            | 0.0                                                                            \n",
      " LDEAL_YQZ_COM              | 0.0                                                                            \n",
      " DEAL_YQZ_IR_MIN            | 0.0                                                                            \n",
      " CNT_TRAN_CLO_TENDENCY3M    | 0.0                                                                            \n",
      " REST_DYNAMIC_CUR_1M        | 0.0                                                                            \n",
      " REST_AVG_PAYM              | 15504.14                                                                       \n",
      " LDEAL_TENOR_MIN            | 0.0                                                                            \n",
      " LDEAL_AMT_MONTH            | 0.0                                                                            \n",
      " LDEAL_GRACE_DAYS_PCT_MED   | 0.0                                                                            \n",
      " REST_DYNAMIC_CUR_3M        | 0.0                                                                            \n",
      " CNT_TRAN_SUP_TENDENCY3M    | 0.0                                                                            \n",
      " TURNOVER_DYNAMIC_CUR_1M    | 0.0                                                                            \n",
      " REST_DYNAMIC_PAYM_3M       | 0.5                                                                            \n",
      " SUM_TRAN_SUP_TENDENCY3M    | 0.0                                                                            \n",
      " REST_DYNAMIC_IL_3M         | 0.0                                                                            \n",
      " CNT_TRAN_ATM_TENDENCY3M    | 0.0                                                                            \n",
      " CNT_TRAN_ATM_TENDENCY1M    | 0.0                                                                            \n",
      " TURNOVER_DYNAMIC_IL_3M     | 0.0                                                                            \n",
      " SUM_TRAN_ATM_TENDENCY3M    | 0.0                                                                            \n",
      " DEAL_GRACE_DAYS_ACC_S1X1   | 0.0                                                                            \n",
      " AVG_PCT_MONTH_TO_PCLOSE    | 0.0                                                                            \n",
      " DEAL_YWZ_IR_MIN            | 0.0                                                                            \n",
      " SUM_TRAN_SUP_TENDENCY1M    | 0.0                                                                            \n",
      " DEAL_YWZ_IR_MAX            | 0.0                                                                            \n",
      " SUM_TRAN_ATM_TENDENCY1M    | 0.0                                                                            \n",
      " REST_DYNAMIC_PAYM_1M       | 0.166666666666667                                                              \n",
      " CNT_TRAN_SUP_TENDENCY1M    | 0.0                                                                            \n",
      " DEAL_GRACE_DAYS_ACC_AVG    | 0.0                                                                            \n",
      " TURNOVER_DYNAMIC_CUR_3M    | 0.0                                                                            \n",
      " MAX_PCLOSE_DATE            | 0.0                                                                            \n",
      " LDEAL_YQZ_PC               | 0.0                                                                            \n",
      " CLNT_SETUP_TENOR           | 3.98818417712067                                                               \n",
      " DEAL_GRACE_DAYS_ACC_MAX    | 0.0                                                                            \n",
      " TURNOVER_DYNAMIC_PAYM_3M   | 0.0                                                                            \n",
      " LDEAL_DELINQ_PER_MAXYQZ    | 0.0                                                                            \n",
      " TURNOVER_DYNAMIC_PAYM_1M   | 0.0                                                                            \n",
      " CLNT_SALARY_VALUE          | 0.0                                                                            \n",
      " TRANS_AMOUNT_TENDENCY3M    | 0.0                                                                            \n",
      " MED_DEBT_PRC_YQZ           | 0.0                                                                            \n",
      " TRANS_CNT_TENDENCY3M       | 0.0                                                                            \n",
      " LDEAL_USED_AMT_AVG_YQZ     | 0.0                                                                            \n",
      " REST_DYNAMIC_CC_1M         | 0.0                                                                            \n",
      " LDEAL_USED_AMT_AVG_YWZ     | 0.0                                                                            \n",
      " TURNOVER_DYNAMIC_CC_1M     | 0.0                                                                            \n",
      " AVG_PCT_DEBT_TO_DEAL_AMT   | 0.0                                                                            \n",
      " LDEAL_ACT_DAYS_ACC_PCT_AVG | 0.0                                                                            \n",
      " REST_DYNAMIC_CC_3M         | 0.0                                                                            \n",
      " MED_DEBT_PRC_YWZ           | 0.0                                                                            \n",
      " LDEAL_ACT_DAYS_PCT_TR3     | 0.0                                                                            \n",
      " LDEAL_ACT_DAYS_PCT_AAVG    | 0.0                                                                            \n",
      " LDEAL_DELINQ_PER_MAXYWZ    | 0.0                                                                            \n",
      " TURNOVER_DYNAMIC_CC_3M     | 0.0                                                                            \n",
      " LDEAL_ACT_DAYS_PCT_TR      | 0.0                                                                            \n",
      " LDEAL_ACT_DAYS_PCT_TR4     | 0.0                                                                            \n",
      " LDEAL_ACT_DAYS_PCT_CURR    | 0.0                                                                            \n",
      " TARGET                     | 0                                                                              \n",
      " features                   | (101,[36,51,58,71,77],[240.0,15504.14,0.5,0.166666666666667,3.98818417712067]) \n",
      "only showing top 1 row\n",
      "\n"
     ]
    }
   ],
   "source": [
    "trainDfCleaned.show(1, 0, true)"
   ]
  },
  {
   "cell_type": "code",
   "execution_count": 33,
   "metadata": {},
   "outputs": [
    {
     "data": {
      "text/plain": [
       "randomForestModel = RandomForestClassificationModel (uid=rfc_997200060609) with 30 trees\n"
      ]
     },
     "metadata": {},
     "output_type": "display_data"
    },
    {
     "data": {
      "text/plain": [
       "RandomForestClassificationModel (uid=rfc_997200060609) with 30 trees"
      ]
     },
     "execution_count": 33,
     "metadata": {},
     "output_type": "execute_result"
    }
   ],
   "source": [
    "// Train RandomForest\n",
    "// val randomForestModel = new RandomForestClassifier()\n",
    "//     .setLabelCol(\"TARGET\")\n",
    "//     .setFeaturesCol(\"features\")\n",
    "//     .setSeed(42)\n",
    "//     .setNumTrees(30)\n",
    "//     .fit(trainDfCleaned)"
   ]
  },
  {
   "cell_type": "code",
   "execution_count": 34,
   "metadata": {
    "collapsed": true
   },
   "outputs": [
    {
     "name": "stdout",
     "output_type": "stream",
     "text": [
      "+------+--------------------+--------------------+--------------------+----------+\n",
      "|TARGET|            features|       rawPrediction|         probability|prediction|\n",
      "+------+--------------------+--------------------+--------------------+----------+\n",
      "|     0|(101,[36,51,58,71...|[27.1475073068187...|[0.90491691022729...|       0.0|\n",
      "|     0|(101,[36,51,58,71...|[27.1762726955721...|[0.90587575651907...|       0.0|\n",
      "|     0|(101,[36,51,58,71...|[27.1762726955721...|[0.90587575651907...|       0.0|\n",
      "|     0|(101,[36,51,58,71...|[27.1475073068187...|[0.90491691022729...|       0.0|\n",
      "|     0|(101,[36,51,58,71...|[27.1475073068187...|[0.90491691022729...|       0.0|\n",
      "+------+--------------------+--------------------+--------------------+----------+\n",
      "only showing top 5 rows\n",
      "\n"
     ]
    },
    {
     "data": {
      "text/plain": [
       "predictions = [CR_PROD_CNT_IL: int, AMOUNT_RUB_CLO_PRC: double ... 104 more fields]\n"
      ]
     },
     "metadata": {},
     "output_type": "display_data"
    },
    {
     "data": {
      "text/plain": [
       "[CR_PROD_CNT_IL: int, AMOUNT_RUB_CLO_PRC: double ... 104 more fields]"
      ]
     },
     "execution_count": 34,
     "metadata": {},
     "output_type": "execute_result"
    }
   ],
   "source": [
    "// val predictions = randomForestModel.transform(\n",
    "//     vectorAssembler.transform(trainDfTest)\n",
    "// ).cache\n",
    "\n",
    "// predictions\n",
    "//     .select(\n",
    "//         \"TARGET\",\n",
    "//         \"features\",\n",
    "//         \"rawPrediction\",\n",
    "//         \"probability\",\n",
    "//         \"prediction\"\n",
    "//     )\n",
    "//     .show(5)"
   ]
  },
  {
   "cell_type": "code",
   "execution_count": 40,
   "metadata": {},
   "outputs": [
    {
     "name": "stdout",
     "output_type": "stream",
     "text": [
      "+------+--------------------+--------------------+--------------------+----------+\n",
      "|TARGET|            features|       rawPrediction|         probability|prediction|\n",
      "+------+--------------------+--------------------+--------------------+----------+\n",
      "|     0|(101,[36,51,58,71...|[1.23015262750714...|[0.92131179555647...|       0.0|\n",
      "|     0|(101,[36,51,58,71...|[1.23015262750714...|[0.92131179555647...|       0.0|\n",
      "|     0|(101,[36,51,58,71...|[1.23015262750714...|[0.92131179555647...|       0.0|\n",
      "|     0|(101,[36,51,58,71...|[1.23015262750714...|[0.92131179555647...|       0.0|\n",
      "|     0|(101,[36,51,58,71...|[1.23015262750714...|[0.92131179555647...|       0.0|\n",
      "+------+--------------------+--------------------+--------------------+----------+\n",
      "only showing top 5 rows\n",
      "\n"
     ]
    },
    {
     "data": {
      "text/plain": [
       "gbt = GBTClassificationModel (uid=gbtc_15163583b606) with 10 trees\n",
       "predictions = [CR_PROD_CNT_IL: int, AMOUNT_RUB_CLO_PRC: double ... 104 more fields]\n"
      ]
     },
     "metadata": {},
     "output_type": "display_data"
    },
    {
     "data": {
      "text/plain": [
       "[CR_PROD_CNT_IL: int, AMOUNT_RUB_CLO_PRC: double ... 104 more fields]"
      ]
     },
     "execution_count": 40,
     "metadata": {},
     "output_type": "execute_result"
    }
   ],
   "source": [
    "val gbt = new GBTClassifier()\n",
    "    .setLabelCol(\"TARGET\")\n",
    "    .setFeaturesCol(\"features\")\n",
    "    .setMaxIter(10)\n",
    "    .setFeatureSubsetStrategy(\"auto\")\n",
    "    .fit(trainDfCleaned)\n",
    "\n",
    "val predictions = gbt.transform(\n",
    "    vectorAssembler.transform(trainDfTest)\n",
    "    ).cache\n",
    "\n",
    "predictions.select(\"TARGET\",\"features\",\"rawPrediction\",\"probability\",\"prediction\").show(5)"
   ]
  },
  {
   "cell_type": "code",
   "execution_count": 41,
   "metadata": {},
   "outputs": [
    {
     "name": "stdout",
     "output_type": "stream",
     "text": [
      "-RECORD 0-----------------------------------------------\n",
      " probability | [0.9213117955564707,0.07868820444352931] \n",
      "only showing top 1 row\n",
      "\n"
     ]
    }
   ],
   "source": [
    "predictions\n",
    "    .select(\n",
    "        \"probability\"\n",
    "    )\n",
    "    .show(1, 0, true)"
   ]
  },
  {
   "cell_type": "code",
   "execution_count": 42,
   "metadata": {},
   "outputs": [
    {
     "name": "stdout",
     "output_type": "stream",
     "text": [
      "root\n",
      " |-- probability: vector (nullable = true)\n",
      "\n"
     ]
    }
   ],
   "source": [
    "predictions.select(\"probability\").printSchema()"
   ]
  },
  {
   "cell_type": "code",
   "execution_count": 43,
   "metadata": {},
   "outputs": [
    {
     "data": {
      "text/plain": [
       "vectorToArrayUdf = UserDefinedFunction(<function1>,ArrayType(DoubleType,false),None)\n"
      ]
     },
     "metadata": {},
     "output_type": "display_data"
    },
    {
     "data": {
      "text/plain": [
       "import org.apache.spark.mllib.linalg.{Vector=>OldVector}\n"
      ]
     },
     "metadata": {},
     "output_type": "display_data"
    },
    {
     "data": {
      "text/plain": [
       "UserDefinedFunction(<function1>,ArrayType(DoubleType,false),None)"
      ]
     },
     "execution_count": 43,
     "metadata": {},
     "output_type": "execute_result"
    }
   ],
   "source": [
    "import org.apache.spark.ml.linalg.{SparseVector, Vector}\n",
    "import org.apache.spark.mllib.linalg.{Vector => OldVector}\n",
    "\n",
    "val vectorToArrayUdf = udf { vec: Any =>\n",
    "    vec match {\n",
    "      case v: Vector => v.toArray\n",
    "      case v: OldVector => v.toArray\n",
    "      case v => throw new IllegalArgumentException(\n",
    "        \"function vector_to_array requires a non-null input argument and input type must be \" +\n",
    "        \"`org.apache.spark.ml.linalg.Vector` or `org.apache.spark.mllib.linalg.Vector`, \" +\n",
    "        s\"but got ${ if (v == null) \"null\" else v.getClass.getName }.\")\n",
    "    }\n",
    "  }.asNonNullable()"
   ]
  },
  {
   "cell_type": "code",
   "execution_count": 44,
   "metadata": {},
   "outputs": [
    {
     "name": "stdout",
     "output_type": "stream",
     "text": [
      "+----------------------+\n",
      "|prediction_probability|\n",
      "+----------------------+\n",
      "|   0.07868820444352931|\n",
      "|   0.07868820444352931|\n",
      "|   0.07868820444352931|\n",
      "|   0.07868820444352931|\n",
      "|   0.07868820444352931|\n",
      "+----------------------+\n",
      "only showing top 5 rows\n",
      "\n"
     ]
    }
   ],
   "source": [
    "predictions\n",
    "    .select(vectorToArrayUdf(col(\"probability\")).getItem(1).alias(\"prediction_probability\"))\n",
    "    .show(5)"
   ]
  },
  {
   "cell_type": "code",
   "execution_count": 21,
   "metadata": {},
   "outputs": [],
   "source": [
    "import org.apache.spark.ml.evaluation.BinaryClassificationEvaluator"
   ]
  },
  {
   "cell_type": "code",
   "execution_count": 45,
   "metadata": {},
   "outputs": [
    {
     "data": {
      "text/plain": [
       "evaluator = binEval_1b94ece8ab3d\n",
       "accuracy = 0.8141813336716156\n"
      ]
     },
     "metadata": {},
     "output_type": "display_data"
    },
    {
     "data": {
      "text/plain": [
       "0.8141813336716156"
      ]
     },
     "execution_count": 45,
     "metadata": {},
     "output_type": "execute_result"
    }
   ],
   "source": [
    "val evaluator = new BinaryClassificationEvaluator()\n",
    "    .setLabelCol(\"TARGET\")\n",
    "    .setRawPredictionCol(\"prediction\")\n",
    "    .setMetricName(\"areaUnderROC\")\n",
    "\n",
    "val accuracy = evaluator\n",
    "    .evaluate(\n",
    "        predictions.withColumn(\"prediction\", vectorToArrayUdf(col(\"probability\")).getItem(1))\n",
    "    )\n"
   ]
  },
  {
   "cell_type": "markdown",
   "metadata": {},
   "source": [
    "# Predict"
   ]
  },
  {
   "cell_type": "code",
   "execution_count": 27,
   "metadata": {
    "scrolled": true
   },
   "outputs": [
    {
     "name": "stdout",
     "output_type": "stream",
     "text": [
      "-RECORD 0-----------------------------------------\n",
      " _c0                         | 372289             \n",
      " ID                          | 519130             \n",
      " CR_PROD_CNT_IL              | 0                  \n",
      " AMOUNT_RUB_CLO_PRC          | 0.0                \n",
      " PRC_ACCEPTS_A_EMAIL_LINK    | 0.0                \n",
      " APP_REGISTR_RGN_CODE        | 0.0                \n",
      " PRC_ACCEPTS_A_POS           | 0.0                \n",
      " PRC_ACCEPTS_A_TK            | 0.0                \n",
      " TURNOVER_DYNAMIC_IL_1M      | 0.0                \n",
      " CNT_TRAN_AUT_TENDENCY1M     | 0.0                \n",
      " SUM_TRAN_AUT_TENDENCY1M     | 0.0                \n",
      " AMOUNT_RUB_SUP_PRC          | 0.0                \n",
      " PRC_ACCEPTS_A_AMOBILE       | 0.0                \n",
      " SUM_TRAN_AUT_TENDENCY3M     | 0.0                \n",
      " CLNT_TRUST_RELATION         | null               \n",
      " PRC_ACCEPTS_TK              | 0.0                \n",
      " PRC_ACCEPTS_A_MTP           | 0.0                \n",
      " REST_DYNAMIC_FDEP_1M        | 0.0                \n",
      " CNT_TRAN_AUT_TENDENCY3M     | 0.0                \n",
      " CNT_ACCEPTS_TK              | 0.0                \n",
      " APP_MARITAL_STATUS          | null               \n",
      " REST_DYNAMIC_SAVE_3M        | 1.0                \n",
      " CR_PROD_CNT_VCU             | 0                  \n",
      " REST_AVG_CUR                | 13916.8191         \n",
      " CNT_TRAN_MED_TENDENCY1M     | 0.0                \n",
      " APP_KIND_OF_PROP_HABITATION | null               \n",
      " CLNT_JOB_POSITION_TYPE      | null               \n",
      " AMOUNT_RUB_NAS_PRC          | 0.0                \n",
      " CLNT_JOB_POSITION           | null               \n",
      " APP_DRIVING_LICENSE         | null               \n",
      " TRANS_COUNT_SUP_PRC         | 0.0                \n",
      " APP_EDUCATION               | null               \n",
      " CNT_TRAN_CLO_TENDENCY1M     | 0.0                \n",
      " SUM_TRAN_MED_TENDENCY1M     | 0.0                \n",
      " PRC_ACCEPTS_A_ATM           | 0.0                \n",
      " PRC_ACCEPTS_MTP             | 0.0                \n",
      " TRANS_COUNT_NAS_PRC         | 0.0                \n",
      " APP_TRAVEL_PASS             | null               \n",
      " CNT_ACCEPTS_MTP             | 0.0                \n",
      " CR_PROD_CNT_TOVR            | 0                  \n",
      " APP_CAR                     | null               \n",
      " CR_PROD_CNT_PIL             | 0                  \n",
      " SUM_TRAN_CLO_TENDENCY1M     | 0.0                \n",
      " APP_POSITION_TYPE           | null               \n",
      " TURNOVER_CC                 | 0.0                \n",
      " TRANS_COUNT_ATM_PRC         | 1.0                \n",
      " AMOUNT_RUB_ATM_PRC          | 1.0                \n",
      " TURNOVER_PAYM               | 0.0                \n",
      " AGE                         | 240                \n",
      " CNT_TRAN_MED_TENDENCY3M     | 0.0                \n",
      " CR_PROD_CNT_CC              | 0                  \n",
      " SUM_TRAN_MED_TENDENCY3M     | 0.0                \n",
      " REST_DYNAMIC_FDEP_3M        | 0.0                \n",
      " REST_DYNAMIC_IL_1M          | 0.0                \n",
      " APP_EMP_TYPE                | null               \n",
      " SUM_TRAN_CLO_TENDENCY3M     | 0.0                \n",
      " LDEAL_TENOR_MAX             | 0.0                \n",
      " LDEAL_YQZ_CHRG              | 0.0                \n",
      " CR_PROD_CNT_CCFP            | 0                  \n",
      " DEAL_YQZ_IR_MAX             | 0.0                \n",
      " LDEAL_YQZ_COM               | 0.0                \n",
      " DEAL_YQZ_IR_MIN             | 0.0                \n",
      " CNT_TRAN_CLO_TENDENCY3M     | 0.0                \n",
      " REST_DYNAMIC_CUR_1M         | 0.479789155507046  \n",
      " REST_AVG_PAYM               | 0.0                \n",
      " LDEAL_TENOR_MIN             | 0.0                \n",
      " LDEAL_AMT_MONTH             | 0.0                \n",
      " APP_COMP_TYPE               | null               \n",
      " LDEAL_GRACE_DAYS_PCT_MED    | 0.0                \n",
      " REST_DYNAMIC_CUR_3M         | 1.0                \n",
      " CNT_TRAN_SUP_TENDENCY3M     | 0.0                \n",
      " TURNOVER_DYNAMIC_CUR_1M     | 0.6401123866394111 \n",
      " REST_DYNAMIC_PAYM_3M        | 0.0                \n",
      " SUM_TRAN_SUP_TENDENCY3M     | 0.0                \n",
      " REST_DYNAMIC_IL_3M          | 0.0                \n",
      " CNT_TRAN_ATM_TENDENCY3M     | 1.0                \n",
      " CNT_TRAN_ATM_TENDENCY1M     | 0.0                \n",
      " TURNOVER_DYNAMIC_IL_3M      | 0.0                \n",
      " SUM_TRAN_ATM_TENDENCY3M     | 1.0                \n",
      " DEAL_GRACE_DAYS_ACC_S1X1    | 0.0                \n",
      " AVG_PCT_MONTH_TO_PCLOSE     | 0.0                \n",
      " DEAL_YWZ_IR_MIN             | 0.0                \n",
      " SUM_TRAN_SUP_TENDENCY1M     | 0.0                \n",
      " DEAL_YWZ_IR_MAX             | 0.0                \n",
      " SUM_TRAN_ATM_TENDENCY1M     | 0.0                \n",
      " REST_DYNAMIC_PAYM_1M        | 0.0                \n",
      " CNT_TRAN_SUP_TENDENCY1M     | 0.0                \n",
      " DEAL_GRACE_DAYS_ACC_AVG     | 0.0                \n",
      " TURNOVER_DYNAMIC_CUR_3M     | 1.0                \n",
      " PACK                        | K01                \n",
      " MAX_PCLOSE_DATE             | 0.0                \n",
      " LDEAL_YQZ_PC                | 0.0                \n",
      " CLNT_SETUP_TENOR            | 0.5713989073078449 \n",
      " DEAL_GRACE_DAYS_ACC_MAX     | 0.0                \n",
      " TURNOVER_DYNAMIC_PAYM_3M    | 0.0                \n",
      " LDEAL_DELINQ_PER_MAXYQZ     | 0.0                \n",
      " TURNOVER_DYNAMIC_PAYM_1M    | 0.0                \n",
      " CLNT_SALARY_VALUE           | 0.0                \n",
      " TRANS_AMOUNT_TENDENCY3M     | 1.0                \n",
      " MED_DEBT_PRC_YQZ            | 0.0                \n",
      " TRANS_CNT_TENDENCY3M        | 1.0                \n",
      " LDEAL_USED_AMT_AVG_YQZ      | 0.0                \n",
      " REST_DYNAMIC_CC_1M          | 0.0                \n",
      " LDEAL_USED_AMT_AVG_YWZ      | 0.0                \n",
      " TURNOVER_DYNAMIC_CC_1M      | 0.0                \n",
      " AVG_PCT_DEBT_TO_DEAL_AMT    | 0.0                \n",
      " LDEAL_ACT_DAYS_ACC_PCT_AVG  | 0.0                \n",
      " REST_DYNAMIC_CC_3M          | 0.0                \n",
      " MED_DEBT_PRC_YWZ            | 0.0                \n",
      " LDEAL_ACT_DAYS_PCT_TR3      | 0.0                \n",
      " LDEAL_ACT_DAYS_PCT_AAVG     | 0.0                \n",
      " LDEAL_DELINQ_PER_MAXYWZ     | 0.0                \n",
      " TURNOVER_DYNAMIC_CC_3M      | 0.0                \n",
      " LDEAL_ACT_DAYS_PCT_TR       | 0.0                \n",
      " LDEAL_ACT_DAYS_PCT_TR4      | 0.0                \n",
      " LDEAL_ACT_DAYS_PCT_CURR     | 0.0                \n",
      "only showing top 1 row\n",
      "\n"
     ]
    },
    {
     "data": {
      "text/plain": [
       "testDfData = [_c0: int, ID: int ... 114 more fields]\n"
      ]
     },
     "metadata": {},
     "output_type": "display_data"
    },
    {
     "data": {
      "text/plain": [
       "lastException: Throwable = null\n"
      ]
     },
     "metadata": {},
     "output_type": "display_data"
    },
    {
     "data": {
      "text/plain": [
       "[_c0: int, ID: int ... 114 more fields]"
      ]
     },
     "execution_count": 27,
     "metadata": {},
     "output_type": "execute_result"
    }
   ],
   "source": [
    "// var testDfData = spark\n",
    "//     .read\n",
    "//     .format(\"csv\")\n",
    "//     .option(\"header\", true)\n",
    "//     .option(\"delimeter\",\",\")\n",
    "//     .option(\"inferSchema\", true)\n",
    "//     .load(test_path)\n",
    "// //     .drop(\"_c0\")\n",
    "//     .na.fill(0)\n",
    "//     .cache\n",
    "val testDfData = spark\n",
    "    .read\n",
    "    .option(\"header\", true)\n",
    "    .option(\"inferSchema\", true)\n",
    "    .csv(\"/user/zarina.kamytbaeva/lab05_test.csv\")\n",
    "    .na.fill(0)\n",
    "\n",
    "testDfData.show(1, 0, true)"
   ]
  },
  {
   "cell_type": "code",
   "execution_count": 46,
   "metadata": {},
   "outputs": [
    {
     "data": {
      "text/plain": [
       "realPredictions = [_c0: int, ID: int ... 118 more fields]\n"
      ]
     },
     "metadata": {},
     "output_type": "display_data"
    },
    {
     "data": {
      "text/plain": [
       "[_c0: int, ID: int ... 118 more fields]"
      ]
     },
     "execution_count": 46,
     "metadata": {},
     "output_type": "execute_result"
    }
   ],
   "source": [
    "// val realPredictions = randomForestModel.transform(vectorAssembler.transform(testDfData)).cache\n",
    "val realPredictions = gbt.transform(vectorAssembler.transform(testDfData)).cache"
   ]
  },
  {
   "cell_type": "code",
   "execution_count": 47,
   "metadata": {},
   "outputs": [
    {
     "name": "stdout",
     "output_type": "stream",
     "text": [
      "-RECORD 0---------------------------------------------------------------------------------------------------------------------------------------------------------------------------------------\n",
      " _c0                         | 372289                                                                                                                                                           \n",
      " ID                          | 519130                                                                                                                                                           \n",
      " CR_PROD_CNT_IL              | 0                                                                                                                                                                \n",
      " AMOUNT_RUB_CLO_PRC          | 0.0                                                                                                                                                              \n",
      " PRC_ACCEPTS_A_EMAIL_LINK    | 0.0                                                                                                                                                              \n",
      " APP_REGISTR_RGN_CODE        | 0.0                                                                                                                                                              \n",
      " PRC_ACCEPTS_A_POS           | 0.0                                                                                                                                                              \n",
      " PRC_ACCEPTS_A_TK            | 0.0                                                                                                                                                              \n",
      " TURNOVER_DYNAMIC_IL_1M      | 0.0                                                                                                                                                              \n",
      " CNT_TRAN_AUT_TENDENCY1M     | 0.0                                                                                                                                                              \n",
      " SUM_TRAN_AUT_TENDENCY1M     | 0.0                                                                                                                                                              \n",
      " AMOUNT_RUB_SUP_PRC          | 0.0                                                                                                                                                              \n",
      " PRC_ACCEPTS_A_AMOBILE       | 0.0                                                                                                                                                              \n",
      " SUM_TRAN_AUT_TENDENCY3M     | 0.0                                                                                                                                                              \n",
      " CLNT_TRUST_RELATION         | null                                                                                                                                                             \n",
      " PRC_ACCEPTS_TK              | 0.0                                                                                                                                                              \n",
      " PRC_ACCEPTS_A_MTP           | 0.0                                                                                                                                                              \n",
      " REST_DYNAMIC_FDEP_1M        | 0.0                                                                                                                                                              \n",
      " CNT_TRAN_AUT_TENDENCY3M     | 0.0                                                                                                                                                              \n",
      " CNT_ACCEPTS_TK              | 0.0                                                                                                                                                              \n",
      " APP_MARITAL_STATUS          | null                                                                                                                                                             \n",
      " REST_DYNAMIC_SAVE_3M        | 1.0                                                                                                                                                              \n",
      " CR_PROD_CNT_VCU             | 0                                                                                                                                                                \n",
      " REST_AVG_CUR                | 13916.8191                                                                                                                                                       \n",
      " CNT_TRAN_MED_TENDENCY1M     | 0.0                                                                                                                                                              \n",
      " APP_KIND_OF_PROP_HABITATION | null                                                                                                                                                             \n",
      " CLNT_JOB_POSITION_TYPE      | null                                                                                                                                                             \n",
      " AMOUNT_RUB_NAS_PRC          | 0.0                                                                                                                                                              \n",
      " CLNT_JOB_POSITION           | null                                                                                                                                                             \n",
      " APP_DRIVING_LICENSE         | null                                                                                                                                                             \n",
      " TRANS_COUNT_SUP_PRC         | 0.0                                                                                                                                                              \n",
      " APP_EDUCATION               | null                                                                                                                                                             \n",
      " CNT_TRAN_CLO_TENDENCY1M     | 0.0                                                                                                                                                              \n",
      " SUM_TRAN_MED_TENDENCY1M     | 0.0                                                                                                                                                              \n",
      " PRC_ACCEPTS_A_ATM           | 0.0                                                                                                                                                              \n",
      " PRC_ACCEPTS_MTP             | 0.0                                                                                                                                                              \n",
      " TRANS_COUNT_NAS_PRC         | 0.0                                                                                                                                                              \n",
      " APP_TRAVEL_PASS             | null                                                                                                                                                             \n",
      " CNT_ACCEPTS_MTP             | 0.0                                                                                                                                                              \n",
      " CR_PROD_CNT_TOVR            | 0                                                                                                                                                                \n",
      " APP_CAR                     | null                                                                                                                                                             \n",
      " CR_PROD_CNT_PIL             | 0                                                                                                                                                                \n",
      " SUM_TRAN_CLO_TENDENCY1M     | 0.0                                                                                                                                                              \n",
      " APP_POSITION_TYPE           | null                                                                                                                                                             \n",
      " TURNOVER_CC                 | 0.0                                                                                                                                                              \n",
      " TRANS_COUNT_ATM_PRC         | 1.0                                                                                                                                                              \n",
      " AMOUNT_RUB_ATM_PRC          | 1.0                                                                                                                                                              \n",
      " TURNOVER_PAYM               | 0.0                                                                                                                                                              \n",
      " AGE                         | 240                                                                                                                                                              \n",
      " CNT_TRAN_MED_TENDENCY3M     | 0.0                                                                                                                                                              \n",
      " CR_PROD_CNT_CC              | 0                                                                                                                                                                \n",
      " SUM_TRAN_MED_TENDENCY3M     | 0.0                                                                                                                                                              \n",
      " REST_DYNAMIC_FDEP_3M        | 0.0                                                                                                                                                              \n",
      " REST_DYNAMIC_IL_1M          | 0.0                                                                                                                                                              \n",
      " APP_EMP_TYPE                | null                                                                                                                                                             \n",
      " SUM_TRAN_CLO_TENDENCY3M     | 0.0                                                                                                                                                              \n",
      " LDEAL_TENOR_MAX             | 0.0                                                                                                                                                              \n",
      " LDEAL_YQZ_CHRG              | 0.0                                                                                                                                                              \n",
      " CR_PROD_CNT_CCFP            | 0                                                                                                                                                                \n",
      " DEAL_YQZ_IR_MAX             | 0.0                                                                                                                                                              \n",
      " LDEAL_YQZ_COM               | 0.0                                                                                                                                                              \n",
      " DEAL_YQZ_IR_MIN             | 0.0                                                                                                                                                              \n",
      " CNT_TRAN_CLO_TENDENCY3M     | 0.0                                                                                                                                                              \n",
      " REST_DYNAMIC_CUR_1M         | 0.479789155507046                                                                                                                                                \n",
      " REST_AVG_PAYM               | 0.0                                                                                                                                                              \n",
      " LDEAL_TENOR_MIN             | 0.0                                                                                                                                                              \n",
      " LDEAL_AMT_MONTH             | 0.0                                                                                                                                                              \n",
      " APP_COMP_TYPE               | null                                                                                                                                                             \n",
      " LDEAL_GRACE_DAYS_PCT_MED    | 0.0                                                                                                                                                              \n",
      " REST_DYNAMIC_CUR_3M         | 1.0                                                                                                                                                              \n",
      " CNT_TRAN_SUP_TENDENCY3M     | 0.0                                                                                                                                                              \n",
      " TURNOVER_DYNAMIC_CUR_1M     | 0.6401123866394111                                                                                                                                               \n",
      " REST_DYNAMIC_PAYM_3M        | 0.0                                                                                                                                                              \n",
      " SUM_TRAN_SUP_TENDENCY3M     | 0.0                                                                                                                                                              \n",
      " REST_DYNAMIC_IL_3M          | 0.0                                                                                                                                                              \n",
      " CNT_TRAN_ATM_TENDENCY3M     | 1.0                                                                                                                                                              \n",
      " CNT_TRAN_ATM_TENDENCY1M     | 0.0                                                                                                                                                              \n",
      " TURNOVER_DYNAMIC_IL_3M      | 0.0                                                                                                                                                              \n",
      " SUM_TRAN_ATM_TENDENCY3M     | 1.0                                                                                                                                                              \n",
      " DEAL_GRACE_DAYS_ACC_S1X1    | 0.0                                                                                                                                                              \n",
      " AVG_PCT_MONTH_TO_PCLOSE     | 0.0                                                                                                                                                              \n",
      " DEAL_YWZ_IR_MIN             | 0.0                                                                                                                                                              \n",
      " SUM_TRAN_SUP_TENDENCY1M     | 0.0                                                                                                                                                              \n",
      " DEAL_YWZ_IR_MAX             | 0.0                                                                                                                                                              \n",
      " SUM_TRAN_ATM_TENDENCY1M     | 0.0                                                                                                                                                              \n",
      " REST_DYNAMIC_PAYM_1M        | 0.0                                                                                                                                                              \n",
      " CNT_TRAN_SUP_TENDENCY1M     | 0.0                                                                                                                                                              \n",
      " DEAL_GRACE_DAYS_ACC_AVG     | 0.0                                                                                                                                                              \n",
      " TURNOVER_DYNAMIC_CUR_3M     | 1.0                                                                                                                                                              \n",
      " PACK                        | K01                                                                                                                                                              \n",
      " MAX_PCLOSE_DATE             | 0.0                                                                                                                                                              \n",
      " LDEAL_YQZ_PC                | 0.0                                                                                                                                                              \n",
      " CLNT_SETUP_TENOR            | 0.5713989073078449                                                                                                                                               \n",
      " DEAL_GRACE_DAYS_ACC_MAX     | 0.0                                                                                                                                                              \n",
      " TURNOVER_DYNAMIC_PAYM_3M    | 0.0                                                                                                                                                              \n",
      " LDEAL_DELINQ_PER_MAXYQZ     | 0.0                                                                                                                                                              \n",
      " TURNOVER_DYNAMIC_PAYM_1M    | 0.0                                                                                                                                                              \n",
      " CLNT_SALARY_VALUE           | 0.0                                                                                                                                                              \n",
      " TRANS_AMOUNT_TENDENCY3M     | 1.0                                                                                                                                                              \n",
      " MED_DEBT_PRC_YQZ            | 0.0                                                                                                                                                              \n",
      " TRANS_CNT_TENDENCY3M        | 1.0                                                                                                                                                              \n",
      " LDEAL_USED_AMT_AVG_YQZ      | 0.0                                                                                                                                                              \n",
      " REST_DYNAMIC_CC_1M          | 0.0                                                                                                                                                              \n",
      " LDEAL_USED_AMT_AVG_YWZ      | 0.0                                                                                                                                                              \n",
      " TURNOVER_DYNAMIC_CC_1M      | 0.0                                                                                                                                                              \n",
      " AVG_PCT_DEBT_TO_DEAL_AMT    | 0.0                                                                                                                                                              \n",
      " LDEAL_ACT_DAYS_ACC_PCT_AVG  | 0.0                                                                                                                                                              \n",
      " REST_DYNAMIC_CC_3M          | 0.0                                                                                                                                                              \n",
      " MED_DEBT_PRC_YWZ            | 0.0                                                                                                                                                              \n",
      " LDEAL_ACT_DAYS_PCT_TR3      | 0.0                                                                                                                                                              \n",
      " LDEAL_ACT_DAYS_PCT_AAVG     | 0.0                                                                                                                                                              \n",
      " LDEAL_DELINQ_PER_MAXYWZ     | 0.0                                                                                                                                                              \n",
      " TURNOVER_DYNAMIC_CC_3M      | 0.0                                                                                                                                                              \n",
      " LDEAL_ACT_DAYS_PCT_TR       | 0.0                                                                                                                                                              \n",
      " LDEAL_ACT_DAYS_PCT_TR4      | 0.0                                                                                                                                                              \n",
      " LDEAL_ACT_DAYS_PCT_CURR     | 0.0                                                                                                                                                              \n",
      " features                    | (101,[17,19,33,34,36,50,55,57,61,64,74,77,83,85],[1.0,13916.8191,1.0,1.0,240.0,0.479789155507046,1.0,0.6401123866394111,1.0,1.0,1.0,0.5713989073078449,1.0,1.0]) \n",
      " rawPrediction               | [0.8180697201863786,-0.8180697201863786]                                                                                                                         \n",
      " probability                 | [0.8370089456771348,0.1629910543228652]                                                                                                                          \n",
      " prediction                  | 0.0                                                                                                                                                              \n",
      "only showing top 1 row\n",
      "\n"
     ]
    }
   ],
   "source": [
    "realPredictions.show(1, 0, true)"
   ]
  },
  {
   "cell_type": "code",
   "execution_count": 48,
   "metadata": {},
   "outputs": [
    {
     "name": "stdout",
     "output_type": "stream",
     "text": [
      "+------+-------------------+\n",
      "|    ID|         prediction|\n",
      "+------+-------------------+\n",
      "|519130| 0.1629910543228652|\n",
      "|234045|0.07132903256005285|\n",
      "|401256|0.07052035564108927|\n",
      "|551070|0.09444326819568993|\n",
      "|367285|0.07149831634645698|\n",
      "+------+-------------------+\n",
      "only showing top 5 rows\n",
      "\n"
     ]
    }
   ],
   "source": [
    "realPredictions\n",
    "    .withColumn(\"prediction\", vectorToArrayUdf(col(\"probability\")).getItem(1))\n",
    "    .select(\"ID\", \"prediction\")\n",
    "    .show(5)"
   ]
  },
  {
   "cell_type": "code",
   "execution_count": 49,
   "metadata": {},
   "outputs": [],
   "source": [
    "realPredictions\n",
    "    .withColumn(\"prediction\", vectorToArrayUdf(col(\"probability\")).getItem(1))\n",
    "    .select(\"ID\", \"prediction\")\n",
    "    .withColumnRenamed(\"ID\", \"id\")\n",
    "    .withColumnRenamed(\"prediction\", \"target\")\n",
    "    .coalesce(1)\n",
    "    .write\n",
    "    .option(\"header\", \"true\")\n",
    "    .mode(\"overwrite\")\n",
    "    .format(\"csv\")\n",
    "    .option(\"sep\" ,\"\\t\")\n",
    "    .save(\"lab05.csv\")"
   ]
  },
  {
   "cell_type": "code",
   "execution_count": 1,
   "metadata": {},
   "outputs": [
    {
     "data": {
      "text/plain": [
       "Waiting for a Spark session to start..."
      ]
     },
     "metadata": {},
     "output_type": "display_data"
    }
   ],
   "source": [
    "spark.stop()"
   ]
  },
  {
   "cell_type": "code",
   "execution_count": null,
   "metadata": {},
   "outputs": [],
   "source": []
  },
  {
   "cell_type": "code",
   "execution_count": null,
   "metadata": {},
   "outputs": [],
   "source": []
  }
 ],
 "metadata": {
  "kernelspec": {
   "display_name": "Apache Toree - Scala",
   "language": "scala",
   "name": "apache_toree_scala"
  },
  "language_info": {
   "codemirror_mode": "text/x-scala",
   "file_extension": ".scala",
   "mimetype": "text/x-scala",
   "name": "scala",
   "pygments_lexer": "scala",
   "version": "2.11.12"
  }
 },
 "nbformat": 4,
 "nbformat_minor": 2
}
