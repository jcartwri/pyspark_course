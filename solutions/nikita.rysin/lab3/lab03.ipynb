{
 "cells": [
  {
   "cell_type": "code",
   "execution_count": 2,
   "metadata": {},
   "outputs": [],
   "source": [
    "import os\n",
    "import sys\n",
    "os.environ[\"PYSPARK_PYTHON\"]='/opt/anaconda/envs/bd9/bin/python'\n",
    "os.environ[\"SPARK_HOME\"]='/usr/hdp/current/spark2-client'\n",
    "os.environ[\"PYSPARK_SUBMIT_ARGS\"]='--num-executors 3 pyspark-shell'\n",
    "\n",
    "spark_home = os.environ.get('SPARK_HOME', None)\n",
    "sys.path.insert(0, os.path.join(spark_home, 'python'))\n",
    "sys.path.insert(0, os.path.join(spark_home, 'python/lib/py4j-0.10.7-src.zip'))"
   ]
  },
  {
   "cell_type": "code",
   "execution_count": null,
   "metadata": {},
   "outputs": [],
   "source": [
    "from pyspark import SparkConf\n",
    "from pyspark.sql import SparkSession\n",
    "from pyspark.sql.types import *\n",
    "import pyspark.sql.functions as f"
   ]
  },
  {
   "cell_type": "code",
   "execution_count": null,
   "metadata": {},
   "outputs": [],
   "source": [
    "from pyspark.ml import Pipeline, Transformer, Estimator"
   ]
  },
  {
   "cell_type": "code",
   "execution_count": null,
   "metadata": {},
   "outputs": [],
   "source": [
    "from pyspark.sql.window import Window"
   ]
  },
  {
   "cell_type": "code",
   "execution_count": 54,
   "metadata": {},
   "outputs": [],
   "source": [
    "from pyspark.ml.feature import VectorAssembler, CountVectorizer"
   ]
  },
  {
   "cell_type": "code",
   "execution_count": 55,
   "metadata": {},
   "outputs": [],
   "source": [
    "from pyspark.ml.classification import GBTClassifier, LogisticRegression, MultilayerPerceptronClassificationModel"
   ]
  },
  {
   "cell_type": "code",
   "execution_count": 4,
   "metadata": {
    "scrolled": true
   },
   "outputs": [],
   "source": [
    "spark_config = SparkConf()\n",
    "spark = SparkSession.builder\\\n",
    "                    .config(conf=spark_config)\\\n",
    "                    .appName(\"rysin_lab03\")\\\n",
    "                    .getOrCreate()"
   ]
  },
  {
   "cell_type": "code",
   "execution_count": 5,
   "metadata": {
    "scrolled": true
   },
   "outputs": [
    {
     "name": "stdout",
     "output_type": "stream",
     "text": [
      "Found 4 items\r\n",
      "-rw-r--r--   3 hdfs hdfs   91066524 2021-02-27 22:12 /labs/slaba03/laba03_items.csv\r\n",
      "-rw-r--r--   3 hdfs hdfs   29965581 2021-02-27 22:12 /labs/slaba03/laba03_test.csv\r\n",
      "-rw-r--r--   3 hdfs hdfs   74949368 2021-02-27 22:12 /labs/slaba03/laba03_train.csv\r\n",
      "-rw-r--r--   3 hdfs hdfs  871302535 2021-02-27 22:12 /labs/slaba03/laba03_views_programmes.csv\r\n"
     ]
    }
   ],
   "source": [
    "!hdfs dfs -ls /labs/slaba03/"
   ]
  },
  {
   "cell_type": "code",
   "execution_count": 8,
   "metadata": {},
   "outputs": [],
   "source": [
    "path_to_train = '/labs/slaba03/laba03_train.csv'\n",
    "path_to_test = '/labs/slaba03/laba03_test.csv'\n",
    "path_to_items = '/labs/slaba03/laba03_items.csv'\n",
    "path_to_watches = '/labs/slaba03/laba03_views_programmes.csv'"
   ]
  },
  {
   "cell_type": "code",
   "execution_count": 10,
   "metadata": {},
   "outputs": [],
   "source": [
    "train = spark.read\\\n",
    "                .format('csv')\\\n",
    "                .schema(StructType(fields=[StructField('user_id', IntegerType()), \n",
    "                                        StructField('item_id', IntegerType()),\n",
    "                                              StructField('purchase', IntegerType(), nullable=True), \n",
    "                                             ]))\\\n",
    "                .option(\"header\", \"true\")\\\n",
    "                .load(path_to_train)"
   ]
  },
  {
   "cell_type": "code",
   "execution_count": 11,
   "metadata": {
    "scrolled": true
   },
   "outputs": [
    {
     "name": "stdout",
     "output_type": "stream",
     "text": [
      "+-------+-------+--------+\n",
      "|user_id|item_id|purchase|\n",
      "+-------+-------+--------+\n",
      "|   1654|  74107|       0|\n",
      "|   1654|  89249|       0|\n",
      "|   1654|  99982|       0|\n",
      "|   1654|  89901|       0|\n",
      "|   1654| 100504|       0|\n",
      "+-------+-------+--------+\n",
      "only showing top 5 rows\n",
      "\n"
     ]
    }
   ],
   "source": [
    "train.show(5)"
   ]
  },
  {
   "cell_type": "code",
   "execution_count": 12,
   "metadata": {},
   "outputs": [],
   "source": [
    "test = spark.read\\\n",
    "                .format('csv')\\\n",
    "                .schema(StructType(fields=[StructField('user_id', IntegerType()), \n",
    "                                        StructField('item_id', IntegerType()),\n",
    "                                              StructField('purchase', IntegerType(), nullable=True), \n",
    "                                             ]))\\\n",
    "                .option(\"header\", \"true\")\\\n",
    "                .load(path_to_test)"
   ]
  },
  {
   "cell_type": "code",
   "execution_count": 13,
   "metadata": {
    "scrolled": true
   },
   "outputs": [
    {
     "name": "stdout",
     "output_type": "stream",
     "text": [
      "+-------+-------+--------+\n",
      "|user_id|item_id|purchase|\n",
      "+-------+-------+--------+\n",
      "|   1654|  94814|    null|\n",
      "|   1654|  93629|    null|\n",
      "|   1654|   9980|    null|\n",
      "|   1654|  95099|    null|\n",
      "|   1654|  11265|    null|\n",
      "+-------+-------+--------+\n",
      "only showing top 5 rows\n",
      "\n"
     ]
    }
   ],
   "source": [
    "test.show(5)"
   ]
  },
  {
   "cell_type": "code",
   "execution_count": 15,
   "metadata": {
    "scrolled": true
   },
   "outputs": [],
   "source": [
    "items = spark.read\\\n",
    "                .format('csv')\\\n",
    "                .schema(StructType(fields=[StructField('item_id', IntegerType()), \n",
    "                                       StructField('channel_id', IntegerType()),\n",
    "                                       StructField('datetime_availability_start', StringType()),\n",
    "                                       StructField('datetime_availability_stop', StringType()),\n",
    "                                       StructField('datetime_show_start', StringType()),\n",
    "                                       StructField('datetime_show_stop', StringType()),\n",
    "                                       StructField('content_type', IntegerType()),\n",
    "                                       StructField('title', StringType(), nullable=True),\n",
    "                                       StructField('year', FloatType(), nullable=True),\n",
    "                                       StructField('genres', StringType()),\n",
    "                                       StructField('region_id', IntegerType()),\n",
    "                                      ])\n",
    ")\\\n",
    "                .option(\"header\", \"true\")\\\n",
    "                .option(\"delimiter\", \"\\\\t\")\\\n",
    "                .load(path_to_items)\n",
    "\n",
    "items = items.select(['item_id', 'content_type', 'year', 'genres'])\\\n",
    "                     .na.fill({'year': -999, 'genres': 'unknown'})"
   ]
  },
  {
   "cell_type": "code",
   "execution_count": 15,
   "metadata": {},
   "outputs": [
    {
     "name": "stdout",
     "output_type": "stream",
     "text": [
      "+-------+------------+------+------------------------------------------+\n",
      "|item_id|content_type|year  |genres                                    |\n",
      "+-------+------------+------+------------------------------------------+\n",
      "|65667  |1           |2013.0|Эротика                                   |\n",
      "|65669  |1           |2011.0|Эротика                                   |\n",
      "|65668  |1           |2011.0|Эротика                                   |\n",
      "|65671  |1           |2011.0|Эротика                                   |\n",
      "|65670  |1           |2010.0|Эротика                                   |\n",
      "|65809  |1           |2016.0|Комедии                                   |\n",
      "|65810  |1           |2016.0|Комедии,Мелодрамы                         |\n",
      "|326    |1           |2012.0|Ужасы,Триллеры,Драмы,Фантастика,Зарубежные|\n",
      "|336    |1           |2012.0|Ужасы,Комедии,Фантастика,Зарубежные       |\n",
      "|357    |1           |2012.0|Комедии,Мелодрамы,Наши                    |\n",
      "+-------+------------+------+------------------------------------------+\n",
      "only showing top 10 rows\n",
      "\n"
     ]
    }
   ],
   "source": [
    "items.show(10, truncate=False)"
   ]
  },
  {
   "cell_type": "code",
   "execution_count": 16,
   "metadata": {},
   "outputs": [],
   "source": [
    "watches =  spark.read\\\n",
    "                .format('csv')\\\n",
    "                .schema(StructType(fields=[StructField('user_id', IntegerType()), \n",
    "                                       StructField('item_id', IntegerType()),\n",
    "                                       StructField('ts_start', IntegerType()),\n",
    "                                       StructField('ts_end', IntegerType()),\n",
    "                                       StructField('item_type', StringType()),\n",
    "                                      ]))\\\n",
    "                .option(\"header\", \"true\")\\\n",
    "                .load(path_to_watches)"
   ]
  },
  {
   "cell_type": "code",
   "execution_count": 17,
   "metadata": {
    "scrolled": true
   },
   "outputs": [
    {
     "name": "stdout",
     "output_type": "stream",
     "text": [
      "+-------+-------+----------+----------+---------+\n",
      "|user_id|item_id|  ts_start|    ts_end|item_type|\n",
      "+-------+-------+----------+----------+---------+\n",
      "|      0|7101053|1491409931|1491411600|     live|\n",
      "|      0|7101054|1491412481|1491451571|     live|\n",
      "|      0|7101054|1491411640|1491412481|     live|\n",
      "|      0|6184414|1486191290|1486191640|     live|\n",
      "|    257|4436877|1490628499|1490630256|     live|\n",
      "+-------+-------+----------+----------+---------+\n",
      "only showing top 5 rows\n",
      "\n"
     ]
    }
   ],
   "source": [
    "watches.show(5)"
   ]
  },
  {
   "cell_type": "markdown",
   "metadata": {},
   "source": [
    "### EDA"
   ]
  },
  {
   "cell_type": "code",
   "execution_count": 17,
   "metadata": {},
   "outputs": [
    {
     "name": "stdout",
     "output_type": "stream",
     "text": [
      "1941\n",
      "1941\n",
      "79385\n"
     ]
    }
   ],
   "source": [
    "# число уникальных пользователей в train выборке \n",
    "print(train.select('user_id').distinct().count())\n",
    "# число уникальных пользователей в test выборке\n",
    "print(test.select('user_id').distinct().count())\n",
    "# число уникальных пользователей в справочнике фильмов\n",
    "print(watches.select('user_id').distinct().count())"
   ]
  },
  {
   "cell_type": "code",
   "execution_count": 18,
   "metadata": {},
   "outputs": [
    {
     "name": "stdout",
     "output_type": "stream",
     "text": [
      "3704\n",
      "3704\n",
      "635568\n"
     ]
    }
   ],
   "source": [
    "# число уникальных фильмов в train выборке \n",
    "print(train.select('item_id').distinct().count())\n",
    "# число уникальных фильмов в test выборке\n",
    "print(test.select('item_id').distinct().count())\n",
    "# число уникальных фильмов в справочнике фильмов\n",
    "print(items.select('item_id').distinct().count())"
   ]
  },
  {
   "cell_type": "code",
   "execution_count": 19,
   "metadata": {},
   "outputs": [
    {
     "data": {
      "text/plain": [
       "[Row(purchase=0, count=5021720), Row(purchase=1, count=10904)]"
      ]
     },
     "execution_count": 19,
     "metadata": {},
     "output_type": "execute_result"
    }
   ],
   "source": [
    "# баланс классов\n",
    "train_sdf.groupBy(\"purchase\").count().collect()"
   ]
  },
  {
   "cell_type": "markdown",
   "metadata": {},
   "source": [
    "### Фичи, связанные с числом просмотров пользователей и айтемов"
   ]
  },
  {
   "cell_type": "code",
   "execution_count": 47,
   "metadata": {},
   "outputs": [],
   "source": [
    "class TargetEncoder(Estimator):\n",
    "    \n",
    "    def __init__(self):\n",
    "        Transformer.__init__(self)\n",
    "        self.item_mean_purchase = None\n",
    "        self.user_mean_purchase = None\n",
    "        \n",
    "    def fit(self, X):\n",
    "        self.user_mean_purchase = X.select(['user_id', 'purchase'])\\\n",
    "                                   .groupBy('user_id')\\\n",
    "                                   .agg(f.mean('purchase').alias('user_purchase_mean'),\n",
    "                                        f.sum('purchase').alias('user_purchase_count')\n",
    "                                       )\n",
    "        self.item_mean_purchase = X.select(['item_id', 'purchase'])\\\n",
    "                                   .groupBy('item_id')\\\n",
    "                                   .agg(f.mean('purchase').alias('item_purchase_mean'), \n",
    "                                        f.sum('purchase').alias('item_purchase_count')\n",
    "                                       )\n",
    "        return self\n",
    "        \n",
    "    def transform(self, X):\n",
    "        X = X.join(self.item_mean_purchase, on='item_id', how='inner')\n",
    "        X = X.join(self.user_mean_purchase, on='user_id', how='inner')\n",
    "        return X"
   ]
  },
  {
   "cell_type": "code",
   "execution_count": 66,
   "metadata": {},
   "outputs": [],
   "source": [
    "target_features = Pipeline(stages=[TargetEncoder()])\n",
    "\n",
    "target_features_model = target_features.fit(train)\n",
    "X_train = target_features_model.transform(train)\n",
    "X_test = target_features_model.transform(test)"
   ]
  },
  {
   "cell_type": "code",
   "execution_count": 67,
   "metadata": {},
   "outputs": [
    {
     "name": "stdout",
     "output_type": "stream",
     "text": [
      "root\n",
      " |-- user_id: integer (nullable = true)\n",
      " |-- item_id: integer (nullable = true)\n",
      " |-- purchase: integer (nullable = true)\n",
      " |-- item_purchase_mean: double (nullable = true)\n",
      " |-- item_purchase_count: long (nullable = true)\n",
      " |-- user_purchase_mean: double (nullable = true)\n",
      " |-- user_purchase_count: long (nullable = true)\n",
      "\n"
     ]
    }
   ],
   "source": [
    "X_train.printSchema()"
   ]
  },
  {
   "cell_type": "markdown",
   "metadata": {},
   "source": [
    "###  Фичи айтемов"
   ]
  },
  {
   "cell_type": "code",
   "execution_count": 68,
   "metadata": {},
   "outputs": [],
   "source": [
    "X_train = X_train.join(items, on='item_id', \n",
    "                       how='left').withColumn(\"genres_array\", \n",
    "                                              f.split(f.col(\"genres\"), ','))\n",
    "X_test = X_test.join(items, on='item_id', \n",
    "                     how='left').withColumn(\"genres_array\", \n",
    "                                            f.split(f.col(\"genres\"), ','))"
   ]
  },
  {
   "cell_type": "code",
   "execution_count": 69,
   "metadata": {},
   "outputs": [],
   "source": [
    "cntv = CountVectorizer(inputCol=\"genres_array\", \n",
    "                       outputCol=\"genres_vector\")"
   ]
  },
  {
   "cell_type": "code",
   "execution_count": 70,
   "metadata": {},
   "outputs": [],
   "source": [
    "cntv = cntv.fit(X_train)"
   ]
  },
  {
   "cell_type": "code",
   "execution_count": 71,
   "metadata": {},
   "outputs": [],
   "source": [
    "X_train = cntv.transform(X_train)"
   ]
  },
  {
   "cell_type": "code",
   "execution_count": 72,
   "metadata": {},
   "outputs": [],
   "source": [
    "X_test = cntv.transform(X_test)"
   ]
  },
  {
   "cell_type": "markdown",
   "metadata": {},
   "source": [
    "### Просмотры передач"
   ]
  },
  {
   "cell_type": "code",
   "execution_count": 73,
   "metadata": {},
   "outputs": [],
   "source": [
    "user_watches = watches\\\n",
    "        .withColumn('watched_time', \n",
    "                    f.col('ts_end') - f.col('ts_start')\n",
    "                   ).na.fill(0).groupBy(['user_id'])\\\n",
    ".agg(f.sum('watched_time').alias('sum_watched'),\n",
    "    f.mean('watched_time').alias('mean_watched')\n",
    "    )"
   ]
  },
  {
   "cell_type": "code",
   "execution_count": 74,
   "metadata": {},
   "outputs": [],
   "source": [
    "X_train = X_train.join(user_watches, on='user_id', how='left').na.fill(0)"
   ]
  },
  {
   "cell_type": "code",
   "execution_count": 75,
   "metadata": {},
   "outputs": [],
   "source": [
    "X_test = X_test.join(user_watches, on='user_id', how='left').na.fill(0)"
   ]
  },
  {
   "cell_type": "markdown",
   "metadata": {},
   "source": [
    "### ALS Embeddings"
   ]
  },
  {
   "cell_type": "code",
   "execution_count": 76,
   "metadata": {},
   "outputs": [],
   "source": [
    "from pyspark.ml.recommendation import ALS\n",
    "\n",
    "from pyspark.ml.linalg import Vectors, VectorUDT\n",
    "from pyspark.sql.functions import udf\n",
    "\n",
    "\n",
    "list_to_vector_udf = udf(lambda l: Vectors.dense(l), VectorUDT())"
   ]
  },
  {
   "cell_type": "code",
   "execution_count": 77,
   "metadata": {},
   "outputs": [],
   "source": [
    "class UserItemEmbeddings(Estimator):\n",
    "    \n",
    "    def __init__(self):\n",
    "        Transformer.__init__(self)\n",
    "        self.user_emb = None\n",
    "        self.item_emb = None\n",
    "    \n",
    "    def fit(self, user_item_intercations):\n",
    "        als_model = ALS(maxIter=20, rank=20, userCol='user_id', itemCol='item_id', ratingCol='purchase')\n",
    "        als_model_fitted = als_model.fit(user_item_intercations)\n",
    "        self.user_emb = als_model_fitted.userFactors.select(f.col('id').alias('user_id'),\n",
    "                                                            list_to_vector_udf(f.col('features')).alias('user_embeddings')\n",
    "                                                           )\n",
    "        self.item_emb = als_model_fitted.itemFactors.select(f.col('id').alias('item_id'),\n",
    "                                                            list_to_vector_udf(f.col('features')).alias('item_embeddings')\n",
    "                                                           )\n",
    "        return self\n",
    "    \n",
    "    def transform(self, X):\n",
    "        X = X.join(self.user_emb, on='user_id', how='left')\n",
    "        X = X.join(self.item_emb, on='item_id', how='left')\n",
    "        \n",
    "        return X"
   ]
  },
  {
   "cell_type": "code",
   "execution_count": 78,
   "metadata": {
    "scrolled": true
   },
   "outputs": [],
   "source": [
    "emb_features_pippeline = Pipeline(stages=[UserItemEmbeddings()])"
   ]
  },
  {
   "cell_type": "code",
   "execution_count": null,
   "metadata": {},
   "outputs": [],
   "source": [
    "emb_features = emb_features_pippeline.fit(train)"
   ]
  },
  {
   "cell_type": "code",
   "execution_count": null,
   "metadata": {},
   "outputs": [],
   "source": [
    "X_train = emb_features.transform(X_train)"
   ]
  },
  {
   "cell_type": "code",
   "execution_count": null,
   "metadata": {},
   "outputs": [],
   "source": [
    "X_test = emb_features.transform(X_test)"
   ]
  },
  {
   "cell_type": "code",
   "execution_count": 37,
   "metadata": {
    "scrolled": true
   },
   "outputs": [
    {
     "name": "stdout",
     "output_type": "stream",
     "text": [
      "-RECORD 0-------------------------------------------------------------------------------------------------------------------------------------------------------------------------------------------------------------------------------------------------------------------------------------------------------------------------------------------------------------------------------------------------------------------------------------------------------------------------------------------\n",
      " item_id         | 8389                                                                                                                                                                                                                                                                                                                                                                                                                                                                             \n",
      " user_id         | 746713                                                                                                                                                                                                                                                                                                                                                                                                                                                                           \n",
      " purchase        | 0                                                                                                                                                                                                                                                                                                                                                                                                                                                                                \n",
      " content_type    | 1                                                                                                                                                                                                                                                                                                                                                                                                                                                                                \n",
      " year            | 1981.0                                                                                                                                                                                                                                                                                                                                                                                                                                                                           \n",
      " genres          | Мультфильмы,Детские,Союзмультфильм,Наши                                                                                                                                                                                                                                                                                                                                                                                                                                          \n",
      " genres_array    | [Мультфильмы, Детские, Союзмультфильм, Наши]                                                                                                                                                                                                                                                                                                                                                                                                                                     \n",
      " sum_watched     | 1481                                                                                                                                                                                                                                                                                                                                                                                                                                                                             \n",
      " mean_watched    | 493.6666666666667                                                                                                                                                                                                                                                                                                                                                                                                                                                                \n",
      " user_embeddings | [0.0,0.0,0.0,0.0,0.0,0.0,0.0,0.0,0.0,0.0,0.0,0.0,0.0,0.0,0.0,0.0,0.0,0.0,0.0,0.0]                                                                                                                                                                                                                                                                                                                                                                                                \n",
      " item_embeddings | [-4.404206804554291E-38,9.652894918246218E-39,-9.492213628535949E-39,-2.500266784971555E-38,2.412006841975135E-38,5.168264511967704E-38,-2.77413879891674E-38,-1.8670539203660067E-38,3.0897636216452546E-38,-6.045823191096035E-38,-3.100542969952227E-38,3.7481978967907994E-38,3.209986341833845E-38,-4.74337512304162E-38,3.1536723604480236E-38,1.917712821669199E-38,-2.8044973696269515E-38,-2.4700267641114253E-38,-5.51544909845005E-39,-2.5354418987633436E-38]        \n",
      "-RECORD 1-------------------------------------------------------------------------------------------------------------------------------------------------------------------------------------------------------------------------------------------------------------------------------------------------------------------------------------------------------------------------------------------------------------------------------------------------------------------------------------------\n",
      " item_id         | 8389                                                                                                                                                                                                                                                                                                                                                                                                                                                                             \n",
      " user_id         | 883098                                                                                                                                                                                                                                                                                                                                                                                                                                                                           \n",
      " purchase        | 0                                                                                                                                                                                                                                                                                                                                                                                                                                                                                \n",
      " content_type    | 1                                                                                                                                                                                                                                                                                                                                                                                                                                                                                \n",
      " year            | 1981.0                                                                                                                                                                                                                                                                                                                                                                                                                                                                           \n",
      " genres          | Мультфильмы,Детские,Союзмультфильм,Наши                                                                                                                                                                                                                                                                                                                                                                                                                                          \n",
      " genres_array    | [Мультфильмы, Детские, Союзмультфильм, Наши]                                                                                                                                                                                                                                                                                                                                                                                                                                     \n",
      " sum_watched     | 1524178                                                                                                                                                                                                                                                                                                                                                                                                                                                                          \n",
      " mean_watched    | 5424.120996441281                                                                                                                                                                                                                                                                                                                                                                                                                                                                \n",
      " user_embeddings | [-5.248241099481808E-40,1.1502838704103126E-40,-1.1311281204029923E-40,-2.979426781862783E-40,2.8742593321152053E-40,6.1587347766768575E-40,-3.3057891942040327E-40,-2.2248695977777986E-40,3.681897702028814E-40,-7.2044677686638955E-40,-3.694747608946672E-40,4.466512738173565E-40,3.825166457021383E-40,-5.652417615547015E-40,3.7580582735648674E-40,2.2852235226362684E-40,-3.3419567075682562E-40,-2.9433853853603485E-40,-6.572370057376257E-41,-3.021339618930738E-40] \n",
      " item_embeddings | [-4.404206804554291E-38,9.652894918246218E-39,-9.492213628535949E-39,-2.500266784971555E-38,2.412006841975135E-38,5.168264511967704E-38,-2.77413879891674E-38,-1.8670539203660067E-38,3.0897636216452546E-38,-6.045823191096035E-38,-3.100542969952227E-38,3.7481978967907994E-38,3.209986341833845E-38,-4.74337512304162E-38,3.1536723604480236E-38,1.917712821669199E-38,-2.8044973696269515E-38,-2.4700267641114253E-38,-5.51544909845005E-39,-2.5354418987633436E-38]        \n",
      "-RECORD 2-------------------------------------------------------------------------------------------------------------------------------------------------------------------------------------------------------------------------------------------------------------------------------------------------------------------------------------------------------------------------------------------------------------------------------------------------------------------------------------------\n",
      " item_id         | 8389                                                                                                                                                                                                                                                                                                                                                                                                                                                                             \n",
      " user_id         | 903491                                                                                                                                                                                                                                                                                                                                                                                                                                                                           \n",
      " purchase        | 0                                                                                                                                                                                                                                                                                                                                                                                                                                                                                \n",
      " content_type    | 1                                                                                                                                                                                                                                                                                                                                                                                                                                                                                \n",
      " year            | 1981.0                                                                                                                                                                                                                                                                                                                                                                                                                                                                           \n",
      " genres          | Мультфильмы,Детские,Союзмультфильм,Наши                                                                                                                                                                                                                                                                                                                                                                                                                                          \n",
      " genres_array    | [Мультфильмы, Детские, Союзмультфильм, Наши]                                                                                                                                                                                                                                                                                                                                                                                                                                     \n",
      " sum_watched     | 249323                                                                                                                                                                                                                                                                                                                                                                                                                                                                           \n",
      " mean_watched    | 4888.686274509804                                                                                                                                                                                                                                                                                                                                                                                                                                                                \n",
      " user_embeddings | [-9.860264670190862E-40,2.1611105176510194E-40,-2.1251391860718013E-40,-5.597654871561201E-40,5.4000717880914016E-40,1.157084371857681E-39,-6.210807027611168E-40,-4.180017267142356E-40,6.917439804216243E-40,-1.3535562256452706E-39,-6.9415701637719166E-40,8.391577762716664E-40,7.186601213243754E-40,-1.061958626905455E-39,7.060512377423807E-40,4.293424351860164E-40,-6.278784016115565E-40,-5.529958142749669E-40,-1.2347961807937423E-40,-5.6764078452562555E-40]     \n",
      " item_embeddings | [-4.404206804554291E-38,9.652894918246218E-39,-9.492213628535949E-39,-2.500266784971555E-38,2.412006841975135E-38,5.168264511967704E-38,-2.77413879891674E-38,-1.8670539203660067E-38,3.0897636216452546E-38,-6.045823191096035E-38,-3.100542969952227E-38,3.7481978967907994E-38,3.209986341833845E-38,-4.74337512304162E-38,3.1536723604480236E-38,1.917712821669199E-38,-2.8044973696269515E-38,-2.4700267641114253E-38,-5.51544909845005E-39,-2.5354418987633436E-38]        \n",
      "-RECORD 3-------------------------------------------------------------------------------------------------------------------------------------------------------------------------------------------------------------------------------------------------------------------------------------------------------------------------------------------------------------------------------------------------------------------------------------------------------------------------------------------\n",
      " item_id         | 8389                                                                                                                                                                                                                                                                                                                                                                                                                                                                             \n",
      " user_id         | 903826                                                                                                                                                                                                                                                                                                                                                                                                                                                                           \n",
      " purchase        | 0                                                                                                                                                                                                                                                                                                                                                                                                                                                                                \n",
      " content_type    | 1                                                                                                                                                                                                                                                                                                                                                                                                                                                                                \n",
      " year            | 1981.0                                                                                                                                                                                                                                                                                                                                                                                                                                                                           \n",
      " genres          | Мультфильмы,Детские,Союзмультфильм,Наши                                                                                                                                                                                                                                                                                                                                                                                                                                          \n",
      " genres_array    | [Мультфильмы, Детские, Союзмультфильм, Наши]                                                                                                                                                                                                                                                                                                                                                                                                                                     \n",
      " sum_watched     | 1952783                                                                                                                                                                                                                                                                                                                                                                                                                                                                          \n",
      " mean_watched    | 6900.293286219081                                                                                                                                                                                                                                                                                                                                                                                                                                                                \n",
      " user_embeddings | [-3.4458629886979414E-39,7.552438203325034E-40,-7.426727718090455E-40,-1.956214057495909E-39,1.8871608717709106E-39,4.04366392007123E-39,-2.1704936121681384E-39,-1.4607877880307985E-39,2.4174374340437792E-39,-4.730269339024175E-39,-2.4258718495005503E-39,2.9326009923789047E-39,2.5115023960585112E-39,-3.711226878887132E-39,2.4674399671462817E-39,1.5004221137957617E-39,-2.194245621138444E-39,-1.9325545342242487E-39,-4.315270594918988E-40,-1.9837355593352484E-39] \n",
      " item_embeddings | [-4.404206804554291E-38,9.652894918246218E-39,-9.492213628535949E-39,-2.500266784971555E-38,2.412006841975135E-38,5.168264511967704E-38,-2.77413879891674E-38,-1.8670539203660067E-38,3.0897636216452546E-38,-6.045823191096035E-38,-3.100542969952227E-38,3.7481978967907994E-38,3.209986341833845E-38,-4.74337512304162E-38,3.1536723604480236E-38,1.917712821669199E-38,-2.8044973696269515E-38,-2.4700267641114253E-38,-5.51544909845005E-39,-2.5354418987633436E-38]        \n",
      "-RECORD 4-------------------------------------------------------------------------------------------------------------------------------------------------------------------------------------------------------------------------------------------------------------------------------------------------------------------------------------------------------------------------------------------------------------------------------------------------------------------------------------------\n",
      " item_id         | 8389                                                                                                                                                                                                                                                                                                                                                                                                                                                                             \n",
      " user_id         | 916566                                                                                                                                                                                                                                                                                                                                                                                                                                                                           \n",
      " purchase        | 0                                                                                                                                                                                                                                                                                                                                                                                                                                                                                \n",
      " content_type    | 1                                                                                                                                                                                                                                                                                                                                                                                                                                                                                \n",
      " year            | 1981.0                                                                                                                                                                                                                                                                                                                                                                                                                                                                           \n",
      " genres          | Мультфильмы,Детские,Союзмультфильм,Наши                                                                                                                                                                                                                                                                                                                                                                                                                                          \n",
      " genres_array    | [Мультфильмы, Детские, Союзмультфильм, Наши]                                                                                                                                                                                                                                                                                                                                                                                                                                     \n",
      " sum_watched     | 979279                                                                                                                                                                                                                                                                                                                                                                                                                                                                           \n",
      " mean_watched    | 6197.96835443038                                                                                                                                                                                                                                                                                                                                                                                                                                                                 \n",
      " user_embeddings | [0.0,0.0,0.0,0.0,0.0,0.0,0.0,0.0,0.0,0.0,0.0,0.0,0.0,0.0,0.0,0.0,0.0,0.0,0.0,0.0]                                                                                                                                                                                                                                                                                                                                                                                                \n",
      " item_embeddings | [-4.404206804554291E-38,9.652894918246218E-39,-9.492213628535949E-39,-2.500266784971555E-38,2.412006841975135E-38,5.168264511967704E-38,-2.77413879891674E-38,-1.8670539203660067E-38,3.0897636216452546E-38,-6.045823191096035E-38,-3.100542969952227E-38,3.7481978967907994E-38,3.209986341833845E-38,-4.74337512304162E-38,3.1536723604480236E-38,1.917712821669199E-38,-2.8044973696269515E-38,-2.4700267641114253E-38,-5.51544909845005E-39,-2.5354418987633436E-38]        \n",
      "only showing top 5 rows\n",
      "\n"
     ]
    }
   ],
   "source": [
    "X_train.show(5, vertical=True, truncate=False)"
   ]
  },
  {
   "cell_type": "code",
   "execution_count": null,
   "metadata": {
    "scrolled": true
   },
   "outputs": [],
   "source": [
    "X_train.printSchema()"
   ]
  },
  {
   "cell_type": "code",
   "execution_count": null,
   "metadata": {},
   "outputs": [],
   "source": []
  },
  {
   "cell_type": "markdown",
   "metadata": {},
   "source": [
    "### Обучение и скоринг модели"
   ]
  },
  {
   "cell_type": "code",
   "execution_count": 39,
   "metadata": {},
   "outputs": [],
   "source": [
    "features_list = ['user_id', 'item_id', \n",
    "                 'year', 'genres_vector', 'content_type',\n",
    "                 'user_purchase_mean', 'user_purchase_count', \n",
    "                 'item_purchase_mean', 'item_purchase_count',\n",
    "                 'sum_watched', 'mean_watched',\n",
    "                 'user_embeddings', 'item_embeddings'\n",
    "                ]"
   ]
  },
  {
   "cell_type": "code",
   "execution_count": null,
   "metadata": {},
   "outputs": [],
   "source": [
    "features_assembler = VectorAssembler(inputCols=features_list, \n",
    "                                     outputCol=\"features\")"
   ]
  },
  {
   "cell_type": "code",
   "execution_count": 44,
   "metadata": {
    "scrolled": true
   },
   "outputs": [
    {
     "data": {
      "text/plain": [
       "[Row(features=SparseVector(138, {0: 517612.0, 1: 326.0, 2: 2012.0, 3: 1.0, 4: 1.0, 6: 1.0, 13: 1.0, 15: 1.0, 87: 1.0, 88: 0.0004, 89: 1.0, 90: 0.0007, 91: 1.0, 92: 287400.0, 93: 3314.8853, 94: 246971.0, 95: 3741.9848, 96: 40429.0, 97: 2887.7857, 98: -0.0, 99: -0.0, 100: -0.0, 101: 0.0, 102: 0.0, 103: -0.0, 104: 0.0, 105: -0.0, 106: -0.0, 107: -0.0, 108: 0.0, 109: 0.0, 110: 0.0, 111: -0.0, 112: 0.0, 113: 0.0, 114: 0.0, 115: 0.0, 116: -0.0, 117: 0.0, 118: -0.0, 119: -0.0, 120: -0.0, 121: 0.0, 122: 0.0, 123: -0.0, 124: 0.0, 125: -0.0, 126: -0.0, 127: -0.0, 128: 0.0, 129: 0.0, 130: 0.0, 131: -0.0, 132: 0.0, 133: 0.0, 134: 0.0, 135: 0.0, 136: -0.0, 137: 0.0})),\n",
       " Row(features=SparseVector(138, {0: 522798.0, 1: 326.0, 2: 2012.0, 3: 1.0, 4: 1.0, 6: 1.0, 13: 1.0, 15: 1.0, 87: 1.0, 88: 0.0012, 89: 3.0, 90: 0.0007, 91: 1.0, 92: 6229271.0, 93: 3254.6371, 94: 6036928.0, 95: 3837.8436, 96: 192343.0, 97: 2671.4306, 98: -0.0, 99: -0.0, 100: -0.0, 101: 0.0, 102: 0.0, 103: -0.0, 104: 0.0, 105: -0.0, 106: -0.0, 107: -0.0, 108: 0.0, 109: 0.0, 110: 0.0, 111: -0.0, 112: 0.0, 113: 0.0, 114: 0.0, 115: 0.0, 116: -0.0, 117: 0.0, 118: -0.0, 119: -0.0, 120: -0.0, 121: 0.0, 122: 0.0, 123: -0.0, 124: 0.0, 125: -0.0, 126: -0.0, 127: -0.0, 128: 0.0, 129: 0.0, 130: 0.0, 131: -0.0, 132: 0.0, 133: 0.0, 134: 0.0, 135: 0.0, 136: -0.0, 137: 0.0})),\n",
       " Row(features=SparseVector(138, {0: 529632.0, 1: 326.0, 2: 2012.0, 3: 1.0, 4: 1.0, 6: 1.0, 13: 1.0, 15: 1.0, 87: 1.0, 88: 0.0004, 89: 1.0, 90: 0.0007, 91: 1.0, 92: 20259.0, 93: 1248.2917, 94: 15409.0, 95: 1284.0833, 96: 4850.0, 97: 1212.5, 98: -0.0, 99: -0.0, 100: -0.0, 101: 0.0, 102: 0.0, 103: -0.0, 104: 0.0, 105: -0.0, 106: -0.0, 107: -0.0, 108: 0.0, 109: 0.0, 110: 0.0, 111: -0.0, 112: 0.0, 113: 0.0, 114: 0.0, 115: 0.0, 116: -0.0, 117: 0.0, 118: -0.0, 119: -0.0, 120: -0.0, 121: 0.0, 122: 0.0, 123: -0.0, 124: 0.0, 125: -0.0, 126: -0.0, 127: -0.0, 128: 0.0, 129: 0.0, 130: 0.0, 131: -0.0, 132: 0.0, 133: 0.0, 134: 0.0, 135: 0.0, 136: -0.0, 137: 0.0})),\n",
       " Row(features=SparseVector(138, {0: 588378.0, 1: 326.0, 2: 2012.0, 3: 1.0, 4: 1.0, 6: 1.0, 13: 1.0, 15: 1.0, 87: 1.0, 88: 0.0533, 89: 138.0, 90: 0.0007, 91: 1.0, 92: 54921271.0, 93: 3345.1737, 94: 41325086.0, 95: 4046.7182, 96: 13596185.0, 97: 2643.6292, 98: -0.0, 99: -0.0, 100: -0.0, 101: 0.0, 102: 0.0, 103: -0.0, 104: 0.0, 105: -0.0, 106: -0.0, 107: -0.0, 108: 0.0, 109: 0.0, 110: 0.0, 111: -0.0, 112: 0.0, 113: 0.0, 114: 0.0, 115: 0.0, 116: -0.0, 117: 0.0, 118: -0.0, 119: -0.0, 120: -0.0, 121: 0.0, 122: 0.0, 123: -0.0, 124: 0.0, 125: -0.0, 126: -0.0, 127: -0.0, 128: 0.0, 129: 0.0, 130: 0.0, 131: -0.0, 132: 0.0, 133: 0.0, 134: 0.0, 135: 0.0, 136: -0.0, 137: 0.0})),\n",
       " Row(features=SparseVector(138, {0: 639612.0, 1: 326.0, 2: 2012.0, 3: 1.0, 4: 1.0, 6: 1.0, 13: 1.0, 15: 1.0, 87: 1.0, 88: 0.0012, 89: 3.0, 90: 0.0007, 91: 1.0, 92: 1546289.0, 93: 6067.1318, 94: 1419071.0, 95: 8600.4303, 96: 127218.0, 97: 3533.8333, 98: -0.0, 99: -0.0, 100: -0.0, 101: 0.0, 102: 0.0, 103: -0.0, 104: 0.0, 105: -0.0, 106: -0.0, 107: -0.0, 108: 0.0, 109: 0.0, 110: 0.0, 111: -0.0, 112: 0.0, 113: 0.0, 114: 0.0, 115: 0.0, 116: -0.0, 117: 0.0, 118: -0.0, 119: -0.0, 120: -0.0, 121: 0.0, 122: 0.0, 123: -0.0, 124: 0.0, 125: -0.0, 126: -0.0, 127: -0.0, 128: 0.0, 129: 0.0, 130: 0.0, 131: -0.0, 132: 0.0, 133: 0.0, 134: 0.0, 135: 0.0, 136: -0.0, 137: 0.0}))]"
      ]
     },
     "execution_count": 44,
     "metadata": {},
     "output_type": "execute_result"
    }
   ],
   "source": [
    "features_assembler.transform(X_train).select('features').take(5)"
   ]
  },
  {
   "cell_type": "code",
   "execution_count": null,
   "metadata": {},
   "outputs": [],
   "source": [
    "gbt = GBTClassifier(featuresCol=\"features\", \n",
    "                    labelCol=\"purchase\", \n",
    "                    seed=1234,\n",
    "                    maxIter=50, \n",
    "                    maxDepth=7)"
   ]
  },
  {
   "cell_type": "code",
   "execution_count": null,
   "metadata": {},
   "outputs": [],
   "source": [
    "model_pipeline = Pipeline(stages=[features_assembler,\n",
    "                                  gbt\n",
    "                                 ])\n",
    "  \n",
    "model = model_pipeline.fit(X_train)"
   ]
  },
  {
   "cell_type": "code",
   "execution_count": null,
   "metadata": {},
   "outputs": [],
   "source": [
    "predictions = model.transform(X_test)"
   ]
  },
  {
   "cell_type": "markdown",
   "metadata": {},
   "source": [
    "### Зпись скоров в файл"
   ]
  },
  {
   "cell_type": "code",
   "execution_count": null,
   "metadata": {},
   "outputs": [],
   "source": [
    "answer_df = predictions.select(['user_id','item_id','probability'])\\\n",
    "                        .orderBy(['user_id','item_id']).toPandas()"
   ]
  },
  {
   "cell_type": "code",
   "execution_count": null,
   "metadata": {},
   "outputs": [],
   "source": [
    "answer_df['purchase'] = answer_df['probability'].apply(lambda x: x[1])"
   ]
  },
  {
   "cell_type": "code",
   "execution_count": null,
   "metadata": {},
   "outputs": [],
   "source": [
    "answer_df = answer_df.drop('probability', axis=1)"
   ]
  },
  {
   "cell_type": "code",
   "execution_count": null,
   "metadata": {},
   "outputs": [],
   "source": [
    "answer_df.to_csv('lab03.csv')"
   ]
  },
  {
   "cell_type": "markdown",
   "metadata": {},
   "source": [
    "### Тушим контекст"
   ]
  },
  {
   "cell_type": "code",
   "execution_count": null,
   "metadata": {},
   "outputs": [],
   "source": [
    "spark.stop()"
   ]
  },
  {
   "cell_type": "code",
   "execution_count": null,
   "metadata": {},
   "outputs": [],
   "source": []
  },
  {
   "cell_type": "code",
   "execution_count": null,
   "metadata": {},
   "outputs": [],
   "source": []
  }
 ],
 "metadata": {
  "kernelspec": {
   "display_name": "Python 3",
   "language": "python",
   "name": "python3"
  },
  "language_info": {
   "codemirror_mode": {
    "name": "ipython",
    "version": 3
   },
   "file_extension": ".py",
   "mimetype": "text/x-python",
   "name": "python",
   "nbconvert_exporter": "python",
   "pygments_lexer": "ipython3",
   "version": "3.6.5"
  }
 },
 "nbformat": 4,
 "nbformat_minor": 2
}
