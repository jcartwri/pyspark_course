{
 "cells": [
  {
   "cell_type": "markdown",
   "metadata": {},
   "source": [
    "### Laba 3. Content Recommendation"
   ]
  },
  {
   "cell_type": "markdown",
   "metadata": {},
   "source": [
    "- В laba03_train.csv содержатся факты покупки (колонка purchase) пользователями (колонка user_id) телепередач (колонка item_id). Такой формат файла вам уже знаком.\n",
    "\n",
    "- laba03_test.csv — тестовый датасет без указанного целевого признака purchase, который вам и предстоит предсказать.\n",
    "\n",
    "\n",
    "- laba03_items.csv — дополнительные данные по items. В данном файле много лишней или ненужной информации, так что задача её фильтрации и отбора ложится на вас. Поля в файле, на которых хотелось бы остановиться:\n",
    "    - item_id — primary key. Соответствует item_id в предыдущем файле.\n",
    "    - content_type — тип телепередачи (1 — платная, 0 — бесплатная). Вас интересуют платные передачи.\n",
    "    - title — название передачи, текстовое поле.\n",
    "    - year — год выпуска передачи, число.\n",
    "    - genres — поле с жанрами передачи, разделёнными через запятую.\n",
    "\n",
    "\n",
    "- Дополнительный файл laba03_views_programmes.csv по просмотрам передач с полями:\n",
    "    - ts_start — время начала просмотра.\n",
    "    - ts_end — время окончания просмотра.\n",
    "    - item_type — тип просматриваемого контента:\n",
    "        - live — просмотр \"вживую\", в момент показа контента в эфире.\n",
    "        - pvr — просмотр в записи, после показа контента в эфире."
   ]
  },
  {
   "cell_type": "code",
   "execution_count": 1,
   "metadata": {},
   "outputs": [],
   "source": [
    "import os\n",
    "import sys\n",
    "import re\n",
    "import json\n",
    "os.environ[\"PYSPARK_PYTHON\"]='/opt/anaconda/envs/bd9/bin/python'\n",
    "os.environ[\"SPARK_HOME\"]='/usr/hdp/current/spark2-client'\n",
    "os.environ[\"PYSPARK_SUBMIT_ARGS\"]='--num-executors 6 pyspark-shell'\n",
    "\n",
    "spark_home = os.environ.get('SPARK_HOME', None)\n",
    "\n",
    "sys.path.insert(0, os.path.join(spark_home, 'python'))\n",
    "sys.path.insert(0, os.path.join(spark_home, 'python/lib/py4j-0.10.7-src.zip'))\n",
    "#exec(open(os.path.join(spark_home, 'python/pyspark/shell.py')).read())"
   ]
  },
  {
   "cell_type": "code",
   "execution_count": 2,
   "metadata": {},
   "outputs": [],
   "source": [
    "from pyspark import SparkContext, SparkConf\n",
    "from pyspark.sql import SparkSession\n",
    "from pyspark.sql.types import DoubleType, LongType, StructType, StructField, StringType, ArrayType\n",
    "import pyspark.sql.functions as f\n",
    "from pyspark.ml.feature import HashingTF, IDF, Tokenizer, Normalizer\n",
    "from pyspark.sql.window import Window\n",
    "from pyspark.sql.functions import rank, col\n",
    "\n",
    "\n",
    "conf = SparkConf()\n",
    "conf.set(\"spark.app.name\", \"karavaev_andrei_spark_lab_2_second\") \n",
    "spark = SparkSession.builder.config(conf=conf).getOrCreate()"
   ]
  },
  {
   "cell_type": "code",
   "execution_count": 2,
   "metadata": {},
   "outputs": [],
   "source": [
    "import numpy as np\n",
    "from statistics import mode, mean\n",
    "\n",
    "from pyspark.ml.linalg import Vectors, VectorUDT\n",
    "from pyspark.sql.functions import udf, concat\n",
    "from pyspark.ml.feature import VectorAssembler\n",
    "from pyspark.ml.classification import LogisticRegression\n",
    "from pyspark.ml.classification import GBTClassifier\n",
    "from pyspark.ml.classification import RandomForestClassifier\n",
    "\n",
    "from pyspark.sql.types import *\n",
    "import pyspark.sql.functions as f\n",
    "from pyspark.sql.functions import countDistinct\n",
    "\n",
    "from pyspark.ml.feature import StopWordsRemover\n",
    "from pyspark.ml.linalg import SparseVector, DenseVector\n",
    "from pyspark.sql.functions import isnan, when, count, col\n",
    "\n",
    "# Import the required functions\n",
    "from pyspark.ml.evaluation import RegressionEvaluator\n",
    "from pyspark.ml.recommendation import ALS\n",
    "\n",
    "# Import the requisite packages\n",
    "from pyspark.ml.tuning import ParamGridBuilder, CrossValidator\n",
    "from pyspark.ml.evaluation import RegressionEvaluator"
   ]
  },
  {
   "cell_type": "code",
   "execution_count": 100,
   "metadata": {},
   "outputs": [],
   "source": [
    "items_schema = StructType(fields=[\n",
    "    StructField(\"item_id\", StringType()),\n",
    "    StructField(\"channel_id\", StringType()),\n",
    "    StructField(\"datetime_availability_start\", TimestampType()),\n",
    "    StructField(\"datetime_availability_stop\", TimestampType()),\n",
    "    StructField(\"datetime_show_start\", TimestampType()),\n",
    "    StructField(\"datetime_show_stop\", TimestampType()),\n",
    "    StructField(\"content_type\", StringType()),\n",
    "    StructField(\"title\", StringType()),\n",
    "    StructField(\"year\", FloatType()),\n",
    "    StructField(\"genres\", StringType()),\n",
    "    StructField(\"region_id\", StringType())\n",
    "])\n",
    "\n",
    "items = spark.read.csv(\"/labs/slaba03/laba03_items.csv\", header=True, sep='\\t')"
   ]
  },
  {
   "cell_type": "code",
   "execution_count": 101,
   "metadata": {},
   "outputs": [],
   "source": [
    "data_schema = StructType(fields=[\n",
    "    StructField('user_id', LongType()),\n",
    "    StructField('item_id', LongType()),\n",
    "    StructField('purchase', IntegerType()) \n",
    "])\n",
    "\n",
    "train = spark.read.csv(\"/labs/slaba03/laba03_train.csv\", schema=data_schema, header=True, sep=',')\n",
    "test = spark.read.csv(\"/labs/slaba03/laba03_test.csv\", schema=data_schema, header=True, sep=',')"
   ]
  },
  {
   "cell_type": "code",
   "execution_count": 102,
   "metadata": {},
   "outputs": [],
   "source": [
    "views_schema = StructType(fields=[\n",
    "    StructField('user_id', LongType()),\n",
    "    StructField('item_id', LongType()),\n",
    "    StructField('ts_start', IntegerType()),\n",
    "    StructField('ts_end', IntegerType()),\n",
    "    StructField('item_type', StringType())\n",
    "])\n",
    "\n",
    "views = spark.read.csv(\"/labs/slaba03/laba03_views_programmes.csv\", schema=views_schema, header=True, sep=',')"
   ]
  },
  {
   "cell_type": "code",
   "execution_count": 103,
   "metadata": {},
   "outputs": [
    {
     "name": "stdout",
     "output_type": "stream",
     "text": [
      "items (635568, 11)\n",
      "test (2156840, 3)\n",
      "train (5032624, 3)\n",
      "views (635568, 5)\n"
     ]
    }
   ],
   "source": [
    "print('items', (items.count(), len(items.columns)))\n",
    "print('test', (test.count(), len(test.columns)))\n",
    "print('train', (train.count(), len(train.columns)))\n",
    "print('views', (items.count(), len(views.columns)))"
   ]
  },
  {
   "cell_type": "code",
   "execution_count": 104,
   "metadata": {},
   "outputs": [],
   "source": [
    "items = items.select(['item_id', 'channel_id', 'region_id', 'year', 'title', 'genres'])"
   ]
  },
  {
   "cell_type": "markdown",
   "metadata": {},
   "source": [
    "#### Checking nulls"
   ]
  },
  {
   "cell_type": "code",
   "execution_count": 105,
   "metadata": {},
   "outputs": [
    {
     "name": "stdout",
     "output_type": "stream",
     "text": [
      "+-------+----------+---------+------+-----+------+\n",
      "|item_id|channel_id|region_id|  year|title|genres|\n",
      "+-------+----------+---------+------+-----+------+\n",
      "|      0|      3704|   362264|631868|    0|    33|\n",
      "+-------+----------+---------+------+-----+------+\n",
      "\n"
     ]
    }
   ],
   "source": [
    "items.select([count(when(isnan(c) | col(c).isNull(), c)).alias(c) for c in items.columns]).show()"
   ]
  },
  {
   "cell_type": "code",
   "execution_count": 106,
   "metadata": {},
   "outputs": [],
   "source": [
    "items = items.fillna({'genres':'Приключения,Триллер', 'year': 2010.0})"
   ]
  },
  {
   "cell_type": "code",
   "execution_count": 107,
   "metadata": {
    "scrolled": true
   },
   "outputs": [
    {
     "name": "stdout",
     "output_type": "stream",
     "text": [
      "+-------+----------+---------+----+-----+------+\n",
      "|item_id|channel_id|region_id|year|title|genres|\n",
      "+-------+----------+---------+----+-----+------+\n",
      "|      0|      3704|   362264|   0|    0|     0|\n",
      "+-------+----------+---------+----+-----+------+\n",
      "\n"
     ]
    }
   ],
   "source": [
    "items.select([count(when(isnan(c) | col(c).isNull(), c)).alias(c) for c in items.columns]).show()"
   ]
  },
  {
   "cell_type": "code",
   "execution_count": 108,
   "metadata": {},
   "outputs": [
    {
     "data": {
      "text/plain": [
       "[('user_id', 'bigint'), ('item_id', 'bigint'), ('purchase', 'int')]"
      ]
     },
     "execution_count": 108,
     "metadata": {},
     "output_type": "execute_result"
    }
   ],
   "source": [
    "train.dtypes"
   ]
  },
  {
   "cell_type": "markdown",
   "metadata": {},
   "source": [
    "### Feature Egineering"
   ]
  },
  {
   "cell_type": "code",
   "execution_count": 109,
   "metadata": {},
   "outputs": [
    {
     "name": "stdout",
     "output_type": "stream",
     "text": [
      "1941 3704\n"
     ]
    }
   ],
   "source": [
    "print(train.select('user_id').distinct().count(), train.select('item_id').distinct().count())"
   ]
  },
  {
   "cell_type": "code",
   "execution_count": 110,
   "metadata": {},
   "outputs": [],
   "source": [
    "user_items = train.groupBy('user_id').sum()\\\n",
    "                  .select(f.col('user_id'), f.col('sum(purchase)').cast(IntegerType()).alias('user_items'))\n",
    "\n",
    "item_users = train.groupBy('item_id').sum()\\\n",
    "                  .select(f.col('item_id'), f.col('sum(purchase)').cast(IntegerType()).alias('item_users'))"
   ]
  },
  {
   "cell_type": "code",
   "execution_count": 111,
   "metadata": {},
   "outputs": [],
   "source": [
    "train = train.join(user_items, 'user_id', how='left')\n",
    "train = train.join(item_users, 'item_id', how='left')\n",
    "#train = train.join(user_views_features, 'user_id', how='left')\n",
    "\n",
    "test = test.join(user_items, 'user_id', how='left')\n",
    "test = test.join(item_users, 'item_id', how='left')\n",
    "#test = test.join(user_views_features, 'user_id', how='left')"
   ]
  },
  {
   "cell_type": "code",
   "execution_count": 112,
   "metadata": {},
   "outputs": [
    {
     "name": "stdout",
     "output_type": "stream",
     "text": [
      "200\n",
      "200\n",
      "4\n",
      "4\n"
     ]
    }
   ],
   "source": [
    "print(train.rdd.getNumPartitions())\n",
    "print(test.rdd.getNumPartitions())\n",
    "\n",
    "train = train.coalesce(4)\n",
    "test = test.coalesce(4)\n",
    "\n",
    "print(train.rdd.getNumPartitions())\n",
    "print(test.rdd.getNumPartitions())"
   ]
  },
  {
   "cell_type": "code",
   "execution_count": 113,
   "metadata": {
    "scrolled": true
   },
   "outputs": [
    {
     "name": "stdout",
     "output_type": "stream",
     "text": [
      "['item_id', 'user_id', 'purchase', 'user_items', 'item_users']\n",
      "['item_id', 'user_id', 'purchase', 'user_items', 'item_users']\n"
     ]
    }
   ],
   "source": [
    "print(train.columns)\n",
    "print(test.columns)"
   ]
  },
  {
   "cell_type": "markdown",
   "metadata": {},
   "source": [
    "### Vectorize genres feature (\"multilabel binarizer\")"
   ]
  },
  {
   "cell_type": "code",
   "execution_count": 114,
   "metadata": {},
   "outputs": [],
   "source": [
    "split_udf = udf(lambda x: str(x.replace(',', ' ')), StringType())\n",
    "\n",
    "items = items.withColumn('genres_split', split_udf(items.genres))"
   ]
  },
  {
   "cell_type": "code",
   "execution_count": 115,
   "metadata": {},
   "outputs": [],
   "source": [
    "tokenizer = Tokenizer(inputCol='genres_split', outputCol='words')\n",
    "items = tokenizer.transform(items)\n",
    "\n",
    "hasher = HashingTF(inputCol='words', outputCol='genres_dummies', numFeatures=85)\n",
    "items = hasher.transform(items)"
   ]
  },
  {
   "cell_type": "code",
   "execution_count": 116,
   "metadata": {
    "scrolled": true
   },
   "outputs": [
    {
     "data": {
      "text/plain": [
       "[Row(genres_dummies=SparseVector(85, {1: 1.0, 8: 1.0, 55: 1.0, 56: 1.0, 57: 1.0}))]"
      ]
     },
     "execution_count": 116,
     "metadata": {},
     "output_type": "execute_result"
    }
   ],
   "source": [
    "items.where('item_id=396').select('genres_dummies').collect()"
   ]
  },
  {
   "cell_type": "code",
   "execution_count": 117,
   "metadata": {},
   "outputs": [
    {
     "data": {
      "text/plain": [
       "[Row(words=['детективы', 'триллеры', 'драмы', 'фантастика', 'зарубежные'])]"
      ]
     },
     "execution_count": 117,
     "metadata": {},
     "output_type": "execute_result"
    }
   ],
   "source": [
    "items.where('item_id=396').select('words').collect()"
   ]
  },
  {
   "cell_type": "code",
   "execution_count": 118,
   "metadata": {},
   "outputs": [
    {
     "data": {
      "text/plain": [
       "['item_id',\n",
       " 'channel_id',\n",
       " 'region_id',\n",
       " 'year',\n",
       " 'title',\n",
       " 'genres',\n",
       " 'genres_split',\n",
       " 'words',\n",
       " 'genres_dummies']"
      ]
     },
     "execution_count": 118,
     "metadata": {},
     "output_type": "execute_result"
    }
   ],
   "source": [
    "items.columns"
   ]
  },
  {
   "cell_type": "markdown",
   "metadata": {},
   "source": [
    "### Vectorize title feature (\"TFIDF\")"
   ]
  },
  {
   "cell_type": "code",
   "execution_count": 119,
   "metadata": {},
   "outputs": [
    {
     "name": "stdout",
     "output_type": "stream",
     "text": [
      "[nltk_data] Downloading package stopwords to\n",
      "[nltk_data]     /data/home/andrey.karavaev/nltk_data...\n",
      "[nltk_data]   Package stopwords is already up-to-date!\n"
     ]
    }
   ],
   "source": [
    "from pyspark.ml.feature import StopWordsRemover\n",
    "import nltk\n",
    "nltk.download(\"stopwords\")\n",
    "\n",
    "\n",
    "stopwordList = nltk.corpus.stopwords.words('russian')\n",
    "remover = StopWordsRemover(inputCol=tokenizer.getOutputCol(), outputCol=\"stopWordsRem\", stopWords=stopwordList)"
   ]
  },
  {
   "cell_type": "code",
   "execution_count": 120,
   "metadata": {},
   "outputs": [
    {
     "name": "stdout",
     "output_type": "stream",
     "text": [
      "[nltk_data] Downloading package stopwords to\n",
      "[nltk_data]     /data/home/andrey.karavaev/nltk_data...\n",
      "[nltk_data]   Package stopwords is already up-to-date!\n"
     ]
    }
   ],
   "source": [
    "from pyspark.ml.feature import StopWordsRemover\n",
    "import nltk\n",
    "nltk.download(\"stopwords\")\n",
    "\n",
    "\n",
    "tokenizer = Tokenizer(inputCol='title', outputCol='title_words')\n",
    "items = tokenizer.transform(items)\n",
    "\n",
    "stopwordList = nltk.corpus.stopwords.words('russian')\n",
    "remover = StopWordsRemover(inputCol='title_words', outputCol='title_cleaned', stopWords=stopwordList)\n",
    "# remover = StopWordsRemover(inputCol='title_words', outputCol='title_cleaned')\n",
    "items = remover.transform(items)\n",
    "\n",
    "hasher = HashingTF(inputCol='title_cleaned', outputCol='TF_title', numFeatures=1000)\n",
    "items = hasher.transform(items)\n",
    "\n",
    "idf = IDF(inputCol='TF_title', outputCol='TFIDF')\n",
    "idfModel = idf.fit(items)\n",
    "items = idfModel.transform(items)"
   ]
  },
  {
   "cell_type": "markdown",
   "metadata": {},
   "source": [
    "### Pipeline"
   ]
  },
  {
   "cell_type": "code",
   "execution_count": 123,
   "metadata": {},
   "outputs": [
    {
     "data": {
      "text/plain": [
       "['item_id',\n",
       " 'channel_id',\n",
       " 'region_id',\n",
       " 'year',\n",
       " 'title',\n",
       " 'genres',\n",
       " 'genres_split',\n",
       " 'words',\n",
       " 'genres_dummies',\n",
       " 'title_words',\n",
       " 'title_cleaned',\n",
       " 'TF_title',\n",
       " 'TFIDF']"
      ]
     },
     "execution_count": 123,
     "metadata": {},
     "output_type": "execute_result"
    }
   ],
   "source": [
    "items.columns"
   ]
  },
  {
   "cell_type": "code",
   "execution_count": 124,
   "metadata": {},
   "outputs": [],
   "source": [
    "#items = items.withColumn('content_type', items.content_type.cast(IntegerType()))\n",
    "#items = items.select('item_id', 'year', 'genres_dummies', 'TFIDF')\n",
    "items = items.select('item_id', 'year', 'genres_dummies')"
   ]
  },
  {
   "cell_type": "code",
   "execution_count": 125,
   "metadata": {},
   "outputs": [],
   "source": [
    "# items = items.withColumn('content_type', items.content_type.cast(IntegerType()))\n",
    "# items = items.select('item_id', 'year', 'content_type', 'genres_dummies', 'TFIDF')"
   ]
  },
  {
   "cell_type": "code",
   "execution_count": 126,
   "metadata": {
    "scrolled": false
   },
   "outputs": [
    {
     "name": "stdout",
     "output_type": "stream",
     "text": [
      "4\n",
      "4\n",
      "4\n",
      "4\n"
     ]
    }
   ],
   "source": [
    "train_sample = train.join(items, 'item_id', how='left')\n",
    "test_sample = test.join(items, 'item_id', how='left')\n",
    "\n",
    "print(train_sample.rdd.getNumPartitions())\n",
    "print(test_sample.rdd.getNumPartitions())\n",
    "train_sample = train_sample.coalesce(4)\n",
    "test_sample = test_sample.coalesce(4)\n",
    "print(train_sample.rdd.getNumPartitions())\n",
    "print(test_sample.rdd.getNumPartitions())"
   ]
  },
  {
   "cell_type": "code",
   "execution_count": 127,
   "metadata": {},
   "outputs": [
    {
     "data": {
      "text/plain": [
       "[Row(item_id=3764, user_id=773825, purchase=0, user_items=2, item_users=3, year='2013.0', genres_dummies=SparseVector(85, {8: 1.0, 46: 1.0, 55: 1.0, 57: 1.0}))]"
      ]
     },
     "execution_count": 127,
     "metadata": {},
     "output_type": "execute_result"
    }
   ],
   "source": [
    "train_sample.take(1)"
   ]
  },
  {
   "cell_type": "code",
   "execution_count": 128,
   "metadata": {},
   "outputs": [
    {
     "name": "stdout",
     "output_type": "stream",
     "text": [
      "loc\n"
     ]
    }
   ],
   "source": [
    "print('loc')"
   ]
  },
  {
   "cell_type": "code",
   "execution_count": 129,
   "metadata": {},
   "outputs": [],
   "source": [
    "train_sample = train_sample.withColumn(\"year\", train_sample.year.astype(LongType()))"
   ]
  },
  {
   "cell_type": "code",
   "execution_count": 130,
   "metadata": {},
   "outputs": [],
   "source": [
    "test_sample = test_sample.withColumn(\"year\", test_sample.year.astype(LongType()))"
   ]
  },
  {
   "cell_type": "code",
   "execution_count": 131,
   "metadata": {},
   "outputs": [
    {
     "data": {
      "text/plain": [
       "[Row(item_id=3764, user_id=741210, purchase=0, user_items=1, item_users=3, year=2013, genres_dummies=SparseVector(85, {8: 1.0, 46: 1.0, 55: 1.0, 57: 1.0}))]"
      ]
     },
     "execution_count": 131,
     "metadata": {},
     "output_type": "execute_result"
    }
   ],
   "source": [
    "train_sample.take(1)"
   ]
  },
  {
   "cell_type": "code",
   "execution_count": 132,
   "metadata": {},
   "outputs": [
    {
     "data": {
      "text/plain": [
       "[Row(item_id=3764, user_id=876215, purchase=None, user_items=23, item_users=3, year=2013, genres_dummies=SparseVector(85, {8: 1.0, 46: 1.0, 55: 1.0, 57: 1.0}))]"
      ]
     },
     "execution_count": 132,
     "metadata": {},
     "output_type": "execute_result"
    }
   ],
   "source": [
    "test_sample.take(1)"
   ]
  },
  {
   "cell_type": "code",
   "execution_count": null,
   "metadata": {},
   "outputs": [],
   "source": []
  },
  {
   "cell_type": "code",
   "execution_count": 133,
   "metadata": {},
   "outputs": [
    {
     "name": "stdout",
     "output_type": "stream",
     "text": [
      "['item_id', 'user_id', 'purchase', 'user_items', 'item_users', 'year', 'genres_dummies']\n",
      "['item_id', 'user_id', 'purchase', 'user_items', 'item_users', 'year', 'genres_dummies']\n"
     ]
    }
   ],
   "source": [
    "print(train_sample.columns)\n",
    "print(test_sample.columns)"
   ]
  },
  {
   "cell_type": "code",
   "execution_count": 134,
   "metadata": {},
   "outputs": [
    {
     "name": "stdout",
     "output_type": "stream",
     "text": [
      "['item_id', 'user_id', 'purchase', 'user_items', 'item_users', 'year', 'genres_dummies']\n",
      "['item_id', 'user_id', 'purchase', 'user_items', 'item_users', 'year', 'genres_dummies']\n"
     ]
    }
   ],
   "source": [
    "print(train_sample.columns)\n",
    "print(test_sample.columns)"
   ]
  },
  {
   "cell_type": "code",
   "execution_count": 135,
   "metadata": {},
   "outputs": [
    {
     "data": {
      "text/plain": [
       "DataFrame[item_id: bigint, user_id: bigint, purchase: int, user_items: int, item_users: int, year: bigint, genres_dummies: vector]"
      ]
     },
     "execution_count": 135,
     "metadata": {},
     "output_type": "execute_result"
    }
   ],
   "source": [
    "train_sample.cache()\n",
    "test_sample.cache()"
   ]
  },
  {
   "cell_type": "code",
   "execution_count": 136,
   "metadata": {},
   "outputs": [
    {
     "data": {
      "text/plain": [
       "[Row(item_id=3764, user_id=728960, purchase=0, user_items=1, item_users=3, year=2013, genres_dummies=SparseVector(85, {8: 1.0, 46: 1.0, 55: 1.0, 57: 1.0}))]"
      ]
     },
     "execution_count": 136,
     "metadata": {},
     "output_type": "execute_result"
    }
   ],
   "source": [
    "train_sample.take(1)"
   ]
  },
  {
   "cell_type": "code",
   "execution_count": 137,
   "metadata": {},
   "outputs": [
    {
     "name": "stdout",
     "output_type": "stream",
     "text": [
      "5032624\n",
      "2156840\n"
     ]
    }
   ],
   "source": [
    "print(train_sample.count())\n",
    "print(test_sample.count())"
   ]
  },
  {
   "cell_type": "markdown",
   "metadata": {},
   "source": [
    "# ALS model"
   ]
  },
  {
   "cell_type": "code",
   "execution_count": 44,
   "metadata": {},
   "outputs": [
    {
     "name": "stdout",
     "output_type": "stream",
     "text": [
      "Num models to be tested:  1\n"
     ]
    }
   ],
   "source": [
    "als = ALS(\n",
    "         userCol=\"user_id\", \n",
    "         itemCol=\"item_id\",\n",
    "         ratingCol=\"purchase\", \n",
    "         nonnegative = True, \n",
    "         implicitPrefs = False,\n",
    "         coldStartStrategy=\"drop\"\n",
    ")\n",
    "\n",
    "# Add hyperparameters and their respective values to param_grid\n",
    "param_grid = ParamGridBuilder() \\\n",
    "            .addGrid(als.rank, [20]) \\\n",
    "            .addGrid(als.regParam, [.05]) \\\n",
    "            .build()\n",
    "\n",
    "# Define evaluator as RMSE and print length of evaluator\n",
    "evaluator = RegressionEvaluator(\n",
    "           metricName=\"rmse\", \n",
    "           labelCol=\"purchase\", \n",
    "           predictionCol=\"prediction\") \n",
    "print (\"Num models to be tested: \", len(param_grid))\n",
    "\n",
    "# Build cross validation using CrossValidator\n",
    "cv = CrossValidator(estimator=als, estimatorParamMaps=param_grid, evaluator=evaluator, numFolds=3)"
   ]
  },
  {
   "cell_type": "code",
   "execution_count": 45,
   "metadata": {},
   "outputs": [
    {
     "data": {
      "text/plain": [
       "['item_id', 'user_id', 'purchase', 'features']"
      ]
     },
     "execution_count": 45,
     "metadata": {},
     "output_type": "execute_result"
    }
   ],
   "source": [
    "train_sample.columns"
   ]
  },
  {
   "cell_type": "code",
   "execution_count": 46,
   "metadata": {},
   "outputs": [],
   "source": [
    "#Fit cross validator to the 'train' dataset\n",
    "model = cv.fit(train_sample)\n",
    "#Extract best model from the cv model above\n",
    "best_model = model.bestModel"
   ]
  },
  {
   "cell_type": "code",
   "execution_count": 47,
   "metadata": {},
   "outputs": [],
   "source": [
    "factors_sdf = best_model.userFactors\n",
    "factors_sdf = factors_sdf.withColumnRenamed('id', 'user_id')\n",
    "factors_sdf = factors_sdf.withColumnRenamed('features', 'user_feat')"
   ]
  },
  {
   "cell_type": "code",
   "execution_count": 48,
   "metadata": {},
   "outputs": [],
   "source": [
    "items_factors_sdf = best_model.itemFactors\n",
    "items_factors_sdf = items_factors_sdf.withColumnRenamed('id', 'item_id')\n",
    "items_factors_sdf = items_factors_sdf.withColumnRenamed('features', 'item_feat')"
   ]
  },
  {
   "cell_type": "code",
   "execution_count": 138,
   "metadata": {},
   "outputs": [],
   "source": [
    "train_sample = train_sample.join(factors_sdf, on='user_id', how='left')\n",
    "train_sample = train_sample.join(items_factors_sdf, on='item_id', how='left')"
   ]
  },
  {
   "cell_type": "code",
   "execution_count": 139,
   "metadata": {},
   "outputs": [],
   "source": [
    "test_sample = test_sample.join(factors_sdf, on='user_id', how='left')\n",
    "test_sample = test_sample.join(items_factors_sdf, on='item_id', how='left')"
   ]
  },
  {
   "cell_type": "code",
   "execution_count": 140,
   "metadata": {},
   "outputs": [],
   "source": [
    "list_to_vector_udf = udf(lambda l: Vectors.dense(l), VectorUDT())"
   ]
  },
  {
   "cell_type": "code",
   "execution_count": 141,
   "metadata": {},
   "outputs": [],
   "source": [
    "train_sample = train_sample.withColumn(\"user_feat_vector\", list_to_vector_udf(train_sample[\"user_feat\"]))\n",
    "train_sample = train_sample.withColumn(\"item_feat_vector\", list_to_vector_udf(train_sample[\"item_feat\"]))"
   ]
  },
  {
   "cell_type": "code",
   "execution_count": 142,
   "metadata": {},
   "outputs": [],
   "source": [
    "test_sample = test_sample.withColumn(\"user_feat_vector\", list_to_vector_udf(test_sample[\"user_feat\"]))\n",
    "test_sample = test_sample.withColumn(\"item_feat_vector\", list_to_vector_udf(test_sample[\"item_feat\"]))"
   ]
  },
  {
   "cell_type": "code",
   "execution_count": 143,
   "metadata": {},
   "outputs": [
    {
     "data": {
      "text/plain": [
       "[Row(item_id=3764, user_id=842257, purchase=None, user_items=21, item_users=3, year=2013, genres_dummies=SparseVector(85, {8: 1.0, 46: 1.0, 55: 1.0, 57: 1.0}), user_feat=[1.3482138718151973e-15, 2.151358018665753e-15, 3.6773655884172855e-15, 5.2052550536193804e-15, 3.0427869273009665e-15, 2.087026925112973e-15, 2.0908597491992986e-15, 6.019219411096399e-15, 2.710286261438659e-15, 3.866496610594383e-15, 7.0087372761225026e-15, 6.973334687059062e-15, 4.02161925993922e-15, 5.327658090761205e-15, 1.9604200634539253e-15, 3.7767140828007424e-15, 2.7520670085949247e-15, 2.6954894428830737e-15, 2.7227043997201175e-15, 5.819863854212995e-15], item_feat=[2.5648847974712227e-15, 4.09221522092813e-15, 6.995592171814063e-15, 9.89247407406045e-15, 5.786538189936222e-15, 3.968942280949475e-15, 3.974367526976639e-15, 1.1443913172778583e-14, 5.154312798105612e-15, 7.351346433177343e-15, 1.3328286194711544e-14, 1.325588351244614e-14, 7.647659733950578e-15, 1.0133072935695087e-14, 3.728722890075208e-15, 7.185813325394277e-15, 5.234126595143017e-15, 5.127598225982159e-15, 5.178115694472879e-15, 1.1065357207991691e-14], user_feat_vector=DenseVector([0.0, 0.0, 0.0, 0.0, 0.0, 0.0, 0.0, 0.0, 0.0, 0.0, 0.0, 0.0, 0.0, 0.0, 0.0, 0.0, 0.0, 0.0, 0.0, 0.0]), item_feat_vector=DenseVector([0.0, 0.0, 0.0, 0.0, 0.0, 0.0, 0.0, 0.0, 0.0, 0.0, 0.0, 0.0, 0.0, 0.0, 0.0, 0.0, 0.0, 0.0, 0.0, 0.0]))]"
      ]
     },
     "execution_count": 143,
     "metadata": {},
     "output_type": "execute_result"
    }
   ],
   "source": [
    "test_sample.take(1)"
   ]
  },
  {
   "cell_type": "code",
   "execution_count": 144,
   "metadata": {},
   "outputs": [
    {
     "data": {
      "text/plain": [
       "[Row(item_id=3764, user_id=863262, purchase=0, user_items=2, item_users=3, year=2013, genres_dummies=SparseVector(85, {8: 1.0, 46: 1.0, 55: 1.0, 57: 1.0}), user_feat=[2.6974865348144625e-16, 4.305267829964228e-16, 7.357663816656202e-16, 1.0431258391039992e-15, 6.090166890758419e-16, 4.178016482111438e-16, 4.187074440691139e-16, 1.2054968670158466e-15, 5.426501224112506e-16, 7.743041573042043e-16, 1.4031506288290983e-15, 1.3970574973230245e-15, 8.052225539448808e-16, 1.0663646115283945e-15, 3.9242289998506967e-16, 7.556658855141431e-16, 5.509393456517588e-16, 5.393783517733625e-16, 5.448954479357442e-16, 1.1653298235032188e-15], item_feat=[2.5648847974712227e-15, 4.09221522092813e-15, 6.995592171814063e-15, 9.89247407406045e-15, 5.786538189936222e-15, 3.968942280949475e-15, 3.974367526976639e-15, 1.1443913172778583e-14, 5.154312798105612e-15, 7.351346433177343e-15, 1.3328286194711544e-14, 1.325588351244614e-14, 7.647659733950578e-15, 1.0133072935695087e-14, 3.728722890075208e-15, 7.185813325394277e-15, 5.234126595143017e-15, 5.127598225982159e-15, 5.178115694472879e-15, 1.1065357207991691e-14], user_feat_vector=DenseVector([0.0, 0.0, 0.0, 0.0, 0.0, 0.0, 0.0, 0.0, 0.0, 0.0, 0.0, 0.0, 0.0, 0.0, 0.0, 0.0, 0.0, 0.0, 0.0, 0.0]), item_feat_vector=DenseVector([0.0, 0.0, 0.0, 0.0, 0.0, 0.0, 0.0, 0.0, 0.0, 0.0, 0.0, 0.0, 0.0, 0.0, 0.0, 0.0, 0.0, 0.0, 0.0, 0.0]))]"
      ]
     },
     "execution_count": 144,
     "metadata": {},
     "output_type": "execute_result"
    }
   ],
   "source": [
    "train_sample.take(1)"
   ]
  },
  {
   "cell_type": "code",
   "execution_count": 145,
   "metadata": {},
   "outputs": [],
   "source": [
    "def normalize_spark_vectors(sdf, columns):\n",
    "    for column in columns:\n",
    "        normalizer = Normalizer(inputCol=column, outputCol=f\"{column}_norm\")\n",
    "        sdf = normalizer.transform(sdf)\n",
    "    return sdf"
   ]
  },
  {
   "cell_type": "code",
   "execution_count": 146,
   "metadata": {},
   "outputs": [],
   "source": [
    "embedding_names = ['user_feat_vector', 'item_feat_vector']\n",
    "embedding_names_norm = [f'{column}_norm' for column in embedding_names]"
   ]
  },
  {
   "cell_type": "code",
   "execution_count": 147,
   "metadata": {},
   "outputs": [],
   "source": [
    "train_sample = normalize_spark_vectors(train_sample, embedding_names)"
   ]
  },
  {
   "cell_type": "code",
   "execution_count": 148,
   "metadata": {},
   "outputs": [],
   "source": [
    "test_sample = normalize_spark_vectors(test_sample, embedding_names)"
   ]
  },
  {
   "cell_type": "code",
   "execution_count": 149,
   "metadata": {},
   "outputs": [],
   "source": [
    "def dense_to_array(sdf, columns):\n",
    "    to_array = udf(lambda v: v.toArray().tolist(), ArrayType(FloatType()))\n",
    "    for column in columns:\n",
    "        sdf = sdf.withColumn(column, to_array(column))\n",
    "    return sdf"
   ]
  },
  {
   "cell_type": "code",
   "execution_count": 150,
   "metadata": {},
   "outputs": [],
   "source": [
    "train_sample = dense_to_array(train_sample, embedding_names_norm)"
   ]
  },
  {
   "cell_type": "code",
   "execution_count": 151,
   "metadata": {},
   "outputs": [],
   "source": [
    "test_sample = dense_to_array(test_sample, embedding_names_norm)"
   ]
  },
  {
   "cell_type": "code",
   "execution_count": 152,
   "metadata": {},
   "outputs": [],
   "source": [
    "train_sample = train_sample.withColumn('feature_array', concat(col(embedding_names_norm[0]), col(embedding_names_norm[1])))"
   ]
  },
  {
   "cell_type": "code",
   "execution_count": 153,
   "metadata": {},
   "outputs": [],
   "source": [
    "test_sample = test_sample.withColumn('feature_array', concat(col(embedding_names_norm[0]), col(embedding_names_norm[1])))"
   ]
  },
  {
   "cell_type": "code",
   "execution_count": 154,
   "metadata": {},
   "outputs": [],
   "source": [
    "test_sample = test_sample.withColumn(\"feature_array\", list_to_vector_udf(test_sample[\"feature_array\"]))"
   ]
  },
  {
   "cell_type": "code",
   "execution_count": 155,
   "metadata": {},
   "outputs": [],
   "source": [
    "train_sample = train_sample.withColumn(\"feature_array\", list_to_vector_udf(train_sample[\"feature_array\"]))"
   ]
  },
  {
   "cell_type": "code",
   "execution_count": 163,
   "metadata": {},
   "outputs": [
    {
     "data": {
      "text/plain": [
       "[Row(item_id=3764, user_id=728960, purchase=0, user_items=1, item_users=3, year=2013, genres_dummies=SparseVector(85, {8: 1.0, 46: 1.0, 55: 1.0, 57: 1.0}), user_feat=[1.5540002616528336e-16, 2.479953650882981e-16, 4.238632806794916e-16, 6.004172929579611e-16, 3.5076870484507976e-16, 2.4061868749955843e-16, 2.410827556755354e-16, 6.941094071987721e-16, 3.125062149143533e-16, 4.458511971990292e-16, 8.080770020375686e-16, 8.042728182527719e-16, 4.637057517546434e-16, 6.141966131856572e-16, 2.2601798354104203e-16, 4.3533988890051773e-16, 3.1730063315404944e-16, 3.1070894334917767e-16, 3.1385522076197417e-16, 6.710418413088406e-16], item_feat=[2.5648847974712227e-15, 4.09221522092813e-15, 6.995592171814063e-15, 9.89247407406045e-15, 5.786538189936222e-15, 3.968942280949475e-15, 3.974367526976639e-15, 1.1443913172778583e-14, 5.154312798105612e-15, 7.351346433177343e-15, 1.3328286194711544e-14, 1.325588351244614e-14, 7.647659733950578e-15, 1.0133072935695087e-14, 3.728722890075208e-15, 7.185813325394277e-15, 5.234126595143017e-15, 5.127598225982159e-15, 5.178115694472879e-15, 1.1065357207991691e-14], user_feat_vector=DenseVector([0.0, 0.0, 0.0, 0.0, 0.0, 0.0, 0.0, 0.0, 0.0, 0.0, 0.0, 0.0, 0.0, 0.0, 0.0, 0.0, 0.0, 0.0, 0.0, 0.0]), item_feat_vector=DenseVector([0.0, 0.0, 0.0, 0.0, 0.0, 0.0, 0.0, 0.0, 0.0, 0.0, 0.0, 0.0, 0.0, 0.0, 0.0, 0.0, 0.0, 0.0, 0.0, 0.0]), user_feat_vector_norm=[0.07307922840118408, 0.11662359535694122, 0.19932815432548523, 0.2823553681373596, 0.1649543195962906, 0.11315459758043289, 0.11337283253669739, 0.3264155089855194, 0.1469607949256897, 0.20966830849647522, 0.3800104856491089, 0.3782215118408203, 0.21806468069553375, 0.2888352870941162, 0.10628839582204819, 0.2047252058982849, 0.1492154449224472, 0.14611560106277466, 0.14759519696235657, 0.31556764245033264], item_feat_vector_norm=[0.07314108312129974, 0.11669493466615677, 0.1994885802268982, 0.2820970118045807, 0.16501079499721527, 0.11317964643239975, 0.11333435028791428, 0.32633835077285767, 0.14698205888271332, 0.20963338017463684, 0.3800737261772156, 0.3780090808868408, 0.21808314323425293, 0.28895798325538635, 0.10632947087287903, 0.20491299033164978, 0.14925804734230042, 0.14622025191783905, 0.14766082167625427, 0.3155433237552643], feature_array=DenseVector([0.0731, 0.1166, 0.1993, 0.2824, 0.165, 0.1132, 0.1134, 0.3264, 0.147, 0.2097, 0.38, 0.3782, 0.2181, 0.2888, 0.1063, 0.2047, 0.1492, 0.1461, 0.1476, 0.3156, 0.0731, 0.1167, 0.1995, 0.2821, 0.165, 0.1132, 0.1133, 0.3263, 0.147, 0.2096, 0.3801, 0.378, 0.2181, 0.289, 0.1063, 0.2049, 0.1493, 0.1462, 0.1477, 0.3155]), features=SparseVector(128, {0: 1.0, 1: 3.0, 2: 2013.0, 11: 1.0, 49: 1.0, 58: 1.0, 60: 1.0, 88: 0.0731, 89: 0.1166, 90: 0.1993, 91: 0.2824, 92: 0.165, 93: 0.1132, 94: 0.1134, 95: 0.3264, 96: 0.147, 97: 0.2097, 98: 0.38, 99: 0.3782, 100: 0.2181, 101: 0.2888, 102: 0.1063, 103: 0.2047, 104: 0.1492, 105: 0.1461, 106: 0.1476, 107: 0.3156, 108: 0.0731, 109: 0.1167, 110: 0.1995, 111: 0.2821, 112: 0.165, 113: 0.1132, 114: 0.1133, 115: 0.3263, 116: 0.147, 117: 0.2096, 118: 0.3801, 119: 0.378, 120: 0.2181, 121: 0.289, 122: 0.1063, 123: 0.2049, 124: 0.1493, 125: 0.1462, 126: 0.1477, 127: 0.3155}))]"
      ]
     },
     "execution_count": 163,
     "metadata": {},
     "output_type": "execute_result"
    }
   ],
   "source": [
    "train_sample.take(1)"
   ]
  },
  {
   "cell_type": "code",
   "execution_count": 157,
   "metadata": {},
   "outputs": [
    {
     "data": {
      "text/plain": [
       "[Row(item_id=3764, user_id=842257, purchase=None, user_items=21, item_users=3, year=2013, genres_dummies=SparseVector(85, {8: 1.0, 46: 1.0, 55: 1.0, 57: 1.0}), user_feat=[1.3482138718151973e-15, 2.151358018665753e-15, 3.6773655884172855e-15, 5.2052550536193804e-15, 3.0427869273009665e-15, 2.087026925112973e-15, 2.0908597491992986e-15, 6.019219411096399e-15, 2.710286261438659e-15, 3.866496610594383e-15, 7.0087372761225026e-15, 6.973334687059062e-15, 4.02161925993922e-15, 5.327658090761205e-15, 1.9604200634539253e-15, 3.7767140828007424e-15, 2.7520670085949247e-15, 2.6954894428830737e-15, 2.7227043997201175e-15, 5.819863854212995e-15], item_feat=[2.5648847974712227e-15, 4.09221522092813e-15, 6.995592171814063e-15, 9.89247407406045e-15, 5.786538189936222e-15, 3.968942280949475e-15, 3.974367526976639e-15, 1.1443913172778583e-14, 5.154312798105612e-15, 7.351346433177343e-15, 1.3328286194711544e-14, 1.325588351244614e-14, 7.647659733950578e-15, 1.0133072935695087e-14, 3.728722890075208e-15, 7.185813325394277e-15, 5.234126595143017e-15, 5.127598225982159e-15, 5.178115694472879e-15, 1.1065357207991691e-14], user_feat_vector=DenseVector([0.0, 0.0, 0.0, 0.0, 0.0, 0.0, 0.0, 0.0, 0.0, 0.0, 0.0, 0.0, 0.0, 0.0, 0.0, 0.0, 0.0, 0.0, 0.0, 0.0]), item_feat_vector=DenseVector([0.0, 0.0, 0.0, 0.0, 0.0, 0.0, 0.0, 0.0, 0.0, 0.0, 0.0, 0.0, 0.0, 0.0, 0.0, 0.0, 0.0, 0.0, 0.0, 0.0]), user_feat_vector_norm=[0.07310495525598526, 0.11665429174900055, 0.19939985871315002, 0.2822474539279938, 0.16499073803424835, 0.11316603422164917, 0.11337386071681976, 0.326383501291275, 0.14696137607097626, 0.20965521037578583, 0.38003870844841003, 0.3781190514564514, 0.2180665135383606, 0.28888460993766785, 0.1063009575009346, 0.20478688180446625, 0.14922687411308289, 0.14615903794765472, 0.14763472974300385, 0.3155737519264221], item_feat_vector_norm=[0.07314108312129974, 0.11669493466615677, 0.1994885802268982, 0.2820970118045807, 0.16501079499721527, 0.11317964643239975, 0.11333435028791428, 0.32633835077285767, 0.14698205888271332, 0.20963338017463684, 0.3800737261772156, 0.3780090808868408, 0.21808314323425293, 0.28895798325538635, 0.10632947087287903, 0.20491299033164978, 0.14925804734230042, 0.14622025191783905, 0.14766082167625427, 0.3155433237552643], feature_array=DenseVector([0.0731, 0.1167, 0.1994, 0.2822, 0.165, 0.1132, 0.1134, 0.3264, 0.147, 0.2097, 0.38, 0.3781, 0.2181, 0.2889, 0.1063, 0.2048, 0.1492, 0.1462, 0.1476, 0.3156, 0.0731, 0.1167, 0.1995, 0.2821, 0.165, 0.1132, 0.1133, 0.3263, 0.147, 0.2096, 0.3801, 0.378, 0.2181, 0.289, 0.1063, 0.2049, 0.1493, 0.1462, 0.1477, 0.3155]))]"
      ]
     },
     "execution_count": 157,
     "metadata": {},
     "output_type": "execute_result"
    }
   ],
   "source": [
    "test_sample.take(1)"
   ]
  },
  {
   "cell_type": "code",
   "execution_count": 164,
   "metadata": {},
   "outputs": [],
   "source": [
    "assembler = VectorAssembler(inputCols=['user_items', 'item_users', 'year', 'genres_dummies'], outputCol='features_base')\n",
    "train_sample = assembler.transform(train_sample)\n",
    "test_sample = assembler.transform(test_sample)"
   ]
  },
  {
   "cell_type": "code",
   "execution_count": 165,
   "metadata": {},
   "outputs": [
    {
     "data": {
      "text/plain": [
       "[Row(item_id=3764, user_id=814771, purchase=0, user_items=16, item_users=3, year=2013, genres_dummies=SparseVector(85, {8: 1.0, 46: 1.0, 55: 1.0, 57: 1.0}), user_feat=[5.6330692665417805e-16, 8.99016735655836e-16, 1.5364685325292417e-15, 2.1776109578329527e-15, 1.2716780922836669e-15, 8.723806199591221e-16, 8.741912058234374e-16, 2.5168925459545044e-15, 1.133046433268042e-15, 1.6166513182942939e-15, 2.9297861676319016e-15, 2.91665715694946e-15, 1.6812781322247841e-15, 2.226678941192684e-15, 8.194108852069824e-16, 1.5780432389210877e-15, 1.1503843506653903e-15, 1.1263372970510776e-15, 1.1378106759589923e-15, 2.4331129406580552e-15], item_feat=[2.5648847974712227e-15, 4.09221522092813e-15, 6.995592171814063e-15, 9.89247407406045e-15, 5.786538189936222e-15, 3.968942280949475e-15, 3.974367526976639e-15, 1.1443913172778583e-14, 5.154312798105612e-15, 7.351346433177343e-15, 1.3328286194711544e-14, 1.325588351244614e-14, 7.647659733950578e-15, 1.0133072935695087e-14, 3.728722890075208e-15, 7.185813325394277e-15, 5.234126595143017e-15, 5.127598225982159e-15, 5.178115694472879e-15, 1.1065357207991691e-14], user_feat_vector=DenseVector([0.0, 0.0, 0.0, 0.0, 0.0, 0.0, 0.0, 0.0, 0.0, 0.0, 0.0, 0.0, 0.0, 0.0, 0.0, 0.0, 0.0, 0.0, 0.0, 0.0]), item_feat_vector=DenseVector([0.0, 0.0, 0.0, 0.0, 0.0, 0.0, 0.0, 0.0, 0.0, 0.0, 0.0, 0.0, 0.0, 0.0, 0.0, 0.0, 0.0, 0.0, 0.0, 0.0]), user_feat_vector_norm=[0.07306040823459625, 0.11660167574882507, 0.19927860796451569, 0.28243422508239746, 0.16493552923202515, 0.11314699798822403, 0.11338182538747787, 0.3264387249946594, 0.14695511758327484, 0.20967824757099152, 0.37999066710472107, 0.3782878518104553, 0.21806028485298157, 0.2887983024120331, 0.10627686977386475, 0.20467081665992737, 0.1492038369178772, 0.1460849493741989, 0.14757303893566132, 0.315572589635849], item_feat_vector_norm=[0.07314108312129974, 0.11669493466615677, 0.1994885802268982, 0.2820970118045807, 0.16501079499721527, 0.11317964643239975, 0.11333435028791428, 0.32633835077285767, 0.14698205888271332, 0.20963338017463684, 0.3800737261772156, 0.3780090808868408, 0.21808314323425293, 0.28895798325538635, 0.10632947087287903, 0.20491299033164978, 0.14925804734230042, 0.14622025191783905, 0.14766082167625427, 0.3155433237552643], feature_array=DenseVector([0.0731, 0.1166, 0.1993, 0.2824, 0.1649, 0.1131, 0.1134, 0.3264, 0.147, 0.2097, 0.38, 0.3783, 0.2181, 0.2888, 0.1063, 0.2047, 0.1492, 0.1461, 0.1476, 0.3156, 0.0731, 0.1167, 0.1995, 0.2821, 0.165, 0.1132, 0.1133, 0.3263, 0.147, 0.2096, 0.3801, 0.378, 0.2181, 0.289, 0.1063, 0.2049, 0.1493, 0.1462, 0.1477, 0.3155]), features=SparseVector(128, {0: 16.0, 1: 3.0, 2: 2013.0, 11: 1.0, 49: 1.0, 58: 1.0, 60: 1.0, 88: 0.0731, 89: 0.1166, 90: 0.1993, 91: 0.2824, 92: 0.1649, 93: 0.1131, 94: 0.1134, 95: 0.3264, 96: 0.147, 97: 0.2097, 98: 0.38, 99: 0.3783, 100: 0.2181, 101: 0.2888, 102: 0.1063, 103: 0.2047, 104: 0.1492, 105: 0.1461, 106: 0.1476, 107: 0.3156, 108: 0.0731, 109: 0.1167, 110: 0.1995, 111: 0.2821, 112: 0.165, 113: 0.1132, 114: 0.1133, 115: 0.3263, 116: 0.147, 117: 0.2096, 118: 0.3801, 119: 0.378, 120: 0.2181, 121: 0.289, 122: 0.1063, 123: 0.2049, 124: 0.1493, 125: 0.1462, 126: 0.1477, 127: 0.3155}), features_base=SparseVector(88, {0: 16.0, 1: 3.0, 2: 2013.0, 11: 1.0, 49: 1.0, 58: 1.0, 60: 1.0}))]"
      ]
     },
     "execution_count": 165,
     "metadata": {},
     "output_type": "execute_result"
    }
   ],
   "source": [
    "train_sample.take(1)"
   ]
  },
  {
   "cell_type": "code",
   "execution_count": 166,
   "metadata": {},
   "outputs": [
    {
     "data": {
      "text/plain": [
       "[Row(item_id=3764, user_id=867836, purchase=None, user_items=0, item_users=3, year=2013, genres_dummies=SparseVector(85, {8: 1.0, 46: 1.0, 55: 1.0, 57: 1.0}), user_feat=[0.0, 0.0, 0.0, 0.0, 0.0, 0.0, 0.0, 0.0, 0.0, 0.0, 0.0, 0.0, 0.0, 0.0, 0.0, 0.0, 0.0, 0.0, 0.0, 0.0], item_feat=[2.5648847974712227e-15, 4.09221522092813e-15, 6.995592171814063e-15, 9.89247407406045e-15, 5.786538189936222e-15, 3.968942280949475e-15, 3.974367526976639e-15, 1.1443913172778583e-14, 5.154312798105612e-15, 7.351346433177343e-15, 1.3328286194711544e-14, 1.325588351244614e-14, 7.647659733950578e-15, 1.0133072935695087e-14, 3.728722890075208e-15, 7.185813325394277e-15, 5.234126595143017e-15, 5.127598225982159e-15, 5.178115694472879e-15, 1.1065357207991691e-14], user_feat_vector=DenseVector([0.0, 0.0, 0.0, 0.0, 0.0, 0.0, 0.0, 0.0, 0.0, 0.0, 0.0, 0.0, 0.0, 0.0, 0.0, 0.0, 0.0, 0.0, 0.0, 0.0]), item_feat_vector=DenseVector([0.0, 0.0, 0.0, 0.0, 0.0, 0.0, 0.0, 0.0, 0.0, 0.0, 0.0, 0.0, 0.0, 0.0, 0.0, 0.0, 0.0, 0.0, 0.0, 0.0]), user_feat_vector_norm=[0.0, 0.0, 0.0, 0.0, 0.0, 0.0, 0.0, 0.0, 0.0, 0.0, 0.0, 0.0, 0.0, 0.0, 0.0, 0.0, 0.0, 0.0, 0.0, 0.0], item_feat_vector_norm=[0.07314108312129974, 0.11669493466615677, 0.1994885802268982, 0.2820970118045807, 0.16501079499721527, 0.11317964643239975, 0.11333435028791428, 0.32633835077285767, 0.14698205888271332, 0.20963338017463684, 0.3800737261772156, 0.3780090808868408, 0.21808314323425293, 0.28895798325538635, 0.10632947087287903, 0.20491299033164978, 0.14925804734230042, 0.14622025191783905, 0.14766082167625427, 0.3155433237552643], feature_array=DenseVector([0.0, 0.0, 0.0, 0.0, 0.0, 0.0, 0.0, 0.0, 0.0, 0.0, 0.0, 0.0, 0.0, 0.0, 0.0, 0.0, 0.0, 0.0, 0.0, 0.0, 0.0731, 0.1167, 0.1995, 0.2821, 0.165, 0.1132, 0.1133, 0.3263, 0.147, 0.2096, 0.3801, 0.378, 0.2181, 0.289, 0.1063, 0.2049, 0.1493, 0.1462, 0.1477, 0.3155]), features=SparseVector(128, {1: 3.0, 2: 2013.0, 11: 1.0, 49: 1.0, 58: 1.0, 60: 1.0, 108: 0.0731, 109: 0.1167, 110: 0.1995, 111: 0.2821, 112: 0.165, 113: 0.1132, 114: 0.1133, 115: 0.3263, 116: 0.147, 117: 0.2096, 118: 0.3801, 119: 0.378, 120: 0.2181, 121: 0.289, 122: 0.1063, 123: 0.2049, 124: 0.1493, 125: 0.1462, 126: 0.1477, 127: 0.3155}), features_base=SparseVector(88, {1: 3.0, 2: 2013.0, 11: 1.0, 49: 1.0, 58: 1.0, 60: 1.0}))]"
      ]
     },
     "execution_count": 166,
     "metadata": {},
     "output_type": "execute_result"
    }
   ],
   "source": [
    "test_sample.take(1)"
   ]
  },
  {
   "cell_type": "code",
   "execution_count": 167,
   "metadata": {},
   "outputs": [],
   "source": [
    "#gb = GBTClassifier(labelCol='purchase', featuresCol='features', maxIter=60)\n",
    "#gb = RandomForestClassifier(labelCol='purchase', featuresCol='features_new', numTrees=100)\n",
    "gb = LogisticRegression(labelCol='purchase', featuresCol='features_base', maxIter=60)"
   ]
  },
  {
   "cell_type": "code",
   "execution_count": 90,
   "metadata": {},
   "outputs": [
    {
     "data": {
      "text/plain": [
       "[Row(item_id=3764, user_id=773825, purchase=0, features=SparseVector(88, {0: 2.0, 1: 3.0, 2: 2013.0, 11: 1.0, 49: 1.0, 58: 1.0, 60: 1.0}), user_feat=[3.0421656815737147e-16, 4.854413583350176e-16, 8.297943444700176e-16, 1.1744736500479474e-15, 6.866311650657007e-16, 4.709204607620003e-16, 4.718453678008428e-16, 1.3581581444950812e-15, 6.115110422868282e-16, 8.724307007821285e-16, 1.5814528641711414e-15, 1.573366346502823e-15, 9.074088204598764e-16, 1.2021310757208132e-15, 4.4233174883340795e-16, 8.521239329046539e-16, 6.209504303905894e-16, 6.082189957977652e-16, 6.144054597467146e-16, 1.313249728181079e-15], item_feat=[2.5648847974712227e-15, 4.09221522092813e-15, 6.995592171814063e-15, 9.89247407406045e-15, 5.786538189936222e-15, 3.968942280949475e-15, 3.974367526976639e-15, 1.1443913172778583e-14, 5.154312798105612e-15, 7.351346433177343e-15, 1.3328286194711544e-14, 1.325588351244614e-14, 7.647659733950578e-15, 1.0133072935695087e-14, 3.728722890075208e-15, 7.185813325394277e-15, 5.234126595143017e-15, 5.127598225982159e-15, 5.178115694472879e-15, 1.1065357207991691e-14], user_feat_vector=DenseVector([0.0, 0.0, 0.0, 0.0, 0.0, 0.0, 0.0, 0.0, 0.0, 0.0, 0.0, 0.0, 0.0, 0.0, 0.0, 0.0, 0.0, 0.0, 0.0, 0.0]), item_feat_vector=DenseVector([0.0, 0.0, 0.0, 0.0, 0.0, 0.0, 0.0, 0.0, 0.0, 0.0, 0.0, 0.0, 0.0, 0.0, 0.0, 0.0, 0.0, 0.0, 0.0, 0.0]), user_feat_vector_norm=[0.07310686260461807, 0.1166573315858841, 0.19940945506095886, 0.28224000334739685, 0.1650056391954422, 0.11316778510808945, 0.11339005827903748, 0.3263815641403198, 0.14695337414741516, 0.20965547859668732, 0.3800419270992279, 0.37809863686561584, 0.21806113421916962, 0.2888863980770111, 0.1062975823879242, 0.20477551221847534, 0.1492217779159546, 0.1461622565984726, 0.14764894545078278, 0.3155895173549652], item_feat_vector_norm=[0.07314108312129974, 0.11669493466615677, 0.1994885802268982, 0.2820970118045807, 0.16501079499721527, 0.11317964643239975, 0.11333435028791428, 0.32633835077285767, 0.14698205888271332, 0.20963338017463684, 0.3800737261772156, 0.3780090808868408, 0.21808314323425293, 0.28895798325538635, 0.10632947087287903, 0.20491299033164978, 0.14925804734230042, 0.14622025191783905, 0.14766082167625427, 0.3155433237552643], feature_array=DenseVector([0.0731, 0.1167, 0.1994, 0.2822, 0.165, 0.1132, 0.1134, 0.3264, 0.147, 0.2097, 0.38, 0.3781, 0.2181, 0.2889, 0.1063, 0.2048, 0.1492, 0.1462, 0.1476, 0.3156, 0.0731, 0.1167, 0.1995, 0.2821, 0.165, 0.1132, 0.1133, 0.3263, 0.147, 0.2096, 0.3801, 0.378, 0.2181, 0.289, 0.1063, 0.2049, 0.1493, 0.1462, 0.1477, 0.3155]), features_new=SparseVector(128, {0: 2.0, 1: 3.0, 2: 2013.0, 11: 1.0, 49: 1.0, 58: 1.0, 60: 1.0, 88: 0.0731, 89: 0.1167, 90: 0.1994, 91: 0.2822, 92: 0.165, 93: 0.1132, 94: 0.1134, 95: 0.3264, 96: 0.147, 97: 0.2097, 98: 0.38, 99: 0.3781, 100: 0.2181, 101: 0.2889, 102: 0.1063, 103: 0.2048, 104: 0.1492, 105: 0.1462, 106: 0.1476, 107: 0.3156, 108: 0.0731, 109: 0.1167, 110: 0.1995, 111: 0.2821, 112: 0.165, 113: 0.1132, 114: 0.1133, 115: 0.3263, 116: 0.147, 117: 0.2096, 118: 0.3801, 119: 0.378, 120: 0.2181, 121: 0.289, 122: 0.1063, 123: 0.2049, 124: 0.1493, 125: 0.1462, 126: 0.1477, 127: 0.3155}))]"
      ]
     },
     "execution_count": 90,
     "metadata": {},
     "output_type": "execute_result"
    }
   ],
   "source": [
    "train_sample.take(1)"
   ]
  },
  {
   "cell_type": "code",
   "execution_count": 168,
   "metadata": {},
   "outputs": [],
   "source": [
    "model = gb.fit(train_sample)"
   ]
  },
  {
   "cell_type": "code",
   "execution_count": null,
   "metadata": {},
   "outputs": [],
   "source": [
    "model"
   ]
  },
  {
   "cell_type": "code",
   "execution_count": 75,
   "metadata": {},
   "outputs": [],
   "source": [
    "predict_test = model.transform(test_sample)"
   ]
  },
  {
   "cell_type": "code",
   "execution_count": 76,
   "metadata": {},
   "outputs": [],
   "source": [
    "predict = predict_test.select(f.col('user_id').cast(IntegerType()), f.col('item_id').cast(IntegerType()), \n",
    "                              'probability')"
   ]
  },
  {
   "cell_type": "code",
   "execution_count": 77,
   "metadata": {},
   "outputs": [],
   "source": [
    "extract_udf = udf(lambda x: float(x[1]), FloatType())"
   ]
  },
  {
   "cell_type": "code",
   "execution_count": 78,
   "metadata": {
    "scrolled": false
   },
   "outputs": [],
   "source": [
    "predict = predict.withColumn('proba', extract_udf(predict.probability))"
   ]
  },
  {
   "cell_type": "code",
   "execution_count": 79,
   "metadata": {},
   "outputs": [],
   "source": [
    "predict = predict.select('user_id', 'item_id', 'proba').orderBy(['user_id', 'item_id'])"
   ]
  },
  {
   "cell_type": "code",
   "execution_count": 80,
   "metadata": {},
   "outputs": [
    {
     "name": "stdout",
     "output_type": "stream",
     "text": [
      "+-------+-------+------------+\n",
      "|user_id|item_id|       proba|\n",
      "+-------+-------+------------+\n",
      "|   1654|    336|3.0465933E-4|\n",
      "|   1654|    678|2.5438727E-4|\n",
      "|   1654|    691|3.4608628E-4|\n",
      "|   1654|    696|0.0023978103|\n",
      "|   1654|    763|0.0025053618|\n",
      "|   1654|    795| 0.004865705|\n",
      "|   1654|    861|0.0026504558|\n",
      "|   1654|   1137|0.0034343926|\n",
      "|   1654|   1159|0.0029824148|\n",
      "|   1654|   1428|0.0016794871|\n",
      "|   1654|   1685|0.0014787787|\n",
      "|   1654|   1686|0.0014529492|\n",
      "|   1654|   1704|0.0024808447|\n",
      "|   1654|   2093|3.0876778E-4|\n",
      "|   1654|   2343|0.0017559158|\n",
      "|   1654|   2451| 3.578144E-4|\n",
      "|   1654|   2469|   0.0050459|\n",
      "|   1654|   2603|0.0021950793|\n",
      "|   1654|   2609|2.4468554E-4|\n",
      "|   1654|   2621|0.0022136455|\n",
      "+-------+-------+------------+\n",
      "only showing top 20 rows\n",
      "\n"
     ]
    }
   ],
   "source": [
    "predict.show()"
   ]
  },
  {
   "cell_type": "code",
   "execution_count": 81,
   "metadata": {},
   "outputs": [],
   "source": [
    "predict_df = predict.toPandas()\n",
    "predict_df.columns = ['user_id', 'item_id', 'purchase']\n"
   ]
  },
  {
   "cell_type": "code",
   "execution_count": 82,
   "metadata": {},
   "outputs": [],
   "source": [
    "predict_df = predict_df.sort_values(['user_id', 'item_id'])\n",
    "predict_df.reset_index(drop=True, inplace=True)"
   ]
  },
  {
   "cell_type": "code",
   "execution_count": 83,
   "metadata": {},
   "outputs": [
    {
     "data": {
      "text/plain": [
       "0.9741041"
      ]
     },
     "execution_count": 83,
     "metadata": {},
     "output_type": "execute_result"
    }
   ],
   "source": [
    "predict_df['purchase'].max()"
   ]
  },
  {
   "cell_type": "code",
   "execution_count": 84,
   "metadata": {},
   "outputs": [],
   "source": [
    "predict_df.to_csv('/data/home/andrey.karavaev/lab03.csv')"
   ]
  },
  {
   "cell_type": "code",
   "execution_count": 85,
   "metadata": {},
   "outputs": [
    {
     "data": {
      "text/html": [
       "<div>\n",
       "<style scoped>\n",
       "    .dataframe tbody tr th:only-of-type {\n",
       "        vertical-align: middle;\n",
       "    }\n",
       "\n",
       "    .dataframe tbody tr th {\n",
       "        vertical-align: top;\n",
       "    }\n",
       "\n",
       "    .dataframe thead th {\n",
       "        text-align: right;\n",
       "    }\n",
       "</style>\n",
       "<table border=\"1\" class=\"dataframe\">\n",
       "  <thead>\n",
       "    <tr style=\"text-align: right;\">\n",
       "      <th></th>\n",
       "      <th>user_id</th>\n",
       "      <th>item_id</th>\n",
       "      <th>purchase</th>\n",
       "    </tr>\n",
       "  </thead>\n",
       "  <tbody>\n",
       "    <tr>\n",
       "      <th>0</th>\n",
       "      <td>1654</td>\n",
       "      <td>336</td>\n",
       "      <td>0.000305</td>\n",
       "    </tr>\n",
       "    <tr>\n",
       "      <th>1</th>\n",
       "      <td>1654</td>\n",
       "      <td>678</td>\n",
       "      <td>0.000254</td>\n",
       "    </tr>\n",
       "    <tr>\n",
       "      <th>2</th>\n",
       "      <td>1654</td>\n",
       "      <td>691</td>\n",
       "      <td>0.000346</td>\n",
       "    </tr>\n",
       "    <tr>\n",
       "      <th>3</th>\n",
       "      <td>1654</td>\n",
       "      <td>696</td>\n",
       "      <td>0.002398</td>\n",
       "    </tr>\n",
       "    <tr>\n",
       "      <th>4</th>\n",
       "      <td>1654</td>\n",
       "      <td>763</td>\n",
       "      <td>0.002505</td>\n",
       "    </tr>\n",
       "    <tr>\n",
       "      <th>5</th>\n",
       "      <td>1654</td>\n",
       "      <td>795</td>\n",
       "      <td>0.004866</td>\n",
       "    </tr>\n",
       "    <tr>\n",
       "      <th>6</th>\n",
       "      <td>1654</td>\n",
       "      <td>861</td>\n",
       "      <td>0.002650</td>\n",
       "    </tr>\n",
       "    <tr>\n",
       "      <th>7</th>\n",
       "      <td>1654</td>\n",
       "      <td>1137</td>\n",
       "      <td>0.003434</td>\n",
       "    </tr>\n",
       "    <tr>\n",
       "      <th>8</th>\n",
       "      <td>1654</td>\n",
       "      <td>1159</td>\n",
       "      <td>0.002982</td>\n",
       "    </tr>\n",
       "    <tr>\n",
       "      <th>9</th>\n",
       "      <td>1654</td>\n",
       "      <td>1428</td>\n",
       "      <td>0.001679</td>\n",
       "    </tr>\n",
       "    <tr>\n",
       "      <th>10</th>\n",
       "      <td>1654</td>\n",
       "      <td>1685</td>\n",
       "      <td>0.001479</td>\n",
       "    </tr>\n",
       "    <tr>\n",
       "      <th>11</th>\n",
       "      <td>1654</td>\n",
       "      <td>1686</td>\n",
       "      <td>0.001453</td>\n",
       "    </tr>\n",
       "    <tr>\n",
       "      <th>12</th>\n",
       "      <td>1654</td>\n",
       "      <td>1704</td>\n",
       "      <td>0.002481</td>\n",
       "    </tr>\n",
       "    <tr>\n",
       "      <th>13</th>\n",
       "      <td>1654</td>\n",
       "      <td>2093</td>\n",
       "      <td>0.000309</td>\n",
       "    </tr>\n",
       "    <tr>\n",
       "      <th>14</th>\n",
       "      <td>1654</td>\n",
       "      <td>2343</td>\n",
       "      <td>0.001756</td>\n",
       "    </tr>\n",
       "    <tr>\n",
       "      <th>15</th>\n",
       "      <td>1654</td>\n",
       "      <td>2451</td>\n",
       "      <td>0.000358</td>\n",
       "    </tr>\n",
       "    <tr>\n",
       "      <th>16</th>\n",
       "      <td>1654</td>\n",
       "      <td>2469</td>\n",
       "      <td>0.005046</td>\n",
       "    </tr>\n",
       "    <tr>\n",
       "      <th>17</th>\n",
       "      <td>1654</td>\n",
       "      <td>2603</td>\n",
       "      <td>0.002195</td>\n",
       "    </tr>\n",
       "    <tr>\n",
       "      <th>18</th>\n",
       "      <td>1654</td>\n",
       "      <td>2609</td>\n",
       "      <td>0.000245</td>\n",
       "    </tr>\n",
       "    <tr>\n",
       "      <th>19</th>\n",
       "      <td>1654</td>\n",
       "      <td>2621</td>\n",
       "      <td>0.002214</td>\n",
       "    </tr>\n",
       "    <tr>\n",
       "      <th>20</th>\n",
       "      <td>1654</td>\n",
       "      <td>2683</td>\n",
       "      <td>0.003602</td>\n",
       "    </tr>\n",
       "    <tr>\n",
       "      <th>21</th>\n",
       "      <td>1654</td>\n",
       "      <td>2695</td>\n",
       "      <td>0.002271</td>\n",
       "    </tr>\n",
       "    <tr>\n",
       "      <th>22</th>\n",
       "      <td>1654</td>\n",
       "      <td>2696</td>\n",
       "      <td>0.002195</td>\n",
       "    </tr>\n",
       "    <tr>\n",
       "      <th>23</th>\n",
       "      <td>1654</td>\n",
       "      <td>2773</td>\n",
       "      <td>0.001922</td>\n",
       "    </tr>\n",
       "    <tr>\n",
       "      <th>24</th>\n",
       "      <td>1654</td>\n",
       "      <td>2855</td>\n",
       "      <td>0.003344</td>\n",
       "    </tr>\n",
       "    <tr>\n",
       "      <th>25</th>\n",
       "      <td>1654</td>\n",
       "      <td>2990</td>\n",
       "      <td>0.002782</td>\n",
       "    </tr>\n",
       "    <tr>\n",
       "      <th>26</th>\n",
       "      <td>1654</td>\n",
       "      <td>3055</td>\n",
       "      <td>0.000358</td>\n",
       "    </tr>\n",
       "    <tr>\n",
       "      <th>27</th>\n",
       "      <td>1654</td>\n",
       "      <td>3066</td>\n",
       "      <td>0.005900</td>\n",
       "    </tr>\n",
       "    <tr>\n",
       "      <th>28</th>\n",
       "      <td>1654</td>\n",
       "      <td>3110</td>\n",
       "      <td>0.002106</td>\n",
       "    </tr>\n",
       "    <tr>\n",
       "      <th>29</th>\n",
       "      <td>1654</td>\n",
       "      <td>3147</td>\n",
       "      <td>0.003113</td>\n",
       "    </tr>\n",
       "    <tr>\n",
       "      <th>...</th>\n",
       "      <td>...</td>\n",
       "      <td>...</td>\n",
       "      <td>...</td>\n",
       "    </tr>\n",
       "    <tr>\n",
       "      <th>2156810</th>\n",
       "      <td>941450</td>\n",
       "      <td>100453</td>\n",
       "      <td>0.002431</td>\n",
       "    </tr>\n",
       "    <tr>\n",
       "      <th>2156811</th>\n",
       "      <td>941450</td>\n",
       "      <td>100459</td>\n",
       "      <td>0.000221</td>\n",
       "    </tr>\n",
       "    <tr>\n",
       "      <th>2156812</th>\n",
       "      <td>941450</td>\n",
       "      <td>100478</td>\n",
       "      <td>0.002871</td>\n",
       "    </tr>\n",
       "    <tr>\n",
       "      <th>2156813</th>\n",
       "      <td>941450</td>\n",
       "      <td>100480</td>\n",
       "      <td>0.002544</td>\n",
       "    </tr>\n",
       "    <tr>\n",
       "      <th>2156814</th>\n",
       "      <td>941450</td>\n",
       "      <td>100483</td>\n",
       "      <td>0.001823</td>\n",
       "    </tr>\n",
       "    <tr>\n",
       "      <th>2156815</th>\n",
       "      <td>941450</td>\n",
       "      <td>100492</td>\n",
       "      <td>0.002135</td>\n",
       "    </tr>\n",
       "    <tr>\n",
       "      <th>2156816</th>\n",
       "      <td>941450</td>\n",
       "      <td>100500</td>\n",
       "      <td>0.002865</td>\n",
       "    </tr>\n",
       "    <tr>\n",
       "      <th>2156817</th>\n",
       "      <td>941450</td>\n",
       "      <td>100571</td>\n",
       "      <td>0.002425</td>\n",
       "    </tr>\n",
       "    <tr>\n",
       "      <th>2156818</th>\n",
       "      <td>941450</td>\n",
       "      <td>100667</td>\n",
       "      <td>0.002272</td>\n",
       "    </tr>\n",
       "    <tr>\n",
       "      <th>2156819</th>\n",
       "      <td>941450</td>\n",
       "      <td>100759</td>\n",
       "      <td>0.001189</td>\n",
       "    </tr>\n",
       "    <tr>\n",
       "      <th>2156820</th>\n",
       "      <td>941450</td>\n",
       "      <td>101103</td>\n",
       "      <td>0.000225</td>\n",
       "    </tr>\n",
       "    <tr>\n",
       "      <th>2156821</th>\n",
       "      <td>941450</td>\n",
       "      <td>101352</td>\n",
       "      <td>0.001661</td>\n",
       "    </tr>\n",
       "    <tr>\n",
       "      <th>2156822</th>\n",
       "      <td>941450</td>\n",
       "      <td>101528</td>\n",
       "      <td>0.001757</td>\n",
       "    </tr>\n",
       "    <tr>\n",
       "      <th>2156823</th>\n",
       "      <td>941450</td>\n",
       "      <td>101529</td>\n",
       "      <td>0.000121</td>\n",
       "    </tr>\n",
       "    <tr>\n",
       "      <th>2156824</th>\n",
       "      <td>941450</td>\n",
       "      <td>101822</td>\n",
       "      <td>0.000184</td>\n",
       "    </tr>\n",
       "    <tr>\n",
       "      <th>2156825</th>\n",
       "      <td>941450</td>\n",
       "      <td>101832</td>\n",
       "      <td>0.000194</td>\n",
       "    </tr>\n",
       "    <tr>\n",
       "      <th>2156826</th>\n",
       "      <td>941450</td>\n",
       "      <td>101870</td>\n",
       "      <td>0.000182</td>\n",
       "    </tr>\n",
       "    <tr>\n",
       "      <th>2156827</th>\n",
       "      <td>941450</td>\n",
       "      <td>101958</td>\n",
       "      <td>0.001733</td>\n",
       "    </tr>\n",
       "    <tr>\n",
       "      <th>2156828</th>\n",
       "      <td>941450</td>\n",
       "      <td>102088</td>\n",
       "      <td>0.000128</td>\n",
       "    </tr>\n",
       "    <tr>\n",
       "      <th>2156829</th>\n",
       "      <td>941450</td>\n",
       "      <td>102279</td>\n",
       "      <td>0.001747</td>\n",
       "    </tr>\n",
       "    <tr>\n",
       "      <th>2156830</th>\n",
       "      <td>941450</td>\n",
       "      <td>102431</td>\n",
       "      <td>0.002444</td>\n",
       "    </tr>\n",
       "    <tr>\n",
       "      <th>2156831</th>\n",
       "      <td>941450</td>\n",
       "      <td>102603</td>\n",
       "      <td>0.001806</td>\n",
       "    </tr>\n",
       "    <tr>\n",
       "      <th>2156832</th>\n",
       "      <td>941450</td>\n",
       "      <td>102640</td>\n",
       "      <td>0.001409</td>\n",
       "    </tr>\n",
       "    <tr>\n",
       "      <th>2156833</th>\n",
       "      <td>941450</td>\n",
       "      <td>102641</td>\n",
       "      <td>0.000152</td>\n",
       "    </tr>\n",
       "    <tr>\n",
       "      <th>2156834</th>\n",
       "      <td>941450</td>\n",
       "      <td>102651</td>\n",
       "      <td>0.002098</td>\n",
       "    </tr>\n",
       "    <tr>\n",
       "      <th>2156835</th>\n",
       "      <td>941450</td>\n",
       "      <td>102966</td>\n",
       "      <td>0.002331</td>\n",
       "    </tr>\n",
       "    <tr>\n",
       "      <th>2156836</th>\n",
       "      <td>941450</td>\n",
       "      <td>103589</td>\n",
       "      <td>0.001680</td>\n",
       "    </tr>\n",
       "    <tr>\n",
       "      <th>2156837</th>\n",
       "      <td>941450</td>\n",
       "      <td>103762</td>\n",
       "      <td>0.001037</td>\n",
       "    </tr>\n",
       "    <tr>\n",
       "      <th>2156838</th>\n",
       "      <td>941450</td>\n",
       "      <td>103876</td>\n",
       "      <td>0.002259</td>\n",
       "    </tr>\n",
       "    <tr>\n",
       "      <th>2156839</th>\n",
       "      <td>941450</td>\n",
       "      <td>104016</td>\n",
       "      <td>0.001534</td>\n",
       "    </tr>\n",
       "  </tbody>\n",
       "</table>\n",
       "<p>2156840 rows × 3 columns</p>\n",
       "</div>"
      ],
      "text/plain": [
       "         user_id  item_id  purchase\n",
       "0           1654      336  0.000305\n",
       "1           1654      678  0.000254\n",
       "2           1654      691  0.000346\n",
       "3           1654      696  0.002398\n",
       "4           1654      763  0.002505\n",
       "5           1654      795  0.004866\n",
       "6           1654      861  0.002650\n",
       "7           1654     1137  0.003434\n",
       "8           1654     1159  0.002982\n",
       "9           1654     1428  0.001679\n",
       "10          1654     1685  0.001479\n",
       "11          1654     1686  0.001453\n",
       "12          1654     1704  0.002481\n",
       "13          1654     2093  0.000309\n",
       "14          1654     2343  0.001756\n",
       "15          1654     2451  0.000358\n",
       "16          1654     2469  0.005046\n",
       "17          1654     2603  0.002195\n",
       "18          1654     2609  0.000245\n",
       "19          1654     2621  0.002214\n",
       "20          1654     2683  0.003602\n",
       "21          1654     2695  0.002271\n",
       "22          1654     2696  0.002195\n",
       "23          1654     2773  0.001922\n",
       "24          1654     2855  0.003344\n",
       "25          1654     2990  0.002782\n",
       "26          1654     3055  0.000358\n",
       "27          1654     3066  0.005900\n",
       "28          1654     3110  0.002106\n",
       "29          1654     3147  0.003113\n",
       "...          ...      ...       ...\n",
       "2156810   941450   100453  0.002431\n",
       "2156811   941450   100459  0.000221\n",
       "2156812   941450   100478  0.002871\n",
       "2156813   941450   100480  0.002544\n",
       "2156814   941450   100483  0.001823\n",
       "2156815   941450   100492  0.002135\n",
       "2156816   941450   100500  0.002865\n",
       "2156817   941450   100571  0.002425\n",
       "2156818   941450   100667  0.002272\n",
       "2156819   941450   100759  0.001189\n",
       "2156820   941450   101103  0.000225\n",
       "2156821   941450   101352  0.001661\n",
       "2156822   941450   101528  0.001757\n",
       "2156823   941450   101529  0.000121\n",
       "2156824   941450   101822  0.000184\n",
       "2156825   941450   101832  0.000194\n",
       "2156826   941450   101870  0.000182\n",
       "2156827   941450   101958  0.001733\n",
       "2156828   941450   102088  0.000128\n",
       "2156829   941450   102279  0.001747\n",
       "2156830   941450   102431  0.002444\n",
       "2156831   941450   102603  0.001806\n",
       "2156832   941450   102640  0.001409\n",
       "2156833   941450   102641  0.000152\n",
       "2156834   941450   102651  0.002098\n",
       "2156835   941450   102966  0.002331\n",
       "2156836   941450   103589  0.001680\n",
       "2156837   941450   103762  0.001037\n",
       "2156838   941450   103876  0.002259\n",
       "2156839   941450   104016  0.001534\n",
       "\n",
       "[2156840 rows x 3 columns]"
      ]
     },
     "execution_count": 85,
     "metadata": {},
     "output_type": "execute_result"
    }
   ],
   "source": [
    "predict_df"
   ]
  },
  {
   "cell_type": "code",
   "execution_count": 3,
   "metadata": {},
   "outputs": [
    {
     "ename": "NameError",
     "evalue": "name 'spark' is not defined",
     "output_type": "error",
     "traceback": [
      "\u001b[0;31m---------------------------------------------------------------------------\u001b[0m",
      "\u001b[0;31mNameError\u001b[0m                                 Traceback (most recent call last)",
      "\u001b[0;32m<ipython-input-3-5c6b4d5d9db0>\u001b[0m in \u001b[0;36m<module>\u001b[0;34m()\u001b[0m\n\u001b[0;32m----> 1\u001b[0;31m \u001b[0mspark\u001b[0m\u001b[0;34m.\u001b[0m\u001b[0mstop\u001b[0m\u001b[0;34m(\u001b[0m\u001b[0;34m)\u001b[0m\u001b[0;34m\u001b[0m\u001b[0m\n\u001b[0m",
      "\u001b[0;31mNameError\u001b[0m: name 'spark' is not defined"
     ]
    }
   ],
   "source": [
    "spark.stop()"
   ]
  },
  {
   "cell_type": "code",
   "execution_count": null,
   "metadata": {},
   "outputs": [],
   "source": []
  }
 ],
 "metadata": {
  "kernelspec": {
   "display_name": "Python 3",
   "language": "python",
   "name": "python3"
  },
  "language_info": {
   "codemirror_mode": {
    "name": "ipython",
    "version": 3
   },
   "file_extension": ".py",
   "mimetype": "text/x-python",
   "name": "python",
   "nbconvert_exporter": "python",
   "pygments_lexer": "ipython3",
   "version": "3.6.5"
  }
 },
 "nbformat": 4,
 "nbformat_minor": 2
}
