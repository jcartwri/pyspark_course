{
 "cells": [
  {
   "cell_type": "markdown",
   "metadata": {},
   "source": [
    "## Лабораторная работа 2"
   ]
  },
  {
   "cell_type": "markdown",
   "metadata": {},
   "source": [
    "**Импорт библиотек**"
   ]
  },
  {
   "cell_type": "code",
   "execution_count": 1,
   "metadata": {},
   "outputs": [
    {
     "name": "stdout",
     "output_type": "stream",
     "text": [
      "Welcome to\n",
      "      ____              __\n",
      "     / __/__  ___ _____/ /__\n",
      "    _\\ \\/ _ \\/ _ `/ __/  '_/\n",
      "   /__ / .__/\\_,_/_/ /_/\\_\\   version 2.4.7\n",
      "      /_/\n",
      "\n",
      "Using Python version 3.6.5 (default, Apr 29 2018 16:14:56)\n",
      "SparkSession available as 'spark'.\n"
     ]
    }
   ],
   "source": [
    "import os\n",
    "import sys\n",
    "os.environ[\"PYSPARK_PYTHON\"]='/opt/anaconda/envs/bd9/bin/python'\n",
    "os.environ[\"SPARK_HOME\"]='/usr/hdp/current/spark2-client'\n",
    "os.environ[\"PYSPARK_SUBMIT_ARGS\"]='--num-executors 3 pyspark-shell'\n",
    "\n",
    "spark_home = os.environ.get('SPARK_HOME', None)\n",
    "\n",
    "sys.path.insert(0, os.path.join(spark_home, 'python'))\n",
    "sys.path.insert(0, os.path.join(spark_home, 'python/lib/py4j-0.10.7-src.zip'))\n",
    "exec(open(os.path.join(spark_home, 'python/pyspark/shell.py')).read())"
   ]
  },
  {
   "cell_type": "code",
   "execution_count": 2,
   "metadata": {},
   "outputs": [
    {
     "data": {
      "text/plain": [
       "<pyspark.conf.SparkConf at 0x7fccf01bc9e8>"
      ]
     },
     "execution_count": 2,
     "metadata": {},
     "output_type": "execute_result"
    }
   ],
   "source": [
    "from pyspark import SparkContext, SparkConf\n",
    "from pyspark.sql import functions as F\n",
    "from pyspark.sql.functions import col, pandas_udf, split, lower, udf\n",
    "from pyspark.sql.types import LongType, StructType, StructField, IntegerType, StringType, DoubleType\n",
    "from pyspark.ml.feature import CountVectorizer, HashingTF, IDF, Tokenizer, Normalizer, StopWordsRemover\n",
    "\n",
    "conf = SparkConf()\n",
    "conf.set(\"spark.app.name\", \"Spark Lab 2\") "
   ]
  },
  {
   "cell_type": "code",
   "execution_count": 3,
   "metadata": {},
   "outputs": [
    {
     "data": {
      "text/html": [
       "\n",
       "        <div>\n",
       "            <p><b>SparkContext</b></p>\n",
       "\n",
       "            <p><a href=\"http://spark-de-master-4.newprolab.com:4042\">Spark UI</a></p>\n",
       "\n",
       "            <dl>\n",
       "              <dt>Version</dt>\n",
       "                <dd><code>v2.4.7</code></dd>\n",
       "              <dt>Master</dt>\n",
       "                <dd><code>yarn</code></dd>\n",
       "              <dt>AppName</dt>\n",
       "                <dd><code>pyspark-shell</code></dd>\n",
       "            </dl>\n",
       "        </div>\n",
       "        "
      ],
      "text/plain": [
       "<SparkContext master=yarn appName=pyspark-shell>"
      ]
     },
     "execution_count": 3,
     "metadata": {},
     "output_type": "execute_result"
    }
   ],
   "source": [
    "sc"
   ]
  },
  {
   "cell_type": "markdown",
   "metadata": {},
   "source": [
    "**Обработка данных**"
   ]
  },
  {
   "cell_type": "code",
   "execution_count": 4,
   "metadata": {},
   "outputs": [],
   "source": [
    "schema = StructType(fields=[\n",
    "    StructField(\"cat\", StringType()),\n",
    "    StructField(\"desc\", StringType()),\n",
    "    StructField(\"id\", IntegerType()),\n",
    "    StructField(\"lang\", StringType()),\n",
    "    StructField(\"name\", StringType()),\n",
    "    StructField(\"provider\", StringType()),\n",
    "])"
   ]
  },
  {
   "cell_type": "code",
   "execution_count": 5,
   "metadata": {},
   "outputs": [],
   "source": [
    "df = spark.read.json(\"/labs/slaba02/DO_record_per_line.json\", schema).cache()"
   ]
  },
  {
   "cell_type": "code",
   "execution_count": 6,
   "metadata": {},
   "outputs": [
    {
     "name": "stdout",
     "output_type": "stream",
     "text": [
      "+--------------------+--------------------+---+----+--------------------+--------------+\n",
      "|                 cat|                desc| id|lang|                name|      provider|\n",
      "+--------------------+--------------------+---+----+--------------------+--------------+\n",
      "|3/business_manage...|This course intro...|  4|  en|Accounting Cycle:...|Canvas Network|\n",
      "|              11/law|This online cours...|  5|  en|American Counter ...|Canvas Network|\n",
      "|5/computer_scienc...|This course is ta...|  6|  fr|Arithmétique: en ...|Canvas Network|\n",
      "|  14/social_sciences|We live in a digi...|  7|  en|Becoming a Dynami...|Canvas Network|\n",
      "|2/biology_life_sc...|This self-paced c...|  8|  en|           Bioethics|Canvas Network|\n",
      "+--------------------+--------------------+---+----+--------------------+--------------+\n",
      "only showing top 5 rows\n",
      "\n"
     ]
    }
   ],
   "source": [
    "df.show(5)"
   ]
  },
  {
   "cell_type": "markdown",
   "metadata": {},
   "source": [
    "Токенизируем предложения"
   ]
  },
  {
   "cell_type": "code",
   "execution_count": 7,
   "metadata": {},
   "outputs": [],
   "source": [
    "tokenizer = Tokenizer(inputCol=\"desc\", outputCol=\"tokens\")\n",
    "df = tokenizer.transform(df)"
   ]
  },
  {
   "cell_type": "markdown",
   "metadata": {},
   "source": [
    "Убираем стоп-слова, которые не несут дополнительного смысла"
   ]
  },
  {
   "cell_type": "code",
   "execution_count": 8,
   "metadata": {},
   "outputs": [],
   "source": [
    "remover = StopWordsRemover(inputCol=\"tokens\", outputCol=\"words\")\n",
    "df = remover.transform(df)"
   ]
  },
  {
   "cell_type": "code",
   "execution_count": 9,
   "metadata": {},
   "outputs": [],
   "source": [
    "# оставляем столбцы id, name, lang, words\n",
    "df = df['id', 'name', 'lang', 'words']"
   ]
  },
  {
   "cell_type": "code",
   "execution_count": 10,
   "metadata": {},
   "outputs": [
    {
     "name": "stdout",
     "output_type": "stream",
     "text": [
      "+---+--------------------+----+--------------------+\n",
      "| id|                name|lang|               words|\n",
      "+---+--------------------+----+--------------------+\n",
      "|  4|Accounting Cycle:...|  en|[course, introduc...|\n",
      "|  5|American Counter ...|  en|[online, course, ...|\n",
      "|  6|Arithmétique: en ...|  fr|[course, taught, ...|\n",
      "|  7|Becoming a Dynami...|  en|[live, digitally,...|\n",
      "|  8|           Bioethics|  en|[self-paced, cour...|\n",
      "+---+--------------------+----+--------------------+\n",
      "only showing top 5 rows\n",
      "\n"
     ]
    }
   ],
   "source": [
    "df.show(5)"
   ]
  },
  {
   "cell_type": "markdown",
   "metadata": {},
   "source": [
    "Проводим TF-IDF, чтобы определить значимость каждого слова в описании "
   ]
  },
  {
   "cell_type": "code",
   "execution_count": null,
   "metadata": {},
   "outputs": [],
   "source": [
    "hashingTF = HashingTF(inputCol=\"words\", outputCol=\"raw_features\", numFeatures=10000)\n",
    "tf = hashingTF.transform(df)\n",
    "\n",
    "idf = IDF(inputCol=\"raw_features\", outputCol=\"tf_idf_features\").fit(tf)\n",
    "tf_idf = idf.transform(tf)"
   ]
  },
  {
   "cell_type": "code",
   "execution_count": null,
   "metadata": {},
   "outputs": [],
   "source": [
    "tf_idf.show(5)"
   ]
  },
  {
   "cell_type": "markdown",
   "metadata": {},
   "source": [
    "Нормируем векторы"
   ]
  },
  {
   "cell_type": "code",
   "execution_count": 13,
   "metadata": {},
   "outputs": [],
   "source": [
    "normalizer = Normalizer(inputCol=\"tf_idf_features\", outputCol=\"features\")\n",
    "data = normalizer.transform(tf_idf)"
   ]
  },
  {
   "cell_type": "code",
   "execution_count": 14,
   "metadata": {},
   "outputs": [
    {
     "name": "stdout",
     "output_type": "stream",
     "text": [
      "+---+--------------------+\n",
      "| id|            features|\n",
      "+---+--------------------+\n",
      "|  4|(10000,[36,42,63,...|\n",
      "|  5|(10000,[32,222,29...|\n",
      "|  6|(10000,[30,41,246...|\n",
      "|  7|(10000,[493,721,8...|\n",
      "|  8|(10000,[32,65,115...|\n",
      "+---+--------------------+\n",
      "only showing top 5 rows\n",
      "\n"
     ]
    }
   ],
   "source": [
    "data.select('id', 'features').show(5)"
   ]
  },
  {
   "cell_type": "markdown",
   "metadata": {},
   "source": [
    "Теперь описание каждого курса представлено в виде вектора.\n",
    "\n",
    "Если мы сравним разные векторы, рассчитав дистанцию между ними, то узнаем, насколько они похожи (= насколько похожи описания курсов). \n",
    "\n",
    "В качестве метрики для ранжирования курсов будем использовать косинус угла между TFIDF-векторами.\n"
   ]
  },
  {
   "cell_type": "code",
   "execution_count": 15,
   "metadata": {},
   "outputs": [],
   "source": [
    "# Рассчитаем косинус угла между нормированными векторами - найдем их произведение\n",
    "@udf\n",
    "def sim_cos(v1, v2): \n",
    "    return float(v1.dot(v2))"
   ]
  },
  {
   "cell_type": "code",
   "execution_count": 16,
   "metadata": {},
   "outputs": [],
   "source": [
    "courses_list = [[23126, u'en', u'Compass - powerful SASS library that makes your life easier'], \n",
    " [21617, u'en', u'Preparing for the AP* Computer Science A Exam \\u2014 Part 2'], \n",
    " [16627, u'es', u'Aprende Excel: Nivel Intermedio by Alfonso Rinsche'], \n",
    " [11556, u'es', u'Aprendizaje Colaborativo by UNID Universidad Interamericana para el Desarrollo'], \n",
    " [16704, u'ru', u'\\u041f\\u0440\\u043e\\u0433\\u0440\\u0430\\u043c\\u043c\\u0438\\u0440\\u043e\\u0432\\u0430\\u043d\\u0438\\u0435 \\u043d\\u0430 Lazarus'], \n",
    " [13702, u'ru', u'\\u041c\\u0430\\u0442\\u0435\\u043c\\u0430\\u0442\\u0438\\u0447\\u0435\\u0441\\u043a\\u0430\\u044f \\u044d\\u043a\\u043e\\u043d\\u043e\\u043c\\u0438\\u043a\\u0430']]"
   ]
  },
  {
   "cell_type": "code",
   "execution_count": 17,
   "metadata": {},
   "outputs": [
    {
     "data": {
      "text/plain": [
       "[23126, 21617, 16627, 11556, 16704, 13702]"
      ]
     },
     "execution_count": 17,
     "metadata": {},
     "output_type": "execute_result"
    }
   ],
   "source": [
    "courses_id = [x[0] for x in courses_list]\n",
    "courses_id"
   ]
  },
  {
   "cell_type": "code",
   "execution_count": 18,
   "metadata": {},
   "outputs": [
    {
     "name": "stdout",
     "output_type": "stream",
     "text": [
      "+---+--------------------+----+--------------------+--------------------+--------------------+--------------------+\n",
      "| id|                name|lang|               words|        raw_features|     tf_idf_features|            features|\n",
      "+---+--------------------+----+--------------------+--------------------+--------------------+--------------------+\n",
      "|  4|Accounting Cycle:...|  en|[course, introduc...|(10000,[36,42,63,...|(10000,[36,42,63,...|(10000,[36,42,63,...|\n",
      "|  5|American Counter ...|  en|[online, course, ...|(10000,[32,222,29...|(10000,[32,222,29...|(10000,[32,222,29...|\n",
      "+---+--------------------+----+--------------------+--------------------+--------------------+--------------------+\n",
      "only showing top 2 rows\n",
      "\n"
     ]
    }
   ],
   "source": [
    "data.show(2)"
   ]
  },
  {
   "cell_type": "code",
   "execution_count": 28,
   "metadata": {},
   "outputs": [
    {
     "name": "stdout",
     "output_type": "stream",
     "text": [
      "+-----------+--------------------+--------------------+-------+-------+-----+---+\n",
      "| sim_cosine|             v1_name|             v2_name|v1_lang|v2_lang|   v1| v2|\n",
      "+-----------+--------------------+--------------------+-------+-------+-----+---+\n",
      "|        0.0|Aprendizaje Colab...|Accounting Cycle:...|     es|     en|11556|  4|\n",
      "|        0.0|Aprendizaje Colab...|American Counter ...|     es|     en|11556|  5|\n",
      "| 0.14799482|Aprendizaje Colab...|Arithmétique: en ...|     es|     fr|11556|  6|\n",
      "|0.007118165|Aprendizaje Colab...|Becoming a Dynami...|     es|     en|11556|  7|\n",
      "|0.033207458|Aprendizaje Colab...|           Bioethics|     es|     en|11556|  8|\n",
      "+-----------+--------------------+--------------------+-------+-------+-----+---+\n",
      "only showing top 5 rows\n",
      "\n"
     ]
    }
   ],
   "source": [
    "# перемножаем векторы \n",
    "sim_cos_mat = data.alias(\"v1\").join(data.alias(\"v2\"), F.col(\"v1.id\") != F.col(\"v2.id\"))\\\n",
    "    .select(\n",
    "        sim_cos(\"v1.features\", \"v2.features\").cast('float').alias(\"sim_cosine\"),\n",
    "        F.col(\"v1.name\").alias(\"v1_name\"),\n",
    "        F.col(\"v2.name\").alias(\"v2_name\"),\n",
    "        F.col(\"v1.lang\").alias(\"v1_lang\"),\n",
    "        F.col(\"v2.lang\").alias(\"v2_lang\"),\n",
    "        F.col(\"v1.id\").alias(\"v1\"),\n",
    "        F.col(\"v2.id\").alias(\"v2\"))\\\n",
    "    .filter(F.col('v1').isin(courses_id))\\\n",
    "    .sort(\"v1\", \"v2\")\n",
    "\n",
    "sim_cos_mat.show(5)"
   ]
  },
  {
   "cell_type": "code",
   "execution_count": 29,
   "metadata": {},
   "outputs": [
    {
     "name": "stdout",
     "output_type": "stream",
     "text": [
      "+-----+-----+----------+\n",
      "|   v1|   v2|sim_cosine|\n",
      "+-----+-----+----------+\n",
      "|13702|  864|       1.0|\n",
      "|21617|21609| 0.9899213|\n",
      "|16627|11431| 0.7066007|\n",
      "|11556|16488| 0.6690018|\n",
      "|16627|12247| 0.6110074|\n",
      "|16627|13021|0.60648364|\n",
      "|16627|25010|0.60380995|\n",
      "|16627|11575|0.58877224|\n",
      "|16627| 5687| 0.5809286|\n",
      "|16627| 5372|0.57968974|\n",
      "|16627|12863| 0.5773048|\n",
      "|16627| 9598| 0.5746188|\n",
      "|16627|22680|0.57152116|\n",
      "|16627|12660|0.57034713|\n",
      "|16627|16769|0.57012373|\n",
      "|16627|10738|0.56807315|\n",
      "|16627| 9470| 0.5680234|\n",
      "|16627|17961|0.56308526|\n",
      "|16627| 7296| 0.5598723|\n",
      "|16627| 6864| 0.5590431|\n",
      "+-----+-----+----------+\n",
      "only showing top 20 rows\n",
      "\n"
     ]
    }
   ],
   "source": [
    "sim_cos_mat.select('v1', 'v2', 'sim_cosine').orderBy(F.col('sim_cosine').desc()).show(20)"
   ]
  },
  {
   "cell_type": "markdown",
   "metadata": {},
   "source": [
    "Выбираем 10 наиболее похожих курсов и сохраняем в json"
   ]
  },
  {
   "cell_type": "code",
   "execution_count": 30,
   "metadata": {},
   "outputs": [
    {
     "data": {
      "text/plain": [
       "{23126: [13782, 13665, 24419, 20638, 2724, 25782, 2633, 2723, 13348, 15909],\n",
       " 21617: [21609, 21608, 21616, 21492, 21624, 21623, 21630, 21628, 21508, 21703],\n",
       " 16627: [11431, 12247, 13021, 25010, 11575, 5687, 5372, 12863, 9598, 22680],\n",
       " 11556: [16488, 13461, 468, 23357, 19330, 16929, 387, 10447, 11554, 9289],\n",
       " 16704: [1365, 20645, 1426, 20105, 8217, 1236, 1164, 1219, 8123, 875],\n",
       " 13702: [864, 1216, 7173, 1052, 8313, 17017, 19613, 21017, 17015, 8082]}"
      ]
     },
     "execution_count": 30,
     "metadata": {},
     "output_type": "execute_result"
    }
   ],
   "source": [
    "preds = {}\n",
    "for course in courses_list:\n",
    "    preds[course[0]] = sim_cos_mat.select(F.col('v2'))\\\n",
    "                                    .where(F.col('v1') == course[0])\\\n",
    "                                    .where(F.col('v2_lang') == course[1])\\\n",
    "                                    .orderBy(F.desc('sim_cosine'), \n",
    "                                             F.asc('v2_name'), \n",
    "                                             F.asc('v2'))\\\n",
    "                                    .limit(10)\\\n",
    "                                    .rdd.flatMap(lambda x: x)\\\n",
    "                                    .collect()\n",
    "\n",
    "preds"
   ]
  },
  {
   "cell_type": "code",
   "execution_count": 31,
   "metadata": {},
   "outputs": [],
   "source": [
    "import json\n",
    "\n",
    "with open(file='lab02.json', mode='wt') as file:\n",
    "    file.write(json.dumps(preds) + '\\n')"
   ]
  },
  {
   "cell_type": "code",
   "execution_count": 32,
   "metadata": {},
   "outputs": [],
   "source": [
    "sc.stop()"
   ]
  },
  {
   "cell_type": "code",
   "execution_count": null,
   "metadata": {},
   "outputs": [],
   "source": []
  }
 ],
 "metadata": {
  "kernelspec": {
   "display_name": "Python 3",
   "language": "python",
   "name": "python3"
  },
  "language_info": {
   "codemirror_mode": {
    "name": "ipython",
    "version": 3
   },
   "file_extension": ".py",
   "mimetype": "text/x-python",
   "name": "python",
   "nbconvert_exporter": "python",
   "pygments_lexer": "ipython3",
   "version": "3.6.5"
  }
 },
 "nbformat": 4,
 "nbformat_minor": 2
}
