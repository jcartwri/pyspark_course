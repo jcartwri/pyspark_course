{
 "cells": [
  {
   "cell_type": "code",
   "execution_count": 58,
   "metadata": {},
   "outputs": [],
   "source": [
    "sc.stop()"
   ]
  },
  {
   "cell_type": "code",
   "execution_count": 59,
   "metadata": {},
   "outputs": [
    {
     "name": "stdout",
     "output_type": "stream",
     "text": [
      "Welcome to\n",
      "      ____              __\n",
      "     / __/__  ___ _____/ /__\n",
      "    _\\ \\/ _ \\/ _ `/ __/  '_/\n",
      "   /__ / .__/\\_,_/_/ /_/\\_\\   version 2.4.7\n",
      "      /_/\n",
      "\n",
      "Using Python version 3.6.5 (default, Apr 29 2018 16:14:56)\n",
      "SparkSession available as 'spark'.\n"
     ]
    }
   ],
   "source": [
    "import os\n",
    "import sys\n",
    "os.environ[\"PYSPARK_PYTHON\"]='/opt/anaconda/envs/bd9/bin/python'\n",
    "os.environ[\"SPARK_HOME\"]='/usr/hdp/current/spark2-client'\n",
    "os.environ[\"PYSPARK_SUBMIT_ARGS\"]='--num-executors 2 pyspark-shell'\n",
    "\n",
    "spark_home = os.environ.get('SPARK_HOME', None)\n",
    "\n",
    "sys.path.insert(0, os.path.join(spark_home, 'python'))\n",
    "sys.path.insert(0, os.path.join(spark_home, 'python/lib/py4j-0.10.7-src.zip'))\n",
    "exec(open(os.path.join(spark_home, 'python/pyspark/shell.py')).read())"
   ]
  },
  {
   "cell_type": "code",
   "execution_count": 60,
   "metadata": {},
   "outputs": [],
   "source": [
    "from pyspark import SparkConf\n",
    "from pyspark.sql import SparkSession\n",
    "\n",
    "conf = SparkConf()\n",
    "conf.set(\"spark.app.name\", \"km\") \n",
    "\n",
    "spark = SparkSession.builder.config(conf=conf).getOrCreate()"
   ]
  },
  {
   "cell_type": "code",
   "execution_count": 61,
   "metadata": {},
   "outputs": [],
   "source": [
    "from pyspark.sql import Window\n",
    "import pyspark.sql.functions as f"
   ]
  },
  {
   "cell_type": "code",
   "execution_count": 62,
   "metadata": {},
   "outputs": [],
   "source": [
    "from pyspark.sql.types import StructType, StructField, DoubleType, StringType, \\\n",
    "TimestampType, DateType, IntegerType, FloatType"
   ]
  },
  {
   "cell_type": "code",
   "execution_count": 63,
   "metadata": {},
   "outputs": [],
   "source": [
    "from pyspark.ml.feature import OneHotEncoder"
   ]
  },
  {
   "cell_type": "code",
   "execution_count": 64,
   "metadata": {
    "scrolled": true
   },
   "outputs": [
    {
     "name": "stdout",
     "output_type": "stream",
     "text": [
      "Found 4 items\r\n",
      "-rw-r--r--   3 hdfs hdfs   91066524 2021-02-27 22:12 /labs/slaba03/laba03_items.csv\r\n",
      "-rw-r--r--   3 hdfs hdfs   29965581 2021-02-27 22:12 /labs/slaba03/laba03_test.csv\r\n",
      "-rw-r--r--   3 hdfs hdfs   74949368 2021-02-27 22:12 /labs/slaba03/laba03_train.csv\r\n",
      "-rw-r--r--   3 hdfs hdfs  871302535 2021-02-27 22:12 /labs/slaba03/laba03_views_programmes.csv\r\n"
     ]
    }
   ],
   "source": [
    "!hdfs dfs -ls /labs/slaba03/"
   ]
  },
  {
   "cell_type": "markdown",
   "metadata": {},
   "source": [
    "### Views"
   ]
  },
  {
   "cell_type": "markdown",
   "metadata": {},
   "source": [
    "### \n",
    "schema_views = StructType(fields=[\n",
    "    StructField(\"user_id\", StringType()),\n",
    "    StructField(\"item_id\", StringType()),\n",
    "    StructField(\"ts_start\", IntegerType()),\n",
    "    StructField(\"ts_end\", IntegerType()),\n",
    "    StructField(\"item_type\", StringType())\n",
    "])"
   ]
  },
  {
   "cell_type": "markdown",
   "metadata": {
    "scrolled": true
   },
   "source": [
    "###\n",
    "views = spark.read.csv(\"/labs/slaba03/laba03_views_programmes.csv\", header=True, schema=schema_views)\n",
    "views.registerTempTable('views')\n",
    "views.show(5)"
   ]
  },
  {
   "cell_type": "markdown",
   "metadata": {},
   "source": [
    "### \n",
    "views = views.withColumn('diff', f.col('ts_end') - f.col('ts_start'))\n",
    "views = views.withColumn('diff_sum_user_id', f.sum(\"diff\").over(Window.partitionBy(\"user_id\")).cast('decimal(10,0)'))\n",
    "views = views.withColumn('diff_sum_item_id', f.sum(\"diff\").over(Window.partitionBy(\"item_id\")).cast('decimal(10,0)'))\n",
    "views.show(4)"
   ]
  },
  {
   "cell_type": "markdown",
   "metadata": {},
   "source": [
    "### Train"
   ]
  },
  {
   "cell_type": "code",
   "execution_count": 65,
   "metadata": {},
   "outputs": [],
   "source": [
    "schema_train = StructType(fields=[\n",
    "    StructField(\"user_id\", StringType()),\n",
    "    StructField(\"item_id\", StringType()),\n",
    "    StructField(\"purchase\", IntegerType())\n",
    "])"
   ]
  },
  {
   "cell_type": "code",
   "execution_count": 67,
   "metadata": {},
   "outputs": [
    {
     "name": "stdout",
     "output_type": "stream",
     "text": [
      "+-------+-------+--------+\n",
      "|user_id|item_id|purchase|\n",
      "+-------+-------+--------+\n",
      "|   1654|  74107|       0|\n",
      "|   1654|  89249|       0|\n",
      "|   1654|  99982|       0|\n",
      "|   1654|  89901|       0|\n",
      "|   1654| 100504|       0|\n",
      "|   1654|  66187|       0|\n",
      "|   1654|  84350|       0|\n",
      "|   1654|  92854|       0|\n",
      "|   1654|  72811|       0|\n",
      "|   1654|  86876|       0|\n",
      "|   1654| 102657|       0|\n",
      "|   1654| 100482|       0|\n",
      "|   1654|  89677|       0|\n",
      "|   1654|  99419|       0|\n",
      "|   1654|  66603|       0|\n",
      "|   1654|   7363|       0|\n",
      "|   1654|   1320|       0|\n",
      "|   1654|  88892|       0|\n",
      "|   1654|  66671|       0|\n",
      "|   1654|  75925|       0|\n",
      "+-------+-------+--------+\n",
      "only showing top 20 rows\n",
      "\n"
     ]
    }
   ],
   "source": [
    "train = spark.read.csv(\"/labs/slaba03/laba03_train.csv\", header=True, schema=schema_train)\n",
    "train.registerTempTable('train')\n",
    "train.cache()\n",
    "train.show()"
   ]
  },
  {
   "cell_type": "code",
   "execution_count": 74,
   "metadata": {},
   "outputs": [
    {
     "data": {
      "text/plain": [
       "5032624"
      ]
     },
     "execution_count": 74,
     "metadata": {},
     "output_type": "execute_result"
    }
   ],
   "source": [
    "train.count()"
   ]
  },
  {
   "cell_type": "code",
   "execution_count": 69,
   "metadata": {},
   "outputs": [
    {
     "data": {
      "text/plain": [
       "1941"
      ]
     },
     "execution_count": 69,
     "metadata": {},
     "output_type": "execute_result"
    }
   ],
   "source": [
    "train.select('user_id').distinct().count()"
   ]
  },
  {
   "cell_type": "code",
   "execution_count": 73,
   "metadata": {},
   "outputs": [
    {
     "data": {
      "text/plain": [
       "3704"
      ]
     },
     "execution_count": 73,
     "metadata": {},
     "output_type": "execute_result"
    }
   ],
   "source": [
    "train.select('item_id').distinct().count()"
   ]
  },
  {
   "cell_type": "code",
   "execution_count": 75,
   "metadata": {},
   "outputs": [
    {
     "data": {
      "text/plain": [
       "7189464"
      ]
     },
     "execution_count": 75,
     "metadata": {},
     "output_type": "execute_result"
    }
   ],
   "source": [
    "1941 * 3704"
   ]
  },
  {
   "cell_type": "code",
   "execution_count": 76,
   "metadata": {},
   "outputs": [
    {
     "data": {
      "text/plain": [
       "2156840"
      ]
     },
     "execution_count": 76,
     "metadata": {},
     "output_type": "execute_result"
    }
   ],
   "source": [
    "7189464 - 5032624"
   ]
  },
  {
   "cell_type": "markdown",
   "metadata": {
    "scrolled": true
   },
   "source": [
    "### \n",
    "items = spark.read.csv(\"/labs/slaba03/laba03_items.csv\", header=True, sep=\"\\t\")\n",
    "items.registerTempTable('items')\n",
    "items.show()"
   ]
  },
  {
   "cell_type": "markdown",
   "metadata": {},
   "source": [
    "### \n",
    "train_ = train.join(items, on='item_id', how='left')"
   ]
  },
  {
   "cell_type": "markdown",
   "metadata": {},
   "source": [
    "###\n",
    "train_ = train.join(views.select('user_id', 'item_id', 'diff', 'diff_sum_user_id', 'diff_sum_item_id'),\\\n",
    "                    on=['user_id', 'item_id'], how='left')\n",
    "train_.show(4)"
   ]
  },
  {
   "cell_type": "code",
   "execution_count": 16,
   "metadata": {},
   "outputs": [
    {
     "name": "stdout",
     "output_type": "stream",
     "text": [
      "+--------+-------+\n",
      "|purchase|  count|\n",
      "+--------+-------+\n",
      "|       0|5021720|\n",
      "|       1|  10904|\n",
      "+--------+-------+\n",
      "\n"
     ]
    }
   ],
   "source": [
    "train_.groupBy('purchase').count().show()"
   ]
  },
  {
   "cell_type": "code",
   "execution_count": 17,
   "metadata": {
    "scrolled": false
   },
   "outputs": [
    {
     "name": "stdout",
     "output_type": "stream",
     "text": [
      "Доля класса 1: 0.0021666629575346776\n"
     ]
    }
   ],
   "source": [
    "print('Доля класса 1: {}'.format(10904 / (10904 + 5021720)))"
   ]
  },
  {
   "cell_type": "code",
   "execution_count": 9,
   "metadata": {},
   "outputs": [],
   "source": [
    "sum_ = train.groupBy(\"user_id\").sum().select(f.col(\"sum(purchase)\").alias(\"sum\"), f.col(\"user_id\")).cache()\n",
    "\n",
    "hit = train.groupBy(\"item_id\").sum().select(f.col(\"sum(purchase)\").alias(\"hit\"), f.col(\"item_id\")).cache()"
   ]
  },
  {
   "cell_type": "code",
   "execution_count": 77,
   "metadata": {},
   "outputs": [
    {
     "data": {
      "text/plain": [
       "DataFrame[user_id: string, item_id: string, purchase: int, sum: bigint, hit: bigint, sum2: double]"
      ]
     },
     "execution_count": 77,
     "metadata": {},
     "output_type": "execute_result"
    }
   ],
   "source": [
    "train = train.withColumn('sum', f.sum('purchase').over(Window.partitionBy('user_id')))\n",
    "train = train.withColumn('hit', f.sum('purchase').over(Window.partitionBy('item_id')))\n",
    "train = train.withColumn('sum2', f.col('sum') / f.count('purchase').over(Window.partitionBy('user_id')))\n",
    "train.cache()"
   ]
  },
  {
   "cell_type": "code",
   "execution_count": 78,
   "metadata": {},
   "outputs": [
    {
     "name": "stdout",
     "output_type": "stream",
     "text": [
      "+-------+-------+--------+---+---+--------------------+\n",
      "|user_id|item_id|purchase|sum|hit|                sum2|\n",
      "+-------+-------+--------+---+---+--------------------+\n",
      "| 867363| 100140|       0|  1|  0|3.892565200467107...|\n",
      "| 867363|   2136|       0|  1|  1|3.892565200467107...|\n",
      "| 867363|  60351|       0|  1|  2|3.892565200467107...|\n",
      "| 867363|    691|       0|  1|  0|3.892565200467107...|\n",
      "+-------+-------+--------+---+---+--------------------+\n",
      "only showing top 4 rows\n",
      "\n"
     ]
    }
   ],
   "source": [
    "train.show(4)"
   ]
  },
  {
   "cell_type": "markdown",
   "metadata": {},
   "source": [
    "###\n",
    "train_ = train_.withColumn('sum_purch_by_user', f.sum(\"purchase\").over(Window.partitionBy(\"user_id\")).cast('decimal(10,0)'))\n",
    "train_ = train_.withColumn('sum_purch_by_item', f.sum(\"purchase\").over(Window.partitionBy(\"item_id\")).cast('decimal(10,0)'))\n",
    "#train_ = train_.withColumn('genr_len', f.coalesce(f.length(f.col('genres')), f.lit(0)).cast('decimal(10,0)'))\n",
    "train_ = train_.join(user_attempts, on = 'user_id')\n",
    "train_ = train_.join(item_attempts, on = 'item_id')\n",
    "\n",
    "train_.show(5)"
   ]
  },
  {
   "cell_type": "code",
   "execution_count": null,
   "metadata": {},
   "outputs": [],
   "source": []
  },
  {
   "cell_type": "code",
   "execution_count": 70,
   "metadata": {
    "scrolled": true
   },
   "outputs": [
    {
     "name": "stdout",
     "output_type": "stream",
     "text": [
      "+-------+-------+--------+\n",
      "|user_id|item_id|purchase|\n",
      "+-------+-------+--------+\n",
      "|   1654|  94814|    null|\n",
      "|   1654|  93629|    null|\n",
      "|   1654|   9980|    null|\n",
      "|   1654|  95099|    null|\n",
      "|   1654|  11265|    null|\n",
      "+-------+-------+--------+\n",
      "only showing top 5 rows\n",
      "\n"
     ]
    }
   ],
   "source": [
    "test = spark.read.csv(\"/labs/slaba03/laba03_test.csv\", header=True)\n",
    "test.registerTempTable('test')\n",
    "test.cache()\n",
    "test.show(5)"
   ]
  },
  {
   "cell_type": "code",
   "execution_count": 71,
   "metadata": {},
   "outputs": [
    {
     "data": {
      "text/plain": [
       "1941"
      ]
     },
     "execution_count": 71,
     "metadata": {},
     "output_type": "execute_result"
    }
   ],
   "source": [
    "test.select('user_id').distinct().count()"
   ]
  },
  {
   "cell_type": "code",
   "execution_count": 72,
   "metadata": {},
   "outputs": [
    {
     "data": {
      "text/plain": [
       "3704"
      ]
     },
     "execution_count": 72,
     "metadata": {},
     "output_type": "execute_result"
    }
   ],
   "source": [
    "test.select('item_id').distinct().count()"
   ]
  },
  {
   "cell_type": "code",
   "execution_count": 13,
   "metadata": {},
   "outputs": [
    {
     "data": {
      "text/plain": [
       "2156840"
      ]
     },
     "execution_count": 13,
     "metadata": {},
     "output_type": "execute_result"
    }
   ],
   "source": [
    "test.count()"
   ]
  },
  {
   "cell_type": "markdown",
   "metadata": {},
   "source": [
    "### join \"hit\""
   ]
  },
  {
   "cell_type": "code",
   "execution_count": 79,
   "metadata": {},
   "outputs": [
    {
     "data": {
      "text/plain": [
       "2156840"
      ]
     },
     "execution_count": 79,
     "metadata": {},
     "output_type": "execute_result"
    }
   ],
   "source": [
    "test_2 = test.join(train.select('item_id', 'hit').distinct(), on=\"item_id\", how='left')\n",
    "test_2.cache()\n",
    "test_2.count()"
   ]
  },
  {
   "cell_type": "code",
   "execution_count": 80,
   "metadata": {},
   "outputs": [
    {
     "name": "stdout",
     "output_type": "stream",
     "text": [
      "+-------+-------+--------+---+\n",
      "|item_id|user_id|purchase|hit|\n",
      "+-------+-------+--------+---+\n",
      "|  94814|   1654|    null|  1|\n",
      "|  93629|   1654|    null|  4|\n",
      "|   9980|   1654|    null|  1|\n",
      "|  95099|   1654|    null|  1|\n",
      "+-------+-------+--------+---+\n",
      "only showing top 4 rows\n",
      "\n"
     ]
    }
   ],
   "source": [
    "test_2.show(4)"
   ]
  },
  {
   "cell_type": "markdown",
   "metadata": {},
   "source": [
    "### join \"sum\""
   ]
  },
  {
   "cell_type": "code",
   "execution_count": 82,
   "metadata": {},
   "outputs": [
    {
     "data": {
      "text/plain": [
       "2156840"
      ]
     },
     "execution_count": 82,
     "metadata": {},
     "output_type": "execute_result"
    }
   ],
   "source": [
    "test_3 = test_2.join(train.select('user_id', 'sum').distinct(), on=\"user_id\", how='left')\n",
    "test_3.cache()\n",
    "test_3.count()"
   ]
  },
  {
   "cell_type": "code",
   "execution_count": 83,
   "metadata": {},
   "outputs": [
    {
     "name": "stdout",
     "output_type": "stream",
     "text": [
      "+-------+-------+--------+---+---+\n",
      "|user_id|item_id|purchase|hit|sum|\n",
      "+-------+-------+--------+---+---+\n",
      "| 867363|  92649|    null|  1|  1|\n",
      "| 867363|  84350|    null|  3|  1|\n",
      "| 867363|  88833|    null|  1|  1|\n",
      "| 867363|  74396|    null|  1|  1|\n",
      "| 867363|  98560|    null|  1|  1|\n",
      "+-------+-------+--------+---+---+\n",
      "only showing top 5 rows\n",
      "\n"
     ]
    }
   ],
   "source": [
    "test_3.show(5)"
   ]
  },
  {
   "cell_type": "markdown",
   "metadata": {},
   "source": [
    "### join \"sum_2\" "
   ]
  },
  {
   "cell_type": "code",
   "execution_count": 51,
   "metadata": {
    "scrolled": false
   },
   "outputs": [
    {
     "data": {
      "text/plain": [
       "DataFrame[user_id: string, item_id: string, purchase: string, hit: bigint, sum: bigint, sum2: double]"
      ]
     },
     "execution_count": 51,
     "metadata": {},
     "output_type": "execute_result"
    }
   ],
   "source": [
    "test_3.join(train.select('user_id', 'sum2'), on=\"user_id\", how='left')"
   ]
  },
  {
   "cell_type": "code",
   "execution_count": 84,
   "metadata": {
    "scrolled": true
   },
   "outputs": [
    {
     "name": "stdout",
     "output_type": "stream",
     "text": [
      "CPU times: user 7.07 ms, sys: 0 ns, total: 7.07 ms\n",
      "Wall time: 13.4 s\n"
     ]
    }
   ],
   "source": [
    "%%time\n",
    "test_4 = test_3.join(train.select('user_id', 'sum2').distinct(), on=\"user_id\", how='left')\n",
    "test_4.cache()\n",
    "test_4.count()"
   ]
  },
  {
   "cell_type": "code",
   "execution_count": 85,
   "metadata": {},
   "outputs": [
    {
     "data": {
      "text/plain": [
       "2156840"
      ]
     },
     "execution_count": 85,
     "metadata": {},
     "output_type": "execute_result"
    }
   ],
   "source": [
    "test_4.count()"
   ]
  },
  {
   "cell_type": "code",
   "execution_count": 86,
   "metadata": {},
   "outputs": [
    {
     "name": "stdout",
     "output_type": "stream",
     "text": [
      "+-------+-------+--------+---+---+--------------------+\n",
      "|user_id|item_id|purchase|hit|sum|                sum2|\n",
      "+-------+-------+--------+---+---+--------------------+\n",
      "| 867363|  92649|    null|  1|  1|3.892565200467107...|\n",
      "| 867363|  84350|    null|  3|  1|3.892565200467107...|\n",
      "| 867363|  88833|    null|  1|  1|3.892565200467107...|\n",
      "| 867363|  74396|    null|  1|  1|3.892565200467107...|\n",
      "+-------+-------+--------+---+---+--------------------+\n",
      "only showing top 4 rows\n",
      "\n"
     ]
    }
   ],
   "source": [
    "test_4.show(4)"
   ]
  },
  {
   "cell_type": "code",
   "execution_count": null,
   "metadata": {},
   "outputs": [],
   "source": []
  },
  {
   "cell_type": "code",
   "execution_count": null,
   "metadata": {},
   "outputs": [],
   "source": []
  },
  {
   "cell_type": "code",
   "execution_count": null,
   "metadata": {},
   "outputs": [],
   "source": []
  },
  {
   "cell_type": "code",
   "execution_count": 88,
   "metadata": {},
   "outputs": [],
   "source": [
    "from pyspark.ml.feature import VectorAssembler\n",
    "from pyspark.ml.feature import VectorIndexer\n",
    "from pyspark.ml.linalg import Vectors"
   ]
  },
  {
   "cell_type": "code",
   "execution_count": 108,
   "metadata": {},
   "outputs": [],
   "source": [
    "from pyspark.ml.classification import LogisticRegression\n",
    "from pyspark.ml.classification import RandomForestClassifier"
   ]
  },
  {
   "cell_type": "code",
   "execution_count": 90,
   "metadata": {},
   "outputs": [],
   "source": [
    "# assembler1 = VectorAssembler(inputCols=['sum_purch_by_user', 'sum_purch_by_item', 'user_attempts', 'item_attempts', \\\n",
    "#                                        'user_addict', 'item_addict'], outputCol=\"features\")\n",
    "assembler2 = VectorAssembler(inputCols=['sum', 'hit', 'sum2'], outputCol=\"features\")\n",
    "train_model = assembler2.transform(train).cache()"
   ]
  },
  {
   "cell_type": "code",
   "execution_count": 91,
   "metadata": {
    "scrolled": true
   },
   "outputs": [
    {
     "name": "stdout",
     "output_type": "stream",
     "text": [
      "+-------+-------+--------+---+---+--------------------+--------------------+\n",
      "|user_id|item_id|purchase|sum|hit|                sum2|            features|\n",
      "+-------+-------+--------+---+---+--------------------+--------------------+\n",
      "| 867363| 100140|       0|  1|  0|3.892565200467107...|[1.0,0.0,3.892565...|\n",
      "| 867363|   2136|       0|  1|  1|3.892565200467107...|[1.0,1.0,3.892565...|\n",
      "| 867363|  60351|       0|  1|  2|3.892565200467107...|[1.0,2.0,3.892565...|\n",
      "| 867363|    691|       0|  1|  0|3.892565200467107...|[1.0,0.0,3.892565...|\n",
      "+-------+-------+--------+---+---+--------------------+--------------------+\n",
      "only showing top 4 rows\n",
      "\n"
     ]
    }
   ],
   "source": [
    "train_model.show(4)"
   ]
  },
  {
   "cell_type": "code",
   "execution_count": 139,
   "metadata": {},
   "outputs": [],
   "source": [
    "lr = LogisticRegression(featuresCol=\"features\",  labelCol=\"purchase\", maxIter=50, regParam=0.2)"
   ]
  },
  {
   "cell_type": "code",
   "execution_count": 109,
   "metadata": {},
   "outputs": [],
   "source": [
    "rf_ = RandomForestClassifier(featuresCol=\"features\",  labelCol=\"purchase\", numTrees=41)"
   ]
  },
  {
   "cell_type": "code",
   "execution_count": 140,
   "metadata": {
    "scrolled": true
   },
   "outputs": [
    {
     "name": "stdout",
     "output_type": "stream",
     "text": [
      "CPU times: user 38.3 ms, sys: 1.44 ms, total: 39.7 ms\n",
      "Wall time: 1min 5s\n"
     ]
    }
   ],
   "source": [
    "%%time\n",
    "model_lr = lr.fit(train_model)"
   ]
  },
  {
   "cell_type": "code",
   "execution_count": 110,
   "metadata": {},
   "outputs": [],
   "source": [
    "model_rf = rf_.fit(train_model)"
   ]
  },
  {
   "cell_type": "code",
   "execution_count": 94,
   "metadata": {},
   "outputs": [],
   "source": [
    "from pyspark.ml.evaluation import BinaryClassificationEvaluator\n",
    "evaluator = BinaryClassificationEvaluator(rawPredictionCol=\"prob\", labelCol=\"purchase\", metricName='areaUnderROC')"
   ]
  },
  {
   "cell_type": "code",
   "execution_count": 95,
   "metadata": {},
   "outputs": [],
   "source": [
    "def prob(col):\n",
    "    return float(col[1])"
   ]
  },
  {
   "cell_type": "code",
   "execution_count": 96,
   "metadata": {},
   "outputs": [],
   "source": [
    "new_col = f.udf(prob, FloatType())"
   ]
  },
  {
   "cell_type": "code",
   "execution_count": 97,
   "metadata": {},
   "outputs": [
    {
     "name": "stdout",
     "output_type": "stream",
     "text": [
      "root\n",
      " |-- user_id: string (nullable = true)\n",
      " |-- item_id: string (nullable = true)\n",
      " |-- purchase: integer (nullable = true)\n",
      " |-- sum: long (nullable = true)\n",
      " |-- hit: long (nullable = true)\n",
      " |-- sum2: double (nullable = true)\n",
      " |-- features: vector (nullable = true)\n",
      "\n"
     ]
    }
   ],
   "source": [
    "train_model.printSchema()"
   ]
  },
  {
   "cell_type": "code",
   "execution_count": 141,
   "metadata": {},
   "outputs": [
    {
     "name": "stdout",
     "output_type": "stream",
     "text": [
      "+-------+-------+--------+---+---+--------------------+--------------------+--------------------+--------------------+----------+--------------------+\n",
      "|user_id|item_id|purchase|sum|hit|                sum2|            features|       rawPrediction|         probability|prediction|                prob|\n",
      "+-------+-------+--------+---+---+--------------------+--------------------+--------------------+--------------------+----------+--------------------+\n",
      "| 867363| 100140|       0|  1|  0|3.892565200467107...|[1.0,0.0,3.892565...|[6.16274052479,-6...|[0.99789795538515...|       0.0|0.002102044643834...|\n",
      "| 867363|   2136|       0|  1|  1|3.892565200467107...|[1.0,1.0,3.892565...|[6.15911077699136...|[0.99789032775509...|       0.0|0.002109672175720334|\n",
      "| 867363|  60351|       0|  1|  2|3.892565200467107...|[1.0,2.0,3.892565...|[6.15548102919272...|[0.99788267250560...|       0.0|0.002117327414453...|\n",
      "| 867363|    691|       0|  1|  0|3.892565200467107...|[1.0,0.0,3.892565...|[6.16274052479,-6...|[0.99789795538515...|       0.0|0.002102044643834...|\n",
      "+-------+-------+--------+---+---+--------------------+--------------------+--------------------+--------------------+----------+--------------------+\n",
      "only showing top 4 rows\n",
      "\n"
     ]
    }
   ],
   "source": [
    "_predictions = model_lr.transform(train_model)\n",
    "_predictions = _predictions.withColumn('prob', new_col(f.col('probability')).cast('double'))\n",
    "_predictions.show(4)"
   ]
  },
  {
   "cell_type": "code",
   "execution_count": 142,
   "metadata": {},
   "outputs": [
    {
     "data": {
      "text/plain": [
       "0.9221262427632121"
      ]
     },
     "execution_count": 142,
     "metadata": {},
     "output_type": "execute_result"
    }
   ],
   "source": [
    "evaluator.evaluate(_predictions)"
   ]
  },
  {
   "cell_type": "code",
   "execution_count": 99,
   "metadata": {},
   "outputs": [
    {
     "data": {
      "text/plain": [
       "0.9152577731771923"
      ]
     },
     "execution_count": 99,
     "metadata": {},
     "output_type": "execute_result"
    }
   ],
   "source": [
    "evaluator.evaluate(_predictions)"
   ]
  },
  {
   "cell_type": "code",
   "execution_count": 111,
   "metadata": {},
   "outputs": [
    {
     "name": "stdout",
     "output_type": "stream",
     "text": [
      "+-------+-------+--------+---+---+--------------------+--------------------+--------------------+--------------------+----------+--------------------+\n",
      "|user_id|item_id|purchase|sum|hit|                sum2|            features|       rawPrediction|         probability|prediction|                prob|\n",
      "+-------+-------+--------+---+---+--------------------+--------------------+--------------------+--------------------+----------+--------------------+\n",
      "| 867363| 100140|       0|  1|  0|3.892565200467107...|[1.0,0.0,3.892565...|[40.9114447947498...|[0.99784011694511...|       0.0|0.002159883035346...|\n",
      "| 867363|   2136|       0|  1|  1|3.892565200467107...|[1.0,1.0,3.892565...|[40.9114447947498...|[0.99784011694511...|       0.0|0.002159883035346...|\n",
      "| 867363|  60351|       0|  1|  2|3.892565200467107...|[1.0,2.0,3.892565...|[40.9114447947498...|[0.99784011694511...|       0.0|0.002159883035346...|\n",
      "| 867363|    691|       0|  1|  0|3.892565200467107...|[1.0,0.0,3.892565...|[40.9114447947498...|[0.99784011694511...|       0.0|0.002159883035346...|\n",
      "+-------+-------+--------+---+---+--------------------+--------------------+--------------------+--------------------+----------+--------------------+\n",
      "only showing top 4 rows\n",
      "\n"
     ]
    }
   ],
   "source": [
    "_predictions = model_rf.transform(train_model)\n",
    "_predictions = _predictions.withColumn('prob', new_col(f.col('probability')).cast('double'))\n",
    "_predictions.show(4)"
   ]
  },
  {
   "cell_type": "code",
   "execution_count": 112,
   "metadata": {},
   "outputs": [
    {
     "data": {
      "text/plain": [
       "0.5"
      ]
     },
     "execution_count": 112,
     "metadata": {},
     "output_type": "execute_result"
    }
   ],
   "source": [
    "evaluator.evaluate(_predictions)"
   ]
  },
  {
   "cell_type": "code",
   "execution_count": null,
   "metadata": {},
   "outputs": [],
   "source": []
  },
  {
   "cell_type": "code",
   "execution_count": null,
   "metadata": {},
   "outputs": [],
   "source": []
  },
  {
   "cell_type": "code",
   "execution_count": 100,
   "metadata": {},
   "outputs": [
    {
     "data": {
      "text/plain": [
       "2156840"
      ]
     },
     "execution_count": 100,
     "metadata": {},
     "output_type": "execute_result"
    }
   ],
   "source": [
    "test_4_model = assembler2.transform(test_4)\n",
    "test_4_model.cache()\n",
    "test_4_model.count()"
   ]
  },
  {
   "cell_type": "code",
   "execution_count": 143,
   "metadata": {},
   "outputs": [],
   "source": [
    "predictions_test = model_lr.transform(test_4_model)"
   ]
  },
  {
   "cell_type": "code",
   "execution_count": 144,
   "metadata": {},
   "outputs": [
    {
     "name": "stdout",
     "output_type": "stream",
     "text": [
      "+-------+-------+--------+---+---+--------------------+--------------------+--------------------+--------------------+----------+\n",
      "|user_id|item_id|purchase|hit|sum|                sum2|            features|       rawPrediction|         probability|prediction|\n",
      "+-------+-------+--------+---+---+--------------------+--------------------+--------------------+--------------------+----------+\n",
      "| 867363|  92649|    null|  1|  1|3.892565200467107...|[1.0,1.0,3.892565...|[6.15911077699136...|[0.99789032775509...|       0.0|\n",
      "| 867363|  84350|    null|  3|  1|3.892565200467107...|[1.0,3.0,3.892565...|[6.15185128139409...|[0.99787498953708...|       0.0|\n",
      "| 867363|  88833|    null|  1|  1|3.892565200467107...|[1.0,1.0,3.892565...|[6.15911077699136...|[0.99789032775509...|       0.0|\n",
      "+-------+-------+--------+---+---+--------------------+--------------------+--------------------+--------------------+----------+\n",
      "only showing top 3 rows\n",
      "\n"
     ]
    }
   ],
   "source": [
    "predictions_test.show(3)"
   ]
  },
  {
   "cell_type": "code",
   "execution_count": 145,
   "metadata": {},
   "outputs": [
    {
     "name": "stdout",
     "output_type": "stream",
     "text": [
      "+-------+-------+--------+---+---+--------------------+--------------------+--------------------+--------------------+----------+------------+\n",
      "|user_id|item_id|purchase|hit|sum|                sum2|            features|       rawPrediction|         probability|prediction|        prob|\n",
      "+-------+-------+--------+---+---+--------------------+--------------------+--------------------+--------------------+----------+------------+\n",
      "| 867363|  92649|    null|  1|  1|3.892565200467107...|[1.0,1.0,3.892565...|[6.15911077699136...|[0.99789032775509...|       0.0|0.0021096722|\n",
      "| 867363|  84350|    null|  3|  1|3.892565200467107...|[1.0,3.0,3.892565...|[6.15185128139409...|[0.99787498953708...|       0.0|0.0021250104|\n",
      "| 867363|  88833|    null|  1|  1|3.892565200467107...|[1.0,1.0,3.892565...|[6.15911077699136...|[0.99789032775509...|       0.0|0.0021096722|\n",
      "| 867363|  74396|    null|  1|  1|3.892565200467107...|[1.0,1.0,3.892565...|[6.15911077699136...|[0.99789032775509...|       0.0|0.0021096722|\n",
      "+-------+-------+--------+---+---+--------------------+--------------------+--------------------+--------------------+----------+------------+\n",
      "only showing top 4 rows\n",
      "\n"
     ]
    }
   ],
   "source": [
    "predictions_test = predictions_test.withColumn('prob', new_col(f.col('probability')))\n",
    "predictions_test.show(4)"
   ]
  },
  {
   "cell_type": "code",
   "execution_count": 146,
   "metadata": {},
   "outputs": [],
   "source": [
    "test_out = predictions_test.select(\"user_id\",\"item_id\", f.col(\"prob\").alias(\"purchase\"))"
   ]
  },
  {
   "cell_type": "code",
   "execution_count": 147,
   "metadata": {
    "scrolled": false
   },
   "outputs": [
    {
     "name": "stdout",
     "output_type": "stream",
     "text": [
      "+-------+-------+------------+\n",
      "|user_id|item_id|    purchase|\n",
      "+-------+-------+------------+\n",
      "| 867363|  92649|0.0021096722|\n",
      "| 867363|  84350|0.0021250104|\n",
      "+-------+-------+------------+\n",
      "only showing top 2 rows\n",
      "\n"
     ]
    }
   ],
   "source": [
    "test_out.show(2)"
   ]
  },
  {
   "cell_type": "code",
   "execution_count": 148,
   "metadata": {},
   "outputs": [
    {
     "data": {
      "text/plain": [
       "2156840"
      ]
     },
     "execution_count": 148,
     "metadata": {},
     "output_type": "execute_result"
    }
   ],
   "source": [
    "test_out.count()"
   ]
  },
  {
   "cell_type": "code",
   "execution_count": 149,
   "metadata": {},
   "outputs": [],
   "source": [
    "test_out.orderBy('user_id','item_id').toPandas().to_csv('lab03.csv')"
   ]
  },
  {
   "cell_type": "code",
   "execution_count": null,
   "metadata": {},
   "outputs": [],
   "source": []
  }
 ],
 "metadata": {
  "kernelspec": {
   "display_name": "Python 3",
   "language": "python",
   "name": "python3"
  },
  "language_info": {
   "codemirror_mode": {
    "name": "ipython",
    "version": 3
   },
   "file_extension": ".py",
   "mimetype": "text/x-python",
   "name": "python",
   "nbconvert_exporter": "python",
   "pygments_lexer": "ipython3",
   "version": "3.6.5"
  }
 },
 "nbformat": 4,
 "nbformat_minor": 2
}
