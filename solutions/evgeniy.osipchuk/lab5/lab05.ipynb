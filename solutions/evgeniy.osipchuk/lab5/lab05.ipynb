{
 "cells": [
  {
   "cell_type": "code",
   "execution_count": 1,
   "metadata": {},
   "outputs": [
    {
     "data": {
      "text/plain": [
       "Waiting for a Spark session to start..."
      ]
     },
     "metadata": {},
     "output_type": "display_data"
    },
    {
     "data": {
      "text/plain": [
       "org.apache.spark.sql.SparkSession@4da81590"
      ]
     },
     "execution_count": 1,
     "metadata": {},
     "output_type": "execute_result"
    }
   ],
   "source": [
    "spark"
   ]
  },
  {
   "cell_type": "code",
   "execution_count": 2,
   "metadata": {},
   "outputs": [],
   "source": [
    "import org.apache.spark.sql.SparkSession\n",
    "import org.apache.spark.sql.functions._\n",
    "import org.apache.spark.sql.functions.{col}"
   ]
  },
  {
   "cell_type": "code",
   "execution_count": 3,
   "metadata": {},
   "outputs": [
    {
     "data": {
      "text/plain": [
       "spark = org.apache.spark.sql.SparkSession@4da81590\n"
      ]
     },
     "metadata": {},
     "output_type": "display_data"
    },
    {
     "data": {
      "text/plain": [
       "org.apache.spark.sql.SparkSession@4da81590"
      ]
     },
     "execution_count": 3,
     "metadata": {},
     "output_type": "execute_result"
    }
   ],
   "source": [
    "val spark = SparkSession.builder.appName(\"Spark ML\").getOrCreate()"
   ]
  },
  {
   "cell_type": "markdown",
   "metadata": {},
   "source": [
    "# Data preparation"
   ]
  },
  {
   "cell_type": "code",
   "execution_count": 15,
   "metadata": {},
   "outputs": [
    {
     "name": "stdout",
     "output_type": "stream",
     "text": [
      "-RECORD 0--------------------------------------------\n",
      " _c0                         | 333149                \n",
      " ID                          | 479990                \n",
      " CR_PROD_CNT_IL              | 0                     \n",
      " AMOUNT_RUB_CLO_PRC          | 0.0                   \n",
      " PRC_ACCEPTS_A_EMAIL_LINK    | 0.0                   \n",
      " APP_REGISTR_RGN_CODE        | null                  \n",
      " PRC_ACCEPTS_A_POS           | 0.0                   \n",
      " PRC_ACCEPTS_A_TK            | 0.0                   \n",
      " TURNOVER_DYNAMIC_IL_1M      | 0.0                   \n",
      " CNT_TRAN_AUT_TENDENCY1M     | null                  \n",
      " SUM_TRAN_AUT_TENDENCY1M     | null                  \n",
      " AMOUNT_RUB_SUP_PRC          | 0.0                   \n",
      " PRC_ACCEPTS_A_AMOBILE       | 0.0                   \n",
      " SUM_TRAN_AUT_TENDENCY3M     | null                  \n",
      " CLNT_TRUST_RELATION         | null                  \n",
      " PRC_ACCEPTS_TK              | 0.0                   \n",
      " PRC_ACCEPTS_A_MTP           | 0.0                   \n",
      " REST_DYNAMIC_FDEP_1M        | 0.0                   \n",
      " CNT_TRAN_AUT_TENDENCY3M     | null                  \n",
      " CNT_ACCEPTS_TK              | 0.0                   \n",
      " APP_MARITAL_STATUS          | null                  \n",
      " REST_DYNAMIC_SAVE_3M        | 0.0                   \n",
      " CR_PROD_CNT_VCU             | 0                     \n",
      " REST_AVG_CUR                | 19069.6917166667      \n",
      " CNT_TRAN_MED_TENDENCY1M     | null                  \n",
      " APP_KIND_OF_PROP_HABITATION | null                  \n",
      " CLNT_JOB_POSITION_TYPE      | null                  \n",
      " AMOUNT_RUB_NAS_PRC          | 0.0                   \n",
      " CLNT_JOB_POSITION           | null                  \n",
      " APP_DRIVING_LICENSE         | null                  \n",
      " TRANS_COUNT_SUP_PRC         | 0.0                   \n",
      " APP_EDUCATION               | null                  \n",
      " CNT_TRAN_CLO_TENDENCY1M     | null                  \n",
      " SUM_TRAN_MED_TENDENCY1M     | null                  \n",
      " PRC_ACCEPTS_A_ATM           | 0.0                   \n",
      " PRC_ACCEPTS_MTP             | 0.0                   \n",
      " TRANS_COUNT_NAS_PRC         | 0.0                   \n",
      " APP_TRAVEL_PASS             | null                  \n",
      " CNT_ACCEPTS_MTP             | 0.0                   \n",
      " CR_PROD_CNT_TOVR            | 1                     \n",
      " APP_CAR                     | null                  \n",
      " CR_PROD_CNT_PIL             | 0                     \n",
      " SUM_TRAN_CLO_TENDENCY1M     | null                  \n",
      " APP_POSITION_TYPE           | null                  \n",
      " TURNOVER_CC                 | 0.0                   \n",
      " TRANS_COUNT_ATM_PRC         | 0.981818181818182     \n",
      " AMOUNT_RUB_ATM_PRC          | 0.9264718189135429    \n",
      " TURNOVER_PAYM               | 0.0                   \n",
      " AGE                         | 324                   \n",
      " CNT_TRAN_MED_TENDENCY3M     | null                  \n",
      " CR_PROD_CNT_CC              | 0                     \n",
      " SUM_TRAN_MED_TENDENCY3M     | null                  \n",
      " REST_DYNAMIC_FDEP_3M        | 0.0                   \n",
      " REST_DYNAMIC_IL_1M          | 0.0                   \n",
      " APP_EMP_TYPE                | null                  \n",
      " SUM_TRAN_CLO_TENDENCY3M     | null                  \n",
      " LDEAL_TENOR_MAX             | null                  \n",
      " LDEAL_YQZ_CHRG              | null                  \n",
      " CR_PROD_CNT_CCFP            | 0                     \n",
      " DEAL_YQZ_IR_MAX             | null                  \n",
      " LDEAL_YQZ_COM               | null                  \n",
      " DEAL_YQZ_IR_MIN             | null                  \n",
      " CNT_TRAN_CLO_TENDENCY3M     | null                  \n",
      " REST_DYNAMIC_CUR_1M         | 0.139327197286461     \n",
      " REST_AVG_PAYM               | 0.0                   \n",
      " LDEAL_TENOR_MIN             | null                  \n",
      " LDEAL_AMT_MONTH             | null                  \n",
      " APP_COMP_TYPE               | null                  \n",
      " LDEAL_GRACE_DAYS_PCT_MED    | 0.0                   \n",
      " REST_DYNAMIC_CUR_3M         | 0.24404241658152398   \n",
      " CNT_TRAN_SUP_TENDENCY3M     | null                  \n",
      " TURNOVER_DYNAMIC_CUR_1M     | 0.14429972251526998   \n",
      " REST_DYNAMIC_PAYM_3M        | 0.0                   \n",
      " SUM_TRAN_SUP_TENDENCY3M     | null                  \n",
      " REST_DYNAMIC_IL_3M          | 0.0                   \n",
      " CNT_TRAN_ATM_TENDENCY3M     | 0.351851851851852     \n",
      " CNT_TRAN_ATM_TENDENCY1M     | 0.166666666666667     \n",
      " TURNOVER_DYNAMIC_IL_3M      | 0.0                   \n",
      " SUM_TRAN_ATM_TENDENCY3M     | 0.329320637235633     \n",
      " DEAL_GRACE_DAYS_ACC_S1X1    | 0.0                   \n",
      " AVG_PCT_MONTH_TO_PCLOSE     | null                  \n",
      " DEAL_YWZ_IR_MIN             | 45.0                  \n",
      " SUM_TRAN_SUP_TENDENCY1M     | null                  \n",
      " DEAL_YWZ_IR_MAX             | 45.0                  \n",
      " SUM_TRAN_ATM_TENDENCY1M     | 0.16790105289165602   \n",
      " REST_DYNAMIC_PAYM_1M        | 0.0                   \n",
      " CNT_TRAN_SUP_TENDENCY1M     | null                  \n",
      " DEAL_GRACE_DAYS_ACC_AVG     | 0.0                   \n",
      " TURNOVER_DYNAMIC_CUR_3M     | 0.30374965665416803   \n",
      " PACK                        | 102                   \n",
      " MAX_PCLOSE_DATE             | null                  \n",
      " LDEAL_YQZ_PC                | null                  \n",
      " CLNT_SETUP_TENOR            | 5.48000105784548      \n",
      " DEAL_GRACE_DAYS_ACC_MAX     | 0.0                   \n",
      " TURNOVER_DYNAMIC_PAYM_3M    | 0.0                   \n",
      " LDEAL_DELINQ_PER_MAXYQZ     | null                  \n",
      " TURNOVER_DYNAMIC_PAYM_1M    | 0.0                   \n",
      " CLNT_SALARY_VALUE           | null                  \n",
      " TRANS_AMOUNT_TENDENCY3M     | 0.305106289785464     \n",
      " MED_DEBT_PRC_YQZ            | null                  \n",
      " TRANS_CNT_TENDENCY3M        | 0.34545454545454496   \n",
      " LDEAL_USED_AMT_AVG_YQZ      | null                  \n",
      " REST_DYNAMIC_CC_1M          | 0.0                   \n",
      " LDEAL_USED_AMT_AVG_YWZ      | 1.0                   \n",
      " TURNOVER_DYNAMIC_CC_1M      | 0.0                   \n",
      " AVG_PCT_DEBT_TO_DEAL_AMT    | null                  \n",
      " LDEAL_ACT_DAYS_ACC_PCT_AVG  | 0.0035236081747709704 \n",
      " REST_DYNAMIC_CC_3M          | 0.0                   \n",
      " MED_DEBT_PRC_YWZ            | 0.0                   \n",
      " LDEAL_ACT_DAYS_PCT_TR3      | 0.0                   \n",
      " LDEAL_ACT_DAYS_PCT_AAVG     | 0.0                   \n",
      " LDEAL_DELINQ_PER_MAXYWZ     | 0.0                   \n",
      " TURNOVER_DYNAMIC_CC_3M      | 0.0                   \n",
      " LDEAL_ACT_DAYS_PCT_TR       | 0.0                   \n",
      " LDEAL_ACT_DAYS_PCT_TR4      | 0.0                   \n",
      " LDEAL_ACT_DAYS_PCT_CURR     | 0.0                   \n",
      " TARGET                      | 0                     \n",
      "only showing top 1 row\n",
      "\n"
     ]
    },
    {
     "data": {
      "text/plain": [
       "trainDf = [_c0: int, ID: int ... 115 more fields]\n"
      ]
     },
     "metadata": {},
     "output_type": "display_data"
    },
    {
     "data": {
      "text/plain": [
       "[_c0: int, ID: int ... 115 more fields]"
      ]
     },
     "execution_count": 15,
     "metadata": {},
     "output_type": "execute_result"
    }
   ],
   "source": [
    "var trainDf = spark\n",
    "    .read\n",
    "    .option(\"header\", true)\n",
    "    .option(\"inferSchema\", true)\n",
    "    .csv(\"/user/evgeniy.osipchuk/lab05_train.csv\")\n",
    "    //.drop(\"_c0\", \"ID\")\n",
    "\n",
    "trainDf.show(1, 0, true)"
   ]
  },
  {
   "cell_type": "code",
   "execution_count": 16,
   "metadata": {},
   "outputs": [
    {
     "data": {
      "text/plain": [
       "categoriesCols = List(CLNT_TRUST_RELATION, APP_MARITAL_STATUS, APP_KIND_OF_PROP_HABITATION, CLNT_JOB_POSITION_TYPE, CLNT_JOB_POSITION, APP_DRIVING_LICENSE, APP_EDUCATION, APP_TRAVEL_PASS, APP_CAR, APP_POSITION_TYPE, APP_EMP_TYPE, APP_COMP_TYPE, PACK)\n"
      ]
     },
     "metadata": {},
     "output_type": "display_data"
    },
    {
     "data": {
      "text/plain": [
       "List(CLNT_TRUST_RELATION, APP_MARITAL_STATUS, APP_KIND_OF_PROP_HABITATION, CLNT_JOB_POSITION_TYPE, CLNT_JOB_POSITION, APP_DRIVING_LICENSE, APP_EDUCATION, APP_TRAVEL_PASS, APP_CAR, APP_POSITION_TYPE, APP_EMP_TYPE, APP_COMP_TYPE, PACK)"
      ]
     },
     "execution_count": 16,
     "metadata": {},
     "output_type": "execute_result"
    }
   ],
   "source": [
    "val categoriesCols = List(\n",
    "    \"CLNT_TRUST_RELATION\", \n",
    "    \"APP_MARITAL_STATUS\",\n",
    "    \"APP_KIND_OF_PROP_HABITATION\", \n",
    "    \"CLNT_JOB_POSITION_TYPE\",\n",
    "    \"CLNT_JOB_POSITION\", \n",
    "    \"APP_DRIVING_LICENSE\", \n",
    "    \"APP_EDUCATION\",\n",
    "    \"APP_TRAVEL_PASS\", \n",
    "    \"APP_CAR\", \n",
    "    \"APP_POSITION_TYPE\", \n",
    "    \"APP_EMP_TYPE\",\n",
    "    \"APP_COMP_TYPE\", \n",
    "    \"PACK\"\n",
    ")"
   ]
  },
  {
   "cell_type": "code",
   "execution_count": 17,
   "metadata": {},
   "outputs": [
    {
     "data": {
      "text/plain": [
       "trainDf = [_c0: int, ID: int ... 102 more fields]\n"
      ]
     },
     "metadata": {},
     "output_type": "display_data"
    },
    {
     "data": {
      "text/plain": [
       "[_c0: int, ID: int ... 102 more fields]"
      ]
     },
     "execution_count": 17,
     "metadata": {},
     "output_type": "execute_result"
    }
   ],
   "source": [
    "trainDf = trainDf.drop(categoriesCols:_*).na.fill(0)"
   ]
  },
  {
   "cell_type": "code",
   "execution_count": 18,
   "metadata": {},
   "outputs": [
    {
     "data": {
      "text/plain": [
       "trainDfTrain = [_c0: int, ID: int ... 102 more fields]\n",
       "trainDfTest = [_c0: int, ID: int ... 102 more fields]\n"
      ]
     },
     "metadata": {},
     "output_type": "display_data"
    },
    {
     "data": {
      "text/plain": [
       "[_c0: int, ID: int ... 102 more fields]"
      ]
     },
     "execution_count": 18,
     "metadata": {},
     "output_type": "execute_result"
    }
   ],
   "source": [
    "val Array(trainDfTrain, trainDfTest) = trainDf.randomSplit(Array(0.8, 0.2))"
   ]
  },
  {
   "cell_type": "code",
   "execution_count": null,
   "metadata": {},
   "outputs": [],
   "source": []
  },
  {
   "cell_type": "code",
   "execution_count": null,
   "metadata": {},
   "outputs": [],
   "source": []
  },
  {
   "cell_type": "markdown",
   "metadata": {},
   "source": [
    "# Train model"
   ]
  },
  {
   "cell_type": "code",
   "execution_count": 19,
   "metadata": {},
   "outputs": [],
   "source": [
    "import org.apache.spark.ml.classification.{RandomForestClassificationModel, RandomForestClassifier, GBTClassifier}\n",
    "import org.apache.spark.ml.feature.{VectorAssembler}"
   ]
  },
  {
   "cell_type": "code",
   "execution_count": 20,
   "metadata": {},
   "outputs": [
    {
     "data": {
      "text/plain": [
       "vectorAssembler = vecAssembler_f650e6562b28\n"
      ]
     },
     "metadata": {},
     "output_type": "display_data"
    },
    {
     "data": {
      "text/plain": [
       "vecAssembler_f650e6562b28"
      ]
     },
     "execution_count": 20,
     "metadata": {},
     "output_type": "execute_result"
    }
   ],
   "source": [
    "val vectorAssembler = new VectorAssembler()\n",
    "    .setInputCols(trainDfTrain.drop(\"TARGET\").columns)\n",
    "    .setOutputCol(\"features\")"
   ]
  },
  {
   "cell_type": "code",
   "execution_count": 21,
   "metadata": {},
   "outputs": [
    {
     "data": {
      "text/plain": [
       "trainDfCleaned = [_c0: int, ID: int ... 103 more fields]\n"
      ]
     },
     "metadata": {},
     "output_type": "display_data"
    },
    {
     "data": {
      "text/plain": [
       "[_c0: int, ID: int ... 103 more fields]"
      ]
     },
     "execution_count": 21,
     "metadata": {},
     "output_type": "execute_result"
    }
   ],
   "source": [
    "val trainDfCleaned = vectorAssembler.transform(trainDfTrain).cache"
   ]
  },
  {
   "cell_type": "code",
   "execution_count": 22,
   "metadata": {},
   "outputs": [
    {
     "name": "stdout",
     "output_type": "stream",
     "text": [
      "-RECORD 0-------------------------------------------------------------------------------------------------------------------------------------------------------------------------------------------------------------------------------------------------------------------------------------------------------------------------------------------------------------------------------------------\n",
      " _c0                        | 2                                                                                                                                                                                                                                                                                                                                                                     \n",
      " ID                         | 146843                                                                                                                                                                                                                                                                                                                                                                \n",
      " CR_PROD_CNT_IL             | 0                                                                                                                                                                                                                                                                                                                                                                     \n",
      " AMOUNT_RUB_CLO_PRC         | 0.00691527032447676                                                                                                                                                                                                                                                                                                                                                   \n",
      " PRC_ACCEPTS_A_EMAIL_LINK   | 0.0                                                                                                                                                                                                                                                                                                                                                                   \n",
      " APP_REGISTR_RGN_CODE       | 0.0                                                                                                                                                                                                                                                                                                                                                                   \n",
      " PRC_ACCEPTS_A_POS          | 0.0                                                                                                                                                                                                                                                                                                                                                                   \n",
      " PRC_ACCEPTS_A_TK           | 0.0                                                                                                                                                                                                                                                                                                                                                                   \n",
      " TURNOVER_DYNAMIC_IL_1M     | 0.0                                                                                                                                                                                                                                                                                                                                                                   \n",
      " CNT_TRAN_AUT_TENDENCY1M    | 0.0                                                                                                                                                                                                                                                                                                                                                                   \n",
      " SUM_TRAN_AUT_TENDENCY1M    | 0.0                                                                                                                                                                                                                                                                                                                                                                   \n",
      " AMOUNT_RUB_SUP_PRC         | 0.0                                                                                                                                                                                                                                                                                                                                                                   \n",
      " PRC_ACCEPTS_A_AMOBILE      | 0.0                                                                                                                                                                                                                                                                                                                                                                   \n",
      " SUM_TRAN_AUT_TENDENCY3M    | 0.0                                                                                                                                                                                                                                                                                                                                                                   \n",
      " PRC_ACCEPTS_TK             | 0.0                                                                                                                                                                                                                                                                                                                                                                   \n",
      " PRC_ACCEPTS_A_MTP          | 0.0                                                                                                                                                                                                                                                                                                                                                                   \n",
      " REST_DYNAMIC_FDEP_1M       | 0.0                                                                                                                                                                                                                                                                                                                                                                   \n",
      " CNT_TRAN_AUT_TENDENCY3M    | 0.0                                                                                                                                                                                                                                                                                                                                                                   \n",
      " CNT_ACCEPTS_TK             | 0.0                                                                                                                                                                                                                                                                                                                                                                   \n",
      " REST_DYNAMIC_SAVE_3M       | 0.0                                                                                                                                                                                                                                                                                                                                                                   \n",
      " CR_PROD_CNT_VCU            | 0                                                                                                                                                                                                                                                                                                                                                                     \n",
      " REST_AVG_CUR               | 112837.06281666699                                                                                                                                                                                                                                                                                                                                                    \n",
      " CNT_TRAN_MED_TENDENCY1M    | 0.0                                                                                                                                                                                                                                                                                                                                                                   \n",
      " AMOUNT_RUB_NAS_PRC         | 0.0                                                                                                                                                                                                                                                                                                                                                                   \n",
      " TRANS_COUNT_SUP_PRC        | 0.0                                                                                                                                                                                                                                                                                                                                                                   \n",
      " CNT_TRAN_CLO_TENDENCY1M    | 0.0                                                                                                                                                                                                                                                                                                                                                                   \n",
      " SUM_TRAN_MED_TENDENCY1M    | 0.0                                                                                                                                                                                                                                                                                                                                                                   \n",
      " PRC_ACCEPTS_A_ATM          | 0.0                                                                                                                                                                                                                                                                                                                                                                   \n",
      " PRC_ACCEPTS_MTP            | 0.0                                                                                                                                                                                                                                                                                                                                                                   \n",
      " TRANS_COUNT_NAS_PRC        | 0.0                                                                                                                                                                                                                                                                                                                                                                   \n",
      " CNT_ACCEPTS_MTP            | 0.0                                                                                                                                                                                                                                                                                                                                                                   \n",
      " CR_PROD_CNT_TOVR           | 0                                                                                                                                                                                                                                                                                                                                                                     \n",
      " CR_PROD_CNT_PIL            | 0                                                                                                                                                                                                                                                                                                                                                                     \n",
      " SUM_TRAN_CLO_TENDENCY1M    | 0.0                                                                                                                                                                                                                                                                                                                                                                   \n",
      " TURNOVER_CC                | 0.0                                                                                                                                                                                                                                                                                                                                                                   \n"
     ]
    },
    {
     "name": "stdout",
     "output_type": "stream",
     "text": [
      " TRANS_COUNT_ATM_PRC        | 0.810810810810811                                                                                                                                                                                                                                                                                                                                                     \n",
      " AMOUNT_RUB_ATM_PRC         | 0.925139591756805                                                                                                                                                                                                                                                                                                                                                     \n",
      " TURNOVER_PAYM              | 0.0                                                                                                                                                                                                                                                                                                                                                                   \n",
      " AGE                        | 420                                                                                                                                                                                                                                                                                                                                                                   \n",
      " CNT_TRAN_MED_TENDENCY3M    | 0.0                                                                                                                                                                                                                                                                                                                                                                   \n",
      " CR_PROD_CNT_CC             | 0                                                                                                                                                                                                                                                                                                                                                                     \n",
      " SUM_TRAN_MED_TENDENCY3M    | 0.0                                                                                                                                                                                                                                                                                                                                                                   \n",
      " REST_DYNAMIC_FDEP_3M       | 0.0                                                                                                                                                                                                                                                                                                                                                                   \n",
      " REST_DYNAMIC_IL_1M         | 0.0                                                                                                                                                                                                                                                                                                                                                                   \n",
      " SUM_TRAN_CLO_TENDENCY3M    | 0.0                                                                                                                                                                                                                                                                                                                                                                   \n",
      " LDEAL_TENOR_MAX            | 0.0                                                                                                                                                                                                                                                                                                                                                                   \n",
      " LDEAL_YQZ_CHRG             | 0.0                                                                                                                                                                                                                                                                                                                                                                   \n",
      " CR_PROD_CNT_CCFP           | 0                                                                                                                                                                                                                                                                                                                                                                     \n",
      " DEAL_YQZ_IR_MAX            | 0.0                                                                                                                                                                                                                                                                                                                                                                   \n",
      " LDEAL_YQZ_COM              | 0.0                                                                                                                                                                                                                                                                                                                                                                   \n",
      " DEAL_YQZ_IR_MIN            | 0.0                                                                                                                                                                                                                                                                                                                                                                   \n",
      " CNT_TRAN_CLO_TENDENCY3M    | 0.0                                                                                                                                                                                                                                                                                                                                                                   \n",
      " REST_DYNAMIC_CUR_1M        | 0.0843406982520373                                                                                                                                                                                                                                                                                                                                                    \n",
      " REST_AVG_PAYM              | 0.0                                                                                                                                                                                                                                                                                                                                                                   \n",
      " LDEAL_TENOR_MIN            | 0.0                                                                                                                                                                                                                                                                                                                                                                   \n",
      " LDEAL_AMT_MONTH            | 0.0                                                                                                                                                                                                                                                                                                                                                                   \n",
      " LDEAL_GRACE_DAYS_PCT_MED   | 0.0                                                                                                                                                                                                                                                                                                                                                                   \n",
      " REST_DYNAMIC_CUR_3M        | 0.33613608185599697                                                                                                                                                                                                                                                                                                                                                   \n",
      " CNT_TRAN_SUP_TENDENCY3M    | 0.0                                                                                                                                                                                                                                                                                                                                                                   \n",
      " TURNOVER_DYNAMIC_CUR_1M    | 0.121041431995811                                                                                                                                                                                                                                                                                                                                                     \n",
      " REST_DYNAMIC_PAYM_3M       | 0.0                                                                                                                                                                                                                                                                                                                                                                   \n",
      " SUM_TRAN_SUP_TENDENCY3M    | 0.0                                                                                                                                                                                                                                                                                                                                                                   \n",
      " REST_DYNAMIC_IL_3M         | 0.0                                                                                                                                                                                                                                                                                                                                                                   \n",
      " CNT_TRAN_ATM_TENDENCY3M    | 0.3666666666666671                                                                                                                                                                                                                                                                                                                                                    \n",
      " CNT_TRAN_ATM_TENDENCY1M    | 0.133333333333333                                                                                                                                                                                                                                                                                                                                                     \n",
      " TURNOVER_DYNAMIC_IL_3M     | 0.0                                                                                                                                                                                                                                                                                                                                                                   \n",
      " SUM_TRAN_ATM_TENDENCY3M    | 0.431655992680695                                                                                                                                                                                                                                                                                                                                                     \n",
      " DEAL_GRACE_DAYS_ACC_S1X1   | 0.0                                                                                                                                                                                                                                                                                                                                                                   \n",
      " AVG_PCT_MONTH_TO_PCLOSE    | 0.0                                                                                                                                                                                                                                                                                                                                                                   \n",
      " DEAL_YWZ_IR_MIN            | 0.0                                                                                                                                                                                                                                                                                                                                                                   \n",
      " SUM_TRAN_SUP_TENDENCY1M    | 0.0                                                                                                                                                                                                                                                                                                                                                                   \n",
      " DEAL_YWZ_IR_MAX            | 0.0                                                                                                                                                                                                                                                                                                                                                                   \n",
      " SUM_TRAN_ATM_TENDENCY1M    | 0.0631290027447392                                                                                                                                                                                                                                                                                                                                                    \n",
      " REST_DYNAMIC_PAYM_1M       | 0.0                                                                                                                                                                                                                                                                                                                                                                   \n",
      " CNT_TRAN_SUP_TENDENCY1M    | 0.0                                                                                                                                                                                                                                                                                                                                                                   \n",
      " DEAL_GRACE_DAYS_ACC_AVG    | 0.0                                                                                                                                                                                                                                                                                                                                                                   \n",
      " TURNOVER_DYNAMIC_CUR_3M    | 0.52283262124769                                                                                                                                                                                                                                                                                                                                                      \n",
      " MAX_PCLOSE_DATE            | 0.0                                                                                                                                                                                                                                                                                                                                                                   \n",
      " LDEAL_YQZ_PC               | 0.0                                                                                                                                                                                                                                                                                                                                                                   \n",
      " CLNT_SETUP_TENOR           | 1.58764654271207                                                                                                                                                                                                                                                                                                                                                      \n",
      " DEAL_GRACE_DAYS_ACC_MAX    | 0.0                                                                                                                                                                                                                                                                                                                                                                   \n",
      " TURNOVER_DYNAMIC_PAYM_3M   | 0.0                                                                                                                                                                                                                                                                                                                                                                   \n",
      " LDEAL_DELINQ_PER_MAXYQZ    | 0.0                                                                                                                                                                                                                                                                                                                                                                   \n"
     ]
    },
    {
     "name": "stdout",
     "output_type": "stream",
     "text": [
      " TURNOVER_DYNAMIC_PAYM_1M   | 0.0                                                                                                                                                                                                                                                                                                                                                                   \n",
      " CLNT_SALARY_VALUE          | 0.0                                                                                                                                                                                                                                                                                                                                                                   \n",
      " TRANS_AMOUNT_TENDENCY3M    | 0.39934204884799707                                                                                                                                                                                                                                                                                                                                                   \n",
      " MED_DEBT_PRC_YQZ           | 0.0                                                                                                                                                                                                                                                                                                                                                                   \n",
      " TRANS_CNT_TENDENCY3M       | 0.297297297297297                                                                                                                                                                                                                                                                                                                                                     \n",
      " LDEAL_USED_AMT_AVG_YQZ     | 0.0                                                                                                                                                                                                                                                                                                                                                                   \n",
      " REST_DYNAMIC_CC_1M         | 0.0                                                                                                                                                                                                                                                                                                                                                                   \n",
      " LDEAL_USED_AMT_AVG_YWZ     | 0.0                                                                                                                                                                                                                                                                                                                                                                   \n",
      " TURNOVER_DYNAMIC_CC_1M     | 0.0                                                                                                                                                                                                                                                                                                                                                                   \n",
      " AVG_PCT_DEBT_TO_DEAL_AMT   | 0.0                                                                                                                                                                                                                                                                                                                                                                   \n",
      " LDEAL_ACT_DAYS_ACC_PCT_AVG | 0.0                                                                                                                                                                                                                                                                                                                                                                   \n",
      " REST_DYNAMIC_CC_3M         | 0.0                                                                                                                                                                                                                                                                                                                                                                   \n",
      " MED_DEBT_PRC_YWZ           | 0.0                                                                                                                                                                                                                                                                                                                                                                   \n",
      " LDEAL_ACT_DAYS_PCT_TR3     | 0.0                                                                                                                                                                                                                                                                                                                                                                   \n",
      " LDEAL_ACT_DAYS_PCT_AAVG    | 0.0                                                                                                                                                                                                                                                                                                                                                                   \n",
      " LDEAL_DELINQ_PER_MAXYWZ    | 0.0                                                                                                                                                                                                                                                                                                                                                                   \n",
      " TURNOVER_DYNAMIC_CC_3M     | 0.0                                                                                                                                                                                                                                                                                                                                                                   \n",
      " LDEAL_ACT_DAYS_PCT_TR      | 0.0                                                                                                                                                                                                                                                                                                                                                                   \n",
      " LDEAL_ACT_DAYS_PCT_TR4     | 0.0                                                                                                                                                                                                                                                                                                                                                                   \n",
      " LDEAL_ACT_DAYS_PCT_CURR    | 0.0                                                                                                                                                                                                                                                                                                                                                                   \n",
      " TARGET                     | 0                                                                                                                                                                                                                                                                                                                                                                     \n",
      " features                   | (103,[0,1,3,21,35,36,38,52,57,59,63,64,66,72,76,79,85,87],[2.0,146843.0,0.00691527032447676,112837.06281666699,0.810810810810811,0.925139591756805,420.0,0.0843406982520373,0.33613608185599697,0.121041431995811,0.3666666666666671,0.133333333333333,0.431655992680695,0.0631290027447392,0.52283262124769,1.58764654271207,0.39934204884799707,0.297297297297297]) \n",
      "only showing top 1 row\n",
      "\n"
     ]
    }
   ],
   "source": [
    "trainDfCleaned.show(1, 0, true)"
   ]
  },
  {
   "cell_type": "code",
   "execution_count": 33,
   "metadata": {},
   "outputs": [
    {
     "data": {
      "text/plain": [
       "gbt = GBTClassificationModel (uid=gbtc_54457158805e) with 10 trees\n"
      ]
     },
     "metadata": {},
     "output_type": "display_data"
    },
    {
     "data": {
      "text/plain": [
       "lastException: Throwable = null\n"
      ]
     },
     "metadata": {},
     "output_type": "display_data"
    },
    {
     "data": {
      "text/plain": [
       "GBTClassificationModel (uid=gbtc_54457158805e) with 10 trees"
      ]
     },
     "execution_count": 33,
     "metadata": {},
     "output_type": "execute_result"
    }
   ],
   "source": [
    "val gbt = new GBTClassifier()\n",
    "    .setLabelCol(\"TARGET\")\n",
    "    .setFeaturesCol(\"features\")\n",
    "    .setMaxIter(10)\n",
    "    .setFeatureSubsetStrategy(\"auto\")\n",
    "    .fit(trainDfCleaned)"
   ]
  },
  {
   "cell_type": "code",
   "execution_count": 34,
   "metadata": {},
   "outputs": [
    {
     "name": "stdout",
     "output_type": "stream",
     "text": [
      "+------+--------------------+--------------------+--------------------+----------+\n",
      "|TARGET|            features|       rawPrediction|         probability|prediction|\n",
      "+------+--------------------+--------------------+--------------------+----------+\n",
      "|     0|(103,[1,19,21,35,...|[1.09616593590750...|[0.89955879390664...|       0.0|\n",
      "|     0|(103,[0,1,3,11,21...|[1.29144870543279...|[0.92975274228139...|       0.0|\n",
      "|     0|(103,[0,1,3,5,9,1...|[0.66085863392775...|[0.78946727325914...|       0.0|\n",
      "|     0|(103,[0,1,21,35,3...|[1.07964011874232...|[0.89653280117338...|       0.0|\n",
      "|     0|(103,[0,1,23,29,3...|[0.94863276114795...|[0.86958172358212...|       0.0|\n",
      "+------+--------------------+--------------------+--------------------+----------+\n",
      "only showing top 5 rows\n",
      "\n"
     ]
    },
    {
     "data": {
      "text/plain": [
       "predictions = [_c0: int, ID: int ... 106 more fields]\n"
      ]
     },
     "metadata": {},
     "output_type": "display_data"
    },
    {
     "data": {
      "text/plain": [
       "[_c0: int, ID: int ... 106 more fields]"
      ]
     },
     "execution_count": 34,
     "metadata": {},
     "output_type": "execute_result"
    }
   ],
   "source": [
    "val predictions = gbt.transform(\n",
    "    vectorAssembler.transform(trainDfTest)\n",
    ").cache\n",
    "\n",
    "predictions\n",
    "    .select(\n",
    "        \"TARGET\",\n",
    "        \"features\",\n",
    "        \"rawPrediction\",\n",
    "        \"probability\",\n",
    "        \"prediction\"\n",
    "    )\n",
    "    .show(5)"
   ]
  },
  {
   "cell_type": "code",
   "execution_count": 35,
   "metadata": {},
   "outputs": [
    {
     "name": "stdout",
     "output_type": "stream",
     "text": [
      "-RECORD 0-----------------------------------------------\n",
      " probability | [0.8995587939066491,0.10044120609335094] \n",
      "only showing top 1 row\n",
      "\n"
     ]
    }
   ],
   "source": [
    "predictions\n",
    "    .select(\n",
    "        \"probability\"\n",
    "    )\n",
    "    .show(1, 0, true)"
   ]
  },
  {
   "cell_type": "code",
   "execution_count": 36,
   "metadata": {},
   "outputs": [
    {
     "name": "stdout",
     "output_type": "stream",
     "text": [
      "root\n",
      " |-- probability: vector (nullable = true)\n",
      "\n"
     ]
    }
   ],
   "source": [
    "predictions.select(\"probability\").printSchema()"
   ]
  },
  {
   "cell_type": "code",
   "execution_count": 37,
   "metadata": {},
   "outputs": [
    {
     "data": {
      "text/plain": [
       "vectorToArrayUdf = UserDefinedFunction(<function1>,ArrayType(DoubleType,false),None)\n"
      ]
     },
     "metadata": {},
     "output_type": "display_data"
    },
    {
     "data": {
      "text/plain": [
       "import org.apache.spark.mllib.linalg.{Vector=>OldVector}\n"
      ]
     },
     "metadata": {},
     "output_type": "display_data"
    },
    {
     "data": {
      "text/plain": [
       "UserDefinedFunction(<function1>,ArrayType(DoubleType,false),None)"
      ]
     },
     "execution_count": 37,
     "metadata": {},
     "output_type": "execute_result"
    }
   ],
   "source": [
    "import org.apache.spark.ml.linalg.{SparseVector, Vector}\n",
    "import org.apache.spark.mllib.linalg.{Vector => OldVector}\n",
    "\n",
    "val vectorToArrayUdf = udf { vec: Any =>\n",
    "    vec match {\n",
    "      case v: Vector => v.toArray\n",
    "      case v: OldVector => v.toArray\n",
    "      case v => throw new IllegalArgumentException(\n",
    "        \"function vector_to_array requires a non-null input argument and input type must be \" +\n",
    "        \"`org.apache.spark.ml.linalg.Vector` or `org.apache.spark.mllib.linalg.Vector`, \" +\n",
    "        s\"but got ${ if (v == null) \"null\" else v.getClass.getName }.\")\n",
    "    }\n",
    "  }.asNonNullable()"
   ]
  },
  {
   "cell_type": "code",
   "execution_count": 38,
   "metadata": {},
   "outputs": [
    {
     "name": "stdout",
     "output_type": "stream",
     "text": [
      "+----------------------+\n",
      "|prediction_probability|\n",
      "+----------------------+\n",
      "|   0.10044120609335094|\n",
      "|   0.07024725771860096|\n",
      "|   0.21053272674085566|\n",
      "|   0.10346719882661759|\n",
      "|    0.1304182764178785|\n",
      "+----------------------+\n",
      "only showing top 5 rows\n",
      "\n"
     ]
    }
   ],
   "source": [
    "predictions\n",
    "    .select(vectorToArrayUdf(col(\"probability\")).getItem(1).alias(\"prediction_probability\"))\n",
    "    .show(5)"
   ]
  },
  {
   "cell_type": "code",
   "execution_count": 39,
   "metadata": {},
   "outputs": [],
   "source": [
    "import org.apache.spark.ml.evaluation.BinaryClassificationEvaluator"
   ]
  },
  {
   "cell_type": "code",
   "execution_count": 40,
   "metadata": {},
   "outputs": [
    {
     "data": {
      "text/plain": [
       "evaluator = binEval_668c31d5fef9\n",
       "accuracy = 0.8129140811501985\n"
      ]
     },
     "metadata": {},
     "output_type": "display_data"
    },
    {
     "data": {
      "text/plain": [
       "0.8129140811501985"
      ]
     },
     "execution_count": 40,
     "metadata": {},
     "output_type": "execute_result"
    }
   ],
   "source": [
    "val evaluator = new BinaryClassificationEvaluator()\n",
    "    .setLabelCol(\"TARGET\")\n",
    "    .setRawPredictionCol(\"prediction\")\n",
    "    .setMetricName(\"areaUnderROC\")\n",
    "\n",
    "val accuracy = evaluator\n",
    "    .evaluate(\n",
    "        predictions.withColumn(\"prediction\", vectorToArrayUdf(col(\"probability\")).getItem(1))\n",
    "    )"
   ]
  },
  {
   "cell_type": "markdown",
   "metadata": {},
   "source": [
    "# Predict"
   ]
  },
  {
   "cell_type": "code",
   "execution_count": 41,
   "metadata": {},
   "outputs": [
    {
     "data": {
      "text/plain": [
       "testDfData = [_c0: int, ID: int ... 114 more fields]\n"
      ]
     },
     "metadata": {},
     "output_type": "display_data"
    },
    {
     "data": {
      "text/plain": [
       "[_c0: int, ID: int ... 114 more fields]"
      ]
     },
     "execution_count": 41,
     "metadata": {},
     "output_type": "execute_result"
    }
   ],
   "source": [
    "val testDfData = spark\n",
    "    .read\n",
    "    .option(\"header\", true)\n",
    "    .option(\"inferSchema\", true)\n",
    "    .csv(\"/user/evgeniy.osipchuk/lab05_test.csv\")\n",
    "    .na.fill(0)"
   ]
  },
  {
   "cell_type": "code",
   "execution_count": 48,
   "metadata": {},
   "outputs": [
    {
     "data": {
      "text/plain": [
       "realPredictions = [_c0: int, ID: int ... 118 more fields]\n"
      ]
     },
     "metadata": {},
     "output_type": "display_data"
    },
    {
     "data": {
      "text/plain": [
       "[_c0: int, ID: int ... 118 more fields]"
      ]
     },
     "execution_count": 48,
     "metadata": {},
     "output_type": "execute_result"
    }
   ],
   "source": [
    "val realPredictions = gbt.transform(vectorAssembler.transform(testDfData)).cache"
   ]
  },
  {
   "cell_type": "code",
   "execution_count": 49,
   "metadata": {
    "scrolled": true
   },
   "outputs": [
    {
     "name": "stdout",
     "output_type": "stream",
     "text": [
      "+------+-------------------+\n",
      "|    ID|         prediction|\n",
      "+------+-------------------+\n",
      "|519130|0.16884413915558072|\n",
      "|234045|0.07385903010621486|\n",
      "|401256|0.07093569005876854|\n",
      "|551070| 0.0878873640524287|\n",
      "|367285|0.07269397475310291|\n",
      "+------+-------------------+\n",
      "only showing top 5 rows\n",
      "\n"
     ]
    }
   ],
   "source": [
    "realPredictions\n",
    "    .withColumn(\"prediction\", vectorToArrayUdf(col(\"probability\")).getItem(1))\n",
    "    .select(\"ID\", \"prediction\")\n",
    "    .show(5)"
   ]
  },
  {
   "cell_type": "code",
   "execution_count": 50,
   "metadata": {},
   "outputs": [],
   "source": [
    "realPredictions\n",
    "    .withColumn(\"prediction\", vectorToArrayUdf(col(\"probability\")).getItem(1))\n",
    "    .select(\"ID\", \"prediction\")\n",
    "    .withColumnRenamed(\"prediction\", \"target\")\n",
    "    .coalesce(1)\n",
    "    .write\n",
    "    .option(\"header\", \"true\")\n",
    "    .option(\"sep\" ,\"\\t\")\n",
    "    .mode(\"overwrite\")\n",
    "    .format(\"csv\")\n",
    "    .save(\"lab05.csv\")"
   ]
  },
  {
   "cell_type": "code",
   "execution_count": null,
   "metadata": {},
   "outputs": [],
   "source": []
  },
  {
   "cell_type": "code",
   "execution_count": null,
   "metadata": {},
   "outputs": [],
   "source": []
  },
  {
   "cell_type": "code",
   "execution_count": 31,
   "metadata": {},
   "outputs": [],
   "source": [
    "spark.stop()"
   ]
  },
  {
   "cell_type": "code",
   "execution_count": null,
   "metadata": {},
   "outputs": [],
   "source": []
  },
  {
   "cell_type": "code",
   "execution_count": null,
   "metadata": {},
   "outputs": [],
   "source": []
  },
  {
   "cell_type": "code",
   "execution_count": null,
   "metadata": {},
   "outputs": [],
   "source": []
  },
  {
   "cell_type": "code",
   "execution_count": null,
   "metadata": {},
   "outputs": [],
   "source": []
  },
  {
   "cell_type": "markdown",
   "metadata": {},
   "source": [
    "# Next steps\n",
    "\n",
    "- add pipeline functionality `Pipeline().setStages(Array(..))`\n",
    "- use categories (`StringIndexer`, `OneHotEncoder`)\n",
    "- fill missing values with better data (not just zeros)\n",
    "- play with hyper-parameters\n",
    "- try another model (`LogisticRegression`, `GBTClassifier`, `MultilayerPerceptronClassifier`)\n",
    "- use cross-validation (`TrainValidationSplit`)\n"
   ]
  },
  {
   "cell_type": "code",
   "execution_count": null,
   "metadata": {},
   "outputs": [],
   "source": []
  },
  {
   "cell_type": "code",
   "execution_count": null,
   "metadata": {},
   "outputs": [],
   "source": []
  }
 ],
 "metadata": {
  "kernelspec": {
   "display_name": "Apache Toree - Scala",
   "language": "scala",
   "name": "apache_toree_scala"
  },
  "language_info": {
   "codemirror_mode": "text/x-scala",
   "file_extension": ".scala",
   "mimetype": "text/x-scala",
   "name": "scala",
   "pygments_lexer": "scala",
   "version": "2.11.12"
  }
 },
 "nbformat": 4,
 "nbformat_minor": 2
}
