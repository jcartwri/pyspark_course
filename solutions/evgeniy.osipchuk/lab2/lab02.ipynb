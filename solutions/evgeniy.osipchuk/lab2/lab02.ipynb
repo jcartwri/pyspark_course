{
 "cells": [
  {
   "cell_type": "code",
   "execution_count": 121,
   "metadata": {},
   "outputs": [],
   "source": [
    "import os\n",
    "import sys\n",
    "os.environ[\"PYSPARK_PYTHON\"]='/opt/anaconda/envs/bd9/bin/python'\n",
    "os.environ[\"SPARK_HOME\"]='/usr/hdp/current/spark2-client'\n",
    "os.environ[\"PYSPARK_SUBMIT_ARGS\"]='--num-executors 3 pyspark-shell'\n",
    "\n",
    "spark_home = os.environ.get('SPARK_HOME', None)\n",
    "\n",
    "sys.path.insert(0, os.path.join(spark_home, 'python'))\n",
    "sys.path.insert(0, os.path.join(spark_home, 'python/lib/py4j-0.10.7-src.zip'))"
   ]
  },
  {
   "cell_type": "code",
   "execution_count": 122,
   "metadata": {},
   "outputs": [],
   "source": [
    "from pyspark import SparkConf\n",
    "from pyspark.sql import SparkSession\n",
    "from pyspark.ml.feature import HashingTF, IDF, Tokenizer, Normalizer\n",
    "from pyspark.sql.window import Window\n",
    "import pyspark.sql.functions as F\n",
    "from pyspark.sql.types import DoubleType\n",
    "import json"
   ]
  },
  {
   "cell_type": "code",
   "execution_count": 123,
   "metadata": {},
   "outputs": [],
   "source": [
    "conf = SparkConf()\n",
    "conf.set(\"spark.app.name\", \"evgeniy osipchuk lab02\") \n",
    "\n",
    "spark = SparkSession.builder.config(conf=conf).appName(\"evgeniy osipchuk lab02\").getOrCreate()"
   ]
  },
  {
   "cell_type": "markdown",
   "metadata": {},
   "source": [
    "### Считывание данных"
   ]
  },
  {
   "cell_type": "markdown",
   "metadata": {},
   "source": [
    "Для более красивого вывода переопределим функцию show так, чтобы данные выводились в формате pandas. Pandas будет использоваться только для вывода на экран"
   ]
  },
  {
   "cell_type": "code",
   "execution_count": 124,
   "metadata": {},
   "outputs": [],
   "source": [
    "import pyspark\n",
    "\n",
    "def show(self, n=5):\n",
    "    return self.limit(n).toPandas()\n",
    "\n",
    "pyspark.sql.dataframe.DataFrame.show = show"
   ]
  },
  {
   "cell_type": "code",
   "execution_count": 125,
   "metadata": {},
   "outputs": [],
   "source": [
    "courses_id = [23126, 21617, 16627, 11556, 16704, 13702]"
   ]
  },
  {
   "cell_type": "code",
   "execution_count": 126,
   "metadata": {},
   "outputs": [],
   "source": [
    "df = spark.read\\\n",
    "          .format(\"json\")\\\n",
    "          .option(\"sep\", \",\")\\\n",
    "          .load(\"/labs/slaba02/DO_record_per_line.json\")"
   ]
  },
  {
   "cell_type": "code",
   "execution_count": 127,
   "metadata": {},
   "outputs": [
    {
     "data": {
      "text/plain": [
       "DataFrame[cat: string, desc: string, id: bigint, lang: string, name: string, provider: string]"
      ]
     },
     "execution_count": 127,
     "metadata": {},
     "output_type": "execute_result"
    }
   ],
   "source": [
    "df"
   ]
  },
  {
   "cell_type": "code",
   "execution_count": 128,
   "metadata": {},
   "outputs": [
    {
     "data": {
      "text/html": [
       "<div>\n",
       "<style scoped>\n",
       "    .dataframe tbody tr th:only-of-type {\n",
       "        vertical-align: middle;\n",
       "    }\n",
       "\n",
       "    .dataframe tbody tr th {\n",
       "        vertical-align: top;\n",
       "    }\n",
       "\n",
       "    .dataframe thead th {\n",
       "        text-align: right;\n",
       "    }\n",
       "</style>\n",
       "<table border=\"1\" class=\"dataframe\">\n",
       "  <thead>\n",
       "    <tr style=\"text-align: right;\">\n",
       "      <th></th>\n",
       "      <th>cat</th>\n",
       "      <th>desc</th>\n",
       "      <th>id</th>\n",
       "      <th>lang</th>\n",
       "      <th>name</th>\n",
       "      <th>provider</th>\n",
       "    </tr>\n",
       "  </thead>\n",
       "  <tbody>\n",
       "    <tr>\n",
       "      <th>0</th>\n",
       "      <td>3/business_management|6/economics_finance</td>\n",
       "      <td>This course introduces the basic financial sta...</td>\n",
       "      <td>4</td>\n",
       "      <td>en</td>\n",
       "      <td>Accounting Cycle: The Foundation of Business M...</td>\n",
       "      <td>Canvas Network</td>\n",
       "    </tr>\n",
       "    <tr>\n",
       "      <th>1</th>\n",
       "      <td>11/law</td>\n",
       "      <td>This online course will introduce you to Ameri...</td>\n",
       "      <td>5</td>\n",
       "      <td>en</td>\n",
       "      <td>American Counter Terrorism Law</td>\n",
       "      <td>Canvas Network</td>\n",
       "    </tr>\n",
       "    <tr>\n",
       "      <th>2</th>\n",
       "      <td>5/computer_science|15/mathematics_statistics_a...</td>\n",
       "      <td>This course is taught in French Vous voulez co...</td>\n",
       "      <td>6</td>\n",
       "      <td>fr</td>\n",
       "      <td>Arithmétique: en route pour la cryptographie</td>\n",
       "      <td>Canvas Network</td>\n",
       "    </tr>\n",
       "    <tr>\n",
       "      <th>3</th>\n",
       "      <td>14/social_sciences</td>\n",
       "      <td>We live in a digitally connected world. The wa...</td>\n",
       "      <td>7</td>\n",
       "      <td>en</td>\n",
       "      <td>Becoming a Dynamic Educator</td>\n",
       "      <td>Canvas Network</td>\n",
       "    </tr>\n",
       "    <tr>\n",
       "      <th>4</th>\n",
       "      <td>2/biology_life_sciences</td>\n",
       "      <td>This self-paced course is designed to show tha...</td>\n",
       "      <td>8</td>\n",
       "      <td>en</td>\n",
       "      <td>Bioethics</td>\n",
       "      <td>Canvas Network</td>\n",
       "    </tr>\n",
       "  </tbody>\n",
       "</table>\n",
       "</div>"
      ],
      "text/plain": [
       "                                                 cat  \\\n",
       "0          3/business_management|6/economics_finance   \n",
       "1                                             11/law   \n",
       "2  5/computer_science|15/mathematics_statistics_a...   \n",
       "3                                 14/social_sciences   \n",
       "4                            2/biology_life_sciences   \n",
       "\n",
       "                                                desc  id lang  \\\n",
       "0  This course introduces the basic financial sta...   4   en   \n",
       "1  This online course will introduce you to Ameri...   5   en   \n",
       "2  This course is taught in French Vous voulez co...   6   fr   \n",
       "3  We live in a digitally connected world. The wa...   7   en   \n",
       "4  This self-paced course is designed to show tha...   8   en   \n",
       "\n",
       "                                                name        provider  \n",
       "0  Accounting Cycle: The Foundation of Business M...  Canvas Network  \n",
       "1                     American Counter Terrorism Law  Canvas Network  \n",
       "2       Arithmétique: en route pour la cryptographie  Canvas Network  \n",
       "3                        Becoming a Dynamic Educator  Canvas Network  \n",
       "4                                          Bioethics  Canvas Network  "
      ]
     },
     "execution_count": 128,
     "metadata": {},
     "output_type": "execute_result"
    }
   ],
   "source": [
    "df.show(5)"
   ]
  },
  {
   "cell_type": "code",
   "execution_count": 129,
   "metadata": {
    "scrolled": true
   },
   "outputs": [
    {
     "data": {
      "text/html": [
       "<div>\n",
       "<style scoped>\n",
       "    .dataframe tbody tr th:only-of-type {\n",
       "        vertical-align: middle;\n",
       "    }\n",
       "\n",
       "    .dataframe tbody tr th {\n",
       "        vertical-align: top;\n",
       "    }\n",
       "\n",
       "    .dataframe thead th {\n",
       "        text-align: right;\n",
       "    }\n",
       "</style>\n",
       "<table border=\"1\" class=\"dataframe\">\n",
       "  <thead>\n",
       "    <tr style=\"text-align: right;\">\n",
       "      <th></th>\n",
       "      <th>cat</th>\n",
       "      <th>desc</th>\n",
       "      <th>id</th>\n",
       "      <th>lang</th>\n",
       "      <th>name</th>\n",
       "      <th>provider</th>\n",
       "    </tr>\n",
       "  </thead>\n",
       "  <tbody>\n",
       "    <tr>\n",
       "      <th>0</th>\n",
       "      <td>5/computer_science</td>\n",
       "      <td>An introduction to how computing can be used t...</td>\n",
       "      <td>21617</td>\n",
       "      <td>en</td>\n",
       "      <td>Preparing for the AP* Computer Science A Exam ...</td>\n",
       "      <td>edX</td>\n",
       "    </tr>\n",
       "    <tr>\n",
       "      <th>1</th>\n",
       "      <td></td>\n",
       "      <td>Improve your SASS skill by learning benefits ...</td>\n",
       "      <td>23126</td>\n",
       "      <td>en</td>\n",
       "      <td>Compass - powerful SASS library that makes you...</td>\n",
       "      <td>Udemy</td>\n",
       "    </tr>\n",
       "    <tr>\n",
       "      <th>2</th>\n",
       "      <td></td>\n",
       "      <td>La transformación del aula con el Aprendizaje...</td>\n",
       "      <td>11556</td>\n",
       "      <td>es</td>\n",
       "      <td>Aprendizaje Colaborativo by UNID Universidad I...</td>\n",
       "      <td>Udemy</td>\n",
       "    </tr>\n",
       "    <tr>\n",
       "      <th>3</th>\n",
       "      <td>6/economics_finance|15/mathematics_statistics_...</td>\n",
       "      <td>Математическая экономика – это набор моделей в...</td>\n",
       "      <td>13702</td>\n",
       "      <td>ru</td>\n",
       "      <td>Математическая экономика</td>\n",
       "      <td>Intuit</td>\n",
       "    </tr>\n",
       "    <tr>\n",
       "      <th>4</th>\n",
       "      <td></td>\n",
       "      <td>Hazte más empleable, obtén una nueva competen...</td>\n",
       "      <td>16627</td>\n",
       "      <td>es</td>\n",
       "      <td>Aprende Excel: Nivel Intermedio by Alfonso Rin...</td>\n",
       "      <td>Udemy</td>\n",
       "    </tr>\n",
       "    <tr>\n",
       "      <th>5</th>\n",
       "      <td>5/computer_science|14/social_sciences</td>\n",
       "      <td>В курсе рассматривается среда программирования...</td>\n",
       "      <td>16704</td>\n",
       "      <td>ru</td>\n",
       "      <td>Программирование на Lazarus</td>\n",
       "      <td>Intuit</td>\n",
       "    </tr>\n",
       "  </tbody>\n",
       "</table>\n",
       "</div>"
      ],
      "text/plain": [
       "                                                 cat  \\\n",
       "0                                 5/computer_science   \n",
       "1                                                      \n",
       "2                                                      \n",
       "3  6/economics_finance|15/mathematics_statistics_...   \n",
       "4                                                      \n",
       "5              5/computer_science|14/social_sciences   \n",
       "\n",
       "                                                desc     id lang  \\\n",
       "0  An introduction to how computing can be used t...  21617   en   \n",
       "1   Improve your SASS skill by learning benefits ...  23126   en   \n",
       "2   La transformación del aula con el Aprendizaje...  11556   es   \n",
       "3  Математическая экономика – это набор моделей в...  13702   ru   \n",
       "4   Hazte más empleable, obtén una nueva competen...  16627   es   \n",
       "5  В курсе рассматривается среда программирования...  16704   ru   \n",
       "\n",
       "                                                name provider  \n",
       "0  Preparing for the AP* Computer Science A Exam ...      edX  \n",
       "1  Compass - powerful SASS library that makes you...    Udemy  \n",
       "2  Aprendizaje Colaborativo by UNID Universidad I...    Udemy  \n",
       "3                           Математическая экономика   Intuit  \n",
       "4  Aprende Excel: Nivel Intermedio by Alfonso Rin...    Udemy  \n",
       "5                        Программирование на Lazarus   Intuit  "
      ]
     },
     "execution_count": 129,
     "metadata": {},
     "output_type": "execute_result"
    }
   ],
   "source": [
    "df.filter(df.id.isin(courses_id)).show(10)"
   ]
  },
  {
   "cell_type": "markdown",
   "metadata": {},
   "source": [
    "### Токенизация описаний"
   ]
  },
  {
   "cell_type": "code",
   "execution_count": 130,
   "metadata": {},
   "outputs": [],
   "source": [
    "tokenizer = Tokenizer(inputCol=\"desc\", outputCol=\"desc_tokenized\")"
   ]
  },
  {
   "cell_type": "code",
   "execution_count": 131,
   "metadata": {},
   "outputs": [],
   "source": [
    "tokenized_df = tokenizer.transform(df)"
   ]
  },
  {
   "cell_type": "code",
   "execution_count": 132,
   "metadata": {},
   "outputs": [
    {
     "data": {
      "text/html": [
       "<div>\n",
       "<style scoped>\n",
       "    .dataframe tbody tr th:only-of-type {\n",
       "        vertical-align: middle;\n",
       "    }\n",
       "\n",
       "    .dataframe tbody tr th {\n",
       "        vertical-align: top;\n",
       "    }\n",
       "\n",
       "    .dataframe thead th {\n",
       "        text-align: right;\n",
       "    }\n",
       "</style>\n",
       "<table border=\"1\" class=\"dataframe\">\n",
       "  <thead>\n",
       "    <tr style=\"text-align: right;\">\n",
       "      <th></th>\n",
       "      <th>cat</th>\n",
       "      <th>desc</th>\n",
       "      <th>id</th>\n",
       "      <th>lang</th>\n",
       "      <th>name</th>\n",
       "      <th>provider</th>\n",
       "      <th>desc_tokenized</th>\n",
       "    </tr>\n",
       "  </thead>\n",
       "  <tbody>\n",
       "    <tr>\n",
       "      <th>0</th>\n",
       "      <td>3/business_management</td>\n",
       "      <td>It's not luck and it's not by accident. Makin...</td>\n",
       "      <td>9852</td>\n",
       "      <td>en</td>\n",
       "      <td>How to Make Easy Money Online: Get Started Now</td>\n",
       "      <td>Udemy</td>\n",
       "      <td>[, it's, not, luck, and, it's, not, by, accide...</td>\n",
       "    </tr>\n",
       "    <tr>\n",
       "      <th>1</th>\n",
       "      <td>1/arts_music_film</td>\n",
       "      <td>An Easy To Follow, Step-By-Step Guide to Mast...</td>\n",
       "      <td>9853</td>\n",
       "      <td>en</td>\n",
       "      <td>How To Get Started with WordPress by Ten Ton O...</td>\n",
       "      <td>Udemy</td>\n",
       "      <td>[, an, easy, to, follow,, step-by-step, guide,...</td>\n",
       "    </tr>\n",
       "    <tr>\n",
       "      <th>2</th>\n",
       "      <td></td>\n",
       "      <td>You have been doing exceptional in everything...</td>\n",
       "      <td>9854</td>\n",
       "      <td>en</td>\n",
       "      <td>How to Get That Raise by Laura Rose</td>\n",
       "      <td>Udemy</td>\n",
       "      <td>[, you, have, been, doing, exceptional, in, ev...</td>\n",
       "    </tr>\n",
       "    <tr>\n",
       "      <th>3</th>\n",
       "      <td></td>\n",
       "      <td>Learn the skills you need to get control of y...</td>\n",
       "      <td>9855</td>\n",
       "      <td>en</td>\n",
       "      <td>Escape Email Overwhelm! In Under 1 Hour by Ros...</td>\n",
       "      <td>Udemy</td>\n",
       "      <td>[, learn, the, skills, you, need, to, get, con...</td>\n",
       "    </tr>\n",
       "    <tr>\n",
       "      <th>4</th>\n",
       "      <td>3/business_management</td>\n",
       "      <td>A Proven Blueprint To Help You Get Paid For Y...</td>\n",
       "      <td>9856</td>\n",
       "      <td>en</td>\n",
       "      <td>How to Get New Customers: Get Your First Client</td>\n",
       "      <td>Udemy</td>\n",
       "      <td>[, a, proven, blueprint, to, help, you, get, p...</td>\n",
       "    </tr>\n",
       "  </tbody>\n",
       "</table>\n",
       "</div>"
      ],
      "text/plain": [
       "                     cat                                               desc  \\\n",
       "0  3/business_management   It's not luck and it's not by accident. Makin...   \n",
       "1      1/arts_music_film   An Easy To Follow, Step-By-Step Guide to Mast...   \n",
       "2                          You have been doing exceptional in everything...   \n",
       "3                          Learn the skills you need to get control of y...   \n",
       "4  3/business_management   A Proven Blueprint To Help You Get Paid For Y...   \n",
       "\n",
       "     id lang                                               name provider  \\\n",
       "0  9852   en     How to Make Easy Money Online: Get Started Now    Udemy   \n",
       "1  9853   en  How To Get Started with WordPress by Ten Ton O...    Udemy   \n",
       "2  9854   en                How to Get That Raise by Laura Rose    Udemy   \n",
       "3  9855   en  Escape Email Overwhelm! In Under 1 Hour by Ros...    Udemy   \n",
       "4  9856   en    How to Get New Customers: Get Your First Client    Udemy   \n",
       "\n",
       "                                      desc_tokenized  \n",
       "0  [, it's, not, luck, and, it's, not, by, accide...  \n",
       "1  [, an, easy, to, follow,, step-by-step, guide,...  \n",
       "2  [, you, have, been, doing, exceptional, in, ev...  \n",
       "3  [, learn, the, skills, you, need, to, get, con...  \n",
       "4  [, a, proven, blueprint, to, help, you, get, p...  "
      ]
     },
     "execution_count": 132,
     "metadata": {},
     "output_type": "execute_result"
    }
   ],
   "source": [
    "tokenized_df.show()"
   ]
  },
  {
   "cell_type": "markdown",
   "metadata": {},
   "source": [
    "### TF-IDF"
   ]
  },
  {
   "cell_type": "code",
   "execution_count": 133,
   "metadata": {},
   "outputs": [],
   "source": [
    "hashingTF = HashingTF(inputCol=\"desc_tokenized\", outputCol=\"tf\", numFeatures=10000)\n",
    "tf_idf = hashingTF.transform(tokenized_df)"
   ]
  },
  {
   "cell_type": "code",
   "execution_count": 134,
   "metadata": {},
   "outputs": [],
   "source": [
    "idf = IDF(inputCol=\"tf\", outputCol=\"features\")\n",
    "idf = idf.fit(tf_idf)"
   ]
  },
  {
   "cell_type": "code",
   "execution_count": 135,
   "metadata": {},
   "outputs": [],
   "source": [
    "df_idf = idf.transform(tf_idf)\n",
    "normalizer = Normalizer(inputCol=\"features\", outputCol=\"norm_features\")\n",
    "df_idf = normalizer.transform(df_idf)"
   ]
  },
  {
   "cell_type": "code",
   "execution_count": 136,
   "metadata": {},
   "outputs": [
    {
     "name": "stderr",
     "output_type": "stream",
     "text": [
      "/usr/hdp/current/spark2-client/python/pyspark/sql/dataframe.py:2111: UserWarning: toPandas attempted Arrow optimization because 'spark.sql.execution.arrow.enabled' is set to true; however, failed by the reason below:\n",
      "  Unsupported type in conversion to Arrow: VectorUDT\n",
      "Attempting non-optimization as 'spark.sql.execution.arrow.fallback.enabled' is set to true.\n",
      "  warnings.warn(msg)\n"
     ]
    },
    {
     "data": {
      "text/html": [
       "<div>\n",
       "<style scoped>\n",
       "    .dataframe tbody tr th:only-of-type {\n",
       "        vertical-align: middle;\n",
       "    }\n",
       "\n",
       "    .dataframe tbody tr th {\n",
       "        vertical-align: top;\n",
       "    }\n",
       "\n",
       "    .dataframe thead th {\n",
       "        text-align: right;\n",
       "    }\n",
       "</style>\n",
       "<table border=\"1\" class=\"dataframe\">\n",
       "  <thead>\n",
       "    <tr style=\"text-align: right;\">\n",
       "      <th></th>\n",
       "      <th>cat</th>\n",
       "      <th>desc</th>\n",
       "      <th>id</th>\n",
       "      <th>lang</th>\n",
       "      <th>name</th>\n",
       "      <th>provider</th>\n",
       "      <th>desc_tokenized</th>\n",
       "      <th>tf</th>\n",
       "      <th>features</th>\n",
       "      <th>norm_features</th>\n",
       "    </tr>\n",
       "  </thead>\n",
       "  <tbody>\n",
       "    <tr>\n",
       "      <th>0</th>\n",
       "      <td>3/business_management|6/economics_finance</td>\n",
       "      <td>This course introduces the basic financial sta...</td>\n",
       "      <td>4</td>\n",
       "      <td>en</td>\n",
       "      <td>Accounting Cycle: The Foundation of Business M...</td>\n",
       "      <td>Canvas Network</td>\n",
       "      <td>[this, course, introduces, the, basic, financi...</td>\n",
       "      <td>(0.0, 0.0, 0.0, 0.0, 0.0, 0.0, 0.0, 0.0, 0.0, ...</td>\n",
       "      <td>(0.0, 0.0, 0.0, 0.0, 0.0, 0.0, 0.0, 0.0, 0.0, ...</td>\n",
       "      <td>(0.0, 0.0, 0.0, 0.0, 0.0, 0.0, 0.0, 0.0, 0.0, ...</td>\n",
       "    </tr>\n",
       "    <tr>\n",
       "      <th>1</th>\n",
       "      <td>11/law</td>\n",
       "      <td>This online course will introduce you to Ameri...</td>\n",
       "      <td>5</td>\n",
       "      <td>en</td>\n",
       "      <td>American Counter Terrorism Law</td>\n",
       "      <td>Canvas Network</td>\n",
       "      <td>[this, online, course, will, introduce, you, t...</td>\n",
       "      <td>(0.0, 0.0, 0.0, 0.0, 0.0, 0.0, 0.0, 0.0, 0.0, ...</td>\n",
       "      <td>(0.0, 0.0, 0.0, 0.0, 0.0, 0.0, 0.0, 0.0, 0.0, ...</td>\n",
       "      <td>(0.0, 0.0, 0.0, 0.0, 0.0, 0.0, 0.0, 0.0, 0.0, ...</td>\n",
       "    </tr>\n",
       "    <tr>\n",
       "      <th>2</th>\n",
       "      <td>5/computer_science|15/mathematics_statistics_a...</td>\n",
       "      <td>This course is taught in French Vous voulez co...</td>\n",
       "      <td>6</td>\n",
       "      <td>fr</td>\n",
       "      <td>Arithmétique: en route pour la cryptographie</td>\n",
       "      <td>Canvas Network</td>\n",
       "      <td>[this, course, is, taught, in, french, vous, v...</td>\n",
       "      <td>(0.0, 0.0, 0.0, 0.0, 0.0, 0.0, 0.0, 0.0, 0.0, ...</td>\n",
       "      <td>(0.0, 0.0, 0.0, 0.0, 0.0, 0.0, 0.0, 0.0, 0.0, ...</td>\n",
       "      <td>(0.0, 0.0, 0.0, 0.0, 0.0, 0.0, 0.0, 0.0, 0.0, ...</td>\n",
       "    </tr>\n",
       "    <tr>\n",
       "      <th>3</th>\n",
       "      <td>14/social_sciences</td>\n",
       "      <td>We live in a digitally connected world. The wa...</td>\n",
       "      <td>7</td>\n",
       "      <td>en</td>\n",
       "      <td>Becoming a Dynamic Educator</td>\n",
       "      <td>Canvas Network</td>\n",
       "      <td>[we, live, in, a, digitally, connected, world....</td>\n",
       "      <td>(0.0, 0.0, 0.0, 0.0, 0.0, 0.0, 0.0, 0.0, 0.0, ...</td>\n",
       "      <td>(0.0, 0.0, 0.0, 0.0, 0.0, 0.0, 0.0, 0.0, 0.0, ...</td>\n",
       "      <td>(0.0, 0.0, 0.0, 0.0, 0.0, 0.0, 0.0, 0.0, 0.0, ...</td>\n",
       "    </tr>\n",
       "    <tr>\n",
       "      <th>4</th>\n",
       "      <td>2/biology_life_sciences</td>\n",
       "      <td>This self-paced course is designed to show tha...</td>\n",
       "      <td>8</td>\n",
       "      <td>en</td>\n",
       "      <td>Bioethics</td>\n",
       "      <td>Canvas Network</td>\n",
       "      <td>[this, self-paced, course, is, designed, to, s...</td>\n",
       "      <td>(0.0, 0.0, 0.0, 0.0, 0.0, 0.0, 0.0, 0.0, 0.0, ...</td>\n",
       "      <td>(0.0, 0.0, 0.0, 0.0, 0.0, 0.0, 0.0, 0.0, 0.0, ...</td>\n",
       "      <td>(0.0, 0.0, 0.0, 0.0, 0.0, 0.0, 0.0, 0.0, 0.0, ...</td>\n",
       "    </tr>\n",
       "  </tbody>\n",
       "</table>\n",
       "</div>"
      ],
      "text/plain": [
       "                                                 cat  \\\n",
       "0          3/business_management|6/economics_finance   \n",
       "1                                             11/law   \n",
       "2  5/computer_science|15/mathematics_statistics_a...   \n",
       "3                                 14/social_sciences   \n",
       "4                            2/biology_life_sciences   \n",
       "\n",
       "                                                desc  id lang  \\\n",
       "0  This course introduces the basic financial sta...   4   en   \n",
       "1  This online course will introduce you to Ameri...   5   en   \n",
       "2  This course is taught in French Vous voulez co...   6   fr   \n",
       "3  We live in a digitally connected world. The wa...   7   en   \n",
       "4  This self-paced course is designed to show tha...   8   en   \n",
       "\n",
       "                                                name        provider  \\\n",
       "0  Accounting Cycle: The Foundation of Business M...  Canvas Network   \n",
       "1                     American Counter Terrorism Law  Canvas Network   \n",
       "2       Arithmétique: en route pour la cryptographie  Canvas Network   \n",
       "3                        Becoming a Dynamic Educator  Canvas Network   \n",
       "4                                          Bioethics  Canvas Network   \n",
       "\n",
       "                                      desc_tokenized  \\\n",
       "0  [this, course, introduces, the, basic, financi...   \n",
       "1  [this, online, course, will, introduce, you, t...   \n",
       "2  [this, course, is, taught, in, french, vous, v...   \n",
       "3  [we, live, in, a, digitally, connected, world....   \n",
       "4  [this, self-paced, course, is, designed, to, s...   \n",
       "\n",
       "                                                  tf  \\\n",
       "0  (0.0, 0.0, 0.0, 0.0, 0.0, 0.0, 0.0, 0.0, 0.0, ...   \n",
       "1  (0.0, 0.0, 0.0, 0.0, 0.0, 0.0, 0.0, 0.0, 0.0, ...   \n",
       "2  (0.0, 0.0, 0.0, 0.0, 0.0, 0.0, 0.0, 0.0, 0.0, ...   \n",
       "3  (0.0, 0.0, 0.0, 0.0, 0.0, 0.0, 0.0, 0.0, 0.0, ...   \n",
       "4  (0.0, 0.0, 0.0, 0.0, 0.0, 0.0, 0.0, 0.0, 0.0, ...   \n",
       "\n",
       "                                            features  \\\n",
       "0  (0.0, 0.0, 0.0, 0.0, 0.0, 0.0, 0.0, 0.0, 0.0, ...   \n",
       "1  (0.0, 0.0, 0.0, 0.0, 0.0, 0.0, 0.0, 0.0, 0.0, ...   \n",
       "2  (0.0, 0.0, 0.0, 0.0, 0.0, 0.0, 0.0, 0.0, 0.0, ...   \n",
       "3  (0.0, 0.0, 0.0, 0.0, 0.0, 0.0, 0.0, 0.0, 0.0, ...   \n",
       "4  (0.0, 0.0, 0.0, 0.0, 0.0, 0.0, 0.0, 0.0, 0.0, ...   \n",
       "\n",
       "                                       norm_features  \n",
       "0  (0.0, 0.0, 0.0, 0.0, 0.0, 0.0, 0.0, 0.0, 0.0, ...  \n",
       "1  (0.0, 0.0, 0.0, 0.0, 0.0, 0.0, 0.0, 0.0, 0.0, ...  \n",
       "2  (0.0, 0.0, 0.0, 0.0, 0.0, 0.0, 0.0, 0.0, 0.0, ...  \n",
       "3  (0.0, 0.0, 0.0, 0.0, 0.0, 0.0, 0.0, 0.0, 0.0, ...  \n",
       "4  (0.0, 0.0, 0.0, 0.0, 0.0, 0.0, 0.0, 0.0, 0.0, ...  "
      ]
     },
     "execution_count": 136,
     "metadata": {},
     "output_type": "execute_result"
    }
   ],
   "source": [
    "df_idf.show()"
   ]
  },
  {
   "cell_type": "markdown",
   "metadata": {},
   "source": [
    "### Нахождение косинусного расстояния"
   ]
  },
  {
   "cell_type": "code",
   "execution_count": 137,
   "metadata": {},
   "outputs": [],
   "source": [
    "scalar_product_udf = F.udf(lambda a,b: float(a.dot(b)), DoubleType())"
   ]
  },
  {
   "cell_type": "code",
   "execution_count": 138,
   "metadata": {},
   "outputs": [],
   "source": [
    "answer = {}"
   ]
  },
  {
   "cell_type": "code",
   "execution_count": 162,
   "metadata": {},
   "outputs": [],
   "source": [
    "for course_id in courses_id:\n",
    "    course_features = df_idf.filter(F.col('id') == course_id).select(F.col('norm_features').alias('course_features'))\n",
    "\n",
    "    result = (df_idf\n",
    "                 .filter(F.col('id') != course_id)\n",
    "                 .select('name', 'id', 'norm_features')\n",
    "                 .crossJoin(course_features)\n",
    "                 .select(scalar_product_udf('norm_features', 'course_features').alias('scalar_product'), 'id', 'name')\n",
    "                 .sort(F.desc('scalar_product'), F.asc('name'), F.asc('id'))\n",
    "                 .select('id')\n",
    "                 .rdd\n",
    "                 .flatMap(lambda x: x)\n",
    "                 .collect()[:10]\n",
    "               )\n",
    "    \n",
    "    answer[course_id] = result"
   ]
  },
  {
   "cell_type": "code",
   "execution_count": 163,
   "metadata": {
    "scrolled": true
   },
   "outputs": [
    {
     "data": {
      "text/plain": [
       "{23126: [13782, 13665, 24419, 20638, 2724, 25782, 2633, 2723, 13348, 15909],\n",
       " 21617: [21609, 21608, 21616, 21492, 21624, 21623, 21630, 21628, 21508, 21857],\n",
       " 16627: [11431, 12247, 13021, 25010, 11575, 5687, 9598, 5372, 12863, 16769],\n",
       " 11556: [16488, 13461, 468, 10447, 387, 22710, 9289, 5936, 23357, 7833],\n",
       " 16704: [3864, 23407, 1365, 20645, 1426, 20105, 8217, 1236, 1164, 23864],\n",
       " 13702: [864, 1216, 7173, 8313, 1052, 17017, 19613, 21017, 17015, 8082]}"
      ]
     },
     "execution_count": 163,
     "metadata": {},
     "output_type": "execute_result"
    }
   ],
   "source": [
    "answer"
   ]
  },
  {
   "cell_type": "markdown",
   "metadata": {},
   "source": [
    "### Сохранение значений"
   ]
  },
  {
   "cell_type": "code",
   "execution_count": 164,
   "metadata": {},
   "outputs": [],
   "source": [
    "with open(\"/data/home/evgeniy.osipchuk/lab02.json\", mode='w') as file:\n",
    "    json.dump(answer, file)"
   ]
  },
  {
   "cell_type": "code",
   "execution_count": 166,
   "metadata": {},
   "outputs": [],
   "source": [
    "spark.stop()"
   ]
  },
  {
   "cell_type": "code",
   "execution_count": null,
   "metadata": {},
   "outputs": [],
   "source": []
  }
 ],
 "metadata": {
  "kernelspec": {
   "display_name": "Python 3",
   "language": "python",
   "name": "python3"
  },
  "language_info": {
   "codemirror_mode": {
    "name": "ipython",
    "version": 3
   },
   "file_extension": ".py",
   "mimetype": "text/x-python",
   "name": "python",
   "nbconvert_exporter": "python",
   "pygments_lexer": "ipython3",
   "version": "3.6.5"
  }
 },
 "nbformat": 4,
 "nbformat_minor": 2
}
