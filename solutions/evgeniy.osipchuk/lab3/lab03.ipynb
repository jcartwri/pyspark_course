{
 "cells": [
  {
   "cell_type": "code",
   "execution_count": 1,
   "metadata": {},
   "outputs": [],
   "source": [
    "import os\n",
    "import sys\n",
    "os.environ[\"PYSPARK_PYTHON\"]='/opt/anaconda/envs/bd9/bin/python'\n",
    "os.environ[\"SPARK_HOME\"]='/usr/hdp/current/spark2-client'\n",
    "os.environ[\"PYSPARK_SUBMIT_ARGS\"]='--num-executors 3 pyspark-shell'\n",
    "\n",
    "spark_home = os.environ.get('SPARK_HOME', None)\n",
    "\n",
    "sys.path.insert(0, os.path.join(spark_home, 'python'))\n",
    "sys.path.insert(0, os.path.join(spark_home, 'python/lib/py4j-0.10.7-src.zip'))"
   ]
  },
  {
   "cell_type": "code",
   "execution_count": 2,
   "metadata": {},
   "outputs": [],
   "source": [
    "from pyspark import SparkConf\n",
    "from pyspark.sql import SparkSession\n",
    "from pyspark.ml.feature import HashingTF, IDF, Tokenizer, Normalizer\n",
    "from pyspark.sql.window import Window\n",
    "import pyspark.sql.functions as F\n",
    "from pyspark.sql.types import DoubleType, StringType, IntegerType\n",
    "import json\n",
    "from pyspark.ml.feature import OneHotEncoder, StringIndexer"
   ]
  },
  {
   "cell_type": "code",
   "execution_count": 3,
   "metadata": {},
   "outputs": [],
   "source": [
    "conf = SparkConf()\n",
    "conf.set(\"spark.app.name\", \"evgeniy osipchuk lab03\") \n",
    "\n",
    "spark = SparkSession.builder.config(conf=conf).appName(\"evgeniy osipchuk lab03\").getOrCreate()"
   ]
  },
  {
   "cell_type": "markdown",
   "metadata": {},
   "source": [
    "### Считывание данных"
   ]
  },
  {
   "cell_type": "markdown",
   "metadata": {},
   "source": [
    "Для более красивого вывода переопределим функцию show так, чтобы данные выводились в формате pandas. Pandas будет использоваться только для вывода на экран"
   ]
  },
  {
   "cell_type": "code",
   "execution_count": 4,
   "metadata": {},
   "outputs": [],
   "source": [
    "import pyspark\n",
    "\n",
    "def show(self, n=5):\n",
    "    return self.limit(n).toPandas()\n",
    "\n",
    "pyspark.sql.dataframe.DataFrame.show = show"
   ]
  },
  {
   "cell_type": "code",
   "execution_count": 5,
   "metadata": {},
   "outputs": [
    {
     "name": "stdout",
     "output_type": "stream",
     "text": [
      "Found 4 items\r\n",
      "-rw-r--r--   3 hdfs hdfs   91066524 2021-02-27 22:12 /labs/slaba03/laba03_items.csv\r\n",
      "-rw-r--r--   3 hdfs hdfs   29965581 2021-02-27 22:12 /labs/slaba03/laba03_test.csv\r\n",
      "-rw-r--r--   3 hdfs hdfs   74949368 2021-02-27 22:12 /labs/slaba03/laba03_train.csv\r\n",
      "-rw-r--r--   3 hdfs hdfs  871302535 2021-02-27 22:12 /labs/slaba03/laba03_views_programmes.csv\r\n"
     ]
    }
   ],
   "source": [
    "!hdfs dfs -ls /labs/slaba03/"
   ]
  },
  {
   "cell_type": "code",
   "execution_count": 6,
   "metadata": {},
   "outputs": [],
   "source": [
    "items = spark.read.load(\"/labs/slaba03/laba03_items.csv\",\n",
    "                        format = \"csv\",\n",
    "                        sep=\"\\t\",\n",
    "                        header=True,\n",
    "                        inferSchema=True)"
   ]
  },
  {
   "cell_type": "code",
   "execution_count": 7,
   "metadata": {},
   "outputs": [],
   "source": [
    "test = spark.read.load(\"/labs/slaba03/laba03_test.csv\",\n",
    "                        format = \"csv\",\n",
    "                        sep=\",\",\n",
    "                        header=True,\n",
    "                        inferSchema=True)\n",
    "train = spark.read.load(\"/labs/slaba03/laba03_train.csv\",\n",
    "                        format = \"csv\",\n",
    "                        sep=\",\",\n",
    "                        header=True,\n",
    "                        inferSchema=True)\n",
    "views_programmes = spark.read.load(\"/labs/slaba03/laba03_views_programmes.csv\",\n",
    "                        format = \"csv\",\n",
    "                        sep=\",\",\n",
    "                        header=True,\n",
    "                        inferSchema=True)"
   ]
  },
  {
   "cell_type": "code",
   "execution_count": 8,
   "metadata": {},
   "outputs": [
    {
     "data": {
      "text/html": [
       "<div>\n",
       "<style scoped>\n",
       "    .dataframe tbody tr th:only-of-type {\n",
       "        vertical-align: middle;\n",
       "    }\n",
       "\n",
       "    .dataframe tbody tr th {\n",
       "        vertical-align: top;\n",
       "    }\n",
       "\n",
       "    .dataframe thead th {\n",
       "        text-align: right;\n",
       "    }\n",
       "</style>\n",
       "<table border=\"1\" class=\"dataframe\">\n",
       "  <thead>\n",
       "    <tr style=\"text-align: right;\">\n",
       "      <th></th>\n",
       "      <th>item_id</th>\n",
       "      <th>channel_id</th>\n",
       "      <th>datetime_availability_start</th>\n",
       "      <th>datetime_availability_stop</th>\n",
       "      <th>datetime_show_start</th>\n",
       "      <th>datetime_show_stop</th>\n",
       "      <th>content_type</th>\n",
       "      <th>title</th>\n",
       "      <th>year</th>\n",
       "      <th>genres</th>\n",
       "      <th>region_id</th>\n",
       "    </tr>\n",
       "  </thead>\n",
       "  <tbody>\n",
       "    <tr>\n",
       "      <th>0</th>\n",
       "      <td>7006336</td>\n",
       "      <td>9.0</td>\n",
       "      <td>1970-01-01 03:00:00</td>\n",
       "      <td>2017-04-04 12:00:00</td>\n",
       "      <td>2017-04-01 11:05:00</td>\n",
       "      <td>2017-04-01 12:00:00</td>\n",
       "      <td>0</td>\n",
       "      <td>крылатый властелин морей</td>\n",
       "      <td>NaN</td>\n",
       "      <td>General</td>\n",
       "      <td>41.0</td>\n",
       "    </tr>\n",
       "    <tr>\n",
       "      <th>1</th>\n",
       "      <td>7006349</td>\n",
       "      <td>9.0</td>\n",
       "      <td>1970-01-01 03:00:00</td>\n",
       "      <td>2017-04-04 23:55:00</td>\n",
       "      <td>2017-04-01 23:00:00</td>\n",
       "      <td>2017-04-01 23:55:00</td>\n",
       "      <td>0</td>\n",
       "      <td>крылатый властелин морей</td>\n",
       "      <td>NaN</td>\n",
       "      <td>General</td>\n",
       "      <td>41.0</td>\n",
       "    </tr>\n",
       "    <tr>\n",
       "      <th>2</th>\n",
       "      <td>7006348</td>\n",
       "      <td>9.0</td>\n",
       "      <td>1970-01-01 03:00:00</td>\n",
       "      <td>2017-04-04 23:00:00</td>\n",
       "      <td>2017-04-01 21:10:00</td>\n",
       "      <td>2017-04-01 23:00:00</td>\n",
       "      <td>0</td>\n",
       "      <td>билокси-блюз</td>\n",
       "      <td>NaN</td>\n",
       "      <td>General</td>\n",
       "      <td>41.0</td>\n",
       "    </tr>\n",
       "    <tr>\n",
       "      <th>3</th>\n",
       "      <td>7006341</td>\n",
       "      <td>9.0</td>\n",
       "      <td>1970-01-01 03:00:00</td>\n",
       "      <td>2017-04-04 15:30:00</td>\n",
       "      <td>2017-04-01 15:00:00</td>\n",
       "      <td>2017-04-01 15:30:00</td>\n",
       "      <td>0</td>\n",
       "      <td>новости культуры с владиславом флярковским</td>\n",
       "      <td>NaN</td>\n",
       "      <td>General</td>\n",
       "      <td>41.0</td>\n",
       "    </tr>\n",
       "    <tr>\n",
       "      <th>4</th>\n",
       "      <td>7006342</td>\n",
       "      <td>9.0</td>\n",
       "      <td>1970-01-01 03:00:00</td>\n",
       "      <td>2017-04-04 16:10:00</td>\n",
       "      <td>2017-04-01 15:30:00</td>\n",
       "      <td>2017-04-01 16:10:00</td>\n",
       "      <td>0</td>\n",
       "      <td>предки наших предков</td>\n",
       "      <td>NaN</td>\n",
       "      <td>General</td>\n",
       "      <td>41.0</td>\n",
       "    </tr>\n",
       "  </tbody>\n",
       "</table>\n",
       "</div>"
      ],
      "text/plain": [
       "   item_id  channel_id datetime_availability_start datetime_availability_stop  \\\n",
       "0  7006336         9.0         1970-01-01 03:00:00        2017-04-04 12:00:00   \n",
       "1  7006349         9.0         1970-01-01 03:00:00        2017-04-04 23:55:00   \n",
       "2  7006348         9.0         1970-01-01 03:00:00        2017-04-04 23:00:00   \n",
       "3  7006341         9.0         1970-01-01 03:00:00        2017-04-04 15:30:00   \n",
       "4  7006342         9.0         1970-01-01 03:00:00        2017-04-04 16:10:00   \n",
       "\n",
       "  datetime_show_start  datetime_show_stop  content_type  \\\n",
       "0 2017-04-01 11:05:00 2017-04-01 12:00:00             0   \n",
       "1 2017-04-01 23:00:00 2017-04-01 23:55:00             0   \n",
       "2 2017-04-01 21:10:00 2017-04-01 23:00:00             0   \n",
       "3 2017-04-01 15:00:00 2017-04-01 15:30:00             0   \n",
       "4 2017-04-01 15:30:00 2017-04-01 16:10:00             0   \n",
       "\n",
       "                                        title  year   genres  region_id  \n",
       "0                    крылатый властелин морей   NaN  General       41.0  \n",
       "1                    крылатый властелин морей   NaN  General       41.0  \n",
       "2                                билокси-блюз   NaN  General       41.0  \n",
       "3  новости культуры с владиславом флярковским   NaN  General       41.0  \n",
       "4                        предки наших предков   NaN  General       41.0  "
      ]
     },
     "execution_count": 8,
     "metadata": {},
     "output_type": "execute_result"
    }
   ],
   "source": [
    "items.show(5)"
   ]
  },
  {
   "cell_type": "code",
   "execution_count": 9,
   "metadata": {},
   "outputs": [
    {
     "data": {
      "text/html": [
       "<div>\n",
       "<style scoped>\n",
       "    .dataframe tbody tr th:only-of-type {\n",
       "        vertical-align: middle;\n",
       "    }\n",
       "\n",
       "    .dataframe tbody tr th {\n",
       "        vertical-align: top;\n",
       "    }\n",
       "\n",
       "    .dataframe thead th {\n",
       "        text-align: right;\n",
       "    }\n",
       "</style>\n",
       "<table border=\"1\" class=\"dataframe\">\n",
       "  <thead>\n",
       "    <tr style=\"text-align: right;\">\n",
       "      <th></th>\n",
       "      <th>user_id</th>\n",
       "      <th>item_id</th>\n",
       "      <th>purchase</th>\n",
       "    </tr>\n",
       "  </thead>\n",
       "  <tbody>\n",
       "    <tr>\n",
       "      <th>0</th>\n",
       "      <td>1654</td>\n",
       "      <td>94814</td>\n",
       "      <td>None</td>\n",
       "    </tr>\n",
       "    <tr>\n",
       "      <th>1</th>\n",
       "      <td>1654</td>\n",
       "      <td>93629</td>\n",
       "      <td>None</td>\n",
       "    </tr>\n",
       "  </tbody>\n",
       "</table>\n",
       "</div>"
      ],
      "text/plain": [
       "   user_id  item_id purchase\n",
       "0     1654    94814     None\n",
       "1     1654    93629     None"
      ]
     },
     "execution_count": 9,
     "metadata": {},
     "output_type": "execute_result"
    }
   ],
   "source": [
    "test.show(2)"
   ]
  },
  {
   "cell_type": "code",
   "execution_count": 10,
   "metadata": {},
   "outputs": [
    {
     "data": {
      "text/html": [
       "<div>\n",
       "<style scoped>\n",
       "    .dataframe tbody tr th:only-of-type {\n",
       "        vertical-align: middle;\n",
       "    }\n",
       "\n",
       "    .dataframe tbody tr th {\n",
       "        vertical-align: top;\n",
       "    }\n",
       "\n",
       "    .dataframe thead th {\n",
       "        text-align: right;\n",
       "    }\n",
       "</style>\n",
       "<table border=\"1\" class=\"dataframe\">\n",
       "  <thead>\n",
       "    <tr style=\"text-align: right;\">\n",
       "      <th></th>\n",
       "      <th>user_id</th>\n",
       "      <th>item_id</th>\n",
       "      <th>purchase</th>\n",
       "    </tr>\n",
       "  </thead>\n",
       "  <tbody>\n",
       "    <tr>\n",
       "      <th>0</th>\n",
       "      <td>865692</td>\n",
       "      <td>102141</td>\n",
       "      <td>0</td>\n",
       "    </tr>\n",
       "    <tr>\n",
       "      <th>1</th>\n",
       "      <td>865692</td>\n",
       "      <td>9593</td>\n",
       "      <td>0</td>\n",
       "    </tr>\n",
       "  </tbody>\n",
       "</table>\n",
       "</div>"
      ],
      "text/plain": [
       "   user_id  item_id  purchase\n",
       "0   865692   102141         0\n",
       "1   865692     9593         0"
      ]
     },
     "execution_count": 10,
     "metadata": {},
     "output_type": "execute_result"
    }
   ],
   "source": [
    "train.show(2)"
   ]
  },
  {
   "cell_type": "code",
   "execution_count": 11,
   "metadata": {},
   "outputs": [
    {
     "data": {
      "text/html": [
       "<div>\n",
       "<style scoped>\n",
       "    .dataframe tbody tr th:only-of-type {\n",
       "        vertical-align: middle;\n",
       "    }\n",
       "\n",
       "    .dataframe tbody tr th {\n",
       "        vertical-align: top;\n",
       "    }\n",
       "\n",
       "    .dataframe thead th {\n",
       "        text-align: right;\n",
       "    }\n",
       "</style>\n",
       "<table border=\"1\" class=\"dataframe\">\n",
       "  <thead>\n",
       "    <tr style=\"text-align: right;\">\n",
       "      <th></th>\n",
       "      <th>user_id</th>\n",
       "      <th>item_id</th>\n",
       "      <th>ts_start</th>\n",
       "      <th>ts_end</th>\n",
       "      <th>item_type</th>\n",
       "    </tr>\n",
       "  </thead>\n",
       "  <tbody>\n",
       "    <tr>\n",
       "      <th>0</th>\n",
       "      <td>0</td>\n",
       "      <td>7101053</td>\n",
       "      <td>1491409931</td>\n",
       "      <td>1491411600</td>\n",
       "      <td>live</td>\n",
       "    </tr>\n",
       "    <tr>\n",
       "      <th>1</th>\n",
       "      <td>0</td>\n",
       "      <td>7101054</td>\n",
       "      <td>1491412481</td>\n",
       "      <td>1491451571</td>\n",
       "      <td>live</td>\n",
       "    </tr>\n",
       "  </tbody>\n",
       "</table>\n",
       "</div>"
      ],
      "text/plain": [
       "   user_id  item_id    ts_start      ts_end item_type\n",
       "0        0  7101053  1491409931  1491411600      live\n",
       "1        0  7101054  1491412481  1491451571      live"
      ]
     },
     "execution_count": 11,
     "metadata": {},
     "output_type": "execute_result"
    }
   ],
   "source": [
    "views_programmes.show(2)"
   ]
  },
  {
   "cell_type": "code",
   "execution_count": 12,
   "metadata": {},
   "outputs": [
    {
     "data": {
      "text/plain": [
       "5032624"
      ]
     },
     "execution_count": 12,
     "metadata": {},
     "output_type": "execute_result"
    }
   ],
   "source": [
    "train.count()"
   ]
  },
  {
   "cell_type": "code",
   "execution_count": 13,
   "metadata": {},
   "outputs": [
    {
     "data": {
      "text/plain": [
       "1941"
      ]
     },
     "execution_count": 13,
     "metadata": {},
     "output_type": "execute_result"
    }
   ],
   "source": [
    "train.select('user_id').distinct().count()"
   ]
  },
  {
   "cell_type": "code",
   "execution_count": 14,
   "metadata": {},
   "outputs": [
    {
     "data": {
      "text/plain": [
       "2156840"
      ]
     },
     "execution_count": 14,
     "metadata": {},
     "output_type": "execute_result"
    }
   ],
   "source": [
    "test.count()"
   ]
  },
  {
   "cell_type": "code",
   "execution_count": 15,
   "metadata": {},
   "outputs": [
    {
     "data": {
      "text/plain": [
       "1941"
      ]
     },
     "execution_count": 15,
     "metadata": {},
     "output_type": "execute_result"
    }
   ],
   "source": [
    "test.select('user_id').distinct().count()"
   ]
  },
  {
   "cell_type": "markdown",
   "metadata": {},
   "source": [
    "Сосредоточьтесь на формировании следующих фичей: по файлу laba03_train.csv сформируйте признаки, характеризирующие как интенсивно покупает пользователь и \"покупаемость\" item'ов  \n",
    "выбросить лишние фичи  \n",
    "Оконной функцией сгруппировать по пользователю и по итему отдельно. Подсчитать долю покупок.  \n",
    "Сделать мин-макс преобразование всех фичей.   "
   ]
  },
  {
   "cell_type": "markdown",
   "metadata": {},
   "source": [
    "Выбросим лишние признаки"
   ]
  },
  {
   "cell_type": "code",
   "execution_count": 16,
   "metadata": {},
   "outputs": [],
   "source": [
    "items = items.select(['item_id', 'channel_id', 'content_type', 'year', 'genres', 'region_id'])"
   ]
  },
  {
   "cell_type": "markdown",
   "metadata": {},
   "source": [
    "Заполним пропуски "
   ]
  },
  {
   "cell_type": "code",
   "execution_count": 17,
   "metadata": {},
   "outputs": [],
   "source": [
    "items = items.fillna('unknown', subset=['genres'])"
   ]
  },
  {
   "cell_type": "code",
   "execution_count": 18,
   "metadata": {},
   "outputs": [],
   "source": [
    "items = items.fillna(0)"
   ]
  },
  {
   "cell_type": "markdown",
   "metadata": {},
   "source": [
    "Выделим все жанры в отдельные признаки"
   ]
  },
  {
   "cell_type": "code",
   "execution_count": 19,
   "metadata": {},
   "outputs": [],
   "source": [
    "genres_list = []\n",
    "for item in items.select('genres').distinct().collect():\n",
    "    for genre in item.genres.split(','):\n",
    "        genres_list.append(genre)    \n",
    "genres_list = set(genres_list)"
   ]
  },
  {
   "cell_type": "code",
   "execution_count": 20,
   "metadata": {},
   "outputs": [],
   "source": [
    "def custom_ohe_udf(genre):\n",
    "    return F.udf(lambda col: 1 if genre in col else 0, IntegerType())"
   ]
  },
  {
   "cell_type": "code",
   "execution_count": 21,
   "metadata": {},
   "outputs": [],
   "source": [
    "for genre in genres_list:\n",
    "    items = items.withColumn(genre, custom_ohe_udf(genre)(F.col(\"genres\")))"
   ]
  },
  {
   "cell_type": "markdown",
   "metadata": {},
   "source": [
    "Выбросим неактуальную колонку genres"
   ]
  },
  {
   "cell_type": "code",
   "execution_count": 22,
   "metadata": {},
   "outputs": [
    {
     "data": {
      "text/plain": [
       "DataFrame[item_id: int, channel_id: double, content_type: int, year: double, region_id: double, Комедии: int, Детские песни: int, Мультсериалы: int, Триллер: int, Детективы: int, Союзмультфильм: int, Фильмы: int, Сериалы: int, Для детей: int, Мистические: int, Мультфильмы: int, Для всей семьи: int,  сказка: int, Юмористические: int, Передачи: int, Западные мультфильмы: int, Драма: int, Советское кино: int, Мультфильм: int, Короткометражки: int, Приключение: int, Научная фантастика: int, Военный: int, Музыкальные: int, Реалити-шоу: int, Хочу всё знать: int, Ужасы: int, Полнометражные: int, Фантастика: int, Советские: int, Русские мультфильмы: int, Фильмы-спектакли: int, Мюзиклы: int, Мелодрама: int, Документальные: int, Сказки: int, Спортивные: int, Артхаус: int, Кулинария: int, Фильмы в 3D: int, Комедия: int, Документальный: int, Познавательные: int, Приключения: int, Видеоигры: int, Экранизации: int, Русские: int, Вестерн: int, Фэнтези: int, unknown: int, Развлекательные: int, Анимация: int, Игры: int, Аниме: int, General: int, Криминал: int, Для взрослых: int, Арт-хаус: int, Мультфильмы в 3D: int, Исторические: int, Триллеры: int, О здоровье: int, Охота и рыбалка: int, Фантастические: int, Семейные: int, Эротика: int, Семейный: int, Развивающие: int, Наши: int, Исторический: int, Биография: int, Короткометражные: int, Драмы: int, Зарубежные: int, Мелодрамы: int, Военные: int, Музыкальный: int, Боевики: int, Для самых маленьких: int, Детские: int, Про животных: int, Спорт: int, Романтические: int, Боевик: int, Прочие: int]"
      ]
     },
     "execution_count": 22,
     "metadata": {},
     "output_type": "execute_result"
    }
   ],
   "source": [
    "items = items.drop('genres')\n",
    "items.cache()"
   ]
  },
  {
   "cell_type": "code",
   "execution_count": 23,
   "metadata": {},
   "outputs": [
    {
     "data": {
      "text/html": [
       "<div>\n",
       "<style scoped>\n",
       "    .dataframe tbody tr th:only-of-type {\n",
       "        vertical-align: middle;\n",
       "    }\n",
       "\n",
       "    .dataframe tbody tr th {\n",
       "        vertical-align: top;\n",
       "    }\n",
       "\n",
       "    .dataframe thead th {\n",
       "        text-align: right;\n",
       "    }\n",
       "</style>\n",
       "<table border=\"1\" class=\"dataframe\">\n",
       "  <thead>\n",
       "    <tr style=\"text-align: right;\">\n",
       "      <th></th>\n",
       "      <th>item_id</th>\n",
       "      <th>channel_id</th>\n",
       "      <th>content_type</th>\n",
       "      <th>year</th>\n",
       "      <th>region_id</th>\n",
       "      <th>Комедии</th>\n",
       "      <th>Детские песни</th>\n",
       "      <th>Мультсериалы</th>\n",
       "      <th>Триллер</th>\n",
       "      <th>Детективы</th>\n",
       "      <th>...</th>\n",
       "      <th>Военные</th>\n",
       "      <th>Музыкальный</th>\n",
       "      <th>Боевики</th>\n",
       "      <th>Для самых маленьких</th>\n",
       "      <th>Детские</th>\n",
       "      <th>Про животных</th>\n",
       "      <th>Спорт</th>\n",
       "      <th>Романтические</th>\n",
       "      <th>Боевик</th>\n",
       "      <th>Прочие</th>\n",
       "    </tr>\n",
       "  </thead>\n",
       "  <tbody>\n",
       "    <tr>\n",
       "      <th>0</th>\n",
       "      <td>7006336</td>\n",
       "      <td>9.0</td>\n",
       "      <td>0</td>\n",
       "      <td>0.0</td>\n",
       "      <td>41.0</td>\n",
       "      <td>0</td>\n",
       "      <td>0</td>\n",
       "      <td>0</td>\n",
       "      <td>0</td>\n",
       "      <td>0</td>\n",
       "      <td>...</td>\n",
       "      <td>0</td>\n",
       "      <td>0</td>\n",
       "      <td>0</td>\n",
       "      <td>0</td>\n",
       "      <td>0</td>\n",
       "      <td>0</td>\n",
       "      <td>0</td>\n",
       "      <td>0</td>\n",
       "      <td>0</td>\n",
       "      <td>0</td>\n",
       "    </tr>\n",
       "    <tr>\n",
       "      <th>1</th>\n",
       "      <td>7006349</td>\n",
       "      <td>9.0</td>\n",
       "      <td>0</td>\n",
       "      <td>0.0</td>\n",
       "      <td>41.0</td>\n",
       "      <td>0</td>\n",
       "      <td>0</td>\n",
       "      <td>0</td>\n",
       "      <td>0</td>\n",
       "      <td>0</td>\n",
       "      <td>...</td>\n",
       "      <td>0</td>\n",
       "      <td>0</td>\n",
       "      <td>0</td>\n",
       "      <td>0</td>\n",
       "      <td>0</td>\n",
       "      <td>0</td>\n",
       "      <td>0</td>\n",
       "      <td>0</td>\n",
       "      <td>0</td>\n",
       "      <td>0</td>\n",
       "    </tr>\n",
       "    <tr>\n",
       "      <th>2</th>\n",
       "      <td>7006348</td>\n",
       "      <td>9.0</td>\n",
       "      <td>0</td>\n",
       "      <td>0.0</td>\n",
       "      <td>41.0</td>\n",
       "      <td>0</td>\n",
       "      <td>0</td>\n",
       "      <td>0</td>\n",
       "      <td>0</td>\n",
       "      <td>0</td>\n",
       "      <td>...</td>\n",
       "      <td>0</td>\n",
       "      <td>0</td>\n",
       "      <td>0</td>\n",
       "      <td>0</td>\n",
       "      <td>0</td>\n",
       "      <td>0</td>\n",
       "      <td>0</td>\n",
       "      <td>0</td>\n",
       "      <td>0</td>\n",
       "      <td>0</td>\n",
       "    </tr>\n",
       "    <tr>\n",
       "      <th>3</th>\n",
       "      <td>7006341</td>\n",
       "      <td>9.0</td>\n",
       "      <td>0</td>\n",
       "      <td>0.0</td>\n",
       "      <td>41.0</td>\n",
       "      <td>0</td>\n",
       "      <td>0</td>\n",
       "      <td>0</td>\n",
       "      <td>0</td>\n",
       "      <td>0</td>\n",
       "      <td>...</td>\n",
       "      <td>0</td>\n",
       "      <td>0</td>\n",
       "      <td>0</td>\n",
       "      <td>0</td>\n",
       "      <td>0</td>\n",
       "      <td>0</td>\n",
       "      <td>0</td>\n",
       "      <td>0</td>\n",
       "      <td>0</td>\n",
       "      <td>0</td>\n",
       "    </tr>\n",
       "    <tr>\n",
       "      <th>4</th>\n",
       "      <td>7006342</td>\n",
       "      <td>9.0</td>\n",
       "      <td>0</td>\n",
       "      <td>0.0</td>\n",
       "      <td>41.0</td>\n",
       "      <td>0</td>\n",
       "      <td>0</td>\n",
       "      <td>0</td>\n",
       "      <td>0</td>\n",
       "      <td>0</td>\n",
       "      <td>...</td>\n",
       "      <td>0</td>\n",
       "      <td>0</td>\n",
       "      <td>0</td>\n",
       "      <td>0</td>\n",
       "      <td>0</td>\n",
       "      <td>0</td>\n",
       "      <td>0</td>\n",
       "      <td>0</td>\n",
       "      <td>0</td>\n",
       "      <td>0</td>\n",
       "    </tr>\n",
       "  </tbody>\n",
       "</table>\n",
       "<p>5 rows × 90 columns</p>\n",
       "</div>"
      ],
      "text/plain": [
       "   item_id  channel_id  content_type  year  region_id  Комедии  Детские песни  \\\n",
       "0  7006336         9.0             0   0.0       41.0        0              0   \n",
       "1  7006349         9.0             0   0.0       41.0        0              0   \n",
       "2  7006348         9.0             0   0.0       41.0        0              0   \n",
       "3  7006341         9.0             0   0.0       41.0        0              0   \n",
       "4  7006342         9.0             0   0.0       41.0        0              0   \n",
       "\n",
       "   Мультсериалы  Триллер  Детективы   ...    Военные  Музыкальный  Боевики  \\\n",
       "0             0        0          0   ...          0            0        0   \n",
       "1             0        0          0   ...          0            0        0   \n",
       "2             0        0          0   ...          0            0        0   \n",
       "3             0        0          0   ...          0            0        0   \n",
       "4             0        0          0   ...          0            0        0   \n",
       "\n",
       "   Для самых маленьких  Детские  Про животных  Спорт  Романтические  Боевик  \\\n",
       "0                    0        0             0      0              0       0   \n",
       "1                    0        0             0      0              0       0   \n",
       "2                    0        0             0      0              0       0   \n",
       "3                    0        0             0      0              0       0   \n",
       "4                    0        0             0      0              0       0   \n",
       "\n",
       "   Прочие  \n",
       "0       0  \n",
       "1       0  \n",
       "2       0  \n",
       "3       0  \n",
       "4       0  \n",
       "\n",
       "[5 rows x 90 columns]"
      ]
     },
     "execution_count": 23,
     "metadata": {},
     "output_type": "execute_result"
    }
   ],
   "source": [
    "items.show()"
   ]
  },
  {
   "cell_type": "markdown",
   "metadata": {},
   "source": [
    "Объединим train и test c items"
   ]
  },
  {
   "cell_type": "code",
   "execution_count": 24,
   "metadata": {},
   "outputs": [],
   "source": [
    "train_joined = train.join(items, on='item_id', how='left')"
   ]
  },
  {
   "cell_type": "code",
   "execution_count": 25,
   "metadata": {},
   "outputs": [],
   "source": [
    "test_joined = test.join(items, on='item_id', how='left')"
   ]
  },
  {
   "cell_type": "markdown",
   "metadata": {},
   "source": [
    "Для каждого пользователя определим количество и долю его покупок, а для каждого фильма - долю его покупаемости"
   ]
  },
  {
   "cell_type": "code",
   "execution_count": 26,
   "metadata": {},
   "outputs": [],
   "source": [
    "from pyspark.sql.window import Window\n",
    "w = Window.partitionBy('user_id')\n",
    "w_item = Window.partitionBy('item_id')"
   ]
  },
  {
   "cell_type": "code",
   "execution_count": 27,
   "metadata": {},
   "outputs": [
    {
     "data": {
      "text/plain": [
       "DataFrame[item_id: int, user_id: int, purchase: int, channel_id: double, content_type: int, year: double, region_id: double, Комедии: int, Детские песни: int, Мультсериалы: int, Триллер: int, Детективы: int, Союзмультфильм: int, Фильмы: int, Сериалы: int, Для детей: int, Мистические: int, Мультфильмы: int, Для всей семьи: int,  сказка: int, Юмористические: int, Передачи: int, Западные мультфильмы: int, Драма: int, Советское кино: int, Мультфильм: int, Короткометражки: int, Приключение: int, Научная фантастика: int, Военный: int, Музыкальные: int, Реалити-шоу: int, Хочу всё знать: int, Ужасы: int, Полнометражные: int, Фантастика: int, Советские: int, Русские мультфильмы: int, Фильмы-спектакли: int, Мюзиклы: int, Мелодрама: int, Документальные: int, Сказки: int, Спортивные: int, Артхаус: int, Кулинария: int, Фильмы в 3D: int, Комедия: int, Документальный: int, Познавательные: int, Приключения: int, Видеоигры: int, Экранизации: int, Русские: int, Вестерн: int, Фэнтези: int, unknown: int, Развлекательные: int, Анимация: int, Игры: int, Аниме: int, General: int, Криминал: int, Для взрослых: int, Арт-хаус: int, Мультфильмы в 3D: int, Исторические: int, Триллеры: int, О здоровье: int, Охота и рыбалка: int, Фантастические: int, Семейные: int, Эротика: int, Семейный: int, Развивающие: int, Наши: int, Исторический: int, Биография: int, Короткометражные: int, Драмы: int, Зарубежные: int, Мелодрамы: int, Военные: int, Музыкальный: int, Боевики: int, Для самых маленьких: int, Детские: int, Про животных: int, Спорт: int, Романтические: int, Боевик: int, Прочие: int, user_buy_part: double, item_buy_part: double, user_buy_count: bigint]"
      ]
     },
     "execution_count": 27,
     "metadata": {},
     "output_type": "execute_result"
    }
   ],
   "source": [
    "train_joined = (train_joined\n",
    "                .withColumn('user_buy_part', F.sum('purchase').over(w) / F.count('user_id').over(w))\n",
    "                .withColumn('item_buy_part', F.sum('purchase').over(w_item) / F.count('user_id').over(w_item))\n",
    "                .withColumn('user_buy_count', F.sum('purchase').over(w)))\n",
    "train_joined.cache()"
   ]
  },
  {
   "cell_type": "code",
   "execution_count": 28,
   "metadata": {},
   "outputs": [
    {
     "data": {
      "text/html": [
       "<div>\n",
       "<style scoped>\n",
       "    .dataframe tbody tr th:only-of-type {\n",
       "        vertical-align: middle;\n",
       "    }\n",
       "\n",
       "    .dataframe tbody tr th {\n",
       "        vertical-align: top;\n",
       "    }\n",
       "\n",
       "    .dataframe thead th {\n",
       "        text-align: right;\n",
       "    }\n",
       "</style>\n",
       "<table border=\"1\" class=\"dataframe\">\n",
       "  <thead>\n",
       "    <tr style=\"text-align: right;\">\n",
       "      <th></th>\n",
       "      <th>item_id</th>\n",
       "      <th>user_id</th>\n",
       "      <th>purchase</th>\n",
       "      <th>channel_id</th>\n",
       "      <th>content_type</th>\n",
       "      <th>year</th>\n",
       "      <th>region_id</th>\n",
       "      <th>Комедии</th>\n",
       "      <th>Детские песни</th>\n",
       "      <th>Мультсериалы</th>\n",
       "      <th>...</th>\n",
       "      <th>Для самых маленьких</th>\n",
       "      <th>Детские</th>\n",
       "      <th>Про животных</th>\n",
       "      <th>Спорт</th>\n",
       "      <th>Романтические</th>\n",
       "      <th>Боевик</th>\n",
       "      <th>Прочие</th>\n",
       "      <th>user_buy_part</th>\n",
       "      <th>item_buy_part</th>\n",
       "      <th>user_buy_count</th>\n",
       "    </tr>\n",
       "  </thead>\n",
       "  <tbody>\n",
       "    <tr>\n",
       "      <th>0</th>\n",
       "      <td>5117</td>\n",
       "      <td>566758</td>\n",
       "      <td>0</td>\n",
       "      <td>0.0</td>\n",
       "      <td>1</td>\n",
       "      <td>2011.0</td>\n",
       "      <td>0.0</td>\n",
       "      <td>0</td>\n",
       "      <td>0</td>\n",
       "      <td>0</td>\n",
       "      <td>...</td>\n",
       "      <td>0</td>\n",
       "      <td>0</td>\n",
       "      <td>0</td>\n",
       "      <td>0</td>\n",
       "      <td>0</td>\n",
       "      <td>1</td>\n",
       "      <td>0</td>\n",
       "      <td>0.000377</td>\n",
       "      <td>0.001409</td>\n",
       "      <td>1</td>\n",
       "    </tr>\n",
       "    <tr>\n",
       "      <th>1</th>\n",
       "      <td>8257</td>\n",
       "      <td>566758</td>\n",
       "      <td>0</td>\n",
       "      <td>0.0</td>\n",
       "      <td>1</td>\n",
       "      <td>1974.0</td>\n",
       "      <td>0.0</td>\n",
       "      <td>0</td>\n",
       "      <td>0</td>\n",
       "      <td>0</td>\n",
       "      <td>...</td>\n",
       "      <td>0</td>\n",
       "      <td>1</td>\n",
       "      <td>0</td>\n",
       "      <td>0</td>\n",
       "      <td>0</td>\n",
       "      <td>0</td>\n",
       "      <td>0</td>\n",
       "      <td>0.000377</td>\n",
       "      <td>0.031433</td>\n",
       "      <td>1</td>\n",
       "    </tr>\n",
       "    <tr>\n",
       "      <th>2</th>\n",
       "      <td>8407</td>\n",
       "      <td>566758</td>\n",
       "      <td>0</td>\n",
       "      <td>0.0</td>\n",
       "      <td>1</td>\n",
       "      <td>2008.0</td>\n",
       "      <td>0.0</td>\n",
       "      <td>0</td>\n",
       "      <td>0</td>\n",
       "      <td>0</td>\n",
       "      <td>...</td>\n",
       "      <td>0</td>\n",
       "      <td>0</td>\n",
       "      <td>0</td>\n",
       "      <td>0</td>\n",
       "      <td>0</td>\n",
       "      <td>0</td>\n",
       "      <td>0</td>\n",
       "      <td>0.000377</td>\n",
       "      <td>0.001468</td>\n",
       "      <td>1</td>\n",
       "    </tr>\n",
       "    <tr>\n",
       "      <th>3</th>\n",
       "      <td>11025</td>\n",
       "      <td>566758</td>\n",
       "      <td>0</td>\n",
       "      <td>0.0</td>\n",
       "      <td>1</td>\n",
       "      <td>2016.0</td>\n",
       "      <td>0.0</td>\n",
       "      <td>1</td>\n",
       "      <td>0</td>\n",
       "      <td>0</td>\n",
       "      <td>...</td>\n",
       "      <td>0</td>\n",
       "      <td>0</td>\n",
       "      <td>0</td>\n",
       "      <td>0</td>\n",
       "      <td>0</td>\n",
       "      <td>1</td>\n",
       "      <td>0</td>\n",
       "      <td>0.000377</td>\n",
       "      <td>0.000000</td>\n",
       "      <td>1</td>\n",
       "    </tr>\n",
       "    <tr>\n",
       "      <th>4</th>\n",
       "      <td>71600</td>\n",
       "      <td>566758</td>\n",
       "      <td>0</td>\n",
       "      <td>0.0</td>\n",
       "      <td>1</td>\n",
       "      <td>2005.0</td>\n",
       "      <td>0.0</td>\n",
       "      <td>0</td>\n",
       "      <td>0</td>\n",
       "      <td>0</td>\n",
       "      <td>...</td>\n",
       "      <td>0</td>\n",
       "      <td>0</td>\n",
       "      <td>0</td>\n",
       "      <td>0</td>\n",
       "      <td>1</td>\n",
       "      <td>0</td>\n",
       "      <td>0</td>\n",
       "      <td>0.000377</td>\n",
       "      <td>0.000000</td>\n",
       "      <td>1</td>\n",
       "    </tr>\n",
       "  </tbody>\n",
       "</table>\n",
       "<p>5 rows × 95 columns</p>\n",
       "</div>"
      ],
      "text/plain": [
       "   item_id  user_id  purchase  channel_id  content_type    year  region_id  \\\n",
       "0     5117   566758         0         0.0             1  2011.0        0.0   \n",
       "1     8257   566758         0         0.0             1  1974.0        0.0   \n",
       "2     8407   566758         0         0.0             1  2008.0        0.0   \n",
       "3    11025   566758         0         0.0             1  2016.0        0.0   \n",
       "4    71600   566758         0         0.0             1  2005.0        0.0   \n",
       "\n",
       "   Комедии  Детские песни  Мультсериалы       ...        Для самых маленьких  \\\n",
       "0        0              0             0       ...                          0   \n",
       "1        0              0             0       ...                          0   \n",
       "2        0              0             0       ...                          0   \n",
       "3        1              0             0       ...                          0   \n",
       "4        0              0             0       ...                          0   \n",
       "\n",
       "   Детские  Про животных  Спорт  Романтические  Боевик  Прочие  user_buy_part  \\\n",
       "0        0             0      0              0       1       0       0.000377   \n",
       "1        1             0      0              0       0       0       0.000377   \n",
       "2        0             0      0              0       0       0       0.000377   \n",
       "3        0             0      0              0       1       0       0.000377   \n",
       "4        0             0      0              1       0       0       0.000377   \n",
       "\n",
       "   item_buy_part  user_buy_count  \n",
       "0       0.001409               1  \n",
       "1       0.031433               1  \n",
       "2       0.001468               1  \n",
       "3       0.000000               1  \n",
       "4       0.000000               1  \n",
       "\n",
       "[5 rows x 95 columns]"
      ]
     },
     "execution_count": 28,
     "metadata": {},
     "output_type": "execute_result"
    }
   ],
   "source": [
    "train_joined.show()"
   ]
  },
  {
   "cell_type": "markdown",
   "metadata": {},
   "source": [
    "Для корректного предсказания в test пользователям и фильмам присвоим соответствующие значения сгенерированных признаков из train"
   ]
  },
  {
   "cell_type": "code",
   "execution_count": 29,
   "metadata": {},
   "outputs": [],
   "source": [
    "train_grouped_user_id = (train_joined\n",
    "                 .select('user_id', 'user_buy_part', 'user_buy_count')\n",
    "                 .groupBy('user_id')\n",
    "                 .agg(F.mean('user_buy_part').alias('user_buy_part'),\n",
    "                      F.mean('user_buy_count').alias('user_buy_count')))\n",
    "train_grouped_item_id = (train_joined\n",
    "                 .select('item_id', 'item_buy_part',)\n",
    "                 .groupBy('item_id')\n",
    "                 .agg(F.mean('item_buy_part').alias('item_buy_part')))"
   ]
  },
  {
   "cell_type": "code",
   "execution_count": 30,
   "metadata": {},
   "outputs": [
    {
     "data": {
      "text/html": [
       "<div>\n",
       "<style scoped>\n",
       "    .dataframe tbody tr th:only-of-type {\n",
       "        vertical-align: middle;\n",
       "    }\n",
       "\n",
       "    .dataframe tbody tr th {\n",
       "        vertical-align: top;\n",
       "    }\n",
       "\n",
       "    .dataframe thead th {\n",
       "        text-align: right;\n",
       "    }\n",
       "</style>\n",
       "<table border=\"1\" class=\"dataframe\">\n",
       "  <thead>\n",
       "    <tr style=\"text-align: right;\">\n",
       "      <th></th>\n",
       "      <th>user_id</th>\n",
       "      <th>user_buy_part</th>\n",
       "      <th>user_buy_count</th>\n",
       "    </tr>\n",
       "  </thead>\n",
       "  <tbody>\n",
       "    <tr>\n",
       "      <th>0</th>\n",
       "      <td>793876</td>\n",
       "      <td>0.001940</td>\n",
       "      <td>5.0</td>\n",
       "    </tr>\n",
       "    <tr>\n",
       "      <th>1</th>\n",
       "      <td>795620</td>\n",
       "      <td>0.004244</td>\n",
       "      <td>11.0</td>\n",
       "    </tr>\n",
       "    <tr>\n",
       "      <th>2</th>\n",
       "      <td>822709</td>\n",
       "      <td>0.000379</td>\n",
       "      <td>1.0</td>\n",
       "    </tr>\n",
       "    <tr>\n",
       "      <th>3</th>\n",
       "      <td>824008</td>\n",
       "      <td>0.000382</td>\n",
       "      <td>1.0</td>\n",
       "    </tr>\n",
       "    <tr>\n",
       "      <th>4</th>\n",
       "      <td>851848</td>\n",
       "      <td>0.000389</td>\n",
       "      <td>1.0</td>\n",
       "    </tr>\n",
       "  </tbody>\n",
       "</table>\n",
       "</div>"
      ],
      "text/plain": [
       "   user_id  user_buy_part  user_buy_count\n",
       "0   793876       0.001940             5.0\n",
       "1   795620       0.004244            11.0\n",
       "2   822709       0.000379             1.0\n",
       "3   824008       0.000382             1.0\n",
       "4   851848       0.000389             1.0"
      ]
     },
     "execution_count": 30,
     "metadata": {},
     "output_type": "execute_result"
    }
   ],
   "source": [
    "train_grouped_user_id.show()"
   ]
  },
  {
   "cell_type": "code",
   "execution_count": 31,
   "metadata": {},
   "outputs": [],
   "source": [
    "test_joined = (test_joined\n",
    "               .join(train_grouped_user_id, on='user_id', how='left')\n",
    "               .join(train_grouped_item_id, on='item_id', how='left'))"
   ]
  },
  {
   "cell_type": "code",
   "execution_count": 31,
   "metadata": {},
   "outputs": [],
   "source": [
    "#train_joined = train_joined.filter(F.col('content_type') == 1)"
   ]
  },
  {
   "cell_type": "markdown",
   "metadata": {},
   "source": [
    "### Обучение"
   ]
  },
  {
   "cell_type": "markdown",
   "metadata": {},
   "source": [
    "Проведем векторизацию признаков"
   ]
  },
  {
   "cell_type": "code",
   "execution_count": 32,
   "metadata": {},
   "outputs": [],
   "source": [
    "from pyspark.ml.classification import LogisticRegression\n",
    "from pyspark.ml.feature import VectorAssembler"
   ]
  },
  {
   "cell_type": "code",
   "execution_count": 33,
   "metadata": {},
   "outputs": [],
   "source": [
    "train_columns = train_joined.columns"
   ]
  },
  {
   "cell_type": "code",
   "execution_count": 34,
   "metadata": {},
   "outputs": [],
   "source": [
    "train_columns = list(set(train_columns) - set(['purchase',]))"
   ]
  },
  {
   "cell_type": "code",
   "execution_count": 35,
   "metadata": {},
   "outputs": [],
   "source": [
    "assembler = VectorAssembler(inputCols=train_columns,\n",
    "                            outputCol='features')\n",
    "output_train = assembler.transform(train_joined)"
   ]
  },
  {
   "cell_type": "code",
   "execution_count": 36,
   "metadata": {},
   "outputs": [],
   "source": [
    "lr = LogisticRegression(featuresCol='features', labelCol=\"purchase\")"
   ]
  },
  {
   "cell_type": "code",
   "execution_count": 37,
   "metadata": {},
   "outputs": [],
   "source": [
    "lr_model = lr.fit(output_train)"
   ]
  },
  {
   "cell_type": "code",
   "execution_count": 38,
   "metadata": {},
   "outputs": [],
   "source": [
    "output_test = assembler.transform(test_joined)"
   ]
  },
  {
   "cell_type": "code",
   "execution_count": 39,
   "metadata": {},
   "outputs": [],
   "source": [
    "predictions = lr_model.transform(output_test)"
   ]
  },
  {
   "cell_type": "code",
   "execution_count": 40,
   "metadata": {},
   "outputs": [
    {
     "name": "stderr",
     "output_type": "stream",
     "text": [
      "/usr/hdp/current/spark2-client/python/pyspark/sql/dataframe.py:2111: UserWarning: toPandas attempted Arrow optimization because 'spark.sql.execution.arrow.enabled' is set to true; however, failed by the reason below:\n",
      "  Unsupported type in conversion to Arrow: VectorUDT\n",
      "Attempting non-optimization as 'spark.sql.execution.arrow.fallback.enabled' is set to true.\n",
      "  warnings.warn(msg)\n"
     ]
    },
    {
     "data": {
      "text/html": [
       "<div>\n",
       "<style scoped>\n",
       "    .dataframe tbody tr th:only-of-type {\n",
       "        vertical-align: middle;\n",
       "    }\n",
       "\n",
       "    .dataframe tbody tr th {\n",
       "        vertical-align: top;\n",
       "    }\n",
       "\n",
       "    .dataframe thead th {\n",
       "        text-align: right;\n",
       "    }\n",
       "</style>\n",
       "<table border=\"1\" class=\"dataframe\">\n",
       "  <thead>\n",
       "    <tr style=\"text-align: right;\">\n",
       "      <th></th>\n",
       "      <th>item_id</th>\n",
       "      <th>user_id</th>\n",
       "      <th>purchase</th>\n",
       "      <th>channel_id</th>\n",
       "      <th>content_type</th>\n",
       "      <th>year</th>\n",
       "      <th>region_id</th>\n",
       "      <th>Русские</th>\n",
       "      <th>Сериалы</th>\n",
       "      <th>сказка</th>\n",
       "      <th>...</th>\n",
       "      <th>Наши</th>\n",
       "      <th>Музыкальный</th>\n",
       "      <th>Охота и рыбалка</th>\n",
       "      <th>user_buy_part</th>\n",
       "      <th>user_buy_count</th>\n",
       "      <th>item_buy_part</th>\n",
       "      <th>features</th>\n",
       "      <th>rawPrediction</th>\n",
       "      <th>probability</th>\n",
       "      <th>prediction</th>\n",
       "    </tr>\n",
       "  </thead>\n",
       "  <tbody>\n",
       "    <tr>\n",
       "      <th>0</th>\n",
       "      <td>8389</td>\n",
       "      <td>761341</td>\n",
       "      <td>None</td>\n",
       "      <td>0.0</td>\n",
       "      <td>1</td>\n",
       "      <td>1981.0</td>\n",
       "      <td>0.0</td>\n",
       "      <td>0</td>\n",
       "      <td>0</td>\n",
       "      <td>0</td>\n",
       "      <td>...</td>\n",
       "      <td>1</td>\n",
       "      <td>0</td>\n",
       "      <td>0</td>\n",
       "      <td>0.000388</td>\n",
       "      <td>1.0</td>\n",
       "      <td>0.005979</td>\n",
       "      <td>(0.0, 0.0, 0.0, 0.0, 0.0, 0.0, 0.0, 0.0, 0.0, ...</td>\n",
       "      <td>[6.264997592541692, -6.264997592541692]</td>\n",
       "      <td>[0.9981018916700156, 0.0018981083299843902]</td>\n",
       "      <td>0.0</td>\n",
       "    </tr>\n",
       "    <tr>\n",
       "      <th>1</th>\n",
       "      <td>8389</td>\n",
       "      <td>776188</td>\n",
       "      <td>None</td>\n",
       "      <td>0.0</td>\n",
       "      <td>1</td>\n",
       "      <td>1981.0</td>\n",
       "      <td>0.0</td>\n",
       "      <td>0</td>\n",
       "      <td>0</td>\n",
       "      <td>0</td>\n",
       "      <td>...</td>\n",
       "      <td>1</td>\n",
       "      <td>0</td>\n",
       "      <td>0</td>\n",
       "      <td>0.001153</td>\n",
       "      <td>3.0</td>\n",
       "      <td>0.005979</td>\n",
       "      <td>(0.0, 0.0, 0.0, 0.0, 0.0, 0.0, 0.0, 0.0, 0.0, ...</td>\n",
       "      <td>[6.250032443729611, -6.250032443729611]</td>\n",
       "      <td>[0.9980733277256817, 0.0019266722743182644]</td>\n",
       "      <td>0.0</td>\n",
       "    </tr>\n",
       "    <tr>\n",
       "      <th>2</th>\n",
       "      <td>8389</td>\n",
       "      <td>846231</td>\n",
       "      <td>None</td>\n",
       "      <td>0.0</td>\n",
       "      <td>1</td>\n",
       "      <td>1981.0</td>\n",
       "      <td>0.0</td>\n",
       "      <td>0</td>\n",
       "      <td>0</td>\n",
       "      <td>0</td>\n",
       "      <td>...</td>\n",
       "      <td>1</td>\n",
       "      <td>0</td>\n",
       "      <td>0</td>\n",
       "      <td>0.001924</td>\n",
       "      <td>5.0</td>\n",
       "      <td>0.005979</td>\n",
       "      <td>(0.0, 0.0, 0.0, 0.0, 0.0, 0.0, 0.0, 0.0, 0.0, ...</td>\n",
       "      <td>[6.2716616952746325, -6.2716616952746325]</td>\n",
       "      <td>[0.9981144750335804, 0.0018855249664195544]</td>\n",
       "      <td>0.0</td>\n",
       "    </tr>\n",
       "    <tr>\n",
       "      <th>3</th>\n",
       "      <td>8389</td>\n",
       "      <td>765780</td>\n",
       "      <td>None</td>\n",
       "      <td>0.0</td>\n",
       "      <td>1</td>\n",
       "      <td>1981.0</td>\n",
       "      <td>0.0</td>\n",
       "      <td>0</td>\n",
       "      <td>0</td>\n",
       "      <td>0</td>\n",
       "      <td>...</td>\n",
       "      <td>1</td>\n",
       "      <td>0</td>\n",
       "      <td>0</td>\n",
       "      <td>0.001949</td>\n",
       "      <td>5.0</td>\n",
       "      <td>0.005979</td>\n",
       "      <td>(0.0, 0.0, 0.0, 0.0, 0.0, 0.0, 0.0, 0.0, 0.0, ...</td>\n",
       "      <td>[6.206725866210215, -6.206725866210215]</td>\n",
       "      <td>[0.9979882286249971, 0.0020117713750028706]</td>\n",
       "      <td>0.0</td>\n",
       "    </tr>\n",
       "    <tr>\n",
       "      <th>4</th>\n",
       "      <td>8389</td>\n",
       "      <td>816244</td>\n",
       "      <td>None</td>\n",
       "      <td>0.0</td>\n",
       "      <td>1</td>\n",
       "      <td>1981.0</td>\n",
       "      <td>0.0</td>\n",
       "      <td>0</td>\n",
       "      <td>0</td>\n",
       "      <td>0</td>\n",
       "      <td>...</td>\n",
       "      <td>1</td>\n",
       "      <td>0</td>\n",
       "      <td>0</td>\n",
       "      <td>0.001923</td>\n",
       "      <td>5.0</td>\n",
       "      <td>0.005979</td>\n",
       "      <td>(0.0, 0.0, 0.0, 0.0, 0.0, 0.0, 0.0, 0.0, 0.0, ...</td>\n",
       "      <td>[6.250851628237683, -6.250851628237683]</td>\n",
       "      <td>[0.9980749023423404, 0.001925097657659639]</td>\n",
       "      <td>0.0</td>\n",
       "    </tr>\n",
       "  </tbody>\n",
       "</table>\n",
       "<p>5 rows × 99 columns</p>\n",
       "</div>"
      ],
      "text/plain": [
       "   item_id  user_id purchase  channel_id  content_type    year  region_id  \\\n",
       "0     8389   761341     None         0.0             1  1981.0        0.0   \n",
       "1     8389   776188     None         0.0             1  1981.0        0.0   \n",
       "2     8389   846231     None         0.0             1  1981.0        0.0   \n",
       "3     8389   765780     None         0.0             1  1981.0        0.0   \n",
       "4     8389   816244     None         0.0             1  1981.0        0.0   \n",
       "\n",
       "   Русские  Сериалы   сказка     ...      Наши  Музыкальный  Охота и рыбалка  \\\n",
       "0        0        0        0     ...         1            0                0   \n",
       "1        0        0        0     ...         1            0                0   \n",
       "2        0        0        0     ...         1            0                0   \n",
       "3        0        0        0     ...         1            0                0   \n",
       "4        0        0        0     ...         1            0                0   \n",
       "\n",
       "   user_buy_part  user_buy_count  item_buy_part  \\\n",
       "0       0.000388             1.0       0.005979   \n",
       "1       0.001153             3.0       0.005979   \n",
       "2       0.001924             5.0       0.005979   \n",
       "3       0.001949             5.0       0.005979   \n",
       "4       0.001923             5.0       0.005979   \n",
       "\n",
       "                                            features  \\\n",
       "0  (0.0, 0.0, 0.0, 0.0, 0.0, 0.0, 0.0, 0.0, 0.0, ...   \n",
       "1  (0.0, 0.0, 0.0, 0.0, 0.0, 0.0, 0.0, 0.0, 0.0, ...   \n",
       "2  (0.0, 0.0, 0.0, 0.0, 0.0, 0.0, 0.0, 0.0, 0.0, ...   \n",
       "3  (0.0, 0.0, 0.0, 0.0, 0.0, 0.0, 0.0, 0.0, 0.0, ...   \n",
       "4  (0.0, 0.0, 0.0, 0.0, 0.0, 0.0, 0.0, 0.0, 0.0, ...   \n",
       "\n",
       "                               rawPrediction  \\\n",
       "0    [6.264997592541692, -6.264997592541692]   \n",
       "1    [6.250032443729611, -6.250032443729611]   \n",
       "2  [6.2716616952746325, -6.2716616952746325]   \n",
       "3    [6.206725866210215, -6.206725866210215]   \n",
       "4    [6.250851628237683, -6.250851628237683]   \n",
       "\n",
       "                                   probability  prediction  \n",
       "0  [0.9981018916700156, 0.0018981083299843902]         0.0  \n",
       "1  [0.9980733277256817, 0.0019266722743182644]         0.0  \n",
       "2  [0.9981144750335804, 0.0018855249664195544]         0.0  \n",
       "3  [0.9979882286249971, 0.0020117713750028706]         0.0  \n",
       "4   [0.9980749023423404, 0.001925097657659639]         0.0  \n",
       "\n",
       "[5 rows x 99 columns]"
      ]
     },
     "execution_count": 40,
     "metadata": {},
     "output_type": "execute_result"
    }
   ],
   "source": [
    "predictions.show()"
   ]
  },
  {
   "cell_type": "code",
   "execution_count": 41,
   "metadata": {},
   "outputs": [],
   "source": [
    "def save_to_csv(predictions):\n",
    "    predictions = predictions.select(\"user_id\", \"item_id\", \"prediction\", \"probability\", \"rawPrediction\")\n",
    "\n",
    "    return_probability_udf = F.udf(lambda v: v.values.tolist()[1], DoubleType())\n",
    "\n",
    "    predictions = predictions.withColumn('purchase', return_probability_udf(F.col('probability'))).sort(F.asc('user_id'), F.asc('item_id'))\n",
    "\n",
    "    # Почему-то сохранение через pyspark непонятно где создавало файл. Пришлось сохранить через Pandas\n",
    "    answer = predictions.select(\"user_id\", \"item_id\", 'purchase').toPandas()\n",
    "\n",
    "    answer.to_csv('lab03.csv')"
   ]
  },
  {
   "cell_type": "code",
   "execution_count": 293,
   "metadata": {},
   "outputs": [],
   "source": [
    "save_to_csv(predictions)"
   ]
  },
  {
   "cell_type": "code",
   "execution_count": null,
   "metadata": {},
   "outputs": [],
   "source": []
  },
  {
   "cell_type": "code",
   "execution_count": 42,
   "metadata": {},
   "outputs": [],
   "source": [
    "from pyspark.ml.classification import GBTClassifier"
   ]
  },
  {
   "cell_type": "code",
   "execution_count": 43,
   "metadata": {},
   "outputs": [],
   "source": [
    "gbt = GBTClassifier(featuresCol='features', labelCol=\"purchase\")"
   ]
  },
  {
   "cell_type": "code",
   "execution_count": 44,
   "metadata": {},
   "outputs": [],
   "source": [
    "gbt_model = gbt.fit(output_train)"
   ]
  },
  {
   "cell_type": "code",
   "execution_count": 45,
   "metadata": {},
   "outputs": [],
   "source": [
    "predictions_gbt = gbt_model.transform(output_test)"
   ]
  },
  {
   "cell_type": "code",
   "execution_count": 46,
   "metadata": {},
   "outputs": [],
   "source": [
    "save_to_csv(predictions_gbt)"
   ]
  },
  {
   "cell_type": "code",
   "execution_count": null,
   "metadata": {},
   "outputs": [],
   "source": []
  }
 ],
 "metadata": {
  "kernelspec": {
   "display_name": "Python 3",
   "language": "python",
   "name": "python3"
  },
  "language_info": {
   "codemirror_mode": {
    "name": "ipython",
    "version": 3
   },
   "file_extension": ".py",
   "mimetype": "text/x-python",
   "name": "python",
   "nbconvert_exporter": "python",
   "pygments_lexer": "ipython3",
   "version": "3.6.5"
  }
 },
 "nbformat": 4,
 "nbformat_minor": 2
}
