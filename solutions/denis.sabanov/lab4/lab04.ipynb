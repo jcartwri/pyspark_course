{
 "cells": [
  {
   "cell_type": "code",
   "execution_count": 1,
   "metadata": {},
   "outputs": [],
   "source": [
    "import os\n",
    "import sys\n",
    "os.environ[\"PYSPARK_PYTHON\"]='/opt/anaconda/envs/bd9/bin/python'\n",
    "os.environ[\"SPARK_HOME\"]='/usr/hdp/current/spark2-client'\n",
    "os.environ[\"PYSPARK_SUBMIT_ARGS\"]='--num-executors 3 pyspark-shell'\n",
    "\n",
    "spark_home = os.environ.get('SPARK_HOME', None)\n",
    "\n",
    "sys.path.insert(0, os.path.join(spark_home, 'python'))\n",
    "sys.path.insert(0, os.path.join(spark_home, 'python/lib/py4j-0.10.7-src.zip'))"
   ]
  },
  {
   "cell_type": "code",
   "execution_count": 2,
   "metadata": {},
   "outputs": [],
   "source": [
    "from pyspark import SparkConf\n",
    "from pyspark.sql import SparkSession\n",
    "\n",
    "conf = SparkConf()\n",
    "conf.set(\"spark.app.name\", \"Sabanov Denis Spark Dataframe test lab04\") \n",
    "\n",
    "spark = SparkSession.builder.config(conf=conf).appName(\"Sabanov Denis Spark Dataframe test lab04\").getOrCreate()"
   ]
  },
  {
   "cell_type": "code",
   "execution_count": 3,
   "metadata": {},
   "outputs": [],
   "source": [
    "import pyspark.sql.functions as f\n",
    "from pyspark.sql.types import *\n",
    "from pyspark.ml.feature import Tokenizer, HashingTF, IDF, RegexTokenizer, StringIndexer, IndexToString\n",
    "from pyspark.ml.classification import LogisticRegression, GBTClassifier\n",
    "from pyspark.ml import Pipeline\n",
    "import re"
   ]
  },
  {
   "cell_type": "code",
   "execution_count": 4,
   "metadata": {},
   "outputs": [
    {
     "data": {
      "text/html": [
       "\n",
       "            <div>\n",
       "                <p><b>SparkSession - in-memory</b></p>\n",
       "                \n",
       "        <div>\n",
       "            <p><b>SparkContext</b></p>\n",
       "\n",
       "            <p><a href=\"http://spark-de-master-3.newprolab.com:4052\">Spark UI</a></p>\n",
       "\n",
       "            <dl>\n",
       "              <dt>Version</dt>\n",
       "                <dd><code>v2.4.7</code></dd>\n",
       "              <dt>Master</dt>\n",
       "                <dd><code>yarn</code></dd>\n",
       "              <dt>AppName</dt>\n",
       "                <dd><code>Sabanov Denis Spark Dataframe test lab04</code></dd>\n",
       "            </dl>\n",
       "        </div>\n",
       "        \n",
       "            </div>\n",
       "        "
      ],
      "text/plain": [
       "<pyspark.sql.session.SparkSession at 0x7f6740256d68>"
      ]
     },
     "execution_count": 4,
     "metadata": {},
     "output_type": "execute_result"
    }
   ],
   "source": [
    "spark"
   ]
  },
  {
   "cell_type": "code",
   "execution_count": 9,
   "metadata": {},
   "outputs": [],
   "source": [
    "labData = spark.read.csv(\"/labs/slaba04/gender_age_dataset.txt\", sep=\"\\t\", header=True).where(\"age != '-'\")"
   ]
  },
  {
   "cell_type": "code",
   "execution_count": 11,
   "metadata": {},
   "outputs": [],
   "source": [
    "schema = StructType([\n",
    "  StructField(\"visits\", ArrayType(\n",
    "    StructType(\n",
    "        [\n",
    "          StructField(\"url\", StringType()),\n",
    "          StructField(\"timestamp\", StringType())\n",
    "        ])\n",
    "  ))\n",
    "])\n",
    "\n",
    "df = labData.withColumn(\"tt\", f.from_json(\"user_json\", schema=schema)).\\\n",
    "withColumn(\"visits\", f.explode(f.col(\"tt\").visits)).\\\n",
    "withColumn(\"url\", f.col(\"visits\").url).\\\n",
    "withColumn(\"ts\", f.col(\"visits\").timestamp).drop(\"user_json\", \"tt\", \"visits\")"
   ]
  },
  {
   "cell_type": "code",
   "execution_count": 13,
   "metadata": {},
   "outputs": [],
   "source": [
    "urlData = df.groupBy(\"uid\", \"gender\", \"age\").\\\n",
    "agg(f.concat_ws(\"|\", f.collect_list(\"url\")).alias(\"urls\"), f.concat_ws(\"|\", f.collect_list(\"ts\")).alias(\"timestamps\")).\\\n",
    "withColumn(\"urls\", f.regexp_replace(\"urls\", \"http|https|www|://|html|\", \"\"))"
   ]
  },
  {
   "cell_type": "code",
   "execution_count": 18,
   "metadata": {},
   "outputs": [],
   "source": [
    "tokenizer = RegexTokenizer(inputCol=\"urls\", outputCol=\"tok_urls\", pattern=\"[_():;,.!?\\\\-|/&=+]\")"
   ]
  },
  {
   "cell_type": "code",
   "execution_count": 20,
   "metadata": {},
   "outputs": [],
   "source": [
    "hashingTF = HashingTF(inputCol=\"tok_urls\", outputCol=\"rawFeatures\", numFeatures=10000, binary=False)"
   ]
  },
  {
   "cell_type": "code",
   "execution_count": 25,
   "metadata": {},
   "outputs": [],
   "source": [
    "idf = IDF(inputCol=\"rawFeatures\", outputCol=\"features\", minDocFreq=5)"
   ]
  },
  {
   "cell_type": "code",
   "execution_count": 27,
   "metadata": {},
   "outputs": [],
   "source": [
    "indexerGen = StringIndexer(inputCol=\"gender\", outputCol=\"gender_idx\")\n",
    "indexerAge = StringIndexer(inputCol=\"age\", outputCol=\"age_idx\")"
   ]
  },
  {
   "cell_type": "code",
   "execution_count": 29,
   "metadata": {},
   "outputs": [],
   "source": [
    "pipeline = Pipeline(stages=[tokenizer, indexerGen, indexerAge, hashingTF, idf])"
   ]
  },
  {
   "cell_type": "code",
   "execution_count": 31,
   "metadata": {},
   "outputs": [],
   "source": [
    "urlMod = pipeline.fit(urlData)\n",
    "urlTran = urlMod.transform(urlData)"
   ]
  },
  {
   "cell_type": "code",
   "execution_count": 33,
   "metadata": {},
   "outputs": [],
   "source": [
    "lrGender = LogisticRegression(featuresCol=\"features\"\n",
    "                               , labelCol=\"gender_idx\"\n",
    "                               , predictionCol=\"gen_prediction\"\n",
    "                               , regParam=0.01, elasticNetParam=0.2\n",
    "                              )"
   ]
  },
  {
   "cell_type": "code",
   "execution_count": 39,
   "metadata": {},
   "outputs": [],
   "source": [
    "lrAge = LogisticRegression(featuresCol=\"features\"\n",
    "                            , labelCol=\"age_idx\"\n",
    "                            , predictionCol=\"age_prediction\"\n",
    "                            , regParam=0.01, elasticNetParam=0.2\n",
    "                           )"
   ]
  },
  {
   "cell_type": "code",
   "execution_count": 42,
   "metadata": {},
   "outputs": [],
   "source": [
    "lrModelGender = lrGender.fit(urlTran)\n",
    "lrModelAge = lrAge.fit(urlTran)"
   ]
  },
  {
   "cell_type": "code",
   "execution_count": 43,
   "metadata": {},
   "outputs": [],
   "source": [
    "def batchCalc(batch_df, batch_id):\n",
    "        \n",
    "        schema = StructType([\n",
    "            StructField('uid', StringType()),\n",
    "            StructField('visits', StringType())\n",
    "            ])\n",
    "        kd = batch_df.withColumn(\"tt\", f.from_json(\"value\", schema=schema)).\\\n",
    "        withColumn(\"uid\", f.col(\"tt\").uid).\\\n",
    "        withColumn(\"visits\", f.col(\"tt\").visits).drop(\"tst\", \"tt\")\n",
    "        \n",
    "        schema = ArrayType(StructType([\n",
    "            StructField('url', StringType()),\n",
    "            StructField('timestamp', StringType())\n",
    "            ]))\n",
    "        kafkaData = kd.withColumn(\"tt\", f.explode(f.from_json(\"visits\", schema=schema))).\\\n",
    "        withColumn(\"url\", f.col(\"tt\").url).\\\n",
    "        withColumn(\"ts\", f.col(\"tt\").timestamp).drop(\"visits\", \"tt\").groupBy(\"uid\").\\\n",
    "        agg(f.concat_ws(\"|\", f.collect_list(\"url\")).alias(\"urls\"), f.concat_ws(\"|\", f.collect_list(\"ts\")).alias(\"timestamps\"))\n",
    "        \n",
    "        kdTrain = urlMod.transform(kafkaData).drop(\"urls\", \"timestamps\", \"tok_urls\", \"rawFeatures\")\n",
    "        kdRes = lrModelAge.transform(lrModelGender.transform(kdTrain).drop(\"rawPrediction\", \"probability\"))\\\n",
    "        .drop(\"rawPrediction\", \"probability\", \"features\")\n",
    "        \n",
    "        ageLbl = urlMod.stages[2].labels\n",
    "        genLbl = urlMod.stages[1].labels\n",
    "        \n",
    "        age_val = IndexToString(inputCol=\"age_prediction\", outputCol=\"age\", labels=ageLbl)\n",
    "        gen_val = IndexToString(inputCol=\"gen_prediction\", outputCol=\"gender\", labels=genLbl)\n",
    "        res = gen_val.transform(age_val.transform(kdRes)).select(\"uid\", \"gender\", \"age\")\n",
    "        dres = res.select(f.to_json(f.struct(f.col(\"*\"))).alias(\"value\"))\n",
    "        \n",
    "        dres\\\n",
    "             .write\\\n",
    "             .format('kafka')\\\n",
    "             .options(**write_kafka_params)\\\n",
    "             .mode('append')\\\n",
    "             .save()\n",
    "        pass"
   ]
  },
  {
   "cell_type": "code",
   "execution_count": 44,
   "metadata": {},
   "outputs": [],
   "source": [
    "read_kafka_params = {\n",
    "    \"kafka.bootstrap.servers\": 'spark-master-1.newprolab.com:6667',\n",
    "    \"subscribe\": \"input_denis.sabanov\",\n",
    "    \"startingOffsets\": \"earliest\"\n",
    "}\n",
    "kafka_sdf = spark.readStream.format(\"kafka\").options(**read_kafka_params).load()\n",
    "k = kafka_sdf.selectExpr(\"CAST(value AS STRING)\")"
   ]
  },
  {
   "cell_type": "code",
   "execution_count": 45,
   "metadata": {},
   "outputs": [],
   "source": [
    "write_kafka_params = {\n",
    "           \"kafka.bootstrap.servers\": 'spark-master-1.newprolab.com:6667',\n",
    "           \"topic\": \"denis.sabanov\"\n",
    "        }\n",
    "def create_sink(df):    \n",
    "    return df.writeStream.foreachBatch(lrModelAge).outputMode(\"append\")\\\n",
    "           .option(\"checkpointLocation\", \"streaming/chk/chk_kafka\")"
   ]
  },
  {
   "cell_type": "code",
   "execution_count": 46,
   "metadata": {},
   "outputs": [
    {
     "data": {
      "text/plain": [
       "True"
      ]
     },
     "execution_count": 46,
     "metadata": {},
     "output_type": "execute_result"
    }
   ],
   "source": [
    "sink = create_sink(k)\n",
    "sq = sink.start()\n",
    "sq.isActive"
   ]
  },
  {
   "cell_type": "code",
   "execution_count": null,
   "metadata": {},
   "outputs": [],
   "source": [
    "spark.stop()"
   ]
  }
 ],
 "metadata": {
  "kernelspec": {
   "display_name": "Python 3",
   "language": "python",
   "name": "python3"
  },
  "language_info": {
   "codemirror_mode": {
    "name": "ipython",
    "version": 3
   },
   "file_extension": ".py",
   "mimetype": "text/x-python",
   "name": "python",
   "nbconvert_exporter": "python",
   "pygments_lexer": "ipython3",
   "version": "3.6.5"
  }
 },
 "nbformat": 4,
 "nbformat_minor": 2
}
