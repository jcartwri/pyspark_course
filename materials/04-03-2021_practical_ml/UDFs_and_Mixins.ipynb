{
 "cells": [
  {
   "cell_type": "code",
   "execution_count": 1,
   "metadata": {},
   "outputs": [],
   "source": [
    "import os\n",
    "import sys\n",
    "os.environ[\"PYSPARK_SUBMIT_ARGS\"]='--num-executors 3 pyspark-shell'\n",
    "os.environ[\"PYSPARK_PYTHON\"]='/opt/anaconda/envs/bd9/bin/python'\n",
    "os.environ[\"SPARK_HOME\"]='/usr/hdp/current/spark2-client'\n",
    "\n",
    "spark_home = os.environ.get('SPARK_HOME', None)\n",
    "if not spark_home:\n",
    "    raise ValueError('SPARK_HOME environment variable is not set')\n",
    "sys.path.insert(0, os.path.join(spark_home, 'python'))\n",
    "sys.path.insert(0, os.path.join(spark_home, 'python/lib/py4j-0.10.7-src.zip'))"
   ]
  },
  {
   "cell_type": "code",
   "execution_count": 2,
   "metadata": {},
   "outputs": [],
   "source": [
    "from pyspark import SparkConf\n",
    "from pyspark.sql import SparkSession\n",
    "\n",
    "conf = SparkConf()\n",
    "conf.set(\"spark.app.name\", \"natasha pritykovskaya ALS app\") \n",
    "\n",
    "spark = SparkSession.builder.config(conf=conf).getOrCreate()"
   ]
  },
  {
   "cell_type": "code",
   "execution_count": 3,
   "metadata": {},
   "outputs": [],
   "source": [
    "from IPython.display import Image"
   ]
  },
  {
   "cell_type": "code",
   "execution_count": 4,
   "metadata": {},
   "outputs": [
    {
     "data": {
      "text/html": [
       "\n",
       "            <div>\n",
       "                <p><b>SparkSession - in-memory</b></p>\n",
       "                \n",
       "        <div>\n",
       "            <p><b>SparkContext</b></p>\n",
       "\n",
       "            <p><a href=\"http://bd-master.newprolab.com:4051\">Spark UI</a></p>\n",
       "\n",
       "            <dl>\n",
       "              <dt>Version</dt>\n",
       "                <dd><code>v2.4.7</code></dd>\n",
       "              <dt>Master</dt>\n",
       "                <dd><code>yarn</code></dd>\n",
       "              <dt>AppName</dt>\n",
       "                <dd><code>natasha pritykovskaya ALS app</code></dd>\n",
       "            </dl>\n",
       "        </div>\n",
       "        \n",
       "            </div>\n",
       "        "
      ],
      "text/plain": [
       "<pyspark.sql.session.SparkSession at 0x7fde9f4c0d68>"
      ]
     },
     "execution_count": 4,
     "metadata": {},
     "output_type": "execute_result"
    }
   ],
   "source": [
    "spark"
   ]
  },
  {
   "cell_type": "code",
   "execution_count": 5,
   "metadata": {},
   "outputs": [],
   "source": [
    "from pyspark.sql import Row\n",
    "from pyspark.sql.types import LongType, StringType, StructType, StructField\n",
    "\n",
    "df = spark.range(0, 10000).toDF(\"id\")"
   ]
  },
  {
   "cell_type": "code",
   "execution_count": 6,
   "metadata": {},
   "outputs": [
    {
     "name": "stdout",
     "output_type": "stream",
     "text": [
      "+---+\n",
      "| id|\n",
      "+---+\n",
      "|  0|\n",
      "|  1|\n",
      "|  2|\n",
      "|  3|\n",
      "|  4|\n",
      "+---+\n",
      "only showing top 5 rows\n",
      "\n"
     ]
    }
   ],
   "source": [
    "df.show(5)"
   ]
  },
  {
   "cell_type": "markdown",
   "metadata": {},
   "source": [
    "## UDF функции"
   ]
  },
  {
   "cell_type": "code",
   "execution_count": 7,
   "metadata": {},
   "outputs": [
    {
     "name": "stdout",
     "output_type": "stream",
     "text": [
      "+---+--------+\n",
      "| id|plus_one|\n",
      "+---+--------+\n",
      "|  0|       1|\n",
      "|  1|       2|\n",
      "|  2|       3|\n",
      "|  3|       4|\n",
      "|  4|       5|\n",
      "+---+--------+\n",
      "only showing top 5 rows\n",
      "\n"
     ]
    }
   ],
   "source": [
    "from pyspark.sql.functions import udf\n",
    "\n",
    "def plus_one(s):\n",
    "      return s + 1\n",
    "\n",
    "plus_one_udf = udf(plus_one, LongType())\n",
    "\n",
    "df.select(\"id\", plus_one_udf(\"id\").alias(\"plus_one\")).show(5)"
   ]
  },
  {
   "cell_type": "markdown",
   "metadata": {},
   "source": [
    "## Pandas UDF"
   ]
  },
  {
   "cell_type": "code",
   "execution_count": 8,
   "metadata": {},
   "outputs": [
    {
     "name": "stdout",
     "output_type": "stream",
     "text": [
      "0     1\n",
      "1     2\n",
      "2     3\n",
      "3     4\n",
      "4     5\n",
      "5     6\n",
      "6     7\n",
      "7     8\n",
      "8     9\n",
      "9    10\n",
      "dtype: int64\n"
     ]
    }
   ],
   "source": [
    "import pandas as pd\n",
    "\n",
    "from pyspark.sql.functions import col, pandas_udf, PandasUDFType\n",
    "from pyspark.sql.types import LongType\n",
    "\n",
    "def plus_one(s):\n",
    "      return s + 1\n",
    "\n",
    "x = pd.Series(range(10000))\n",
    "\n",
    "print(plus_one(x)[:10, ])"
   ]
  },
  {
   "cell_type": "code",
   "execution_count": 9,
   "metadata": {},
   "outputs": [],
   "source": [
    "plus_one_pandas_udf = pandas_udf(plus_one, returnType=LongType(), functionType=PandasUDFType.SCALAR)"
   ]
  },
  {
   "cell_type": "code",
   "execution_count": 10,
   "metadata": {},
   "outputs": [
    {
     "name": "stdout",
     "output_type": "stream",
     "text": [
      "+---+--------+\n",
      "| id|plus_one|\n",
      "+---+--------+\n",
      "|  0|       1|\n",
      "|  1|       2|\n",
      "|  2|       3|\n",
      "|  3|       4|\n",
      "|  4|       5|\n",
      "+---+--------+\n",
      "only showing top 5 rows\n",
      "\n"
     ]
    }
   ],
   "source": [
    "df.select(\"id\", plus_one_pandas_udf(\"id\").alias(\"plus_one\")).show(5)"
   ]
  },
  {
   "cell_type": "code",
   "execution_count": 11,
   "metadata": {},
   "outputs": [
    {
     "name": "stdout",
     "output_type": "stream",
     "text": [
      "+---+--------+\n",
      "| id|plus_one|\n",
      "+---+--------+\n",
      "|  0|       1|\n",
      "|  1|       2|\n",
      "|  2|       3|\n",
      "|  3|       4|\n",
      "|  4|       5|\n",
      "+---+--------+\n",
      "only showing top 5 rows\n",
      "\n"
     ]
    }
   ],
   "source": [
    "import pyspark.sql.functions as f\n",
    "\n",
    "@f.pandas_udf(LongType(), PandasUDFType.SCALAR)\n",
    "def plus_one(s):\n",
    "      return s + 1\n",
    "\n",
    "df.select(\"id\", plus_one(\"id\").alias(\"plus_one\")).show(5)"
   ]
  },
  {
   "cell_type": "code",
   "execution_count": 12,
   "metadata": {},
   "outputs": [
    {
     "name": "stdout",
     "output_type": "stream",
     "text": [
      "+---+--------+\n",
      "| id|plus_one|\n",
      "+---+--------+\n",
      "|  0|       1|\n",
      "|  1|       2|\n",
      "|  2|       3|\n",
      "|  3|       4|\n",
      "|  4|       5|\n",
      "+---+--------+\n",
      "only showing top 5 rows\n",
      "\n"
     ]
    }
   ],
   "source": [
    "import pyspark.sql.functions as f\n",
    "\n",
    "@f.pandas_udf(LongType())\n",
    "def plus_one(s):\n",
    "      return s + 1\n",
    "\n",
    "df.select(\"id\", plus_one(\"id\").alias(\"plus_one\")).show(5)"
   ]
  },
  {
   "cell_type": "markdown",
   "metadata": {},
   "source": [
    "Как разбивается колонка на несколько pandas.Series это - внутренняя кухня Spark, поэтому результат ваших pandas_udf не должен зависеть от разбиения. "
   ]
  },
  {
   "cell_type": "code",
   "execution_count": 13,
   "metadata": {},
   "outputs": [
    {
     "name": "stdout",
     "output_type": "stream",
     "text": [
      "+---+----------------------+\n",
      "| id|cumulative_probability|\n",
      "+---+----------------------+\n",
      "|  0|                   0.5|\n",
      "|  1|    0.8413447460685429|\n",
      "|  2|    0.9772498680518208|\n",
      "|  3|    0.9986501019683699|\n",
      "|  4|    0.9999683287581669|\n",
      "|  5|    0.9999997133484281|\n",
      "|  6|    0.9999999990134123|\n",
      "|  7|    0.9999999999987201|\n",
      "|  8|    0.9999999999999993|\n",
      "|  9|                   1.0|\n",
      "| 10|                   1.0|\n",
      "| 11|                   1.0|\n",
      "| 12|                   1.0|\n",
      "| 13|                   1.0|\n",
      "| 14|                   1.0|\n",
      "| 15|                   1.0|\n",
      "| 16|                   1.0|\n",
      "| 17|                   1.0|\n",
      "| 18|                   1.0|\n",
      "| 19|                   1.0|\n",
      "+---+----------------------+\n",
      "only showing top 20 rows\n",
      "\n"
     ]
    }
   ],
   "source": [
    "import pandas as pd\n",
    "from scipy import stats\n",
    "\n",
    "@pandas_udf('double')\n",
    "def cdf(v):\n",
    "    return pd.Series(stats.norm.cdf(v))\n",
    "\n",
    "df.withColumn('cumulative_probability', cdf(df.id)).show()"
   ]
  },
  {
   "cell_type": "code",
   "execution_count": 22,
   "metadata": {},
   "outputs": [],
   "source": [
    "@pandas_udf(df.schema, PandasUDFType.GROUPED_MAP)\n",
    "def subtract_mean(pdf):\n",
    "    return pdf.assign(v=pdf.v - pdf.v.mean())"
   ]
  },
  {
   "cell_type": "code",
   "execution_count": 23,
   "metadata": {},
   "outputs": [],
   "source": [
    "df = spark.createDataFrame(\n",
    "    [(1, 1.0), (1, 2.0), (2, 3.0), (2, 5.0), (2, 10.0)],\n",
    "    (\"id\", \"v\"))"
   ]
  },
  {
   "cell_type": "code",
   "execution_count": 24,
   "metadata": {},
   "outputs": [
    {
     "name": "stdout",
     "output_type": "stream",
     "text": [
      "+---+----+\n",
      "| id|   v|\n",
      "+---+----+\n",
      "|  1| 1.0|\n",
      "|  1| 2.0|\n",
      "|  2| 3.0|\n",
      "|  2| 5.0|\n",
      "|  2|10.0|\n",
      "+---+----+\n",
      "\n"
     ]
    }
   ],
   "source": [
    "df.show()"
   ]
  },
  {
   "cell_type": "code",
   "execution_count": 25,
   "metadata": {},
   "outputs": [
    {
     "name": "stdout",
     "output_type": "stream",
     "text": [
      "+---+----+\n",
      "| id|   v|\n",
      "+---+----+\n",
      "|  1| 0.5|\n",
      "|  1|-0.5|\n",
      "|  2|-3.0|\n",
      "|  2|-1.0|\n",
      "|  2| 4.0|\n",
      "+---+----+\n",
      "\n"
     ]
    }
   ],
   "source": [
    "df.groupby('id').apply(subtract_mean).show()"
   ]
  },
  {
   "cell_type": "code",
   "execution_count": 26,
   "metadata": {},
   "outputs": [
    {
     "data": {
      "image/png": "[encoded data removed]",
      "text/plain": [
       "<IPython.core.display.Image object>"
      ]
     },
     "execution_count": 26,
     "metadata": {},
     "output_type": "execute_result"
    }
   ],
   "source": [
    "Image(\"pics/udf_vs_pandas_udf.png\")"
   ]
  },
  {
   "cell_type": "markdown",
   "metadata": {},
   "source": [
    "# Mixins"
   ]
  },
  {
   "cell_type": "code",
   "execution_count": 27,
   "metadata": {},
   "outputs": [],
   "source": [
    "class Vehicle(object):\n",
    "    def __init__(self, position):\n",
    "        self.position = position\n",
    "        print(position)\n",
    "        \n",
    "    def move_along(self):\n",
    "        pass\n",
    "\n",
    "class Car(Vehicle):\n",
    "    pass\n",
    "\n",
    "class Plane(Vehicle):\n",
    "    pass"
   ]
  },
  {
   "cell_type": "code",
   "execution_count": 32,
   "metadata": {},
   "outputs": [],
   "source": [
    "class Radio():\n",
    "    def play_song(self):\n",
    "        print(\"Детка-детка, ты теперь брюнетка.\")\n",
    "\n",
    "class RadioMixin(object):\n",
    "    def __init__(self):\n",
    "        self.radio = Radio()\n",
    "        print(\"radio\")\n",
    "    \n",
    "    def play_song(self):\n",
    "        self.radio.play_song()\n",
    "\n",
    "class Car(Vehicle, RadioMixin):\n",
    "    pass\n",
    "\n",
    "class Clock(Vehicle, RadioMixin):\n",
    "    pass"
   ]
  },
  {
   "cell_type": "code",
   "execution_count": 33,
   "metadata": {},
   "outputs": [
    {
     "ename": "TypeError",
     "evalue": "__init__() missing 1 required positional argument: 'position'",
     "output_type": "error",
     "traceback": [
      "\u001b[0;31m---------------------------------------------------------------------------\u001b[0m",
      "\u001b[0;31mTypeError\u001b[0m                                 Traceback (most recent call last)",
      "\u001b[0;32m<ipython-input-33-bbefef4a906c>\u001b[0m in \u001b[0;36m<module>\u001b[0;34m()\u001b[0m\n\u001b[0;32m----> 1\u001b[0;31m \u001b[0mcar\u001b[0m \u001b[0;34m=\u001b[0m \u001b[0mCar\u001b[0m\u001b[0;34m(\u001b[0m\u001b[0;34m)\u001b[0m\u001b[0;34m\u001b[0m\u001b[0m\n\u001b[0m",
      "\u001b[0;31mTypeError\u001b[0m: __init__() missing 1 required positional argument: 'position'"
     ]
    }
   ],
   "source": [
    "car = Car()"
   ]
  },
  {
   "cell_type": "code",
   "execution_count": 34,
   "metadata": {},
   "outputs": [
    {
     "name": "stdout",
     "output_type": "stream",
     "text": [
      "radio\n",
      "Детка-детка, ты теперь брюнетка.\n"
     ]
    }
   ],
   "source": [
    "class Car(RadioMixin, Vehicle):\n",
    "    pass\n",
    "\n",
    "class Clock(RadioMixin, Vehicle):\n",
    "    pass\n",
    "\n",
    "car = Car()\n",
    "car.play_song()"
   ]
  },
  {
   "cell_type": "code",
   "execution_count": 35,
   "metadata": {},
   "outputs": [],
   "source": [
    "class BaseClass1():\n",
    "    def __init__(self): \n",
    "        print(\"BaseClass1\")\n",
    "\n",
    "class BaseClass2():\n",
    "    def __init__(self): \n",
    "        print(\"BaseClass2\")\n",
    "    \n",
    "\n",
    "class MyClass(BaseClass1, BaseClass2):\n",
    "    def __init__(self): \n",
    "        super(MyClass, self).__init__()"
   ]
  },
  {
   "cell_type": "code",
   "execution_count": 36,
   "metadata": {},
   "outputs": [
    {
     "name": "stdout",
     "output_type": "stream",
     "text": [
      "BaseClass1\n"
     ]
    }
   ],
   "source": [
    "my_class = MyClass()"
   ]
  },
  {
   "cell_type": "code",
   "execution_count": 37,
   "metadata": {},
   "outputs": [],
   "source": [
    "class BaseClass0():\n",
    "    def __init__(self): \n",
    "        print(\"BaseClass0\")\n",
    "\n",
    "class BaseClass1(BaseClass0):\n",
    "    pass\n",
    "\n",
    "class BaseClass2():\n",
    "    def __init__(self): \n",
    "        print(\"BaseClass2\")\n",
    "    \n",
    "class MyClass(BaseClass1, BaseClass2):\n",
    "    def __init__(self): \n",
    "        super(MyClass, self).__init__()"
   ]
  },
  {
   "cell_type": "code",
   "execution_count": 38,
   "metadata": {},
   "outputs": [
    {
     "name": "stdout",
     "output_type": "stream",
     "text": [
      "BaseClass0\n"
     ]
    }
   ],
   "source": [
    "my_class = MyClass()"
   ]
  },
  {
   "cell_type": "code",
   "execution_count": 39,
   "metadata": {},
   "outputs": [],
   "source": [
    "class MyClass(BaseClass2, BaseClass1):\n",
    "    def __init__(self): \n",
    "        super(MyClass, self).__init__()"
   ]
  },
  {
   "cell_type": "code",
   "execution_count": 40,
   "metadata": {},
   "outputs": [
    {
     "name": "stdout",
     "output_type": "stream",
     "text": [
      "BaseClass2\n"
     ]
    }
   ],
   "source": [
    "my_class = MyClass()"
   ]
  },
  {
   "cell_type": "code",
   "execution_count": 41,
   "metadata": {},
   "outputs": [],
   "source": [
    "spark.stop()"
   ]
  },
  {
   "cell_type": "code",
   "execution_count": null,
   "metadata": {},
   "outputs": [],
   "source": []
  }
 ],
 "metadata": {
  "kernelspec": {
   "display_name": "Python 3",
   "language": "python",
   "name": "python3"
  },
  "language_info": {
   "codemirror_mode": {
    "name": "ipython",
    "version": 3
   },
   "file_extension": ".py",
   "mimetype": "text/x-python",
   "name": "python",
   "nbconvert_exporter": "python",
   "pygments_lexer": "ipython3",
   "version": "3.6.5"
  }
 },
 "nbformat": 4,
 "nbformat_minor": 2
}
