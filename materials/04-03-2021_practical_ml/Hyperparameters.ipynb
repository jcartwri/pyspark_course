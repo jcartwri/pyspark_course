{
 "cells": [
  {
   "cell_type": "code",
   "execution_count": 1,
   "metadata": {},
   "outputs": [],
   "source": [
    "import os\n",
    "import sys\n",
    "os.environ[\"PYSPARK_SUBMIT_ARGS\"]='--num-executors 3 pyspark-shell'\n",
    "os.environ[\"PYSPARK_PYTHON\"]='/opt/anaconda/envs/bd9/bin/python'\n",
    "os.environ[\"SPARK_HOME\"]='/usr/hdp/current/spark2-client'\n",
    "\n",
    "spark_home = os.environ.get('SPARK_HOME', None)\n",
    "if not spark_home:\n",
    "    raise ValueError('SPARK_HOME environment variable is not set')\n",
    "sys.path.insert(0, os.path.join(spark_home, 'python'))\n",
    "sys.path.insert(0, os.path.join(spark_home, 'python/lib/py4j-0.10.7-src.zip'))"
   ]
  },
  {
   "cell_type": "code",
   "execution_count": 2,
   "metadata": {},
   "outputs": [],
   "source": [
    "from pyspark import SparkConf\n",
    "from pyspark.sql import SparkSession\n",
    "\n",
    "conf = SparkConf()\n",
    "conf.set(\"spark.app.name\", \"natasha pritykovskaya Hyperparameters\") \n",
    "\n",
    "spark = SparkSession.builder.config(conf=conf).getOrCreate()"
   ]
  },
  {
   "cell_type": "code",
   "execution_count": 3,
   "metadata": {},
   "outputs": [
    {
     "data": {
      "text/html": [
       "\n",
       "            <div>\n",
       "                <p><b>SparkSession - in-memory</b></p>\n",
       "                \n",
       "        <div>\n",
       "            <p><b>SparkContext</b></p>\n",
       "\n",
       "            <p><a href=\"http://bd-master.newprolab.com:4043\">Spark UI</a></p>\n",
       "\n",
       "            <dl>\n",
       "              <dt>Version</dt>\n",
       "                <dd><code>v2.4.7</code></dd>\n",
       "              <dt>Master</dt>\n",
       "                <dd><code>yarn</code></dd>\n",
       "              <dt>AppName</dt>\n",
       "                <dd><code>natasha pritykovskaya Hyperparameters</code></dd>\n",
       "            </dl>\n",
       "        </div>\n",
       "        \n",
       "            </div>\n",
       "        "
      ],
      "text/plain": [
       "<pyspark.sql.session.SparkSession at 0x7febc4965dd8>"
      ]
     },
     "execution_count": 3,
     "metadata": {},
     "output_type": "execute_result"
    }
   ],
   "source": [
    "spark"
   ]
  },
  {
   "cell_type": "code",
   "execution_count": 7,
   "metadata": {},
   "outputs": [],
   "source": [
    "import pandas as pd"
   ]
  },
  {
   "cell_type": "code",
   "execution_count": 8,
   "metadata": {},
   "outputs": [],
   "source": [
    "pdf = pd.read_csv(\"diamonds.csv\", header=0).iloc[:,1:]"
   ]
  },
  {
   "cell_type": "code",
   "execution_count": 9,
   "metadata": {},
   "outputs": [
    {
     "data": {
      "text/html": [
       "<div>\n",
       "<style scoped>\n",
       "    .dataframe tbody tr th:only-of-type {\n",
       "        vertical-align: middle;\n",
       "    }\n",
       "\n",
       "    .dataframe tbody tr th {\n",
       "        vertical-align: top;\n",
       "    }\n",
       "\n",
       "    .dataframe thead th {\n",
       "        text-align: right;\n",
       "    }\n",
       "</style>\n",
       "<table border=\"1\" class=\"dataframe\">\n",
       "  <thead>\n",
       "    <tr style=\"text-align: right;\">\n",
       "      <th></th>\n",
       "      <th>carat</th>\n",
       "      <th>cut</th>\n",
       "      <th>color</th>\n",
       "      <th>clarity</th>\n",
       "      <th>depth</th>\n",
       "      <th>table</th>\n",
       "      <th>price</th>\n",
       "      <th>x</th>\n",
       "      <th>y</th>\n",
       "      <th>z</th>\n",
       "    </tr>\n",
       "  </thead>\n",
       "  <tbody>\n",
       "    <tr>\n",
       "      <th>0</th>\n",
       "      <td>0.23</td>\n",
       "      <td>Ideal</td>\n",
       "      <td>E</td>\n",
       "      <td>SI2</td>\n",
       "      <td>61.5</td>\n",
       "      <td>55.0</td>\n",
       "      <td>326</td>\n",
       "      <td>3.95</td>\n",
       "      <td>3.98</td>\n",
       "      <td>2.43</td>\n",
       "    </tr>\n",
       "    <tr>\n",
       "      <th>1</th>\n",
       "      <td>0.21</td>\n",
       "      <td>Premium</td>\n",
       "      <td>E</td>\n",
       "      <td>SI1</td>\n",
       "      <td>59.8</td>\n",
       "      <td>61.0</td>\n",
       "      <td>326</td>\n",
       "      <td>3.89</td>\n",
       "      <td>3.84</td>\n",
       "      <td>2.31</td>\n",
       "    </tr>\n",
       "    <tr>\n",
       "      <th>2</th>\n",
       "      <td>0.23</td>\n",
       "      <td>Good</td>\n",
       "      <td>E</td>\n",
       "      <td>VS1</td>\n",
       "      <td>56.9</td>\n",
       "      <td>65.0</td>\n",
       "      <td>327</td>\n",
       "      <td>4.05</td>\n",
       "      <td>4.07</td>\n",
       "      <td>2.31</td>\n",
       "    </tr>\n",
       "    <tr>\n",
       "      <th>3</th>\n",
       "      <td>0.29</td>\n",
       "      <td>Premium</td>\n",
       "      <td>I</td>\n",
       "      <td>VS2</td>\n",
       "      <td>62.4</td>\n",
       "      <td>58.0</td>\n",
       "      <td>334</td>\n",
       "      <td>4.20</td>\n",
       "      <td>4.23</td>\n",
       "      <td>2.63</td>\n",
       "    </tr>\n",
       "    <tr>\n",
       "      <th>4</th>\n",
       "      <td>0.31</td>\n",
       "      <td>Good</td>\n",
       "      <td>J</td>\n",
       "      <td>SI2</td>\n",
       "      <td>63.3</td>\n",
       "      <td>58.0</td>\n",
       "      <td>335</td>\n",
       "      <td>4.34</td>\n",
       "      <td>4.35</td>\n",
       "      <td>2.75</td>\n",
       "    </tr>\n",
       "  </tbody>\n",
       "</table>\n",
       "</div>"
      ],
      "text/plain": [
       "   carat      cut color clarity  depth  table  price     x     y     z\n",
       "0   0.23    Ideal     E     SI2   61.5   55.0    326  3.95  3.98  2.43\n",
       "1   0.21  Premium     E     SI1   59.8   61.0    326  3.89  3.84  2.31\n",
       "2   0.23     Good     E     VS1   56.9   65.0    327  4.05  4.07  2.31\n",
       "3   0.29  Premium     I     VS2   62.4   58.0    334  4.20  4.23  2.63\n",
       "4   0.31     Good     J     SI2   63.3   58.0    335  4.34  4.35  2.75"
      ]
     },
     "execution_count": 9,
     "metadata": {},
     "output_type": "execute_result"
    }
   ],
   "source": [
    "pdf.head()"
   ]
  },
  {
   "cell_type": "markdown",
   "metadata": {},
   "source": [
    "## Feature engineering"
   ]
  },
  {
   "cell_type": "code",
   "execution_count": 10,
   "metadata": {},
   "outputs": [
    {
     "data": {
      "text/html": [
       "<div>\n",
       "<style scoped>\n",
       "    .dataframe tbody tr th:only-of-type {\n",
       "        vertical-align: middle;\n",
       "    }\n",
       "\n",
       "    .dataframe tbody tr th {\n",
       "        vertical-align: top;\n",
       "    }\n",
       "\n",
       "    .dataframe thead th {\n",
       "        text-align: right;\n",
       "    }\n",
       "</style>\n",
       "<table border=\"1\" class=\"dataframe\">\n",
       "  <thead>\n",
       "    <tr style=\"text-align: right;\">\n",
       "      <th></th>\n",
       "      <th>carat</th>\n",
       "      <th>cut</th>\n",
       "      <th>color</th>\n",
       "      <th>clarity</th>\n",
       "      <th>depth</th>\n",
       "      <th>table</th>\n",
       "      <th>price</th>\n",
       "      <th>x</th>\n",
       "      <th>y</th>\n",
       "      <th>z</th>\n",
       "    </tr>\n",
       "  </thead>\n",
       "  <tbody>\n",
       "    <tr>\n",
       "      <th>0</th>\n",
       "      <td>0.23</td>\n",
       "      <td>4</td>\n",
       "      <td>5</td>\n",
       "      <td>2</td>\n",
       "      <td>61.5</td>\n",
       "      <td>55.0</td>\n",
       "      <td>326</td>\n",
       "      <td>3.95</td>\n",
       "      <td>3.98</td>\n",
       "      <td>2.43</td>\n",
       "    </tr>\n",
       "    <tr>\n",
       "      <th>1</th>\n",
       "      <td>0.21</td>\n",
       "      <td>3</td>\n",
       "      <td>5</td>\n",
       "      <td>1</td>\n",
       "      <td>59.8</td>\n",
       "      <td>61.0</td>\n",
       "      <td>326</td>\n",
       "      <td>3.89</td>\n",
       "      <td>3.84</td>\n",
       "      <td>2.31</td>\n",
       "    </tr>\n",
       "    <tr>\n",
       "      <th>2</th>\n",
       "      <td>0.23</td>\n",
       "      <td>1</td>\n",
       "      <td>5</td>\n",
       "      <td>3</td>\n",
       "      <td>56.9</td>\n",
       "      <td>65.0</td>\n",
       "      <td>327</td>\n",
       "      <td>4.05</td>\n",
       "      <td>4.07</td>\n",
       "      <td>2.31</td>\n",
       "    </tr>\n",
       "    <tr>\n",
       "      <th>3</th>\n",
       "      <td>0.29</td>\n",
       "      <td>3</td>\n",
       "      <td>1</td>\n",
       "      <td>4</td>\n",
       "      <td>62.4</td>\n",
       "      <td>58.0</td>\n",
       "      <td>334</td>\n",
       "      <td>4.20</td>\n",
       "      <td>4.23</td>\n",
       "      <td>2.63</td>\n",
       "    </tr>\n",
       "    <tr>\n",
       "      <th>4</th>\n",
       "      <td>0.31</td>\n",
       "      <td>1</td>\n",
       "      <td>0</td>\n",
       "      <td>2</td>\n",
       "      <td>63.3</td>\n",
       "      <td>58.0</td>\n",
       "      <td>335</td>\n",
       "      <td>4.34</td>\n",
       "      <td>4.35</td>\n",
       "      <td>2.75</td>\n",
       "    </tr>\n",
       "  </tbody>\n",
       "</table>\n",
       "</div>"
      ],
      "text/plain": [
       "   carat  cut  color  clarity  depth  table  price     x     y     z\n",
       "0   0.23    4      5        2   61.5   55.0    326  3.95  3.98  2.43\n",
       "1   0.21    3      5        1   59.8   61.0    326  3.89  3.84  2.31\n",
       "2   0.23    1      5        3   56.9   65.0    327  4.05  4.07  2.31\n",
       "3   0.29    3      1        4   62.4   58.0    334  4.20  4.23  2.63\n",
       "4   0.31    1      0        2   63.3   58.0    335  4.34  4.35  2.75"
      ]
     },
     "execution_count": 10,
     "metadata": {},
     "output_type": "execute_result"
    }
   ],
   "source": [
    "pdf['cut'] = pdf['cut'].replace({'Fair': 0, 'Good': 1, 'Very Good': 2, 'Premium': 3, 'Ideal': 4})\n",
    "pdf['color'] = pdf['color'].replace({'J': 0, 'I': 1, 'H': 2, 'G': 3, 'F': 4, 'E': 5, 'D': 6})\n",
    "pdf['clarity'] = pdf['clarity'].replace({'I1': 0, 'SI1': 1, 'SI2': 2, 'VS1': 3, 'VS2': 4, 'VVS1': 5, 'VVS2': 6, 'IF': 7})\n",
    "pdf.head()"
   ]
  },
  {
   "cell_type": "code",
   "execution_count": 11,
   "metadata": {},
   "outputs": [],
   "source": [
    "labels = pdf['price'].values\n",
    "featureNames = ['carat', 'cut', 'color', 'clarity', 'depth', 'table', 'x', 'y', 'z']\n",
    "features = pdf[featureNames].values"
   ]
  },
  {
   "cell_type": "code",
   "execution_count": 12,
   "metadata": {},
   "outputs": [
    {
     "data": {
      "text/plain": [
       "array([[0.00106702, 0.00553547, 0.005655  , ..., 0.0029123 , 0.00293078,\n",
       "        0.00289958],\n",
       "       [0.00097424, 0.0041516 , 0.005655  , ..., 0.00286806, 0.00282769,\n",
       "        0.00275639],\n",
       "       [0.00106702, 0.00138387, 0.005655  , ..., 0.00298603, 0.00299705,\n",
       "        0.00275639],\n",
       "       ...,\n",
       "       [0.00324745, 0.00276773, 0.006786  , ..., 0.00417307, 0.00418262,\n",
       "        0.00424794],\n",
       "       [0.00398973, 0.0041516 , 0.002262  , ..., 0.00453434, 0.00450662,\n",
       "        0.00446272],\n",
       "       [0.00347941, 0.00553547, 0.006786  , ..., 0.0042984 , 0.00432253,\n",
       "        0.0043434 ]])"
      ]
     },
     "execution_count": 12,
     "metadata": {},
     "output_type": "execute_result"
    }
   ],
   "source": [
    "from sklearn.preprocessing import normalize\n",
    "features = normalize(features, axis=0)\n",
    "features"
   ]
  },
  {
   "cell_type": "markdown",
   "metadata": {},
   "source": [
    "## Parameter tuning со Spark\n",
    "\n",
    "Parameter tuning - это задача тьюнинга (гипер) параметров ML алгоритма с целью повысить качество модели. Тренируются различные модели (каждая со своим набором параметров) на одном и том же наборе данных, и далее все полученные модели тестируются на одном и том же отложенном наборе данных, что снижает риск переобучения.\n",
    "\n",
    "k-fold cross validation:\n",
    "\n",
    "\n",
    " - Случайным образом разбиваем данные на к равных частей (\"folds\")\n",
    "     -  i = 1, 2, ..., k, откладываем набор данных i как validation set.\n",
    "     -  training set - все кроме i\n",
    "\n",
    "     -  для каждого набора параметров тренируем модель, подсчитываем ошибку на k различных validation set, усредняем, находим лучший набор параметров\n",
    "\n",
    " - Тренируем модель с лучшим набором параметров на всех данных "
   ]
  },
  {
   "cell_type": "markdown",
   "metadata": {},
   "source": [
    "\n",
    "Для каждой пары (fold, parameter set) можно обучать модель независимо от всех остальных. Мы распараллелим эти задания: scikit-learn будет обучать модель на каждом executor'е. Это параллелизация очень эффективна, так как обучение моделей - самая вычислительно сложная часть ML workflow.\n",
    "\n",
    "Если используются k фолдов и P различных наборов параметров, то во сколько раз можно ускорить вычисление при неограниченном кол-ве ресурсов?\n"
   ]
  },
  {
   "cell_type": "markdown",
   "metadata": {},
   "source": [
    "### Отложим random test set\n"
   ]
  },
  {
   "cell_type": "code",
   "execution_count": 13,
   "metadata": {},
   "outputs": [],
   "source": [
    "import sklearn"
   ]
  },
  {
   "cell_type": "code",
   "execution_count": 14,
   "metadata": {},
   "outputs": [
    {
     "name": "stdout",
     "output_type": "stream",
     "text": [
      "Split data randomly into 2 sets: 37758 training and 16182 test instances.\n"
     ]
    }
   ],
   "source": [
    "from sklearn.model_selection import train_test_split\n",
    "\n",
    "trainingLabels, testLabels, trainingFeatures, testFeatures = train_test_split(labels, features, test_size=0.3)\n",
    "ntrain, ntest = len(trainingLabels), len(testLabels)\n",
    "print('Split data randomly into 2 sets: %d training and %d test instances.' % (ntrain, ntest))"
   ]
  },
  {
   "cell_type": "markdown",
   "metadata": {},
   "source": [
    "### Разобьем данные и определим таски, которые будем параллелизировать\n",
    "Каждое распределенное задание это пара - (fold, parameter set) pair."
   ]
  },
  {
   "cell_type": "code",
   "execution_count": 15,
   "metadata": {},
   "outputs": [],
   "source": [
    "from sklearn.model_selection import KFold\n",
    "numFolds = 3 # more (10 or so) in practice\n",
    "kf = KFold(n_splits=numFolds)"
   ]
  },
  {
   "cell_type": "code",
   "execution_count": 34,
   "metadata": {},
   "outputs": [
    {
     "name": "stdout",
     "output_type": "stream",
     "text": [
      "Shape train (25172, 9)\n",
      "Shape val (12586, 9)\n",
      "Shape train (25172, 9)\n",
      "Shape val (12586, 9)\n",
      "Shape train (25172, 9)\n",
      "Shape val (12586, 9)\n"
     ]
    }
   ],
   "source": [
    "for trainIndex_, valIndex_  in kf.split(trainingFeatures):\n",
    "    print(\"Shape train \" + str(trainingFeatures[trainIndex_].shape))\n",
    "    print(\"Shape val \" +  str(trainingFeatures[valIndex_].shape))"
   ]
  },
  {
   "cell_type": "code",
   "execution_count": 17,
   "metadata": {},
   "outputs": [],
   "source": [
    "alphas = [0.0, 0.0001, 0.001, 0.01, 0.1, 1.0, 10.0, 100.0, 1000.0]\n",
    "tasks = []\n",
    "for alpha in alphas:\n",
    "    for fold in range(numFolds):\n",
    "        tasks = tasks + [(alpha, fold)]"
   ]
  },
  {
   "cell_type": "code",
   "execution_count": 18,
   "metadata": {},
   "outputs": [
    {
     "data": {
      "text/plain": [
       "[(0.0, 0),\n",
       " (0.0, 1),\n",
       " (0.0, 2),\n",
       " (0.0001, 0),\n",
       " (0.0001, 1),\n",
       " (0.0001, 2),\n",
       " (0.001, 0),\n",
       " (0.001, 1),\n",
       " (0.001, 2),\n",
       " (0.01, 0),\n",
       " (0.01, 1),\n",
       " (0.01, 2),\n",
       " (0.1, 0),\n",
       " (0.1, 1),\n",
       " (0.1, 2),\n",
       " (1.0, 0),\n",
       " (1.0, 1),\n",
       " (1.0, 2),\n",
       " (10.0, 0),\n",
       " (10.0, 1),\n",
       " (10.0, 2),\n",
       " (100.0, 0),\n",
       " (100.0, 1),\n",
       " (100.0, 2),\n",
       " (1000.0, 0),\n",
       " (1000.0, 1),\n",
       " (1000.0, 2)]"
      ]
     },
     "execution_count": 18,
     "metadata": {},
     "output_type": "execute_result"
    }
   ],
   "source": [
    "tasks"
   ]
  },
  {
   "cell_type": "code",
   "execution_count": 19,
   "metadata": {},
   "outputs": [
    {
     "data": {
      "text/plain": [
       "27"
      ]
     },
     "execution_count": 19,
     "metadata": {},
     "output_type": "execute_result"
    }
   ],
   "source": [
    "len(tasks)"
   ]
  },
  {
   "cell_type": "code",
   "execution_count": 21,
   "metadata": {},
   "outputs": [],
   "source": [
    "sc = spark.sparkContext"
   ]
  },
  {
   "cell_type": "code",
   "execution_count": 22,
   "metadata": {},
   "outputs": [],
   "source": [
    "tasksRDD = sc.parallelize(tasks, numSlices = len(tasks))"
   ]
  },
  {
   "cell_type": "code",
   "execution_count": 23,
   "metadata": {},
   "outputs": [
    {
     "data": {
      "text/plain": [
       "27"
      ]
     },
     "execution_count": 23,
     "metadata": {},
     "output_type": "execute_result"
    }
   ],
   "source": [
    "tasksRDD.getNumPartitions()"
   ]
  },
  {
   "cell_type": "markdown",
   "metadata": {},
   "source": [
    "### Broadcast dataset"
   ]
  },
  {
   "cell_type": "code",
   "execution_count": 24,
   "metadata": {},
   "outputs": [],
   "source": [
    "trainingFeaturesBroadcast = sc.broadcast(trainingFeatures)\n",
    "trainingLabelsBroadcast = sc.broadcast(trainingLabels)"
   ]
  },
  {
   "cell_type": "markdown",
   "metadata": {},
   "source": [
    "### Запустим параллельную cross-validation\n",
    "\n",
    "Определим функцию, которая будет запускаться на каждом worker'e, эта функция берет одну пару (1 hyperparameter alpha value + 1 fold index) и тренируем соотвествующую модель. Используем RDD.map для этого."
   ]
  },
  {
   "cell_type": "code",
   "execution_count": 35,
   "metadata": {},
   "outputs": [],
   "source": [
    "from sklearn import linear_model\n",
    "\n",
    "def trainOneModel(alpha, fold):\n",
    "    \"\"\"\n",
    "    Given 1 task (1 hyperparameter alpha value + 1 fold index), \n",
    "    train the corresponding model.\n",
    "    \n",
    "    Return: model, score on the fold's test data, task info.\n",
    "    \"\"\"\n",
    "    localTrainingFeatures = trainingFeaturesBroadcast.value\n",
    "    localTrainingLabels = trainingLabelsBroadcast.value\n",
    "    trainIndex, valIndex = [], []\n",
    "    fold_ = 0 \n",
    "    \n",
    "    for trainIndex_, valIndex_ in kf.split(localTrainingFeatures):\n",
    "        if fold_ == fold:\n",
    "            trainIndex, valIndex = trainIndex_, valIndex_\n",
    "            break\n",
    "        fold_ += 1\n",
    "    X_train, X_val = localTrainingFeatures[trainIndex], localTrainingFeatures[valIndex]\n",
    "    Y_train, Y_val = localTrainingLabels[trainIndex], localTrainingLabels[valIndex]\n",
    "\n",
    "    clf = linear_model.Ridge(alpha=alpha)\n",
    "    clf.fit(X_train, Y_train)\n",
    "    score = clf.score(X_val, Y_val)\n",
    "    return clf, score, alpha, fold"
   ]
  },
  {
   "cell_type": "code",
   "execution_count": 36,
   "metadata": {},
   "outputs": [
    {
     "data": {
      "text/plain": [
       "27"
      ]
     },
     "execution_count": 36,
     "metadata": {},
     "output_type": "execute_result"
    }
   ],
   "source": [
    "trainedModelAndScores = tasksRDD.map(lambda alpha_fold: trainOneModel(alpha_fold[0], alpha_fold[1]))\n",
    "trainedModelAndScores.cache()\n",
    "trainedModelAndScores.count()"
   ]
  },
  {
   "cell_type": "code",
   "execution_count": 37,
   "metadata": {},
   "outputs": [],
   "source": [
    "trainingFeaturesBroadcast.unpersist()\n",
    "trainingLabelsBroadcast.unpersist()"
   ]
  },
  {
   "cell_type": "markdown",
   "metadata": {},
   "source": [
    "### Соберем результаты для лучшей hyperparameter alpha"
   ]
  },
  {
   "cell_type": "code",
   "execution_count": 38,
   "metadata": {},
   "outputs": [],
   "source": [
    "allScores = trainedModelAndScores.map(lambda x: (x[1], x[2], x[3])).collect()\n",
    "avgScores = dict(map(lambda alpha: (alpha, 0.0), alphas))"
   ]
  },
  {
   "cell_type": "code",
   "execution_count": 39,
   "metadata": {},
   "outputs": [
    {
     "data": {
      "text/plain": [
       "[(0.8949694972327946, 0.0, 0),\n",
       " (0.8899219450629374, 0.0, 1),\n",
       " (0.892972403259172, 0.0, 2),\n",
       " (0.8950170602987831, 0.0001, 0),\n",
       " (0.8925033567715434, 0.0001, 1),\n",
       " (0.892670797821387, 0.0001, 2),\n",
       " (0.8929740935442487, 0.001, 0),\n",
       " (0.8894317800192453, 0.001, 1),\n",
       " (0.8906300460432877, 0.001, 2),\n",
       " (0.8797613010847548, 0.01, 0),\n",
       " (0.8742826032125341, 0.01, 1),\n",
       " (0.8794463751181155, 0.01, 2),\n",
       " (0.7320493489333039, 0.1, 0),\n",
       " (0.719806710665414, 0.1, 1),\n",
       " (0.7343544125160528, 0.1, 2),\n",
       " (0.22759389448245715, 1.0, 0),\n",
       " (0.22325716556097774, 1.0, 1),\n",
       " (0.22981292673388476, 1.0, 2),\n",
       " (0.02833874911638734, 10.0, 0),\n",
       " (0.02751163418803171, 10.0, 1),\n",
       " (0.028507979737752317, 10.0, 2),\n",
       " (0.002879267184887624, 100.0, 0),\n",
       " (0.0024678450328748935, 100.0, 1),\n",
       " (0.0027261788463880388, 100.0, 2),\n",
       " (0.0002635102993848726, 1000.0, 0),\n",
       " (-0.00010567104145153827, 1000.0, 1),\n",
       " (7.658548496891626e-05, 1000.0, 2)]"
      ]
     },
     "execution_count": 39,
     "metadata": {},
     "output_type": "execute_result"
    }
   ],
   "source": [
    "allScores"
   ]
  },
  {
   "cell_type": "code",
   "execution_count": 40,
   "metadata": {},
   "outputs": [
    {
     "data": {
      "text/plain": [
       "{0.0: 0.0,\n",
       " 0.0001: 0.0,\n",
       " 0.001: 0.0,\n",
       " 0.01: 0.0,\n",
       " 0.1: 0.0,\n",
       " 1.0: 0.0,\n",
       " 10.0: 0.0,\n",
       " 100.0: 0.0,\n",
       " 1000.0: 0.0}"
      ]
     },
     "execution_count": 40,
     "metadata": {},
     "output_type": "execute_result"
    }
   ],
   "source": [
    "avgScores"
   ]
  },
  {
   "cell_type": "code",
   "execution_count": 41,
   "metadata": {},
   "outputs": [
    {
     "data": {
      "text/plain": [
       "{0.0: 0.8926212818516347,\n",
       " 0.0001: 0.8933970716305711,\n",
       " 0.001: 0.8910119732022604,\n",
       " 0.01: 0.877830093138468,\n",
       " 0.1: 0.7287368240382568,\n",
       " 1.0: 0.22688799559243988,\n",
       " 10.0: 0.028119454347390455,\n",
       " 100.0: 0.0026910970213835186,\n",
       " 1000.0: 7.814158096741686e-05}"
      ]
     },
     "execution_count": 41,
     "metadata": {},
     "output_type": "execute_result"
    }
   ],
   "source": [
    "for score, alpha, fold in allScores:\n",
    "    avgScores[alpha] += score\n",
    "for alpha in alphas:\n",
    "    avgScores[alpha] /= numFolds\n",
    "avgScores"
   ]
  },
  {
   "cell_type": "markdown",
   "metadata": {},
   "source": [
    "Теперь у нас есть список alpha values с соотвествующими средними scores, найдем среди них лучший."
   ]
  },
  {
   "cell_type": "code",
   "execution_count": 42,
   "metadata": {},
   "outputs": [
    {
     "name": "stdout",
     "output_type": "stream",
     "text": [
      "Found best alpha: 0.0001, which gives score: 0.893397\n"
     ]
    }
   ],
   "source": [
    "# Find best score\n",
    "bestAlpha = -1\n",
    "bestScore = -1\n",
    "for alpha in alphas:\n",
    "    if avgScores[alpha] > bestScore:\n",
    "        bestAlpha = alpha\n",
    "        bestScore = avgScores[alpha]\n",
    "print('Found best alpha: %g, which gives score: %g' % (bestAlpha, bestScore))"
   ]
  },
  {
   "cell_type": "markdown",
   "metadata": {},
   "source": [
    "### Обучим финальную модель с лучшим набором гиперпараметров\n",
    "\n",
    "Так это только 1 таск, то запустим его на драйвере."
   ]
  },
  {
   "cell_type": "code",
   "execution_count": 43,
   "metadata": {},
   "outputs": [
    {
     "data": {
      "text/plain": [
       "Ridge(alpha=0.0001, copy_X=True, fit_intercept=True, max_iter=None,\n",
       "   normalize=False, random_state=None, solver='auto', tol=0.001)"
      ]
     },
     "execution_count": 43,
     "metadata": {},
     "output_type": "execute_result"
    }
   ],
   "source": [
    "# Use bestAlpha, and train a final model.\n",
    "tunedClf = linear_model.Ridge(alpha=bestAlpha)\n",
    "tunedClf.fit(trainingFeatures, trainingLabels)"
   ]
  },
  {
   "cell_type": "code",
   "execution_count": null,
   "metadata": {},
   "outputs": [],
   "source": [
    "spark.stop()"
   ]
  },
  {
   "cell_type": "code",
   "execution_count": null,
   "metadata": {},
   "outputs": [],
   "source": []
  }
 ],
 "metadata": {
  "kernelspec": {
   "display_name": "Python 3",
   "language": "python",
   "name": "python3"
  },
  "language_info": {
   "codemirror_mode": {
    "name": "ipython",
    "version": 3
   },
   "file_extension": ".py",
   "mimetype": "text/x-python",
   "name": "python",
   "nbconvert_exporter": "python",
   "pygments_lexer": "ipython3",
   "version": "3.6.5"
  }
 },
 "nbformat": 4,
 "nbformat_minor": 2
}
