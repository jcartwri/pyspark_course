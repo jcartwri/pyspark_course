{
 "cells": [
  {
   "cell_type": "code",
   "execution_count": 2,
   "metadata": {},
   "outputs": [],
   "source": [
    "import os\n",
    "import sys\n",
    "os.environ[\"PYSPARK_SUBMIT_ARGS\"]='pyspark-shell'\n",
    "os.environ[\"PYSPARK_PYTHON\"]='/opt/anaconda/envs/bd9/bin/python'\n",
    "os.environ[\"SPARK_HOME\"]='/usr/hdp/current/spark2-client'\n",
    "\n",
    "spark_home = os.environ.get('SPARK_HOME', None)\n",
    "if not spark_home:\n",
    "    raise ValueError('SPARK_HOME environment variable is not set')\n",
    "sys.path.insert(0, os.path.join(spark_home, 'python'))\n",
    "sys.path.insert(0, os.path.join(spark_home, 'python/lib/py4j-0.10.7-src.zip'))"
   ]
  },
  {
   "cell_type": "code",
   "execution_count": 3,
   "metadata": {},
   "outputs": [],
   "source": [
    "from pyspark import SparkConf\n",
    "from pyspark.sql import SparkSession\n",
    "\n",
    "conf = SparkConf()\n",
    "conf.set(\"spark.app.name\", \"natasha pritykovskaya Custom Estimator\") \n",
    "\n",
    "spark = SparkSession.builder.config(conf=conf).getOrCreate()"
   ]
  },
  {
   "cell_type": "code",
   "execution_count": 4,
   "metadata": {},
   "outputs": [
    {
     "data": {
      "text/html": [
       "\n",
       "            <div>\n",
       "                <p><b>SparkSession - in-memory</b></p>\n",
       "                \n",
       "        <div>\n",
       "            <p><b>SparkContext</b></p>\n",
       "\n",
       "            <p><a href=\"http://bd-master.newprolab.com:4044\">Spark UI</a></p>\n",
       "\n",
       "            <dl>\n",
       "              <dt>Version</dt>\n",
       "                <dd><code>v2.4.7</code></dd>\n",
       "              <dt>Master</dt>\n",
       "                <dd><code>yarn</code></dd>\n",
       "              <dt>AppName</dt>\n",
       "                <dd><code>natasha pritykovskaya Custom Estimator</code></dd>\n",
       "            </dl>\n",
       "        </div>\n",
       "        \n",
       "            </div>\n",
       "        "
      ],
      "text/plain": [
       "<pyspark.sql.session.SparkSession at 0x7f7b94bd1c88>"
      ]
     },
     "execution_count": 4,
     "metadata": {},
     "output_type": "execute_result"
    }
   ],
   "source": [
    "spark"
   ]
  },
  {
   "cell_type": "code",
   "execution_count": 5,
   "metadata": {},
   "outputs": [],
   "source": [
    "from pyspark.ml import Estimator"
   ]
  },
  {
   "cell_type": "code",
   "execution_count": 6,
   "metadata": {},
   "outputs": [],
   "source": [
    "from sklearn.linear_model import LogisticRegression"
   ]
  },
  {
   "cell_type": "code",
   "execution_count": 7,
   "metadata": {},
   "outputs": [],
   "source": [
    "from sklearn.datasets import make_classification"
   ]
  },
  {
   "cell_type": "code",
   "execution_count": 8,
   "metadata": {},
   "outputs": [],
   "source": [
    "from sklearn.model_selection import train_test_split"
   ]
  },
  {
   "cell_type": "code",
   "execution_count": 9,
   "metadata": {},
   "outputs": [],
   "source": [
    "X, y = make_classification(random_state=5757)"
   ]
  },
  {
   "cell_type": "code",
   "execution_count": 10,
   "metadata": {},
   "outputs": [
    {
     "data": {
      "text/plain": [
       "(100,)"
      ]
     },
     "execution_count": 10,
     "metadata": {},
     "output_type": "execute_result"
    }
   ],
   "source": [
    "y.shape"
   ]
  },
  {
   "cell_type": "code",
   "execution_count": 11,
   "metadata": {},
   "outputs": [],
   "source": [
    "X_train, X_test, y_train, y_test = train_test_split(X, y, test_size=0.2, random_state=5757)"
   ]
  },
  {
   "cell_type": "code",
   "execution_count": 12,
   "metadata": {},
   "outputs": [
    {
     "data": {
      "text/plain": [
       "(80, 20)"
      ]
     },
     "execution_count": 12,
     "metadata": {},
     "output_type": "execute_result"
    }
   ],
   "source": [
    "X_train.shape"
   ]
  },
  {
   "cell_type": "code",
   "execution_count": 13,
   "metadata": {},
   "outputs": [],
   "source": [
    "est = LogisticRegression(random_state=5757)"
   ]
  },
  {
   "cell_type": "code",
   "execution_count": 14,
   "metadata": {},
   "outputs": [
    {
     "data": {
      "text/plain": [
       "LogisticRegression(C=1.0, class_weight=None, dual=False, fit_intercept=True,\n",
       "          intercept_scaling=1, max_iter=100, multi_class='ovr', n_jobs=1,\n",
       "          penalty='l2', random_state=5757, solver='liblinear', tol=0.0001,\n",
       "          verbose=0, warm_start=False)"
      ]
     },
     "execution_count": 14,
     "metadata": {},
     "output_type": "execute_result"
    }
   ],
   "source": [
    "est.fit(X_train, y_train)"
   ]
  },
  {
   "cell_type": "code",
   "execution_count": 15,
   "metadata": {},
   "outputs": [],
   "source": [
    "from pyspark.ml.linalg import DenseVector"
   ]
  },
  {
   "cell_type": "code",
   "execution_count": 16,
   "metadata": {},
   "outputs": [],
   "source": [
    "from pyspark.sql.types import StructType, IntegerType, StructField, FloatType, ArrayType\n",
    "from pyspark.ml.linalg import VectorUDT"
   ]
  },
  {
   "cell_type": "code",
   "execution_count": 17,
   "metadata": {},
   "outputs": [
    {
     "data": {
      "text/plain": [
       "numpy.ndarray"
      ]
     },
     "execution_count": 17,
     "metadata": {},
     "output_type": "execute_result"
    }
   ],
   "source": [
    "type(X_test)"
   ]
  },
  {
   "cell_type": "code",
   "execution_count": 18,
   "metadata": {},
   "outputs": [
    {
     "data": {
      "text/plain": [
       "DenseVector([0.1671, 2.2893, 2.2519, -0.3188, -1.2869, -0.5163, 0.8432, -1.6526, 1.4384, -0.1379, -0.2343, 0.4912, -0.2036, -1.2666, 1.1291, -0.0674, 2.6995, 0.87, 0.3678, 0.1223])"
      ]
     },
     "execution_count": 18,
     "metadata": {},
     "output_type": "execute_result"
    }
   ],
   "source": [
    "DenseVector(X_test[0])"
   ]
  },
  {
   "cell_type": "markdown",
   "metadata": {},
   "source": [
    "## Способ №1, правильный, но не работает :("
   ]
  },
  {
   "cell_type": "code",
   "execution_count": 19,
   "metadata": {},
   "outputs": [],
   "source": [
    "schema = StructType(fields=[\n",
    "    StructField(\"features\", VectorUDT()),\n",
    "    StructField(\"label\", IntegerType())\n",
    "])"
   ]
  },
  {
   "cell_type": "code",
   "execution_count": 20,
   "metadata": {},
   "outputs": [],
   "source": [
    "df_test = spark.createDataFrame(zip(map(DenseVector, X_test), map(int, y_test)), schema=schema)"
   ]
  },
  {
   "cell_type": "code",
   "execution_count": 21,
   "metadata": {},
   "outputs": [
    {
     "name": "stdout",
     "output_type": "stream",
     "text": [
      "+--------------------+-----+\n",
      "|            features|label|\n",
      "+--------------------+-----+\n",
      "|[0.16713128673558...|    0|\n",
      "|[2.50158633810562...|    0|\n",
      "|[-0.7699917522248...|    0|\n",
      "|[-0.9514898817744...|    0|\n",
      "|[1.32598926517448...|    0|\n",
      "|[-0.5091954518113...|    0|\n",
      "|[-0.9442948966018...|    1|\n",
      "|[0.53537784380006...|    1|\n",
      "|[-1.9316295195085...|    0|\n",
      "|[-0.8788162423442...|    1|\n",
      "|[0.47792785291472...|    1|\n",
      "|[-0.7537969085613...|    1|\n",
      "|[-0.1103342853056...|    0|\n",
      "|[0.21903394455633...|    1|\n",
      "|[-0.7010314631582...|    1|\n",
      "|[-0.4024860125426...|    1|\n",
      "|[1.91508615582208...|    1|\n",
      "|[1.03957987692160...|    1|\n",
      "|[-1.9962336859493...|    1|\n",
      "|[0.03293939843484...|    1|\n",
      "+--------------------+-----+\n",
      "\n"
     ]
    }
   ],
   "source": [
    "df_test.show()"
   ]
  },
  {
   "cell_type": "code",
   "execution_count": 22,
   "metadata": {},
   "outputs": [],
   "source": [
    "est_broadcast = spark.sparkContext.broadcast(est)"
   ]
  },
  {
   "cell_type": "code",
   "execution_count": 23,
   "metadata": {},
   "outputs": [],
   "source": [
    "import pyspark.sql.functions as f"
   ]
  },
  {
   "cell_type": "code",
   "execution_count": 24,
   "metadata": {},
   "outputs": [],
   "source": [
    "@f.pandas_udf(FloatType())\n",
    "def predict(series):\n",
    "    predictions = est_broadcast.value.predict(series)\n",
    "    return pd.Series(predictions)"
   ]
  },
  {
   "cell_type": "code",
   "execution_count": 25,
   "metadata": {},
   "outputs": [
    {
     "ename": "Py4JJavaError",
     "evalue": "An error occurred while calling o112.showString.\n: org.apache.spark.SparkException: Job aborted due to stage failure: Task 0 in stage 2.0 failed 4 times, most recent failure: Lost task 0.3 in stage 2.0 (TID 8, bd-node4.newprolab.com, executor 1): java.lang.UnsupportedOperationException: Unsupported data type: struct<type:tinyint,size:int,indices:array<int>,values:array<double>>\n\tat org.apache.spark.sql.execution.arrow.ArrowUtils$.toArrowType(ArrowUtils.scala:56)\n\tat org.apache.spark.sql.execution.arrow.ArrowUtils$.toArrowField(ArrowUtils.scala:92)\n\tat org.apache.spark.sql.execution.arrow.ArrowUtils$$anonfun$toArrowSchema$1.apply(ArrowUtils.scala:116)\n\tat org.apache.spark.sql.execution.arrow.ArrowUtils$$anonfun$toArrowSchema$1.apply(ArrowUtils.scala:115)\n\tat scala.collection.TraversableLike$$anonfun$map$1.apply(TraversableLike.scala:234)\n\tat scala.collection.TraversableLike$$anonfun$map$1.apply(TraversableLike.scala:234)\n\tat scala.collection.Iterator$class.foreach(Iterator.scala:891)\n\tat scala.collection.AbstractIterator.foreach(Iterator.scala:1334)\n\tat scala.collection.IterableLike$class.foreach(IterableLike.scala:72)\n\tat org.apache.spark.sql.types.StructType.foreach(StructType.scala:99)\n\tat scala.collection.TraversableLike$class.map(TraversableLike.scala:234)\n\tat org.apache.spark.sql.types.StructType.map(StructType.scala:99)\n\tat org.apache.spark.sql.execution.arrow.ArrowUtils$.toArrowSchema(ArrowUtils.scala:115)\n\tat org.apache.spark.sql.execution.python.ArrowPythonRunner$$anon$2.writeIteratorToStream(ArrowPythonRunner.scala:71)\n\tat org.apache.spark.api.python.BasePythonRunner$WriterThread$$anonfun$run$1.apply(PythonRunner.scala:346)\n\tat org.apache.spark.util.Utils$.logUncaughtExceptions(Utils.scala:1945)\n\tat org.apache.spark.api.python.BasePythonRunner$WriterThread.run(PythonRunner.scala:195)\n\nDriver stacktrace:\n\tat org.apache.spark.scheduler.DAGScheduler.org$apache$spark$scheduler$DAGScheduler$$failJobAndIndependentStages(DAGScheduler.scala:1925)\n\tat org.apache.spark.scheduler.DAGScheduler$$anonfun$abortStage$1.apply(DAGScheduler.scala:1913)\n\tat org.apache.spark.scheduler.DAGScheduler$$anonfun$abortStage$1.apply(DAGScheduler.scala:1912)\n\tat scala.collection.mutable.ResizableArray$class.foreach(ResizableArray.scala:59)\n\tat scala.collection.mutable.ArrayBuffer.foreach(ArrayBuffer.scala:48)\n\tat org.apache.spark.scheduler.DAGScheduler.abortStage(DAGScheduler.scala:1912)\n\tat org.apache.spark.scheduler.DAGScheduler$$anonfun$handleTaskSetFailed$1.apply(DAGScheduler.scala:948)\n\tat org.apache.spark.scheduler.DAGScheduler$$anonfun$handleTaskSetFailed$1.apply(DAGScheduler.scala:948)\n\tat scala.Option.foreach(Option.scala:257)\n\tat org.apache.spark.scheduler.DAGScheduler.handleTaskSetFailed(DAGScheduler.scala:948)\n\tat org.apache.spark.scheduler.DAGSchedulerEventProcessLoop.doOnReceive(DAGScheduler.scala:2146)\n\tat org.apache.spark.scheduler.DAGSchedulerEventProcessLoop.onReceive(DAGScheduler.scala:2095)\n\tat org.apache.spark.scheduler.DAGSchedulerEventProcessLoop.onReceive(DAGScheduler.scala:2084)\n\tat org.apache.spark.util.EventLoop$$anon$1.run(EventLoop.scala:49)\n\tat org.apache.spark.scheduler.DAGScheduler.runJob(DAGScheduler.scala:759)\n\tat org.apache.spark.SparkContext.runJob(SparkContext.scala:2061)\n\tat org.apache.spark.SparkContext.runJob(SparkContext.scala:2082)\n\tat org.apache.spark.SparkContext.runJob(SparkContext.scala:2101)\n\tat org.apache.spark.sql.execution.SparkPlan.executeTake(SparkPlan.scala:365)\n\tat org.apache.spark.sql.execution.CollectLimitExec.executeCollect(limit.scala:38)\n\tat org.apache.spark.sql.Dataset.org$apache$spark$sql$Dataset$$collectFromPlan(Dataset.scala:3389)\n\tat org.apache.spark.sql.Dataset$$anonfun$head$1.apply(Dataset.scala:2550)\n\tat org.apache.spark.sql.Dataset$$anonfun$head$1.apply(Dataset.scala:2550)\n\tat org.apache.spark.sql.Dataset$$anonfun$52.apply(Dataset.scala:3370)\n\tat org.apache.spark.sql.execution.SQLExecution$$anonfun$withNewExecutionId$1.apply(SQLExecution.scala:80)\n\tat org.apache.spark.sql.execution.SQLExecution$.withSQLConfPropagated(SQLExecution.scala:127)\n\tat org.apache.spark.sql.execution.SQLExecution$.withNewExecutionId(SQLExecution.scala:75)\n\tat org.apache.spark.sql.Dataset.org$apache$spark$sql$Dataset$$withAction(Dataset.scala:3369)\n\tat org.apache.spark.sql.Dataset.head(Dataset.scala:2550)\n\tat org.apache.spark.sql.Dataset.take(Dataset.scala:2764)\n\tat org.apache.spark.sql.Dataset.getRows(Dataset.scala:254)\n\tat org.apache.spark.sql.Dataset.showString(Dataset.scala:291)\n\tat sun.reflect.NativeMethodAccessorImpl.invoke0(Native Method)\n\tat sun.reflect.NativeMethodAccessorImpl.invoke(NativeMethodAccessorImpl.java:62)\n\tat sun.reflect.DelegatingMethodAccessorImpl.invoke(DelegatingMethodAccessorImpl.java:43)\n\tat java.lang.reflect.Method.invoke(Method.java:498)\n\tat py4j.reflection.MethodInvoker.invoke(MethodInvoker.java:244)\n\tat py4j.reflection.ReflectionEngine.invoke(ReflectionEngine.java:357)\n\tat py4j.Gateway.invoke(Gateway.java:282)\n\tat py4j.commands.AbstractCommand.invokeMethod(AbstractCommand.java:132)\n\tat py4j.commands.CallCommand.execute(CallCommand.java:79)\n\tat py4j.GatewayConnection.run(GatewayConnection.java:238)\n\tat java.lang.Thread.run(Thread.java:745)\nCaused by: java.lang.UnsupportedOperationException: Unsupported data type: struct<type:tinyint,size:int,indices:array<int>,values:array<double>>\n\tat org.apache.spark.sql.execution.arrow.ArrowUtils$.toArrowType(ArrowUtils.scala:56)\n\tat org.apache.spark.sql.execution.arrow.ArrowUtils$.toArrowField(ArrowUtils.scala:92)\n\tat org.apache.spark.sql.execution.arrow.ArrowUtils$$anonfun$toArrowSchema$1.apply(ArrowUtils.scala:116)\n\tat org.apache.spark.sql.execution.arrow.ArrowUtils$$anonfun$toArrowSchema$1.apply(ArrowUtils.scala:115)\n\tat scala.collection.TraversableLike$$anonfun$map$1.apply(TraversableLike.scala:234)\n\tat scala.collection.TraversableLike$$anonfun$map$1.apply(TraversableLike.scala:234)\n\tat scala.collection.Iterator$class.foreach(Iterator.scala:891)\n\tat scala.collection.AbstractIterator.foreach(Iterator.scala:1334)\n\tat scala.collection.IterableLike$class.foreach(IterableLike.scala:72)\n\tat org.apache.spark.sql.types.StructType.foreach(StructType.scala:99)\n\tat scala.collection.TraversableLike$class.map(TraversableLike.scala:234)\n\tat org.apache.spark.sql.types.StructType.map(StructType.scala:99)\n\tat org.apache.spark.sql.execution.arrow.ArrowUtils$.toArrowSchema(ArrowUtils.scala:115)\n\tat org.apache.spark.sql.execution.python.ArrowPythonRunner$$anon$2.writeIteratorToStream(ArrowPythonRunner.scala:71)\n\tat org.apache.spark.api.python.BasePythonRunner$WriterThread$$anonfun$run$1.apply(PythonRunner.scala:346)\n\tat org.apache.spark.util.Utils$.logUncaughtExceptions(Utils.scala:1945)\n\tat org.apache.spark.api.python.BasePythonRunner$WriterThread.run(PythonRunner.scala:195)\n",
     "output_type": "error",
     "traceback": [
      "\u001b[0;31m---------------------------------------------------------------------------\u001b[0m",
      "\u001b[0;31mPy4JJavaError\u001b[0m                             Traceback (most recent call last)",
      "\u001b[0;32m<ipython-input-25-e6d8667491c7>\u001b[0m in \u001b[0;36m<module>\u001b[0;34m()\u001b[0m\n\u001b[0;32m----> 1\u001b[0;31m \u001b[0mdf_test\u001b[0m\u001b[0;34m.\u001b[0m\u001b[0mwithColumn\u001b[0m\u001b[0;34m(\u001b[0m\u001b[0;34m\"prediction\"\u001b[0m\u001b[0;34m,\u001b[0m \u001b[0mpredict\u001b[0m\u001b[0;34m(\u001b[0m\u001b[0;34m\"features\"\u001b[0m\u001b[0;34m)\u001b[0m\u001b[0;34m)\u001b[0m\u001b[0;34m.\u001b[0m\u001b[0mshow\u001b[0m\u001b[0;34m(\u001b[0m\u001b[0;34m)\u001b[0m\u001b[0;34m\u001b[0m\u001b[0m\n\u001b[0m",
      "\u001b[0;32m/usr/hdp/current/spark2-client/python/pyspark/sql/dataframe.py\u001b[0m in \u001b[0;36mshow\u001b[0;34m(self, n, truncate, vertical)\u001b[0m\n\u001b[1;32m    379\u001b[0m         \"\"\"\n\u001b[1;32m    380\u001b[0m         \u001b[0;32mif\u001b[0m \u001b[0misinstance\u001b[0m\u001b[0;34m(\u001b[0m\u001b[0mtruncate\u001b[0m\u001b[0;34m,\u001b[0m \u001b[0mbool\u001b[0m\u001b[0;34m)\u001b[0m \u001b[0;32mand\u001b[0m \u001b[0mtruncate\u001b[0m\u001b[0;34m:\u001b[0m\u001b[0;34m\u001b[0m\u001b[0m\n\u001b[0;32m--> 381\u001b[0;31m             \u001b[0mprint\u001b[0m\u001b[0;34m(\u001b[0m\u001b[0mself\u001b[0m\u001b[0;34m.\u001b[0m\u001b[0m_jdf\u001b[0m\u001b[0;34m.\u001b[0m\u001b[0mshowString\u001b[0m\u001b[0;34m(\u001b[0m\u001b[0mn\u001b[0m\u001b[0;34m,\u001b[0m \u001b[0;36m20\u001b[0m\u001b[0;34m,\u001b[0m \u001b[0mvertical\u001b[0m\u001b[0;34m)\u001b[0m\u001b[0;34m)\u001b[0m\u001b[0;34m\u001b[0m\u001b[0m\n\u001b[0m\u001b[1;32m    382\u001b[0m         \u001b[0;32melse\u001b[0m\u001b[0;34m:\u001b[0m\u001b[0;34m\u001b[0m\u001b[0m\n\u001b[1;32m    383\u001b[0m             \u001b[0mprint\u001b[0m\u001b[0;34m(\u001b[0m\u001b[0mself\u001b[0m\u001b[0;34m.\u001b[0m\u001b[0m_jdf\u001b[0m\u001b[0;34m.\u001b[0m\u001b[0mshowString\u001b[0m\u001b[0;34m(\u001b[0m\u001b[0mn\u001b[0m\u001b[0;34m,\u001b[0m \u001b[0mint\u001b[0m\u001b[0;34m(\u001b[0m\u001b[0mtruncate\u001b[0m\u001b[0;34m)\u001b[0m\u001b[0;34m,\u001b[0m \u001b[0mvertical\u001b[0m\u001b[0;34m)\u001b[0m\u001b[0;34m)\u001b[0m\u001b[0;34m\u001b[0m\u001b[0m\n",
      "\u001b[0;32m/usr/hdp/current/spark2-client/python/lib/py4j-0.10.7-src.zip/py4j/java_gateway.py\u001b[0m in \u001b[0;36m__call__\u001b[0;34m(self, *args)\u001b[0m\n\u001b[1;32m   1255\u001b[0m         \u001b[0manswer\u001b[0m \u001b[0;34m=\u001b[0m \u001b[0mself\u001b[0m\u001b[0;34m.\u001b[0m\u001b[0mgateway_client\u001b[0m\u001b[0;34m.\u001b[0m\u001b[0msend_command\u001b[0m\u001b[0;34m(\u001b[0m\u001b[0mcommand\u001b[0m\u001b[0;34m)\u001b[0m\u001b[0;34m\u001b[0m\u001b[0m\n\u001b[1;32m   1256\u001b[0m         return_value = get_return_value(\n\u001b[0;32m-> 1257\u001b[0;31m             answer, self.gateway_client, self.target_id, self.name)\n\u001b[0m\u001b[1;32m   1258\u001b[0m \u001b[0;34m\u001b[0m\u001b[0m\n\u001b[1;32m   1259\u001b[0m         \u001b[0;32mfor\u001b[0m \u001b[0mtemp_arg\u001b[0m \u001b[0;32min\u001b[0m \u001b[0mtemp_args\u001b[0m\u001b[0;34m:\u001b[0m\u001b[0;34m\u001b[0m\u001b[0m\n",
      "\u001b[0;32m/usr/hdp/current/spark2-client/python/pyspark/sql/utils.py\u001b[0m in \u001b[0;36mdeco\u001b[0;34m(*a, **kw)\u001b[0m\n\u001b[1;32m     61\u001b[0m     \u001b[0;32mdef\u001b[0m \u001b[0mdeco\u001b[0m\u001b[0;34m(\u001b[0m\u001b[0;34m*\u001b[0m\u001b[0ma\u001b[0m\u001b[0;34m,\u001b[0m \u001b[0;34m**\u001b[0m\u001b[0mkw\u001b[0m\u001b[0;34m)\u001b[0m\u001b[0;34m:\u001b[0m\u001b[0;34m\u001b[0m\u001b[0m\n\u001b[1;32m     62\u001b[0m         \u001b[0;32mtry\u001b[0m\u001b[0;34m:\u001b[0m\u001b[0;34m\u001b[0m\u001b[0m\n\u001b[0;32m---> 63\u001b[0;31m             \u001b[0;32mreturn\u001b[0m \u001b[0mf\u001b[0m\u001b[0;34m(\u001b[0m\u001b[0;34m*\u001b[0m\u001b[0ma\u001b[0m\u001b[0;34m,\u001b[0m \u001b[0;34m**\u001b[0m\u001b[0mkw\u001b[0m\u001b[0;34m)\u001b[0m\u001b[0;34m\u001b[0m\u001b[0m\n\u001b[0m\u001b[1;32m     64\u001b[0m         \u001b[0;32mexcept\u001b[0m \u001b[0mpy4j\u001b[0m\u001b[0;34m.\u001b[0m\u001b[0mprotocol\u001b[0m\u001b[0;34m.\u001b[0m\u001b[0mPy4JJavaError\u001b[0m \u001b[0;32mas\u001b[0m \u001b[0me\u001b[0m\u001b[0;34m:\u001b[0m\u001b[0;34m\u001b[0m\u001b[0m\n\u001b[1;32m     65\u001b[0m             \u001b[0ms\u001b[0m \u001b[0;34m=\u001b[0m \u001b[0me\u001b[0m\u001b[0;34m.\u001b[0m\u001b[0mjava_exception\u001b[0m\u001b[0;34m.\u001b[0m\u001b[0mtoString\u001b[0m\u001b[0;34m(\u001b[0m\u001b[0;34m)\u001b[0m\u001b[0;34m\u001b[0m\u001b[0m\n",
      "\u001b[0;32m/usr/hdp/current/spark2-client/python/lib/py4j-0.10.7-src.zip/py4j/protocol.py\u001b[0m in \u001b[0;36mget_return_value\u001b[0;34m(answer, gateway_client, target_id, name)\u001b[0m\n\u001b[1;32m    326\u001b[0m                 raise Py4JJavaError(\n\u001b[1;32m    327\u001b[0m                     \u001b[0;34m\"An error occurred while calling {0}{1}{2}.\\n\"\u001b[0m\u001b[0;34m.\u001b[0m\u001b[0;34m\u001b[0m\u001b[0m\n\u001b[0;32m--> 328\u001b[0;31m                     format(target_id, \".\", name), value)\n\u001b[0m\u001b[1;32m    329\u001b[0m             \u001b[0;32melse\u001b[0m\u001b[0;34m:\u001b[0m\u001b[0;34m\u001b[0m\u001b[0m\n\u001b[1;32m    330\u001b[0m                 raise Py4JError(\n",
      "\u001b[0;31mPy4JJavaError\u001b[0m: An error occurred while calling o112.showString.\n: org.apache.spark.SparkException: Job aborted due to stage failure: Task 0 in stage 2.0 failed 4 times, most recent failure: Lost task 0.3 in stage 2.0 (TID 8, bd-node4.newprolab.com, executor 1): java.lang.UnsupportedOperationException: Unsupported data type: struct<type:tinyint,size:int,indices:array<int>,values:array<double>>\n\tat org.apache.spark.sql.execution.arrow.ArrowUtils$.toArrowType(ArrowUtils.scala:56)\n\tat org.apache.spark.sql.execution.arrow.ArrowUtils$.toArrowField(ArrowUtils.scala:92)\n\tat org.apache.spark.sql.execution.arrow.ArrowUtils$$anonfun$toArrowSchema$1.apply(ArrowUtils.scala:116)\n\tat org.apache.spark.sql.execution.arrow.ArrowUtils$$anonfun$toArrowSchema$1.apply(ArrowUtils.scala:115)\n\tat scala.collection.TraversableLike$$anonfun$map$1.apply(TraversableLike.scala:234)\n\tat scala.collection.TraversableLike$$anonfun$map$1.apply(TraversableLike.scala:234)\n\tat scala.collection.Iterator$class.foreach(Iterator.scala:891)\n\tat scala.collection.AbstractIterator.foreach(Iterator.scala:1334)\n\tat scala.collection.IterableLike$class.foreach(IterableLike.scala:72)\n\tat org.apache.spark.sql.types.StructType.foreach(StructType.scala:99)\n\tat scala.collection.TraversableLike$class.map(TraversableLike.scala:234)\n\tat org.apache.spark.sql.types.StructType.map(StructType.scala:99)\n\tat org.apache.spark.sql.execution.arrow.ArrowUtils$.toArrowSchema(ArrowUtils.scala:115)\n\tat org.apache.spark.sql.execution.python.ArrowPythonRunner$$anon$2.writeIteratorToStream(ArrowPythonRunner.scala:71)\n\tat org.apache.spark.api.python.BasePythonRunner$WriterThread$$anonfun$run$1.apply(PythonRunner.scala:346)\n\tat org.apache.spark.util.Utils$.logUncaughtExceptions(Utils.scala:1945)\n\tat org.apache.spark.api.python.BasePythonRunner$WriterThread.run(PythonRunner.scala:195)\n\nDriver stacktrace:\n\tat org.apache.spark.scheduler.DAGScheduler.org$apache$spark$scheduler$DAGScheduler$$failJobAndIndependentStages(DAGScheduler.scala:1925)\n\tat org.apache.spark.scheduler.DAGScheduler$$anonfun$abortStage$1.apply(DAGScheduler.scala:1913)\n\tat org.apache.spark.scheduler.DAGScheduler$$anonfun$abortStage$1.apply(DAGScheduler.scala:1912)\n\tat scala.collection.mutable.ResizableArray$class.foreach(ResizableArray.scala:59)\n\tat scala.collection.mutable.ArrayBuffer.foreach(ArrayBuffer.scala:48)\n\tat org.apache.spark.scheduler.DAGScheduler.abortStage(DAGScheduler.scala:1912)\n\tat org.apache.spark.scheduler.DAGScheduler$$anonfun$handleTaskSetFailed$1.apply(DAGScheduler.scala:948)\n\tat org.apache.spark.scheduler.DAGScheduler$$anonfun$handleTaskSetFailed$1.apply(DAGScheduler.scala:948)\n\tat scala.Option.foreach(Option.scala:257)\n\tat org.apache.spark.scheduler.DAGScheduler.handleTaskSetFailed(DAGScheduler.scala:948)\n\tat org.apache.spark.scheduler.DAGSchedulerEventProcessLoop.doOnReceive(DAGScheduler.scala:2146)\n\tat org.apache.spark.scheduler.DAGSchedulerEventProcessLoop.onReceive(DAGScheduler.scala:2095)\n\tat org.apache.spark.scheduler.DAGSchedulerEventProcessLoop.onReceive(DAGScheduler.scala:2084)\n\tat org.apache.spark.util.EventLoop$$anon$1.run(EventLoop.scala:49)\n\tat org.apache.spark.scheduler.DAGScheduler.runJob(DAGScheduler.scala:759)\n\tat org.apache.spark.SparkContext.runJob(SparkContext.scala:2061)\n\tat org.apache.spark.SparkContext.runJob(SparkContext.scala:2082)\n\tat org.apache.spark.SparkContext.runJob(SparkContext.scala:2101)\n\tat org.apache.spark.sql.execution.SparkPlan.executeTake(SparkPlan.scala:365)\n\tat org.apache.spark.sql.execution.CollectLimitExec.executeCollect(limit.scala:38)\n\tat org.apache.spark.sql.Dataset.org$apache$spark$sql$Dataset$$collectFromPlan(Dataset.scala:3389)\n\tat org.apache.spark.sql.Dataset$$anonfun$head$1.apply(Dataset.scala:2550)\n\tat org.apache.spark.sql.Dataset$$anonfun$head$1.apply(Dataset.scala:2550)\n\tat org.apache.spark.sql.Dataset$$anonfun$52.apply(Dataset.scala:3370)\n\tat org.apache.spark.sql.execution.SQLExecution$$anonfun$withNewExecutionId$1.apply(SQLExecution.scala:80)\n\tat org.apache.spark.sql.execution.SQLExecution$.withSQLConfPropagated(SQLExecution.scala:127)\n\tat org.apache.spark.sql.execution.SQLExecution$.withNewExecutionId(SQLExecution.scala:75)\n\tat org.apache.spark.sql.Dataset.org$apache$spark$sql$Dataset$$withAction(Dataset.scala:3369)\n\tat org.apache.spark.sql.Dataset.head(Dataset.scala:2550)\n\tat org.apache.spark.sql.Dataset.take(Dataset.scala:2764)\n\tat org.apache.spark.sql.Dataset.getRows(Dataset.scala:254)\n\tat org.apache.spark.sql.Dataset.showString(Dataset.scala:291)\n\tat sun.reflect.NativeMethodAccessorImpl.invoke0(Native Method)\n\tat sun.reflect.NativeMethodAccessorImpl.invoke(NativeMethodAccessorImpl.java:62)\n\tat sun.reflect.DelegatingMethodAccessorImpl.invoke(DelegatingMethodAccessorImpl.java:43)\n\tat java.lang.reflect.Method.invoke(Method.java:498)\n\tat py4j.reflection.MethodInvoker.invoke(MethodInvoker.java:244)\n\tat py4j.reflection.ReflectionEngine.invoke(ReflectionEngine.java:357)\n\tat py4j.Gateway.invoke(Gateway.java:282)\n\tat py4j.commands.AbstractCommand.invokeMethod(AbstractCommand.java:132)\n\tat py4j.commands.CallCommand.execute(CallCommand.java:79)\n\tat py4j.GatewayConnection.run(GatewayConnection.java:238)\n\tat java.lang.Thread.run(Thread.java:745)\nCaused by: java.lang.UnsupportedOperationException: Unsupported data type: struct<type:tinyint,size:int,indices:array<int>,values:array<double>>\n\tat org.apache.spark.sql.execution.arrow.ArrowUtils$.toArrowType(ArrowUtils.scala:56)\n\tat org.apache.spark.sql.execution.arrow.ArrowUtils$.toArrowField(ArrowUtils.scala:92)\n\tat org.apache.spark.sql.execution.arrow.ArrowUtils$$anonfun$toArrowSchema$1.apply(ArrowUtils.scala:116)\n\tat org.apache.spark.sql.execution.arrow.ArrowUtils$$anonfun$toArrowSchema$1.apply(ArrowUtils.scala:115)\n\tat scala.collection.TraversableLike$$anonfun$map$1.apply(TraversableLike.scala:234)\n\tat scala.collection.TraversableLike$$anonfun$map$1.apply(TraversableLike.scala:234)\n\tat scala.collection.Iterator$class.foreach(Iterator.scala:891)\n\tat scala.collection.AbstractIterator.foreach(Iterator.scala:1334)\n\tat scala.collection.IterableLike$class.foreach(IterableLike.scala:72)\n\tat org.apache.spark.sql.types.StructType.foreach(StructType.scala:99)\n\tat scala.collection.TraversableLike$class.map(TraversableLike.scala:234)\n\tat org.apache.spark.sql.types.StructType.map(StructType.scala:99)\n\tat org.apache.spark.sql.execution.arrow.ArrowUtils$.toArrowSchema(ArrowUtils.scala:115)\n\tat org.apache.spark.sql.execution.python.ArrowPythonRunner$$anon$2.writeIteratorToStream(ArrowPythonRunner.scala:71)\n\tat org.apache.spark.api.python.BasePythonRunner$WriterThread$$anonfun$run$1.apply(PythonRunner.scala:346)\n\tat org.apache.spark.util.Utils$.logUncaughtExceptions(Utils.scala:1945)\n\tat org.apache.spark.api.python.BasePythonRunner$WriterThread.run(PythonRunner.scala:195)\n"
     ]
    }
   ],
   "source": [
    "df_test.withColumn(\"prediction\", predict(\"features\")).show()"
   ]
  },
  {
   "cell_type": "markdown",
   "metadata": {},
   "source": [
    "Все это происходит из-за этого https://issues.apache.org/jira/browse/SPARK-19653"
   ]
  },
  {
   "cell_type": "markdown",
   "metadata": {},
   "source": [
    "## Способ №2, неправильный, но работает :/"
   ]
  },
  {
   "cell_type": "code",
   "execution_count": 26,
   "metadata": {},
   "outputs": [],
   "source": [
    "import pandas as pd"
   ]
  },
  {
   "cell_type": "code",
   "execution_count": 27,
   "metadata": {},
   "outputs": [],
   "source": [
    "@f.udf(ArrayType(FloatType()))\n",
    "def vectorToArray(row):\n",
    "    return DenseVector(row).tolist()\n",
    "\n",
    "df_test = df_test.withColumn(\"features_array\", vectorToArray(\"features\"))"
   ]
  },
  {
   "cell_type": "code",
   "execution_count": 28,
   "metadata": {},
   "outputs": [
    {
     "name": "stdout",
     "output_type": "stream",
     "text": [
      "+--------------------+-----+--------------------+\n",
      "|            features|label|      features_array|\n",
      "+--------------------+-----+--------------------+\n",
      "|[0.16713128673558...|    0|[0.16713129, 2.28...|\n",
      "|[2.50158633810562...|    0|[2.5015864, 1.394...|\n",
      "|[-0.7699917522248...|    0|[-0.76999176, 0.1...|\n",
      "|[-0.9514898817744...|    0|[-0.95148987, 1.6...|\n",
      "|[1.32598926517448...|    0|[1.3259892, 1.287...|\n",
      "|[-0.5091954518113...|    0|[-0.50919545, 2.0...|\n",
      "|[-0.9442948966018...|    1|[-0.94429487, 1.2...|\n",
      "|[0.53537784380006...|    1|[0.53537786, 0.08...|\n",
      "|[-1.9316295195085...|    0|[-1.9316295, -1.3...|\n",
      "|[-0.8788162423442...|    1|[-0.87881625, -0....|\n",
      "|[0.47792785291472...|    1|[0.47792786, 1.28...|\n",
      "|[-0.7537969085613...|    1|[-0.75379694, 1.9...|\n",
      "|[-0.1103342853056...|    0|[-0.110334285, 3....|\n",
      "|[0.21903394455633...|    1|[0.21903394, -1.2...|\n",
      "|[-0.7010314631582...|    1|[-0.70103145, 0.6...|\n",
      "|[-0.4024860125426...|    1|[-0.40248603, -1....|\n",
      "|[1.91508615582208...|    1|[1.9150862, -1.07...|\n",
      "|[1.03957987692160...|    1|[1.0395799, -0.80...|\n",
      "|[-1.9962336859493...|    1|[-1.9962337, 0.55...|\n",
      "|[0.03293939843484...|    1|[0.032939397, 1.2...|\n",
      "+--------------------+-----+--------------------+\n",
      "\n"
     ]
    }
   ],
   "source": [
    "df_test.show()"
   ]
  },
  {
   "cell_type": "code",
   "execution_count": 29,
   "metadata": {},
   "outputs": [
    {
     "data": {
      "text/plain": [
       "pyspark.ml.linalg.DenseVector"
      ]
     },
     "execution_count": 29,
     "metadata": {},
     "output_type": "execute_result"
    }
   ],
   "source": [
    "type(df_test.take(1)[0][0])"
   ]
  },
  {
   "cell_type": "code",
   "execution_count": 30,
   "metadata": {},
   "outputs": [
    {
     "data": {
      "text/plain": [
       "list"
      ]
     },
     "execution_count": 30,
     "metadata": {},
     "output_type": "execute_result"
    }
   ],
   "source": [
    "type(df_test.take(1)[0][2])"
   ]
  },
  {
   "cell_type": "code",
   "execution_count": 40,
   "metadata": {},
   "outputs": [],
   "source": [
    "@f.pandas_udf(FloatType())\n",
    "def predict(series):\n",
    "    # Необходимо сделать преобразование, потому что на вход приходит pd.Series((list1, list2, ...))\n",
    "    predictions = est_broadcast.value.predict(series.tolist())\n",
    "    return pd.Series(predictions)"
   ]
  },
  {
   "cell_type": "code",
   "execution_count": 34,
   "metadata": {},
   "outputs": [
    {
     "name": "stdout",
     "output_type": "stream",
     "text": [
      "+--------------------+-----+--------------------+----------+\n",
      "|            features|label|      features_array|prediction|\n",
      "+--------------------+-----+--------------------+----------+\n",
      "|[0.16713128673558...|    0|[0.16713129, 2.28...|       0.0|\n",
      "|[2.50158633810562...|    0|[2.5015864, 1.394...|       0.0|\n",
      "|[-0.7699917522248...|    0|[-0.76999176, 0.1...|       0.0|\n",
      "|[-0.9514898817744...|    0|[-0.95148987, 1.6...|       0.0|\n",
      "|[1.32598926517448...|    0|[1.3259892, 1.287...|       0.0|\n",
      "|[-0.5091954518113...|    0|[-0.50919545, 2.0...|       0.0|\n",
      "|[-0.9442948966018...|    1|[-0.94429487, 1.2...|       1.0|\n",
      "|[0.53537784380006...|    1|[0.53537786, 0.08...|       1.0|\n",
      "|[-1.9316295195085...|    0|[-1.9316295, -1.3...|       0.0|\n",
      "|[-0.8788162423442...|    1|[-0.87881625, -0....|       1.0|\n",
      "|[0.47792785291472...|    1|[0.47792786, 1.28...|       1.0|\n",
      "|[-0.7537969085613...|    1|[-0.75379694, 1.9...|       1.0|\n",
      "|[-0.1103342853056...|    0|[-0.110334285, 3....|       1.0|\n",
      "|[0.21903394455633...|    1|[0.21903394, -1.2...|       1.0|\n",
      "|[-0.7010314631582...|    1|[-0.70103145, 0.6...|       1.0|\n",
      "|[-0.4024860125426...|    1|[-0.40248603, -1....|       0.0|\n",
      "|[1.91508615582208...|    1|[1.9150862, -1.07...|       1.0|\n",
      "|[1.03957987692160...|    1|[1.0395799, -0.80...|       1.0|\n",
      "|[-1.9962336859493...|    1|[-1.9962337, 0.55...|       1.0|\n",
      "|[0.03293939843484...|    1|[0.032939397, 1.2...|       1.0|\n",
      "+--------------------+-----+--------------------+----------+\n",
      "\n"
     ]
    }
   ],
   "source": [
    "df_test.withColumn(\"prediction\", predict(\"features_array\")).show()"
   ]
  },
  {
   "cell_type": "code",
   "execution_count": 55,
   "metadata": {},
   "outputs": [],
   "source": [
    "import pickle"
   ]
  },
  {
   "cell_type": "code",
   "execution_count": 56,
   "metadata": {},
   "outputs": [],
   "source": [
    "with open(\"logistic_model.pk\", \"wb\") as f:\n",
    "    pickle.dump(est, f)"
   ]
  },
  {
   "cell_type": "code",
   "execution_count": 57,
   "metadata": {},
   "outputs": [],
   "source": [
    "from pyspark import keyword_only\n",
    "from pyspark.ml import Model, Estimator\n",
    "from pyspark.ml.param import Param, Params, TypeConverters\n",
    "from pyspark.ml.param.shared import HasFeaturesCol, HasLabelCol, HasPredictionCol"
   ]
  },
  {
   "cell_type": "markdown",
   "metadata": {},
   "source": [
    "[Model base class](https://github.com/apache/spark/blob/v2.4.0/python/pyspark/ml/base.py#L243)\n"
   ]
  },
  {
   "cell_type": "code",
   "execution_count": 58,
   "metadata": {},
   "outputs": [],
   "source": [
    "class SKLogisticRegreesionModel(Model, HasFeaturesCol, HasLabelCol, HasPredictionCol):\n",
    "    model_file = Param(Params._dummy(), \"model_file\",\n",
    "                      \"path to pickled scikit-learn logistic regression model\",\n",
    "                      typeConverter=TypeConverters.toString)\n",
    "    @keyword_only\n",
    "    def __init__(self, model_file=None, featuresCol=\"features\", labelCol=\"label\", predictionCol=\"prediction\"):\n",
    "        super(SKLogisticRegreesionModel, self).__init__()\n",
    "        \n",
    "        if model_file is None:\n",
    "            raise ValueError(\"model_file must be specified!\")\n",
    "            \n",
    "        with open(model_file, \"rb\") as f:\n",
    "            self.estimator = pickle.load(f)\n",
    "            \n",
    "        kwargs = self._input_kwargs\n",
    "        self._set(**kwargs)\n",
    "        \n",
    "    def _transform(self, dataset):\n",
    "        return dataset.withColumn(self.getPredictionCol(), predict(self.getFeaturesCol()))"
   ]
  },
  {
   "cell_type": "code",
   "execution_count": 59,
   "metadata": {},
   "outputs": [],
   "source": [
    "spark_est = SKLogisticRegreesionModel(model_file=\"logistic_model.pk\", featuresCol=\"features_array\")"
   ]
  },
  {
   "cell_type": "code",
   "execution_count": 61,
   "metadata": {},
   "outputs": [
    {
     "name": "stdout",
     "output_type": "stream",
     "text": [
      "+--------------------+-----+--------------------+----------+\n",
      "|            features|label|      features_array|prediction|\n",
      "+--------------------+-----+--------------------+----------+\n",
      "|[0.16713128673558...|    0|[0.16713129, 2.28...|       0.0|\n",
      "|[2.50158633810562...|    0|[2.5015864, 1.394...|       0.0|\n",
      "|[-0.7699917522248...|    0|[-0.76999176, 0.1...|       0.0|\n",
      "|[-0.9514898817744...|    0|[-0.95148987, 1.6...|       0.0|\n",
      "|[1.32598926517448...|    0|[1.3259892, 1.287...|       0.0|\n",
      "|[-0.5091954518113...|    0|[-0.50919545, 2.0...|       0.0|\n",
      "|[-0.9442948966018...|    1|[-0.94429487, 1.2...|       1.0|\n",
      "|[0.53537784380006...|    1|[0.53537786, 0.08...|       1.0|\n",
      "|[-1.9316295195085...|    0|[-1.9316295, -1.3...|       0.0|\n",
      "|[-0.8788162423442...|    1|[-0.87881625, -0....|       1.0|\n",
      "|[0.47792785291472...|    1|[0.47792786, 1.28...|       1.0|\n",
      "|[-0.7537969085613...|    1|[-0.75379694, 1.9...|       1.0|\n",
      "|[-0.1103342853056...|    0|[-0.110334285, 3....|       1.0|\n",
      "|[0.21903394455633...|    1|[0.21903394, -1.2...|       1.0|\n",
      "|[-0.7010314631582...|    1|[-0.70103145, 0.6...|       1.0|\n",
      "|[-0.4024860125426...|    1|[-0.40248603, -1....|       0.0|\n",
      "|[1.91508615582208...|    1|[1.9150862, -1.07...|       1.0|\n",
      "|[1.03957987692160...|    1|[1.0395799, -0.80...|       1.0|\n",
      "|[-1.9962336859493...|    1|[-1.9962337, 0.55...|       1.0|\n",
      "|[0.03293939843484...|    1|[0.032939397, 1.2...|       1.0|\n",
      "+--------------------+-----+--------------------+----------+\n",
      "\n"
     ]
    }
   ],
   "source": [
    "spark_est.transform(df_test).show()"
   ]
  },
  {
   "cell_type": "code",
   "execution_count": 62,
   "metadata": {},
   "outputs": [],
   "source": [
    "from pyspark.ml import Pipeline"
   ]
  },
  {
   "cell_type": "code",
   "execution_count": 63,
   "metadata": {},
   "outputs": [],
   "source": [
    "pipeline = Pipeline(stages=[\n",
    "    spark_est\n",
    "])"
   ]
  },
  {
   "cell_type": "code",
   "execution_count": 64,
   "metadata": {},
   "outputs": [],
   "source": [
    "pipeline_model = pipeline.fit(df_test)"
   ]
  },
  {
   "cell_type": "code",
   "execution_count": 65,
   "metadata": {},
   "outputs": [
    {
     "name": "stdout",
     "output_type": "stream",
     "text": [
      "+--------------------+-----+--------------------+----------+\n",
      "|            features|label|      features_array|prediction|\n",
      "+--------------------+-----+--------------------+----------+\n",
      "|[0.16713128673558...|    0|[0.16713129, 2.28...|       0.0|\n",
      "|[2.50158633810562...|    0|[2.5015864, 1.394...|       0.0|\n",
      "|[-0.7699917522248...|    0|[-0.76999176, 0.1...|       0.0|\n",
      "|[-0.9514898817744...|    0|[-0.95148987, 1.6...|       0.0|\n",
      "|[1.32598926517448...|    0|[1.3259892, 1.287...|       0.0|\n",
      "|[-0.5091954518113...|    0|[-0.50919545, 2.0...|       0.0|\n",
      "|[-0.9442948966018...|    1|[-0.94429487, 1.2...|       1.0|\n",
      "|[0.53537784380006...|    1|[0.53537786, 0.08...|       1.0|\n",
      "|[-1.9316295195085...|    0|[-1.9316295, -1.3...|       0.0|\n",
      "|[-0.8788162423442...|    1|[-0.87881625, -0....|       1.0|\n",
      "|[0.47792785291472...|    1|[0.47792786, 1.28...|       1.0|\n",
      "|[-0.7537969085613...|    1|[-0.75379694, 1.9...|       1.0|\n",
      "|[-0.1103342853056...|    0|[-0.110334285, 3....|       1.0|\n",
      "|[0.21903394455633...|    1|[0.21903394, -1.2...|       1.0|\n",
      "|[-0.7010314631582...|    1|[-0.70103145, 0.6...|       1.0|\n",
      "|[-0.4024860125426...|    1|[-0.40248603, -1....|       0.0|\n",
      "|[1.91508615582208...|    1|[1.9150862, -1.07...|       1.0|\n",
      "|[1.03957987692160...|    1|[1.0395799, -0.80...|       1.0|\n",
      "|[-1.9962336859493...|    1|[-1.9962337, 0.55...|       1.0|\n",
      "|[0.03293939843484...|    1|[0.032939397, 1.2...|       1.0|\n",
      "+--------------------+-----+--------------------+----------+\n",
      "\n"
     ]
    }
   ],
   "source": [
    "pipeline_model.transform(df_test).show()"
   ]
  },
  {
   "cell_type": "markdown",
   "metadata": {},
   "source": [
    "[Estimator base class](https://github.com/apache/spark/blob/v2.4.0/python/pyspark/ml/base.py#L243)\n"
   ]
  },
  {
   "cell_type": "code",
   "execution_count": 67,
   "metadata": {},
   "outputs": [],
   "source": [
    "class SKLogisticRegression(Estimator, HasFeaturesCol, HasPredictionCol, HasLabelCol):\n",
    "    @keyword_only\n",
    "    def __init__(self, featuresCol=\"features\", predictionCol=\"prediction\", labelCol=\"label\"):\n",
    "        super(SKLogisticRegression, self).__init__()\n",
    "        kwargs = self._input_kwargs\n",
    "        self._set(**kwargs)\n",
    "        \n",
    "    def _fit(self, dataset):\n",
    "        local_dataset = dataset.select(self.getFeaturesCol(), self.getLabelCol()).toPandas()\n",
    "        self.est = LogisticRegression()\n",
    "        self.est.fit(local_dataset[self.getFeaturesCol()].tolist(), local_dataset[self.getLabelCol()])\n",
    "        self.model_file = \"logistic_regression.pk\"\n",
    "        with open(self.model_file, \"wb\") as f:\n",
    "            pickle.dump(self.est, f)\n",
    "        return SKLogisticRegreesionModel(model_file=self.model_file, predictionCol=self.getPredictionCol(),\n",
    "                                         featuresCol=self.getFeaturesCol(), labelCol=self.getLabelCol())"
   ]
  },
  {
   "cell_type": "code",
   "execution_count": 68,
   "metadata": {},
   "outputs": [],
   "source": [
    "spark_est = SKLogisticRegression(featuresCol=\"features_array\")"
   ]
  },
  {
   "cell_type": "code",
   "execution_count": 69,
   "metadata": {},
   "outputs": [],
   "source": [
    "spark_est_model = spark_est.fit(df_test)"
   ]
  },
  {
   "cell_type": "code",
   "execution_count": 70,
   "metadata": {},
   "outputs": [
    {
     "data": {
      "text/plain": [
       "SKLogisticRegreesionModel_8d8d7bdab78e"
      ]
     },
     "execution_count": 70,
     "metadata": {},
     "output_type": "execute_result"
    }
   ],
   "source": [
    "spark_est_model"
   ]
  },
  {
   "cell_type": "code",
   "execution_count": 71,
   "metadata": {},
   "outputs": [
    {
     "name": "stdout",
     "output_type": "stream",
     "text": [
      "+--------------------+-----+--------------------+----------+\n",
      "|            features|label|      features_array|prediction|\n",
      "+--------------------+-----+--------------------+----------+\n",
      "|[0.16713128673558...|    0|[0.16713129, 2.28...|       0.0|\n",
      "|[2.50158633810562...|    0|[2.5015864, 1.394...|       0.0|\n",
      "|[-0.7699917522248...|    0|[-0.76999176, 0.1...|       0.0|\n",
      "|[-0.9514898817744...|    0|[-0.95148987, 1.6...|       0.0|\n",
      "|[1.32598926517448...|    0|[1.3259892, 1.287...|       0.0|\n",
      "|[-0.5091954518113...|    0|[-0.50919545, 2.0...|       0.0|\n",
      "|[-0.9442948966018...|    1|[-0.94429487, 1.2...|       1.0|\n",
      "|[0.53537784380006...|    1|[0.53537786, 0.08...|       1.0|\n",
      "|[-1.9316295195085...|    0|[-1.9316295, -1.3...|       0.0|\n",
      "|[-0.8788162423442...|    1|[-0.87881625, -0....|       1.0|\n",
      "|[0.47792785291472...|    1|[0.47792786, 1.28...|       1.0|\n",
      "|[-0.7537969085613...|    1|[-0.75379694, 1.9...|       1.0|\n",
      "|[-0.1103342853056...|    0|[-0.110334285, 3....|       1.0|\n",
      "|[0.21903394455633...|    1|[0.21903394, -1.2...|       1.0|\n",
      "|[-0.7010314631582...|    1|[-0.70103145, 0.6...|       1.0|\n",
      "|[-0.4024860125426...|    1|[-0.40248603, -1....|       0.0|\n",
      "|[1.91508615582208...|    1|[1.9150862, -1.07...|       1.0|\n",
      "|[1.03957987692160...|    1|[1.0395799, -0.80...|       1.0|\n",
      "|[-1.9962336859493...|    1|[-1.9962337, 0.55...|       1.0|\n",
      "|[0.03293939843484...|    1|[0.032939397, 1.2...|       1.0|\n",
      "+--------------------+-----+--------------------+----------+\n",
      "\n"
     ]
    }
   ],
   "source": [
    "spark_est_model.transform(df_test).show()"
   ]
  },
  {
   "cell_type": "code",
   "execution_count": 73,
   "metadata": {},
   "outputs": [],
   "source": [
    "pipeline = Pipeline(stages=[\n",
    "    spark_est\n",
    "])"
   ]
  },
  {
   "cell_type": "code",
   "execution_count": 74,
   "metadata": {},
   "outputs": [],
   "source": [
    "pipeline_model = pipeline.fit(df_test)"
   ]
  },
  {
   "cell_type": "code",
   "execution_count": 75,
   "metadata": {},
   "outputs": [
    {
     "name": "stdout",
     "output_type": "stream",
     "text": [
      "+--------------------+-----+--------------------+----------+\n",
      "|            features|label|      features_array|prediction|\n",
      "+--------------------+-----+--------------------+----------+\n",
      "|[0.16713128673558...|    0|[0.16713129, 2.28...|       0.0|\n",
      "|[2.50158633810562...|    0|[2.5015864, 1.394...|       0.0|\n",
      "|[-0.7699917522248...|    0|[-0.76999176, 0.1...|       0.0|\n",
      "|[-0.9514898817744...|    0|[-0.95148987, 1.6...|       0.0|\n",
      "|[1.32598926517448...|    0|[1.3259892, 1.287...|       0.0|\n",
      "|[-0.5091954518113...|    0|[-0.50919545, 2.0...|       0.0|\n",
      "|[-0.9442948966018...|    1|[-0.94429487, 1.2...|       1.0|\n",
      "|[0.53537784380006...|    1|[0.53537786, 0.08...|       1.0|\n",
      "|[-1.9316295195085...|    0|[-1.9316295, -1.3...|       0.0|\n",
      "|[-0.8788162423442...|    1|[-0.87881625, -0....|       1.0|\n",
      "|[0.47792785291472...|    1|[0.47792786, 1.28...|       1.0|\n",
      "|[-0.7537969085613...|    1|[-0.75379694, 1.9...|       1.0|\n",
      "|[-0.1103342853056...|    0|[-0.110334285, 3....|       1.0|\n",
      "|[0.21903394455633...|    1|[0.21903394, -1.2...|       1.0|\n",
      "|[-0.7010314631582...|    1|[-0.70103145, 0.6...|       1.0|\n",
      "|[-0.4024860125426...|    1|[-0.40248603, -1....|       0.0|\n",
      "|[1.91508615582208...|    1|[1.9150862, -1.07...|       1.0|\n",
      "|[1.03957987692160...|    1|[1.0395799, -0.80...|       1.0|\n",
      "|[-1.9962336859493...|    1|[-1.9962337, 0.55...|       1.0|\n",
      "|[0.03293939843484...|    1|[0.032939397, 1.2...|       1.0|\n",
      "+--------------------+-----+--------------------+----------+\n",
      "\n"
     ]
    }
   ],
   "source": [
    "pipeline_model.transform(df_test).show()"
   ]
  },
  {
   "cell_type": "code",
   "execution_count": 76,
   "metadata": {},
   "outputs": [],
   "source": [
    "spark.stop()"
   ]
  },
  {
   "cell_type": "code",
   "execution_count": null,
   "metadata": {},
   "outputs": [],
   "source": []
  }
 ],
 "metadata": {
  "kernelspec": {
   "display_name": "Python 3",
   "language": "python",
   "name": "python3"
  }
 },
 "nbformat": 4,
 "nbformat_minor": 2
}
