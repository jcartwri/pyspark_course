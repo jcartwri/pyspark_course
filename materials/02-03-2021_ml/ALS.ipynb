{
 "cells": [
  {
   "cell_type": "code",
   "execution_count": 1,
   "metadata": {},
   "outputs": [
    {
     "name": "stdout",
     "output_type": "stream",
     "text": [
      "The history saving thread hit an unexpected error (OperationalError('database is locked',)).History will not be written to the database.\n",
      "Welcome to\n",
      "      ____              __\n",
      "     / __/__  ___ _____/ /__\n",
      "    _\\ \\/ _ \\/ _ `/ __/  '_/\n",
      "   /__ / .__/\\_,_/_/ /_/\\_\\   version 2.4.5\n",
      "      /_/\n",
      "\n",
      "Using Python version 3.6.5 (default, Apr 29 2018 16:14:56)\n",
      "SparkSession available as 'spark'.\n"
     ]
    }
   ],
   "source": [
    "import os\n",
    "import sys\n",
    "os.environ[\"PYSPARK_SUBMIT_ARGS\"]='--num-executors 3 pyspark-shell'\n",
    "os.environ[\"PYSPARK_PYTHON\"]='/opt/anaconda/envs/bd9/bin/python'\n",
    "os.environ[\"SPARK_HOME\"]='/usr/hdp/current/spark2-client'\n",
    "\n",
    "spark_home = os.environ.get('SPARK_HOME', None)\n",
    "if not spark_home:\n",
    "    raise ValueError('SPARK_HOME environment variable is not set')\n",
    "sys.path.insert(0, os.path.join(spark_home, 'python'))\n",
    "sys.path.insert(0, os.path.join(spark_home, 'python/lib/py4j-0.10.7-src.zip'))"
   ]
  },
  {
   "cell_type": "code",
   "execution_count": null,
   "metadata": {},
   "outputs": [],
   "source": [
    "from pyspark import SparkConf\n",
    "from pyspark.sql import SparkSession\n",
    "\n",
    "conf = SparkConf()\n",
    "conf.set(\"spark.app.name\", \"natasha pritykovskaya ALS app\") \n",
    "\n",
    "spark = SparkSession.builder.config(conf=conf).getOrCreate()"
   ]
  },
  {
   "cell_type": "code",
   "execution_count": 2,
   "metadata": {},
   "outputs": [
    {
     "data": {
      "text/html": [
       "\n",
       "            <div>\n",
       "                <p><b>SparkSession - in-memory</b></p>\n",
       "                \n",
       "        <div>\n",
       "            <p><b>SparkContext</b></p>\n",
       "\n",
       "            <p><a href=\"http://spark-ds-master1.newprolab.com:4045\">Spark UI</a></p>\n",
       "\n",
       "            <dl>\n",
       "              <dt>Version</dt>\n",
       "                <dd><code>v2.4.5</code></dd>\n",
       "              <dt>Master</dt>\n",
       "                <dd><code>yarn</code></dd>\n",
       "              <dt>AppName</dt>\n",
       "                <dd><code>pyspark-shell</code></dd>\n",
       "            </dl>\n",
       "        </div>\n",
       "        \n",
       "            </div>\n",
       "        "
      ],
      "text/plain": [
       "<pyspark.sql.session.SparkSession at 0x7f415cea0710>"
      ]
     },
     "execution_count": 2,
     "metadata": {},
     "output_type": "execute_result"
    }
   ],
   "source": [
    "spark"
   ]
  },
  {
   "cell_type": "markdown",
   "metadata": {},
   "source": [
    "![ALS](pics/mf.png)"
   ]
  },
  {
   "cell_type": "markdown",
   "metadata": {},
   "source": [
    "## Наша цель представить матрицу user-item ratings как произведение двух матриц меньшего ранга\n",
    "## $$R = U \\times P^\\top $$ \n",
    "## где\n",
    "## $$U \\in \\mathbb{R}^{n \\times k}, k \\ll n$$\n",
    "## и \n",
    "## $$P \\in \\mathbb{R}^{m \\times k}, k \\ll m$$"
   ]
  },
  {
   "cell_type": "markdown",
   "metadata": {},
   "source": [
    "## Как найти решение? Оптимизировать следующий функционал:\n",
    "## $$J = \\|R - U \\times P^\\top\\|_2 + \\lambda(\\|U\\|_2 + \\|P\\|_2)$$"
   ]
  },
  {
   "cell_type": "markdown",
   "metadata": {},
   "source": [
    "## Как это сделать?\n",
    "![GD](pics/gradient_descent.jpeg)"
   ]
  },
  {
   "cell_type": "markdown",
   "metadata": {},
   "source": [
    "## Возникают 2 проблемы:\n",
    "+ кол-во оптиимзируемых параметров $n \\times k + m \\times k$\n",
    "+ этот функционал non-convex (https://www.quora.com/Why-is-the-matrix-factorization-optimization-function-in-recommender-systems-not-convex)"
   ]
  },
  {
   "cell_type": "markdown",
   "metadata": {},
   "source": [
    "## Что же делать? ALS (alternating least squares)\n",
    "## обычный Least Squares\n",
    "## $$J(\\beta) = \\|y - X\\beta\\|_2$$\n",
    "## $$\\beta = (X^\\top X)^{-1}X^\\top y$$"
   ]
  },
  {
   "cell_type": "markdown",
   "metadata": {},
   "source": [
    "## ALS это 2-х шаговый итеративный процесс\n",
    "## $$ \\forall u_i : J(u_i) = \\|R_i - u_i \\times P^\\top\\|_2 + \\lambda\\|u_i\\|_2$$\n",
    "## $$ \\forall p_j : J(p_j) = \\|R_i - U \\times p^{\\top}_{j}\\|_2 + \\lambda\\|p_j\\|_2$$\n",
    "## Решение следующее\n",
    "## $$u_i = (P^\\top \\times P + \\lambda I)^{-1} \\times P^\\top \\times R_i$$\n",
    "## $$p_j = (U^\\top \\times U + \\lambda I)^{-1} \\times U^\\top \\times R_j$$"
   ]
  },
  {
   "cell_type": "code",
   "execution_count": 3,
   "metadata": {},
   "outputs": [],
   "source": [
    "from pyspark.sql.types import StructType, StructField, IntegerType, LongType"
   ]
  },
  {
   "cell_type": "code",
   "execution_count": 4,
   "metadata": {},
   "outputs": [],
   "source": [
    "schema = StructType([\n",
    "    StructField(\"user\", IntegerType()),\n",
    "    StructField(\"item\", IntegerType()),\n",
    "    StructField(\"rating\", IntegerType()),\n",
    "    StructField(\"timestamp\", LongType())\n",
    "])"
   ]
  },
  {
   "cell_type": "code",
   "execution_count": 5,
   "metadata": {},
   "outputs": [],
   "source": [
    "dataset = spark.read.csv(\"/lectures/lecture02/data/ml-100k/ua.base\", sep=\"\\t\", schema=schema).drop(\"timestamp\").repartition(20).cache()"
   ]
  },
  {
   "cell_type": "code",
   "execution_count": 6,
   "metadata": {},
   "outputs": [
    {
     "name": "stdout",
     "output_type": "stream",
     "text": [
      "+----+----+------+\n",
      "|user|item|rating|\n",
      "+----+----+------+\n",
      "| 297|   1|     3|\n",
      "| 119| 924|     4|\n",
      "| 373| 230|     4|\n",
      "| 900| 508|     3|\n",
      "|  13| 828|     1|\n",
      "+----+----+------+\n",
      "only showing top 5 rows\n",
      "\n"
     ]
    }
   ],
   "source": [
    "dataset.show(5)"
   ]
  },
  {
   "cell_type": "code",
   "execution_count": 7,
   "metadata": {},
   "outputs": [
    {
     "data": {
      "text/plain": [
       "20"
      ]
     },
     "execution_count": 7,
     "metadata": {},
     "output_type": "execute_result"
    }
   ],
   "source": [
    "dataset.rdd.getNumPartitions()"
   ]
  },
  {
   "cell_type": "code",
   "execution_count": 8,
   "metadata": {},
   "outputs": [],
   "source": [
    "from pyspark.ml.recommendation import ALS"
   ]
  },
  {
   "cell_type": "code",
   "execution_count": 9,
   "metadata": {},
   "outputs": [],
   "source": [
    "als = ALS(rank=10, maxIter=5, seed=5757)"
   ]
  },
  {
   "cell_type": "code",
   "execution_count": 10,
   "metadata": {},
   "outputs": [],
   "source": [
    "model = als.fit(dataset)"
   ]
  },
  {
   "cell_type": "code",
   "execution_count": 11,
   "metadata": {},
   "outputs": [
    {
     "data": {
      "text/plain": [
       "10"
      ]
     },
     "execution_count": 11,
     "metadata": {},
     "output_type": "execute_result"
    }
   ],
   "source": [
    "model.rank"
   ]
  },
  {
   "cell_type": "code",
   "execution_count": 12,
   "metadata": {},
   "outputs": [],
   "source": [
    "test = spark.read.csv(\"/lectures/lecture02/data/ml-100k/ua.test\", sep=\"\\t\", schema=schema).drop(\"timestamp\").repartition(4).cache()"
   ]
  },
  {
   "cell_type": "code",
   "execution_count": 13,
   "metadata": {},
   "outputs": [],
   "source": [
    "predictions = model.transform(test)"
   ]
  },
  {
   "cell_type": "code",
   "execution_count": 14,
   "metadata": {},
   "outputs": [
    {
     "name": "stdout",
     "output_type": "stream",
     "text": [
      "+----+----+------+----------+\n",
      "|user|item|rating|prediction|\n",
      "+----+----+------+----------+\n",
      "| 251| 148|     2|  3.038124|\n",
      "| 580| 148|     4| 3.0317912|\n",
      "| 602| 148|     4| 3.5022647|\n",
      "| 372| 148|     5| 3.8346112|\n",
      "| 274| 148|     2| 3.3601744|\n",
      "+----+----+------+----------+\n",
      "only showing top 5 rows\n",
      "\n"
     ]
    }
   ],
   "source": [
    "predictions.show(5)"
   ]
  },
  {
   "cell_type": "code",
   "execution_count": 15,
   "metadata": {},
   "outputs": [],
   "source": [
    "from pyspark.ml.evaluation import RegressionEvaluator"
   ]
  },
  {
   "cell_type": "code",
   "execution_count": 16,
   "metadata": {},
   "outputs": [],
   "source": [
    "evaluator = RegressionEvaluator(labelCol=\"rating\", metricName=\"rmse\")"
   ]
  },
  {
   "cell_type": "code",
   "execution_count": 17,
   "metadata": {},
   "outputs": [
    {
     "data": {
      "text/plain": [
       "nan"
      ]
     },
     "execution_count": 17,
     "metadata": {},
     "output_type": "execute_result"
    }
   ],
   "source": [
    "evaluator.evaluate(predictions)"
   ]
  },
  {
   "cell_type": "markdown",
   "metadata": {},
   "source": [
    "![wtf](pics/Jackie-Chan-WTF.jpg)"
   ]
  },
  {
   "cell_type": "code",
   "execution_count": 18,
   "metadata": {},
   "outputs": [
    {
     "name": "stdout",
     "output_type": "stream",
     "text": [
      "+------+-----+\n",
      "|rating|count|\n",
      "+------+-----+\n",
      "|     1|  542|\n",
      "|     3| 2424|\n",
      "|     5| 2153|\n",
      "|     4| 3316|\n",
      "|     2|  995|\n",
      "+------+-----+\n",
      "\n"
     ]
    }
   ],
   "source": [
    "predictions.groupBy(\"rating\").count().show()"
   ]
  },
  {
   "cell_type": "code",
   "execution_count": 19,
   "metadata": {},
   "outputs": [],
   "source": [
    "import pyspark.sql.functions as f"
   ]
  },
  {
   "cell_type": "code",
   "execution_count": 20,
   "metadata": {},
   "outputs": [
    {
     "data": {
      "text/plain": [
       "2"
      ]
     },
     "execution_count": 20,
     "metadata": {},
     "output_type": "execute_result"
    }
   ],
   "source": [
    "predictions.filter(f.isnan(\"prediction\")).count()"
   ]
  },
  {
   "cell_type": "code",
   "execution_count": 21,
   "metadata": {},
   "outputs": [
    {
     "data": {
      "text/plain": [
       "[Row(user=675, item=1653, rating=5, prediction=nan),\n",
       " Row(user=405, item=1582, rating=1, prediction=nan)]"
      ]
     },
     "execution_count": 21,
     "metadata": {},
     "output_type": "execute_result"
    }
   ],
   "source": [
    "predictions.filter(f.isnan(\"prediction\")).collect()"
   ]
  },
  {
   "cell_type": "code",
   "execution_count": 22,
   "metadata": {},
   "outputs": [
    {
     "name": "stdout",
     "output_type": "stream",
     "text": [
      "+----+----+------+\n",
      "|user|item|rating|\n",
      "+----+----+------+\n",
      "| 675| 235|     1|\n",
      "| 675| 311|     3|\n",
      "| 675| 937|     1|\n",
      "| 675| 258|     3|\n",
      "| 675| 900|     4|\n",
      "| 675| 242|     4|\n",
      "| 675| 750|     4|\n",
      "| 675|  86|     4|\n",
      "| 675| 272|     3|\n",
      "| 675| 244|     3|\n",
      "| 675| 318|     5|\n",
      "| 675| 891|     2|\n",
      "| 675| 344|     4|\n",
      "| 675|1628|     5|\n",
      "| 675|1007|     4|\n",
      "| 675| 303|     5|\n",
      "| 675| 223|     1|\n",
      "| 675| 427|     5|\n",
      "| 675| 286|     4|\n",
      "| 675| 896|     5|\n",
      "+----+----+------+\n",
      "only showing top 20 rows\n",
      "\n"
     ]
    }
   ],
   "source": [
    "dataset.filter(dataset.user == 675).show()"
   ]
  },
  {
   "cell_type": "code",
   "execution_count": 23,
   "metadata": {},
   "outputs": [
    {
     "name": "stdout",
     "output_type": "stream",
     "text": [
      "+----+----+------+\n",
      "|user|item|rating|\n",
      "+----+----+------+\n",
      "+----+----+------+\n",
      "\n"
     ]
    }
   ],
   "source": [
    "dataset.filter(dataset.item == 1653).show()"
   ]
  },
  {
   "cell_type": "code",
   "execution_count": 24,
   "metadata": {},
   "outputs": [
    {
     "name": "stdout",
     "output_type": "stream",
     "text": [
      "+----+----+------+\n",
      "|user|item|rating|\n",
      "+----+----+------+\n",
      "+----+----+------+\n",
      "\n"
     ]
    }
   ],
   "source": [
    "dataset.filter(dataset.item == 1582).show()"
   ]
  },
  {
   "cell_type": "code",
   "execution_count": 25,
   "metadata": {},
   "outputs": [],
   "source": [
    "predictions = predictions.dropna()"
   ]
  },
  {
   "cell_type": "code",
   "execution_count": 26,
   "metadata": {},
   "outputs": [
    {
     "data": {
      "text/plain": [
       "0.9590533627741923"
      ]
     },
     "execution_count": 26,
     "metadata": {},
     "output_type": "execute_result"
    }
   ],
   "source": [
    "evaluator.evaluate(predictions)"
   ]
  },
  {
   "cell_type": "markdown",
   "metadata": {},
   "source": [
    "## Что делать с cold start в Spark?!"
   ]
  },
  {
   "cell_type": "code",
   "execution_count": 27,
   "metadata": {},
   "outputs": [],
   "source": [
    "model = als.fit(dataset, params={als.coldStartStrategy: \"drop\"})"
   ]
  },
  {
   "cell_type": "code",
   "execution_count": 28,
   "metadata": {},
   "outputs": [
    {
     "data": {
      "text/plain": [
       "'drop'"
      ]
     },
     "execution_count": 28,
     "metadata": {},
     "output_type": "execute_result"
    }
   ],
   "source": [
    "model.getOrDefault(\"coldStartStrategy\")"
   ]
  },
  {
   "cell_type": "code",
   "execution_count": 29,
   "metadata": {},
   "outputs": [],
   "source": [
    "predictions = model.transform(test)"
   ]
  },
  {
   "cell_type": "code",
   "execution_count": 30,
   "metadata": {},
   "outputs": [
    {
     "data": {
      "text/plain": [
       "0.9590533627741923"
      ]
     },
     "execution_count": 30,
     "metadata": {},
     "output_type": "execute_result"
    }
   ],
   "source": [
    "evaluator.evaluate(predictions)"
   ]
  },
  {
   "cell_type": "markdown",
   "metadata": {},
   "source": [
    "## Можем ли мы лучше?"
   ]
  },
  {
   "cell_type": "code",
   "execution_count": 31,
   "metadata": {},
   "outputs": [],
   "source": [
    "model = als.fit(dataset, params={als.coldStartStrategy: \"drop\", als.maxIter: 20})"
   ]
  },
  {
   "cell_type": "code",
   "execution_count": 32,
   "metadata": {},
   "outputs": [],
   "source": [
    "predictions = model.transform(test)"
   ]
  },
  {
   "cell_type": "code",
   "execution_count": 33,
   "metadata": {},
   "outputs": [
    {
     "data": {
      "text/plain": [
       "0.9558872242636991"
      ]
     },
     "execution_count": 33,
     "metadata": {},
     "output_type": "execute_result"
    }
   ],
   "source": [
    "evaluator.evaluate(predictions)"
   ]
  },
  {
   "cell_type": "markdown",
   "metadata": {},
   "source": [
    "## А еще лучше?"
   ]
  },
  {
   "cell_type": "code",
   "execution_count": 34,
   "metadata": {},
   "outputs": [],
   "source": [
    "model = als.fit(dataset, params={als.coldStartStrategy: \"drop\", als.maxIter: 20, als.rank: 100})"
   ]
  },
  {
   "cell_type": "code",
   "execution_count": 35,
   "metadata": {},
   "outputs": [],
   "source": [
    "predictions = model.transform(test)"
   ]
  },
  {
   "cell_type": "code",
   "execution_count": 36,
   "metadata": {},
   "outputs": [
    {
     "data": {
      "text/plain": [
       "0.9475039684939921"
      ]
     },
     "execution_count": 36,
     "metadata": {},
     "output_type": "execute_result"
    }
   ],
   "source": [
    "evaluator.evaluate(predictions)"
   ]
  },
  {
   "cell_type": "markdown",
   "metadata": {},
   "source": [
    "## Заглянем внутрь?"
   ]
  },
  {
   "cell_type": "code",
   "execution_count": 37,
   "metadata": {},
   "outputs": [
    {
     "data": {
      "text/plain": [
       "[Row(item=1580, recommendations=[Row(user=405, rating=0.9766721129417419), Row(user=507, rating=0.8202009201049805), Row(user=38, rating=0.8191449046134949), Row(user=175, rating=0.8150184154510498), Row(user=388, rating=0.7907520532608032)]),\n",
       " Row(item=471, recommendations=[Row(user=939, rating=4.705004692077637), Row(user=907, rating=4.694290637969971), Row(user=357, rating=4.665385723114014), Row(user=849, rating=4.568941116333008), Row(user=532, rating=4.490878582000732)]),\n",
       " Row(item=1591, recommendations=[Row(user=519, rating=4.819264888763428), Row(user=440, rating=4.734762668609619), Row(user=688, rating=4.221287727355957), Row(user=427, rating=3.889539957046509), Row(user=260, rating=3.769451379776001)]),\n",
       " Row(item=1342, recommendations=[Row(user=662, rating=3.8292653560638428), Row(user=849, rating=3.3050215244293213), Row(user=212, rating=3.2683603763580322), Row(user=369, rating=3.1982271671295166), Row(user=157, rating=3.150738000869751)]),\n",
       " Row(item=463, recommendations=[Row(user=219, rating=5.134032249450684), Row(user=52, rating=4.74126672744751), Row(user=136, rating=4.737242221832275), Row(user=239, rating=4.679781913757324), Row(user=173, rating=4.677590370178223)])]"
      ]
     },
     "execution_count": 37,
     "metadata": {},
     "output_type": "execute_result"
    }
   ],
   "source": [
    "model.recommendForAllItems(5).take(5)"
   ]
  },
  {
   "cell_type": "code",
   "execution_count": 38,
   "metadata": {},
   "outputs": [
    {
     "data": {
      "text/plain": [
       "[Row(user=471, recommendations=[Row(item=932, rating=4.59334659576416), Row(item=8, rating=4.515803337097168), Row(item=422, rating=4.430621147155762), Row(item=102, rating=4.418323040008545), Row(item=465, rating=4.4073286056518555)]),\n",
       " Row(user=463, recommendations=[Row(item=19, rating=4.3579511642456055), Row(item=887, rating=4.278357982635498), Row(item=1449, rating=4.222947597503662), Row(item=221, rating=4.208576679229736), Row(item=253, rating=4.199032783508301)]),\n",
       " Row(user=833, recommendations=[Row(item=1597, rating=4.580961227416992), Row(item=1019, rating=4.381778240203857), Row(item=1187, rating=4.379821300506592), Row(item=589, rating=4.34868049621582), Row(item=488, rating=4.308185577392578)]),\n",
       " Row(user=496, recommendations=[Row(item=56, rating=4.302997589111328), Row(item=320, rating=4.296531677246094), Row(item=42, rating=4.181881427764893), Row(item=921, rating=4.170877456665039), Row(item=1240, rating=4.105301856994629)]),\n",
       " Row(user=148, recommendations=[Row(item=169, rating=4.889651298522949), Row(item=1463, rating=4.748968601226807), Row(item=199, rating=4.743557929992676), Row(item=50, rating=4.7148895263671875), Row(item=647, rating=4.702552318572998)])]"
      ]
     },
     "execution_count": 38,
     "metadata": {},
     "output_type": "execute_result"
    }
   ],
   "source": [
    "model.recommendForAllUsers(5).take(5)"
   ]
  },
  {
   "cell_type": "code",
   "execution_count": 39,
   "metadata": {},
   "outputs": [
    {
     "data": {
      "text/plain": [
       "[Row(id=10, features=[-0.17320072650909424, 0.13949139416217804, 0.08175767958164215, -0.02062435820698738, 0.12047522515058517, 0.08650190383195877, -0.05590004846453667, 0.6714649796485901, -0.004701962228864431, -0.2840914726257324, -0.2685687839984894, -0.33872973918914795, -0.17306829988956451, 0.6884441375732422, -0.01208356861025095, 0.5139780640602112, -0.16328637301921844, -0.10118523985147476, -0.02909262850880623, -0.1980876475572586, -0.21409818530082703, 0.10442737489938736, 0.05759561434388161, 0.3170529305934906, -0.10258181393146515, -0.2047143429517746, 0.06586514413356781, 0.24610474705696106, 0.2574028968811035, -0.11565375328063965, 0.2906339168548584, 0.09016047418117523, -0.011517101898789406, -0.37064695358276367, -0.08438008278608322, -0.3516891896724701, -0.11993979662656784, 0.5081120729446411, -0.3401847779750824, 0.35814446210861206, -0.055438581854104996, 0.013906936161220074, -0.062037624418735504, 0.02051541954278946, 0.08401115983724594, -0.10739913582801819, -0.04194281995296478, 0.13858287036418915, -0.1863631159067154, 0.21966686844825745, -0.08665525913238525, -0.2733878493309021, -0.35123470425605774, 0.44190025329589844, -0.24049006402492523, -0.10358921438455582, 0.18618512153625488, -0.32379579544067383, -0.4933469593524933, -0.47278475761413574, 0.09500505775213242, -0.08276768028736115, 0.2298818826675415, 0.18485736846923828, 0.0730171874165535, -0.09353332221508026, -0.12660495936870575, -0.11878297477960587, 0.18586137890815735, -0.18536750972270966, -0.05202203616499901, -0.16571871936321259, -0.14747226238250732, 0.09607233852148056, -0.16677801311016083, -0.3396984934806824, -0.053408216685056686, 0.22014939785003662, 0.2108449935913086, 0.33821699023246765, 0.045453693717718124, 0.17484860122203827, 0.35967305302619934, 0.2271558940410614, -0.044465698301792145, -0.14173243939876556, -0.09554164856672287, -0.033306267112493515, 0.45268598198890686, 0.41258978843688965, -0.07215720415115356, 0.13496045768260956, 0.2587164640426636, -0.23682044446468353, -0.17255933582782745, -0.21481673419475555, 0.3872036039829254, 0.12283051759004593, 0.11174360662698746, -0.04205561429262161]),\n",
       " Row(id=20, features=[0.15676012635231018, 0.1476081907749176, -0.00011094844376202673, -0.17182114720344543, 0.21432161331176758, -0.20783890783786774, -0.5112587213516235, 0.41280102729797363, 0.16205745935440063, -0.19493205845355988, -0.14369381964206696, -0.4917656183242798, -0.2948022186756134, 0.6734850406646729, -0.36621275544166565, 0.09152604639530182, -0.09625393897294998, 0.19167760014533997, -0.028520965948700905, -0.18675962090492249, -0.27936404943466187, 0.1411808729171753, -0.1056024432182312, 0.0020380376372486353, -0.003231945913285017, -0.062367212027311325, -0.018743274733424187, -0.06314502656459808, 0.23195862770080566, 0.00448943767696619, 0.29714319109916687, 0.10130990296602249, 0.13900120556354523, -0.01669420674443245, -0.13232949376106262, -0.054300278425216675, -0.28475478291511536, 0.33663272857666016, -0.12309012562036514, 0.06900909543037415, -0.265095055103302, 0.0369255356490612, -0.10894084721803665, 0.14931148290634155, -0.09761294722557068, -0.1508365422487259, 0.09651834517717361, -0.10082924365997314, -0.3187158405780792, -0.3249611258506775, 0.08182908594608307, -0.11798892170190811, 0.26250165700912476, -0.24798691272735596, 0.057666126638650894, -0.21384593844413757, 0.07667001336812973, -0.09721046686172485, -0.37729352712631226, -0.15653318166732788, 0.24778655171394348, 0.2740863859653473, 0.24019038677215576, 0.26395004987716675, -0.28995850682258606, -0.08043189346790314, 0.17427730560302734, -0.3365285098552704, 0.2284938544034958, -0.27218109369277954, -0.03249889612197876, -0.02354334481060505, -0.329336941242218, -0.1827850490808487, -0.028403421863913536, 0.09480919688940048, -0.37152549624443054, 0.23040571808815002, 0.05823642015457153, 0.17954932153224945, 0.23862747848033905, 0.3953433632850647, 0.4370424151420593, 0.09049768000841141, 0.15417906641960144, -0.15409262478351593, 0.29363593459129333, 0.25931501388549805, 0.6379268169403076, 0.30605778098106384, -0.139985129237175, 0.1653766632080078, 0.49589958786964417, -0.06106540560722351, -0.289577841758728, -0.2618636190891266, 0.23642770946025848, 0.20926152169704437, 0.15481440722942352, 0.09463214129209518]),\n",
       " Row(id=30, features=[0.003946868237107992, -0.01870664954185486, 0.007347538135945797, -0.13159947097301483, 0.10505925863981247, 0.05336473509669304, -0.12355509400367737, 0.5726431012153625, -0.03143085166811943, -0.026521854102611542, -0.2601169943809509, -0.37318331003189087, 0.09607288986444473, 0.6802937388420105, -0.258124977350235, 0.2875511944293976, -0.02543751895427704, 0.11618463695049286, 0.02027985453605652, -0.4098670780658722, -0.16106748580932617, 0.05285068601369858, -0.15022139251232147, 0.08801531791687012, -0.0393136665225029, -0.20609010756015778, -0.006500899326056242, 0.11710986495018005, 0.18566405773162842, -0.0007657808600924909, 0.21919335424900055, -0.07631982117891312, 0.14112195372581482, -0.14530529081821442, -0.21147438883781433, -0.07628045976161957, -0.14000284671783447, 0.36899539828300476, -0.27607011795043945, 0.07418541610240936, -0.34247341752052307, -0.08197829127311707, -0.0692337229847908, 0.13399085402488708, -0.0363909974694252, -0.2773470878601074, -0.08958116918802261, -0.002455540467053652, -0.2540338933467865, 0.09185469895601273, 0.06533568352460861, -0.24920567870140076, -0.1275995820760727, 0.05106935277581215, -0.34045758843421936, -0.26440441608428955, 0.153028205037117, -0.12923194468021393, -0.6600396037101746, -0.03816874325275421, 0.255929172039032, -0.07117325067520142, 0.1582847237586975, 0.12502852082252502, 0.20045310258865356, -0.22659353911876678, -0.018485400825738907, -0.29798826575279236, 0.24943678081035614, -0.16834299266338348, -0.1472197026014328, -0.07723098993301392, -0.19246040284633636, -0.08090801537036896, -0.2186419516801834, 0.05707952380180359, -0.3966625928878784, 0.316575288772583, 0.24626217782497406, 0.34277477860450745, 0.09413174539804459, -0.03815559670329094, 0.1732047200202942, 0.03682612627744675, 0.10486304014921188, -0.11277677863836288, 0.16682054102420807, 0.28129711747169495, 0.3260634243488312, 0.1691157966852188, 0.00940511841326952, 0.034765396267175674, 0.2695111036300659, -0.021019870415329933, -0.46315765380859375, -0.13333743810653687, 0.5717028975486755, 0.3299657106399536, -0.015596982091665268, -0.0020128805190324783]),\n",
       " Row(id=40, features=[0.03520715609192848, -0.12061388790607452, 0.019754892215132713, 0.07792378962039948, 0.1655796766281128, 0.09343533962965012, -0.016910044476389885, 0.37039047479629517, 0.32613879442214966, -0.033170219510793686, -0.1685287058353424, 0.0335015170276165, -0.14317350089550018, 0.403524786233902, -0.113539919257164, 0.3348034620285034, -0.06541302800178528, 0.1511310189962387, 0.054019745439291, -0.20558391511440277, -0.03786073252558708, -0.3110347092151642, 0.30276361107826233, 0.31135427951812744, -0.19398850202560425, -0.1012328639626503, 0.12189696729183197, 0.12608426809310913, 0.2866729497909546, 0.21206705272197723, 0.2566118836402893, 0.09978993982076645, 0.016352515667676926, -0.3640100955963135, -0.26950231194496155, -0.18473972380161285, 0.05082199349999428, 0.5002020001411438, -0.4213404357433319, 0.06615887582302094, -0.4582567512989044, -0.15787820518016815, 0.04373123124241829, 0.2307417094707489, 0.05322437733411789, 0.015082808211445808, 0.2137293517589569, 0.12895482778549194, -0.09017445892095566, -0.28637513518333435, 0.2966563403606415, -0.007918709889054298, -0.10972263664007187, 0.1308697909116745, -0.05655591934919357, 0.35506585240364075, 0.1996183693408966, -0.0683213472366333, -0.39600566029548645, -0.11828836053609848, -0.009592035785317421, 0.22197793424129486, -0.11068151146173477, -0.03581662103533745, -0.1846230924129486, -0.08972780406475067, 0.12062965333461761, 0.06948591023683548, -0.2303047478199005, -0.09098473191261292, -0.14621639251708984, -0.15999293327331543, -0.5010620355606079, -0.03148244321346283, -0.081653892993927, -0.21994610130786896, -0.24932612478733063, 0.10945393890142441, 0.29726722836494446, -0.02856612205505371, -0.05291743949055672, -0.08683838695287704, 0.18820302188396454, 0.09681069105863571, -0.1711902618408203, -0.026380863040685654, 0.034290947020053864, 0.03380674868822098, 0.5770336985588074, 0.041240349411964417, -0.2641153633594513, 0.10115783661603928, 0.36537468433380127, -0.10623637586832047, 0.07808997482061386, -0.16092751920223236, 0.14435744285583496, 0.38993749022483826, 0.09575703740119934, -0.18882815539836884]),\n",
       " Row(id=50, features=[-0.07264810055494308, -0.00873368326574564, 0.2951958477497101, 0.11801519989967346, 0.09696728736162186, -0.01853201352059841, -0.0562225840985775, 0.4174909293651581, 0.17744658887386322, -0.07220529019832611, -0.12361443787813187, -0.14412246644496918, -0.1638379991054535, 0.6485856175422668, 0.03839493915438652, 0.15121665596961975, -0.05561282858252525, -0.1843365728855133, -0.05973700061440468, -0.18289199471473694, -0.08368097245693207, 0.03981120139360428, -0.1252443939447403, -0.014235426671802998, -0.08204090595245361, -0.05128389596939087, -0.093345046043396, 0.18184112012386322, 0.4754597544670105, 0.019973816350102425, 0.21643057465553284, 0.04674265533685684, 0.06374013423919678, -0.18538719415664673, -0.4814993441104889, -0.33434176445007324, 0.15903830528259277, 0.31857985258102417, -0.007768017705529928, 0.2104114443063736, -0.42523491382598877, -0.11069238930940628, 0.020596761256456375, -0.05252064764499664, 0.0173362884670496, 0.1742544174194336, 0.16347074508666992, 0.4439440965652466, -0.32191041111946106, -0.06577043980360031, -0.05181748792529106, -0.17437800765037537, -0.1368114948272705, 0.04145798087120056, -0.22205586731433868, -0.16435448825359344, 0.15886680781841278, -0.2473120540380478, -0.5956854224205017, -0.208075612783432, 0.28710314631462097, -0.1156734749674797, 0.012536544352769852, 0.20518285036087036, 0.0767393708229065, -0.5817568898200989, 0.052556004375219345, -0.38209953904151917, 0.3741038143634796, -0.40446528792381287, -0.16901129484176636, -0.24467279016971588, -0.1627277433872223, -0.26254400610923767, -0.22170305252075195, -0.12932755053043365, -0.33018407225608826, 0.2762979567050934, 0.28242015838623047, 0.28096383810043335, 0.19258925318717957, -0.2756269574165344, 0.5655097961425781, 0.041038017719984055, -0.06315478682518005, -0.2910694479942322, 0.26752379536628723, -0.03626688942313194, 0.6042665839195251, -0.00101787771563977, 0.14603497087955475, 0.085096575319767, 0.33389171957969666, -0.30928197503089905, -0.28830400109291077, -0.018441926687955856, 0.19392336905002594, 0.4489142596721649, -0.08336611092090607, -0.12189298123121262])]"
      ]
     },
     "execution_count": 39,
     "metadata": {},
     "output_type": "execute_result"
    }
   ],
   "source": [
    "model.itemFactors.take(5)"
   ]
  },
  {
   "cell_type": "code",
   "execution_count": 41,
   "metadata": {},
   "outputs": [],
   "source": [
    "spark.stop()"
   ]
  },
  {
   "cell_type": "code",
   "execution_count": null,
   "metadata": {},
   "outputs": [],
   "source": []
  }
 ],
 "metadata": {
  "kernelspec": {
   "display_name": "Python 3",
   "language": "python",
   "name": "python3"
  },
  "language_info": {
   "codemirror_mode": {
    "name": "ipython",
    "version": 3
   },
   "file_extension": ".py",
   "mimetype": "text/x-python",
   "name": "python",
   "nbconvert_exporter": "python",
   "pygments_lexer": "ipython3",
   "version": "3.6.5"
  }
 },
 "nbformat": 4,
 "nbformat_minor": 2
}
