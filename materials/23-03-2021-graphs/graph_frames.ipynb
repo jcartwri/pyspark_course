{
 "cells": [
  {
   "cell_type": "markdown",
   "metadata": {},
   "source": [
    "### Graph Frames"
   ]
  },
  {
   "cell_type": "code",
   "execution_count": 1,
   "metadata": {},
   "outputs": [],
   "source": [
    "import os\n",
    "import sys\n",
    "\n",
    "os.environ[\"PYSPARK_SUBMIT_ARGS\"]='pyspark-shell'\n",
    "os.environ[\"PYSPARK_PYTHON\"]='/opt/anaconda/envs/bd9/bin/python'\n",
    "os.environ[\"SPARK_HOME\"]='/usr/hdp/current/spark2-client'\n",
    "\n",
    "spark_home = os.environ.get('SPARK_HOME', None)\n",
    "if not spark_home:\n",
    "    raise ValueError('SPARK_HOME environment variable is not set')\n",
    "sys.path.insert(0, os.path.join(spark_home, 'python'))\n",
    "sys.path.insert(0, os.path.join(spark_home, 'python/lib/py4j-0.10.7-src.zip'))"
   ]
  },
  {
   "cell_type": "code",
   "execution_count": 2,
   "metadata": {},
   "outputs": [],
   "source": [
    "from pyspark import SparkConf\n",
    "from pyspark.sql import SparkSession\n",
    "\n",
    "conf = SparkConf()\n",
    "conf.set(\"spark.app.name\", \"natasha pritykovskaya Spark Dataframe app\") \n",
    "\n",
    "spark = SparkSession.builder.config(conf=conf).appName(\"natasha pritykovskaya Spark Dataframe app\").getOrCreate()"
   ]
  },
  {
   "cell_type": "code",
   "execution_count": null,
   "metadata": {},
   "outputs": [],
   "source": [
    "from graphframes import *"
   ]
  },
  {
   "cell_type": "code",
   "execution_count": 36,
   "metadata": {},
   "outputs": [],
   "source": [
    "vertices = spark.createDataFrame([\n",
    "    (\"1\", \"Alex\", 28, \"M\", \"MIPT\"),\n",
    "    (\"2\", \"Emeli\", 28, \"F\", \"MIPT\"),\n",
    "    (\"3\", \"Natasha\", 27, \"F\", \"SPbSU\"),\n",
    "    (\"4\", \"Pavel\", 30, \"M\", \"MIPT\"),\n",
    "    (\"5\", \"Oleg\", 35, \"M\", \"MIPT\"),\n",
    "    (\"6\", \"Ivan\", 30, \"M\", \"MSU\"),\n",
    "    (\"7\", \"Ilya\", 29, \"M\", \"MSU\")], \n",
    "[\"id\", \"name\", \"age\", \"gender\", \"university\"])"
   ]
  },
  {
   "cell_type": "code",
   "execution_count": 37,
   "metadata": {},
   "outputs": [],
   "source": [
    "edges = spark.createDataFrame([\n",
    "    (\"1\", \"2\", \"friend\"),\n",
    "    (\"2\", \"1\", \"friend\"),\n",
    "    (\"1\", \"3\", \"friend\"),\n",
    "    (\"3\", \"1\", \"friend\"),\n",
    "    (\"1\", \"4\", \"friend\"),\n",
    "    (\"4\", \"1\", \"friend\"),\n",
    "    (\"2\", \"3\", \"friend\"),\n",
    "    (\"3\", \"2\", \"friend\"),\n",
    "    (\"2\", \"5\", \"friend\"),\n",
    "    (\"5\", \"2\", \"friend\"),\n",
    "    (\"3\", \"4\", \"friend\"),\n",
    "    (\"4\", \"3\", \"friend\"),\n",
    "    (\"3\", \"5\", \"friend\"),\n",
    "    (\"5\", \"3\", \"friend\"),\n",
    "    (\"3\", \"6\", \"friend\"),\n",
    "    (\"6\", \"3\", \"friend\"),\n",
    "    (\"3\", \"7\", \"friend\"),\n",
    "    (\"7\", \"3\", \"friend\")\n",
    "], [\"src\", \"dst\", \"relationship\"])"
   ]
  },
  {
   "cell_type": "markdown",
   "metadata": {},
   "source": [
    "<img src=\"pics/graph_graphframes.png\" width=500/>"
   ]
  },
  {
   "cell_type": "code",
   "execution_count": 38,
   "metadata": {},
   "outputs": [],
   "source": [
    "g = GraphFrame(vertices, edges)"
   ]
  },
  {
   "cell_type": "code",
   "execution_count": 39,
   "metadata": {},
   "outputs": [
    {
     "name": "stdout",
     "output_type": "stream",
     "text": [
      "+---+-------+---+------+----------+\n",
      "| id|   name|age|gender|university|\n",
      "+---+-------+---+------+----------+\n",
      "|  1|   Alex| 28|     M|      MIPT|\n",
      "|  2|  Emeli| 28|     F|      MIPT|\n",
      "|  3|Natasha| 27|     F|     SPbSU|\n",
      "|  4|  Pavel| 30|     M|      MIPT|\n",
      "|  5|   Oleg| 35|     M|      MIPT|\n",
      "|  6|   Ivan| 30|     M|       MSU|\n",
      "|  7|   Ilya| 29|     M|       MSU|\n",
      "+---+-------+---+------+----------+\n",
      "\n"
     ]
    }
   ],
   "source": [
    "g.vertices.show()"
   ]
  },
  {
   "cell_type": "code",
   "execution_count": 40,
   "metadata": {},
   "outputs": [
    {
     "name": "stdout",
     "output_type": "stream",
     "text": [
      "+---+---+------------+\n",
      "|src|dst|relationship|\n",
      "+---+---+------------+\n",
      "|  1|  2|      friend|\n",
      "|  2|  1|      friend|\n",
      "|  1|  3|      friend|\n",
      "|  3|  1|      friend|\n",
      "|  1|  4|      friend|\n",
      "|  4|  1|      friend|\n",
      "|  2|  3|      friend|\n",
      "|  3|  2|      friend|\n",
      "|  2|  5|      friend|\n",
      "|  5|  2|      friend|\n",
      "|  3|  4|      friend|\n",
      "|  4|  3|      friend|\n",
      "|  3|  5|      friend|\n",
      "|  5|  3|      friend|\n",
      "|  3|  6|      friend|\n",
      "|  6|  3|      friend|\n",
      "|  3|  7|      friend|\n",
      "|  7|  3|      friend|\n",
      "+---+---+------------+\n",
      "\n"
     ]
    }
   ],
   "source": [
    "g.edges.show()"
   ]
  },
  {
   "cell_type": "code",
   "execution_count": 41,
   "metadata": {},
   "outputs": [
    {
     "name": "stdout",
     "output_type": "stream",
     "text": [
      "+---+----+---+------+----------+\n",
      "| id|name|age|gender|university|\n",
      "+---+----+---+------+----------+\n",
      "|  5|Oleg| 35|     M|      MIPT|\n",
      "+---+----+---+------+----------+\n",
      "\n"
     ]
    }
   ],
   "source": [
    "g.vertices.filter(\"age > 30\").show()"
   ]
  },
  {
   "cell_type": "code",
   "execution_count": 42,
   "metadata": {},
   "outputs": [
    {
     "name": "stdout",
     "output_type": "stream",
     "text": [
      "+---+--------+\n",
      "| id|inDegree|\n",
      "+---+--------+\n",
      "|  3|       6|\n",
      "|  5|       2|\n",
      "|  1|       3|\n",
      "|  4|       2|\n",
      "|  2|       3|\n",
      "+---+--------+\n",
      "\n"
     ]
    }
   ],
   "source": [
    "g.inDegrees.filter(\"inDegree >= 2\").show(10)"
   ]
  },
  {
   "cell_type": "markdown",
   "metadata": {},
   "source": [
    "# Кол-во треугольников"
   ]
  },
  {
   "cell_type": "code",
   "execution_count": 43,
   "metadata": {},
   "outputs": [
    {
     "name": "stdout",
     "output_type": "stream",
     "text": [
      "+-----+---+-------+---+------+----------+\n",
      "|count| id|   name|age|gender|university|\n",
      "+-----+---+-------+---+------+----------+\n",
      "|    0|  7|   Ilya| 29|     M|       MSU|\n",
      "|    3|  3|Natasha| 27|     F|     SPbSU|\n",
      "|    1|  5|   Oleg| 35|     M|      MIPT|\n",
      "|    0|  6|   Ivan| 30|     M|       MSU|\n",
      "|    2|  1|   Alex| 28|     M|      MIPT|\n",
      "|    1|  4|  Pavel| 30|     M|      MIPT|\n",
      "|    2|  2|  Emeli| 28|     F|      MIPT|\n",
      "+-----+---+-------+---+------+----------+\n",
      "\n"
     ]
    }
   ],
   "source": [
    "g.triangleCount().show()"
   ]
  },
  {
   "cell_type": "markdown",
   "metadata": {},
   "source": [
    "### Компоненты связности"
   ]
  },
  {
   "cell_type": "code",
   "execution_count": 44,
   "metadata": {},
   "outputs": [],
   "source": [
    "edges = spark.createDataFrame([\n",
    "    (\"1\", \"2\", \"friend\"),\n",
    "    (\"1\", \"4\", \"friend\"),\n",
    "    (\"3\", \"5\", \"friend\"),\n",
    "    (\"3\", \"6\", \"friend\"),\n",
    "], [\"src\", \"dst\", \"relationship\"])"
   ]
  },
  {
   "cell_type": "markdown",
   "metadata": {},
   "source": [
    "<img src=\"pics/graph_small_amount_of_links.png\" width=500/>"
   ]
  },
  {
   "cell_type": "code",
   "execution_count": 45,
   "metadata": {},
   "outputs": [],
   "source": [
    "g = GraphFrame(vertices, edges)"
   ]
  },
  {
   "cell_type": "code",
   "execution_count": 46,
   "metadata": {},
   "outputs": [
    {
     "name": "stdout",
     "output_type": "stream",
     "text": [
      "+---+-------------+\n",
      "| id|    component|\n",
      "+---+-------------+\n",
      "|  7|  25769803776|\n",
      "|  3| 154618822656|\n",
      "|  5| 154618822656|\n",
      "|  6| 154618822656|\n",
      "|  1|1236950581248|\n",
      "|  2|1236950581248|\n",
      "|  4|1236950581248|\n",
      "+---+-------------+\n",
      "\n"
     ]
    }
   ],
   "source": [
    "sc.setCheckpointDir(\"/user/natalya.pritykovskaya/\")\n",
    "result = g.connectedComponents()\n",
    "result.select(\"id\", \"component\").orderBy(\"component\").show()"
   ]
  },
  {
   "cell_type": "code",
   "execution_count": 47,
   "metadata": {},
   "outputs": [],
   "source": [
    "g = g.dropIsolatedVertices()"
   ]
  },
  {
   "cell_type": "code",
   "execution_count": 48,
   "metadata": {},
   "outputs": [
    {
     "name": "stdout",
     "output_type": "stream",
     "text": [
      "+---+-------+---+------+----------+\n",
      "| id|   name|age|gender|university|\n",
      "+---+-------+---+------+----------+\n",
      "|  3|Natasha| 27|     F|     SPbSU|\n",
      "|  5|   Oleg| 35|     M|      MIPT|\n",
      "|  6|   Ivan| 30|     M|       MSU|\n",
      "|  1|   Alex| 28|     M|      MIPT|\n",
      "|  4|  Pavel| 30|     M|      MIPT|\n",
      "|  2|  Emeli| 28|     F|      MIPT|\n",
      "+---+-------+---+------+----------+\n",
      "\n"
     ]
    }
   ],
   "source": [
    "g.vertices.show()"
   ]
  },
  {
   "cell_type": "markdown",
   "metadata": {},
   "source": [
    "### Page rank"
   ]
  },
  {
   "cell_type": "code",
   "execution_count": 49,
   "metadata": {},
   "outputs": [],
   "source": [
    "vertices = spark.createDataFrame([\n",
    "    (\"1\", \"Alex\", 28, \"M\", \"MIPT\"),\n",
    "    (\"2\", \"Emeli\", 28, \"F\", \"MIPT\"),\n",
    "    (\"3\", \"Natasha\", 27, \"F\", \"SPbSU\"),\n",
    "    (\"4\", \"Pavel\", 30, \"M\", \"MIPT\"),\n",
    "    (\"5\", \"Oleg\", 35, \"M\", \"MIPT\"),\n",
    "    (\"6\", \"Ivan\", 30, \"M\", \"MSU\"),\n",
    "    (\"7\", \"Ilya\", 29, \"M\", \"MSU\")], \n",
    "[\"id\", \"name\", \"age\", \"gender\", \"university\"])"
   ]
  },
  {
   "cell_type": "code",
   "execution_count": 50,
   "metadata": {},
   "outputs": [],
   "source": [
    "edges = spark.createDataFrame([\n",
    "    (\"1\", \"2\", \"friend\"),\n",
    "    (\"2\", \"1\", \"friend\"),\n",
    "    (\"1\", \"3\", \"friend\"),\n",
    "    (\"3\", \"1\", \"friend\"),\n",
    "    (\"1\", \"4\", \"friend\"),\n",
    "    (\"4\", \"1\", \"friend\"),\n",
    "    (\"2\", \"3\", \"friend\"),\n",
    "    (\"3\", \"2\", \"friend\"),\n",
    "    (\"2\", \"5\", \"friend\"),\n",
    "    (\"5\", \"2\", \"friend\"),\n",
    "    (\"3\", \"4\", \"friend\"),\n",
    "    (\"4\", \"3\", \"friend\"),\n",
    "    (\"3\", \"5\", \"friend\"),\n",
    "    (\"5\", \"3\", \"friend\"),\n",
    "    (\"3\", \"6\", \"friend\"),\n",
    "    (\"6\", \"3\", \"friend\"),\n",
    "    (\"3\", \"7\", \"friend\"),\n",
    "    (\"7\", \"3\", \"friend\")\n",
    "], [\"src\", \"dst\", \"relationship\"])"
   ]
  },
  {
   "cell_type": "code",
   "execution_count": 51,
   "metadata": {},
   "outputs": [],
   "source": [
    "g = GraphFrame(vertices, edges)"
   ]
  },
  {
   "cell_type": "code",
   "execution_count": 52,
   "metadata": {},
   "outputs": [
    {
     "name": "stdout",
     "output_type": "stream",
     "text": [
      "+---+-------+---+------+----------+------------------+\n",
      "| id|   name|age|gender|university|          pagerank|\n",
      "+---+-------+---+------+----------+------------------+\n",
      "|  1|   Alex| 28|     M|      MIPT| 1.122938128138013|\n",
      "|  3|Natasha| 27|     F|     SPbSU|2.2125072379360793|\n",
      "|  2|  Emeli| 28|     F|      MIPT| 1.122938128138013|\n",
      "|  4|  Pavel| 30|     M|      MIPT|0.7933962989298501|\n",
      "|  7|   Ilya| 29|     M|       MSU|0.4774119539640973|\n",
      "|  6|   Ivan| 30|     M|       MSU|0.4774119539640973|\n",
      "|  5|   Oleg| 35|     M|      MIPT|0.7933962989298501|\n",
      "+---+-------+---+------+----------+------------------+\n",
      "\n"
     ]
    }
   ],
   "source": [
    "results = g.pageRank(resetProbability=0.15, tol=0.01)\n",
    "results.vertices.show()"
   ]
  },
  {
   "cell_type": "code",
   "execution_count": 20,
   "metadata": {},
   "outputs": [
    {
     "name": "stdout",
     "output_type": "stream",
     "text": [
      "+---+---+------------+-------------------+\n",
      "|src|dst|relationship|             weight|\n",
      "+---+---+------------+-------------------+\n",
      "|  1|  2|      friend| 0.3333333333333333|\n",
      "|  2|  5|      friend| 0.3333333333333333|\n",
      "|  1|  4|      friend| 0.3333333333333333|\n",
      "|  6|  3|      friend|                1.0|\n",
      "|  1|  3|      friend| 0.3333333333333333|\n",
      "|  3|  7|      friend|0.16666666666666666|\n",
      "|  3|  2|      friend|0.16666666666666666|\n",
      "|  3|  6|      friend|0.16666666666666666|\n",
      "|  4|  1|      friend|                0.5|\n",
      "|  5|  3|      friend|                0.5|\n",
      "|  3|  5|      friend|0.16666666666666666|\n",
      "|  5|  2|      friend|                0.5|\n",
      "|  7|  3|      friend|                1.0|\n",
      "|  4|  3|      friend|                0.5|\n",
      "|  2|  1|      friend| 0.3333333333333333|\n",
      "|  3|  4|      friend|0.16666666666666666|\n",
      "|  3|  1|      friend|0.16666666666666666|\n",
      "|  2|  3|      friend| 0.3333333333333333|\n",
      "+---+---+------------+-------------------+\n",
      "\n"
     ]
    }
   ],
   "source": [
    "results.edges.show()"
   ]
  },
  {
   "cell_type": "code",
   "execution_count": 21,
   "metadata": {},
   "outputs": [
    {
     "data": {
      "text/plain": [
       "['DST',\n",
       " 'ID',\n",
       " 'SRC',\n",
       " '_ATTR',\n",
       " '__class__',\n",
       " '__delattr__',\n",
       " '__dict__',\n",
       " '__dir__',\n",
       " '__doc__',\n",
       " '__eq__',\n",
       " '__format__',\n",
       " '__ge__',\n",
       " '__getattribute__',\n",
       " '__gt__',\n",
       " '__hash__',\n",
       " '__init__',\n",
       " '__init_subclass__',\n",
       " '__le__',\n",
       " '__lt__',\n",
       " '__module__',\n",
       " '__ne__',\n",
       " '__new__',\n",
       " '__reduce__',\n",
       " '__reduce_ex__',\n",
       " '__repr__',\n",
       " '__setattr__',\n",
       " '__sizeof__',\n",
       " '__str__',\n",
       " '__subclasshook__',\n",
       " '__weakref__',\n",
       " '_edges',\n",
       " '_jvm_gf_api',\n",
       " '_jvm_graph',\n",
       " '_sc',\n",
       " '_sqlContext',\n",
       " '_vertices',\n",
       " 'aggregateMessages',\n",
       " 'bfs',\n",
       " 'cache',\n",
       " 'connectedComponents',\n",
       " 'degrees',\n",
       " 'dropIsolatedVertices',\n",
       " 'edges',\n",
       " 'filterEdges',\n",
       " 'filterVertices',\n",
       " 'find',\n",
       " 'inDegrees',\n",
       " 'labelPropagation',\n",
       " 'outDegrees',\n",
       " 'pageRank',\n",
       " 'parallelPersonalizedPageRank',\n",
       " 'persist',\n",
       " 'pregel',\n",
       " 'shortestPaths',\n",
       " 'stronglyConnectedComponents',\n",
       " 'svdPlusPlus',\n",
       " 'triangleCount',\n",
       " 'triplets',\n",
       " 'unpersist',\n",
       " 'vertices']"
      ]
     },
     "execution_count": 21,
     "metadata": {},
     "output_type": "execute_result"
    }
   ],
   "source": [
    "dir(g)"
   ]
  },
  {
   "cell_type": "markdown",
   "metadata": {},
   "source": [
    "# Положим реальный граф"
   ]
  },
  {
   "cell_type": "code",
   "execution_count": 53,
   "metadata": {},
   "outputs": [],
   "source": [
    "graphPath = \"/lectures/lecture04/trainGraph\"\n",
    "usersToPredictPath = \"/lectures/lecture04/prediction.csv\""
   ]
  },
  {
   "cell_type": "code",
   "execution_count": 54,
   "metadata": {},
   "outputs": [],
   "source": [
    "from pyspark.sql.types import *\n",
    "\n",
    "schema = StructType(fields=[\n",
    "    StructField(\"user\", IntegerType()),\n",
    "    StructField(\"friendsString\", StringType())\n",
    "])\n",
    "\n",
    "data = spark.read.format(\"csv\") \\\n",
    "        .schema(schema) \\\n",
    "        .option(\"delimiter\", \"\\t\") \\\n",
    "        .load(graphPath) "
   ]
  },
  {
   "cell_type": "code",
   "execution_count": 55,
   "metadata": {},
   "outputs": [],
   "source": [
    "from pyspark.sql.functions import udf\n",
    "from pyspark.sql.functions import col, explode, collect_list, sort_array, size, split\n",
    "\n",
    "\n",
    "def cutStartEndBrackets(s):\n",
    "    return s[2:-2]\n",
    "\n",
    "cutStartEndBracketsUDF = udf(cutStartEndBrackets, StringType())\n",
    "\n",
    "userFriend = \\\n",
    "    data.select(col(\"user\"), split(cutStartEndBracketsUDF(col(\"friendsString\")), \"\\),\\(\").alias(\"friendsMasks\"))\\\n",
    "    .withColumn(\"friendMask\", explode('friendsMasks'))\\\n",
    "    .withColumn(\"dst\", split(col(\"friendMask\"), \",\")[0])\\\n",
    "    .withColumn(\"src\", col(\"user\"))\\\n",
    "    .select(col(\"src\").cast(\"integer\"), col(\"dst\").cast(\"integer\"))\n",
    "\n",
    "userFriendSymmetric = \\\n",
    "    userFriend\\\n",
    "        .withColumn(\"tmp\", col(\"src\"))\\\n",
    "        .withColumn(\"src\", col(\"dst\"))\\\n",
    "        .withColumn(\"dst\", col(\"tmp\"))\\\n",
    "        .select(\"src\", \"dst\")\n",
    "        \n",
    "edges = userFriend.unionAll(userFriendSymmetric)\n",
    "\n",
    "vertices = edges.select(col(\"src\").alias(\"id\")).distinct()"
   ]
  },
  {
   "cell_type": "code",
   "execution_count": 56,
   "metadata": {},
   "outputs": [],
   "source": [
    "from graphframes import * \n",
    "\n",
    "g = GraphFrame(vertices, edges)"
   ]
  },
  {
   "cell_type": "code",
   "execution_count": 29,
   "metadata": {},
   "outputs": [
    {
     "data": {
      "text/plain": [
       "319719"
      ]
     },
     "execution_count": 29,
     "metadata": {},
     "output_type": "execute_result"
    }
   ],
   "source": [
    "g.inDegrees.filter(\"inDegree > 20\").count()"
   ]
  },
  {
   "cell_type": "code",
   "execution_count": 33,
   "metadata": {},
   "outputs": [],
   "source": [
    "spark.stop()"
   ]
  },
  {
   "cell_type": "code",
   "execution_count": null,
   "metadata": {},
   "outputs": [],
   "source": []
  }
 ],
 "metadata": {
  "kernelspec": {
   "display_name": "Python 3",
   "language": "python",
   "name": "python3"
  },
  "language_info": {
   "codemirror_mode": {
    "name": "ipython",
    "version": 3
   },
   "file_extension": ".py",
   "mimetype": "text/x-python",
   "name": "python",
   "nbconvert_exporter": "python",
   "pygments_lexer": "ipython3",
   "version": "3.6.5"
  }
 },
 "nbformat": 4,
 "nbformat_minor": 2
}
