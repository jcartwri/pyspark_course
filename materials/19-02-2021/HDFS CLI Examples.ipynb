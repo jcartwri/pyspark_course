{
 "cells": [
  {
   "cell_type": "code",
   "execution_count": 27,
   "metadata": {},
   "outputs": [
    {
     "name": "stdout",
     "output_type": "stream",
     "text": [
      "/data/home/egor.mateshuk\r\n"
     ]
    }
   ],
   "source": [
    "! pwd"
   ]
  },
  {
   "cell_type": "code",
   "execution_count": 28,
   "metadata": {},
   "outputs": [
    {
     "name": "stdout",
     "output_type": "stream",
     "text": [
      "Found 15 items\n",
      "drwxrwxrwt   - yarn   hadoop          0 2021-02-18 17:33 /app-logs\n",
      "drwxr-xr-x   - hdfs   hdfs            0 2020-09-02 18:37 /apps\n",
      "drwxr-xr-x   - yarn   hadoop          0 2020-09-02 18:13 /ats\n",
      "drwxr-xr-x   - hdfs   hdfs            0 2020-09-02 18:14 /atsv2\n",
      "drwxr-xr-x   - hdfs   hdfs            0 2020-09-02 18:13 /hdp\n",
      "drwxr-xr-x   - hdfs   hdfs            0 2020-09-30 20:11 /labs\n",
      "drwxr-xr-x   - mapred hdfs            0 2020-09-02 18:13 /mapred\n",
      "drwxr-xr-x   - hdfs   hdfs            0 2020-10-25 18:30 /mf-labs\n",
      "drwxrwxrwx   - mapred hadoop          0 2020-09-02 18:14 /mr-history\n",
      "drwxr-xr-x   - hdfs   hdfs            0 2020-09-02 18:13 /ranger\n",
      "drwxr-xr-x   - hdfs   hdfs            0 2020-09-02 18:14 /services\n",
      "drwxrwxrwx   - spark  hadoop          0 2021-02-19 16:27 /spark2-history\n",
      "drwxrwxrwx   - hdfs   hdfs            0 2021-02-16 20:53 /tmp\n",
      "drwxr-xr-x   - hdfs   hdfs            0 2021-02-18 12:45 /user\n",
      "drwxr-xr-x   - hdfs   hdfs            0 2020-09-02 18:16 /warehouse\n"
     ]
    }
   ],
   "source": [
    "! hdfs dfs -ls /"
   ]
  },
  {
   "cell_type": "code",
   "execution_count": 32,
   "metadata": {},
   "outputs": [
    {
     "name": "stdout",
     "output_type": "stream",
     "text": [
      "Found 15 items\n",
      "drwxrwxrwt   - yarn   hadoop          0 2021-02-18 17:33 /app-logs\n",
      "drwxr-xr-x   - hdfs   hdfs            0 2020-09-02 18:37 /apps\n",
      "drwxr-xr-x   - yarn   hadoop          0 2020-09-02 18:13 /ats\n",
      "drwxr-xr-x   - hdfs   hdfs            0 2020-09-02 18:14 /atsv2\n",
      "drwxr-xr-x   - hdfs   hdfs            0 2020-09-02 18:13 /hdp\n",
      "drwxr-xr-x   - hdfs   hdfs            0 2020-09-30 20:11 /labs\n",
      "drwxr-xr-x   - mapred hdfs            0 2020-09-02 18:13 /mapred\n",
      "drwxr-xr-x   - hdfs   hdfs            0 2020-10-25 18:30 /mf-labs\n",
      "drwxrwxrwx   - mapred hadoop          0 2020-09-02 18:14 /mr-history\n",
      "drwxr-xr-x   - hdfs   hdfs            0 2020-09-02 18:13 /ranger\n",
      "drwxr-xr-x   - hdfs   hdfs            0 2020-09-02 18:14 /services\n",
      "drwxrwxrwx   - spark  hadoop          0 2021-02-19 16:27 /spark2-history\n",
      "drwxrwxrwx   - hdfs   hdfs            0 2021-02-16 20:53 /tmp\n",
      "drwxr-xr-x   - hdfs   hdfs            0 2021-02-18 12:45 /user\n",
      "drwxr-xr-x   - hdfs   hdfs            0 2020-09-02 18:16 /warehouse\n"
     ]
    }
   ],
   "source": [
    "! hadoop fs -ls /"
   ]
  },
  {
   "cell_type": "code",
   "execution_count": 33,
   "metadata": {},
   "outputs": [],
   "source": [
    "! hdfs dfs -mkdir /tmp/hdfs-cli-example"
   ]
  },
  {
   "cell_type": "code",
   "execution_count": 34,
   "metadata": {},
   "outputs": [],
   "source": [
    "! hdfs dfs -ls /tmp/hdfs-cli-example"
   ]
  },
  {
   "cell_type": "code",
   "execution_count": 35,
   "metadata": {},
   "outputs": [],
   "source": [
    "! echo \"Hadoop is awesome!\" > example.txt"
   ]
  },
  {
   "cell_type": "code",
   "execution_count": 36,
   "metadata": {},
   "outputs": [
    {
     "name": "stdout",
     "output_type": "stream",
     "text": [
      "Hadoop is awesome!\r\n"
     ]
    }
   ],
   "source": [
    "! cat example.txt"
   ]
  },
  {
   "cell_type": "code",
   "execution_count": 37,
   "metadata": {},
   "outputs": [],
   "source": [
    "! hdfs dfs -put example.txt /tmp/hdfs-cli-example/"
   ]
  },
  {
   "cell_type": "code",
   "execution_count": 38,
   "metadata": {},
   "outputs": [
    {
     "name": "stdout",
     "output_type": "stream",
     "text": [
      "Found 1 items\r\n",
      "-rw-r--r--   3 egor.mateshuk hdfs         19 2021-02-19 21:09 /tmp/hdfs-cli-example/example.txt\r\n"
     ]
    }
   ],
   "source": [
    "! hdfs dfs -ls /tmp/hdfs-cli-example"
   ]
  },
  {
   "cell_type": "code",
   "execution_count": 39,
   "metadata": {},
   "outputs": [
    {
     "name": "stdout",
     "output_type": "stream",
     "text": [
      "Hadoop is awesome!\r\n"
     ]
    }
   ],
   "source": [
    "! hdfs dfs -cat /tmp/hdfs-cli-example/example.txt"
   ]
  },
  {
   "cell_type": "code",
   "execution_count": 40,
   "metadata": {},
   "outputs": [],
   "source": [
    "! hdfs dfs -cp /tmp/hdfs-cli-example/example.txt /tmp/hdfs-cli-example/example2.txt"
   ]
  },
  {
   "cell_type": "code",
   "execution_count": 41,
   "metadata": {},
   "outputs": [
    {
     "name": "stdout",
     "output_type": "stream",
     "text": [
      "Found 2 items\r\n",
      "-rw-r--r--   3 egor.mateshuk hdfs         19 2021-02-19 21:09 /tmp/hdfs-cli-example/example.txt\r\n",
      "-rw-r--r--   3 egor.mateshuk hdfs         19 2021-02-19 21:10 /tmp/hdfs-cli-example/example2.txt\r\n"
     ]
    }
   ],
   "source": [
    "! hdfs dfs -ls /tmp/hdfs-cli-example"
   ]
  },
  {
   "cell_type": "code",
   "execution_count": 42,
   "metadata": {},
   "outputs": [],
   "source": [
    "! hdfs dfs -get /tmp/hdfs-cli-example/example2.txt ./"
   ]
  },
  {
   "cell_type": "code",
   "execution_count": 43,
   "metadata": {},
   "outputs": [
    {
     "name": "stdout",
     "output_type": "stream",
     "text": [
      " example2.txt  'HDFS CLI Examples.ipynb'   never_lyrics.txt\r\n",
      " example.txt   'MapReduce Example.ipynb'\r\n"
     ]
    }
   ],
   "source": [
    "! ls"
   ]
  },
  {
   "cell_type": "code",
   "execution_count": 44,
   "metadata": {},
   "outputs": [
    {
     "name": "stdout",
     "output_type": "stream",
     "text": [
      "19  57  /tmp/hdfs-cli-example/example.txt\r\n"
     ]
    }
   ],
   "source": [
    "! hdfs dfs -du -h /tmp/hdfs-cli-example/example.txt"
   ]
  },
  {
   "cell_type": "code",
   "execution_count": 45,
   "metadata": {},
   "outputs": [
    {
     "name": "stdout",
     "output_type": "stream",
     "text": [
      "Connecting to namenode via http://spark-de-master-1.newprolab.com:50070/fsck?ugi=egor.mateshuk&files=1&blocks=1&locations=1&path=%2Ftmp%2Fhdfs-cli-example%2Fexample.txt\n",
      "FSCK started by egor.mateshuk (auth:SIMPLE) from /10.0.0.3 for path /tmp/hdfs-cli-example/example.txt at Fri Feb 19 21:11:45 MSK 2021\n",
      "/tmp/hdfs-cli-example/example.txt 19 bytes, replicated: replication=3, 1 block(s):  OK\n",
      "0. BP-1737030437-10.0.0.3-1599059597905:blk_1076552476_2812450 len=19 Live_repl=3  [DatanodeInfoWithStorage[10.0.0.41:50010,DS-a7ea9bd0-6219-4830-ae9e-905577494de0,DISK], DatanodeInfoWithStorage[10.0.0.31:50010,DS-9360c49b-6606-4789-8305-9a9f4b5ceb64,DISK], DatanodeInfoWithStorage[10.0.0.3:50010,DS-d6c1ecbb-99e1-48ec-a63a-0382e2a440d0,DISK]]\n",
      "\n",
      "\n",
      "Status: HEALTHY\n",
      " Number of data-nodes:\t7\n",
      " Number of racks:\t\t1\n",
      " Total dirs:\t\t\t0\n",
      " Total symlinks:\t\t0\n",
      "\n",
      "Replicated Blocks:\n",
      " Total size:\t19 B\n",
      " Total files:\t1\n",
      " Total blocks (validated):\t1 (avg. block size 19 B)\n",
      " Minimally replicated blocks:\t1 (100.0 %)\n",
      " Over-replicated blocks:\t0 (0.0 %)\n",
      " Under-replicated blocks:\t0 (0.0 %)\n",
      " Mis-replicated blocks:\t\t0 (0.0 %)\n",
      " Default replication factor:\t3\n",
      " Average block replication:\t3.0\n",
      " Missing blocks:\t\t0\n",
      " Corrupt blocks:\t\t0\n",
      " Missing replicas:\t\t0 (0.0 %)\n",
      "\n",
      "Erasure Coded Block Groups:\n",
      " Total size:\t0 B\n",
      " Total files:\t0\n",
      " Total block groups (validated):\t0\n",
      " Minimally erasure-coded block groups:\t0\n",
      " Over-erasure-coded block groups:\t0\n",
      " Under-erasure-coded block groups:\t0\n",
      " Unsatisfactory placement block groups:\t0\n",
      " Average block group size:\t0.0\n",
      " Missing block groups:\t\t0\n",
      " Corrupt block groups:\t\t0\n",
      " Missing internal blocks:\t0\n",
      "FSCK ended at Fri Feb 19 21:11:45 MSK 2021 in 2 milliseconds\n",
      "\n",
      "\n",
      "The filesystem under path '/tmp/hdfs-cli-example/example.txt' is HEALTHY\n"
     ]
    }
   ],
   "source": [
    "! hdfs fsck /tmp/hdfs-cli-example/example.txt -files -blocks -locations"
   ]
  },
  {
   "cell_type": "code",
   "execution_count": 46,
   "metadata": {},
   "outputs": [],
   "source": [
    "! rm example.txt example2.txt"
   ]
  },
  {
   "cell_type": "code",
   "execution_count": 47,
   "metadata": {},
   "outputs": [
    {
     "name": "stdout",
     "output_type": "stream",
     "text": [
      "21/02/19 21:13:04 INFO fs.TrashPolicyDefault: Moved: 'hdfs://spark-de-master-1.newprolab.com:8020/tmp/hdfs-cli-example' to trash at: hdfs://spark-de-master-1.newprolab.com:8020/user/egor.mateshuk/.Trash/Current/tmp/hdfs-cli-example\r\n"
     ]
    }
   ],
   "source": [
    "! hdfs dfs -rm -r /tmp/hdfs-cli-example"
   ]
  },
  {
   "cell_type": "code",
   "execution_count": 48,
   "metadata": {},
   "outputs": [
    {
     "name": "stdout",
     "output_type": "stream",
     "text": [
      "capacity-scheduler.xml\t       ranger-security.xml\r\n",
      "commons-logging.properties     ranger-yarn-audit.xml\r\n",
      "configuration.xsl\t       ranger-yarn-security.xml\r\n",
      "container-executor.cfg\t       resource-types.xml\r\n",
      "core-site.xml\t\t       secure\r\n",
      "dfs.exclude\t\t       slaves\r\n",
      "embedded-yarn-ats-hbase        ssl-client.xml\r\n",
      "hadoop-env.cmd\t\t       ssl-client.xml.example\r\n",
      "hadoop-env.sh\t\t       ssl-server.xml\r\n",
      "hadoop-metrics2.properties     ssl-server.xml.example\r\n",
      "hadoop-policy.xml\t       taskcontroller.cfg\r\n",
      "hdfs-site.xml\t\t       task-log4j.properties\r\n",
      "health_check\t\t       topology_mappings.data\r\n",
      "log4j.properties\t       topology_script.py\r\n",
      "mapred-env.sh\t\t       workers\r\n",
      "mapred-site.xml\t\t       yarn-env.sh\r\n",
      "ranger-hdfs-audit.xml\t       yarn.exclude\r\n",
      "ranger-hdfs-security.xml       yarnservice-log4j.properties\r\n",
      "ranger-policymgr-ssl.xml       yarn-site.xml\r\n",
      "ranger-policymgr-ssl-yarn.xml\r\n"
     ]
    }
   ],
   "source": [
    "! ls /etc/hadoop/conf"
   ]
  },
  {
   "cell_type": "code",
   "execution_count": null,
   "metadata": {},
   "outputs": [],
   "source": []
  }
 ],
 "metadata": {
  "kernelspec": {
   "display_name": "Python 3",
   "language": "python",
   "name": "python3"
  },
  "language_info": {
   "codemirror_mode": {
    "name": "ipython",
    "version": 3
   },
   "file_extension": ".py",
   "mimetype": "text/x-python",
   "name": "python",
   "nbconvert_exporter": "python",
   "pygments_lexer": "ipython3",
   "version": "3.6.5"
  }
 },
 "nbformat": 4,
 "nbformat_minor": 2
}
